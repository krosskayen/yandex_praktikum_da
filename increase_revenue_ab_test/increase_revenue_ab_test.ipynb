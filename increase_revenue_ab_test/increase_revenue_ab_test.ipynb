{
 "cells": [
  {
   "cell_type": "markdown",
   "metadata": {
    "toc": true
   },
   "source": [
    "<h1>Содержание<span class=\"tocSkip\"></span></h1>\n",
    "<div class=\"toc\"><ul class=\"toc-item\"><li><span><a href=\"#Описание-проекта\" data-toc-modified-id=\"Описание-проекта-1\"><span class=\"toc-item-num\">1&nbsp;&nbsp;</span>Описание проекта</a></span></li><li><span><a href=\"#Изучение-и-предварительная-подготовка-данных-в-анализу\" data-toc-modified-id=\"Изучение-и-предварительная-подготовка-данных-в-анализу-2\"><span class=\"toc-item-num\">2&nbsp;&nbsp;</span>Изучение и предварительная подготовка данных в анализу</a></span></li><li><span><a href=\"#Приоритизация-гипотез\" data-toc-modified-id=\"Приоритизация-гипотез-3\"><span class=\"toc-item-num\">3&nbsp;&nbsp;</span>Приоритизация гипотез</a></span><ul class=\"toc-item\"><li><span><a href=\"#Фреймворк-ICE-для-приоритизации-гипотез\" data-toc-modified-id=\"Фреймворк-ICE-для-приоритизации-гипотез-3.1\"><span class=\"toc-item-num\">3.1&nbsp;&nbsp;</span>Фреймворк ICE для приоритизации гипотез</a></span></li><li><span><a href=\"#Фреймворк-RICE-для-приоритизации-гипотез\" data-toc-modified-id=\"Фреймворк-RICE-для-приоритизации-гипотез-3.2\"><span class=\"toc-item-num\">3.2&nbsp;&nbsp;</span>Фреймворк RICE для приоритизации гипотез</a></span></li><li><span><a href=\"#Вывод\" data-toc-modified-id=\"Вывод-3.3\"><span class=\"toc-item-num\">3.3&nbsp;&nbsp;</span>Вывод</a></span></li></ul></li><li><span><a href=\"#Анализ-результатов-A/B-теста\" data-toc-modified-id=\"Анализ-результатов-A/B-теста-4\"><span class=\"toc-item-num\">4&nbsp;&nbsp;</span>Анализ результатов A/B-теста</a></span><ul class=\"toc-item\"><li><span><a href=\"#Подготовка-данных\" data-toc-modified-id=\"Подготовка-данных-4.1\"><span class=\"toc-item-num\">4.1&nbsp;&nbsp;</span>Подготовка данных</a></span></li><li><span><a href=\"#Графики\" data-toc-modified-id=\"Графики-4.2\"><span class=\"toc-item-num\">4.2&nbsp;&nbsp;</span>Графики</a></span><ul class=\"toc-item\"><li><span><a href=\"#График-кумулятивной-выручки-по-группам\" data-toc-modified-id=\"График-кумулятивной-выручки-по-группам-4.2.1\"><span class=\"toc-item-num\">4.2.1&nbsp;&nbsp;</span>График кумулятивной выручки по группам</a></span></li><li><span><a href=\"#График-кумулятивного-среднего-чека-по-группам\" data-toc-modified-id=\"График-кумулятивного-среднего-чека-по-группам-4.2.2\"><span class=\"toc-item-num\">4.2.2&nbsp;&nbsp;</span>График кумулятивного среднего чека по группам</a></span></li><li><span><a href=\"#График-относительного-изменения-кумулятивного-среднего-чека-группы-B-к-группе-A\" data-toc-modified-id=\"График-относительного-изменения-кумулятивного-среднего-чека-группы-B-к-группе-A-4.2.3\"><span class=\"toc-item-num\">4.2.3&nbsp;&nbsp;</span>График относительного изменения кумулятивного среднего чека группы B к группе A</a></span></li><li><span><a href=\"#График-кумулятивной-конверсии-по-группам\" data-toc-modified-id=\"График-кумулятивной-конверсии-по-группам-4.2.4\"><span class=\"toc-item-num\">4.2.4&nbsp;&nbsp;</span>График кумулятивной конверсии по группам</a></span></li><li><span><a href=\"#График-относительного-изменения-кумулятивной-конверсии-группы-B-к-группе-A\" data-toc-modified-id=\"График-относительного-изменения-кумулятивной-конверсии-группы-B-к-группе-A-4.2.5\"><span class=\"toc-item-num\">4.2.5&nbsp;&nbsp;</span>График относительного изменения кумулятивной конверсии группы B к группе A</a></span></li></ul></li><li><span><a href=\"#Работа-с-аномальными-значениями\" data-toc-modified-id=\"Работа-с-аномальными-значениями-4.3\"><span class=\"toc-item-num\">4.3&nbsp;&nbsp;</span>Работа с аномальными значениями</a></span><ul class=\"toc-item\"><li><span><a href=\"#График-количества-заказов-по-пользователям,-аномальные-пользователи\" data-toc-modified-id=\"График-количества-заказов-по-пользователям,-аномальные-пользователи-4.3.1\"><span class=\"toc-item-num\">4.3.1&nbsp;&nbsp;</span>График количества заказов по пользователям, аномальные пользователи</a></span></li><li><span><a href=\"#График-стоимости-заказов,-аномальные-заказы\" data-toc-modified-id=\"График-стоимости-заказов,-аномальные-заказы-4.3.2\"><span class=\"toc-item-num\">4.3.2&nbsp;&nbsp;</span>График стоимости заказов, аномальные заказы</a></span></li></ul></li><li><span><a href=\"#Проверка-статистических-параметров-различий\" data-toc-modified-id=\"Проверка-статистических-параметров-различий-4.4\"><span class=\"toc-item-num\">4.4&nbsp;&nbsp;</span>Проверка статистических параметров различий</a></span><ul class=\"toc-item\"><li><span><a href=\"#Различия-в-конверсии-между-группами-по-&quot;сырым&quot;-данным\" data-toc-modified-id=\"Различия-в-конверсии-между-группами-по-&quot;сырым&quot;-данным-4.4.1\"><span class=\"toc-item-num\">4.4.1&nbsp;&nbsp;</span>Различия в конверсии между группами по \"сырым\" данным</a></span></li><li><span><a href=\"#Различия-в-среднем-чеке-заказа-между-группами-по-&quot;сырым&quot;-данным\" data-toc-modified-id=\"Различия-в-среднем-чеке-заказа-между-группами-по-&quot;сырым&quot;-данным-4.4.2\"><span class=\"toc-item-num\">4.4.2&nbsp;&nbsp;</span>Различия в среднем чеке заказа между группами по \"сырым\" данным</a></span></li><li><span><a href=\"#&quot;Очистка&quot;-данных-для-дальнейшего-исследования-статистических-различий\" data-toc-modified-id=\"&quot;Очистка&quot;-данных-для-дальнейшего-исследования-статистических-различий-4.4.3\"><span class=\"toc-item-num\">4.4.3&nbsp;&nbsp;</span>\"Очистка\" данных для дальнейшего исследования статистических различий</a></span></li><li><span><a href=\"#Различия-в-конверсии-между-группами-по-&quot;очищенным&quot;-данным\" data-toc-modified-id=\"Различия-в-конверсии-между-группами-по-&quot;очищенным&quot;-данным-4.4.4\"><span class=\"toc-item-num\">4.4.4&nbsp;&nbsp;</span>Различия в конверсии между группами по \"очищенным\" данным</a></span></li><li><span><a href=\"#Различия-в-среднем-чеке-заказа-между-группами-по-&quot;очищенным&quot;-данным\" data-toc-modified-id=\"Различия-в-среднем-чеке-заказа-между-группами-по-&quot;очищенным&quot;-данным-4.4.5\"><span class=\"toc-item-num\">4.4.5&nbsp;&nbsp;</span>Различия в среднем чеке заказа между группами по \"очищенным\" данным</a></span></li></ul></li><li><span><a href=\"#Решение-по-результатам-теста\" data-toc-modified-id=\"Решение-по-результатам-теста-4.5\"><span class=\"toc-item-num\">4.5&nbsp;&nbsp;</span>Решение по результатам теста</a></span></li></ul></li></ul></div>"
   ]
  },
  {
   "cell_type": "markdown",
   "metadata": {},
   "source": [
    "## Описание проекта\n",
    "\n",
    "Вы — аналитик крупного интернет-магазина. Вместе с отделом маркетинга вы подготовили список гипотез для увеличения выручки.\n",
    "Приоритизируйте гипотезы, запустите A/B-тест и проанализируйте результаты."
   ]
  },
  {
   "cell_type": "markdown",
   "metadata": {},
   "source": [
    "## Изучение и предварительная подготовка данных в анализу"
   ]
  },
  {
   "cell_type": "code",
   "execution_count": 1,
   "metadata": {},
   "outputs": [],
   "source": [
    "# импортирование необходимых библиотек\n",
    "import pandas as pd\n",
    "import matplotlib.pyplot as plt\n",
    "from pandas.plotting import register_matplotlib_converters\n",
    "import scipy.stats as stats\n",
    "import datetime as dt\n",
    "import math as mth\n",
    "import numpy as np\n",
    "import seaborn as sns\n",
    "from matplotlib import rcParams\n",
    "sns.set_style(\"whitegrid\")\n",
    "%config InlineBackend.figure_format='retina'\n",
    "%matplotlib inline\n",
    "\n",
    "import warnings\n",
    "warnings.filterwarnings(action='ignore')\n",
    "\n",
    "# укажем автоматическое округление формата float до 3 цифр после запятой\n",
    "pd.set_option('display.float_format', lambda x: '%.3f' % x)\n",
    "\n",
    "# укажем стандартные размеры графиков в дюймах\n",
    "rcParams['figure.figsize'] = 13, 6.8\n",
    "\n",
    "# снимем ограничение на количество отображаемых столбцов\n",
    "pd.set_option('display.max_columns', None)\n",
    "\n",
    "# увеличим ограничение на количество отображаемых символов в таблице\n",
    "pd.options.display.max_colwidth = 150"
   ]
  },
  {
   "cell_type": "markdown",
   "metadata": {},
   "source": [
    "Загрузим предоставленные данные о посетителях, заказах и гипотезах, сохраним их в соответствующие переменные."
   ]
  },
  {
   "cell_type": "code",
   "execution_count": 2,
   "metadata": {},
   "outputs": [],
   "source": [
    "visitors = pd.read_csv('visitors.csv')\n",
    "orders = pd.read_csv('orders.csv')\n",
    "hypothesis = pd.read_csv('hypothesis.csv')"
   ]
  },
  {
   "cell_type": "markdown",
   "metadata": {},
   "source": [
    "К предоставленным файлам имеется следующее описание содержащихся в них даных.\n",
    "\n",
    "Таблица `hypothesis` (информация с гипотезами по увеличению выручки интернет-магазина):\n",
    "- `Hypothesis` — краткое описание гипотезы;\n",
    "- `Reach` — охват пользователей по 10-балльной шкале;\n",
    "- `Impact` — влияние на пользователей по 10-балльной шкале;\n",
    "- `Confidence` — уверенность в гипотезе по 10-балльной шкале;\n",
    "- `Efforts` — затраты ресурсов на проверку гипотезы по 10-балльной шкале (чем больше значение Efforts, тем дороже проверка гипотезы).\n",
    "\n",
    "Таблица `orders` (информация о заказах в соответствующей группе):\n",
    "- `transactionId` — идентификатор заказа;\n",
    "- `visitorId` — идентификатор пользователя, совершившего заказ;\n",
    "- `date` — дата, когда был совершён заказ;\n",
    "- `revenue` — выручка заказа;\n",
    "- `group` — группа A/B-теста, в которую попал заказ.\n",
    "\n",
    "Таблица `visitors` (информация о пользователях в соответствующей группе):\n",
    "- `date` — дата;\n",
    "- `group` — группа A/B-теста;\n",
    "- `visitors` — количество пользователей в указанную дату в указанной группе A/B-теста."
   ]
  },
  {
   "cell_type": "markdown",
   "metadata": {},
   "source": [
    "Создадим функцию, которая:\n",
    "1) преобразует названия столбцов на более корректные, уберет лишние пробелы и приведет их к нижнему регистру;  \n",
    "2) выведет типы файлов, которые содержатся в предоставленных таблицах;  \n",
    "3) выведет информацию о наличии явных дубликатов.  "
   ]
  },
  {
   "cell_type": "code",
   "execution_count": 3,
   "metadata": {},
   "outputs": [],
   "source": [
    "def simple_info(df):\n",
    "    df.columns = df.columns.str.replace(' ', '_').str.lower()\n",
    "    df.describe(), df.info()\n",
    "    print()\n",
    "    print(f'В предоставленных данных имеется {df.duplicated().sum()} дубликатов')\n",
    "    display(df.head())"
   ]
  },
  {
   "cell_type": "markdown",
   "metadata": {},
   "source": [
    "Применим функцию к каждой из таблиц и ознакомимся с данными подробнее."
   ]
  },
  {
   "cell_type": "code",
   "execution_count": 4,
   "metadata": {
    "scrolled": false
   },
   "outputs": [
    {
     "name": "stdout",
     "output_type": "stream",
     "text": [
      "<class 'pandas.core.frame.DataFrame'>\n",
      "RangeIndex: 62 entries, 0 to 61\n",
      "Data columns (total 3 columns):\n",
      " #   Column    Non-Null Count  Dtype \n",
      "---  ------    --------------  ----- \n",
      " 0   date      62 non-null     object\n",
      " 1   group     62 non-null     object\n",
      " 2   visitors  62 non-null     int64 \n",
      "dtypes: int64(1), object(2)\n",
      "memory usage: 1.6+ KB\n",
      "\n",
      "В предоставленных данных имеется 0 дубликатов\n"
     ]
    },
    {
     "data": {
      "text/html": [
       "<div>\n",
       "<style scoped>\n",
       "    .dataframe tbody tr th:only-of-type {\n",
       "        vertical-align: middle;\n",
       "    }\n",
       "\n",
       "    .dataframe tbody tr th {\n",
       "        vertical-align: top;\n",
       "    }\n",
       "\n",
       "    .dataframe thead th {\n",
       "        text-align: right;\n",
       "    }\n",
       "</style>\n",
       "<table border=\"1\" class=\"dataframe\">\n",
       "  <thead>\n",
       "    <tr style=\"text-align: right;\">\n",
       "      <th></th>\n",
       "      <th>date</th>\n",
       "      <th>group</th>\n",
       "      <th>visitors</th>\n",
       "    </tr>\n",
       "  </thead>\n",
       "  <tbody>\n",
       "    <tr>\n",
       "      <th>0</th>\n",
       "      <td>2019-08-01</td>\n",
       "      <td>A</td>\n",
       "      <td>719</td>\n",
       "    </tr>\n",
       "    <tr>\n",
       "      <th>1</th>\n",
       "      <td>2019-08-02</td>\n",
       "      <td>A</td>\n",
       "      <td>619</td>\n",
       "    </tr>\n",
       "    <tr>\n",
       "      <th>2</th>\n",
       "      <td>2019-08-03</td>\n",
       "      <td>A</td>\n",
       "      <td>507</td>\n",
       "    </tr>\n",
       "    <tr>\n",
       "      <th>3</th>\n",
       "      <td>2019-08-04</td>\n",
       "      <td>A</td>\n",
       "      <td>717</td>\n",
       "    </tr>\n",
       "    <tr>\n",
       "      <th>4</th>\n",
       "      <td>2019-08-05</td>\n",
       "      <td>A</td>\n",
       "      <td>756</td>\n",
       "    </tr>\n",
       "  </tbody>\n",
       "</table>\n",
       "</div>"
      ],
      "text/plain": [
       "         date group  visitors\n",
       "0  2019-08-01     A       719\n",
       "1  2019-08-02     A       619\n",
       "2  2019-08-03     A       507\n",
       "3  2019-08-04     A       717\n",
       "4  2019-08-05     A       756"
      ]
     },
     "metadata": {},
     "output_type": "display_data"
    },
    {
     "name": "stdout",
     "output_type": "stream",
     "text": [
      "<class 'pandas.core.frame.DataFrame'>\n",
      "RangeIndex: 1197 entries, 0 to 1196\n",
      "Data columns (total 5 columns):\n",
      " #   Column         Non-Null Count  Dtype \n",
      "---  ------         --------------  ----- \n",
      " 0   transactionid  1197 non-null   int64 \n",
      " 1   visitorid      1197 non-null   int64 \n",
      " 2   date           1197 non-null   object\n",
      " 3   revenue        1197 non-null   int64 \n",
      " 4   group          1197 non-null   object\n",
      "dtypes: int64(3), object(2)\n",
      "memory usage: 46.9+ KB\n",
      "\n",
      "В предоставленных данных имеется 0 дубликатов\n"
     ]
    },
    {
     "data": {
      "text/html": [
       "<div>\n",
       "<style scoped>\n",
       "    .dataframe tbody tr th:only-of-type {\n",
       "        vertical-align: middle;\n",
       "    }\n",
       "\n",
       "    .dataframe tbody tr th {\n",
       "        vertical-align: top;\n",
       "    }\n",
       "\n",
       "    .dataframe thead th {\n",
       "        text-align: right;\n",
       "    }\n",
       "</style>\n",
       "<table border=\"1\" class=\"dataframe\">\n",
       "  <thead>\n",
       "    <tr style=\"text-align: right;\">\n",
       "      <th></th>\n",
       "      <th>transactionid</th>\n",
       "      <th>visitorid</th>\n",
       "      <th>date</th>\n",
       "      <th>revenue</th>\n",
       "      <th>group</th>\n",
       "    </tr>\n",
       "  </thead>\n",
       "  <tbody>\n",
       "    <tr>\n",
       "      <th>0</th>\n",
       "      <td>3667963787</td>\n",
       "      <td>3312258926</td>\n",
       "      <td>2019-08-15</td>\n",
       "      <td>1650</td>\n",
       "      <td>B</td>\n",
       "    </tr>\n",
       "    <tr>\n",
       "      <th>1</th>\n",
       "      <td>2804400009</td>\n",
       "      <td>3642806036</td>\n",
       "      <td>2019-08-15</td>\n",
       "      <td>730</td>\n",
       "      <td>B</td>\n",
       "    </tr>\n",
       "    <tr>\n",
       "      <th>2</th>\n",
       "      <td>2961555356</td>\n",
       "      <td>4069496402</td>\n",
       "      <td>2019-08-15</td>\n",
       "      <td>400</td>\n",
       "      <td>A</td>\n",
       "    </tr>\n",
       "    <tr>\n",
       "      <th>3</th>\n",
       "      <td>3797467345</td>\n",
       "      <td>1196621759</td>\n",
       "      <td>2019-08-15</td>\n",
       "      <td>9759</td>\n",
       "      <td>B</td>\n",
       "    </tr>\n",
       "    <tr>\n",
       "      <th>4</th>\n",
       "      <td>2282983706</td>\n",
       "      <td>2322279887</td>\n",
       "      <td>2019-08-15</td>\n",
       "      <td>2308</td>\n",
       "      <td>B</td>\n",
       "    </tr>\n",
       "  </tbody>\n",
       "</table>\n",
       "</div>"
      ],
      "text/plain": [
       "   transactionid   visitorid        date  revenue group\n",
       "0     3667963787  3312258926  2019-08-15     1650     B\n",
       "1     2804400009  3642806036  2019-08-15      730     B\n",
       "2     2961555356  4069496402  2019-08-15      400     A\n",
       "3     3797467345  1196621759  2019-08-15     9759     B\n",
       "4     2282983706  2322279887  2019-08-15     2308     B"
      ]
     },
     "metadata": {},
     "output_type": "display_data"
    },
    {
     "name": "stdout",
     "output_type": "stream",
     "text": [
      "<class 'pandas.core.frame.DataFrame'>\n",
      "RangeIndex: 9 entries, 0 to 8\n",
      "Data columns (total 5 columns):\n",
      " #   Column      Non-Null Count  Dtype \n",
      "---  ------      --------------  ----- \n",
      " 0   hypothesis  9 non-null      object\n",
      " 1   reach       9 non-null      int64 \n",
      " 2   impact      9 non-null      int64 \n",
      " 3   confidence  9 non-null      int64 \n",
      " 4   efforts     9 non-null      int64 \n",
      "dtypes: int64(4), object(1)\n",
      "memory usage: 488.0+ bytes\n",
      "\n",
      "В предоставленных данных имеется 0 дубликатов\n"
     ]
    },
    {
     "data": {
      "text/html": [
       "<div>\n",
       "<style scoped>\n",
       "    .dataframe tbody tr th:only-of-type {\n",
       "        vertical-align: middle;\n",
       "    }\n",
       "\n",
       "    .dataframe tbody tr th {\n",
       "        vertical-align: top;\n",
       "    }\n",
       "\n",
       "    .dataframe thead th {\n",
       "        text-align: right;\n",
       "    }\n",
       "</style>\n",
       "<table border=\"1\" class=\"dataframe\">\n",
       "  <thead>\n",
       "    <tr style=\"text-align: right;\">\n",
       "      <th></th>\n",
       "      <th>hypothesis</th>\n",
       "      <th>reach</th>\n",
       "      <th>impact</th>\n",
       "      <th>confidence</th>\n",
       "      <th>efforts</th>\n",
       "    </tr>\n",
       "  </thead>\n",
       "  <tbody>\n",
       "    <tr>\n",
       "      <th>0</th>\n",
       "      <td>Добавить два новых канала привлечения трафика, что позволит привлекать на 30% больше пользователей</td>\n",
       "      <td>3</td>\n",
       "      <td>10</td>\n",
       "      <td>8</td>\n",
       "      <td>6</td>\n",
       "    </tr>\n",
       "    <tr>\n",
       "      <th>1</th>\n",
       "      <td>Запустить собственную службу доставки, что сократит срок доставки заказов</td>\n",
       "      <td>2</td>\n",
       "      <td>5</td>\n",
       "      <td>4</td>\n",
       "      <td>10</td>\n",
       "    </tr>\n",
       "    <tr>\n",
       "      <th>2</th>\n",
       "      <td>Добавить блоки рекомендаций товаров на сайт интернет магазина, чтобы повысить конверсию и средний чек заказа</td>\n",
       "      <td>8</td>\n",
       "      <td>3</td>\n",
       "      <td>7</td>\n",
       "      <td>3</td>\n",
       "    </tr>\n",
       "    <tr>\n",
       "      <th>3</th>\n",
       "      <td>Изменить структура категорий, что увеличит конверсию, т.к. пользователи быстрее найдут нужный товар</td>\n",
       "      <td>8</td>\n",
       "      <td>3</td>\n",
       "      <td>3</td>\n",
       "      <td>8</td>\n",
       "    </tr>\n",
       "    <tr>\n",
       "      <th>4</th>\n",
       "      <td>Изменить цвет фона главной страницы, чтобы увеличить вовлеченность пользователей</td>\n",
       "      <td>3</td>\n",
       "      <td>1</td>\n",
       "      <td>1</td>\n",
       "      <td>1</td>\n",
       "    </tr>\n",
       "  </tbody>\n",
       "</table>\n",
       "</div>"
      ],
      "text/plain": [
       "                                                                                                     hypothesis  \\\n",
       "0            Добавить два новых канала привлечения трафика, что позволит привлекать на 30% больше пользователей   \n",
       "1                                     Запустить собственную службу доставки, что сократит срок доставки заказов   \n",
       "2  Добавить блоки рекомендаций товаров на сайт интернет магазина, чтобы повысить конверсию и средний чек заказа   \n",
       "3           Изменить структура категорий, что увеличит конверсию, т.к. пользователи быстрее найдут нужный товар   \n",
       "4                              Изменить цвет фона главной страницы, чтобы увеличить вовлеченность пользователей   \n",
       "\n",
       "   reach  impact  confidence  efforts  \n",
       "0      3      10           8        6  \n",
       "1      2       5           4       10  \n",
       "2      8       3           7        3  \n",
       "3      8       3           3        8  \n",
       "4      3       1           1        1  "
      ]
     },
     "metadata": {},
     "output_type": "display_data"
    }
   ],
   "source": [
    "simple_info(visitors)\n",
    "simple_info(orders)\n",
    "simple_info(hypothesis)"
   ]
  },
  {
   "cell_type": "markdown",
   "metadata": {},
   "source": [
    "Пропущенные значения и явные дубликаты отсутствуют. Далее проверим данные на наличие пересекающихся пользователей. Пересечение пользователей в разных группах может сильно повлиять на результаты теста, если процент достаточно большой. Посмотрим какое количество они занимают в таблице orders."
   ]
  },
  {
   "cell_type": "code",
   "execution_count": 5,
   "metadata": {
    "scrolled": true
   },
   "outputs": [
    {
     "name": "stdout",
     "output_type": "stream",
     "text": [
      "В таблице orders всего 1197 заказов, в 89 из которых пересекаются пользователи исследуемых групп, что составляет 7.44%.\n"
     ]
    }
   ],
   "source": [
    "mask = orders.loc[orders['group'] == 'A', 'visitorid'].isin(orders.loc[orders['group']== 'B', 'visitorid'])\n",
    "print(f'В таблице orders всего {orders.shape[0]} заказов, в {mask.sum()} из которых пересекаются пользователи исследуемых групп, \\\n",
    "что составляет {round(mask.sum() / orders.shape[0] * 100, 2)}%.')"
   ]
  },
  {
   "cell_type": "markdown",
   "metadata": {},
   "source": [
    "С учетом количества данных, пересекающихся значений немало, однако их стоит исключить для корректности дальнейших исследований."
   ]
  },
  {
   "cell_type": "code",
   "execution_count": 6,
   "metadata": {},
   "outputs": [
    {
     "data": {
      "text/html": [
       "<div>\n",
       "<style scoped>\n",
       "    .dataframe tbody tr th:only-of-type {\n",
       "        vertical-align: middle;\n",
       "    }\n",
       "\n",
       "    .dataframe tbody tr th {\n",
       "        vertical-align: top;\n",
       "    }\n",
       "\n",
       "    .dataframe thead th {\n",
       "        text-align: right;\n",
       "    }\n",
       "</style>\n",
       "<table border=\"1\" class=\"dataframe\">\n",
       "  <thead>\n",
       "    <tr style=\"text-align: right;\">\n",
       "      <th></th>\n",
       "      <th>transactionid</th>\n",
       "      <th>visitorid</th>\n",
       "      <th>date</th>\n",
       "      <th>revenue</th>\n",
       "      <th>group</th>\n",
       "    </tr>\n",
       "  </thead>\n",
       "  <tbody>\n",
       "    <tr>\n",
       "      <th>0</th>\n",
       "      <td>3667963787</td>\n",
       "      <td>3312258926</td>\n",
       "      <td>2019-08-15</td>\n",
       "      <td>1650</td>\n",
       "      <td>B</td>\n",
       "    </tr>\n",
       "    <tr>\n",
       "      <th>1</th>\n",
       "      <td>2804400009</td>\n",
       "      <td>3642806036</td>\n",
       "      <td>2019-08-15</td>\n",
       "      <td>730</td>\n",
       "      <td>B</td>\n",
       "    </tr>\n",
       "    <tr>\n",
       "      <th>3</th>\n",
       "      <td>3797467345</td>\n",
       "      <td>1196621759</td>\n",
       "      <td>2019-08-15</td>\n",
       "      <td>9759</td>\n",
       "      <td>B</td>\n",
       "    </tr>\n",
       "    <tr>\n",
       "      <th>4</th>\n",
       "      <td>2282983706</td>\n",
       "      <td>2322279887</td>\n",
       "      <td>2019-08-15</td>\n",
       "      <td>2308</td>\n",
       "      <td>B</td>\n",
       "    </tr>\n",
       "    <tr>\n",
       "      <th>5</th>\n",
       "      <td>182168103</td>\n",
       "      <td>935554773</td>\n",
       "      <td>2019-08-15</td>\n",
       "      <td>2210</td>\n",
       "      <td>B</td>\n",
       "    </tr>\n",
       "    <tr>\n",
       "      <th>...</th>\n",
       "      <td>...</td>\n",
       "      <td>...</td>\n",
       "      <td>...</td>\n",
       "      <td>...</td>\n",
       "      <td>...</td>\n",
       "    </tr>\n",
       "    <tr>\n",
       "      <th>1191</th>\n",
       "      <td>3592955527</td>\n",
       "      <td>608641596</td>\n",
       "      <td>2019-08-14</td>\n",
       "      <td>16490</td>\n",
       "      <td>B</td>\n",
       "    </tr>\n",
       "    <tr>\n",
       "      <th>1192</th>\n",
       "      <td>2662137336</td>\n",
       "      <td>3733762160</td>\n",
       "      <td>2019-08-14</td>\n",
       "      <td>6490</td>\n",
       "      <td>B</td>\n",
       "    </tr>\n",
       "    <tr>\n",
       "      <th>1193</th>\n",
       "      <td>2203539145</td>\n",
       "      <td>370388673</td>\n",
       "      <td>2019-08-14</td>\n",
       "      <td>3190</td>\n",
       "      <td>A</td>\n",
       "    </tr>\n",
       "    <tr>\n",
       "      <th>1194</th>\n",
       "      <td>1807773912</td>\n",
       "      <td>573423106</td>\n",
       "      <td>2019-08-14</td>\n",
       "      <td>10550</td>\n",
       "      <td>A</td>\n",
       "    </tr>\n",
       "    <tr>\n",
       "      <th>1196</th>\n",
       "      <td>3936777065</td>\n",
       "      <td>2108080724</td>\n",
       "      <td>2019-08-15</td>\n",
       "      <td>202740</td>\n",
       "      <td>B</td>\n",
       "    </tr>\n",
       "  </tbody>\n",
       "</table>\n",
       "<p>1108 rows × 5 columns</p>\n",
       "</div>"
      ],
      "text/plain": [
       "      transactionid   visitorid        date  revenue group\n",
       "0        3667963787  3312258926  2019-08-15     1650     B\n",
       "1        2804400009  3642806036  2019-08-15      730     B\n",
       "3        3797467345  1196621759  2019-08-15     9759     B\n",
       "4        2282983706  2322279887  2019-08-15     2308     B\n",
       "5         182168103   935554773  2019-08-15     2210     B\n",
       "...             ...         ...         ...      ...   ...\n",
       "1191     3592955527   608641596  2019-08-14    16490     B\n",
       "1192     2662137336  3733762160  2019-08-14     6490     B\n",
       "1193     2203539145   370388673  2019-08-14     3190     A\n",
       "1194     1807773912   573423106  2019-08-14    10550     A\n",
       "1196     3936777065  2108080724  2019-08-15   202740     B\n",
       "\n",
       "[1108 rows x 5 columns]"
      ]
     },
     "execution_count": 6,
     "metadata": {},
     "output_type": "execute_result"
    }
   ],
   "source": [
    "orders = orders.drop(mask[mask].index)\n",
    "orders"
   ]
  },
  {
   "cell_type": "markdown",
   "metadata": {},
   "source": [
    "Исправим некорректные типы данных в столбцах с датой, удостоверимся в отсутствии ошибок. Затем проверим корректность проведенных преобразований."
   ]
  },
  {
   "cell_type": "code",
   "execution_count": 7,
   "metadata": {
    "scrolled": false
   },
   "outputs": [
    {
     "data": {
      "text/plain": [
       "transactionid             int64\n",
       "visitorid                 int64\n",
       "date             datetime64[ns]\n",
       "revenue                   int64\n",
       "group                    object\n",
       "dtype: object"
      ]
     },
     "metadata": {},
     "output_type": "display_data"
    },
    {
     "data": {
      "text/plain": [
       "date        datetime64[ns]\n",
       "group               object\n",
       "visitors             int64\n",
       "dtype: object"
      ]
     },
     "metadata": {},
     "output_type": "display_data"
    }
   ],
   "source": [
    "# преобразование столбцов данных с датами \n",
    "try:\n",
    "    visitors['date'] = visitors['date'].map(lambda x: dt.datetime.strptime(x, '%Y-%m-%d'))\n",
    "    orders['date'] = orders['date'].map(lambda x: dt.datetime.strptime(x, '%Y-%m-%d'))\n",
    "except:\n",
    "    print('Error_change_type')\n",
    "display(orders.dtypes, visitors.dtypes)"
   ]
  },
  {
   "cell_type": "markdown",
   "metadata": {},
   "source": [
    "Посмотрим в какой период проводилась проверка гипотез, указанные данные нам понадобятся для дальнейшего исследования."
   ]
  },
  {
   "cell_type": "code",
   "execution_count": 8,
   "metadata": {},
   "outputs": [
    {
     "name": "stdout",
     "output_type": "stream",
     "text": [
      "В предоставленных файлах имеются данные об проверке гипотез за период с 2019-08-01 по 2019-08-31.\n"
     ]
    }
   ],
   "source": [
    "print(f'В предоставленных файлах имеются данные об проверке гипотез за период с \\\n",
    "{pd.to_datetime(orders.date).dt.date.min()} по {pd.to_datetime(orders.date).dt.date.max()}.')"
   ]
  },
  {
   "cell_type": "markdown",
   "metadata": {},
   "source": [
    "## Приоритизация гипотез"
   ]
  },
  {
   "cell_type": "markdown",
   "metadata": {},
   "source": [
    "### Фреймворк ICE для приоритизации гипотез"
   ]
  },
  {
   "cell_type": "markdown",
   "metadata": {},
   "source": [
    "Формула для подсчета приоритизации гипотез согласно фреймворку ICE:\n",
    "\n",
    "$$ICE = \\frac{Impact * Confidence}{Efforts}$$"
   ]
  },
  {
   "cell_type": "code",
   "execution_count": 9,
   "metadata": {},
   "outputs": [],
   "source": [
    "hypothesis['ICE'] = hypothesis['impact'] * hypothesis['confidence'] / hypothesis['efforts']"
   ]
  },
  {
   "cell_type": "code",
   "execution_count": 10,
   "metadata": {
    "scrolled": false
   },
   "outputs": [
    {
     "data": {
      "text/html": [
       "<div>\n",
       "<style scoped>\n",
       "    .dataframe tbody tr th:only-of-type {\n",
       "        vertical-align: middle;\n",
       "    }\n",
       "\n",
       "    .dataframe tbody tr th {\n",
       "        vertical-align: top;\n",
       "    }\n",
       "\n",
       "    .dataframe thead th {\n",
       "        text-align: right;\n",
       "    }\n",
       "</style>\n",
       "<table border=\"1\" class=\"dataframe\">\n",
       "  <thead>\n",
       "    <tr style=\"text-align: right;\">\n",
       "      <th></th>\n",
       "      <th>hypothesis</th>\n",
       "      <th>ICE</th>\n",
       "    </tr>\n",
       "  </thead>\n",
       "  <tbody>\n",
       "    <tr>\n",
       "      <th>8</th>\n",
       "      <td>Запустить акцию, дающую скидку на товар в день рождения</td>\n",
       "      <td>16.200</td>\n",
       "    </tr>\n",
       "    <tr>\n",
       "      <th>0</th>\n",
       "      <td>Добавить два новых канала привлечения трафика, что позволит привлекать на 30% больше пользователей</td>\n",
       "      <td>13.333</td>\n",
       "    </tr>\n",
       "    <tr>\n",
       "      <th>7</th>\n",
       "      <td>Добавить форму подписки на все основные страницы, чтобы собрать базу клиентов для email-рассылок</td>\n",
       "      <td>11.200</td>\n",
       "    </tr>\n",
       "    <tr>\n",
       "      <th>6</th>\n",
       "      <td>Показать на главной странице баннеры с актуальными акциями и распродажами, чтобы увеличить конверсию</td>\n",
       "      <td>8.000</td>\n",
       "    </tr>\n",
       "    <tr>\n",
       "      <th>2</th>\n",
       "      <td>Добавить блоки рекомендаций товаров на сайт интернет магазина, чтобы повысить конверсию и средний чек заказа</td>\n",
       "      <td>7.000</td>\n",
       "    </tr>\n",
       "    <tr>\n",
       "      <th>1</th>\n",
       "      <td>Запустить собственную службу доставки, что сократит срок доставки заказов</td>\n",
       "      <td>2.000</td>\n",
       "    </tr>\n",
       "    <tr>\n",
       "      <th>5</th>\n",
       "      <td>Добавить страницу отзывов клиентов о магазине, что позволит увеличить количество заказов</td>\n",
       "      <td>1.333</td>\n",
       "    </tr>\n",
       "    <tr>\n",
       "      <th>3</th>\n",
       "      <td>Изменить структура категорий, что увеличит конверсию, т.к. пользователи быстрее найдут нужный товар</td>\n",
       "      <td>1.125</td>\n",
       "    </tr>\n",
       "    <tr>\n",
       "      <th>4</th>\n",
       "      <td>Изменить цвет фона главной страницы, чтобы увеличить вовлеченность пользователей</td>\n",
       "      <td>1.000</td>\n",
       "    </tr>\n",
       "  </tbody>\n",
       "</table>\n",
       "</div>"
      ],
      "text/plain": [
       "                                                                                                     hypothesis  \\\n",
       "8                                                       Запустить акцию, дающую скидку на товар в день рождения   \n",
       "0            Добавить два новых канала привлечения трафика, что позволит привлекать на 30% больше пользователей   \n",
       "7              Добавить форму подписки на все основные страницы, чтобы собрать базу клиентов для email-рассылок   \n",
       "6          Показать на главной странице баннеры с актуальными акциями и распродажами, чтобы увеличить конверсию   \n",
       "2  Добавить блоки рекомендаций товаров на сайт интернет магазина, чтобы повысить конверсию и средний чек заказа   \n",
       "1                                     Запустить собственную службу доставки, что сократит срок доставки заказов   \n",
       "5                      Добавить страницу отзывов клиентов о магазине, что позволит увеличить количество заказов   \n",
       "3           Изменить структура категорий, что увеличит конверсию, т.к. пользователи быстрее найдут нужный товар   \n",
       "4                              Изменить цвет фона главной страницы, чтобы увеличить вовлеченность пользователей   \n",
       "\n",
       "     ICE  \n",
       "8 16.200  \n",
       "0 13.333  \n",
       "7 11.200  \n",
       "6  8.000  \n",
       "2  7.000  \n",
       "1  2.000  \n",
       "5  1.333  \n",
       "3  1.125  \n",
       "4  1.000  "
      ]
     },
     "metadata": {},
     "output_type": "display_data"
    }
   ],
   "source": [
    "ice = hypothesis[['hypothesis','ICE']].sort_values(by='ICE', ascending=False)\n",
    "display(ice)"
   ]
  },
  {
   "cell_type": "markdown",
   "metadata": {},
   "source": [
    "### Фреймворк RICE для приоритизации гипотез"
   ]
  },
  {
   "cell_type": "markdown",
   "metadata": {},
   "source": [
    "Формула для подсчета приоритизации гипотез согласно фреймворку RICE:\n",
    "\n",
    "$$RICE = \\frac{Rearch * Impact * Confidence}{Efforts}$$"
   ]
  },
  {
   "cell_type": "code",
   "execution_count": 11,
   "metadata": {},
   "outputs": [],
   "source": [
    "hypothesis['RICE'] = hypothesis['reach'] * hypothesis['impact'] * hypothesis['confidence'] / hypothesis['efforts']"
   ]
  },
  {
   "cell_type": "code",
   "execution_count": 12,
   "metadata": {
    "scrolled": false
   },
   "outputs": [
    {
     "data": {
      "text/html": [
       "<div>\n",
       "<style scoped>\n",
       "    .dataframe tbody tr th:only-of-type {\n",
       "        vertical-align: middle;\n",
       "    }\n",
       "\n",
       "    .dataframe tbody tr th {\n",
       "        vertical-align: top;\n",
       "    }\n",
       "\n",
       "    .dataframe thead th {\n",
       "        text-align: right;\n",
       "    }\n",
       "</style>\n",
       "<table border=\"1\" class=\"dataframe\">\n",
       "  <thead>\n",
       "    <tr style=\"text-align: right;\">\n",
       "      <th></th>\n",
       "      <th>hypothesis</th>\n",
       "      <th>RICE</th>\n",
       "      <th>reach</th>\n",
       "    </tr>\n",
       "  </thead>\n",
       "  <tbody>\n",
       "    <tr>\n",
       "      <th>7</th>\n",
       "      <td>Добавить форму подписки на все основные страницы, чтобы собрать базу клиентов для email-рассылок</td>\n",
       "      <td>112.000</td>\n",
       "      <td>10</td>\n",
       "    </tr>\n",
       "    <tr>\n",
       "      <th>2</th>\n",
       "      <td>Добавить блоки рекомендаций товаров на сайт интернет магазина, чтобы повысить конверсию и средний чек заказа</td>\n",
       "      <td>56.000</td>\n",
       "      <td>8</td>\n",
       "    </tr>\n",
       "    <tr>\n",
       "      <th>0</th>\n",
       "      <td>Добавить два новых канала привлечения трафика, что позволит привлекать на 30% больше пользователей</td>\n",
       "      <td>40.000</td>\n",
       "      <td>3</td>\n",
       "    </tr>\n",
       "    <tr>\n",
       "      <th>6</th>\n",
       "      <td>Показать на главной странице баннеры с актуальными акциями и распродажами, чтобы увеличить конверсию</td>\n",
       "      <td>40.000</td>\n",
       "      <td>5</td>\n",
       "    </tr>\n",
       "    <tr>\n",
       "      <th>8</th>\n",
       "      <td>Запустить акцию, дающую скидку на товар в день рождения</td>\n",
       "      <td>16.200</td>\n",
       "      <td>1</td>\n",
       "    </tr>\n",
       "    <tr>\n",
       "      <th>3</th>\n",
       "      <td>Изменить структура категорий, что увеличит конверсию, т.к. пользователи быстрее найдут нужный товар</td>\n",
       "      <td>9.000</td>\n",
       "      <td>8</td>\n",
       "    </tr>\n",
       "    <tr>\n",
       "      <th>1</th>\n",
       "      <td>Запустить собственную службу доставки, что сократит срок доставки заказов</td>\n",
       "      <td>4.000</td>\n",
       "      <td>2</td>\n",
       "    </tr>\n",
       "    <tr>\n",
       "      <th>5</th>\n",
       "      <td>Добавить страницу отзывов клиентов о магазине, что позволит увеличить количество заказов</td>\n",
       "      <td>4.000</td>\n",
       "      <td>3</td>\n",
       "    </tr>\n",
       "    <tr>\n",
       "      <th>4</th>\n",
       "      <td>Изменить цвет фона главной страницы, чтобы увеличить вовлеченность пользователей</td>\n",
       "      <td>3.000</td>\n",
       "      <td>3</td>\n",
       "    </tr>\n",
       "  </tbody>\n",
       "</table>\n",
       "</div>"
      ],
      "text/plain": [
       "                                                                                                     hypothesis  \\\n",
       "7              Добавить форму подписки на все основные страницы, чтобы собрать базу клиентов для email-рассылок   \n",
       "2  Добавить блоки рекомендаций товаров на сайт интернет магазина, чтобы повысить конверсию и средний чек заказа   \n",
       "0            Добавить два новых канала привлечения трафика, что позволит привлекать на 30% больше пользователей   \n",
       "6          Показать на главной странице баннеры с актуальными акциями и распродажами, чтобы увеличить конверсию   \n",
       "8                                                       Запустить акцию, дающую скидку на товар в день рождения   \n",
       "3           Изменить структура категорий, что увеличит конверсию, т.к. пользователи быстрее найдут нужный товар   \n",
       "1                                     Запустить собственную службу доставки, что сократит срок доставки заказов   \n",
       "5                      Добавить страницу отзывов клиентов о магазине, что позволит увеличить количество заказов   \n",
       "4                              Изменить цвет фона главной страницы, чтобы увеличить вовлеченность пользователей   \n",
       "\n",
       "     RICE  reach  \n",
       "7 112.000     10  \n",
       "2  56.000      8  \n",
       "0  40.000      3  \n",
       "6  40.000      5  \n",
       "8  16.200      1  \n",
       "3   9.000      8  \n",
       "1   4.000      2  \n",
       "5   4.000      3  \n",
       "4   3.000      3  "
      ]
     },
     "metadata": {},
     "output_type": "display_data"
    }
   ],
   "source": [
    "rice = hypothesis[['hypothesis','RICE', 'reach']].sort_values(by='RICE', ascending=False)\n",
    "display(rice)"
   ]
  },
  {
   "cell_type": "markdown",
   "metadata": {},
   "source": [
    "### Вывод"
   ]
  },
  {
   "cell_type": "code",
   "execution_count": 13,
   "metadata": {},
   "outputs": [
    {
     "data": {
      "text/html": [
       "<div>\n",
       "<style scoped>\n",
       "    .dataframe tbody tr th:only-of-type {\n",
       "        vertical-align: middle;\n",
       "    }\n",
       "\n",
       "    .dataframe tbody tr th {\n",
       "        vertical-align: top;\n",
       "    }\n",
       "\n",
       "    .dataframe thead th {\n",
       "        text-align: right;\n",
       "    }\n",
       "</style>\n",
       "<table border=\"1\" class=\"dataframe\">\n",
       "  <thead>\n",
       "    <tr style=\"text-align: right;\">\n",
       "      <th></th>\n",
       "      <th>hypothesis</th>\n",
       "      <th>RICE</th>\n",
       "      <th>reach</th>\n",
       "      <th>ICE</th>\n",
       "    </tr>\n",
       "  </thead>\n",
       "  <tbody>\n",
       "    <tr>\n",
       "      <th>0</th>\n",
       "      <td>Добавить форму подписки на все основные страницы, чтобы собрать базу клиентов для email-рассылок</td>\n",
       "      <td>112.000</td>\n",
       "      <td>10</td>\n",
       "      <td>11.200</td>\n",
       "    </tr>\n",
       "    <tr>\n",
       "      <th>1</th>\n",
       "      <td>Добавить блоки рекомендаций товаров на сайт интернет магазина, чтобы повысить конверсию и средний чек заказа</td>\n",
       "      <td>56.000</td>\n",
       "      <td>8</td>\n",
       "      <td>7.000</td>\n",
       "    </tr>\n",
       "    <tr>\n",
       "      <th>2</th>\n",
       "      <td>Добавить два новых канала привлечения трафика, что позволит привлекать на 30% больше пользователей</td>\n",
       "      <td>40.000</td>\n",
       "      <td>3</td>\n",
       "      <td>13.333</td>\n",
       "    </tr>\n",
       "    <tr>\n",
       "      <th>3</th>\n",
       "      <td>Показать на главной странице баннеры с актуальными акциями и распродажами, чтобы увеличить конверсию</td>\n",
       "      <td>40.000</td>\n",
       "      <td>5</td>\n",
       "      <td>8.000</td>\n",
       "    </tr>\n",
       "    <tr>\n",
       "      <th>4</th>\n",
       "      <td>Запустить акцию, дающую скидку на товар в день рождения</td>\n",
       "      <td>16.200</td>\n",
       "      <td>1</td>\n",
       "      <td>16.200</td>\n",
       "    </tr>\n",
       "    <tr>\n",
       "      <th>5</th>\n",
       "      <td>Изменить структура категорий, что увеличит конверсию, т.к. пользователи быстрее найдут нужный товар</td>\n",
       "      <td>9.000</td>\n",
       "      <td>8</td>\n",
       "      <td>1.125</td>\n",
       "    </tr>\n",
       "    <tr>\n",
       "      <th>6</th>\n",
       "      <td>Запустить собственную службу доставки, что сократит срок доставки заказов</td>\n",
       "      <td>4.000</td>\n",
       "      <td>2</td>\n",
       "      <td>2.000</td>\n",
       "    </tr>\n",
       "    <tr>\n",
       "      <th>7</th>\n",
       "      <td>Добавить страницу отзывов клиентов о магазине, что позволит увеличить количество заказов</td>\n",
       "      <td>4.000</td>\n",
       "      <td>3</td>\n",
       "      <td>1.333</td>\n",
       "    </tr>\n",
       "    <tr>\n",
       "      <th>8</th>\n",
       "      <td>Изменить цвет фона главной страницы, чтобы увеличить вовлеченность пользователей</td>\n",
       "      <td>3.000</td>\n",
       "      <td>3</td>\n",
       "      <td>1.000</td>\n",
       "    </tr>\n",
       "  </tbody>\n",
       "</table>\n",
       "</div>"
      ],
      "text/plain": [
       "                                                                                                     hypothesis  \\\n",
       "0              Добавить форму подписки на все основные страницы, чтобы собрать базу клиентов для email-рассылок   \n",
       "1  Добавить блоки рекомендаций товаров на сайт интернет магазина, чтобы повысить конверсию и средний чек заказа   \n",
       "2            Добавить два новых канала привлечения трафика, что позволит привлекать на 30% больше пользователей   \n",
       "3          Показать на главной странице баннеры с актуальными акциями и распродажами, чтобы увеличить конверсию   \n",
       "4                                                       Запустить акцию, дающую скидку на товар в день рождения   \n",
       "5           Изменить структура категорий, что увеличит конверсию, т.к. пользователи быстрее найдут нужный товар   \n",
       "6                                     Запустить собственную службу доставки, что сократит срок доставки заказов   \n",
       "7                      Добавить страницу отзывов клиентов о магазине, что позволит увеличить количество заказов   \n",
       "8                              Изменить цвет фона главной страницы, чтобы увеличить вовлеченность пользователей   \n",
       "\n",
       "     RICE  reach    ICE  \n",
       "0 112.000     10 11.200  \n",
       "1  56.000      8  7.000  \n",
       "2  40.000      3 13.333  \n",
       "3  40.000      5  8.000  \n",
       "4  16.200      1 16.200  \n",
       "5   9.000      8  1.125  \n",
       "6   4.000      2  2.000  \n",
       "7   4.000      3  1.333  \n",
       "8   3.000      3  1.000  "
      ]
     },
     "execution_count": 13,
     "metadata": {},
     "output_type": "execute_result"
    }
   ],
   "source": [
    "all_hypothesis = rice.merge(ice, left_on='hypothesis', right_on='hypothesis').sort_values(by=['RICE', 'ICE'], ascending=[False, False])\n",
    "all_hypothesis"
   ]
  },
  {
   "cell_type": "markdown",
   "metadata": {},
   "source": [
    "При применении фреймворка ICE наиболее перспективными гипотезами для проверки являются гипотезы с номерами 8, 0 и 7.   \n",
    "При применении фреймворка RICE приоритет несколько изменился и наиболее перспективными для проверки являются гипотезы с номерами 7, 2, 0 и 6.  \n",
    "Такое различие связано с тем, что при подсчете с применением фреймворка RICE помимо схожих с фреймворком ICE параметров, также учитывается параметр reach, т.е. как много пользователей затронет изменение, которое мы планируем ввести. Очевидно, что гипотезы под номерами 7 и 2 затрагивают максимальное количество пользователей, т.к. связаны с сайтом, на котором производятся заказы, поэтому они и получили более высокий приоритет в сравнении с остальными. А поскольку гипотеза под номером 8 затрагивает минимальное количество пользователей (reach = 1), у нее значительно уменьшился приоритет.  "
   ]
  },
  {
   "cell_type": "markdown",
   "metadata": {},
   "source": [
    "## Анализ результатов A/B-теста"
   ]
  },
  {
   "cell_type": "markdown",
   "metadata": {},
   "source": [
    "### Подготовка данных"
   ]
  },
  {
   "cell_type": "markdown",
   "metadata": {},
   "source": [
    "Чтобы построить графики для дальнейшего исследования, необходимо собрать кумулятивные данные. Для этого создадим датафрейм cumulativeData, в который войдут следующие столбцы с данными:   \n",
    "• `date` — дата;  \n",
    "• `group` — группа A/B-теста (A или B);   \n",
    "• `orders` — кумулятивное количество заказов на указанную дату в указанной группе;   \n",
    "• `buyers` — кумулятивное количество пользователей, совершивших хотя бы один заказ, на указанную дату в указанной группе;    \n",
    "• `revenue` — кумулятивная выручка на указанную дату в указанной группе (средний чек);    \n",
    "• `visitors` — кумулятивное количество посетителей интернет-магазина на указанную дату в определённой группе.  "
   ]
  },
  {
   "cell_type": "code",
   "execution_count": 14,
   "metadata": {},
   "outputs": [
    {
     "data": {
      "text/html": [
       "<div>\n",
       "<style scoped>\n",
       "    .dataframe tbody tr th:only-of-type {\n",
       "        vertical-align: middle;\n",
       "    }\n",
       "\n",
       "    .dataframe tbody tr th {\n",
       "        vertical-align: top;\n",
       "    }\n",
       "\n",
       "    .dataframe thead th {\n",
       "        text-align: right;\n",
       "    }\n",
       "</style>\n",
       "<table border=\"1\" class=\"dataframe\">\n",
       "  <thead>\n",
       "    <tr style=\"text-align: right;\">\n",
       "      <th></th>\n",
       "      <th>date</th>\n",
       "      <th>group</th>\n",
       "    </tr>\n",
       "  </thead>\n",
       "  <tbody>\n",
       "    <tr>\n",
       "      <th>0</th>\n",
       "      <td>2019-08-15</td>\n",
       "      <td>B</td>\n",
       "    </tr>\n",
       "    <tr>\n",
       "      <th>7</th>\n",
       "      <td>2019-08-15</td>\n",
       "      <td>A</td>\n",
       "    </tr>\n",
       "    <tr>\n",
       "      <th>45</th>\n",
       "      <td>2019-08-16</td>\n",
       "      <td>A</td>\n",
       "    </tr>\n",
       "    <tr>\n",
       "      <th>47</th>\n",
       "      <td>2019-08-16</td>\n",
       "      <td>B</td>\n",
       "    </tr>\n",
       "    <tr>\n",
       "      <th>55</th>\n",
       "      <td>2019-08-01</td>\n",
       "      <td>A</td>\n",
       "    </tr>\n",
       "  </tbody>\n",
       "</table>\n",
       "</div>"
      ],
      "text/plain": [
       "         date group\n",
       "0  2019-08-15     B\n",
       "7  2019-08-15     A\n",
       "45 2019-08-16     A\n",
       "47 2019-08-16     B\n",
       "55 2019-08-01     A"
      ]
     },
     "execution_count": 14,
     "metadata": {},
     "output_type": "execute_result"
    }
   ],
   "source": [
    "# создаем массив уникальных пар значений дат и групп теста\n",
    "datesGroups = orders[['date','group']].drop_duplicates()\n",
    "datesGroups.head()"
   ]
  },
  {
   "cell_type": "markdown",
   "metadata": {},
   "source": [
    "Получим строки таблицы orders, дата которых меньше или равна дате элемента из datesGroups, а группа теста равна группе из datesGroups. Агрегируем значения. Вычислим максимальную дату. Для группы тоже рассчитаем максимум, и хотя она будет определённой, сделаем это, чтобы столбец 'group' не пропал из итогового вывода. Найдём число уникальных ID заказов и пользователей."
   ]
  },
  {
   "cell_type": "markdown",
   "metadata": {},
   "source": [
    "Получим агрегированные кумулятивные данные о заказах по дням."
   ]
  },
  {
   "cell_type": "code",
   "execution_count": 15,
   "metadata": {},
   "outputs": [
    {
     "data": {
      "text/html": [
       "<div>\n",
       "<style scoped>\n",
       "    .dataframe tbody tr th:only-of-type {\n",
       "        vertical-align: middle;\n",
       "    }\n",
       "\n",
       "    .dataframe tbody tr th {\n",
       "        vertical-align: top;\n",
       "    }\n",
       "\n",
       "    .dataframe thead th {\n",
       "        text-align: right;\n",
       "    }\n",
       "</style>\n",
       "<table border=\"1\" class=\"dataframe\">\n",
       "  <thead>\n",
       "    <tr style=\"text-align: right;\">\n",
       "      <th></th>\n",
       "      <th>date</th>\n",
       "      <th>group</th>\n",
       "      <th>transactionid</th>\n",
       "      <th>visitorid</th>\n",
       "      <th>revenue</th>\n",
       "    </tr>\n",
       "  </thead>\n",
       "  <tbody>\n",
       "    <tr>\n",
       "      <th>55</th>\n",
       "      <td>2019-08-01</td>\n",
       "      <td>A</td>\n",
       "      <td>23</td>\n",
       "      <td>19</td>\n",
       "      <td>142779</td>\n",
       "    </tr>\n",
       "    <tr>\n",
       "      <th>66</th>\n",
       "      <td>2019-08-01</td>\n",
       "      <td>B</td>\n",
       "      <td>21</td>\n",
       "      <td>20</td>\n",
       "      <td>101217</td>\n",
       "    </tr>\n",
       "    <tr>\n",
       "      <th>175</th>\n",
       "      <td>2019-08-02</td>\n",
       "      <td>A</td>\n",
       "      <td>42</td>\n",
       "      <td>36</td>\n",
       "      <td>234381</td>\n",
       "    </tr>\n",
       "    <tr>\n",
       "      <th>173</th>\n",
       "      <td>2019-08-02</td>\n",
       "      <td>B</td>\n",
       "      <td>45</td>\n",
       "      <td>43</td>\n",
       "      <td>266748</td>\n",
       "    </tr>\n",
       "    <tr>\n",
       "      <th>291</th>\n",
       "      <td>2019-08-03</td>\n",
       "      <td>A</td>\n",
       "      <td>66</td>\n",
       "      <td>60</td>\n",
       "      <td>346854</td>\n",
       "    </tr>\n",
       "    <tr>\n",
       "      <th>310</th>\n",
       "      <td>2019-08-03</td>\n",
       "      <td>B</td>\n",
       "      <td>61</td>\n",
       "      <td>59</td>\n",
       "      <td>380996</td>\n",
       "    </tr>\n",
       "  </tbody>\n",
       "</table>\n",
       "</div>"
      ],
      "text/plain": [
       "          date group  transactionid  visitorid  revenue\n",
       "55  2019-08-01     A             23         19   142779\n",
       "66  2019-08-01     B             21         20   101217\n",
       "175 2019-08-02     A             42         36   234381\n",
       "173 2019-08-02     B             45         43   266748\n",
       "291 2019-08-03     A             66         60   346854\n",
       "310 2019-08-03     B             61         59   380996"
      ]
     },
     "execution_count": 15,
     "metadata": {},
     "output_type": "execute_result"
    }
   ],
   "source": [
    "ordersAggregated = (datesGroups.apply(lambda x: orders[np.logical_and(orders['date'] <= x['date'], \n",
    "                                      orders['group'] == x['group'])] \n",
    "                                      .agg({'date' : 'max', 'group' : 'max', 'transactionid' : 'nunique', \n",
    "                                      'visitorid' : 'nunique', 'revenue' : 'sum'}), axis=1) \n",
    "                                      .sort_values(by=['date','group']))\n",
    "ordersAggregated.head(6)"
   ]
  },
  {
   "cell_type": "markdown",
   "metadata": {},
   "source": [
    "Получим агрегированные кумулятивные данные о посетителях интернет-магазина по дням"
   ]
  },
  {
   "cell_type": "code",
   "execution_count": 16,
   "metadata": {},
   "outputs": [
    {
     "data": {
      "text/html": [
       "<div>\n",
       "<style scoped>\n",
       "    .dataframe tbody tr th:only-of-type {\n",
       "        vertical-align: middle;\n",
       "    }\n",
       "\n",
       "    .dataframe tbody tr th {\n",
       "        vertical-align: top;\n",
       "    }\n",
       "\n",
       "    .dataframe thead th {\n",
       "        text-align: right;\n",
       "    }\n",
       "</style>\n",
       "<table border=\"1\" class=\"dataframe\">\n",
       "  <thead>\n",
       "    <tr style=\"text-align: right;\">\n",
       "      <th></th>\n",
       "      <th>date</th>\n",
       "      <th>group</th>\n",
       "      <th>visitors</th>\n",
       "    </tr>\n",
       "  </thead>\n",
       "  <tbody>\n",
       "    <tr>\n",
       "      <th>55</th>\n",
       "      <td>2019-08-01</td>\n",
       "      <td>A</td>\n",
       "      <td>719</td>\n",
       "    </tr>\n",
       "    <tr>\n",
       "      <th>66</th>\n",
       "      <td>2019-08-01</td>\n",
       "      <td>B</td>\n",
       "      <td>713</td>\n",
       "    </tr>\n",
       "    <tr>\n",
       "      <th>175</th>\n",
       "      <td>2019-08-02</td>\n",
       "      <td>A</td>\n",
       "      <td>1338</td>\n",
       "    </tr>\n",
       "    <tr>\n",
       "      <th>173</th>\n",
       "      <td>2019-08-02</td>\n",
       "      <td>B</td>\n",
       "      <td>1294</td>\n",
       "    </tr>\n",
       "    <tr>\n",
       "      <th>291</th>\n",
       "      <td>2019-08-03</td>\n",
       "      <td>A</td>\n",
       "      <td>1845</td>\n",
       "    </tr>\n",
       "    <tr>\n",
       "      <th>310</th>\n",
       "      <td>2019-08-03</td>\n",
       "      <td>B</td>\n",
       "      <td>1803</td>\n",
       "    </tr>\n",
       "  </tbody>\n",
       "</table>\n",
       "</div>"
      ],
      "text/plain": [
       "          date group  visitors\n",
       "55  2019-08-01     A       719\n",
       "66  2019-08-01     B       713\n",
       "175 2019-08-02     A      1338\n",
       "173 2019-08-02     B      1294\n",
       "291 2019-08-03     A      1845\n",
       "310 2019-08-03     B      1803"
      ]
     },
     "execution_count": 16,
     "metadata": {},
     "output_type": "execute_result"
    }
   ],
   "source": [
    "visitorsAggregated = (datesGroups.apply(lambda x: visitors[np.logical_and(visitors['date'] <= x['date'], \n",
    "                     visitors['group'] == x['group'])]\n",
    "                     .agg({'date' : 'max', 'group' : 'max', 'visitors' : 'sum'}), axis=1)\n",
    "                     .sort_values(by=['date','group']))\n",
    "visitorsAggregated.head(6)"
   ]
  },
  {
   "cell_type": "markdown",
   "metadata": {},
   "source": [
    "Объединим кумулятивные данные в одной таблице и присвоим столбцам корректные наименования."
   ]
  },
  {
   "cell_type": "code",
   "execution_count": 17,
   "metadata": {},
   "outputs": [
    {
     "data": {
      "text/html": [
       "<div>\n",
       "<style scoped>\n",
       "    .dataframe tbody tr th:only-of-type {\n",
       "        vertical-align: middle;\n",
       "    }\n",
       "\n",
       "    .dataframe tbody tr th {\n",
       "        vertical-align: top;\n",
       "    }\n",
       "\n",
       "    .dataframe thead th {\n",
       "        text-align: right;\n",
       "    }\n",
       "</style>\n",
       "<table border=\"1\" class=\"dataframe\">\n",
       "  <thead>\n",
       "    <tr style=\"text-align: right;\">\n",
       "      <th></th>\n",
       "      <th>date</th>\n",
       "      <th>group</th>\n",
       "      <th>orders</th>\n",
       "      <th>buyers</th>\n",
       "      <th>revenue</th>\n",
       "      <th>visitors</th>\n",
       "    </tr>\n",
       "  </thead>\n",
       "  <tbody>\n",
       "    <tr>\n",
       "      <th>0</th>\n",
       "      <td>2019-08-01</td>\n",
       "      <td>A</td>\n",
       "      <td>23</td>\n",
       "      <td>19</td>\n",
       "      <td>142779</td>\n",
       "      <td>719</td>\n",
       "    </tr>\n",
       "    <tr>\n",
       "      <th>1</th>\n",
       "      <td>2019-08-01</td>\n",
       "      <td>B</td>\n",
       "      <td>21</td>\n",
       "      <td>20</td>\n",
       "      <td>101217</td>\n",
       "      <td>713</td>\n",
       "    </tr>\n",
       "    <tr>\n",
       "      <th>2</th>\n",
       "      <td>2019-08-02</td>\n",
       "      <td>A</td>\n",
       "      <td>42</td>\n",
       "      <td>36</td>\n",
       "      <td>234381</td>\n",
       "      <td>1338</td>\n",
       "    </tr>\n",
       "    <tr>\n",
       "      <th>3</th>\n",
       "      <td>2019-08-02</td>\n",
       "      <td>B</td>\n",
       "      <td>45</td>\n",
       "      <td>43</td>\n",
       "      <td>266748</td>\n",
       "      <td>1294</td>\n",
       "    </tr>\n",
       "    <tr>\n",
       "      <th>4</th>\n",
       "      <td>2019-08-03</td>\n",
       "      <td>A</td>\n",
       "      <td>66</td>\n",
       "      <td>60</td>\n",
       "      <td>346854</td>\n",
       "      <td>1845</td>\n",
       "    </tr>\n",
       "    <tr>\n",
       "      <th>5</th>\n",
       "      <td>2019-08-03</td>\n",
       "      <td>B</td>\n",
       "      <td>61</td>\n",
       "      <td>59</td>\n",
       "      <td>380996</td>\n",
       "      <td>1803</td>\n",
       "    </tr>\n",
       "  </tbody>\n",
       "</table>\n",
       "</div>"
      ],
      "text/plain": [
       "        date group  orders  buyers  revenue  visitors\n",
       "0 2019-08-01     A      23      19   142779       719\n",
       "1 2019-08-01     B      21      20   101217       713\n",
       "2 2019-08-02     A      42      36   234381      1338\n",
       "3 2019-08-02     B      45      43   266748      1294\n",
       "4 2019-08-03     A      66      60   346854      1845\n",
       "5 2019-08-03     B      61      59   380996      1803"
      ]
     },
     "execution_count": 17,
     "metadata": {},
     "output_type": "execute_result"
    }
   ],
   "source": [
    "cumulativeData = ordersAggregated.merge(visitorsAggregated, left_on=['date', 'group'], right_on=['date', 'group'])\n",
    "cumulativeData.columns = ['date', 'group', 'orders', 'buyers', 'revenue', 'visitors']\n",
    "\n",
    "cumulativeData.head(6)"
   ]
  },
  {
   "cell_type": "markdown",
   "metadata": {},
   "source": [
    "### Графики"
   ]
  },
  {
   "cell_type": "markdown",
   "metadata": {},
   "source": [
    "#### График кумулятивной выручки по группам"
   ]
  },
  {
   "cell_type": "markdown",
   "metadata": {},
   "source": [
    "Выделим каждую из тестируемых групп в отдельный датафрейм и построим по ним график выручки."
   ]
  },
  {
   "cell_type": "code",
   "execution_count": 18,
   "metadata": {},
   "outputs": [],
   "source": [
    "# датафрейм с кумулятивным количеством заказов и кумулятивной выручкой по дням в группе А\n",
    "cumulativeRevenueA = cumulativeData[cumulativeData['group']=='A'][['date','revenue', 'orders']]\n",
    "\n",
    "# датафрейм с кумулятивным количеством заказов и кумулятивной выручкой по дням в группе B\n",
    "cumulativeRevenueB = cumulativeData[cumulativeData['group']=='B'][['date','revenue', 'orders']]"
   ]
  },
  {
   "cell_type": "code",
   "execution_count": 19,
   "metadata": {},
   "outputs": [
    {
     "data": {
      "image/png": "[encoded data removed]",
      "text/plain": [
       "<Figure size 936x489.6 with 1 Axes>"
      ]
     },
     "metadata": {
      "image/png": {
       "height": 415,
       "width": 813
      },
      "needs_background": "light"
     },
     "output_type": "display_data"
    }
   ],
   "source": [
    "# Строим график выручки группы А\n",
    "plt.plot(cumulativeRevenueA['date'], cumulativeRevenueA['revenue'], label='A')\n",
    "\n",
    "# Строим график выручки группы B\n",
    "plt.plot(cumulativeRevenueB['date'], cumulativeRevenueB['revenue'], label='B')\n",
    "plt.ticklabel_format(style='plain', axis='y')\n",
    "plt.title(\"График кумулятивной выручки по группам\")\n",
    "plt.ylabel(\"Сумма выручки\")\n",
    "\n",
    "plt.legend()\n",
    "plt.show()"
   ]
  },
  {
   "cell_type": "markdown",
   "metadata": {},
   "source": [
    "Выручка для группы А планомерно увеличивается в течение всего теста. Выручка группы B также увеличивается, однако между 17.08.2019 г. и 21.08.2019 г. она резко возрастает. Это может сигнализировать либо о всплеске числа заказов, либо о появлении очень дорогих заказов в этой выборке."
   ]
  },
  {
   "cell_type": "markdown",
   "metadata": {},
   "source": [
    "#### График кумулятивного среднего чека по группам"
   ]
  },
  {
   "cell_type": "markdown",
   "metadata": {},
   "source": [
    "Для нахождения среднего чека по каждой из тестируемых групп разделим кумулятивную выручку на кумулятивное число заказов. Затем построим графики среднего чека по группам. "
   ]
  },
  {
   "cell_type": "code",
   "execution_count": 20,
   "metadata": {},
   "outputs": [
    {
     "data": {
      "image/png": "[encoded data removed]",
      "text/plain": [
       "<Figure size 936x489.6 with 1 Axes>"
      ]
     },
     "metadata": {
      "image/png": {
       "height": 418,
       "width": 802
      },
      "needs_background": "light"
     },
     "output_type": "display_data"
    }
   ],
   "source": [
    "plt.plot(cumulativeRevenueA['date'], cumulativeRevenueA['revenue']/cumulativeRevenueA['orders'], label='A')\n",
    "\n",
    "plt.plot(cumulativeRevenueB['date'], cumulativeRevenueB['revenue']/cumulativeRevenueB['orders'], label='B')\n",
    "\n",
    "plt.title(\"График кумулятивного среднего чека по группам\", fontdict={'fontsize': 17, 'fontweight': 'bold'})\n",
    "plt.ylabel(\"Сумма чека\")\n",
    "\n",
    "plt.legend()\n",
    "plt.show()"
   ]
  },
  {
   "cell_type": "markdown",
   "metadata": {},
   "source": [
    "Средний чек тоже становится равномерным ближе к концу теста для группы A и продолжает падать для группы B. Вероятнее всего примерно в середине теста в группу B попали очень крупные заказы (резкий всплеск на графике). Тогда ей нужно больше данных, чтобы прийти к реальному среднему чеку и установиться на его уровне, что и происходит примерно с 20-21 августа, где график среднего чека в группе B планомерно снижается."
   ]
  },
  {
   "cell_type": "markdown",
   "metadata": {},
   "source": [
    "#### График относительного изменения кумулятивного среднего чека группы B к группе A"
   ]
  },
  {
   "cell_type": "markdown",
   "metadata": {},
   "source": [
    "Соберем данные обо всех покупках в каждой из групп в один датафрейм."
   ]
  },
  {
   "cell_type": "code",
   "execution_count": 21,
   "metadata": {},
   "outputs": [
    {
     "data": {
      "text/html": [
       "<div>\n",
       "<style scoped>\n",
       "    .dataframe tbody tr th:only-of-type {\n",
       "        vertical-align: middle;\n",
       "    }\n",
       "\n",
       "    .dataframe tbody tr th {\n",
       "        vertical-align: top;\n",
       "    }\n",
       "\n",
       "    .dataframe thead th {\n",
       "        text-align: right;\n",
       "    }\n",
       "</style>\n",
       "<table border=\"1\" class=\"dataframe\">\n",
       "  <thead>\n",
       "    <tr style=\"text-align: right;\">\n",
       "      <th></th>\n",
       "      <th>date</th>\n",
       "      <th>revenueA</th>\n",
       "      <th>ordersA</th>\n",
       "      <th>revenueB</th>\n",
       "      <th>ordersB</th>\n",
       "    </tr>\n",
       "  </thead>\n",
       "  <tbody>\n",
       "    <tr>\n",
       "      <th>0</th>\n",
       "      <td>2019-08-01</td>\n",
       "      <td>142779</td>\n",
       "      <td>23</td>\n",
       "      <td>101217</td>\n",
       "      <td>21</td>\n",
       "    </tr>\n",
       "    <tr>\n",
       "      <th>1</th>\n",
       "      <td>2019-08-02</td>\n",
       "      <td>234381</td>\n",
       "      <td>42</td>\n",
       "      <td>266748</td>\n",
       "      <td>45</td>\n",
       "    </tr>\n",
       "    <tr>\n",
       "      <th>2</th>\n",
       "      <td>2019-08-03</td>\n",
       "      <td>346854</td>\n",
       "      <td>66</td>\n",
       "      <td>380996</td>\n",
       "      <td>61</td>\n",
       "    </tr>\n",
       "    <tr>\n",
       "      <th>3</th>\n",
       "      <td>2019-08-04</td>\n",
       "      <td>388030</td>\n",
       "      <td>77</td>\n",
       "      <td>489567</td>\n",
       "      <td>78</td>\n",
       "    </tr>\n",
       "    <tr>\n",
       "      <th>4</th>\n",
       "      <td>2019-08-05</td>\n",
       "      <td>474413</td>\n",
       "      <td>99</td>\n",
       "      <td>581995</td>\n",
       "      <td>101</td>\n",
       "    </tr>\n",
       "  </tbody>\n",
       "</table>\n",
       "</div>"
      ],
      "text/plain": [
       "        date  revenueA  ordersA  revenueB  ordersB\n",
       "0 2019-08-01    142779       23    101217       21\n",
       "1 2019-08-02    234381       42    266748       45\n",
       "2 2019-08-03    346854       66    380996       61\n",
       "3 2019-08-04    388030       77    489567       78\n",
       "4 2019-08-05    474413       99    581995      101"
      ]
     },
     "execution_count": 21,
     "metadata": {},
     "output_type": "execute_result"
    }
   ],
   "source": [
    "mergedCumulativeRevenue = (cumulativeRevenueA.merge(cumulativeRevenueB, \n",
    "                          left_on='date', right_on='date', how='left', suffixes=['A', 'B']))\n",
    "mergedCumulativeRevenue.head()"
   ]
  },
  {
   "cell_type": "markdown",
   "metadata": {},
   "source": [
    "Затем построим график относительного различия для среднего чека. Добавим горизонтальную ось методом axhline()."
   ]
  },
  {
   "cell_type": "code",
   "execution_count": 22,
   "metadata": {
    "scrolled": false
   },
   "outputs": [
    {
     "data": {
      "image/png": "[encoded data removed]",
      "text/plain": [
       "<Figure size 936x489.6 with 1 Axes>"
      ]
     },
     "metadata": {
      "image/png": {
       "height": 417,
       "width": 781
      },
      "needs_background": "light"
     },
     "output_type": "display_data"
    }
   ],
   "source": [
    "# cтроим отношение средних чеков\n",
    "(plt.plot(mergedCumulativeRevenue['date'], \n",
    "        (mergedCumulativeRevenue['revenueB'] / mergedCumulativeRevenue['ordersB']) / \n",
    "        (mergedCumulativeRevenue['revenueA'] / mergedCumulativeRevenue['ordersA']) - 1))\n",
    "\n",
    "plt.title(\"График относительного изменения кумулятивного среднего чека группы B к группе A\", \n",
    "          fontdict={'fontsize': 15, 'fontweight': 'bold'})\n",
    "\n",
    "# добавляем ось X\n",
    "plt.axhline(y=0, color='black', linestyle='--')\n",
    "plt.show()"
   ]
  },
  {
   "cell_type": "markdown",
   "metadata": {},
   "source": [
    "В нескольких точках график различия среднего чека резко «скачет». Вероятно в дни, в которые наблюдаются резкие всплески, имеются крупные заказы. При этом с 10 по 13 августа 2019 года также имеется резкое падение кумулятивного среднего чека в группе В, которое потенциально быть связано с резким всплеском (крупными заказами) накануне. Найдём эти аномально крупные заказы (выбросы) в ходе дальнейшего исследования. "
   ]
  },
  {
   "cell_type": "markdown",
   "metadata": {},
   "source": [
    "#### График кумулятивной конверсии по группам"
   ]
  },
  {
   "cell_type": "markdown",
   "metadata": {},
   "source": [
    "Посчитаем кумулятивную конверсию для всей таблицы, а затем выделим каждую из них в отдельности и визуализируем."
   ]
  },
  {
   "cell_type": "code",
   "execution_count": 23,
   "metadata": {
    "scrolled": false
   },
   "outputs": [
    {
     "data": {
      "text/html": [
       "<div>\n",
       "<style scoped>\n",
       "    .dataframe tbody tr th:only-of-type {\n",
       "        vertical-align: middle;\n",
       "    }\n",
       "\n",
       "    .dataframe tbody tr th {\n",
       "        vertical-align: top;\n",
       "    }\n",
       "\n",
       "    .dataframe thead th {\n",
       "        text-align: right;\n",
       "    }\n",
       "</style>\n",
       "<table border=\"1\" class=\"dataframe\">\n",
       "  <thead>\n",
       "    <tr style=\"text-align: right;\">\n",
       "      <th></th>\n",
       "      <th>date</th>\n",
       "      <th>group</th>\n",
       "      <th>orders</th>\n",
       "      <th>buyers</th>\n",
       "      <th>revenue</th>\n",
       "      <th>visitors</th>\n",
       "      <th>conversion</th>\n",
       "    </tr>\n",
       "  </thead>\n",
       "  <tbody>\n",
       "    <tr>\n",
       "      <th>0</th>\n",
       "      <td>2019-08-01</td>\n",
       "      <td>A</td>\n",
       "      <td>23</td>\n",
       "      <td>19</td>\n",
       "      <td>142779</td>\n",
       "      <td>719</td>\n",
       "      <td>0.032</td>\n",
       "    </tr>\n",
       "    <tr>\n",
       "      <th>1</th>\n",
       "      <td>2019-08-01</td>\n",
       "      <td>B</td>\n",
       "      <td>21</td>\n",
       "      <td>20</td>\n",
       "      <td>101217</td>\n",
       "      <td>713</td>\n",
       "      <td>0.029</td>\n",
       "    </tr>\n",
       "    <tr>\n",
       "      <th>2</th>\n",
       "      <td>2019-08-02</td>\n",
       "      <td>A</td>\n",
       "      <td>42</td>\n",
       "      <td>36</td>\n",
       "      <td>234381</td>\n",
       "      <td>1338</td>\n",
       "      <td>0.031</td>\n",
       "    </tr>\n",
       "    <tr>\n",
       "      <th>3</th>\n",
       "      <td>2019-08-02</td>\n",
       "      <td>B</td>\n",
       "      <td>45</td>\n",
       "      <td>43</td>\n",
       "      <td>266748</td>\n",
       "      <td>1294</td>\n",
       "      <td>0.035</td>\n",
       "    </tr>\n",
       "    <tr>\n",
       "      <th>4</th>\n",
       "      <td>2019-08-03</td>\n",
       "      <td>A</td>\n",
       "      <td>66</td>\n",
       "      <td>60</td>\n",
       "      <td>346854</td>\n",
       "      <td>1845</td>\n",
       "      <td>0.036</td>\n",
       "    </tr>\n",
       "  </tbody>\n",
       "</table>\n",
       "</div>"
      ],
      "text/plain": [
       "        date group  orders  buyers  revenue  visitors  conversion\n",
       "0 2019-08-01     A      23      19   142779       719       0.032\n",
       "1 2019-08-01     B      21      20   101217       713       0.029\n",
       "2 2019-08-02     A      42      36   234381      1338       0.031\n",
       "3 2019-08-02     B      45      43   266748      1294       0.035\n",
       "4 2019-08-03     A      66      60   346854      1845       0.036"
      ]
     },
     "execution_count": 23,
     "metadata": {},
     "output_type": "execute_result"
    }
   ],
   "source": [
    "cumulativeData['conversion'] = cumulativeData['orders']/cumulativeData['visitors']\n",
    "cumulativeData.head()"
   ]
  },
  {
   "cell_type": "code",
   "execution_count": 24,
   "metadata": {},
   "outputs": [],
   "source": [
    "# отделяем данные по группе A\n",
    "cumulativeDataA = cumulativeData[cumulativeData['group']=='A']\n",
    "\n",
    "# отделяем данные по группе B\n",
    "cumulativeDataB = cumulativeData[cumulativeData['group']=='B']"
   ]
  },
  {
   "cell_type": "code",
   "execution_count": 25,
   "metadata": {
    "scrolled": false
   },
   "outputs": [
    {
     "data": {
      "image/png": "[encoded data removed]",
      "text/plain": [
       "<Figure size 936x489.6 with 1 Axes>"
      ]
     },
     "metadata": {
      "image/png": {
       "height": 418,
       "width": 771
      },
      "needs_background": "light"
     },
     "output_type": "display_data"
    }
   ],
   "source": [
    "# строим графики\n",
    "plt.plot(cumulativeDataA['date'], cumulativeDataA['conversion'], label='A')\n",
    "plt.plot(cumulativeDataB['date'], cumulativeDataB['conversion'], label='B')\n",
    "plt.legend()\n",
    "plt.title(\"График кумулятивной конверсии по группам\", \n",
    "          fontdict={'fontsize': 17, 'fontweight': 'bold'})\n",
    "\n",
    "# задаем масштаб осей\n",
    "plt.axis([dt.datetime(2019, 8, 1), dt.datetime(2019, 8, 31), 0.020, 0.038])\n",
    "plt.show()"
   ]
  },
  {
   "cell_type": "markdown",
   "metadata": {},
   "source": [
    "В начале теста были колебания конверсии в обеих группах, график конверсии в группе B стабилизировался на уровне 0.33-0.34 примерно с 13 августа (при этом было некоторое повышение с 14 по 17 августа), для группы A стабилизация просела примерно с 05 августа и стабилизировалась на уровне 0.26 примерно с 9 августа. По сырым данным показатели кумулятивной конверсии группы B стабильно лучше, чем группы A, при этом различие со временем значительно не увеличивается."
   ]
  },
  {
   "cell_type": "markdown",
   "metadata": {},
   "source": [
    "#### График относительного изменения кумулятивной конверсии группы B к группе A"
   ]
  },
  {
   "cell_type": "markdown",
   "metadata": {},
   "source": [
    "Посмотрим на показатели относительного различия кумулятивных конверсий в исследуемых группах, для чего построим график."
   ]
  },
  {
   "cell_type": "code",
   "execution_count": 26,
   "metadata": {},
   "outputs": [
    {
     "data": {
      "text/html": [
       "<div>\n",
       "<style scoped>\n",
       "    .dataframe tbody tr th:only-of-type {\n",
       "        vertical-align: middle;\n",
       "    }\n",
       "\n",
       "    .dataframe tbody tr th {\n",
       "        vertical-align: top;\n",
       "    }\n",
       "\n",
       "    .dataframe thead th {\n",
       "        text-align: right;\n",
       "    }\n",
       "</style>\n",
       "<table border=\"1\" class=\"dataframe\">\n",
       "  <thead>\n",
       "    <tr style=\"text-align: right;\">\n",
       "      <th></th>\n",
       "      <th>date</th>\n",
       "      <th>conversionA</th>\n",
       "      <th>conversionB</th>\n",
       "    </tr>\n",
       "  </thead>\n",
       "  <tbody>\n",
       "    <tr>\n",
       "      <th>0</th>\n",
       "      <td>2019-08-01</td>\n",
       "      <td>0.032</td>\n",
       "      <td>0.029</td>\n",
       "    </tr>\n",
       "    <tr>\n",
       "      <th>1</th>\n",
       "      <td>2019-08-02</td>\n",
       "      <td>0.031</td>\n",
       "      <td>0.035</td>\n",
       "    </tr>\n",
       "    <tr>\n",
       "      <th>2</th>\n",
       "      <td>2019-08-03</td>\n",
       "      <td>0.036</td>\n",
       "      <td>0.034</td>\n",
       "    </tr>\n",
       "    <tr>\n",
       "      <th>3</th>\n",
       "      <td>2019-08-04</td>\n",
       "      <td>0.030</td>\n",
       "      <td>0.030</td>\n",
       "    </tr>\n",
       "    <tr>\n",
       "      <th>4</th>\n",
       "      <td>2019-08-05</td>\n",
       "      <td>0.030</td>\n",
       "      <td>0.031</td>\n",
       "    </tr>\n",
       "  </tbody>\n",
       "</table>\n",
       "</div>"
      ],
      "text/plain": [
       "        date  conversionA  conversionB\n",
       "0 2019-08-01        0.032        0.029\n",
       "1 2019-08-02        0.031        0.035\n",
       "2 2019-08-03        0.036        0.034\n",
       "3 2019-08-04        0.030        0.030\n",
       "4 2019-08-05        0.030        0.031"
      ]
     },
     "execution_count": 26,
     "metadata": {},
     "output_type": "execute_result"
    }
   ],
   "source": [
    "CumulativeConversions = (cumulativeDataA[['date','conversion']]\n",
    "                        .merge(cumulativeDataB[['date','conversion']], left_on='date', right_on='date', \n",
    "                        how='left', suffixes=['A', 'B']))\n",
    "CumulativeConversions.head()"
   ]
  },
  {
   "cell_type": "code",
   "execution_count": 27,
   "metadata": {
    "scrolled": false
   },
   "outputs": [
    {
     "data": {
      "image/png": "[encoded data removed]",
      "text/plain": [
       "<Figure size 936x489.6 with 1 Axes>"
      ]
     },
     "metadata": {
      "image/png": {
       "height": 417,
       "width": 766
      },
      "needs_background": "light"
     },
     "output_type": "display_data"
    }
   ],
   "source": [
    "(plt.plot(CumulativeConversions['date'], CumulativeConversions['conversionB'] / CumulativeConversions['conversionA'] - 1, \n",
    "label=\"Прирост конверсии группы B относительно группы A\"))\n",
    "plt.legend()\n",
    "plt.title(\"График относительного изменения кумулятивной конверсии группы B к группе A\", \n",
    "          fontdict={'fontsize': 15, 'fontweight': 'bold'})\n",
    "\n",
    "plt.axhline(y=0, color='black', linestyle='--')\n",
    "plt.axhline(y=0.30, color='red', linestyle='--')\n",
    "\n",
    "# задаем масштаб осей\n",
    "plt.axis([dt.datetime(2019, 8, 1), dt.datetime(2019, 8, 31), -0.1, 0.5])\n",
    "plt.show()"
   ]
  },
  {
   "cell_type": "markdown",
   "metadata": {},
   "source": [
    "В начале теста группа B немного проигрывала группе A, но примерно с 06 августа прирост конверсии планомерно повышался. При этом показатели прироста конверсии в группе B еще точно не установились и остаются в диапазоне от 0.30 до 0.35. В то же время стоит проанализировать аномалии, возможно, они изменят картину."
   ]
  },
  {
   "cell_type": "markdown",
   "metadata": {},
   "source": [
    "### Работа с аномальными значениями"
   ]
  },
  {
   "cell_type": "markdown",
   "metadata": {},
   "source": [
    "#### График количества заказов по пользователям, аномальные пользователи"
   ]
  },
  {
   "cell_type": "markdown",
   "metadata": {},
   "source": [
    "Подсчитаем количество заказов по пользователям, затем визуализируем получившийся результат."
   ]
  },
  {
   "cell_type": "code",
   "execution_count": 28,
   "metadata": {},
   "outputs": [],
   "source": [
    "ordersByUsers = (orders.groupby('visitorid', as_index=False)\n",
    "                .agg({'transactionid': 'nunique'}))\n",
    "\n",
    "ordersByUsers.columns = ['userId', 'orders']"
   ]
  },
  {
   "cell_type": "code",
   "execution_count": 29,
   "metadata": {
    "scrolled": true
   },
   "outputs": [
    {
     "data": {
      "text/html": [
       "<div>\n",
       "<style scoped>\n",
       "    .dataframe tbody tr th:only-of-type {\n",
       "        vertical-align: middle;\n",
       "    }\n",
       "\n",
       "    .dataframe tbody tr th {\n",
       "        vertical-align: top;\n",
       "    }\n",
       "\n",
       "    .dataframe thead th {\n",
       "        text-align: right;\n",
       "    }\n",
       "</style>\n",
       "<table border=\"1\" class=\"dataframe\">\n",
       "  <thead>\n",
       "    <tr style=\"text-align: right;\">\n",
       "      <th></th>\n",
       "      <th>userId</th>\n",
       "      <th>orders</th>\n",
       "    </tr>\n",
       "  </thead>\n",
       "  <tbody>\n",
       "    <tr>\n",
       "      <th>591</th>\n",
       "      <td>2458001652</td>\n",
       "      <td>6</td>\n",
       "    </tr>\n",
       "    <tr>\n",
       "      <th>569</th>\n",
       "      <td>2378935119</td>\n",
       "      <td>5</td>\n",
       "    </tr>\n",
       "    <tr>\n",
       "      <th>917</th>\n",
       "      <td>3803269165</td>\n",
       "      <td>4</td>\n",
       "    </tr>\n",
       "    <tr>\n",
       "      <th>1023</th>\n",
       "      <td>4256040402</td>\n",
       "      <td>4</td>\n",
       "    </tr>\n",
       "    <tr>\n",
       "      <th>744</th>\n",
       "      <td>3062433592</td>\n",
       "      <td>4</td>\n",
       "    </tr>\n",
       "  </tbody>\n",
       "</table>\n",
       "</div>"
      ],
      "text/plain": [
       "          userId  orders\n",
       "591   2458001652       6\n",
       "569   2378935119       5\n",
       "917   3803269165       4\n",
       "1023  4256040402       4\n",
       "744   3062433592       4"
      ]
     },
     "metadata": {},
     "output_type": "display_data"
    }
   ],
   "source": [
    "display(ordersByUsers.sort_values(by='orders', ascending=False).head(5))"
   ]
  },
  {
   "cell_type": "code",
   "execution_count": 30,
   "metadata": {},
   "outputs": [
    {
     "data": {
      "image/png": "[encoded data removed]",
      "text/plain": [
       "<Figure size 936x489.6 with 1 Axes>"
      ]
     },
     "metadata": {
      "image/png": {
       "height": 432,
       "width": 785
      },
      "needs_background": "light"
     },
     "output_type": "display_data"
    }
   ],
   "source": [
    "plt.hist(ordersByUsers['orders'])\n",
    "plt.xlim(xmin=1, xmax=6)\n",
    "plt.title(\"График количества заказов, сделанных пользователями\", fontdict={'fontsize': 17, 'fontweight': 'bold'})\n",
    "plt.xlabel(\"Количество заказов\")\n",
    "plt.ylabel(\"Количество пользователей\")\n",
    "\n",
    "plt.show()"
   ]
  },
  {
   "cell_type": "code",
   "execution_count": 31,
   "metadata": {
    "scrolled": false
   },
   "outputs": [
    {
     "data": {
      "image/png": "[encoded data removed]",
      "text/plain": [
       "<Figure size 936x489.6 with 1 Axes>"
      ]
     },
     "metadata": {
      "image/png": {
       "height": 418,
       "width": 765
      },
      "needs_background": "light"
     },
     "output_type": "display_data"
    }
   ],
   "source": [
    "x_values = pd.Series(range(0,len(ordersByUsers)))\n",
    "plt.scatter(x_values, ordersByUsers['orders'])\n",
    "\n",
    "plt.ticklabel_format(style='plain', axis='y')\n",
    "plt.title(\"График количества заказов, сделанных пользователями\", fontdict={'fontsize': 17, 'fontweight': 'bold'})\n",
    "plt.ylabel(\"Количество заказов\")\n",
    "\n",
    "plt.show()"
   ]
  },
  {
   "cell_type": "markdown",
   "metadata": {},
   "source": [
    "Судя по графику большинство пользователей имеют от 1 до 3 заказов, небольшое количество пользователей имеет 4 и более заказов, однако их точная доля в данных не известна. Посчитаем выборочные перцентили количества заказов на одного пользователя."
   ]
  },
  {
   "cell_type": "code",
   "execution_count": 32,
   "metadata": {
    "scrolled": true
   },
   "outputs": [
    {
     "name": "stdout",
     "output_type": "stream",
     "text": [
      "95 Перцентиль количества заказов, сделанных каждым пользователем: 1.5\n",
      "99 Перцентиль количества заказов, сделанных каждым пользователем: 3.0\n"
     ]
    }
   ],
   "source": [
    "for value in ([95, 99]):\n",
    "    perc = np.percentile(ordersByUsers['orders'], value)\n",
    "    print(f'{value} Перцентиль количества заказов, сделанных каждым пользователем:', perc)"
   ]
  },
  {
   "cell_type": "markdown",
   "metadata": {},
   "source": [
    "Не более 5% пользователей оформляли больше чем 2 заказа, и 1% пользователей заказывали более трех раз.\n",
    "В данном случае с учетом того, что период в который проводился тест составляет примерно 1 месяц, полагаю разумным выбрать 3 заказа на одного пользователя как верхнюю границу числа заказов."
   ]
  },
  {
   "cell_type": "markdown",
   "metadata": {},
   "source": [
    "#### График стоимости заказов, аномальные заказы"
   ]
  },
  {
   "cell_type": "markdown",
   "metadata": {},
   "source": [
    "Визуализируем стоимость заказов, сделанных пользователями."
   ]
  },
  {
   "cell_type": "code",
   "execution_count": 33,
   "metadata": {},
   "outputs": [
    {
     "data": {
      "image/png": "[encoded data removed]",
      "text/plain": [
       "<Figure size 936x489.6 with 1 Axes>"
      ]
     },
     "metadata": {
      "image/png": {
       "height": 418,
       "width": 799
      },
      "needs_background": "light"
     },
     "output_type": "display_data"
    }
   ],
   "source": [
    "x_values = pd.Series(range(0,len(orders['revenue'])))\n",
    "plt.scatter(x_values, orders['revenue'])\n",
    "plt.ticklabel_format(style='plain', axis='y')\n",
    "plt.title(\"График стоимости заказов\", fontdict={'fontsize': 17, 'fontweight': 'bold'})\n",
    "plt.ylabel(\"Сумма заказа\")\n",
    "\n",
    "plt.show()"
   ]
  },
  {
   "cell_type": "markdown",
   "metadata": {},
   "source": [
    "Судя по графику большинство пользователей заказывают на сумму гораздо менее 100000 рублей. На графике очевидно, что имеются отдельные выбросы с суммой заказа от 200000 до свыше 1,2 млн. рублей. Посчитаем выборочные перцентили стоимости заказа  пользователя."
   ]
  },
  {
   "cell_type": "code",
   "execution_count": 34,
   "metadata": {
    "scrolled": false
   },
   "outputs": [
    {
     "name": "stdout",
     "output_type": "stream",
     "text": [
      "95 Перцентиль стоимости заказа, сделанного пользователем: 28034 рублей\n",
      "99 Перцентиль стоимости заказа, сделанного пользователем: 56458 рублей\n"
     ]
    }
   ],
   "source": [
    "for value in ([95, 99]):\n",
    "    perc = round(np.percentile(orders['revenue'], value))\n",
    "    print(f'{value} Перцентиль стоимости заказа, сделанного пользователем: {perc} рублей')"
   ]
  },
  {
   "cell_type": "markdown",
   "metadata": {},
   "source": [
    "Не более 5% пользователей оформляли заказы стоимостью свыше 28034 рублей и только 1 % пользователей заказывали заказы стоимостью свыше 56458 рублей. В данном случае полагаю разумным для дальнейшего исследования выбрать заказы стоимостью не более 35000 рублей как верхнюю границу стоимости заказов."
   ]
  },
  {
   "cell_type": "markdown",
   "metadata": {},
   "source": [
    "### Проверка статистических параметров различий"
   ]
  },
  {
   "cell_type": "markdown",
   "metadata": {},
   "source": [
    "Подготовим имеющиеся данные для дальнейших исследований статистических различий."
   ]
  },
  {
   "cell_type": "code",
   "execution_count": 35,
   "metadata": {
    "scrolled": false
   },
   "outputs": [
    {
     "data": {
      "text/html": [
       "<div>\n",
       "<style scoped>\n",
       "    .dataframe tbody tr th:only-of-type {\n",
       "        vertical-align: middle;\n",
       "    }\n",
       "\n",
       "    .dataframe tbody tr th {\n",
       "        vertical-align: top;\n",
       "    }\n",
       "\n",
       "    .dataframe thead th {\n",
       "        text-align: right;\n",
       "    }\n",
       "</style>\n",
       "<table border=\"1\" class=\"dataframe\">\n",
       "  <thead>\n",
       "    <tr style=\"text-align: right;\">\n",
       "      <th></th>\n",
       "      <th>date</th>\n",
       "      <th>ordersPerDateA</th>\n",
       "      <th>revenuePerDateA</th>\n",
       "      <th>ordersPerDateB</th>\n",
       "      <th>revenuePerDateB</th>\n",
       "      <th>visitorsPerDateA</th>\n",
       "      <th>visitorsPerDateB</th>\n",
       "    </tr>\n",
       "  </thead>\n",
       "  <tbody>\n",
       "    <tr>\n",
       "      <th>0</th>\n",
       "      <td>2019-08-01</td>\n",
       "      <td>23</td>\n",
       "      <td>142779</td>\n",
       "      <td>21</td>\n",
       "      <td>101217</td>\n",
       "      <td>719</td>\n",
       "      <td>713</td>\n",
       "    </tr>\n",
       "    <tr>\n",
       "      <th>1</th>\n",
       "      <td>2019-08-02</td>\n",
       "      <td>19</td>\n",
       "      <td>91602</td>\n",
       "      <td>24</td>\n",
       "      <td>165531</td>\n",
       "      <td>619</td>\n",
       "      <td>581</td>\n",
       "    </tr>\n",
       "    <tr>\n",
       "      <th>2</th>\n",
       "      <td>2019-08-03</td>\n",
       "      <td>24</td>\n",
       "      <td>112473</td>\n",
       "      <td>16</td>\n",
       "      <td>114248</td>\n",
       "      <td>507</td>\n",
       "      <td>509</td>\n",
       "    </tr>\n",
       "    <tr>\n",
       "      <th>3</th>\n",
       "      <td>2019-08-04</td>\n",
       "      <td>11</td>\n",
       "      <td>41176</td>\n",
       "      <td>17</td>\n",
       "      <td>108571</td>\n",
       "      <td>717</td>\n",
       "      <td>770</td>\n",
       "    </tr>\n",
       "    <tr>\n",
       "      <th>4</th>\n",
       "      <td>2019-08-05</td>\n",
       "      <td>22</td>\n",
       "      <td>86383</td>\n",
       "      <td>23</td>\n",
       "      <td>92428</td>\n",
       "      <td>756</td>\n",
       "      <td>707</td>\n",
       "    </tr>\n",
       "  </tbody>\n",
       "</table>\n",
       "</div>"
      ],
      "text/plain": [
       "        date  ordersPerDateA  revenuePerDateA  ordersPerDateB  \\\n",
       "0 2019-08-01              23           142779              21   \n",
       "1 2019-08-02              19            91602              24   \n",
       "2 2019-08-03              24           112473              16   \n",
       "3 2019-08-04              11            41176              17   \n",
       "4 2019-08-05              22            86383              23   \n",
       "\n",
       "   revenuePerDateB  visitorsPerDateA  visitorsPerDateB  \n",
       "0           101217               719               713  \n",
       "1           165531               619               581  \n",
       "2           114248               507               509  \n",
       "3           108571               717               770  \n",
       "4            92428               756               707  "
      ]
     },
     "execution_count": 35,
     "metadata": {},
     "output_type": "execute_result"
    }
   ],
   "source": [
    "# количество пользователей в выбранную дату в группе A\n",
    "visitorsADaily = visitors[visitors['group'] == 'A'][['date', 'visitors']]\n",
    "visitorsADaily.columns = ['date', 'visitorsPerDateA']\n",
    "\n",
    "# количество пользователей в выбранную дату в группе B\n",
    "visitorsBDaily = visitors[visitors['group'] == 'B'][['date', 'visitors']]\n",
    "visitorsBDaily.columns = ['date', 'visitorsPerDateB']\n",
    "\n",
    "# количество заказов и суммарная выручка в выбранную дату в группе А\n",
    "ordersADaily = (\n",
    "    orders[orders['group'] == 'A'][['date', 'transactionid', 'visitorid', 'revenue']]\n",
    "    .groupby('date', as_index=False)\n",
    "    .agg({'transactionid': pd.Series.nunique, 'revenue': 'sum'})\n",
    ")\n",
    "ordersADaily.columns = ['date', 'ordersPerDateA', 'revenuePerDateA']\n",
    "\n",
    "# количество заказов и суммарная выручка в выбранную дату в группе B\n",
    "ordersBDaily = (\n",
    "    orders[orders['group'] == 'B'][['date', 'transactionid', 'visitorid', 'revenue']]\n",
    "    .groupby('date', as_index=False)\n",
    "    .agg({'transactionid': pd.Series.nunique, 'revenue': 'sum'})\n",
    ")\n",
    "ordersBDaily.columns = ['date', 'ordersPerDateB', 'revenuePerDateB']\n",
    "\n",
    "data = (\n",
    "    ordersADaily.merge(\n",
    "        ordersBDaily, left_on='date', right_on='date', how='left'\n",
    "    )\n",
    "    .merge(visitorsADaily, left_on='date', right_on='date', how='left')\n",
    "    .merge(visitorsBDaily, left_on='date', right_on='date', how='left')\n",
    ")\n",
    "\n",
    "data.head(5)"
   ]
  },
  {
   "cell_type": "markdown",
   "metadata": {},
   "source": [
    "#### Различия в конверсии между группами по \"сырым\" данным"
   ]
  },
  {
   "cell_type": "markdown",
   "metadata": {},
   "source": [
    "Посчитаем статистическую значимость различия в конверсии между группами по \"сырым\" данным (до исключения аномальных значений). Для чего создадим таблицы ordersByUsersA и ordersByUsersB со столбцами 'user_id' и 'orders', в них для пользователей, которые заказывали хотя бы 1 раз, укажем количество совершённых заказов."
   ]
  },
  {
   "cell_type": "code",
   "execution_count": 36,
   "metadata": {},
   "outputs": [
    {
     "data": {
      "text/html": [
       "<div>\n",
       "<style scoped>\n",
       "    .dataframe tbody tr th:only-of-type {\n",
       "        vertical-align: middle;\n",
       "    }\n",
       "\n",
       "    .dataframe tbody tr th {\n",
       "        vertical-align: top;\n",
       "    }\n",
       "\n",
       "    .dataframe thead th {\n",
       "        text-align: right;\n",
       "    }\n",
       "</style>\n",
       "<table border=\"1\" class=\"dataframe\">\n",
       "  <thead>\n",
       "    <tr style=\"text-align: right;\">\n",
       "      <th></th>\n",
       "      <th>user_id</th>\n",
       "      <th>orders</th>\n",
       "    </tr>\n",
       "  </thead>\n",
       "  <tbody>\n",
       "    <tr>\n",
       "      <th>58</th>\n",
       "      <td>611059232</td>\n",
       "      <td>3</td>\n",
       "    </tr>\n",
       "    <tr>\n",
       "      <th>211</th>\n",
       "      <td>2108163459</td>\n",
       "      <td>3</td>\n",
       "    </tr>\n",
       "    <tr>\n",
       "      <th>310</th>\n",
       "      <td>2988190573</td>\n",
       "      <td>3</td>\n",
       "    </tr>\n",
       "    <tr>\n",
       "      <th>409</th>\n",
       "      <td>3908431265</td>\n",
       "      <td>3</td>\n",
       "    </tr>\n",
       "    <tr>\n",
       "      <th>416</th>\n",
       "      <td>3967698036</td>\n",
       "      <td>3</td>\n",
       "    </tr>\n",
       "  </tbody>\n",
       "</table>\n",
       "</div>"
      ],
      "text/plain": [
       "        user_id  orders\n",
       "58    611059232       3\n",
       "211  2108163459       3\n",
       "310  2988190573       3\n",
       "409  3908431265       3\n",
       "416  3967698036       3"
      ]
     },
     "execution_count": 36,
     "metadata": {},
     "output_type": "execute_result"
    }
   ],
   "source": [
    "ordersByUsersA = (\n",
    "    orders[orders['group'] == 'A']\n",
    "    .groupby('visitorid', as_index=False)\n",
    "    .agg({'transactionid': pd.Series.nunique})\n",
    ")\n",
    "ordersByUsersA.columns = ['user_id', 'orders']\n",
    "ordersByUsersA.sort_values(by='orders', ascending=False).head()"
   ]
  },
  {
   "cell_type": "code",
   "execution_count": 37,
   "metadata": {
    "scrolled": true
   },
   "outputs": [
    {
     "data": {
      "text/html": [
       "<div>\n",
       "<style scoped>\n",
       "    .dataframe tbody tr th:only-of-type {\n",
       "        vertical-align: middle;\n",
       "    }\n",
       "\n",
       "    .dataframe tbody tr th {\n",
       "        vertical-align: top;\n",
       "    }\n",
       "\n",
       "    .dataframe thead th {\n",
       "        text-align: right;\n",
       "    }\n",
       "</style>\n",
       "<table border=\"1\" class=\"dataframe\">\n",
       "  <thead>\n",
       "    <tr style=\"text-align: right;\">\n",
       "      <th></th>\n",
       "      <th>user_id</th>\n",
       "      <th>orders</th>\n",
       "    </tr>\n",
       "  </thead>\n",
       "  <tbody>\n",
       "    <tr>\n",
       "      <th>340</th>\n",
       "      <td>2458001652</td>\n",
       "      <td>6</td>\n",
       "    </tr>\n",
       "    <tr>\n",
       "      <th>326</th>\n",
       "      <td>2378935119</td>\n",
       "      <td>5</td>\n",
       "    </tr>\n",
       "    <tr>\n",
       "      <th>501</th>\n",
       "      <td>3717692402</td>\n",
       "      <td>4</td>\n",
       "    </tr>\n",
       "    <tr>\n",
       "      <th>514</th>\n",
       "      <td>3803269165</td>\n",
       "      <td>4</td>\n",
       "    </tr>\n",
       "    <tr>\n",
       "      <th>580</th>\n",
       "      <td>4256040402</td>\n",
       "      <td>4</td>\n",
       "    </tr>\n",
       "  </tbody>\n",
       "</table>\n",
       "</div>"
      ],
      "text/plain": [
       "        user_id  orders\n",
       "340  2458001652       6\n",
       "326  2378935119       5\n",
       "501  3717692402       4\n",
       "514  3803269165       4\n",
       "580  4256040402       4"
      ]
     },
     "execution_count": 37,
     "metadata": {},
     "output_type": "execute_result"
    }
   ],
   "source": [
    "ordersByUsersB = (\n",
    "    orders[orders['group'] == 'B']\n",
    "    .groupby('visitorid', as_index=False)\n",
    "    .agg({'transactionid': pd.Series.nunique})\n",
    ")\n",
    "ordersByUsersB.columns = ['user_id', 'orders']\n",
    "ordersByUsersB.sort_values(by='orders', ascending=False).head()"
   ]
  },
  {
   "cell_type": "markdown",
   "metadata": {},
   "source": [
    "Объявим переменные sampleA и sampleB, в которых пользователям из разных групп будет соответствовать количество заказов.    \n",
    "Для этого объединим списки с количеством заказов для каждого пользователя из таблиц ordersByUsersA и ordersByUsersB с данными обо всех пользователях, включая тех, которые не делали заказы (их количество будет равно разнице между суммой посетителей и количеством записей о заказах)."
   ]
  },
  {
   "cell_type": "code",
   "execution_count": 38,
   "metadata": {},
   "outputs": [],
   "source": [
    "sampleA = pd.concat([ordersByUsersA['orders'],pd.Series(0, \n",
    "        index=np.arange(data['visitorsPerDateA'].sum() - len(ordersByUsersA['orders'])), name='orders')],axis=0)\n",
    "\n",
    "sampleB = pd.concat([ordersByUsersB['orders'],pd.Series(0, \n",
    "        index=np.arange(data['visitorsPerDateB'].sum() - len(ordersByUsersB['orders'])), name='orders')],axis=0)"
   ]
  },
  {
   "cell_type": "markdown",
   "metadata": {},
   "source": [
    "Проверим одну из получившихся выборок данных методом Шапиро-Уилка и узнаем, можно ли считать сравниваемые значения количества заказов для подсчета конверсии нормально распределёнными."
   ]
  },
  {
   "cell_type": "code",
   "execution_count": 39,
   "metadata": {},
   "outputs": [
    {
     "name": "stdout",
     "output_type": "stream",
     "text": [
      "p-значение:  0.0\n",
      "Отвергаем нулевую гипотезу: распределение не нормально\n"
     ]
    }
   ],
   "source": [
    "alpha = 0.05  # критический уровень статистической значимости\n",
    "\n",
    "results = stats.shapiro(sampleA)\n",
    "p_value = results[1]  # второе значение в массиве результатов (с индексом 1) - p-value\n",
    "\n",
    "print('p-значение: ', p_value)\n",
    "\n",
    "if p_value < alpha:\n",
    "    print('Отвергаем нулевую гипотезу: распределение не нормально')\n",
    "else:\n",
    "    print('Не получилось отвергнуть нулевую гипотезу, распределение нормально')"
   ]
  },
  {
   "cell_type": "markdown",
   "metadata": {},
   "source": [
    "Поскольку в одной из групп данных по количествам заказов распределение значений не нормально (т.е. имеются выбросы), для выявления статистической значимости различий в конверсии будем применять непараметрический тест Манна-Уитни.\n",
    "\n",
    "После этого найдем конверсию в каждой группе, для чего поделим сумму заказов на число пользователей и найдём среднее значение данного показателя и выведем относительный прирост конверсии группы B по сравнению с группой А."
   ]
  },
  {
   "cell_type": "markdown",
   "metadata": {},
   "source": [
    "**Введем основную и альтернативные гипотезы:**\n",
    "\n",
    "H0: Различия в конверсии между группами A и B по «сырым» данным отсутствуют.     \n",
    "H1: Различия в конверсии между группами A и B по «сырым» данным имеются. "
   ]
  },
  {
   "cell_type": "code",
   "execution_count": 40,
   "metadata": {
    "scrolled": true
   },
   "outputs": [
    {
     "name": "stdout",
     "output_type": "stream",
     "text": [
      "p-значение:  1.6721378767275212e-05\n",
      "Отвергаем нулевую гипотезу: разница статистически значима\n"
     ]
    }
   ],
   "source": [
    "alpha = 0.05  # критический уровень статистической значимости\n",
    "\n",
    "results = (stats.mannwhitneyu(sampleA, sampleB))\n",
    "\n",
    "print('p-значение: ', results.pvalue)\n",
    "\n",
    "if results.pvalue < alpha:\n",
    "    print('Отвергаем нулевую гипотезу: разница статистически значима')\n",
    "else:\n",
    "    print('Не получилось отвергнуть нулевую гипотезу, вывод о различии сделать нельзя')"
   ]
  },
  {
   "cell_type": "code",
   "execution_count": 41,
   "metadata": {},
   "outputs": [
    {
     "name": "stdout",
     "output_type": "stream",
     "text": [
      "Относительный прирост конверсии группы B по сравнению с группой А составляет 35.45%\n"
     ]
    }
   ],
   "source": [
    "print('Относительный прирост конверсии группы B по сравнению с группой А составляет {0:.2f}%'\n",
    "      .format((sampleB.mean() / sampleA.mean() - 1) * 100))"
   ]
  },
  {
   "cell_type": "markdown",
   "metadata": {},
   "source": [
    "Исходя из анализа «сырых» данных можно сделать вывод о том, что в конверсии между группами имеются статистически значимые различия. Прирост конверсии в группе B на «сырых» данных составляет 35.45%. В то же время, как мы выяснили ранее, в данных имеются выбросы. Необходимо проверить аналогичную гипотезу на очищенных данных, после чего сравнить указанные показатели."
   ]
  },
  {
   "cell_type": "markdown",
   "metadata": {},
   "source": [
    "#### Различия в среднем чеке заказа между группами по \"сырым\" данным"
   ]
  },
  {
   "cell_type": "markdown",
   "metadata": {},
   "source": [
    "Проверим методом Шапиро-Уилка, можно ли считать сравниваемые значения среднего чека (средней стоимости заказа) нормально распределёнными."
   ]
  },
  {
   "cell_type": "code",
   "execution_count": 42,
   "metadata": {},
   "outputs": [
    {
     "name": "stdout",
     "output_type": "stream",
     "text": [
      "p-значение:  2.8240222045454137e-31\n",
      "Отвергаем нулевую гипотезу: распределение не нормально\n"
     ]
    }
   ],
   "source": [
    "alpha = 0.05  # критический уровень статистической значимости\n",
    "\n",
    "results_check_shapiro = stats.shapiro(orders[orders['group']=='A']['revenue'])\n",
    "p_value_check_shapiro = results_check_shapiro[1]  # второе значение в массиве результатов (с индексом 1) - p-value\n",
    "\n",
    "print('p-значение: ', p_value_check_shapiro)\n",
    "\n",
    "if p_value_check_shapiro < alpha:\n",
    "    print('Отвергаем нулевую гипотезу: распределение не нормально')\n",
    "else:\n",
    "    print('Не получилось отвергнуть нулевую гипотезу, распределение нормально')"
   ]
  },
  {
   "cell_type": "markdown",
   "metadata": {},
   "source": [
    "Поскольку в одной из групп данных по стоимости заказа распределение значений не нормально (т.е. имеются выбросы), для выявления статистической значимости различий в среднем чеке (средней стоимости заказа) будем применять непараметрический тест Манна-Уитни.\n",
    "\n",
    "Затем найдем относительный прирост размера среднего чека группы B по сравнению с группой А."
   ]
  },
  {
   "cell_type": "markdown",
   "metadata": {},
   "source": [
    "**Введем основную и альтернативные гипотезы:**\n",
    "\n",
    "H0: Различия в среднем чеке между группами A и B по «сырым» данным отсутствуют.     \n",
    "H1: Различия в среднем чеке между группами A и B по «сырым» данным имеются."
   ]
  },
  {
   "cell_type": "code",
   "execution_count": 43,
   "metadata": {
    "scrolled": false
   },
   "outputs": [
    {
     "name": "stdout",
     "output_type": "stream",
     "text": [
      "p-значение:  0.764664443354747\n",
      "Не получилось отвергнуть нулевую гипотезу, вывод о различии сделать нельзя\n",
      "Относительный прирост среднего чека группы B по сравнению с группой А составляет 28.39%\n"
     ]
    }
   ],
   "source": [
    "alpha = 0.05  # критический уровень статистической значимости\n",
    "\n",
    "results_check_mw = stats.mannwhitneyu(orders[orders['group']=='A']['revenue'], orders[orders['group']=='B']['revenue'])\n",
    "\n",
    "print('p-значение: ', results_check_mw.pvalue)\n",
    "\n",
    "if results_check_mw.pvalue < alpha:\n",
    "    print('Отвергаем нулевую гипотезу: разница статистически значима')\n",
    "else:\n",
    "    print('Не получилось отвергнуть нулевую гипотезу, вывод о различии сделать нельзя')\n",
    "    \n",
    "print('Относительный прирост среднего чека группы B по сравнению с группой А составляет {0:.2f}%'\n",
    "      .format((orders[orders['group']=='B']['revenue'].mean() / orders[orders['group']=='A']['revenue'].mean() - 1) * 100))"
   ]
  },
  {
   "cell_type": "markdown",
   "metadata": {},
   "source": [
    "Исходя из анализа «сырых» данных можно сделать вывод о том, что между группами статистически значимые различия в среднем чеке отсутствуют, даже не смотря на значительный прирост среднего чека в группе B - на 28.39 %. В то же время, как мы выяснили ранее, в данных имеются выбросы. Необходимо проверить аналогичную гипотезу на очищенных данных, после чего сравнить указанные показатели."
   ]
  },
  {
   "cell_type": "markdown",
   "metadata": {},
   "source": [
    "#### \"Очистка\" данных для дальнейшего исследования статистических различий"
   ]
  },
  {
   "cell_type": "markdown",
   "metadata": {},
   "source": [
    "Как мы выяснили ранее 95-й и 99-й перцентили средних чеков равны 28 034 рублей и 56 458 рублей, а 95-й и 99-й перцентили количества заказов на одного пользователя равны 2 и 3 заказа на пользователя.   \n",
    "Мы определили, что с учетом временного интервала, в который проводилось тестирование гипотезы (1 месяц) разумно верхней границей стоимости заказа указать свыше 35000 рублей, а количество заказов - больше 3. Так мы уберём от 1 до 5% пользователей с наибольшим числом заказов и от 1% до 5% пользователей с аномально дорогими для наших выборок заказами.     \n",
    "Сделаем срезы пользователей с числом заказов больше 3 и пользователей, совершивших заказы дороже 35 000, а затем объединим их в таблице аномальных пользователей (abnormalUsers), после чего посмотрим какой процент об общего числа данных тестовых значениях они занимают."
   ]
  },
  {
   "cell_type": "code",
   "execution_count": 44,
   "metadata": {},
   "outputs": [],
   "source": [
    "# узнаем данные пользователей с количеством заказов больше 3\n",
    "usersWithManyOrders = pd.concat([\n",
    "        ordersByUsersA[ordersByUsersA['orders'] > 3]['user_id'],\n",
    "        ordersByUsersB[ordersByUsersB['orders'] > 3]['user_id'],\n",
    "    ],\n",
    "    axis=0,)\n",
    "\n",
    "# узнаем данные пользователей с суммой заказа больше 35000\n",
    "usersWithExpensiveOrders = orders[orders['revenue'] > 35000]['visitorid']"
   ]
  },
  {
   "cell_type": "code",
   "execution_count": 45,
   "metadata": {},
   "outputs": [],
   "source": [
    "# объединим обе таблицы с аномальными значениями в отдельную таблицу\n",
    "abnormalUsers = (\n",
    "    pd.concat([usersWithManyOrders, usersWithExpensiveOrders], axis=0)\n",
    "    .drop_duplicates()\n",
    "    .sort_values())"
   ]
  },
  {
   "cell_type": "code",
   "execution_count": 46,
   "metadata": {
    "scrolled": true
   },
   "outputs": [
    {
     "name": "stdout",
     "output_type": "stream",
     "text": [
      "Количество исключаемых пользователей: 37, что составляет 3.59% от общего числа пользователей в тестовых группах\n"
     ]
    }
   ],
   "source": [
    "print(f'Количество исключаемых пользователей: {abnormalUsers.shape[0]}, \\\n",
    "что составляет {round((abnormalUsers.shape[0] / orders.visitorid.nunique()) * 100, 2)}% \\\n",
    "от общего числа пользователей в тестовых группах')"
   ]
  },
  {
   "cell_type": "markdown",
   "metadata": {},
   "source": [
    "#### Различия в конверсии между группами по \"очищенным\" данным"
   ]
  },
  {
   "cell_type": "markdown",
   "metadata": {},
   "source": [
    "Создадим переменные sampleAFiltered и sampleBFiltered, в которых сохраним очищенные данные о заказах по каждой группе пользователей, исключив из них аномальных пользователей."
   ]
  },
  {
   "cell_type": "code",
   "execution_count": 47,
   "metadata": {},
   "outputs": [],
   "source": [
    "# \"очищенные\" данные по заказам для тестовой группы А\n",
    "sampleAFiltered = pd.concat(\n",
    "    [ordersByUsersA[np.logical_not(ordersByUsersA['user_id'].isin(abnormalUsers))]['orders'],\n",
    "    pd.Series(0, index=np.arange(data['visitorsPerDateA'].sum() - len(ordersByUsersA['orders'])),\n",
    "    name='orders',),],axis=0,)\n",
    "\n",
    "# \"очищенные\" данные по заказам для тестовой группы B\n",
    "sampleBFiltered = pd.concat(\n",
    "    [ordersByUsersB[np.logical_not(ordersByUsersB['user_id'].isin(abnormalUsers))]['orders'],\n",
    "    pd.Series(0, index=np.arange(data['visitorsPerDateB'].sum() - len(ordersByUsersB['orders'])),\n",
    "    name='orders',),],axis=0,)"
   ]
  },
  {
   "cell_type": "markdown",
   "metadata": {},
   "source": [
    "Для выявления статистической значимости различий также будем применять непараметрический тест Манна-Уитни. Затем найдем конверсию в каждой группе и выведем относительный прирост конверсии группы B по сравнению с группой А по \"очищенным\" данным."
   ]
  },
  {
   "cell_type": "markdown",
   "metadata": {},
   "source": [
    "**Введем основную и альтернативные гипотезы:**\n",
    "\n",
    "**H0:** Различия в конверсии между группами A и B по «очищенным» данным отсутствуют.   \n",
    "**H1:** Различия в конверсии между группами A и B по «очищенным» данным имеются."
   ]
  },
  {
   "cell_type": "code",
   "execution_count": 48,
   "metadata": {
    "scrolled": true
   },
   "outputs": [
    {
     "name": "stdout",
     "output_type": "stream",
     "text": [
      "p-значение:  3.1192817838523536e-05\n",
      "Отвергаем нулевую гипотезу: разница статистически значима\n"
     ]
    }
   ],
   "source": [
    "alpha = 0.05  # критический уровень статистической значимости\n",
    "\n",
    "results_conv_clear = (stats.mannwhitneyu(sampleAFiltered, sampleBFiltered))\n",
    "\n",
    "print('p-значение: ', results_conv_clear.pvalue)\n",
    "\n",
    "if results_conv_clear.pvalue < alpha:\n",
    "    print('Отвергаем нулевую гипотезу: разница статистически значима')\n",
    "else:\n",
    "    print('Не получилось отвергнуть нулевую гипотезу, вывод о различии сделать нельзя')"
   ]
  },
  {
   "cell_type": "code",
   "execution_count": 49,
   "metadata": {},
   "outputs": [
    {
     "name": "stdout",
     "output_type": "stream",
     "text": [
      "Относительный прирост конверсии группы B по сравнению с группой А составляет 30.87%\n"
     ]
    }
   ],
   "source": [
    "print('Относительный прирост конверсии группы B по сравнению с группой А составляет {0:.2f}%'\n",
    "      .format((sampleBFiltered.mean() / sampleAFiltered.mean() - 1) * 100))"
   ]
  },
  {
   "cell_type": "code",
   "execution_count": 50,
   "metadata": {},
   "outputs": [
    {
     "data": {
      "image/png": "[encoded data removed]",
      "text/plain": [
       "<Figure size 936x489.6 with 1 Axes>"
      ]
     },
     "metadata": {
      "image/png": {
       "height": 416,
       "width": 777
      },
      "needs_background": "light"
     },
     "output_type": "display_data"
    }
   ],
   "source": [
    "orders_clear = orders[~orders.visitorid.isin(abnormalUsers)]\n",
    "\n",
    "ordersAggregated_clear = (datesGroups.apply(lambda x: orders_clear[np.logical_and(orders_clear['date'] <= x['date'], \n",
    "                                      orders_clear['group'] == x['group'])] \n",
    "                                      .agg({'date' : 'max', 'group' : 'max', 'transactionid' : 'nunique', \n",
    "                                      'visitorid' : 'nunique', 'revenue' : 'sum'}), axis=1) \n",
    "                                      .sort_values(by=['date','group']))\n",
    "\n",
    "cumulativeData_clear = ordersAggregated_clear.merge(visitorsAggregated, left_on=['date', 'group'], right_on=['date', 'group'])\n",
    "cumulativeData_clear.columns = ['date', 'group', 'orders', 'buyers', 'revenue', 'visitors']\n",
    "\n",
    "cumulativeData_clear['conversion'] = cumulativeData_clear['orders']/cumulativeData_clear['visitors']\n",
    "\n",
    "# отделяем данные по группе A\n",
    "cumulativeDataA_clear = cumulativeData_clear[cumulativeData_clear['group']=='A']\n",
    "\n",
    "# отделяем данные по группе B\n",
    "cumulativeDataB_clear = cumulativeData_clear[cumulativeData_clear['group']=='B']\n",
    "\n",
    "CumulativeConversions_clear = (cumulativeDataA_clear[['date','conversion']]\n",
    "                        .merge(cumulativeDataB_clear[['date','conversion']], left_on='date', right_on='date', \n",
    "                        how='left', suffixes=['A', 'B']))\n",
    "\n",
    "\n",
    "(plt.plot(CumulativeConversions_clear['date'], \n",
    "          CumulativeConversions_clear['conversionB'] / CumulativeConversions_clear['conversionA'] - 1, \n",
    "label=\"Прирост конверсии группы B относительно группы A\"))\n",
    "plt.legend()\n",
    "plt.title(\"График относительного изменения кумулятивной конверсии группы B к группе A (по очищенным данным)\", \n",
    "          fontdict={'fontsize': 14, 'fontweight': 'bold'})\n",
    "\n",
    "plt.axhline(y=0, color='black', linestyle='--')\n",
    "plt.axhline(y=0.3, color='red', linestyle='--')\n",
    "\n",
    "# задаем масштаб осей\n",
    "plt.axis([dt.datetime(2019, 8, 1), dt.datetime(2019, 8, 31), -0.2, 0.4])\n",
    "plt.show()"
   ]
  },
  {
   "cell_type": "markdown",
   "metadata": {},
   "source": [
    "Исходя из анализа «очищенных» данных можно сделать вывод о том, что в конверсии между группой A и группой B имеются статистически значимые различия, что соответствуют выводам по \"сырым\" данным. Т.е. конверсия группы B по сравнению с конверсией группы А улучшилась, прирост конверсии в группе B на «очищенных» данных составляет 30.87%, что несколько ниже, чем в \"сырых\" данных - 35.45%."
   ]
  },
  {
   "cell_type": "markdown",
   "metadata": {},
   "source": [
    "#### Различия в среднем чеке заказа между группами по \"очищенным\" данным"
   ]
  },
  {
   "cell_type": "markdown",
   "metadata": {},
   "source": [
    "**Введем основную и альтернативные гипотезы:**\n",
    "\n",
    "**H0:** Различия в среднем чеке между группами A и B по «очищенным» данным отсутствуют.    \n",
    "**H1:** Различия в среднем чеке между группами A и B по «очищенным» данным имеются.  "
   ]
  },
  {
   "cell_type": "code",
   "execution_count": 51,
   "metadata": {
    "scrolled": false
   },
   "outputs": [
    {
     "name": "stdout",
     "output_type": "stream",
     "text": [
      "p-значение:  0.7947636185098911\n",
      "Не получилось отвергнуть нулевую гипотезу, вывод о различии сделать нельзя\n",
      "Относительный прирост среднего чека группы B по сравнению с группой А составляет 2.66%\n"
     ]
    }
   ],
   "source": [
    "alpha = 0.05  # критический уровень статистической значимости\n",
    "\n",
    "results_check_clear = stats.mannwhitneyu(\n",
    "                      orders[np.logical_and(orders['group'] == 'A', \n",
    "                      np.logical_not(orders['visitorid'].isin(abnormalUsers)),)]['revenue'], \n",
    "                      orders[np.logical_and(orders['group'] == 'B', \n",
    "                      np.logical_not(orders['visitorid'].isin(abnormalUsers)),)]['revenue'])\n",
    "\n",
    "print('p-значение: ', results_check_clear.pvalue)\n",
    "\n",
    "if results_check_clear.pvalue < alpha:\n",
    "    print('Отвергаем нулевую гипотезу: разница статистически значима')\n",
    "else:\n",
    "    print('Не получилось отвергнуть нулевую гипотезу, вывод о различии сделать нельзя')\n",
    "    \n",
    "print('Относительный прирост среднего чека группы B по сравнению с группой А составляет {0:.2f}%'\n",
    "      .format((orders[np.logical_and(orders['group'] == 'B', \n",
    "                      np.logical_not(orders['visitorid'].isin(abnormalUsers)),)]['revenue'].mean() / \n",
    "                      orders[np.logical_and(orders['group'] == 'A', \n",
    "                      np.logical_not(orders['visitorid'].isin(abnormalUsers)),)]['revenue'].mean() - 1) * 100))"
   ]
  },
  {
   "cell_type": "code",
   "execution_count": 52,
   "metadata": {},
   "outputs": [
    {
     "data": {
      "image/png": "[encoded data removed]",
      "text/plain": [
       "<Figure size 936x489.6 with 1 Axes>"
      ]
     },
     "metadata": {
      "image/png": {
       "height": 416,
       "width": 781
      },
      "needs_background": "light"
     },
     "output_type": "display_data"
    }
   ],
   "source": [
    "# датафрейм с кумулятивным количеством заказов и кумулятивной выручкой по дням в группе А\n",
    "cumulativeRevenueA_clear = cumulativeData_clear[cumulativeData_clear['group']=='A'][['date','revenue', 'orders']]\n",
    "\n",
    "# датафрейм с кумулятивным количеством заказов и кумулятивной выручкой по дням в группе B\n",
    "cumulativeRevenueB_clear = cumulativeData_clear[cumulativeData_clear['group']=='B'][['date','revenue', 'orders']]\n",
    "\n",
    "CumulativeRevenue_clear = (cumulativeRevenueA_clear.merge(cumulativeRevenueB_clear, \n",
    "                          left_on='date', right_on='date', how='left', suffixes=['A', 'B']))\n",
    "\n",
    "# cтроим отношение средних чеков\n",
    "(plt.plot(mergedCumulativeRevenue['date'], \n",
    "        (mergedCumulativeRevenue['revenueB'] / mergedCumulativeRevenue['ordersB']) / \n",
    "        (mergedCumulativeRevenue['revenueA'] / mergedCumulativeRevenue['ordersA']) - 1))\n",
    "\n",
    "plt.title(\"График относительного изменения кумулятивного среднего чека группы B к группе A (по очищенным данным)\", \n",
    "          fontdict={'fontsize': 13, 'fontweight': 'bold'})\n",
    "\n",
    "# добавляем ось X\n",
    "plt.axhline(y=0, color='black', linestyle='--')\n",
    "plt.show()"
   ]
  },
  {
   "cell_type": "markdown",
   "metadata": {},
   "source": [
    "Исходя из анализа «очищенных» данных можно сделать вывод о том, что между группами статистически значимые различия в среднем чеке отсутствуют, что соответствует ранее сделанным выводам по «сырым» данным. При этом по сравнению с «сырыми» данными заметно изменился прирост среднего чека в группе B, который по «очищенным» данным составляет всего лишь 2.66 % (по сырым данным - на 28.39 %)."
   ]
  },
  {
   "cell_type": "markdown",
   "metadata": {},
   "source": [
    "### Решение по результатам теста "
   ]
  },
  {
   "cell_type": "markdown",
   "metadata": {},
   "source": [
    "Исходя из изложенного выше, полагаю возможным остановить тест и признать его успешным, сделав вывод о том, что у пользователей группы B статистически значимо увеличилась конверсия в покупку, по сравнению с группой A. При этом в ходе проведенного теста статистически значимое различие в среднем чеке между группами не установлено."
   ]
  }
 ],
 "metadata": {
  "ExecuteTimeLog": [
   {
    "duration": 119666,
    "start_time": "2022-04-25T03:31:33.202Z"
   },
   {
    "duration": 1213,
    "start_time": "2022-04-25T03:33:32.871Z"
   },
   {
    "duration": 755,
    "start_time": "2022-04-25T03:33:34.086Z"
   },
   {
    "duration": 4,
    "start_time": "2022-04-25T03:33:34.844Z"
   },
   {
    "duration": 111,
    "start_time": "2022-04-25T03:33:34.850Z"
   },
   {
    "duration": 278,
    "start_time": "2022-04-25T03:33:34.963Z"
   },
   {
    "duration": 192,
    "start_time": "2022-04-25T03:33:35.242Z"
   },
   {
    "duration": 6,
    "start_time": "2022-04-25T03:33:35.436Z"
   },
   {
    "duration": 15,
    "start_time": "2022-04-25T03:33:35.444Z"
   },
   {
    "duration": 16,
    "start_time": "2022-04-25T03:33:35.462Z"
   },
   {
    "duration": 10,
    "start_time": "2022-04-25T03:33:35.480Z"
   },
   {
    "duration": 11,
    "start_time": "2022-04-25T03:33:35.491Z"
   },
   {
    "duration": 12,
    "start_time": "2022-04-25T03:33:35.504Z"
   },
   {
    "duration": 20,
    "start_time": "2022-04-25T03:33:35.517Z"
   },
   {
    "duration": 12,
    "start_time": "2022-04-25T03:33:35.538Z"
   },
   {
    "duration": 499,
    "start_time": "2022-04-25T03:33:35.551Z"
   },
   {
    "duration": 128,
    "start_time": "2022-04-25T03:33:36.051Z"
   },
   {
    "duration": 3,
    "start_time": "2022-04-25T03:33:36.181Z"
   },
   {
    "duration": 66,
    "start_time": "2022-04-25T03:33:36.186Z"
   },
   {
    "duration": 15,
    "start_time": "2022-04-25T03:33:36.253Z"
   },
   {
    "duration": 40,
    "start_time": "2022-04-25T03:33:36.269Z"
   },
   {
    "duration": 33,
    "start_time": "2022-04-25T03:33:36.311Z"
   },
   {
    "duration": 40,
    "start_time": "2022-04-25T03:33:36.346Z"
   },
   {
    "duration": 16,
    "start_time": "2022-04-25T03:33:36.388Z"
   },
   {
    "duration": 665,
    "start_time": "2022-04-25T03:33:36.406Z"
   },
   {
    "duration": 641,
    "start_time": "2022-04-25T03:33:37.073Z"
   },
   {
    "duration": 34,
    "start_time": "2022-04-25T03:33:37.717Z"
   },
   {
    "duration": 349,
    "start_time": "2022-04-25T03:33:37.756Z"
   },
   {
    "duration": 52,
    "start_time": "2022-04-25T03:33:38.107Z"
   },
   {
    "duration": 720,
    "start_time": "2022-04-25T03:33:38.161Z"
   },
   {
    "duration": 4,
    "start_time": "2022-04-25T03:33:38.883Z"
   },
   {
    "duration": 45,
    "start_time": "2022-04-25T03:33:38.889Z"
   },
   {
    "duration": 2,
    "start_time": "2022-04-25T03:33:38.936Z"
   },
   {
    "duration": 304,
    "start_time": "2022-04-25T03:33:38.940Z"
   },
   {
    "duration": 1881,
    "start_time": "2022-04-25T03:33:39.246Z"
   },
   {
    "duration": 3128,
    "start_time": "2022-04-25T03:33:41.128Z"
   },
   {
    "duration": 1480,
    "start_time": "2022-04-25T03:33:44.258Z"
   },
   {
    "duration": 2475,
    "start_time": "2022-04-25T03:33:45.740Z"
   },
   {
    "duration": 2869,
    "start_time": "2022-04-25T03:33:48.217Z"
   },
   {
    "duration": 1122,
    "start_time": "2022-04-25T03:33:51.088Z"
   },
   {
    "duration": 2074,
    "start_time": "2022-04-25T03:33:52.211Z"
   },
   {
    "duration": 2702,
    "start_time": "2022-04-25T03:33:54.287Z"
   },
   {
    "duration": 1134,
    "start_time": "2022-04-25T03:33:56.991Z"
   },
   {
    "duration": 2042,
    "start_time": "2022-04-25T03:33:58.127Z"
   },
   {
    "duration": 3521,
    "start_time": "2022-04-25T03:43:57.452Z"
   },
   {
    "duration": 1480,
    "start_time": "2022-04-25T03:44:00.975Z"
   },
   {
    "duration": 717,
    "start_time": "2022-04-25T03:44:02.457Z"
   },
   {
    "duration": 5,
    "start_time": "2022-04-25T03:44:03.176Z"
   },
   {
    "duration": 125,
    "start_time": "2022-04-25T03:44:03.183Z"
   },
   {
    "duration": 294,
    "start_time": "2022-04-25T03:44:03.310Z"
   },
   {
    "duration": 193,
    "start_time": "2022-04-25T03:44:03.606Z"
   },
   {
    "duration": 7,
    "start_time": "2022-04-25T03:44:03.801Z"
   },
   {
    "duration": 12,
    "start_time": "2022-04-25T03:44:03.810Z"
   },
   {
    "duration": 8,
    "start_time": "2022-04-25T03:44:03.825Z"
   },
   {
    "duration": 9,
    "start_time": "2022-04-25T03:44:03.835Z"
   },
   {
    "duration": 10,
    "start_time": "2022-04-25T03:44:03.846Z"
   },
   {
    "duration": 35,
    "start_time": "2022-04-25T03:44:03.858Z"
   },
   {
    "duration": 10,
    "start_time": "2022-04-25T03:44:03.895Z"
   },
   {
    "duration": 12,
    "start_time": "2022-04-25T03:44:03.907Z"
   },
   {
    "duration": 530,
    "start_time": "2022-04-25T03:44:03.921Z"
   },
   {
    "duration": 140,
    "start_time": "2022-04-25T03:44:04.453Z"
   },
   {
    "duration": 3,
    "start_time": "2022-04-25T03:44:04.595Z"
   },
   {
    "duration": 62,
    "start_time": "2022-04-25T03:44:04.600Z"
   },
   {
    "duration": 29,
    "start_time": "2022-04-25T03:44:04.664Z"
   },
   {
    "duration": 42,
    "start_time": "2022-04-25T03:44:04.695Z"
   },
   {
    "duration": 16,
    "start_time": "2022-04-25T03:44:04.739Z"
   },
   {
    "duration": 68,
    "start_time": "2022-04-25T03:44:04.757Z"
   },
   {
    "duration": 16,
    "start_time": "2022-04-25T03:44:04.827Z"
   },
   {
    "duration": 700,
    "start_time": "2022-04-25T03:44:04.845Z"
   },
   {
    "duration": 25,
    "start_time": "2022-04-25T03:44:05.547Z"
   },
   {
    "duration": 361,
    "start_time": "2022-04-25T03:44:05.574Z"
   },
   {
    "duration": 57,
    "start_time": "2022-04-25T03:44:05.939Z"
   },
   {
    "duration": 675,
    "start_time": "2022-04-25T03:44:05.998Z"
   },
   {
    "duration": 3,
    "start_time": "2022-04-25T03:44:06.675Z"
   },
   {
    "duration": 28,
    "start_time": "2022-04-25T03:44:06.692Z"
   },
   {
    "duration": 3,
    "start_time": "2022-04-25T03:44:06.721Z"
   },
   {
    "duration": 321,
    "start_time": "2022-04-25T03:44:06.726Z"
   },
   {
    "duration": 1995,
    "start_time": "2022-04-25T03:44:07.049Z"
   },
   {
    "duration": 3082,
    "start_time": "2022-04-25T03:44:09.045Z"
   },
   {
    "duration": 1492,
    "start_time": "2022-04-25T03:44:12.129Z"
   },
   {
    "duration": 2398,
    "start_time": "2022-04-25T03:44:13.623Z"
   },
   {
    "duration": 2613,
    "start_time": "2022-04-25T03:44:16.023Z"
   },
   {
    "duration": 1081,
    "start_time": "2022-04-25T03:44:18.637Z"
   },
   {
    "duration": 1954,
    "start_time": "2022-04-25T03:44:19.720Z"
   },
   {
    "duration": 2529,
    "start_time": "2022-04-25T03:44:21.675Z"
   },
   {
    "duration": 1113,
    "start_time": "2022-04-25T03:44:24.205Z"
   },
   {
    "duration": 1936,
    "start_time": "2022-04-25T03:44:25.320Z"
   },
   {
    "duration": 22,
    "start_time": "2022-04-25T03:47:17.197Z"
   },
   {
    "duration": 32,
    "start_time": "2022-04-25T03:47:57.933Z"
   },
   {
    "duration": 11,
    "start_time": "2022-04-25T03:48:16.691Z"
   },
   {
    "duration": 21,
    "start_time": "2022-04-25T03:48:31.031Z"
   },
   {
    "duration": 16,
    "start_time": "2022-04-25T03:52:37.860Z"
   },
   {
    "duration": 27,
    "start_time": "2022-04-25T03:52:48.870Z"
   },
   {
    "duration": 2395,
    "start_time": "2022-04-25T03:53:04.941Z"
   },
   {
    "duration": 1181,
    "start_time": "2022-04-25T03:53:07.338Z"
   },
   {
    "duration": 698,
    "start_time": "2022-04-25T03:53:08.520Z"
   },
   {
    "duration": 5,
    "start_time": "2022-04-25T03:53:09.220Z"
   },
   {
    "duration": 106,
    "start_time": "2022-04-25T03:53:09.227Z"
   },
   {
    "duration": 282,
    "start_time": "2022-04-25T03:53:09.335Z"
   },
   {
    "duration": 183,
    "start_time": "2022-04-25T03:53:09.619Z"
   },
   {
    "duration": 8,
    "start_time": "2022-04-25T03:53:09.803Z"
   },
   {
    "duration": 8,
    "start_time": "2022-04-25T03:53:09.812Z"
   },
   {
    "duration": 8,
    "start_time": "2022-04-25T03:53:09.822Z"
   },
   {
    "duration": 9,
    "start_time": "2022-04-25T03:53:09.832Z"
   },
   {
    "duration": 10,
    "start_time": "2022-04-25T03:53:09.842Z"
   },
   {
    "duration": 10,
    "start_time": "2022-04-25T03:53:09.854Z"
   },
   {
    "duration": 6,
    "start_time": "2022-04-25T03:53:09.892Z"
   },
   {
    "duration": 11,
    "start_time": "2022-04-25T03:53:09.900Z"
   },
   {
    "duration": 500,
    "start_time": "2022-04-25T03:53:09.913Z"
   },
   {
    "duration": 139,
    "start_time": "2022-04-25T03:53:10.415Z"
   },
   {
    "duration": 3,
    "start_time": "2022-04-25T03:53:10.556Z"
   },
   {
    "duration": 67,
    "start_time": "2022-04-25T03:53:10.561Z"
   },
   {
    "duration": 14,
    "start_time": "2022-04-25T03:53:10.629Z"
   },
   {
    "duration": 53,
    "start_time": "2022-04-25T03:53:10.644Z"
   },
   {
    "duration": 14,
    "start_time": "2022-04-25T03:53:10.699Z"
   },
   {
    "duration": 42,
    "start_time": "2022-04-25T03:53:10.715Z"
   },
   {
    "duration": 34,
    "start_time": "2022-04-25T03:53:10.758Z"
   },
   {
    "duration": 647,
    "start_time": "2022-04-25T03:53:10.794Z"
   },
   {
    "duration": 17,
    "start_time": "2022-04-25T03:53:11.443Z"
   },
   {
    "duration": 23,
    "start_time": "2022-04-25T03:53:11.462Z"
   },
   {
    "duration": 331,
    "start_time": "2022-04-25T03:53:11.487Z"
   },
   {
    "duration": 44,
    "start_time": "2022-04-25T03:53:11.819Z"
   },
   {
    "duration": 659,
    "start_time": "2022-04-25T03:53:11.865Z"
   },
   {
    "duration": 5,
    "start_time": "2022-04-25T03:53:12.525Z"
   },
   {
    "duration": 29,
    "start_time": "2022-04-25T03:53:12.531Z"
   },
   {
    "duration": 3,
    "start_time": "2022-04-25T03:53:12.561Z"
   },
   {
    "duration": 314,
    "start_time": "2022-04-25T03:53:12.592Z"
   },
   {
    "duration": 1838,
    "start_time": "2022-04-25T03:53:12.908Z"
   },
   {
    "duration": 3009,
    "start_time": "2022-04-25T03:53:14.748Z"
   },
   {
    "duration": 1427,
    "start_time": "2022-04-25T03:53:17.759Z"
   },
   {
    "duration": 2394,
    "start_time": "2022-04-25T03:53:19.187Z"
   },
   {
    "duration": 2502,
    "start_time": "2022-04-25T03:53:21.583Z"
   },
   {
    "duration": 1070,
    "start_time": "2022-04-25T03:53:24.093Z"
   },
   {
    "duration": 1944,
    "start_time": "2022-04-25T03:53:25.167Z"
   },
   {
    "duration": 2568,
    "start_time": "2022-04-25T03:53:27.113Z"
   },
   {
    "duration": 1110,
    "start_time": "2022-04-25T03:53:29.682Z"
   },
   {
    "duration": 1924,
    "start_time": "2022-04-25T03:53:30.794Z"
   },
   {
    "duration": 30,
    "start_time": "2022-04-25T03:55:22.770Z"
   },
   {
    "duration": 19,
    "start_time": "2022-04-25T03:55:26.118Z"
   },
   {
    "duration": 321,
    "start_time": "2022-04-25T03:55:31.353Z"
   },
   {
    "duration": 33,
    "start_time": "2022-04-25T03:55:33.931Z"
   },
   {
    "duration": 535,
    "start_time": "2022-04-25T03:55:34.546Z"
   },
   {
    "duration": 2238,
    "start_time": "2022-04-25T03:56:20.744Z"
   },
   {
    "duration": 1166,
    "start_time": "2022-04-25T03:56:22.985Z"
   },
   {
    "duration": 677,
    "start_time": "2022-04-25T03:56:24.153Z"
   },
   {
    "duration": 6,
    "start_time": "2022-04-25T03:56:24.832Z"
   },
   {
    "duration": 106,
    "start_time": "2022-04-25T03:56:24.839Z"
   },
   {
    "duration": 283,
    "start_time": "2022-04-25T03:56:24.947Z"
   },
   {
    "duration": 180,
    "start_time": "2022-04-25T03:56:25.231Z"
   },
   {
    "duration": 7,
    "start_time": "2022-04-25T03:56:25.412Z"
   },
   {
    "duration": 7,
    "start_time": "2022-04-25T03:56:25.420Z"
   },
   {
    "duration": 10,
    "start_time": "2022-04-25T03:56:25.430Z"
   },
   {
    "duration": 6,
    "start_time": "2022-04-25T03:56:25.441Z"
   },
   {
    "duration": 9,
    "start_time": "2022-04-25T03:56:25.449Z"
   },
   {
    "duration": 35,
    "start_time": "2022-04-25T03:56:25.460Z"
   },
   {
    "duration": 7,
    "start_time": "2022-04-25T03:56:25.496Z"
   },
   {
    "duration": 12,
    "start_time": "2022-04-25T03:56:25.504Z"
   },
   {
    "duration": 490,
    "start_time": "2022-04-25T03:56:25.518Z"
   },
   {
    "duration": 134,
    "start_time": "2022-04-25T03:56:26.009Z"
   },
   {
    "duration": 4,
    "start_time": "2022-04-25T03:56:26.145Z"
   },
   {
    "duration": 68,
    "start_time": "2022-04-25T03:56:26.151Z"
   },
   {
    "duration": 14,
    "start_time": "2022-04-25T03:56:26.221Z"
   },
   {
    "duration": 58,
    "start_time": "2022-04-25T03:56:26.238Z"
   },
   {
    "duration": 17,
    "start_time": "2022-04-25T03:56:26.298Z"
   },
   {
    "duration": 42,
    "start_time": "2022-04-25T03:56:26.318Z"
   },
   {
    "duration": 39,
    "start_time": "2022-04-25T03:56:26.361Z"
   },
   {
    "duration": 639,
    "start_time": "2022-04-25T03:56:26.402Z"
   },
   {
    "duration": 29,
    "start_time": "2022-04-25T03:56:27.043Z"
   },
   {
    "duration": 24,
    "start_time": "2022-04-25T03:56:27.073Z"
   },
   {
    "duration": 326,
    "start_time": "2022-04-25T03:56:27.100Z"
   },
   {
    "duration": 33,
    "start_time": "2022-04-25T03:56:27.428Z"
   },
   {
    "duration": 638,
    "start_time": "2022-04-25T03:56:27.463Z"
   },
   {
    "duration": 4,
    "start_time": "2022-04-25T03:56:28.103Z"
   },
   {
    "duration": 24,
    "start_time": "2022-04-25T03:56:28.108Z"
   },
   {
    "duration": 3,
    "start_time": "2022-04-25T03:56:28.134Z"
   },
   {
    "duration": 231,
    "start_time": "2022-04-25T03:56:28.139Z"
   },
   {
    "duration": 1825,
    "start_time": "2022-04-25T03:56:28.372Z"
   },
   {
    "duration": 2948,
    "start_time": "2022-04-25T03:56:30.199Z"
   },
   {
    "duration": 1440,
    "start_time": "2022-04-25T03:56:33.149Z"
   },
   {
    "duration": 2168,
    "start_time": "2022-04-25T03:56:34.593Z"
   },
   {
    "duration": 2469,
    "start_time": "2022-04-25T03:56:36.763Z"
   },
   {
    "duration": 1026,
    "start_time": "2022-04-25T03:56:39.234Z"
   },
   {
    "duration": 1964,
    "start_time": "2022-04-25T03:56:40.262Z"
   },
   {
    "duration": 2645,
    "start_time": "2022-04-25T03:56:42.228Z"
   },
   {
    "duration": 1066,
    "start_time": "2022-04-25T03:56:44.874Z"
   },
   {
    "duration": 1808,
    "start_time": "2022-04-25T03:56:45.942Z"
   },
   {
    "duration": 715,
    "start_time": "2022-04-25T03:57:53.265Z"
   },
   {
    "duration": 841,
    "start_time": "2022-04-25T03:58:15.822Z"
   },
   {
    "duration": 131,
    "start_time": "2022-04-25T04:17:49.576Z"
   },
   {
    "duration": 4,
    "start_time": "2022-04-25T04:18:02.343Z"
   },
   {
    "duration": 210,
    "start_time": "2022-04-25T04:18:04.133Z"
   },
   {
    "duration": 4,
    "start_time": "2022-04-25T04:18:04.564Z"
   },
   {
    "duration": 121,
    "start_time": "2022-04-25T04:18:22.118Z"
   },
   {
    "duration": 98,
    "start_time": "2022-04-25T04:18:43.773Z"
   },
   {
    "duration": 44,
    "start_time": "2022-04-25T04:18:54.564Z"
   },
   {
    "duration": 83,
    "start_time": "2022-04-25T04:19:07.838Z"
   },
   {
    "duration": 113,
    "start_time": "2022-04-25T04:19:38.957Z"
   },
   {
    "duration": 84,
    "start_time": "2022-04-25T04:19:45.154Z"
   },
   {
    "duration": 113,
    "start_time": "2022-04-25T04:20:05.517Z"
   },
   {
    "duration": 4540,
    "start_time": "2022-04-25T14:43:53.309Z"
   },
   {
    "duration": 1900,
    "start_time": "2022-04-25T14:43:57.852Z"
   },
   {
    "duration": 885,
    "start_time": "2022-04-25T14:43:59.755Z"
   },
   {
    "duration": 7,
    "start_time": "2022-04-25T14:44:00.642Z"
   },
   {
    "duration": 166,
    "start_time": "2022-04-25T14:44:00.652Z"
   },
   {
    "duration": 449,
    "start_time": "2022-04-25T14:44:00.820Z"
   },
   {
    "duration": 279,
    "start_time": "2022-04-25T14:44:01.271Z"
   },
   {
    "duration": 10,
    "start_time": "2022-04-25T14:44:01.553Z"
   },
   {
    "duration": 19,
    "start_time": "2022-04-25T14:44:01.585Z"
   },
   {
    "duration": 91,
    "start_time": "2022-04-25T14:44:01.607Z"
   },
   {
    "duration": 37,
    "start_time": "2022-04-25T14:44:01.700Z"
   },
   {
    "duration": 24,
    "start_time": "2022-04-25T14:44:01.740Z"
   },
   {
    "duration": 15,
    "start_time": "2022-04-25T14:44:01.766Z"
   },
   {
    "duration": 38,
    "start_time": "2022-04-25T14:44:01.786Z"
   },
   {
    "duration": 30,
    "start_time": "2022-04-25T14:44:01.826Z"
   },
   {
    "duration": 845,
    "start_time": "2022-04-25T14:44:01.858Z"
   },
   {
    "duration": 197,
    "start_time": "2022-04-25T14:44:02.706Z"
   },
   {
    "duration": 97,
    "start_time": "2022-04-25T14:44:02.905Z"
   },
   {
    "duration": 21,
    "start_time": "2022-04-25T14:44:03.005Z"
   },
   {
    "duration": 83,
    "start_time": "2022-04-25T14:44:03.028Z"
   },
   {
    "duration": 22,
    "start_time": "2022-04-25T14:44:03.114Z"
   },
   {
    "duration": 92,
    "start_time": "2022-04-25T14:44:03.138Z"
   },
   {
    "duration": 22,
    "start_time": "2022-04-25T14:44:03.232Z"
   },
   {
    "duration": 1211,
    "start_time": "2022-04-25T14:44:03.256Z"
   },
   {
    "duration": 55,
    "start_time": "2022-04-25T14:44:04.470Z"
   },
   {
    "duration": 29,
    "start_time": "2022-04-25T14:44:04.528Z"
   },
   {
    "duration": 747,
    "start_time": "2022-04-25T14:44:04.559Z"
   },
   {
    "duration": 50,
    "start_time": "2022-04-25T14:44:05.308Z"
   },
   {
    "duration": 1794,
    "start_time": "2022-04-25T14:44:05.361Z"
   },
   {
    "duration": 7,
    "start_time": "2022-04-25T14:44:07.157Z"
   },
   {
    "duration": 49,
    "start_time": "2022-04-25T14:44:07.166Z"
   },
   {
    "duration": 3,
    "start_time": "2022-04-25T14:44:07.217Z"
   },
   {
    "duration": 428,
    "start_time": "2022-04-25T14:44:07.223Z"
   },
   {
    "duration": 3380,
    "start_time": "2022-04-25T14:44:07.654Z"
   },
   {
    "duration": 5076,
    "start_time": "2022-04-25T14:44:11.036Z"
   },
   {
    "duration": 2126,
    "start_time": "2022-04-25T14:44:16.114Z"
   },
   {
    "duration": 3786,
    "start_time": "2022-04-25T14:44:18.242Z"
   },
   {
    "duration": 4208,
    "start_time": "2022-04-25T14:44:22.030Z"
   },
   {
    "duration": 1942,
    "start_time": "2022-04-25T14:44:26.240Z"
   },
   {
    "duration": 3140,
    "start_time": "2022-04-25T14:44:28.187Z"
   },
   {
    "duration": 4270,
    "start_time": "2022-04-25T14:44:31.333Z"
   },
   {
    "duration": 1737,
    "start_time": "2022-04-25T14:44:35.606Z"
   },
   {
    "duration": 3258,
    "start_time": "2022-04-25T14:44:37.346Z"
   },
   {
    "duration": 142,
    "start_time": "2022-04-25T14:52:06.269Z"
   },
   {
    "duration": 242,
    "start_time": "2022-04-25T14:52:09.941Z"
   },
   {
    "duration": 123,
    "start_time": "2022-04-25T14:52:55.622Z"
   },
   {
    "duration": 130,
    "start_time": "2022-04-25T14:53:13.876Z"
   },
   {
    "duration": 22,
    "start_time": "2022-04-25T14:55:30.431Z"
   },
   {
    "duration": 1731,
    "start_time": "2022-04-25T14:56:40.641Z"
   },
   {
    "duration": 19,
    "start_time": "2022-04-25T14:59:08.551Z"
   },
   {
    "duration": 28,
    "start_time": "2022-04-25T14:59:17.868Z"
   },
   {
    "duration": 135,
    "start_time": "2022-04-25T14:59:35.861Z"
   },
   {
    "duration": 25,
    "start_time": "2022-04-25T15:00:10.005Z"
   },
   {
    "duration": 41,
    "start_time": "2022-04-25T15:00:40.906Z"
   },
   {
    "duration": 46,
    "start_time": "2022-04-25T15:00:53.220Z"
   },
   {
    "duration": 704,
    "start_time": "2022-04-25T15:00:55.623Z"
   },
   {
    "duration": 44,
    "start_time": "2022-04-25T15:01:07.304Z"
   },
   {
    "duration": 24,
    "start_time": "2022-04-25T15:01:08.219Z"
   },
   {
    "duration": 146,
    "start_time": "2022-04-25T15:04:20.995Z"
   },
   {
    "duration": 121,
    "start_time": "2022-04-25T15:04:32.355Z"
   },
   {
    "duration": 79,
    "start_time": "2022-04-25T15:04:50.874Z"
   },
   {
    "duration": 2861,
    "start_time": "2022-04-25T15:07:57.534Z"
   },
   {
    "duration": 1812,
    "start_time": "2022-04-25T15:08:09.852Z"
   },
   {
    "duration": 1106,
    "start_time": "2022-04-25T15:08:21.706Z"
   },
   {
    "duration": 19,
    "start_time": "2022-04-25T15:09:30.843Z"
   },
   {
    "duration": 176,
    "start_time": "2022-04-25T15:10:51.435Z"
   },
   {
    "duration": 133,
    "start_time": "2022-04-25T15:11:00.559Z"
   },
   {
    "duration": 27,
    "start_time": "2022-04-25T15:11:07.995Z"
   },
   {
    "duration": 1122,
    "start_time": "2022-04-25T15:11:27.790Z"
   },
   {
    "duration": 24,
    "start_time": "2022-04-25T15:11:41.595Z"
   },
   {
    "duration": 28,
    "start_time": "2022-04-25T15:11:59.783Z"
   },
   {
    "duration": 13,
    "start_time": "2022-04-25T15:12:12.632Z"
   },
   {
    "duration": 24,
    "start_time": "2022-04-25T15:12:16.574Z"
   },
   {
    "duration": 12,
    "start_time": "2022-04-25T15:12:20.901Z"
   },
   {
    "duration": 7,
    "start_time": "2022-04-25T15:12:22.708Z"
   },
   {
    "duration": 742,
    "start_time": "2022-04-25T15:13:01.874Z"
   },
   {
    "duration": 851,
    "start_time": "2022-04-25T15:13:15.053Z"
   },
   {
    "duration": 2207,
    "start_time": "2022-04-25T15:13:41.130Z"
   },
   {
    "duration": 928,
    "start_time": "2022-04-25T15:14:16.753Z"
   },
   {
    "duration": 1060,
    "start_time": "2022-04-25T15:14:31.858Z"
   },
   {
    "duration": 902,
    "start_time": "2022-04-25T15:14:40.679Z"
   },
   {
    "duration": 209,
    "start_time": "2022-04-25T15:18:23.634Z"
   },
   {
    "duration": 135,
    "start_time": "2022-04-25T15:22:40.102Z"
   },
   {
    "duration": 121,
    "start_time": "2022-04-25T15:22:48.620Z"
   },
   {
    "duration": 13,
    "start_time": "2022-04-25T15:24:50.618Z"
   },
   {
    "duration": 20,
    "start_time": "2022-04-25T15:24:56.960Z"
   },
   {
    "duration": 1401,
    "start_time": "2022-04-25T15:25:05.283Z"
   },
   {
    "duration": 3791,
    "start_time": "2022-04-25T15:25:24.519Z"
   },
   {
    "duration": 24,
    "start_time": "2022-04-25T15:25:28.314Z"
   },
   {
    "duration": 6583,
    "start_time": "2022-04-25T15:25:28.341Z"
   },
   {
    "duration": 7,
    "start_time": "2022-04-25T15:25:34.926Z"
   },
   {
    "duration": 219,
    "start_time": "2022-04-25T15:25:34.936Z"
   },
   {
    "duration": 400,
    "start_time": "2022-04-25T15:25:35.157Z"
   },
   {
    "duration": 292,
    "start_time": "2022-04-25T15:25:35.559Z"
   },
   {
    "duration": 10,
    "start_time": "2022-04-25T15:25:35.854Z"
   },
   {
    "duration": 12,
    "start_time": "2022-04-25T15:25:35.882Z"
   },
   {
    "duration": 13,
    "start_time": "2022-04-25T15:25:35.896Z"
   },
   {
    "duration": 12,
    "start_time": "2022-04-25T15:25:35.911Z"
   },
   {
    "duration": 15,
    "start_time": "2022-04-25T15:25:35.925Z"
   },
   {
    "duration": 52,
    "start_time": "2022-04-25T15:25:35.942Z"
   },
   {
    "duration": 12,
    "start_time": "2022-04-25T15:25:35.998Z"
   },
   {
    "duration": 17,
    "start_time": "2022-04-25T15:25:36.012Z"
   },
   {
    "duration": 770,
    "start_time": "2022-04-25T15:25:36.031Z"
   },
   {
    "duration": 211,
    "start_time": "2022-04-25T15:25:36.803Z"
   },
   {
    "duration": 88,
    "start_time": "2022-04-25T15:25:37.016Z"
   },
   {
    "duration": 22,
    "start_time": "2022-04-25T15:25:37.106Z"
   },
   {
    "duration": 91,
    "start_time": "2022-04-25T15:25:37.130Z"
   },
   {
    "duration": 20,
    "start_time": "2022-04-25T15:25:37.223Z"
   },
   {
    "duration": 81,
    "start_time": "2022-04-25T15:25:37.245Z"
   },
   {
    "duration": 23,
    "start_time": "2022-04-25T15:25:37.329Z"
   },
   {
    "duration": 1205,
    "start_time": "2022-04-25T15:25:37.354Z"
   },
   {
    "duration": 63,
    "start_time": "2022-04-25T15:25:38.562Z"
   },
   {
    "duration": 28,
    "start_time": "2022-04-25T15:25:38.627Z"
   },
   {
    "duration": 670,
    "start_time": "2022-04-25T15:25:38.657Z"
   },
   {
    "duration": 64,
    "start_time": "2022-04-25T15:25:39.329Z"
   },
   {
    "duration": 33,
    "start_time": "2022-04-25T15:30:03.508Z"
   },
   {
    "duration": 156,
    "start_time": "2022-04-25T15:30:30.092Z"
   },
   {
    "duration": 33,
    "start_time": "2022-04-25T15:30:36.868Z"
   },
   {
    "duration": 25,
    "start_time": "2022-04-25T15:31:09.808Z"
   },
   {
    "duration": 24,
    "start_time": "2022-04-25T15:31:21.662Z"
   },
   {
    "duration": 5,
    "start_time": "2022-04-25T15:32:09.727Z"
   },
   {
    "duration": 6,
    "start_time": "2022-04-25T15:32:38.561Z"
   },
   {
    "duration": 40,
    "start_time": "2022-04-25T15:33:02.932Z"
   },
   {
    "duration": 21,
    "start_time": "2022-04-25T15:33:23.306Z"
   },
   {
    "duration": 3701,
    "start_time": "2022-04-25T15:33:38.063Z"
   },
   {
    "duration": 48,
    "start_time": "2022-04-25T15:33:41.769Z"
   },
   {
    "duration": 934,
    "start_time": "2022-04-25T15:33:41.821Z"
   },
   {
    "duration": 8,
    "start_time": "2022-04-25T15:33:42.760Z"
   },
   {
    "duration": 166,
    "start_time": "2022-04-25T15:33:42.771Z"
   },
   {
    "duration": 454,
    "start_time": "2022-04-25T15:33:42.939Z"
   },
   {
    "duration": 285,
    "start_time": "2022-04-25T15:33:43.397Z"
   },
   {
    "duration": 20,
    "start_time": "2022-04-25T15:33:43.686Z"
   },
   {
    "duration": 29,
    "start_time": "2022-04-25T15:33:43.708Z"
   },
   {
    "duration": 34,
    "start_time": "2022-04-25T15:33:43.741Z"
   },
   {
    "duration": 48,
    "start_time": "2022-04-25T15:33:43.777Z"
   },
   {
    "duration": 21,
    "start_time": "2022-04-25T15:33:43.828Z"
   },
   {
    "duration": 21,
    "start_time": "2022-04-25T15:33:43.853Z"
   },
   {
    "duration": 47,
    "start_time": "2022-04-25T15:33:43.877Z"
   },
   {
    "duration": 18,
    "start_time": "2022-04-25T15:33:43.927Z"
   },
   {
    "duration": 916,
    "start_time": "2022-04-25T15:33:43.947Z"
   },
   {
    "duration": 216,
    "start_time": "2022-04-25T15:33:44.866Z"
   },
   {
    "duration": 89,
    "start_time": "2022-04-25T15:33:45.088Z"
   },
   {
    "duration": 23,
    "start_time": "2022-04-25T15:33:45.182Z"
   },
   {
    "duration": 93,
    "start_time": "2022-04-25T15:33:45.208Z"
   },
   {
    "duration": 27,
    "start_time": "2022-04-25T15:33:45.304Z"
   },
   {
    "duration": 89,
    "start_time": "2022-04-25T15:33:45.333Z"
   },
   {
    "duration": 31,
    "start_time": "2022-04-25T15:33:45.424Z"
   },
   {
    "duration": 1317,
    "start_time": "2022-04-25T15:33:45.458Z"
   },
   {
    "duration": 55,
    "start_time": "2022-04-25T15:34:22.938Z"
   },
   {
    "duration": 3973,
    "start_time": "2022-04-25T15:34:42.231Z"
   },
   {
    "duration": 34,
    "start_time": "2022-04-25T15:34:46.208Z"
   },
   {
    "duration": 1020,
    "start_time": "2022-04-25T15:34:46.244Z"
   },
   {
    "duration": 7,
    "start_time": "2022-04-25T15:34:47.267Z"
   },
   {
    "duration": 177,
    "start_time": "2022-04-25T15:34:47.277Z"
   },
   {
    "duration": 459,
    "start_time": "2022-04-25T15:34:47.456Z"
   },
   {
    "duration": 279,
    "start_time": "2022-04-25T15:34:47.917Z"
   },
   {
    "duration": 22,
    "start_time": "2022-04-25T15:34:48.199Z"
   },
   {
    "duration": 15,
    "start_time": "2022-04-25T15:34:48.224Z"
   },
   {
    "duration": 13,
    "start_time": "2022-04-25T15:34:48.243Z"
   },
   {
    "duration": 65,
    "start_time": "2022-04-25T15:34:48.258Z"
   },
   {
    "duration": 16,
    "start_time": "2022-04-25T15:34:48.326Z"
   },
   {
    "duration": 14,
    "start_time": "2022-04-25T15:34:48.344Z"
   },
   {
    "duration": 11,
    "start_time": "2022-04-25T15:34:48.360Z"
   },
   {
    "duration": 39,
    "start_time": "2022-04-25T15:34:48.373Z"
   },
   {
    "duration": 904,
    "start_time": "2022-04-25T15:34:48.417Z"
   },
   {
    "duration": 231,
    "start_time": "2022-04-25T15:34:49.325Z"
   },
   {
    "duration": 92,
    "start_time": "2022-04-25T15:34:49.558Z"
   },
   {
    "duration": 36,
    "start_time": "2022-04-25T15:34:49.652Z"
   },
   {
    "duration": 98,
    "start_time": "2022-04-25T15:34:49.691Z"
   },
   {
    "duration": 34,
    "start_time": "2022-04-25T15:34:49.794Z"
   },
   {
    "duration": 92,
    "start_time": "2022-04-25T15:34:49.830Z"
   },
   {
    "duration": 22,
    "start_time": "2022-04-25T15:34:49.925Z"
   },
   {
    "duration": 1298,
    "start_time": "2022-04-25T15:34:49.950Z"
   },
   {
    "duration": 25,
    "start_time": "2022-04-25T15:35:19.028Z"
   },
   {
    "duration": 45,
    "start_time": "2022-04-25T15:35:34.821Z"
   },
   {
    "duration": 5113,
    "start_time": "2022-04-25T15:36:00.224Z"
   },
   {
    "duration": 49,
    "start_time": "2022-04-25T15:36:05.341Z"
   },
   {
    "duration": 1256,
    "start_time": "2022-04-25T15:36:05.393Z"
   },
   {
    "duration": 7,
    "start_time": "2022-04-25T15:36:06.652Z"
   },
   {
    "duration": 207,
    "start_time": "2022-04-25T15:36:06.662Z"
   },
   {
    "duration": 463,
    "start_time": "2022-04-25T15:36:06.871Z"
   },
   {
    "duration": 296,
    "start_time": "2022-04-25T15:36:07.336Z"
   },
   {
    "duration": 10,
    "start_time": "2022-04-25T15:36:07.634Z"
   },
   {
    "duration": 12,
    "start_time": "2022-04-25T15:36:07.647Z"
   },
   {
    "duration": 13,
    "start_time": "2022-04-25T15:36:07.661Z"
   },
   {
    "duration": 18,
    "start_time": "2022-04-25T15:36:07.682Z"
   },
   {
    "duration": 30,
    "start_time": "2022-04-25T15:36:07.703Z"
   },
   {
    "duration": 13,
    "start_time": "2022-04-25T15:36:07.736Z"
   },
   {
    "duration": 10,
    "start_time": "2022-04-25T15:36:07.754Z"
   },
   {
    "duration": 20,
    "start_time": "2022-04-25T15:36:07.766Z"
   },
   {
    "duration": 926,
    "start_time": "2022-04-25T15:36:07.788Z"
   },
   {
    "duration": 225,
    "start_time": "2022-04-25T15:36:08.718Z"
   },
   {
    "duration": 84,
    "start_time": "2022-04-25T15:36:08.945Z"
   },
   {
    "duration": 23,
    "start_time": "2022-04-25T15:36:09.032Z"
   },
   {
    "duration": 164,
    "start_time": "2022-04-25T15:36:09.058Z"
   },
   {
    "duration": 96,
    "start_time": "2022-04-25T15:36:09.228Z"
   },
   {
    "duration": 107,
    "start_time": "2022-04-25T15:36:09.327Z"
   },
   {
    "duration": 24,
    "start_time": "2022-04-25T15:36:09.438Z"
   },
   {
    "duration": 1403,
    "start_time": "2022-04-25T15:36:09.464Z"
   },
   {
    "duration": 67,
    "start_time": "2022-04-25T15:36:10.869Z"
   },
   {
    "duration": 47,
    "start_time": "2022-04-25T15:36:10.939Z"
   },
   {
    "duration": 700,
    "start_time": "2022-04-25T15:36:10.989Z"
   },
   {
    "duration": 76,
    "start_time": "2022-04-25T15:36:11.692Z"
   },
   {
    "duration": 1081,
    "start_time": "2022-04-25T15:36:11.770Z"
   },
   {
    "duration": 1183,
    "start_time": "2022-04-25T15:36:12.854Z"
   },
   {
    "duration": 7,
    "start_time": "2022-04-25T15:36:14.039Z"
   },
   {
    "duration": 65,
    "start_time": "2022-04-25T15:36:14.048Z"
   },
   {
    "duration": 16,
    "start_time": "2022-04-25T15:36:14.118Z"
   },
   {
    "duration": 415,
    "start_time": "2022-04-25T15:36:14.137Z"
   },
   {
    "duration": 3546,
    "start_time": "2022-04-25T15:36:14.554Z"
   },
   {
    "duration": 5526,
    "start_time": "2022-04-25T15:36:18.106Z"
   },
   {
    "duration": 2223,
    "start_time": "2022-04-25T15:36:23.635Z"
   },
   {
    "duration": 4173,
    "start_time": "2022-04-25T15:36:25.860Z"
   },
   {
    "duration": 4972,
    "start_time": "2022-04-25T15:36:30.035Z"
   },
   {
    "duration": 2047,
    "start_time": "2022-04-25T15:36:35.011Z"
   },
   {
    "duration": 3488,
    "start_time": "2022-04-25T15:36:37.064Z"
   },
   {
    "duration": 4651,
    "start_time": "2022-04-25T15:36:40.555Z"
   },
   {
    "duration": 2278,
    "start_time": "2022-04-25T15:36:45.210Z"
   },
   {
    "duration": 3473,
    "start_time": "2022-04-25T15:36:47.491Z"
   },
   {
    "duration": 43,
    "start_time": "2022-04-25T15:36:50.968Z"
   },
   {
    "duration": 3992,
    "start_time": "2022-04-25T15:36:55.759Z"
   },
   {
    "duration": 25,
    "start_time": "2022-04-25T15:36:59.754Z"
   },
   {
    "duration": 1046,
    "start_time": "2022-04-25T15:36:59.784Z"
   },
   {
    "duration": 8,
    "start_time": "2022-04-25T15:37:00.834Z"
   },
   {
    "duration": 196,
    "start_time": "2022-04-25T15:37:00.845Z"
   },
   {
    "duration": 506,
    "start_time": "2022-04-25T15:37:01.043Z"
   },
   {
    "duration": 309,
    "start_time": "2022-04-25T15:37:01.552Z"
   },
   {
    "duration": 177,
    "start_time": "2022-04-25T15:37:01.864Z"
   },
   {
    "duration": 24,
    "start_time": "2022-04-25T15:37:02.044Z"
   },
   {
    "duration": 62,
    "start_time": "2022-04-25T15:37:02.073Z"
   },
   {
    "duration": 20,
    "start_time": "2022-04-25T15:37:02.137Z"
   },
   {
    "duration": 18,
    "start_time": "2022-04-25T15:37:02.160Z"
   },
   {
    "duration": 58,
    "start_time": "2022-04-25T15:37:02.183Z"
   },
   {
    "duration": 30,
    "start_time": "2022-04-25T15:37:02.243Z"
   },
   {
    "duration": 52,
    "start_time": "2022-04-25T15:37:02.276Z"
   },
   {
    "duration": 860,
    "start_time": "2022-04-25T15:37:02.331Z"
   },
   {
    "duration": 235,
    "start_time": "2022-04-25T15:37:03.194Z"
   },
   {
    "duration": 109,
    "start_time": "2022-04-25T15:37:03.432Z"
   },
   {
    "duration": 20,
    "start_time": "2022-04-25T15:37:03.543Z"
   },
   {
    "duration": 83,
    "start_time": "2022-04-25T15:37:03.565Z"
   },
   {
    "duration": 20,
    "start_time": "2022-04-25T15:37:03.651Z"
   },
   {
    "duration": 79,
    "start_time": "2022-04-25T15:37:03.681Z"
   },
   {
    "duration": 34,
    "start_time": "2022-04-25T15:37:03.762Z"
   },
   {
    "duration": 1272,
    "start_time": "2022-04-25T15:37:03.798Z"
   },
   {
    "duration": 40,
    "start_time": "2022-04-25T15:37:05.073Z"
   },
   {
    "duration": 44,
    "start_time": "2022-04-25T15:37:05.115Z"
   },
   {
    "duration": 717,
    "start_time": "2022-04-25T15:37:05.161Z"
   },
   {
    "duration": 75,
    "start_time": "2022-04-25T15:37:05.895Z"
   },
   {
    "duration": 986,
    "start_time": "2022-04-25T15:37:05.972Z"
   },
   {
    "duration": 1234,
    "start_time": "2022-04-25T15:37:06.961Z"
   },
   {
    "duration": 7,
    "start_time": "2022-04-25T15:37:08.198Z"
   },
   {
    "duration": 74,
    "start_time": "2022-04-25T15:37:08.208Z"
   },
   {
    "duration": 8,
    "start_time": "2022-04-25T15:37:08.285Z"
   },
   {
    "duration": 572,
    "start_time": "2022-04-25T15:37:08.297Z"
   },
   {
    "duration": 3428,
    "start_time": "2022-04-25T15:37:08.871Z"
   },
   {
    "duration": 3931,
    "start_time": "2022-04-25T15:37:47.010Z"
   },
   {
    "duration": 27,
    "start_time": "2022-04-25T15:37:50.944Z"
   },
   {
    "duration": 1074,
    "start_time": "2022-04-25T15:37:50.973Z"
   },
   {
    "duration": 8,
    "start_time": "2022-04-25T15:37:52.049Z"
   },
   {
    "duration": 185,
    "start_time": "2022-04-25T15:37:52.059Z"
   },
   {
    "duration": 579,
    "start_time": "2022-04-25T15:37:52.246Z"
   },
   {
    "duration": 394,
    "start_time": "2022-04-25T15:37:52.828Z"
   },
   {
    "duration": 10,
    "start_time": "2022-04-25T15:37:53.225Z"
   },
   {
    "duration": 13,
    "start_time": "2022-04-25T15:37:53.238Z"
   },
   {
    "duration": 31,
    "start_time": "2022-04-25T15:37:53.253Z"
   },
   {
    "duration": 16,
    "start_time": "2022-04-25T15:37:53.286Z"
   },
   {
    "duration": 29,
    "start_time": "2022-04-25T15:37:53.305Z"
   },
   {
    "duration": 14,
    "start_time": "2022-04-25T15:37:53.337Z"
   },
   {
    "duration": 9,
    "start_time": "2022-04-25T15:37:53.353Z"
   },
   {
    "duration": 50,
    "start_time": "2022-04-25T15:37:53.365Z"
   },
   {
    "duration": 857,
    "start_time": "2022-04-25T15:37:53.418Z"
   },
   {
    "duration": 231,
    "start_time": "2022-04-25T15:37:54.282Z"
   },
   {
    "duration": 94,
    "start_time": "2022-04-25T15:37:54.517Z"
   },
   {
    "duration": 25,
    "start_time": "2022-04-25T15:37:54.614Z"
   },
   {
    "duration": 94,
    "start_time": "2022-04-25T15:37:54.641Z"
   },
   {
    "duration": 22,
    "start_time": "2022-04-25T15:37:54.737Z"
   },
   {
    "duration": 93,
    "start_time": "2022-04-25T15:37:54.761Z"
   },
   {
    "duration": 31,
    "start_time": "2022-04-25T15:37:54.856Z"
   },
   {
    "duration": 1421,
    "start_time": "2022-04-25T15:37:54.895Z"
   },
   {
    "duration": 48,
    "start_time": "2022-04-25T15:37:56.319Z"
   },
   {
    "duration": 50,
    "start_time": "2022-04-25T15:37:56.370Z"
   },
   {
    "duration": 719,
    "start_time": "2022-04-25T15:37:56.425Z"
   },
   {
    "duration": 75,
    "start_time": "2022-04-25T15:37:57.147Z"
   },
   {
    "duration": 982,
    "start_time": "2022-04-25T15:37:57.225Z"
   },
   {
    "duration": 1190,
    "start_time": "2022-04-25T15:37:58.210Z"
   },
   {
    "duration": 14,
    "start_time": "2022-04-25T15:37:59.402Z"
   },
   {
    "duration": 74,
    "start_time": "2022-04-25T15:37:59.419Z"
   },
   {
    "duration": 6,
    "start_time": "2022-04-25T15:37:59.496Z"
   },
   {
    "duration": 420,
    "start_time": "2022-04-25T15:37:59.507Z"
   },
   {
    "duration": 3373,
    "start_time": "2022-04-25T15:37:59.929Z"
   },
   {
    "duration": 5368,
    "start_time": "2022-04-25T15:38:03.305Z"
   },
   {
    "duration": 2571,
    "start_time": "2022-04-25T15:38:08.675Z"
   },
   {
    "duration": 4058,
    "start_time": "2022-04-25T15:38:11.248Z"
   },
   {
    "duration": 4955,
    "start_time": "2022-04-25T15:38:15.309Z"
   },
   {
    "duration": 2258,
    "start_time": "2022-04-25T15:38:20.266Z"
   },
   {
    "duration": 3548,
    "start_time": "2022-04-25T15:38:22.526Z"
   },
   {
    "duration": 5771,
    "start_time": "2022-04-25T15:38:26.076Z"
   },
   {
    "duration": 2051,
    "start_time": "2022-04-25T15:38:31.854Z"
   },
   {
    "duration": 3311,
    "start_time": "2022-04-25T15:38:33.913Z"
   },
   {
    "duration": 5,
    "start_time": "2022-04-25T15:38:43.959Z"
   },
   {
    "duration": 156,
    "start_time": "2022-04-25T15:38:47.622Z"
   },
   {
    "duration": 33,
    "start_time": "2022-04-25T15:38:51.812Z"
   },
   {
    "duration": 3672,
    "start_time": "2022-04-25T16:07:04.874Z"
   },
   {
    "duration": 1677,
    "start_time": "2022-04-25T16:07:08.550Z"
   },
   {
    "duration": 1050,
    "start_time": "2022-04-25T16:07:10.230Z"
   },
   {
    "duration": 9,
    "start_time": "2022-04-25T16:07:11.287Z"
   },
   {
    "duration": 217,
    "start_time": "2022-04-25T16:07:11.301Z"
   },
   {
    "duration": 460,
    "start_time": "2022-04-25T16:07:11.520Z"
   },
   {
    "duration": 285,
    "start_time": "2022-04-25T16:07:11.987Z"
   },
   {
    "duration": 19,
    "start_time": "2022-04-25T16:07:12.283Z"
   },
   {
    "duration": 35,
    "start_time": "2022-04-25T16:07:12.305Z"
   },
   {
    "duration": 28,
    "start_time": "2022-04-25T16:07:12.344Z"
   },
   {
    "duration": 28,
    "start_time": "2022-04-25T16:07:12.375Z"
   },
   {
    "duration": 27,
    "start_time": "2022-04-25T16:07:12.406Z"
   },
   {
    "duration": 20,
    "start_time": "2022-04-25T16:07:12.436Z"
   },
   {
    "duration": 11,
    "start_time": "2022-04-25T16:07:12.463Z"
   },
   {
    "duration": 44,
    "start_time": "2022-04-25T16:07:12.476Z"
   },
   {
    "duration": 901,
    "start_time": "2022-04-25T16:07:12.523Z"
   },
   {
    "duration": 221,
    "start_time": "2022-04-25T16:07:13.426Z"
   },
   {
    "duration": 100,
    "start_time": "2022-04-25T16:07:13.649Z"
   },
   {
    "duration": 33,
    "start_time": "2022-04-25T16:07:13.751Z"
   },
   {
    "duration": 70,
    "start_time": "2022-04-25T16:07:13.789Z"
   },
   {
    "duration": 143,
    "start_time": "2022-04-25T16:07:13.862Z"
   },
   {
    "duration": 78,
    "start_time": "2022-04-25T16:07:14.008Z"
   },
   {
    "duration": 34,
    "start_time": "2022-04-25T16:07:14.089Z"
   },
   {
    "duration": 1272,
    "start_time": "2022-04-25T16:07:14.127Z"
   },
   {
    "duration": 46,
    "start_time": "2022-04-25T16:07:15.401Z"
   },
   {
    "duration": 34,
    "start_time": "2022-04-25T16:07:15.450Z"
   },
   {
    "duration": 650,
    "start_time": "2022-04-25T16:07:15.487Z"
   },
   {
    "duration": 69,
    "start_time": "2022-04-25T16:07:16.140Z"
   },
   {
    "duration": 1055,
    "start_time": "2022-04-25T16:07:16.212Z"
   },
   {
    "duration": 1195,
    "start_time": "2022-04-25T16:07:17.270Z"
   },
   {
    "duration": 6,
    "start_time": "2022-04-25T16:07:18.467Z"
   },
   {
    "duration": 38,
    "start_time": "2022-04-25T16:07:18.484Z"
   },
   {
    "duration": 3,
    "start_time": "2022-04-25T16:07:18.524Z"
   },
   {
    "duration": 380,
    "start_time": "2022-04-25T16:07:18.529Z"
   },
   {
    "duration": 3222,
    "start_time": "2022-04-25T16:07:18.911Z"
   },
   {
    "duration": 5060,
    "start_time": "2022-04-25T16:07:22.135Z"
   },
   {
    "duration": 2306,
    "start_time": "2022-04-25T16:07:27.198Z"
   },
   {
    "duration": 4030,
    "start_time": "2022-04-25T16:07:29.507Z"
   },
   {
    "duration": 4416,
    "start_time": "2022-04-25T16:07:33.539Z"
   },
   {
    "duration": 1872,
    "start_time": "2022-04-25T16:07:37.957Z"
   },
   {
    "duration": 3309,
    "start_time": "2022-04-25T16:07:39.837Z"
   },
   {
    "duration": 4726,
    "start_time": "2022-04-25T16:07:43.148Z"
   },
   {
    "duration": 1755,
    "start_time": "2022-04-25T16:07:47.882Z"
   },
   {
    "duration": 3219,
    "start_time": "2022-04-25T16:07:49.640Z"
   },
   {
    "duration": 4017,
    "start_time": "2022-04-25T16:51:46.140Z"
   },
   {
    "duration": 1715,
    "start_time": "2022-04-25T16:51:50.160Z"
   },
   {
    "duration": 1000,
    "start_time": "2022-04-25T16:51:51.877Z"
   },
   {
    "duration": 21,
    "start_time": "2022-04-25T16:51:52.880Z"
   },
   {
    "duration": 189,
    "start_time": "2022-04-25T16:51:52.904Z"
   },
   {
    "duration": 467,
    "start_time": "2022-04-25T16:51:53.096Z"
   },
   {
    "duration": 318,
    "start_time": "2022-04-25T16:51:53.566Z"
   },
   {
    "duration": 15,
    "start_time": "2022-04-25T16:51:53.887Z"
   },
   {
    "duration": 25,
    "start_time": "2022-04-25T16:51:53.905Z"
   },
   {
    "duration": 12,
    "start_time": "2022-04-25T16:51:53.934Z"
   },
   {
    "duration": 8,
    "start_time": "2022-04-25T16:51:53.948Z"
   },
   {
    "duration": 55,
    "start_time": "2022-04-25T16:51:53.959Z"
   },
   {
    "duration": 17,
    "start_time": "2022-04-25T16:51:54.018Z"
   },
   {
    "duration": 9,
    "start_time": "2022-04-25T16:51:54.038Z"
   },
   {
    "duration": 16,
    "start_time": "2022-04-25T16:51:54.049Z"
   },
   {
    "duration": 920,
    "start_time": "2022-04-25T16:51:54.067Z"
   },
   {
    "duration": 237,
    "start_time": "2022-04-25T16:51:54.990Z"
   },
   {
    "duration": 105,
    "start_time": "2022-04-25T16:51:55.230Z"
   },
   {
    "duration": 21,
    "start_time": "2022-04-25T16:51:55.337Z"
   },
   {
    "duration": 97,
    "start_time": "2022-04-25T16:51:55.360Z"
   },
   {
    "duration": 101,
    "start_time": "2022-04-25T16:51:55.459Z"
   },
   {
    "duration": 84,
    "start_time": "2022-04-25T16:51:55.562Z"
   },
   {
    "duration": 40,
    "start_time": "2022-04-25T16:51:55.649Z"
   },
   {
    "duration": 1363,
    "start_time": "2022-04-25T16:51:55.692Z"
   },
   {
    "duration": 65,
    "start_time": "2022-04-25T16:51:57.057Z"
   },
   {
    "duration": 27,
    "start_time": "2022-04-25T16:51:57.124Z"
   },
   {
    "duration": 697,
    "start_time": "2022-04-25T16:51:57.153Z"
   },
   {
    "duration": 63,
    "start_time": "2022-04-25T16:51:57.856Z"
   },
   {
    "duration": 1218,
    "start_time": "2022-04-25T16:51:57.923Z"
   },
   {
    "duration": 1299,
    "start_time": "2022-04-25T16:51:59.144Z"
   },
   {
    "duration": 5,
    "start_time": "2022-04-25T16:52:00.446Z"
   },
   {
    "duration": 67,
    "start_time": "2022-04-25T16:52:00.453Z"
   },
   {
    "duration": 8,
    "start_time": "2022-04-25T16:52:00.524Z"
   },
   {
    "duration": 398,
    "start_time": "2022-04-25T16:52:00.534Z"
   },
   {
    "duration": 3482,
    "start_time": "2022-04-25T16:52:00.934Z"
   },
   {
    "duration": 5507,
    "start_time": "2022-04-25T16:52:04.422Z"
   },
   {
    "duration": 2404,
    "start_time": "2022-04-25T16:52:09.932Z"
   },
   {
    "duration": 4133,
    "start_time": "2022-04-25T16:52:12.338Z"
   },
   {
    "duration": 4895,
    "start_time": "2022-04-25T16:52:16.473Z"
   },
   {
    "duration": 2166,
    "start_time": "2022-04-25T16:52:21.371Z"
   },
   {
    "duration": 3714,
    "start_time": "2022-04-25T16:52:23.540Z"
   },
   {
    "duration": 4699,
    "start_time": "2022-04-25T16:52:27.256Z"
   },
   {
    "duration": 1995,
    "start_time": "2022-04-25T16:52:31.957Z"
   },
   {
    "duration": 3787,
    "start_time": "2022-04-25T16:52:33.955Z"
   },
   {
    "duration": 6,
    "start_time": "2022-04-25T16:57:46.103Z"
   },
   {
    "duration": 663,
    "start_time": "2022-04-25T16:58:06.748Z"
   },
   {
    "duration": 4,
    "start_time": "2022-04-25T16:58:40.016Z"
   },
   {
    "duration": 13,
    "start_time": "2022-04-25T16:58:41.963Z"
   },
   {
    "duration": 4,
    "start_time": "2022-04-25T16:59:18.762Z"
   },
   {
    "duration": 664,
    "start_time": "2022-04-25T16:59:21.064Z"
   },
   {
    "duration": 136,
    "start_time": "2022-04-25T16:59:40.670Z"
   },
   {
    "duration": 555,
    "start_time": "2022-04-25T17:00:09.619Z"
   },
   {
    "duration": 4,
    "start_time": "2022-04-25T17:01:11.308Z"
   },
   {
    "duration": 338,
    "start_time": "2022-04-25T17:01:13.534Z"
   },
   {
    "duration": 166,
    "start_time": "2022-04-25T17:01:42.698Z"
   },
   {
    "duration": 17,
    "start_time": "2022-04-25T17:02:21.881Z"
   },
   {
    "duration": 4,
    "start_time": "2022-04-25T17:02:22.948Z"
   },
   {
    "duration": 444,
    "start_time": "2022-04-25T17:02:23.724Z"
   },
   {
    "duration": 4,
    "start_time": "2022-04-25T17:02:50.370Z"
   },
   {
    "duration": 160,
    "start_time": "2022-04-25T17:02:52.398Z"
   },
   {
    "duration": 4985,
    "start_time": "2022-04-25T18:08:37.007Z"
   },
   {
    "duration": 1586,
    "start_time": "2022-04-25T18:08:41.996Z"
   },
   {
    "duration": 1558,
    "start_time": "2022-04-25T18:08:43.584Z"
   },
   {
    "duration": 7,
    "start_time": "2022-04-25T18:08:45.145Z"
   },
   {
    "duration": 8,
    "start_time": "2022-04-25T18:08:45.155Z"
   },
   {
    "duration": 252,
    "start_time": "2022-04-25T18:08:45.166Z"
   },
   {
    "duration": 457,
    "start_time": "2022-04-25T18:08:45.420Z"
   },
   {
    "duration": 266,
    "start_time": "2022-04-25T18:08:45.882Z"
   },
   {
    "duration": 14,
    "start_time": "2022-04-25T18:08:46.151Z"
   },
   {
    "duration": 27,
    "start_time": "2022-04-25T18:08:46.188Z"
   },
   {
    "duration": 19,
    "start_time": "2022-04-25T18:08:46.218Z"
   },
   {
    "duration": 13,
    "start_time": "2022-04-25T18:08:46.240Z"
   },
   {
    "duration": 31,
    "start_time": "2022-04-25T18:08:46.256Z"
   },
   {
    "duration": 22,
    "start_time": "2022-04-25T18:08:46.290Z"
   },
   {
    "duration": 20,
    "start_time": "2022-04-25T18:08:46.314Z"
   },
   {
    "duration": 16,
    "start_time": "2022-04-25T18:08:46.337Z"
   },
   {
    "duration": 886,
    "start_time": "2022-04-25T18:08:46.355Z"
   },
   {
    "duration": 204,
    "start_time": "2022-04-25T18:08:47.243Z"
   },
   {
    "duration": 102,
    "start_time": "2022-04-25T18:08:47.450Z"
   },
   {
    "duration": 34,
    "start_time": "2022-04-25T18:08:47.554Z"
   },
   {
    "duration": 70,
    "start_time": "2022-04-25T18:08:47.594Z"
   },
   {
    "duration": 92,
    "start_time": "2022-04-25T18:08:47.667Z"
   },
   {
    "duration": 83,
    "start_time": "2022-04-25T18:08:47.762Z"
   },
   {
    "duration": 38,
    "start_time": "2022-04-25T18:08:47.849Z"
   },
   {
    "duration": 1756,
    "start_time": "2022-04-25T18:08:47.891Z"
   },
   {
    "duration": 48,
    "start_time": "2022-04-25T18:08:49.650Z"
   },
   {
    "duration": 28,
    "start_time": "2022-04-25T18:08:49.700Z"
   },
   {
    "duration": 671,
    "start_time": "2022-04-25T18:08:49.734Z"
   },
   {
    "duration": 52,
    "start_time": "2022-04-25T18:08:50.408Z"
   },
   {
    "duration": 1063,
    "start_time": "2022-04-25T18:08:50.462Z"
   },
   {
    "duration": 1197,
    "start_time": "2022-04-25T18:08:51.527Z"
   },
   {
    "duration": 7,
    "start_time": "2022-04-25T18:08:52.727Z"
   },
   {
    "duration": 69,
    "start_time": "2022-04-25T18:08:52.737Z"
   },
   {
    "duration": 6,
    "start_time": "2022-04-25T18:08:52.809Z"
   },
   {
    "duration": 374,
    "start_time": "2022-04-25T18:08:52.820Z"
   },
   {
    "duration": 3136,
    "start_time": "2022-04-25T18:08:53.197Z"
   },
   {
    "duration": 7098,
    "start_time": "2022-04-25T18:08:56.335Z"
   },
   {
    "duration": 2265,
    "start_time": "2022-04-25T18:09:03.436Z"
   },
   {
    "duration": 5017,
    "start_time": "2022-04-25T18:09:05.703Z"
   },
   {
    "duration": 4473,
    "start_time": "2022-04-25T18:09:10.723Z"
   },
   {
    "duration": 2019,
    "start_time": "2022-04-25T18:09:15.199Z"
   },
   {
    "duration": 3296,
    "start_time": "2022-04-25T18:09:17.220Z"
   },
   {
    "duration": 4330,
    "start_time": "2022-04-25T18:09:20.519Z"
   },
   {
    "duration": 1787,
    "start_time": "2022-04-25T18:09:24.851Z"
   },
   {
    "duration": 3195,
    "start_time": "2022-04-25T18:09:26.640Z"
   },
   {
    "duration": 1265,
    "start_time": "2022-05-08T08:38:38.625Z"
   },
   {
    "duration": 111,
    "start_time": "2022-05-08T08:38:39.892Z"
   },
   {
    "duration": 3,
    "start_time": "2022-05-08T08:38:40.005Z"
   },
   {
    "duration": 82,
    "start_time": "2022-05-08T08:38:40.011Z"
   },
   {
    "duration": 19,
    "start_time": "2022-05-08T08:38:40.094Z"
   },
   {
    "duration": 10,
    "start_time": "2022-05-08T08:38:40.115Z"
   },
   {
    "duration": 29,
    "start_time": "2022-05-08T08:38:40.126Z"
   },
   {
    "duration": 15,
    "start_time": "2022-05-08T08:38:40.158Z"
   },
   {
    "duration": 9,
    "start_time": "2022-05-08T08:38:40.175Z"
   },
   {
    "duration": 5,
    "start_time": "2022-05-08T08:38:40.187Z"
   },
   {
    "duration": 6,
    "start_time": "2022-05-08T08:38:40.194Z"
   },
   {
    "duration": 12,
    "start_time": "2022-05-08T08:38:40.201Z"
   },
   {
    "duration": 15,
    "start_time": "2022-05-08T08:38:40.214Z"
   },
   {
    "duration": 188,
    "start_time": "2022-05-08T08:38:40.231Z"
   },
   {
    "duration": 145,
    "start_time": "2022-05-08T08:38:40.420Z"
   },
   {
    "duration": 13,
    "start_time": "2022-05-08T08:38:40.567Z"
   },
   {
    "duration": 7,
    "start_time": "2022-05-08T08:38:40.582Z"
   },
   {
    "duration": 536,
    "start_time": "2022-05-08T08:38:40.590Z"
   },
   {
    "duration": 431,
    "start_time": "2022-05-08T08:38:41.129Z"
   },
   {
    "duration": 14,
    "start_time": "2022-05-08T08:38:41.562Z"
   },
   {
    "duration": 528,
    "start_time": "2022-05-08T08:38:41.577Z"
   },
   {
    "duration": 11,
    "start_time": "2022-05-08T08:38:42.107Z"
   },
   {
    "duration": 24,
    "start_time": "2022-05-08T08:38:42.119Z"
   },
   {
    "duration": 414,
    "start_time": "2022-05-08T08:38:42.145Z"
   },
   {
    "duration": 20,
    "start_time": "2022-05-08T08:38:42.561Z"
   },
   {
    "duration": 502,
    "start_time": "2022-05-08T08:38:42.583Z"
   },
   {
    "duration": 7,
    "start_time": "2022-05-08T08:38:43.087Z"
   },
   {
    "duration": 38,
    "start_time": "2022-05-08T08:38:43.098Z"
   },
   {
    "duration": 331,
    "start_time": "2022-05-08T08:38:43.138Z"
   },
   {
    "duration": 313,
    "start_time": "2022-05-08T08:38:43.471Z"
   },
   {
    "duration": 6,
    "start_time": "2022-05-08T08:38:43.786Z"
   },
   {
    "duration": 422,
    "start_time": "2022-05-08T08:38:43.794Z"
   },
   {
    "duration": 5,
    "start_time": "2022-05-08T08:38:44.218Z"
   },
   {
    "duration": 57,
    "start_time": "2022-05-08T08:38:44.225Z"
   },
   {
    "duration": 86,
    "start_time": "2022-05-08T08:38:44.284Z"
   },
   {
    "duration": 105,
    "start_time": "2022-05-08T08:38:44.372Z"
   },
   {
    "duration": 7,
    "start_time": "2022-05-08T08:38:44.479Z"
   },
   {
    "duration": 11,
    "start_time": "2022-05-08T08:38:44.488Z"
   },
   {
    "duration": 38,
    "start_time": "2022-05-08T08:38:44.500Z"
   },
   {
    "duration": 4,
    "start_time": "2022-05-08T08:38:44.540Z"
   },
   {
    "duration": 28,
    "start_time": "2022-05-08T08:38:44.545Z"
   },
   {
    "duration": 40,
    "start_time": "2022-05-08T08:38:44.575Z"
   },
   {
    "duration": 14,
    "start_time": "2022-05-08T08:38:44.617Z"
   },
   {
    "duration": 18,
    "start_time": "2022-05-08T08:38:44.633Z"
   },
   {
    "duration": 40,
    "start_time": "2022-05-08T08:38:44.653Z"
   },
   {
    "duration": 23,
    "start_time": "2022-05-08T08:38:44.694Z"
   },
   {
    "duration": 32,
    "start_time": "2022-05-08T08:38:44.719Z"
   },
   {
    "duration": 16,
    "start_time": "2022-05-08T08:38:44.753Z"
   },
   {
    "duration": 23,
    "start_time": "2022-05-08T08:38:44.770Z"
   }
  ],
  "kernelspec": {
   "display_name": "Python 3 (ipykernel)",
   "language": "python",
   "name": "python3"
  },
  "language_info": {
   "codemirror_mode": {
    "name": "ipython",
    "version": 3
   },
   "file_extension": ".py",
   "mimetype": "text/x-python",
   "name": "python",
   "nbconvert_exporter": "python",
   "pygments_lexer": "ipython3",
   "version": "3.9.13"
  },
  "toc": {
   "base_numbering": 1,
   "nav_menu": {},
   "number_sections": true,
   "sideBar": true,
   "skip_h1_title": true,
   "title_cell": "Содержание",
   "title_sidebar": "Contents",
   "toc_cell": true,
   "toc_position": {
    "height": "calc(100% - 180px)",
    "left": "10px",
    "top": "150px",
    "width": "408.991px"
   },
   "toc_section_display": true,
   "toc_window_display": false
  }
 },
 "nbformat": 4,
 "nbformat_minor": 4
}
