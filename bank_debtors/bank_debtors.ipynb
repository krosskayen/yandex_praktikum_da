{
 "cells": [
  {
   "cell_type": "markdown",
   "id": "5fec7439",
   "metadata": {
    "toc": true
   },
   "source": [
    "<h1>Содержание<span class=\"tocSkip\"></span></h1>\n",
    "<div class=\"toc\"><ul class=\"toc-item\"><li><span><a href=\"#Обзор-данных\" data-toc-modified-id=\"Обзор-данных-1\"><span class=\"toc-item-num\">1&nbsp;&nbsp;</span>Обзор данных</a></span></li><li><span><a href=\"#Предобработка-данных\" data-toc-modified-id=\"Предобработка-данных-2\"><span class=\"toc-item-num\">2&nbsp;&nbsp;</span>Предобработка данных</a></span><ul class=\"toc-item\"><li><span><a href=\"#Заполнение-пропусков.\" data-toc-modified-id=\"Заполнение-пропусков.-2.1\"><span class=\"toc-item-num\">2.1&nbsp;&nbsp;</span>Заполнение пропусков.</a></span></li><li><span><a href=\"#Проверка-данных-на-аномалии-и-исправления.\" data-toc-modified-id=\"Проверка-данных-на-аномалии-и-исправления.-2.2\"><span class=\"toc-item-num\">2.2&nbsp;&nbsp;</span>Проверка данных на аномалии и исправления.</a></span></li><li><span><a href=\"#Изменение-типов-данных.\" data-toc-modified-id=\"Изменение-типов-данных.-2.3\"><span class=\"toc-item-num\">2.3&nbsp;&nbsp;</span>Изменение типов данных.</a></span></li><li><span><a href=\"#Удаление-дубликатов.\" data-toc-modified-id=\"Удаление-дубликатов.-2.4\"><span class=\"toc-item-num\">2.4&nbsp;&nbsp;</span>Удаление дубликатов.</a></span></li><li><span><a href=\"#Формирование-дополнительных-датафреймов-словарей,-декомпозиция-исходного-датафрейма.\" data-toc-modified-id=\"Формирование-дополнительных-датафреймов-словарей,-декомпозиция-исходного-датафрейма.-2.5\"><span class=\"toc-item-num\">2.5&nbsp;&nbsp;</span>Формирование дополнительных датафреймов словарей, декомпозиция исходного датафрейма.</a></span></li><li><span><a href=\"#Категоризация-дохода.\" data-toc-modified-id=\"Категоризация-дохода.-2.6\"><span class=\"toc-item-num\">2.6&nbsp;&nbsp;</span>Категоризация дохода.</a></span></li><li><span><a href=\"#Категоризация-целей-кредита.\" data-toc-modified-id=\"Категоризация-целей-кредита.-2.7\"><span class=\"toc-item-num\">2.7&nbsp;&nbsp;</span>Категоризация целей кредита.</a></span></li><li><span><a href=\"#Ответы-на-вопросы.\" data-toc-modified-id=\"Ответы-на-вопросы.-2.8\"><span class=\"toc-item-num\">2.8&nbsp;&nbsp;</span>Ответы на вопросы.</a></span><ul class=\"toc-item\"><li><span><a href=\"#Вопрос-1:-Есть-ли-зависимость-между-количеством-детей-и-возвратом-кредита-в-срок?\" data-toc-modified-id=\"Вопрос-1:-Есть-ли-зависимость-между-количеством-детей-и-возвратом-кредита-в-срок?-2.8.1\"><span class=\"toc-item-num\">2.8.1&nbsp;&nbsp;</span>Вопрос 1: Есть ли зависимость между количеством детей и возвратом кредита в срок?</a></span></li><li><span><a href=\"#Вывод--по-вопросу-1:\" data-toc-modified-id=\"Вывод--по-вопросу-1:-2.8.2\"><span class=\"toc-item-num\">2.8.2&nbsp;&nbsp;</span>Вывод  по вопросу 1:</a></span></li><li><span><a href=\"#Вопрос-2:-Есть-ли-зависимость-между-семейным-положением-и-возвратом-кредита-в-срок?\" data-toc-modified-id=\"Вопрос-2:-Есть-ли-зависимость-между-семейным-положением-и-возвратом-кредита-в-срок?-2.8.3\"><span class=\"toc-item-num\">2.8.3&nbsp;&nbsp;</span>Вопрос 2: Есть ли зависимость между семейным положением и возвратом кредита в срок?</a></span></li><li><span><a href=\"#Вывод-по-вопросу-2:\" data-toc-modified-id=\"Вывод-по-вопросу-2:-2.8.4\"><span class=\"toc-item-num\">2.8.4&nbsp;&nbsp;</span>Вывод по вопросу 2:</a></span></li><li><span><a href=\"#Вопрос-3:-Есть-ли-зависимость-между-уровнем-дохода-и-возвратом-кредита-в-срок?\" data-toc-modified-id=\"Вопрос-3:-Есть-ли-зависимость-между-уровнем-дохода-и-возвратом-кредита-в-срок?-2.8.5\"><span class=\"toc-item-num\">2.8.5&nbsp;&nbsp;</span>Вопрос 3: Есть ли зависимость между уровнем дохода и возвратом кредита в срок?</a></span></li><li><span><a href=\"#Вывод-по-вопросу-3:\" data-toc-modified-id=\"Вывод-по-вопросу-3:-2.8.6\"><span class=\"toc-item-num\">2.8.6&nbsp;&nbsp;</span>Вывод по вопросу 3:</a></span></li><li><span><a href=\"#Вопрос-4:-Как-разные-цели-кредита-влияют-на-его-возврат-в-срок?\" data-toc-modified-id=\"Вопрос-4:-Как-разные-цели-кредита-влияют-на-его-возврат-в-срок?-2.8.7\"><span class=\"toc-item-num\">2.8.7&nbsp;&nbsp;</span>Вопрос 4: Как разные цели кредита влияют на его возврат в срок?</a></span></li><li><span><a href=\"#Вывод-по-вопросу-4:\" data-toc-modified-id=\"Вывод-по-вопросу-4:-2.8.8\"><span class=\"toc-item-num\">2.8.8&nbsp;&nbsp;</span>Вывод по вопросу 4:</a></span></li></ul></li></ul></li><li><span><a href=\"#Общий-вывод:\" data-toc-modified-id=\"Общий-вывод:-3\"><span class=\"toc-item-num\">3&nbsp;&nbsp;</span>Общий вывод:</a></span></li></ul></div>"
   ]
  },
  {
   "cell_type": "markdown",
   "id": "c6ccff16",
   "metadata": {},
   "source": [
    "# Исследование надежности заемщиков."
   ]
  },
  {
   "cell_type": "markdown",
   "id": "bd2cfa13",
   "metadata": {},
   "source": [
    "По предоставленным данным кредитного отдела банка в виде статистики о платёжеспособности клиентов, необходимо провести исследование относительно влияния ряда факторов (например: семейного положения и количества детей клиента) на факт погашения кредита в срок.\n",
    "Результаты исследования будут учтены при построении модели кредитного скоринга — специальной системы, которая оценивает способность потенциального заёмщика вернуть кредит банку."
   ]
  },
  {
   "cell_type": "markdown",
   "id": "a7bef294",
   "metadata": {},
   "source": [
    "## Обзор данных"
   ]
  },
  {
   "cell_type": "code",
   "execution_count": 1,
   "id": "481888cf",
   "metadata": {},
   "outputs": [],
   "source": [
    "# импортирование необходимых библиотек\n",
    "import numpy as np \n",
    "import pandas as pd"
   ]
  },
  {
   "cell_type": "code",
   "execution_count": 2,
   "id": "202d5308",
   "metadata": {},
   "outputs": [],
   "source": [
    "# чтение файла с данными и сохранение в df\n",
    "df = pd.read_csv('data.csv')"
   ]
  },
  {
   "cell_type": "code",
   "execution_count": 3,
   "id": "629b56b5",
   "metadata": {},
   "outputs": [
    {
     "data": {
      "text/html": [
       "<div>\n",
       "<style scoped>\n",
       "    .dataframe tbody tr th:only-of-type {\n",
       "        vertical-align: middle;\n",
       "    }\n",
       "\n",
       "    .dataframe tbody tr th {\n",
       "        vertical-align: top;\n",
       "    }\n",
       "\n",
       "    .dataframe thead th {\n",
       "        text-align: right;\n",
       "    }\n",
       "</style>\n",
       "<table border=\"1\" class=\"dataframe\">\n",
       "  <thead>\n",
       "    <tr style=\"text-align: right;\">\n",
       "      <th></th>\n",
       "      <th>children</th>\n",
       "      <th>days_employed</th>\n",
       "      <th>dob_years</th>\n",
       "      <th>education</th>\n",
       "      <th>education_id</th>\n",
       "      <th>family_status</th>\n",
       "      <th>family_status_id</th>\n",
       "      <th>gender</th>\n",
       "      <th>income_type</th>\n",
       "      <th>debt</th>\n",
       "      <th>total_income</th>\n",
       "      <th>purpose</th>\n",
       "    </tr>\n",
       "  </thead>\n",
       "  <tbody>\n",
       "    <tr>\n",
       "      <td>0</td>\n",
       "      <td>1</td>\n",
       "      <td>-8437.673028</td>\n",
       "      <td>42</td>\n",
       "      <td>высшее</td>\n",
       "      <td>0</td>\n",
       "      <td>женат / замужем</td>\n",
       "      <td>0</td>\n",
       "      <td>F</td>\n",
       "      <td>сотрудник</td>\n",
       "      <td>0</td>\n",
       "      <td>253875.639453</td>\n",
       "      <td>покупка жилья</td>\n",
       "    </tr>\n",
       "    <tr>\n",
       "      <td>1</td>\n",
       "      <td>1</td>\n",
       "      <td>-4024.803754</td>\n",
       "      <td>36</td>\n",
       "      <td>среднее</td>\n",
       "      <td>1</td>\n",
       "      <td>женат / замужем</td>\n",
       "      <td>0</td>\n",
       "      <td>F</td>\n",
       "      <td>сотрудник</td>\n",
       "      <td>0</td>\n",
       "      <td>112080.014102</td>\n",
       "      <td>приобретение автомобиля</td>\n",
       "    </tr>\n",
       "    <tr>\n",
       "      <td>2</td>\n",
       "      <td>0</td>\n",
       "      <td>-5623.422610</td>\n",
       "      <td>33</td>\n",
       "      <td>Среднее</td>\n",
       "      <td>1</td>\n",
       "      <td>женат / замужем</td>\n",
       "      <td>0</td>\n",
       "      <td>M</td>\n",
       "      <td>сотрудник</td>\n",
       "      <td>0</td>\n",
       "      <td>145885.952297</td>\n",
       "      <td>покупка жилья</td>\n",
       "    </tr>\n",
       "    <tr>\n",
       "      <td>3</td>\n",
       "      <td>3</td>\n",
       "      <td>-4124.747207</td>\n",
       "      <td>32</td>\n",
       "      <td>среднее</td>\n",
       "      <td>1</td>\n",
       "      <td>женат / замужем</td>\n",
       "      <td>0</td>\n",
       "      <td>M</td>\n",
       "      <td>сотрудник</td>\n",
       "      <td>0</td>\n",
       "      <td>267628.550329</td>\n",
       "      <td>дополнительное образование</td>\n",
       "    </tr>\n",
       "    <tr>\n",
       "      <td>4</td>\n",
       "      <td>0</td>\n",
       "      <td>340266.072047</td>\n",
       "      <td>53</td>\n",
       "      <td>среднее</td>\n",
       "      <td>1</td>\n",
       "      <td>гражданский брак</td>\n",
       "      <td>1</td>\n",
       "      <td>F</td>\n",
       "      <td>пенсионер</td>\n",
       "      <td>0</td>\n",
       "      <td>158616.077870</td>\n",
       "      <td>сыграть свадьбу</td>\n",
       "    </tr>\n",
       "    <tr>\n",
       "      <td>5</td>\n",
       "      <td>0</td>\n",
       "      <td>-926.185831</td>\n",
       "      <td>27</td>\n",
       "      <td>высшее</td>\n",
       "      <td>0</td>\n",
       "      <td>гражданский брак</td>\n",
       "      <td>1</td>\n",
       "      <td>M</td>\n",
       "      <td>компаньон</td>\n",
       "      <td>0</td>\n",
       "      <td>255763.565419</td>\n",
       "      <td>покупка жилья</td>\n",
       "    </tr>\n",
       "    <tr>\n",
       "      <td>6</td>\n",
       "      <td>0</td>\n",
       "      <td>-2879.202052</td>\n",
       "      <td>43</td>\n",
       "      <td>высшее</td>\n",
       "      <td>0</td>\n",
       "      <td>женат / замужем</td>\n",
       "      <td>0</td>\n",
       "      <td>F</td>\n",
       "      <td>компаньон</td>\n",
       "      <td>0</td>\n",
       "      <td>240525.971920</td>\n",
       "      <td>операции с жильем</td>\n",
       "    </tr>\n",
       "    <tr>\n",
       "      <td>7</td>\n",
       "      <td>0</td>\n",
       "      <td>-152.779569</td>\n",
       "      <td>50</td>\n",
       "      <td>СРЕДНЕЕ</td>\n",
       "      <td>1</td>\n",
       "      <td>женат / замужем</td>\n",
       "      <td>0</td>\n",
       "      <td>M</td>\n",
       "      <td>сотрудник</td>\n",
       "      <td>0</td>\n",
       "      <td>135823.934197</td>\n",
       "      <td>образование</td>\n",
       "    </tr>\n",
       "    <tr>\n",
       "      <td>8</td>\n",
       "      <td>2</td>\n",
       "      <td>-6929.865299</td>\n",
       "      <td>35</td>\n",
       "      <td>ВЫСШЕЕ</td>\n",
       "      <td>0</td>\n",
       "      <td>гражданский брак</td>\n",
       "      <td>1</td>\n",
       "      <td>F</td>\n",
       "      <td>сотрудник</td>\n",
       "      <td>0</td>\n",
       "      <td>95856.832424</td>\n",
       "      <td>на проведение свадьбы</td>\n",
       "    </tr>\n",
       "    <tr>\n",
       "      <td>9</td>\n",
       "      <td>0</td>\n",
       "      <td>-2188.756445</td>\n",
       "      <td>41</td>\n",
       "      <td>среднее</td>\n",
       "      <td>1</td>\n",
       "      <td>женат / замужем</td>\n",
       "      <td>0</td>\n",
       "      <td>M</td>\n",
       "      <td>сотрудник</td>\n",
       "      <td>0</td>\n",
       "      <td>144425.938277</td>\n",
       "      <td>покупка жилья для семьи</td>\n",
       "    </tr>\n",
       "  </tbody>\n",
       "</table>\n",
       "</div>"
      ],
      "text/plain": [
       "   children  days_employed  dob_years education  education_id  \\\n",
       "0         1   -8437.673028         42    высшее             0   \n",
       "1         1   -4024.803754         36   среднее             1   \n",
       "2         0   -5623.422610         33   Среднее             1   \n",
       "3         3   -4124.747207         32   среднее             1   \n",
       "4         0  340266.072047         53   среднее             1   \n",
       "5         0    -926.185831         27    высшее             0   \n",
       "6         0   -2879.202052         43    высшее             0   \n",
       "7         0    -152.779569         50   СРЕДНЕЕ             1   \n",
       "8         2   -6929.865299         35    ВЫСШЕЕ             0   \n",
       "9         0   -2188.756445         41   среднее             1   \n",
       "\n",
       "      family_status  family_status_id gender income_type  debt   total_income  \\\n",
       "0   женат / замужем                 0      F   сотрудник     0  253875.639453   \n",
       "1   женат / замужем                 0      F   сотрудник     0  112080.014102   \n",
       "2   женат / замужем                 0      M   сотрудник     0  145885.952297   \n",
       "3   женат / замужем                 0      M   сотрудник     0  267628.550329   \n",
       "4  гражданский брак                 1      F   пенсионер     0  158616.077870   \n",
       "5  гражданский брак                 1      M   компаньон     0  255763.565419   \n",
       "6   женат / замужем                 0      F   компаньон     0  240525.971920   \n",
       "7   женат / замужем                 0      M   сотрудник     0  135823.934197   \n",
       "8  гражданский брак                 1      F   сотрудник     0   95856.832424   \n",
       "9   женат / замужем                 0      M   сотрудник     0  144425.938277   \n",
       "\n",
       "                      purpose  \n",
       "0               покупка жилья  \n",
       "1     приобретение автомобиля  \n",
       "2               покупка жилья  \n",
       "3  дополнительное образование  \n",
       "4             сыграть свадьбу  \n",
       "5               покупка жилья  \n",
       "6           операции с жильем  \n",
       "7                 образование  \n",
       "8       на проведение свадьбы  \n",
       "9     покупка жилья для семьи  "
      ]
     },
     "execution_count": 3,
     "metadata": {},
     "output_type": "execute_result"
    }
   ],
   "source": [
    "# получение первых 10 строк таблицы df \n",
    "df.head(10)"
   ]
  },
  {
   "cell_type": "code",
   "execution_count": 4,
   "id": "94530601",
   "metadata": {},
   "outputs": [
    {
     "name": "stdout",
     "output_type": "stream",
     "text": [
      "<class 'pandas.core.frame.DataFrame'>\n",
      "RangeIndex: 21525 entries, 0 to 21524\n",
      "Data columns (total 12 columns):\n",
      "children            21525 non-null int64\n",
      "days_employed       19351 non-null float64\n",
      "dob_years           21525 non-null int64\n",
      "education           21525 non-null object\n",
      "education_id        21525 non-null int64\n",
      "family_status       21525 non-null object\n",
      "family_status_id    21525 non-null int64\n",
      "gender              21525 non-null object\n",
      "income_type         21525 non-null object\n",
      "debt                21525 non-null int64\n",
      "total_income        19351 non-null float64\n",
      "purpose             21525 non-null object\n",
      "dtypes: float64(2), int64(5), object(5)\n",
      "memory usage: 2.0+ MB\n"
     ]
    }
   ],
   "source": [
    "# получение общей информации о данных\n",
    "df.info()"
   ]
  },
  {
   "cell_type": "code",
   "execution_count": 5,
   "id": "3b1c4a9b",
   "metadata": {},
   "outputs": [
    {
     "data": {
      "text/html": [
       "<div>\n",
       "<style scoped>\n",
       "    .dataframe tbody tr th:only-of-type {\n",
       "        vertical-align: middle;\n",
       "    }\n",
       "\n",
       "    .dataframe tbody tr th {\n",
       "        vertical-align: top;\n",
       "    }\n",
       "\n",
       "    .dataframe thead th {\n",
       "        text-align: right;\n",
       "    }\n",
       "</style>\n",
       "<table border=\"1\" class=\"dataframe\">\n",
       "  <thead>\n",
       "    <tr style=\"text-align: right;\">\n",
       "      <th></th>\n",
       "      <th>children</th>\n",
       "      <th>days_employed</th>\n",
       "      <th>dob_years</th>\n",
       "      <th>education_id</th>\n",
       "      <th>family_status_id</th>\n",
       "      <th>debt</th>\n",
       "      <th>total_income</th>\n",
       "    </tr>\n",
       "  </thead>\n",
       "  <tbody>\n",
       "    <tr>\n",
       "      <td>count</td>\n",
       "      <td>21525.000000</td>\n",
       "      <td>19351.000000</td>\n",
       "      <td>21525.000000</td>\n",
       "      <td>21525.000000</td>\n",
       "      <td>21525.000000</td>\n",
       "      <td>21525.000000</td>\n",
       "      <td>1.935100e+04</td>\n",
       "    </tr>\n",
       "    <tr>\n",
       "      <td>mean</td>\n",
       "      <td>0.538908</td>\n",
       "      <td>63046.497661</td>\n",
       "      <td>43.293380</td>\n",
       "      <td>0.817236</td>\n",
       "      <td>0.972544</td>\n",
       "      <td>0.080883</td>\n",
       "      <td>1.674223e+05</td>\n",
       "    </tr>\n",
       "    <tr>\n",
       "      <td>std</td>\n",
       "      <td>1.381587</td>\n",
       "      <td>140827.311974</td>\n",
       "      <td>12.574584</td>\n",
       "      <td>0.548138</td>\n",
       "      <td>1.420324</td>\n",
       "      <td>0.272661</td>\n",
       "      <td>1.029716e+05</td>\n",
       "    </tr>\n",
       "    <tr>\n",
       "      <td>min</td>\n",
       "      <td>-1.000000</td>\n",
       "      <td>-18388.949901</td>\n",
       "      <td>0.000000</td>\n",
       "      <td>0.000000</td>\n",
       "      <td>0.000000</td>\n",
       "      <td>0.000000</td>\n",
       "      <td>2.066726e+04</td>\n",
       "    </tr>\n",
       "    <tr>\n",
       "      <td>25%</td>\n",
       "      <td>0.000000</td>\n",
       "      <td>-2747.423625</td>\n",
       "      <td>33.000000</td>\n",
       "      <td>1.000000</td>\n",
       "      <td>0.000000</td>\n",
       "      <td>0.000000</td>\n",
       "      <td>1.030532e+05</td>\n",
       "    </tr>\n",
       "    <tr>\n",
       "      <td>50%</td>\n",
       "      <td>0.000000</td>\n",
       "      <td>-1203.369529</td>\n",
       "      <td>42.000000</td>\n",
       "      <td>1.000000</td>\n",
       "      <td>0.000000</td>\n",
       "      <td>0.000000</td>\n",
       "      <td>1.450179e+05</td>\n",
       "    </tr>\n",
       "    <tr>\n",
       "      <td>75%</td>\n",
       "      <td>1.000000</td>\n",
       "      <td>-291.095954</td>\n",
       "      <td>53.000000</td>\n",
       "      <td>1.000000</td>\n",
       "      <td>1.000000</td>\n",
       "      <td>0.000000</td>\n",
       "      <td>2.034351e+05</td>\n",
       "    </tr>\n",
       "    <tr>\n",
       "      <td>max</td>\n",
       "      <td>20.000000</td>\n",
       "      <td>401755.400475</td>\n",
       "      <td>75.000000</td>\n",
       "      <td>4.000000</td>\n",
       "      <td>4.000000</td>\n",
       "      <td>1.000000</td>\n",
       "      <td>2.265604e+06</td>\n",
       "    </tr>\n",
       "  </tbody>\n",
       "</table>\n",
       "</div>"
      ],
      "text/plain": [
       "           children  days_employed     dob_years  education_id  \\\n",
       "count  21525.000000   19351.000000  21525.000000  21525.000000   \n",
       "mean       0.538908   63046.497661     43.293380      0.817236   \n",
       "std        1.381587  140827.311974     12.574584      0.548138   \n",
       "min       -1.000000  -18388.949901      0.000000      0.000000   \n",
       "25%        0.000000   -2747.423625     33.000000      1.000000   \n",
       "50%        0.000000   -1203.369529     42.000000      1.000000   \n",
       "75%        1.000000    -291.095954     53.000000      1.000000   \n",
       "max       20.000000  401755.400475     75.000000      4.000000   \n",
       "\n",
       "       family_status_id          debt  total_income  \n",
       "count      21525.000000  21525.000000  1.935100e+04  \n",
       "mean           0.972544      0.080883  1.674223e+05  \n",
       "std            1.420324      0.272661  1.029716e+05  \n",
       "min            0.000000      0.000000  2.066726e+04  \n",
       "25%            0.000000      0.000000  1.030532e+05  \n",
       "50%            0.000000      0.000000  1.450179e+05  \n",
       "75%            1.000000      0.000000  2.034351e+05  \n",
       "max            4.000000      1.000000  2.265604e+06  "
      ]
     },
     "execution_count": 5,
     "metadata": {},
     "output_type": "execute_result"
    }
   ],
   "source": [
    "# получение статистики по каждому числовому признаку\n",
    "df.describe()"
   ]
  },
  {
   "cell_type": "markdown",
   "id": "9db14ab2",
   "metadata": {},
   "source": [
    "**Выводы**\n",
    "\n",
    "Согласно документации к данным в таблице 12 столбцов и 21525 строк. \n",
    "\n",
    "В документации имеется следующее описание столбцов:\n",
    "* `children` — количество детей в семье;\n",
    "* `days_employed` — общий трудовой стаж в днях;  \n",
    "* `dob_years` — возраст клиента в годах;\n",
    "* `education` — уровень образования клиента;\n",
    "* `education_id` — идентификатор уровня образования;\n",
    "* `family_status` — семейное положение;\n",
    "* `family_status_id` — идентификатор семейного положения;\n",
    "* `gender` — пол клиента;\n",
    "* `income_type` — тип занятости;\n",
    "* `debt` — имел ли задолженность по возврату кредитов;\n",
    "* `total_income` — ежемесячный доход;\n",
    "* `purpose` — цель получения кредита.\n",
    "\n",
    "Исходя из описания поставленной задачи, предоставленные документы являются статистикой о платёжеспособности клиентов одного из кредитных учреждений. Заголовки столбцов указаны корректно, к каждому из столбцов имеется описание содержащихся в них данных.\n",
    "\n",
    "Предварительно можно утверждать, что, размера предоставленных данных достаточно для проверки гипотез, однако начальное ознакомление с данными позволило выявить следующие проблемы:\n",
    "- пропущенные значения;\n",
    "- дубликаты — явные (возможно имеются неявные);\n",
    "- некорректные значения в столбцах (например: отрицательные значения в размере трудового стажа);\n",
    "- типы данных в некоторых столбцах некорректны применительно к находящимся в них данных."
   ]
  },
  {
   "cell_type": "markdown",
   "id": "993f630e",
   "metadata": {},
   "source": [
    "## Предобработка данных"
   ]
  },
  {
   "cell_type": "markdown",
   "id": "4cf2faff",
   "metadata": {},
   "source": [
    "### Заполнение пропусков."
   ]
  },
  {
   "cell_type": "code",
   "execution_count": 6,
   "id": "5f8adfbd",
   "metadata": {},
   "outputs": [
    {
     "data": {
      "text/plain": [
       "children               0\n",
       "days_employed       2174\n",
       "dob_years              0\n",
       "education              0\n",
       "education_id           0\n",
       "family_status          0\n",
       "family_status_id       0\n",
       "gender                 0\n",
       "income_type            0\n",
       "debt                   0\n",
       "total_income        2174\n",
       "purpose                0\n",
       "dtype: int64"
      ]
     },
     "execution_count": 6,
     "metadata": {},
     "output_type": "execute_result"
    }
   ],
   "source": [
    "# подсчёт пропусков\n",
    "df.isna().sum()"
   ]
  },
  {
   "cell_type": "code",
   "execution_count": 7,
   "id": "40224e2d",
   "metadata": {},
   "outputs": [
    {
     "data": {
      "text/plain": [
       "children            0.000000\n",
       "days_employed       0.100999\n",
       "dob_years           0.000000\n",
       "education           0.000000\n",
       "education_id        0.000000\n",
       "family_status       0.000000\n",
       "family_status_id    0.000000\n",
       "gender              0.000000\n",
       "income_type         0.000000\n",
       "debt                0.000000\n",
       "total_income        0.100999\n",
       "purpose             0.000000\n",
       "dtype: float64"
      ]
     },
     "execution_count": 7,
     "metadata": {},
     "output_type": "execute_result"
    }
   ],
   "source": [
    "# выяснение процентного соотношения пропусков в столбцах к общему числу значений в столбце\n",
    "df.isna().mean()"
   ]
  },
  {
   "cell_type": "markdown",
   "id": "280c47d6",
   "metadata": {},
   "source": [
    "В предоставленных данных встречаются пропуски, а именно: в столбцах с общим трудовым стажем (days_employed) \n",
    "и ежемесячным доходом (total_income). Пропущенные значения составляют около 10 % от общего числа количественных значений в каждом из столбцов, что может негативно отразиться на результате проверяемых гипотез.\n",
    "\n",
    "Причинами появления пропусков в указанных столбцах могут быть следующими:\n",
    "* условия предоставления денежных средств по некоторым кредитным продуктам допускают отсутствие достоверных сведений о доходе и трудовом стаже (т.е. без предоставления трудовой книжки и справки о доходе), в связи с чем соответствующие данные заполняются со слов потенциальных заемщиков. Часть заемщиков может иметь заработок и стаж без официального оформления на работу, что во внутрибанковской системе может отражаться как отсутствующие значения;\n",
    "* стаж и размер заработка могут быть не отражены, поскольку потенциальный клиент только приступил к трудовой деятельности и ранее дохода не получал.\n",
    "\n",
    "Замена пропущенных значений медианой является приемлемым, поскольку медиана не так чувствительна к выбросам по сравнению со средним арифметическим значением, что позволит не сильно исказить значения в соответствующих столбцах."
   ]
  },
  {
   "cell_type": "markdown",
   "id": "7c3aac67",
   "metadata": {},
   "source": [
    "Как мы видим, медианное значение в столбце days_employed (стаж работы) является отрицательным, что в реальности быть не может, кроме того, т.е. в указанном столбце ряд значений имеют признак аномалий. В связи с чем, до замены пропусков в соответствующем столбце необходимо будет избавиться от всех имеющихся аномалий."
   ]
  },
  {
   "cell_type": "markdown",
   "id": "05a4b915",
   "metadata": {},
   "source": [
    "Посмотрим имеются ли аномалии в столбце с данными о ежемесячной заработной плате"
   ]
  },
  {
   "cell_type": "code",
   "execution_count": 8,
   "id": "841a3645",
   "metadata": {},
   "outputs": [
    {
     "data": {
      "text/plain": [
       "145018.0"
      ]
     },
     "execution_count": 8,
     "metadata": {},
     "output_type": "execute_result"
    }
   ],
   "source": [
    "# посчитаем медиану значений столбца с данными о ежемесячной заработной плате, округлив результат до целого числа\n",
    "df.total_income.median().round()"
   ]
  },
  {
   "cell_type": "markdown",
   "id": "12c2309e",
   "metadata": {},
   "source": [
    "Медианный размер ежемесячного дохода довольно велик с учетом того, что среди заемщиков имеются пенсионеры, работники в декрете и студенты.\n",
    "Посмотрим, насколько сильно отклоняется данное значение при группировке по каждому типу занятости."
   ]
  },
  {
   "cell_type": "code",
   "execution_count": 9,
   "id": "6451f06a",
   "metadata": {},
   "outputs": [
    {
     "data": {
      "text/plain": [
       "income_type\n",
       "безработный        131340.0\n",
       "в декрете           53829.0\n",
       "госслужащий        150448.0\n",
       "компаньон          172358.0\n",
       "пенсионер          118514.0\n",
       "предприниматель    499163.0\n",
       "сотрудник          142594.0\n",
       "студент             98202.0\n",
       "Name: total_income, dtype: float64"
      ]
     },
     "execution_count": 9,
     "metadata": {},
     "output_type": "execute_result"
    }
   ],
   "source": [
    "# сгруппируем данные по медианному доходу по типу занятости\n",
    "df.groupby('income_type')['total_income'].median().round()"
   ]
  },
  {
   "cell_type": "markdown",
   "id": "21d2d4c6",
   "metadata": {},
   "source": [
    "Размер ежемесячной заработной платы значительно отличается в зависимости от типа занятости, в связи с чем подставление во все столбцы одинакового медианного значения безотносительно типа занятости может привести к некорретным результатам исследования."
   ]
  },
  {
   "cell_type": "code",
   "execution_count": 10,
   "id": "43294094",
   "metadata": {},
   "outputs": [],
   "source": [
    "# для каждой строки со значением из столбца с типом занятости и при отсутствующем значении в столбце с total_income \n",
    "# подставим медианное значение заработной платы в столбец total_income \n",
    "for value in df['income_type'].unique():\n",
    "    try: df.loc[(df['income_type'] == value) & (df['total_income'].isna()), 'total_income'] \\\n",
    "        = df.loc[df['income_type'] == value, 'total_income'].median()\n",
    "    except:\n",
    "        # выведем сообщение об ошибке\n",
    "        # выведем какие типы данных имеются в самом столбце и посмотрим на отсутствие типа str в заменяемых значениях\n",
    "        print('Error')\n",
    "        print(df['total_income'].apply(type).value_counts())      "
   ]
  },
  {
   "cell_type": "code",
   "execution_count": 11,
   "id": "66d3c10f",
   "metadata": {},
   "outputs": [
    {
     "data": {
      "text/plain": [
       "children               0\n",
       "days_employed       2174\n",
       "dob_years              0\n",
       "education              0\n",
       "education_id           0\n",
       "family_status          0\n",
       "family_status_id       0\n",
       "gender                 0\n",
       "income_type            0\n",
       "debt                   0\n",
       "total_income           0\n",
       "purpose                0\n",
       "dtype: int64"
      ]
     },
     "execution_count": 11,
     "metadata": {},
     "output_type": "execute_result"
    }
   ],
   "source": [
    "# проверим отсутствие пропусков в столбце total_income после преобразований\n",
    "df.isna().sum()"
   ]
  },
  {
   "cell_type": "markdown",
   "id": "940087d8",
   "metadata": {},
   "source": [
    "### Проверка данных на аномалии и исправления."
   ]
  },
  {
   "cell_type": "markdown",
   "id": "2ae734c1",
   "metadata": {},
   "source": [
    "Повторно взглянем на статистику по каждому числовому признаку"
   ]
  },
  {
   "cell_type": "code",
   "execution_count": 12,
   "id": "cda63087",
   "metadata": {},
   "outputs": [
    {
     "data": {
      "text/html": [
       "<div>\n",
       "<style scoped>\n",
       "    .dataframe tbody tr th:only-of-type {\n",
       "        vertical-align: middle;\n",
       "    }\n",
       "\n",
       "    .dataframe tbody tr th {\n",
       "        vertical-align: top;\n",
       "    }\n",
       "\n",
       "    .dataframe thead th {\n",
       "        text-align: right;\n",
       "    }\n",
       "</style>\n",
       "<table border=\"1\" class=\"dataframe\">\n",
       "  <thead>\n",
       "    <tr style=\"text-align: right;\">\n",
       "      <th></th>\n",
       "      <th>children</th>\n",
       "      <th>days_employed</th>\n",
       "      <th>dob_years</th>\n",
       "      <th>education_id</th>\n",
       "      <th>family_status_id</th>\n",
       "      <th>debt</th>\n",
       "      <th>total_income</th>\n",
       "    </tr>\n",
       "  </thead>\n",
       "  <tbody>\n",
       "    <tr>\n",
       "      <td>count</td>\n",
       "      <td>21525.000000</td>\n",
       "      <td>19351.000000</td>\n",
       "      <td>21525.000000</td>\n",
       "      <td>21525.000000</td>\n",
       "      <td>21525.000000</td>\n",
       "      <td>21525.000000</td>\n",
       "      <td>2.152500e+04</td>\n",
       "    </tr>\n",
       "    <tr>\n",
       "      <td>mean</td>\n",
       "      <td>0.538908</td>\n",
       "      <td>63046.497661</td>\n",
       "      <td>43.293380</td>\n",
       "      <td>0.817236</td>\n",
       "      <td>0.972544</td>\n",
       "      <td>0.080883</td>\n",
       "      <td>1.652253e+05</td>\n",
       "    </tr>\n",
       "    <tr>\n",
       "      <td>std</td>\n",
       "      <td>1.381587</td>\n",
       "      <td>140827.311974</td>\n",
       "      <td>12.574584</td>\n",
       "      <td>0.548138</td>\n",
       "      <td>1.420324</td>\n",
       "      <td>0.272661</td>\n",
       "      <td>9.804367e+04</td>\n",
       "    </tr>\n",
       "    <tr>\n",
       "      <td>min</td>\n",
       "      <td>-1.000000</td>\n",
       "      <td>-18388.949901</td>\n",
       "      <td>0.000000</td>\n",
       "      <td>0.000000</td>\n",
       "      <td>0.000000</td>\n",
       "      <td>0.000000</td>\n",
       "      <td>2.066726e+04</td>\n",
       "    </tr>\n",
       "    <tr>\n",
       "      <td>25%</td>\n",
       "      <td>0.000000</td>\n",
       "      <td>-2747.423625</td>\n",
       "      <td>33.000000</td>\n",
       "      <td>1.000000</td>\n",
       "      <td>0.000000</td>\n",
       "      <td>0.000000</td>\n",
       "      <td>1.077982e+05</td>\n",
       "    </tr>\n",
       "    <tr>\n",
       "      <td>50%</td>\n",
       "      <td>0.000000</td>\n",
       "      <td>-1203.369529</td>\n",
       "      <td>42.000000</td>\n",
       "      <td>1.000000</td>\n",
       "      <td>0.000000</td>\n",
       "      <td>0.000000</td>\n",
       "      <td>1.425944e+05</td>\n",
       "    </tr>\n",
       "    <tr>\n",
       "      <td>75%</td>\n",
       "      <td>1.000000</td>\n",
       "      <td>-291.095954</td>\n",
       "      <td>53.000000</td>\n",
       "      <td>1.000000</td>\n",
       "      <td>1.000000</td>\n",
       "      <td>0.000000</td>\n",
       "      <td>1.955499e+05</td>\n",
       "    </tr>\n",
       "    <tr>\n",
       "      <td>max</td>\n",
       "      <td>20.000000</td>\n",
       "      <td>401755.400475</td>\n",
       "      <td>75.000000</td>\n",
       "      <td>4.000000</td>\n",
       "      <td>4.000000</td>\n",
       "      <td>1.000000</td>\n",
       "      <td>2.265604e+06</td>\n",
       "    </tr>\n",
       "  </tbody>\n",
       "</table>\n",
       "</div>"
      ],
      "text/plain": [
       "           children  days_employed     dob_years  education_id  \\\n",
       "count  21525.000000   19351.000000  21525.000000  21525.000000   \n",
       "mean       0.538908   63046.497661     43.293380      0.817236   \n",
       "std        1.381587  140827.311974     12.574584      0.548138   \n",
       "min       -1.000000  -18388.949901      0.000000      0.000000   \n",
       "25%        0.000000   -2747.423625     33.000000      1.000000   \n",
       "50%        0.000000   -1203.369529     42.000000      1.000000   \n",
       "75%        1.000000    -291.095954     53.000000      1.000000   \n",
       "max       20.000000  401755.400475     75.000000      4.000000   \n",
       "\n",
       "       family_status_id          debt  total_income  \n",
       "count      21525.000000  21525.000000  2.152500e+04  \n",
       "mean           0.972544      0.080883  1.652253e+05  \n",
       "std            1.420324      0.272661  9.804367e+04  \n",
       "min            0.000000      0.000000  2.066726e+04  \n",
       "25%            0.000000      0.000000  1.077982e+05  \n",
       "50%            0.000000      0.000000  1.425944e+05  \n",
       "75%            1.000000      0.000000  1.955499e+05  \n",
       "max            4.000000      1.000000  2.265604e+06  "
      ]
     },
     "execution_count": 12,
     "metadata": {},
     "output_type": "execute_result"
    }
   ],
   "source": [
    "df.describe()"
   ]
  },
  {
   "cell_type": "markdown",
   "id": "350a545e",
   "metadata": {},
   "source": [
    "В предоставленных данных имеются следующие аномалии:\n",
    "- в столбце `children` минимальное значение является не \"0\", а \"-1\"\n",
    "- в столбце `days_employed` имеются отрицательные значения, а максимальный стаж и среднее арифметическое кратно превышают срок человеческой жизни"
   ]
  },
  {
   "cell_type": "code",
   "execution_count": 13,
   "id": "abc20e80",
   "metadata": {},
   "outputs": [
    {
     "data": {
      "text/plain": [
       " 0     14149\n",
       " 1      4818\n",
       " 2      2055\n",
       " 3       330\n",
       " 20       76\n",
       "-1        47\n",
       " 4        41\n",
       " 5         9\n",
       "Name: children, dtype: int64"
      ]
     },
     "execution_count": 13,
     "metadata": {},
     "output_type": "execute_result"
    }
   ],
   "source": [
    "# посмотрим на значения, имеющиеся в столбце с данными о детях\n",
    "df.children.value_counts()"
   ]
  },
  {
   "cell_type": "markdown",
   "id": "08e13316",
   "metadata": {},
   "source": [
    "В столбце с данными о детях, помимо отрицательного значения, выявилась еще одна аномалия: большое количество клиентов, у которых указано 20 детей, что маловероятно. Вероятно случайно был добавлен лишний ноль в данных во время выгрузки из базы или ввиду некорректного внесения информации сотрудниками, заменим данные значения на медианные"
   ]
  },
  {
   "cell_type": "code",
   "execution_count": 14,
   "id": "189e52e0",
   "metadata": {},
   "outputs": [],
   "source": [
    "# скорректируем отрицательное значение и выброс на медианные значения \n",
    "df.loc[(df['children'] == -1) | (df['children'] == 20), 'children'] = df.children.median()"
   ]
  },
  {
   "cell_type": "code",
   "execution_count": 15,
   "id": "56c0a7ae",
   "metadata": {},
   "outputs": [
    {
     "data": {
      "text/plain": [
       "0.0    14272\n",
       "1.0     4818\n",
       "2.0     2055\n",
       "3.0      330\n",
       "4.0       41\n",
       "5.0        9\n",
       "Name: children, dtype: int64"
      ]
     },
     "execution_count": 15,
     "metadata": {},
     "output_type": "execute_result"
    }
   ],
   "source": [
    "# проверим корректность проведенных преобразований\n",
    "df.children.value_counts()"
   ]
  },
  {
   "cell_type": "markdown",
   "id": "ec06dd76",
   "metadata": {},
   "source": [
    "Теперь подробнее рассмотрим столбец с данными о трудовом стаже"
   ]
  },
  {
   "cell_type": "code",
   "execution_count": 16,
   "id": "285d7d27",
   "metadata": {},
   "outputs": [
    {
     "data": {
      "text/html": [
       "<div>\n",
       "<style scoped>\n",
       "    .dataframe tbody tr th:only-of-type {\n",
       "        vertical-align: middle;\n",
       "    }\n",
       "\n",
       "    .dataframe tbody tr th {\n",
       "        vertical-align: top;\n",
       "    }\n",
       "\n",
       "    .dataframe thead th {\n",
       "        text-align: right;\n",
       "    }\n",
       "</style>\n",
       "<table border=\"1\" class=\"dataframe\">\n",
       "  <thead>\n",
       "    <tr style=\"text-align: right;\">\n",
       "      <th></th>\n",
       "      <th>children</th>\n",
       "      <th>days_employed</th>\n",
       "      <th>dob_years</th>\n",
       "      <th>education</th>\n",
       "      <th>education_id</th>\n",
       "      <th>family_status</th>\n",
       "      <th>family_status_id</th>\n",
       "      <th>gender</th>\n",
       "      <th>income_type</th>\n",
       "      <th>debt</th>\n",
       "      <th>total_income</th>\n",
       "      <th>purpose</th>\n",
       "    </tr>\n",
       "  </thead>\n",
       "  <tbody>\n",
       "    <tr>\n",
       "      <td>0</td>\n",
       "      <td>1.0</td>\n",
       "      <td>-8437.673028</td>\n",
       "      <td>42</td>\n",
       "      <td>высшее</td>\n",
       "      <td>0</td>\n",
       "      <td>женат / замужем</td>\n",
       "      <td>0</td>\n",
       "      <td>F</td>\n",
       "      <td>сотрудник</td>\n",
       "      <td>0</td>\n",
       "      <td>253875.639453</td>\n",
       "      <td>покупка жилья</td>\n",
       "    </tr>\n",
       "    <tr>\n",
       "      <td>1</td>\n",
       "      <td>1.0</td>\n",
       "      <td>-4024.803754</td>\n",
       "      <td>36</td>\n",
       "      <td>среднее</td>\n",
       "      <td>1</td>\n",
       "      <td>женат / замужем</td>\n",
       "      <td>0</td>\n",
       "      <td>F</td>\n",
       "      <td>сотрудник</td>\n",
       "      <td>0</td>\n",
       "      <td>112080.014102</td>\n",
       "      <td>приобретение автомобиля</td>\n",
       "    </tr>\n",
       "    <tr>\n",
       "      <td>2</td>\n",
       "      <td>0.0</td>\n",
       "      <td>-5623.422610</td>\n",
       "      <td>33</td>\n",
       "      <td>Среднее</td>\n",
       "      <td>1</td>\n",
       "      <td>женат / замужем</td>\n",
       "      <td>0</td>\n",
       "      <td>M</td>\n",
       "      <td>сотрудник</td>\n",
       "      <td>0</td>\n",
       "      <td>145885.952297</td>\n",
       "      <td>покупка жилья</td>\n",
       "    </tr>\n",
       "    <tr>\n",
       "      <td>3</td>\n",
       "      <td>3.0</td>\n",
       "      <td>-4124.747207</td>\n",
       "      <td>32</td>\n",
       "      <td>среднее</td>\n",
       "      <td>1</td>\n",
       "      <td>женат / замужем</td>\n",
       "      <td>0</td>\n",
       "      <td>M</td>\n",
       "      <td>сотрудник</td>\n",
       "      <td>0</td>\n",
       "      <td>267628.550329</td>\n",
       "      <td>дополнительное образование</td>\n",
       "    </tr>\n",
       "    <tr>\n",
       "      <td>5</td>\n",
       "      <td>0.0</td>\n",
       "      <td>-926.185831</td>\n",
       "      <td>27</td>\n",
       "      <td>высшее</td>\n",
       "      <td>0</td>\n",
       "      <td>гражданский брак</td>\n",
       "      <td>1</td>\n",
       "      <td>M</td>\n",
       "      <td>компаньон</td>\n",
       "      <td>0</td>\n",
       "      <td>255763.565419</td>\n",
       "      <td>покупка жилья</td>\n",
       "    </tr>\n",
       "    <tr>\n",
       "      <td>...</td>\n",
       "      <td>...</td>\n",
       "      <td>...</td>\n",
       "      <td>...</td>\n",
       "      <td>...</td>\n",
       "      <td>...</td>\n",
       "      <td>...</td>\n",
       "      <td>...</td>\n",
       "      <td>...</td>\n",
       "      <td>...</td>\n",
       "      <td>...</td>\n",
       "      <td>...</td>\n",
       "      <td>...</td>\n",
       "    </tr>\n",
       "    <tr>\n",
       "      <td>21519</td>\n",
       "      <td>1.0</td>\n",
       "      <td>-2351.431934</td>\n",
       "      <td>37</td>\n",
       "      <td>ученая степень</td>\n",
       "      <td>4</td>\n",
       "      <td>в разводе</td>\n",
       "      <td>3</td>\n",
       "      <td>M</td>\n",
       "      <td>сотрудник</td>\n",
       "      <td>0</td>\n",
       "      <td>115949.039788</td>\n",
       "      <td>покупка коммерческой недвижимости</td>\n",
       "    </tr>\n",
       "    <tr>\n",
       "      <td>21520</td>\n",
       "      <td>1.0</td>\n",
       "      <td>-4529.316663</td>\n",
       "      <td>43</td>\n",
       "      <td>среднее</td>\n",
       "      <td>1</td>\n",
       "      <td>гражданский брак</td>\n",
       "      <td>1</td>\n",
       "      <td>F</td>\n",
       "      <td>компаньон</td>\n",
       "      <td>0</td>\n",
       "      <td>224791.862382</td>\n",
       "      <td>операции с жильем</td>\n",
       "    </tr>\n",
       "    <tr>\n",
       "      <td>21522</td>\n",
       "      <td>1.0</td>\n",
       "      <td>-2113.346888</td>\n",
       "      <td>38</td>\n",
       "      <td>среднее</td>\n",
       "      <td>1</td>\n",
       "      <td>гражданский брак</td>\n",
       "      <td>1</td>\n",
       "      <td>M</td>\n",
       "      <td>сотрудник</td>\n",
       "      <td>1</td>\n",
       "      <td>89672.561153</td>\n",
       "      <td>недвижимость</td>\n",
       "    </tr>\n",
       "    <tr>\n",
       "      <td>21523</td>\n",
       "      <td>3.0</td>\n",
       "      <td>-3112.481705</td>\n",
       "      <td>38</td>\n",
       "      <td>среднее</td>\n",
       "      <td>1</td>\n",
       "      <td>женат / замужем</td>\n",
       "      <td>0</td>\n",
       "      <td>M</td>\n",
       "      <td>сотрудник</td>\n",
       "      <td>1</td>\n",
       "      <td>244093.050500</td>\n",
       "      <td>на покупку своего автомобиля</td>\n",
       "    </tr>\n",
       "    <tr>\n",
       "      <td>21524</td>\n",
       "      <td>2.0</td>\n",
       "      <td>-1984.507589</td>\n",
       "      <td>40</td>\n",
       "      <td>среднее</td>\n",
       "      <td>1</td>\n",
       "      <td>женат / замужем</td>\n",
       "      <td>0</td>\n",
       "      <td>F</td>\n",
       "      <td>сотрудник</td>\n",
       "      <td>0</td>\n",
       "      <td>82047.418899</td>\n",
       "      <td>на покупку автомобиля</td>\n",
       "    </tr>\n",
       "  </tbody>\n",
       "</table>\n",
       "<p>15906 rows × 12 columns</p>\n",
       "</div>"
      ],
      "text/plain": [
       "       children  days_employed  dob_years       education  education_id  \\\n",
       "0           1.0   -8437.673028         42          высшее             0   \n",
       "1           1.0   -4024.803754         36         среднее             1   \n",
       "2           0.0   -5623.422610         33         Среднее             1   \n",
       "3           3.0   -4124.747207         32         среднее             1   \n",
       "5           0.0    -926.185831         27          высшее             0   \n",
       "...         ...            ...        ...             ...           ...   \n",
       "21519       1.0   -2351.431934         37  ученая степень             4   \n",
       "21520       1.0   -4529.316663         43         среднее             1   \n",
       "21522       1.0   -2113.346888         38         среднее             1   \n",
       "21523       3.0   -3112.481705         38         среднее             1   \n",
       "21524       2.0   -1984.507589         40         среднее             1   \n",
       "\n",
       "          family_status  family_status_id gender income_type  debt  \\\n",
       "0       женат / замужем                 0      F   сотрудник     0   \n",
       "1       женат / замужем                 0      F   сотрудник     0   \n",
       "2       женат / замужем                 0      M   сотрудник     0   \n",
       "3       женат / замужем                 0      M   сотрудник     0   \n",
       "5      гражданский брак                 1      M   компаньон     0   \n",
       "...                 ...               ...    ...         ...   ...   \n",
       "21519         в разводе                 3      M   сотрудник     0   \n",
       "21520  гражданский брак                 1      F   компаньон     0   \n",
       "21522  гражданский брак                 1      M   сотрудник     1   \n",
       "21523   женат / замужем                 0      M   сотрудник     1   \n",
       "21524   женат / замужем                 0      F   сотрудник     0   \n",
       "\n",
       "        total_income                            purpose  \n",
       "0      253875.639453                      покупка жилья  \n",
       "1      112080.014102            приобретение автомобиля  \n",
       "2      145885.952297                      покупка жилья  \n",
       "3      267628.550329         дополнительное образование  \n",
       "5      255763.565419                      покупка жилья  \n",
       "...              ...                                ...  \n",
       "21519  115949.039788  покупка коммерческой недвижимости  \n",
       "21520  224791.862382                  операции с жильем  \n",
       "21522   89672.561153                       недвижимость  \n",
       "21523  244093.050500       на покупку своего автомобиля  \n",
       "21524   82047.418899              на покупку автомобиля  \n",
       "\n",
       "[15906 rows x 12 columns]"
      ]
     },
     "execution_count": 16,
     "metadata": {},
     "output_type": "execute_result"
    }
   ],
   "source": [
    "# посмотрим какое количество данных в столбце имеют отрицательные значения \n",
    "df.loc[df['days_employed'] < 0]"
   ]
  },
  {
   "cell_type": "markdown",
   "id": "e5ddcb06",
   "metadata": {},
   "source": [
    "Превалирующее число значений (более 70%) в столбце `days_employed` имеют отрицательное значение, что вероятно произошло вследствие ошибки внесения соответствующих данных или переноса их из другой системы. Исключение такого значительного объема информации критично для корректности результатов нашего исследования. Разумным вариантом решения данной проблемы будет приведение всех значений в столбце к положительным значениям."
   ]
  },
  {
   "cell_type": "code",
   "execution_count": 17,
   "id": "b7e57468",
   "metadata": {},
   "outputs": [],
   "source": [
    "# преобразуем отрицательные значения в столбце со стажем в положительные\n",
    "df['days_employed'] = df['days_employed'].abs()"
   ]
  },
  {
   "cell_type": "code",
   "execution_count": 18,
   "id": "f455c63f",
   "metadata": {},
   "outputs": [
    {
     "data": {
      "text/html": [
       "<div>\n",
       "<style scoped>\n",
       "    .dataframe tbody tr th:only-of-type {\n",
       "        vertical-align: middle;\n",
       "    }\n",
       "\n",
       "    .dataframe tbody tr th {\n",
       "        vertical-align: top;\n",
       "    }\n",
       "\n",
       "    .dataframe thead th {\n",
       "        text-align: right;\n",
       "    }\n",
       "</style>\n",
       "<table border=\"1\" class=\"dataframe\">\n",
       "  <thead>\n",
       "    <tr style=\"text-align: right;\">\n",
       "      <th></th>\n",
       "      <th>children</th>\n",
       "      <th>days_employed</th>\n",
       "      <th>dob_years</th>\n",
       "      <th>education</th>\n",
       "      <th>education_id</th>\n",
       "      <th>family_status</th>\n",
       "      <th>family_status_id</th>\n",
       "      <th>gender</th>\n",
       "      <th>income_type</th>\n",
       "      <th>debt</th>\n",
       "      <th>total_income</th>\n",
       "      <th>purpose</th>\n",
       "    </tr>\n",
       "  </thead>\n",
       "  <tbody>\n",
       "  </tbody>\n",
       "</table>\n",
       "</div>"
      ],
      "text/plain": [
       "Empty DataFrame\n",
       "Columns: [children, days_employed, dob_years, education, education_id, family_status, family_status_id, gender, income_type, debt, total_income, purpose]\n",
       "Index: []"
      ]
     },
     "execution_count": 18,
     "metadata": {},
     "output_type": "execute_result"
    }
   ],
   "source": [
    "# проверим корректность произведенных преобразований и отсутствие отрицательных значений в столбце\n",
    "df[df['days_employed'] < 0]"
   ]
  },
  {
   "cell_type": "code",
   "execution_count": 19,
   "id": "ec327b6f",
   "metadata": {
    "scrolled": true
   },
   "outputs": [
    {
     "data": {
      "text/plain": [
       "2194.0"
      ]
     },
     "execution_count": 19,
     "metadata": {},
     "output_type": "execute_result"
    }
   ],
   "source": [
    "# посчитаем медиану значений данного столбца после преобразований, округлив результат до целого числа\n",
    "df.days_employed.median().round()"
   ]
  },
  {
   "cell_type": "markdown",
   "id": "c4c26865",
   "metadata": {},
   "source": [
    "Медианный размер трудового стажа в днях, эквивалентный 6 годам, вполне может соответствовать реальным значениям, заменим им пропущенные значения в столбце `days_employed`."
   ]
  },
  {
   "cell_type": "code",
   "execution_count": 20,
   "id": "4e886d23",
   "metadata": {},
   "outputs": [],
   "source": [
    "df['days_employed'] = df['days_employed'].fillna(2169.0)"
   ]
  },
  {
   "cell_type": "markdown",
   "id": "f069c45c",
   "metadata": {},
   "source": [
    "Выясним какое количество данных в столбце со стажем (`days_employed`) имеют значения, превышающие значение в столбце \n",
    "возраст заемщика (`dob_years`) минус 16 лет (минимальный возраст для начала трудовой деятельности, в т.ч. предпринимательской)"
   ]
  },
  {
   "cell_type": "code",
   "execution_count": 21,
   "id": "416f539b",
   "metadata": {},
   "outputs": [],
   "source": [
    "# переведем значения в столбце days_employed к количеству лет и применим фильтрацию\n",
    "days_employed_abnormal = (df['days_employed'] / 365 > (df['dob_years']) - 16).sum()"
   ]
  },
  {
   "cell_type": "code",
   "execution_count": 22,
   "id": "a84982ae",
   "metadata": {},
   "outputs": [
    {
     "data": {
      "text/plain": [
       "3642"
      ]
     },
     "execution_count": 22,
     "metadata": {},
     "output_type": "execute_result"
    }
   ],
   "source": [
    "days_employed_abnormal"
   ]
  },
  {
   "cell_type": "code",
   "execution_count": 23,
   "id": "e8192541",
   "metadata": {},
   "outputs": [],
   "source": [
    "# заменим аномальные значения значения в столбце с общим трудовым стажем на полученное медианное значение \n",
    "df.loc[df['days_employed'] / 365 > (df['dob_years']) - 16, 'days_employed'] = df.days_employed.median().round()"
   ]
  },
  {
   "cell_type": "code",
   "execution_count": 24,
   "id": "19eea033",
   "metadata": {},
   "outputs": [
    {
     "data": {
      "text/html": [
       "<div>\n",
       "<style scoped>\n",
       "    .dataframe tbody tr th:only-of-type {\n",
       "        vertical-align: middle;\n",
       "    }\n",
       "\n",
       "    .dataframe tbody tr th {\n",
       "        vertical-align: top;\n",
       "    }\n",
       "\n",
       "    .dataframe thead th {\n",
       "        text-align: right;\n",
       "    }\n",
       "</style>\n",
       "<table border=\"1\" class=\"dataframe\">\n",
       "  <thead>\n",
       "    <tr style=\"text-align: right;\">\n",
       "      <th></th>\n",
       "      <th>children</th>\n",
       "      <th>days_employed</th>\n",
       "      <th>dob_years</th>\n",
       "      <th>education_id</th>\n",
       "      <th>family_status_id</th>\n",
       "      <th>debt</th>\n",
       "      <th>total_income</th>\n",
       "    </tr>\n",
       "  </thead>\n",
       "  <tbody>\n",
       "    <tr>\n",
       "      <td>count</td>\n",
       "      <td>21525.000000</td>\n",
       "      <td>21525.000000</td>\n",
       "      <td>21525.000000</td>\n",
       "      <td>21525.000000</td>\n",
       "      <td>21525.000000</td>\n",
       "      <td>21525.000000</td>\n",
       "      <td>2.152500e+04</td>\n",
       "    </tr>\n",
       "    <tr>\n",
       "      <td>mean</td>\n",
       "      <td>0.470476</td>\n",
       "      <td>2276.197782</td>\n",
       "      <td>43.293380</td>\n",
       "      <td>0.817236</td>\n",
       "      <td>0.972544</td>\n",
       "      <td>0.080883</td>\n",
       "      <td>1.652253e+05</td>\n",
       "    </tr>\n",
       "    <tr>\n",
       "      <td>std</td>\n",
       "      <td>0.750534</td>\n",
       "      <td>1912.804887</td>\n",
       "      <td>12.574584</td>\n",
       "      <td>0.548138</td>\n",
       "      <td>1.420324</td>\n",
       "      <td>0.272661</td>\n",
       "      <td>9.804367e+04</td>\n",
       "    </tr>\n",
       "    <tr>\n",
       "      <td>min</td>\n",
       "      <td>0.000000</td>\n",
       "      <td>24.141633</td>\n",
       "      <td>0.000000</td>\n",
       "      <td>0.000000</td>\n",
       "      <td>0.000000</td>\n",
       "      <td>0.000000</td>\n",
       "      <td>2.066726e+04</td>\n",
       "    </tr>\n",
       "    <tr>\n",
       "      <td>25%</td>\n",
       "      <td>0.000000</td>\n",
       "      <td>1031.303984</td>\n",
       "      <td>33.000000</td>\n",
       "      <td>1.000000</td>\n",
       "      <td>0.000000</td>\n",
       "      <td>0.000000</td>\n",
       "      <td>1.077982e+05</td>\n",
       "    </tr>\n",
       "    <tr>\n",
       "      <td>50%</td>\n",
       "      <td>0.000000</td>\n",
       "      <td>2169.000000</td>\n",
       "      <td>42.000000</td>\n",
       "      <td>1.000000</td>\n",
       "      <td>0.000000</td>\n",
       "      <td>0.000000</td>\n",
       "      <td>1.425944e+05</td>\n",
       "    </tr>\n",
       "    <tr>\n",
       "      <td>75%</td>\n",
       "      <td>1.000000</td>\n",
       "      <td>2470.912766</td>\n",
       "      <td>53.000000</td>\n",
       "      <td>1.000000</td>\n",
       "      <td>1.000000</td>\n",
       "      <td>0.000000</td>\n",
       "      <td>1.955499e+05</td>\n",
       "    </tr>\n",
       "    <tr>\n",
       "      <td>max</td>\n",
       "      <td>5.000000</td>\n",
       "      <td>16119.687737</td>\n",
       "      <td>75.000000</td>\n",
       "      <td>4.000000</td>\n",
       "      <td>4.000000</td>\n",
       "      <td>1.000000</td>\n",
       "      <td>2.265604e+06</td>\n",
       "    </tr>\n",
       "  </tbody>\n",
       "</table>\n",
       "</div>"
      ],
      "text/plain": [
       "           children  days_employed     dob_years  education_id  \\\n",
       "count  21525.000000   21525.000000  21525.000000  21525.000000   \n",
       "mean       0.470476    2276.197782     43.293380      0.817236   \n",
       "std        0.750534    1912.804887     12.574584      0.548138   \n",
       "min        0.000000      24.141633      0.000000      0.000000   \n",
       "25%        0.000000    1031.303984     33.000000      1.000000   \n",
       "50%        0.000000    2169.000000     42.000000      1.000000   \n",
       "75%        1.000000    2470.912766     53.000000      1.000000   \n",
       "max        5.000000   16119.687737     75.000000      4.000000   \n",
       "\n",
       "       family_status_id          debt  total_income  \n",
       "count      21525.000000  21525.000000  2.152500e+04  \n",
       "mean           0.972544      0.080883  1.652253e+05  \n",
       "std            1.420324      0.272661  9.804367e+04  \n",
       "min            0.000000      0.000000  2.066726e+04  \n",
       "25%            0.000000      0.000000  1.077982e+05  \n",
       "50%            0.000000      0.000000  1.425944e+05  \n",
       "75%            1.000000      0.000000  1.955499e+05  \n",
       "max            4.000000      1.000000  2.265604e+06  "
      ]
     },
     "execution_count": 24,
     "metadata": {},
     "output_type": "execute_result"
    }
   ],
   "source": [
    "# проверим корректность всех проведенных преобразований\n",
    "df.describe()"
   ]
  },
  {
   "cell_type": "code",
   "execution_count": 25,
   "id": "5f706a7f",
   "metadata": {},
   "outputs": [
    {
     "data": {
      "text/plain": [
       "children            0\n",
       "days_employed       0\n",
       "dob_years           0\n",
       "education           0\n",
       "education_id        0\n",
       "family_status       0\n",
       "family_status_id    0\n",
       "gender              0\n",
       "income_type         0\n",
       "debt                0\n",
       "total_income        0\n",
       "purpose             0\n",
       "dtype: int64"
      ]
     },
     "execution_count": 25,
     "metadata": {},
     "output_type": "execute_result"
    }
   ],
   "source": [
    "# проверим отсутствие пропущенных значений\n",
    "df.isna().sum()"
   ]
  },
  {
   "cell_type": "markdown",
   "id": "27f2fab5",
   "metadata": {},
   "source": [
    "### Изменение типов данных."
   ]
  },
  {
   "cell_type": "code",
   "execution_count": 26,
   "id": "f160e68a",
   "metadata": {},
   "outputs": [
    {
     "data": {
      "text/plain": [
       "children            float64\n",
       "days_employed       float64\n",
       "dob_years             int64\n",
       "education            object\n",
       "education_id          int64\n",
       "family_status        object\n",
       "family_status_id      int64\n",
       "gender               object\n",
       "income_type          object\n",
       "debt                  int64\n",
       "total_income        float64\n",
       "purpose              object\n",
       "dtype: object"
      ]
     },
     "execution_count": 26,
     "metadata": {},
     "output_type": "execute_result"
    }
   ],
   "source": [
    "# посмотрим существующие типы данных в столбцах таблицы\n",
    "df.dtypes"
   ]
  },
  {
   "cell_type": "markdown",
   "id": "f53901e6",
   "metadata": {},
   "source": [
    "В столбцах `children`, `days_employed`, `dob_years` тип данных указан как вещественное число, в столбце `total_income` указано слишком большое количество знаков после запятой, что не соответствует реальным значениям. Преобразуем указанные столбцы к целочисленному типу."
   ]
  },
  {
   "cell_type": "code",
   "execution_count": 27,
   "id": "dd3d9302",
   "metadata": {
    "scrolled": true
   },
   "outputs": [],
   "source": [
    "try:\n",
    "    df[['children', 'days_employed', 'dob_years', 'total_income']] \\\n",
    "    = df[['children', 'days_employed', 'dob_years', 'total_income']].astype(int)\n",
    "except:\n",
    "    print('Error_change_type')"
   ]
  },
  {
   "cell_type": "code",
   "execution_count": 28,
   "id": "8e500c76",
   "metadata": {},
   "outputs": [
    {
     "data": {
      "text/plain": [
       "children             int64\n",
       "days_employed        int64\n",
       "dob_years            int64\n",
       "education           object\n",
       "education_id         int64\n",
       "family_status       object\n",
       "family_status_id     int64\n",
       "gender              object\n",
       "income_type         object\n",
       "debt                 int64\n",
       "total_income         int64\n",
       "purpose             object\n",
       "dtype: object"
      ]
     },
     "execution_count": 28,
     "metadata": {},
     "output_type": "execute_result"
    }
   ],
   "source": [
    "# проверим корректность произведенных преобразований типов \n",
    "df.dtypes"
   ]
  },
  {
   "cell_type": "markdown",
   "id": "e939d33b",
   "metadata": {},
   "source": [
    "### Удаление дубликатов."
   ]
  },
  {
   "cell_type": "markdown",
   "id": "70403c7f",
   "metadata": {},
   "source": [
    "Посмотрим на количество явных дубликатов в таблице "
   ]
  },
  {
   "cell_type": "code",
   "execution_count": 29,
   "id": "de82f73c",
   "metadata": {},
   "outputs": [
    {
     "data": {
      "text/plain": [
       "54"
      ]
     },
     "execution_count": 29,
     "metadata": {},
     "output_type": "execute_result"
    }
   ],
   "source": [
    "df.duplicated().sum()"
   ]
  },
  {
   "cell_type": "code",
   "execution_count": 30,
   "id": "140fbd0e",
   "metadata": {},
   "outputs": [],
   "source": [
    "# удалим имеющиеся явные дубликаты\n",
    "df = df.drop_duplicates().reset_index(drop=True)"
   ]
  },
  {
   "cell_type": "markdown",
   "id": "7d3ac2c9",
   "metadata": {},
   "source": [
    "Для выявления неявных дубликатов, посмотрим на все имеющиеся значения в столбцах с типом данных object"
   ]
  },
  {
   "cell_type": "code",
   "execution_count": 31,
   "id": "90b3f5b9",
   "metadata": {},
   "outputs": [
    {
     "data": {
      "text/plain": [
       "среднее                13705\n",
       "высшее                  4710\n",
       "СРЕДНЕЕ                  772\n",
       "Среднее                  711\n",
       "неоконченное высшее      668\n",
       "ВЫСШЕЕ                   273\n",
       "Высшее                   268\n",
       "начальное                250\n",
       "Неоконченное высшее       47\n",
       "НЕОКОНЧЕННОЕ ВЫСШЕЕ       29\n",
       "НАЧАЛЬНОЕ                 17\n",
       "Начальное                 15\n",
       "ученая степень             4\n",
       "УЧЕНАЯ СТЕПЕНЬ             1\n",
       "Ученая степень             1\n",
       "Name: education, dtype: int64"
      ]
     },
     "execution_count": 31,
     "metadata": {},
     "output_type": "execute_result"
    }
   ],
   "source": [
    "df.education.value_counts()"
   ]
  },
  {
   "cell_type": "markdown",
   "id": "ef8191d9",
   "metadata": {},
   "source": [
    "В столбце `education` имеются данные со значениями, написанными в разном регистре (с использованием заглавных и строчных букв), что затрудняет объединение этих признаков для проведения дальнейшего исследования."
   ]
  },
  {
   "cell_type": "code",
   "execution_count": 32,
   "id": "15b6b400",
   "metadata": {},
   "outputs": [],
   "source": [
    "# преобразуем значения в столбце к нижнему регистру\n",
    "df.education = df.education.str.lower()"
   ]
  },
  {
   "cell_type": "markdown",
   "id": "b59e7ba8",
   "metadata": {},
   "source": [
    "Убедимся в корректности преобразования и посмотрим, имеются ли еще какие-либо различия в написании."
   ]
  },
  {
   "cell_type": "code",
   "execution_count": 33,
   "id": "04e31707",
   "metadata": {},
   "outputs": [
    {
     "data": {
      "text/plain": [
       "среднее                15188\n",
       "высшее                  5251\n",
       "неоконченное высшее      744\n",
       "начальное                282\n",
       "ученая степень             6\n",
       "Name: education, dtype: int64"
      ]
     },
     "execution_count": 33,
     "metadata": {},
     "output_type": "execute_result"
    }
   ],
   "source": [
    "df.education.value_counts()"
   ]
  },
  {
   "cell_type": "markdown",
   "id": "c036662e",
   "metadata": {},
   "source": [
    "Данные в столбце `education` приведены к единому стилю, посмотрим имеются ли схожие проблемы в других столбцах типа object."
   ]
  },
  {
   "cell_type": "code",
   "execution_count": 34,
   "id": "cc69146a",
   "metadata": {},
   "outputs": [
    {
     "data": {
      "text/plain": [
       "женат / замужем          12344\n",
       "гражданский брак          4163\n",
       "Не женат / не замужем     2810\n",
       "в разводе                 1195\n",
       "вдовец / вдова             959\n",
       "Name: family_status, dtype: int64"
      ]
     },
     "execution_count": 34,
     "metadata": {},
     "output_type": "execute_result"
    }
   ],
   "source": [
    "df.family_status.value_counts()"
   ]
  },
  {
   "cell_type": "markdown",
   "id": "6c302ae4",
   "metadata": {},
   "source": [
    "В столбце family_status имеется числовое значение 0.0, которое вероятнее всего означает отсутствие брака и внесено в данный столбец ошибочно вместо столбца family_status_id. Изменим некорректное значение на \"Не женат / не замужем\". "
   ]
  },
  {
   "cell_type": "code",
   "execution_count": 35,
   "id": "a57cef82",
   "metadata": {},
   "outputs": [],
   "source": [
    "df.loc[(df['family_status'] == 0.0), 'family_status'] = 'Не женат / не замужем'"
   ]
  },
  {
   "cell_type": "code",
   "execution_count": 36,
   "id": "3ee50536",
   "metadata": {},
   "outputs": [
    {
     "data": {
      "text/plain": [
       "женат / замужем          12344\n",
       "гражданский брак          4163\n",
       "Не женат / не замужем     2810\n",
       "в разводе                 1195\n",
       "вдовец / вдова             959\n",
       "Name: family_status, dtype: int64"
      ]
     },
     "execution_count": 36,
     "metadata": {},
     "output_type": "execute_result"
    }
   ],
   "source": [
    "# проверим корректность проведенных преобразований\n",
    "df.family_status.value_counts()"
   ]
  },
  {
   "cell_type": "code",
   "execution_count": 37,
   "id": "ec79b45b",
   "metadata": {},
   "outputs": [
    {
     "data": {
      "text/plain": [
       "F      14189\n",
       "M       7281\n",
       "XNA        1\n",
       "Name: gender, dtype: int64"
      ]
     },
     "execution_count": 37,
     "metadata": {},
     "output_type": "execute_result"
    }
   ],
   "source": [
    "df.gender.value_counts()"
   ]
  },
  {
   "cell_type": "markdown",
   "id": "31a4293a",
   "metadata": {},
   "source": [
    "Значения в столбце `gender` возникли вследствие некорректного ведения информации (возможно при копировании данных в столбец с семейным статусом). Значения, отличающиеся от 'F' и 'M', невозможно идентифицировать, что делает их бесполезными для проведения анализа, удалим их."
   ]
  },
  {
   "cell_type": "code",
   "execution_count": 39,
   "id": "092f44c7",
   "metadata": {},
   "outputs": [],
   "source": [
    "# удалим пустые значения из таблицы\n",
    "df = df.dropna().reset_index(drop=True)"
   ]
  },
  {
   "cell_type": "code",
   "execution_count": 40,
   "id": "cf59df7d",
   "metadata": {},
   "outputs": [
    {
     "data": {
      "text/plain": [
       "F    14189\n",
       "M     7281\n",
       "Name: gender, dtype: int64"
      ]
     },
     "execution_count": 40,
     "metadata": {},
     "output_type": "execute_result"
    }
   ],
   "source": [
    "# проверим корректность проведенных преобразований\n",
    "df.gender.value_counts()"
   ]
  },
  {
   "cell_type": "code",
   "execution_count": 41,
   "id": "df896c5b",
   "metadata": {},
   "outputs": [
    {
     "data": {
      "text/plain": [
       "свадьба                                   793\n",
       "на проведение свадьбы                     773\n",
       "сыграть свадьбу                           769\n",
       "операции с недвижимостью                  675\n",
       "покупка коммерческой недвижимости         662\n",
       "покупка жилья для сдачи                   652\n",
       "операции с жильем                         652\n",
       "операции с коммерческой недвижимостью     650\n",
       "жилье                                     646\n",
       "покупка жилья                             646\n",
       "покупка жилья для семьи                   638\n",
       "строительство собственной недвижимости    635\n",
       "недвижимость                              633\n",
       "операции со своей недвижимостью           627\n",
       "строительство жилой недвижимости          625\n",
       "покупка своего жилья                      620\n",
       "покупка недвижимости                      620\n",
       "строительство недвижимости                619\n",
       "ремонт жилью                              607\n",
       "покупка жилой недвижимости                606\n",
       "на покупку своего автомобиля              505\n",
       "заняться высшим образованием              496\n",
       "автомобиль                                494\n",
       "сделка с подержанным автомобилем          486\n",
       "свой автомобиль                           479\n",
       "на покупку подержанного автомобиля        478\n",
       "автомобили                                478\n",
       "на покупку автомобиля                     472\n",
       "приобретение автомобиля                   461\n",
       "дополнительное образование                460\n",
       "сделка с автомобилем                      455\n",
       "высшее образование                        452\n",
       "образование                               447\n",
       "получение дополнительного образования     447\n",
       "получение образования                     442\n",
       "профильное образование                    436\n",
       "получение высшего образования             426\n",
       "заняться образованием                     408\n",
       "Name: purpose, dtype: int64"
      ]
     },
     "execution_count": 41,
     "metadata": {},
     "output_type": "execute_result"
    }
   ],
   "source": [
    "df.purpose.value_counts()"
   ]
  },
  {
   "cell_type": "markdown",
   "id": "cff65da4",
   "metadata": {},
   "source": [
    "В столбце с данными о цели кредита большое количество неявных дубликатов (словосочетаний, имеющих схожее значение), которые вероятнее всего появились вследствие занесения каждым сотрудником по своему усмотрению, без наличия в соответствующей внутренней системе регламентированных категорий для соответствующих сведений. "
   ]
  },
  {
   "cell_type": "markdown",
   "id": "d87335aa",
   "metadata": {},
   "source": [
    "### Формирование дополнительных датафреймов словарей, декомпозиция исходного датафрейма."
   ]
  },
  {
   "cell_type": "code",
   "execution_count": 42,
   "id": "2f1f32a2",
   "metadata": {},
   "outputs": [],
   "source": [
    "# создадим новую таблицу и поместим в нее значения в виде id и соответствующий ему тип образования\n",
    "education_dict = df[['education','education_id']]"
   ]
  },
  {
   "cell_type": "code",
   "execution_count": 43,
   "id": "09e36409",
   "metadata": {},
   "outputs": [],
   "source": [
    "education_dict = education_dict.drop_duplicates().reset_index(drop=True)"
   ]
  },
  {
   "cell_type": "code",
   "execution_count": 44,
   "id": "89628675",
   "metadata": {},
   "outputs": [
    {
     "data": {
      "text/html": [
       "<div>\n",
       "<style scoped>\n",
       "    .dataframe tbody tr th:only-of-type {\n",
       "        vertical-align: middle;\n",
       "    }\n",
       "\n",
       "    .dataframe tbody tr th {\n",
       "        vertical-align: top;\n",
       "    }\n",
       "\n",
       "    .dataframe thead th {\n",
       "        text-align: right;\n",
       "    }\n",
       "</style>\n",
       "<table border=\"1\" class=\"dataframe\">\n",
       "  <thead>\n",
       "    <tr style=\"text-align: right;\">\n",
       "      <th></th>\n",
       "      <th>education</th>\n",
       "      <th>education_id</th>\n",
       "    </tr>\n",
       "  </thead>\n",
       "  <tbody>\n",
       "    <tr>\n",
       "      <td>0</td>\n",
       "      <td>высшее</td>\n",
       "      <td>0</td>\n",
       "    </tr>\n",
       "    <tr>\n",
       "      <td>1</td>\n",
       "      <td>среднее</td>\n",
       "      <td>1</td>\n",
       "    </tr>\n",
       "    <tr>\n",
       "      <td>2</td>\n",
       "      <td>неоконченное высшее</td>\n",
       "      <td>2</td>\n",
       "    </tr>\n",
       "    <tr>\n",
       "      <td>3</td>\n",
       "      <td>начальное</td>\n",
       "      <td>3</td>\n",
       "    </tr>\n",
       "    <tr>\n",
       "      <td>4</td>\n",
       "      <td>ученая степень</td>\n",
       "      <td>4</td>\n",
       "    </tr>\n",
       "  </tbody>\n",
       "</table>\n",
       "</div>"
      ],
      "text/plain": [
       "             education  education_id\n",
       "0               высшее             0\n",
       "1              среднее             1\n",
       "2  неоконченное высшее             2\n",
       "3            начальное             3\n",
       "4       ученая степень             4"
      ]
     },
     "execution_count": 44,
     "metadata": {},
     "output_type": "execute_result"
    }
   ],
   "source": [
    "education_dict"
   ]
  },
  {
   "cell_type": "code",
   "execution_count": 45,
   "id": "69b175cb",
   "metadata": {},
   "outputs": [],
   "source": [
    "# создадим новую таблицу и поместим в нее значения в виде id и соответствующий ему тип образования\n",
    "family_status_dict = df[['family_status','family_status_id']]"
   ]
  },
  {
   "cell_type": "code",
   "execution_count": 46,
   "id": "84a888be",
   "metadata": {},
   "outputs": [],
   "source": [
    "family_status_dict = family_status_dict.drop_duplicates().reset_index(drop=True)"
   ]
  },
  {
   "cell_type": "code",
   "execution_count": 47,
   "id": "9b964899",
   "metadata": {},
   "outputs": [
    {
     "data": {
      "text/html": [
       "<div>\n",
       "<style scoped>\n",
       "    .dataframe tbody tr th:only-of-type {\n",
       "        vertical-align: middle;\n",
       "    }\n",
       "\n",
       "    .dataframe tbody tr th {\n",
       "        vertical-align: top;\n",
       "    }\n",
       "\n",
       "    .dataframe thead th {\n",
       "        text-align: right;\n",
       "    }\n",
       "</style>\n",
       "<table border=\"1\" class=\"dataframe\">\n",
       "  <thead>\n",
       "    <tr style=\"text-align: right;\">\n",
       "      <th></th>\n",
       "      <th>family_status</th>\n",
       "      <th>family_status_id</th>\n",
       "    </tr>\n",
       "  </thead>\n",
       "  <tbody>\n",
       "    <tr>\n",
       "      <td>0</td>\n",
       "      <td>женат / замужем</td>\n",
       "      <td>0</td>\n",
       "    </tr>\n",
       "    <tr>\n",
       "      <td>1</td>\n",
       "      <td>гражданский брак</td>\n",
       "      <td>1</td>\n",
       "    </tr>\n",
       "    <tr>\n",
       "      <td>2</td>\n",
       "      <td>вдовец / вдова</td>\n",
       "      <td>2</td>\n",
       "    </tr>\n",
       "    <tr>\n",
       "      <td>3</td>\n",
       "      <td>в разводе</td>\n",
       "      <td>3</td>\n",
       "    </tr>\n",
       "    <tr>\n",
       "      <td>4</td>\n",
       "      <td>Не женат / не замужем</td>\n",
       "      <td>4</td>\n",
       "    </tr>\n",
       "  </tbody>\n",
       "</table>\n",
       "</div>"
      ],
      "text/plain": [
       "           family_status  family_status_id\n",
       "0        женат / замужем                 0\n",
       "1       гражданский брак                 1\n",
       "2         вдовец / вдова                 2\n",
       "3              в разводе                 3\n",
       "4  Не женат / не замужем                 4"
      ]
     },
     "execution_count": 47,
     "metadata": {},
     "output_type": "execute_result"
    }
   ],
   "source": [
    "family_status_dict"
   ]
  },
  {
   "cell_type": "code",
   "execution_count": 48,
   "id": "bd091e96",
   "metadata": {},
   "outputs": [],
   "source": [
    "# удалим столбцы с исходными значениями образования и семейного положения со значением из основной таблицы, \n",
    "# оставив соответствующие им столбцы с идентификаторами \n",
    "df = df.drop(['education', 'family_status'], axis=1)"
   ]
  },
  {
   "cell_type": "code",
   "execution_count": 49,
   "id": "b98806d9",
   "metadata": {},
   "outputs": [
    {
     "data": {
      "text/html": [
       "<div>\n",
       "<style scoped>\n",
       "    .dataframe tbody tr th:only-of-type {\n",
       "        vertical-align: middle;\n",
       "    }\n",
       "\n",
       "    .dataframe tbody tr th {\n",
       "        vertical-align: top;\n",
       "    }\n",
       "\n",
       "    .dataframe thead th {\n",
       "        text-align: right;\n",
       "    }\n",
       "</style>\n",
       "<table border=\"1\" class=\"dataframe\">\n",
       "  <thead>\n",
       "    <tr style=\"text-align: right;\">\n",
       "      <th></th>\n",
       "      <th>children</th>\n",
       "      <th>days_employed</th>\n",
       "      <th>dob_years</th>\n",
       "      <th>education_id</th>\n",
       "      <th>family_status_id</th>\n",
       "      <th>gender</th>\n",
       "      <th>income_type</th>\n",
       "      <th>debt</th>\n",
       "      <th>total_income</th>\n",
       "      <th>purpose</th>\n",
       "    </tr>\n",
       "  </thead>\n",
       "  <tbody>\n",
       "    <tr>\n",
       "      <td>0</td>\n",
       "      <td>1</td>\n",
       "      <td>8437</td>\n",
       "      <td>42</td>\n",
       "      <td>0</td>\n",
       "      <td>0</td>\n",
       "      <td>F</td>\n",
       "      <td>сотрудник</td>\n",
       "      <td>0</td>\n",
       "      <td>253875</td>\n",
       "      <td>покупка жилья</td>\n",
       "    </tr>\n",
       "    <tr>\n",
       "      <td>1</td>\n",
       "      <td>1</td>\n",
       "      <td>4024</td>\n",
       "      <td>36</td>\n",
       "      <td>1</td>\n",
       "      <td>0</td>\n",
       "      <td>F</td>\n",
       "      <td>сотрудник</td>\n",
       "      <td>0</td>\n",
       "      <td>112080</td>\n",
       "      <td>приобретение автомобиля</td>\n",
       "    </tr>\n",
       "    <tr>\n",
       "      <td>2</td>\n",
       "      <td>0</td>\n",
       "      <td>5623</td>\n",
       "      <td>33</td>\n",
       "      <td>1</td>\n",
       "      <td>0</td>\n",
       "      <td>M</td>\n",
       "      <td>сотрудник</td>\n",
       "      <td>0</td>\n",
       "      <td>145885</td>\n",
       "      <td>покупка жилья</td>\n",
       "    </tr>\n",
       "    <tr>\n",
       "      <td>3</td>\n",
       "      <td>3</td>\n",
       "      <td>4124</td>\n",
       "      <td>32</td>\n",
       "      <td>1</td>\n",
       "      <td>0</td>\n",
       "      <td>M</td>\n",
       "      <td>сотрудник</td>\n",
       "      <td>0</td>\n",
       "      <td>267628</td>\n",
       "      <td>дополнительное образование</td>\n",
       "    </tr>\n",
       "    <tr>\n",
       "      <td>4</td>\n",
       "      <td>0</td>\n",
       "      <td>2169</td>\n",
       "      <td>53</td>\n",
       "      <td>1</td>\n",
       "      <td>1</td>\n",
       "      <td>F</td>\n",
       "      <td>пенсионер</td>\n",
       "      <td>0</td>\n",
       "      <td>158616</td>\n",
       "      <td>сыграть свадьбу</td>\n",
       "    </tr>\n",
       "  </tbody>\n",
       "</table>\n",
       "</div>"
      ],
      "text/plain": [
       "   children  days_employed  dob_years  education_id  family_status_id gender  \\\n",
       "0         1           8437         42             0                 0      F   \n",
       "1         1           4024         36             1                 0      F   \n",
       "2         0           5623         33             1                 0      M   \n",
       "3         3           4124         32             1                 0      M   \n",
       "4         0           2169         53             1                 1      F   \n",
       "\n",
       "  income_type  debt  total_income                     purpose  \n",
       "0   сотрудник     0        253875               покупка жилья  \n",
       "1   сотрудник     0        112080     приобретение автомобиля  \n",
       "2   сотрудник     0        145885               покупка жилья  \n",
       "3   сотрудник     0        267628  дополнительное образование  \n",
       "4   пенсионер     0        158616             сыграть свадьбу  "
      ]
     },
     "execution_count": 49,
     "metadata": {},
     "output_type": "execute_result"
    }
   ],
   "source": [
    "# проверим результат преобразования\n",
    "df.head()"
   ]
  },
  {
   "cell_type": "markdown",
   "id": "861a22fa",
   "metadata": {},
   "source": [
    "### Категоризация дохода."
   ]
  },
  {
   "cell_type": "markdown",
   "id": "ea1a5852",
   "metadata": {},
   "source": [
    "Воспользуемся функцией pd.cut для определения точных границ интервалов, задав параметр bin и применим указанную функцию для создания нового столбца из значений столбца с ежемесячным доходом."
   ]
  },
  {
   "cell_type": "code",
   "execution_count": 50,
   "id": "8bfb6630",
   "metadata": {},
   "outputs": [],
   "source": [
    "# создадим список категорий\n",
    "cut_labels = ['E', 'D', 'C', 'B', 'A']"
   ]
  },
  {
   "cell_type": "code",
   "execution_count": 51,
   "id": "b0253dbd",
   "metadata": {},
   "outputs": [],
   "source": [
    "# создадим список диапазонов значений применительно к каждой категории, указав границы каждого из них\n",
    "cut_bins = [0, 30000, 50000, 200000, 1000000, 10000000]"
   ]
  },
  {
   "cell_type": "code",
   "execution_count": 52,
   "id": "94ef1e65",
   "metadata": {},
   "outputs": [],
   "source": [
    "# создадим новый столбец с категориями и применим к нему необходимые вычисления\n",
    "df['total_income_category'] = pd.cut(df['total_income'], bins=cut_bins, labels=cut_labels)"
   ]
  },
  {
   "cell_type": "code",
   "execution_count": 53,
   "id": "cdc8f843",
   "metadata": {
    "scrolled": true
   },
   "outputs": [
    {
     "data": {
      "text/html": [
       "<div>\n",
       "<style scoped>\n",
       "    .dataframe tbody tr th:only-of-type {\n",
       "        vertical-align: middle;\n",
       "    }\n",
       "\n",
       "    .dataframe tbody tr th {\n",
       "        vertical-align: top;\n",
       "    }\n",
       "\n",
       "    .dataframe thead th {\n",
       "        text-align: right;\n",
       "    }\n",
       "</style>\n",
       "<table border=\"1\" class=\"dataframe\">\n",
       "  <thead>\n",
       "    <tr style=\"text-align: right;\">\n",
       "      <th></th>\n",
       "      <th>children</th>\n",
       "      <th>days_employed</th>\n",
       "      <th>dob_years</th>\n",
       "      <th>education_id</th>\n",
       "      <th>family_status_id</th>\n",
       "      <th>gender</th>\n",
       "      <th>income_type</th>\n",
       "      <th>debt</th>\n",
       "      <th>total_income</th>\n",
       "      <th>purpose</th>\n",
       "      <th>total_income_category</th>\n",
       "    </tr>\n",
       "  </thead>\n",
       "  <tbody>\n",
       "    <tr>\n",
       "      <td>0</td>\n",
       "      <td>1</td>\n",
       "      <td>8437</td>\n",
       "      <td>42</td>\n",
       "      <td>0</td>\n",
       "      <td>0</td>\n",
       "      <td>F</td>\n",
       "      <td>сотрудник</td>\n",
       "      <td>0</td>\n",
       "      <td>253875</td>\n",
       "      <td>покупка жилья</td>\n",
       "      <td>B</td>\n",
       "    </tr>\n",
       "    <tr>\n",
       "      <td>1</td>\n",
       "      <td>1</td>\n",
       "      <td>4024</td>\n",
       "      <td>36</td>\n",
       "      <td>1</td>\n",
       "      <td>0</td>\n",
       "      <td>F</td>\n",
       "      <td>сотрудник</td>\n",
       "      <td>0</td>\n",
       "      <td>112080</td>\n",
       "      <td>приобретение автомобиля</td>\n",
       "      <td>C</td>\n",
       "    </tr>\n",
       "    <tr>\n",
       "      <td>2</td>\n",
       "      <td>0</td>\n",
       "      <td>5623</td>\n",
       "      <td>33</td>\n",
       "      <td>1</td>\n",
       "      <td>0</td>\n",
       "      <td>M</td>\n",
       "      <td>сотрудник</td>\n",
       "      <td>0</td>\n",
       "      <td>145885</td>\n",
       "      <td>покупка жилья</td>\n",
       "      <td>C</td>\n",
       "    </tr>\n",
       "    <tr>\n",
       "      <td>3</td>\n",
       "      <td>3</td>\n",
       "      <td>4124</td>\n",
       "      <td>32</td>\n",
       "      <td>1</td>\n",
       "      <td>0</td>\n",
       "      <td>M</td>\n",
       "      <td>сотрудник</td>\n",
       "      <td>0</td>\n",
       "      <td>267628</td>\n",
       "      <td>дополнительное образование</td>\n",
       "      <td>B</td>\n",
       "    </tr>\n",
       "    <tr>\n",
       "      <td>4</td>\n",
       "      <td>0</td>\n",
       "      <td>2169</td>\n",
       "      <td>53</td>\n",
       "      <td>1</td>\n",
       "      <td>1</td>\n",
       "      <td>F</td>\n",
       "      <td>пенсионер</td>\n",
       "      <td>0</td>\n",
       "      <td>158616</td>\n",
       "      <td>сыграть свадьбу</td>\n",
       "      <td>C</td>\n",
       "    </tr>\n",
       "  </tbody>\n",
       "</table>\n",
       "</div>"
      ],
      "text/plain": [
       "   children  days_employed  dob_years  education_id  family_status_id gender  \\\n",
       "0         1           8437         42             0                 0      F   \n",
       "1         1           4024         36             1                 0      F   \n",
       "2         0           5623         33             1                 0      M   \n",
       "3         3           4124         32             1                 0      M   \n",
       "4         0           2169         53             1                 1      F   \n",
       "\n",
       "  income_type  debt  total_income                     purpose  \\\n",
       "0   сотрудник     0        253875               покупка жилья   \n",
       "1   сотрудник     0        112080     приобретение автомобиля   \n",
       "2   сотрудник     0        145885               покупка жилья   \n",
       "3   сотрудник     0        267628  дополнительное образование   \n",
       "4   пенсионер     0        158616             сыграть свадьбу   \n",
       "\n",
       "  total_income_category  \n",
       "0                     B  \n",
       "1                     C  \n",
       "2                     C  \n",
       "3                     B  \n",
       "4                     C  "
      ]
     },
     "execution_count": 53,
     "metadata": {},
     "output_type": "execute_result"
    }
   ],
   "source": [
    "# проверим корректность произведенных преобразований\n",
    "df.head()"
   ]
  },
  {
   "cell_type": "markdown",
   "id": "c62dd060",
   "metadata": {},
   "source": [
    "### Категоризация целей кредита."
   ]
  },
  {
   "cell_type": "markdown",
   "id": "afecc25d",
   "metadata": {},
   "source": [
    "Как мы ранее узнали, в столбце с целями кредита имеется большое количество схожих значений. \n",
    "Для того, чтобы сгруппировать их по соответствующим категориям, выясним какие слова встречаются чаще всего и применим к ним функцию для создания нового столбца с категориями."
   ]
  },
  {
   "cell_type": "code",
   "execution_count": 54,
   "id": "dff9cd02",
   "metadata": {},
   "outputs": [],
   "source": [
    "# импортируем библиотеки, необходимые для обработки текстовых данных в столбце с целями кредита\n",
    "from pymystem3 import Mystem\n",
    "from collections import Counter\n",
    "m = Mystem()"
   ]
  },
  {
   "cell_type": "code",
   "execution_count": 55,
   "id": "f9b56427",
   "metadata": {},
   "outputs": [],
   "source": [
    "# посмотрим какие слова в описании целей кредита используются чаще всего\n",
    "lemma = Counter(m.lemmatize(' '.join(df.purpose)))"
   ]
  },
  {
   "cell_type": "code",
   "execution_count": 56,
   "id": "39734f77",
   "metadata": {},
   "outputs": [
    {
     "data": {
      "text/plain": [
       "Counter({'покупка': 5899,\n",
       "         ' ': 55064,\n",
       "         'жилье': 4461,\n",
       "         'приобретение': 461,\n",
       "         'автомобиль': 4308,\n",
       "         'дополнительный': 907,\n",
       "         'образование': 4014,\n",
       "         'сыграть': 769,\n",
       "         'свадьба': 2335,\n",
       "         'операция': 2604,\n",
       "         'с': 2918,\n",
       "         'на': 2228,\n",
       "         'проведение': 773,\n",
       "         'для': 1290,\n",
       "         'семья': 638,\n",
       "         'недвижимость': 6352,\n",
       "         'коммерческий': 1312,\n",
       "         'жилой': 1231,\n",
       "         'строительство': 1879,\n",
       "         'собственный': 635,\n",
       "         'подержать': 853,\n",
       "         'свой': 2231,\n",
       "         'со': 627,\n",
       "         'заниматься': 904,\n",
       "         'сделка': 941,\n",
       "         'получение': 1315,\n",
       "         'высокий': 1374,\n",
       "         'подержанный': 111,\n",
       "         'профильный': 436,\n",
       "         'сдача': 652,\n",
       "         'ремонт': 607,\n",
       "         '\\n': 1})"
      ]
     },
     "execution_count": 56,
     "metadata": {},
     "output_type": "execute_result"
    }
   ],
   "source": [
    "lemma"
   ]
  },
  {
   "cell_type": "code",
   "execution_count": 57,
   "id": "eb1cba24",
   "metadata": {},
   "outputs": [],
   "source": [
    "# создадим функцию, которая принимает на вход строку из столбца нашей таблицы\n",
    "# и приводит строку к списку лемманизированных слов, а затем\n",
    "# находит в этом списке искомое значение для отнесения ее к соответствующей категории\n",
    "def category_grouped(row):\n",
    "    row = m.lemmatize(row)\n",
    "    if 'жилье' in row or 'недвижимость' in row:\n",
    "        return 'операции с недвижимостью'\n",
    "    if 'автомобиль' in row:\n",
    "        return 'операции с автомобилем'\n",
    "    if 'свадьба' in row:\n",
    "        return 'проведение свадьбы'\n",
    "    if 'образование' in row:\n",
    "        return 'получение образования'"
   ]
  },
  {
   "cell_type": "code",
   "execution_count": 58,
   "id": "20948b89",
   "metadata": {},
   "outputs": [],
   "source": [
    "# применим функцию к столбцу со сведениями о целях кредита\n",
    "df['purpose_category'] = df['purpose'].apply(category_grouped)"
   ]
  },
  {
   "cell_type": "code",
   "execution_count": 59,
   "id": "615e4c03",
   "metadata": {
    "scrolled": true
   },
   "outputs": [
    {
     "data": {
      "text/plain": [
       "операции с недвижимостью    10813\n",
       "операции с автомобилем       4308\n",
       "получение образования        4014\n",
       "проведение свадьбы           2335\n",
       "Name: purpose_category, dtype: int64"
      ]
     },
     "execution_count": 59,
     "metadata": {},
     "output_type": "execute_result"
    }
   ],
   "source": [
    "# посмотрим на получившиеся категории в созданном столбце\n",
    "df['purpose_category'].value_counts()"
   ]
  },
  {
   "cell_type": "markdown",
   "id": "b799adc4",
   "metadata": {},
   "source": [
    "### Ответы на вопросы."
   ]
  },
  {
   "cell_type": "markdown",
   "id": "8a2a8a33",
   "metadata": {},
   "source": [
    "#### Вопрос 1: Есть ли зависимость между количеством детей и возвратом кредита в срок?"
   ]
  },
  {
   "cell_type": "markdown",
   "id": "7f6a260f",
   "metadata": {},
   "source": [
    "Для проверки данной гипотезы создадим сводную таблицу с данными по соответствующим значениям."
   ]
  },
  {
   "cell_type": "code",
   "execution_count": 60,
   "id": "e8fb82d8",
   "metadata": {},
   "outputs": [],
   "source": [
    "table_children = df.pivot_table(index='children', values='debt', aggfunc={'debt' : 'sum'}) \\\n",
    "    .reset_index() \\\n",
    "    .rename(columns={'debt' : 'amount_debt_delay'})"
   ]
  },
  {
   "cell_type": "code",
   "execution_count": 61,
   "id": "e1c613b4",
   "metadata": {},
   "outputs": [
    {
     "data": {
      "text/html": [
       "<div>\n",
       "<style scoped>\n",
       "    .dataframe tbody tr th:only-of-type {\n",
       "        vertical-align: middle;\n",
       "    }\n",
       "\n",
       "    .dataframe tbody tr th {\n",
       "        vertical-align: top;\n",
       "    }\n",
       "\n",
       "    .dataframe thead th {\n",
       "        text-align: right;\n",
       "    }\n",
       "</style>\n",
       "<table border=\"1\" class=\"dataframe\">\n",
       "  <thead>\n",
       "    <tr style=\"text-align: right;\">\n",
       "      <th></th>\n",
       "      <th>children</th>\n",
       "      <th>amount_debt_delay</th>\n",
       "    </tr>\n",
       "  </thead>\n",
       "  <tbody>\n",
       "    <tr>\n",
       "      <td>0</td>\n",
       "      <td>0</td>\n",
       "      <td>1072</td>\n",
       "    </tr>\n",
       "    <tr>\n",
       "      <td>1</td>\n",
       "      <td>1</td>\n",
       "      <td>444</td>\n",
       "    </tr>\n",
       "    <tr>\n",
       "      <td>2</td>\n",
       "      <td>2</td>\n",
       "      <td>194</td>\n",
       "    </tr>\n",
       "    <tr>\n",
       "      <td>3</td>\n",
       "      <td>3</td>\n",
       "      <td>27</td>\n",
       "    </tr>\n",
       "    <tr>\n",
       "      <td>4</td>\n",
       "      <td>4</td>\n",
       "      <td>4</td>\n",
       "    </tr>\n",
       "    <tr>\n",
       "      <td>5</td>\n",
       "      <td>5</td>\n",
       "      <td>0</td>\n",
       "    </tr>\n",
       "  </tbody>\n",
       "</table>\n",
       "</div>"
      ],
      "text/plain": [
       "   children  amount_debt_delay\n",
       "0         0               1072\n",
       "1         1                444\n",
       "2         2                194\n",
       "3         3                 27\n",
       "4         4                  4\n",
       "5         5                  0"
      ]
     },
     "execution_count": 61,
     "metadata": {},
     "output_type": "execute_result"
    }
   ],
   "source": [
    "# выведем ее на экран\n",
    "table_children "
   ]
  },
  {
   "cell_type": "code",
   "execution_count": 62,
   "id": "03a0f9f5",
   "metadata": {},
   "outputs": [],
   "source": [
    "table_children_full = df.groupby('children', as_index=False) \\\n",
    "    .agg({'gender' : 'count'}) \\\n",
    "    .rename(columns={'gender' : 'all_client_children'})"
   ]
  },
  {
   "cell_type": "code",
   "execution_count": 63,
   "id": "1192926b",
   "metadata": {},
   "outputs": [],
   "source": [
    "# присоединим таблицу с общим количеством клиентов по количеству детей\n",
    "table_children = table_children.merge(table_children_full, how='inner', on='children')"
   ]
  },
  {
   "cell_type": "code",
   "execution_count": 64,
   "id": "21387111",
   "metadata": {},
   "outputs": [],
   "source": [
    "# добавим столбец с процентным соотношением числа клиентов с просрочками к общему числу клиентов по наличию детей\n",
    "table_children['procent_debt'] = \\\n",
    "(table_children['amount_debt_delay'] / table_children['all_client_children'] * 100).round(2)"
   ]
  },
  {
   "cell_type": "code",
   "execution_count": 65,
   "id": "43b626a9",
   "metadata": {},
   "outputs": [
    {
     "data": {
      "text/html": [
       "<div>\n",
       "<style scoped>\n",
       "    .dataframe tbody tr th:only-of-type {\n",
       "        vertical-align: middle;\n",
       "    }\n",
       "\n",
       "    .dataframe tbody tr th {\n",
       "        vertical-align: top;\n",
       "    }\n",
       "\n",
       "    .dataframe thead th {\n",
       "        text-align: right;\n",
       "    }\n",
       "</style>\n",
       "<table border=\"1\" class=\"dataframe\">\n",
       "  <thead>\n",
       "    <tr style=\"text-align: right;\">\n",
       "      <th></th>\n",
       "      <th>children</th>\n",
       "      <th>amount_debt_delay</th>\n",
       "      <th>all_client_children</th>\n",
       "      <th>procent_debt</th>\n",
       "    </tr>\n",
       "  </thead>\n",
       "  <tbody>\n",
       "    <tr>\n",
       "      <td>4</td>\n",
       "      <td>4</td>\n",
       "      <td>4</td>\n",
       "      <td>41</td>\n",
       "      <td>9.76</td>\n",
       "    </tr>\n",
       "    <tr>\n",
       "      <td>2</td>\n",
       "      <td>2</td>\n",
       "      <td>194</td>\n",
       "      <td>2052</td>\n",
       "      <td>9.45</td>\n",
       "    </tr>\n",
       "    <tr>\n",
       "      <td>1</td>\n",
       "      <td>1</td>\n",
       "      <td>444</td>\n",
       "      <td>4809</td>\n",
       "      <td>9.23</td>\n",
       "    </tr>\n",
       "    <tr>\n",
       "      <td>3</td>\n",
       "      <td>3</td>\n",
       "      <td>27</td>\n",
       "      <td>330</td>\n",
       "      <td>8.18</td>\n",
       "    </tr>\n",
       "    <tr>\n",
       "      <td>0</td>\n",
       "      <td>0</td>\n",
       "      <td>1072</td>\n",
       "      <td>14229</td>\n",
       "      <td>7.53</td>\n",
       "    </tr>\n",
       "    <tr>\n",
       "      <td>5</td>\n",
       "      <td>5</td>\n",
       "      <td>0</td>\n",
       "      <td>9</td>\n",
       "      <td>0.00</td>\n",
       "    </tr>\n",
       "  </tbody>\n",
       "</table>\n",
       "</div>"
      ],
      "text/plain": [
       "   children  amount_debt_delay  all_client_children  procent_debt\n",
       "4         4                  4                   41          9.76\n",
       "2         2                194                 2052          9.45\n",
       "1         1                444                 4809          9.23\n",
       "3         3                 27                  330          8.18\n",
       "0         0               1072                14229          7.53\n",
       "5         5                  0                    9          0.00"
      ]
     },
     "execution_count": 65,
     "metadata": {},
     "output_type": "execute_result"
    }
   ],
   "source": [
    "# проверим получившуюся таблицу и сделаем выводы\n",
    "table_children.sort_values(by='procent_debt', ascending=False)"
   ]
  },
  {
   "cell_type": "markdown",
   "id": "e085e658",
   "metadata": {},
   "source": [
    "#### Вывод  по вопросу 1:"
   ]
  },
  {
   "cell_type": "markdown",
   "id": "eddc853f",
   "metadata": {},
   "source": [
    "Зависимость между количеством детей и наличием задолженности по кредитам у клиентов имеется: при наличии детей, клиенты менее ответственно относятся к исполнению своих обязательств и чаще допускают просрочки, чем клиенты не имеющие детей."
   ]
  },
  {
   "cell_type": "markdown",
   "id": "dfd752c9",
   "metadata": {},
   "source": [
    "#### Вопрос 2: Есть ли зависимость между семейным положением и возвратом кредита в срок?"
   ]
  },
  {
   "cell_type": "markdown",
   "id": "9d29acbb",
   "metadata": {},
   "source": [
    "Для проверки данной гипотезы создадим сводную таблицу с данными по соответствующим значениям."
   ]
  },
  {
   "cell_type": "code",
   "execution_count": 66,
   "id": "6b69bfab",
   "metadata": {},
   "outputs": [],
   "source": [
    "table_family_status = df.pivot_table(index='family_status_id', values='debt', aggfunc={'debt' : 'sum'}) \\\n",
    "    .reset_index() \\\n",
    "    .rename(columns={'debt' : 'amount_debt_delay'})"
   ]
  },
  {
   "cell_type": "code",
   "execution_count": 67,
   "id": "3d28d7f7",
   "metadata": {},
   "outputs": [
    {
     "data": {
      "text/html": [
       "<div>\n",
       "<style scoped>\n",
       "    .dataframe tbody tr th:only-of-type {\n",
       "        vertical-align: middle;\n",
       "    }\n",
       "\n",
       "    .dataframe tbody tr th {\n",
       "        vertical-align: top;\n",
       "    }\n",
       "\n",
       "    .dataframe thead th {\n",
       "        text-align: right;\n",
       "    }\n",
       "</style>\n",
       "<table border=\"1\" class=\"dataframe\">\n",
       "  <thead>\n",
       "    <tr style=\"text-align: right;\">\n",
       "      <th></th>\n",
       "      <th>family_status_id</th>\n",
       "      <th>amount_debt_delay</th>\n",
       "    </tr>\n",
       "  </thead>\n",
       "  <tbody>\n",
       "    <tr>\n",
       "      <td>0</td>\n",
       "      <td>0</td>\n",
       "      <td>931</td>\n",
       "    </tr>\n",
       "    <tr>\n",
       "      <td>1</td>\n",
       "      <td>1</td>\n",
       "      <td>388</td>\n",
       "    </tr>\n",
       "    <tr>\n",
       "      <td>2</td>\n",
       "      <td>2</td>\n",
       "      <td>63</td>\n",
       "    </tr>\n",
       "    <tr>\n",
       "      <td>3</td>\n",
       "      <td>3</td>\n",
       "      <td>85</td>\n",
       "    </tr>\n",
       "    <tr>\n",
       "      <td>4</td>\n",
       "      <td>4</td>\n",
       "      <td>274</td>\n",
       "    </tr>\n",
       "  </tbody>\n",
       "</table>\n",
       "</div>"
      ],
      "text/plain": [
       "   family_status_id  amount_debt_delay\n",
       "0                 0                931\n",
       "1                 1                388\n",
       "2                 2                 63\n",
       "3                 3                 85\n",
       "4                 4                274"
      ]
     },
     "execution_count": 67,
     "metadata": {},
     "output_type": "execute_result"
    }
   ],
   "source": [
    "# выведем ее на экран\n",
    "table_family_status"
   ]
  },
  {
   "cell_type": "code",
   "execution_count": 68,
   "id": "8b45172d",
   "metadata": {
    "scrolled": true
   },
   "outputs": [],
   "source": [
    "# присоединим таблицу с расшифровками семейного статуса\n",
    "table_family_status = table_family_status \\\n",
    "    .merge(family_status_dict, how='inner', on='family_status_id')"
   ]
  },
  {
   "cell_type": "code",
   "execution_count": 69,
   "id": "01cd1b1e",
   "metadata": {
    "scrolled": true
   },
   "outputs": [
    {
     "data": {
      "text/html": [
       "<div>\n",
       "<style scoped>\n",
       "    .dataframe tbody tr th:only-of-type {\n",
       "        vertical-align: middle;\n",
       "    }\n",
       "\n",
       "    .dataframe tbody tr th {\n",
       "        vertical-align: top;\n",
       "    }\n",
       "\n",
       "    .dataframe thead th {\n",
       "        text-align: right;\n",
       "    }\n",
       "</style>\n",
       "<table border=\"1\" class=\"dataframe\">\n",
       "  <thead>\n",
       "    <tr style=\"text-align: right;\">\n",
       "      <th></th>\n",
       "      <th>family_status_id</th>\n",
       "      <th>amount_debt_delay</th>\n",
       "      <th>family_status</th>\n",
       "    </tr>\n",
       "  </thead>\n",
       "  <tbody>\n",
       "    <tr>\n",
       "      <td>0</td>\n",
       "      <td>0</td>\n",
       "      <td>931</td>\n",
       "      <td>женат / замужем</td>\n",
       "    </tr>\n",
       "    <tr>\n",
       "      <td>1</td>\n",
       "      <td>1</td>\n",
       "      <td>388</td>\n",
       "      <td>гражданский брак</td>\n",
       "    </tr>\n",
       "    <tr>\n",
       "      <td>4</td>\n",
       "      <td>4</td>\n",
       "      <td>274</td>\n",
       "      <td>Не женат / не замужем</td>\n",
       "    </tr>\n",
       "    <tr>\n",
       "      <td>3</td>\n",
       "      <td>3</td>\n",
       "      <td>85</td>\n",
       "      <td>в разводе</td>\n",
       "    </tr>\n",
       "    <tr>\n",
       "      <td>2</td>\n",
       "      <td>2</td>\n",
       "      <td>63</td>\n",
       "      <td>вдовец / вдова</td>\n",
       "    </tr>\n",
       "  </tbody>\n",
       "</table>\n",
       "</div>"
      ],
      "text/plain": [
       "   family_status_id  amount_debt_delay          family_status\n",
       "0                 0                931        женат / замужем\n",
       "1                 1                388       гражданский брак\n",
       "4                 4                274  Не женат / не замужем\n",
       "3                 3                 85              в разводе\n",
       "2                 2                 63         вдовец / вдова"
      ]
     },
     "execution_count": 69,
     "metadata": {},
     "output_type": "execute_result"
    }
   ],
   "source": [
    "# сделаем сортировку по убыванию значений в столбце с количеством задолженностей  \n",
    "table_family_status.sort_values(by='amount_debt_delay', ascending=False)"
   ]
  },
  {
   "cell_type": "markdown",
   "id": "facf95af",
   "metadata": {},
   "source": [
    "В абсолютных цифрах разница между просрочкой в зависимости от семейного положения прослеживается. Однако это впечатление обманчиво, поскольку вполне вероятно, что и количество клиентов с таким статусом будет выше, чем остальных.\n",
    "Проверим эту гипотезу, присоединив столбец с данными об общем числе клиентов соответствующего статуса и посчитаем процентное соотношение просрочек в каждой группе к общему числу клиентов. "
   ]
  },
  {
   "cell_type": "code",
   "execution_count": 70,
   "id": "8d889b76",
   "metadata": {},
   "outputs": [],
   "source": [
    "table_family_status_full = df.groupby('family_status_id', as_index=False) \\\n",
    "    .agg({'gender' : 'count'}) \\\n",
    "    .rename(columns={'gender' : 'all_client_family_status'})"
   ]
  },
  {
   "cell_type": "code",
   "execution_count": 71,
   "id": "920175a6",
   "metadata": {},
   "outputs": [],
   "source": [
    "# присоединим таблицу с количеством клиентов по каждому статусу\n",
    "table_family_status = table_family_status.merge(table_family_status_full, how='inner', on='family_status_id')"
   ]
  },
  {
   "cell_type": "code",
   "execution_count": 72,
   "id": "4cca9c50",
   "metadata": {},
   "outputs": [
    {
     "data": {
      "text/html": [
       "<div>\n",
       "<style scoped>\n",
       "    .dataframe tbody tr th:only-of-type {\n",
       "        vertical-align: middle;\n",
       "    }\n",
       "\n",
       "    .dataframe tbody tr th {\n",
       "        vertical-align: top;\n",
       "    }\n",
       "\n",
       "    .dataframe thead th {\n",
       "        text-align: right;\n",
       "    }\n",
       "</style>\n",
       "<table border=\"1\" class=\"dataframe\">\n",
       "  <thead>\n",
       "    <tr style=\"text-align: right;\">\n",
       "      <th></th>\n",
       "      <th>family_status_id</th>\n",
       "      <th>amount_debt_delay</th>\n",
       "      <th>family_status</th>\n",
       "      <th>all_client_family_status</th>\n",
       "    </tr>\n",
       "  </thead>\n",
       "  <tbody>\n",
       "    <tr>\n",
       "      <td>0</td>\n",
       "      <td>0</td>\n",
       "      <td>931</td>\n",
       "      <td>женат / замужем</td>\n",
       "      <td>12344</td>\n",
       "    </tr>\n",
       "    <tr>\n",
       "      <td>1</td>\n",
       "      <td>1</td>\n",
       "      <td>388</td>\n",
       "      <td>гражданский брак</td>\n",
       "      <td>4162</td>\n",
       "    </tr>\n",
       "    <tr>\n",
       "      <td>2</td>\n",
       "      <td>2</td>\n",
       "      <td>63</td>\n",
       "      <td>вдовец / вдова</td>\n",
       "      <td>959</td>\n",
       "    </tr>\n",
       "    <tr>\n",
       "      <td>3</td>\n",
       "      <td>3</td>\n",
       "      <td>85</td>\n",
       "      <td>в разводе</td>\n",
       "      <td>1195</td>\n",
       "    </tr>\n",
       "    <tr>\n",
       "      <td>4</td>\n",
       "      <td>4</td>\n",
       "      <td>274</td>\n",
       "      <td>Не женат / не замужем</td>\n",
       "      <td>2810</td>\n",
       "    </tr>\n",
       "  </tbody>\n",
       "</table>\n",
       "</div>"
      ],
      "text/plain": [
       "   family_status_id  amount_debt_delay          family_status  \\\n",
       "0                 0                931        женат / замужем   \n",
       "1                 1                388       гражданский брак   \n",
       "2                 2                 63         вдовец / вдова   \n",
       "3                 3                 85              в разводе   \n",
       "4                 4                274  Не женат / не замужем   \n",
       "\n",
       "   all_client_family_status  \n",
       "0                     12344  \n",
       "1                      4162  \n",
       "2                       959  \n",
       "3                      1195  \n",
       "4                      2810  "
      ]
     },
     "execution_count": 72,
     "metadata": {},
     "output_type": "execute_result"
    }
   ],
   "source": [
    "# выведем получившийся результат\n",
    "table_family_status"
   ]
  },
  {
   "cell_type": "code",
   "execution_count": 73,
   "id": "da987379",
   "metadata": {
    "scrolled": true
   },
   "outputs": [],
   "source": [
    "# добавим столбец с процентным соотношением числа клиентов с просрочками к общему числу клиентов по каждому семейному статусу\n",
    "table_family_status['procent_debt'] = \\\n",
    "(table_family_status['amount_debt_delay'] / table_family_status['all_client_family_status'] * 100).round(2)"
   ]
  },
  {
   "cell_type": "code",
   "execution_count": 74,
   "id": "ff28c8dc",
   "metadata": {
    "scrolled": true
   },
   "outputs": [
    {
     "data": {
      "text/html": [
       "<div>\n",
       "<style scoped>\n",
       "    .dataframe tbody tr th:only-of-type {\n",
       "        vertical-align: middle;\n",
       "    }\n",
       "\n",
       "    .dataframe tbody tr th {\n",
       "        vertical-align: top;\n",
       "    }\n",
       "\n",
       "    .dataframe thead th {\n",
       "        text-align: right;\n",
       "    }\n",
       "</style>\n",
       "<table border=\"1\" class=\"dataframe\">\n",
       "  <thead>\n",
       "    <tr style=\"text-align: right;\">\n",
       "      <th></th>\n",
       "      <th>family_status_id</th>\n",
       "      <th>amount_debt_delay</th>\n",
       "      <th>family_status</th>\n",
       "      <th>all_client_family_status</th>\n",
       "      <th>procent_debt</th>\n",
       "    </tr>\n",
       "  </thead>\n",
       "  <tbody>\n",
       "    <tr>\n",
       "      <td>4</td>\n",
       "      <td>4</td>\n",
       "      <td>274</td>\n",
       "      <td>Не женат / не замужем</td>\n",
       "      <td>2810</td>\n",
       "      <td>9.75</td>\n",
       "    </tr>\n",
       "    <tr>\n",
       "      <td>1</td>\n",
       "      <td>1</td>\n",
       "      <td>388</td>\n",
       "      <td>гражданский брак</td>\n",
       "      <td>4162</td>\n",
       "      <td>9.32</td>\n",
       "    </tr>\n",
       "    <tr>\n",
       "      <td>0</td>\n",
       "      <td>0</td>\n",
       "      <td>931</td>\n",
       "      <td>женат / замужем</td>\n",
       "      <td>12344</td>\n",
       "      <td>7.54</td>\n",
       "    </tr>\n",
       "    <tr>\n",
       "      <td>3</td>\n",
       "      <td>3</td>\n",
       "      <td>85</td>\n",
       "      <td>в разводе</td>\n",
       "      <td>1195</td>\n",
       "      <td>7.11</td>\n",
       "    </tr>\n",
       "    <tr>\n",
       "      <td>2</td>\n",
       "      <td>2</td>\n",
       "      <td>63</td>\n",
       "      <td>вдовец / вдова</td>\n",
       "      <td>959</td>\n",
       "      <td>6.57</td>\n",
       "    </tr>\n",
       "  </tbody>\n",
       "</table>\n",
       "</div>"
      ],
      "text/plain": [
       "   family_status_id  amount_debt_delay          family_status  \\\n",
       "4                 4                274  Не женат / не замужем   \n",
       "1                 1                388       гражданский брак   \n",
       "0                 0                931        женат / замужем   \n",
       "3                 3                 85              в разводе   \n",
       "2                 2                 63         вдовец / вдова   \n",
       "\n",
       "   all_client_family_status  procent_debt  \n",
       "4                      2810          9.75  \n",
       "1                      4162          9.32  \n",
       "0                     12344          7.54  \n",
       "3                      1195          7.11  \n",
       "2                       959          6.57  "
      ]
     },
     "execution_count": 74,
     "metadata": {},
     "output_type": "execute_result"
    }
   ],
   "source": [
    "# сделаем сортировку по убыванию процентного соотношения и выведем на экран\n",
    "table_family_status.sort_values(by='procent_debt', ascending=False)"
   ]
  },
  {
   "cell_type": "markdown",
   "id": "e9a27ecb",
   "metadata": {},
   "source": [
    "#### Вывод по вопросу 2:"
   ]
  },
  {
   "cell_type": "markdown",
   "id": "284934f4",
   "metadata": {},
   "source": [
    "В абсолютных цифрах разница между просрочкой в зависимости от семейного положения имелась, но сильно выделяла одну категорию (женат / замужем) по сравнению с остальными.\n",
    "\n",
    "Однако при переводе соответствующих значений в проценты по сравнению с общим количеством клиентов с соответствующим статусом, выяснилось, что просрочку чаще допускают другие группы клиентов.\n",
    "\n",
    "Из предоставленных данных следует наличие зависимости между семейным положением и возвратом кредита в срок, например, клиенты со статусами \"гражданский брак\" и \"Не женат / не замужем\" в среднем на 2% чаще допускают нарушение обязательств чем лица, состоящие в браке и почти на 3% чаще, чем ранее имевшие брачные отношения (со статусами \"вдовец/вдова\", \"в разводе\")."
   ]
  },
  {
   "cell_type": "markdown",
   "id": "04681043",
   "metadata": {},
   "source": [
    "#### Вопрос 3: Есть ли зависимость между уровнем дохода и возвратом кредита в срок?"
   ]
  },
  {
   "cell_type": "markdown",
   "id": "a1c2870e",
   "metadata": {},
   "source": [
    "Для проверки данной гипотезы создадим сводную таблицу с данными по соответствующим значениям."
   ]
  },
  {
   "cell_type": "code",
   "execution_count": 75,
   "id": "2b776723",
   "metadata": {},
   "outputs": [],
   "source": [
    "table_total_income = df.pivot_table(index=['total_income_category'], values='debt', aggfunc={'debt' : 'sum'}) \\\n",
    "    .reset_index() \\\n",
    "    .rename(columns={'debt' : 'amount_debt_delay'})"
   ]
  },
  {
   "cell_type": "code",
   "execution_count": 76,
   "id": "a14a5a05",
   "metadata": {},
   "outputs": [
    {
     "data": {
      "text/html": [
       "<div>\n",
       "<style scoped>\n",
       "    .dataframe tbody tr th:only-of-type {\n",
       "        vertical-align: middle;\n",
       "    }\n",
       "\n",
       "    .dataframe tbody tr th {\n",
       "        vertical-align: top;\n",
       "    }\n",
       "\n",
       "    .dataframe thead th {\n",
       "        text-align: right;\n",
       "    }\n",
       "</style>\n",
       "<table border=\"1\" class=\"dataframe\">\n",
       "  <thead>\n",
       "    <tr style=\"text-align: right;\">\n",
       "      <th></th>\n",
       "      <th>total_income_category</th>\n",
       "      <th>amount_debt_delay</th>\n",
       "    </tr>\n",
       "  </thead>\n",
       "  <tbody>\n",
       "    <tr>\n",
       "      <td>2</td>\n",
       "      <td>C</td>\n",
       "      <td>1360</td>\n",
       "    </tr>\n",
       "    <tr>\n",
       "      <td>3</td>\n",
       "      <td>B</td>\n",
       "      <td>356</td>\n",
       "    </tr>\n",
       "    <tr>\n",
       "      <td>1</td>\n",
       "      <td>D</td>\n",
       "      <td>21</td>\n",
       "    </tr>\n",
       "    <tr>\n",
       "      <td>0</td>\n",
       "      <td>E</td>\n",
       "      <td>2</td>\n",
       "    </tr>\n",
       "    <tr>\n",
       "      <td>4</td>\n",
       "      <td>A</td>\n",
       "      <td>2</td>\n",
       "    </tr>\n",
       "  </tbody>\n",
       "</table>\n",
       "</div>"
      ],
      "text/plain": [
       "  total_income_category  amount_debt_delay\n",
       "2                     C               1360\n",
       "3                     B                356\n",
       "1                     D                 21\n",
       "0                     E                  2\n",
       "4                     A                  2"
      ]
     },
     "execution_count": 76,
     "metadata": {},
     "output_type": "execute_result"
    }
   ],
   "source": [
    "# отсортируем получившийся результат по столбцу с количеством просрочек\n",
    "table_total_income.sort_values(by='amount_debt_delay', ascending=False)"
   ]
  },
  {
   "cell_type": "markdown",
   "id": "5529898a",
   "metadata": {},
   "source": [
    "Присоединим столбец с данными об общем числе клиентов и посчитаем процентное соотношение просрочек в каждой группе к общему числу клиентов."
   ]
  },
  {
   "cell_type": "code",
   "execution_count": 77,
   "id": "c927509c",
   "metadata": {},
   "outputs": [],
   "source": [
    "table_total_income_full = df.groupby('total_income_category', as_index=False) \\\n",
    "    .agg({'gender' : 'count'}) \\\n",
    "    .rename(columns={'gender' : 'all_client_income_status'})"
   ]
  },
  {
   "cell_type": "code",
   "execution_count": 78,
   "id": "6ab91523",
   "metadata": {},
   "outputs": [],
   "source": [
    "table_total_income = table_total_income.merge(table_total_income_full, how='inner', on='total_income_category')"
   ]
  },
  {
   "cell_type": "code",
   "execution_count": 79,
   "id": "1c7c31fe",
   "metadata": {},
   "outputs": [
    {
     "data": {
      "text/html": [
       "<div>\n",
       "<style scoped>\n",
       "    .dataframe tbody tr th:only-of-type {\n",
       "        vertical-align: middle;\n",
       "    }\n",
       "\n",
       "    .dataframe tbody tr th {\n",
       "        vertical-align: top;\n",
       "    }\n",
       "\n",
       "    .dataframe thead th {\n",
       "        text-align: right;\n",
       "    }\n",
       "</style>\n",
       "<table border=\"1\" class=\"dataframe\">\n",
       "  <thead>\n",
       "    <tr style=\"text-align: right;\">\n",
       "      <th></th>\n",
       "      <th>total_income_category</th>\n",
       "      <th>amount_debt_delay</th>\n",
       "      <th>all_client_income_status</th>\n",
       "    </tr>\n",
       "  </thead>\n",
       "  <tbody>\n",
       "    <tr>\n",
       "      <td>0</td>\n",
       "      <td>E</td>\n",
       "      <td>2</td>\n",
       "      <td>22</td>\n",
       "    </tr>\n",
       "    <tr>\n",
       "      <td>1</td>\n",
       "      <td>D</td>\n",
       "      <td>21</td>\n",
       "      <td>350</td>\n",
       "    </tr>\n",
       "    <tr>\n",
       "      <td>2</td>\n",
       "      <td>C</td>\n",
       "      <td>1360</td>\n",
       "      <td>16032</td>\n",
       "    </tr>\n",
       "    <tr>\n",
       "      <td>3</td>\n",
       "      <td>B</td>\n",
       "      <td>356</td>\n",
       "      <td>5041</td>\n",
       "    </tr>\n",
       "    <tr>\n",
       "      <td>4</td>\n",
       "      <td>A</td>\n",
       "      <td>2</td>\n",
       "      <td>25</td>\n",
       "    </tr>\n",
       "  </tbody>\n",
       "</table>\n",
       "</div>"
      ],
      "text/plain": [
       "  total_income_category  amount_debt_delay  all_client_income_status\n",
       "0                     E                  2                        22\n",
       "1                     D                 21                       350\n",
       "2                     C               1360                     16032\n",
       "3                     B                356                      5041\n",
       "4                     A                  2                        25"
      ]
     },
     "execution_count": 79,
     "metadata": {},
     "output_type": "execute_result"
    }
   ],
   "source": [
    "table_total_income"
   ]
  },
  {
   "cell_type": "code",
   "execution_count": 80,
   "id": "5622ea6c",
   "metadata": {},
   "outputs": [],
   "source": [
    "# добавим столбец с процентным соотношением числа клиентов с просрочками \n",
    "# к общему числу клиентов по соответствующей группе дохода\n",
    "table_total_income['procent_debt'] = \\\n",
    "(table_total_income['amount_debt_delay'] / table_total_income['all_client_income_status'] * 100).round(2)"
   ]
  },
  {
   "cell_type": "code",
   "execution_count": 81,
   "id": "b014c3c7",
   "metadata": {
    "scrolled": true
   },
   "outputs": [
    {
     "data": {
      "text/html": [
       "<div>\n",
       "<style scoped>\n",
       "    .dataframe tbody tr th:only-of-type {\n",
       "        vertical-align: middle;\n",
       "    }\n",
       "\n",
       "    .dataframe tbody tr th {\n",
       "        vertical-align: top;\n",
       "    }\n",
       "\n",
       "    .dataframe thead th {\n",
       "        text-align: right;\n",
       "    }\n",
       "</style>\n",
       "<table border=\"1\" class=\"dataframe\">\n",
       "  <thead>\n",
       "    <tr style=\"text-align: right;\">\n",
       "      <th></th>\n",
       "      <th>total_income_category</th>\n",
       "      <th>amount_debt_delay</th>\n",
       "      <th>all_client_income_status</th>\n",
       "      <th>procent_debt</th>\n",
       "    </tr>\n",
       "  </thead>\n",
       "  <tbody>\n",
       "    <tr>\n",
       "      <td>0</td>\n",
       "      <td>E</td>\n",
       "      <td>2</td>\n",
       "      <td>22</td>\n",
       "      <td>9.09</td>\n",
       "    </tr>\n",
       "    <tr>\n",
       "      <td>2</td>\n",
       "      <td>C</td>\n",
       "      <td>1360</td>\n",
       "      <td>16032</td>\n",
       "      <td>8.48</td>\n",
       "    </tr>\n",
       "    <tr>\n",
       "      <td>4</td>\n",
       "      <td>A</td>\n",
       "      <td>2</td>\n",
       "      <td>25</td>\n",
       "      <td>8.00</td>\n",
       "    </tr>\n",
       "    <tr>\n",
       "      <td>3</td>\n",
       "      <td>B</td>\n",
       "      <td>356</td>\n",
       "      <td>5041</td>\n",
       "      <td>7.06</td>\n",
       "    </tr>\n",
       "    <tr>\n",
       "      <td>1</td>\n",
       "      <td>D</td>\n",
       "      <td>21</td>\n",
       "      <td>350</td>\n",
       "      <td>6.00</td>\n",
       "    </tr>\n",
       "  </tbody>\n",
       "</table>\n",
       "</div>"
      ],
      "text/plain": [
       "  total_income_category  amount_debt_delay  all_client_income_status  \\\n",
       "0                     E                  2                        22   \n",
       "2                     C               1360                     16032   \n",
       "4                     A                  2                        25   \n",
       "3                     B                356                      5041   \n",
       "1                     D                 21                       350   \n",
       "\n",
       "   procent_debt  \n",
       "0          9.09  \n",
       "2          8.48  \n",
       "4          8.00  \n",
       "3          7.06  \n",
       "1          6.00  "
      ]
     },
     "execution_count": 81,
     "metadata": {},
     "output_type": "execute_result"
    }
   ],
   "source": [
    "# сделаем сортировку по процентному соотношению и выведем на экран\n",
    "table_total_income.sort_values(by='procent_debt', ascending=False)"
   ]
  },
  {
   "cell_type": "markdown",
   "id": "14cddd50",
   "metadata": {},
   "source": [
    "#### Вывод по вопросу 3:"
   ]
  },
  {
   "cell_type": "markdown",
   "id": "79bf4ae5",
   "metadata": {},
   "source": [
    "В абсолютных цифрах разница между просрочкой в зависимости от группы доходов имелась, но сильно выделяла две категории ('D' и 'B') по сравнению с остальными. \n",
    "\n",
    "При переводе соответствующих значений в проценты по сравнению с общим количеством клиентов в соответствующей группе, данные изменились. Выяснилось, что реже всего просрочку допускают клиенты с относительно низкими доходами (категория 'D') и лица, с доходами выше среднего (категория 'B').\n",
    "\n",
    "Чаще всего просрочку допускают лица с самыми низкими доходами (категория 'E')."
   ]
  },
  {
   "cell_type": "markdown",
   "id": "db691402",
   "metadata": {},
   "source": [
    "#### Вопрос 4: Как разные цели кредита влияют на его возврат в срок?"
   ]
  },
  {
   "cell_type": "markdown",
   "id": "54264d16",
   "metadata": {},
   "source": [
    "Для проверки данной гипотезы создадим сводную таблицу с данными по соответствующим значениям."
   ]
  },
  {
   "cell_type": "code",
   "execution_count": 82,
   "id": "1dfae27b",
   "metadata": {},
   "outputs": [],
   "source": [
    "table_purpose = df.pivot_table(index=['purpose_category'], values='debt', aggfunc={'debt' : 'sum'}) \\\n",
    "    .reset_index() \\\n",
    "    .rename(columns={'debt' : 'amount_debt_delay'})"
   ]
  },
  {
   "cell_type": "code",
   "execution_count": 83,
   "id": "32936ac8",
   "metadata": {},
   "outputs": [
    {
     "data": {
      "text/html": [
       "<div>\n",
       "<style scoped>\n",
       "    .dataframe tbody tr th:only-of-type {\n",
       "        vertical-align: middle;\n",
       "    }\n",
       "\n",
       "    .dataframe tbody tr th {\n",
       "        vertical-align: top;\n",
       "    }\n",
       "\n",
       "    .dataframe thead th {\n",
       "        text-align: right;\n",
       "    }\n",
       "</style>\n",
       "<table border=\"1\" class=\"dataframe\">\n",
       "  <thead>\n",
       "    <tr style=\"text-align: right;\">\n",
       "      <th></th>\n",
       "      <th>purpose_category</th>\n",
       "      <th>amount_debt_delay</th>\n",
       "    </tr>\n",
       "  </thead>\n",
       "  <tbody>\n",
       "    <tr>\n",
       "      <td>1</td>\n",
       "      <td>операции с недвижимостью</td>\n",
       "      <td>782</td>\n",
       "    </tr>\n",
       "    <tr>\n",
       "      <td>0</td>\n",
       "      <td>операции с автомобилем</td>\n",
       "      <td>403</td>\n",
       "    </tr>\n",
       "    <tr>\n",
       "      <td>2</td>\n",
       "      <td>получение образования</td>\n",
       "      <td>370</td>\n",
       "    </tr>\n",
       "    <tr>\n",
       "      <td>3</td>\n",
       "      <td>проведение свадьбы</td>\n",
       "      <td>186</td>\n",
       "    </tr>\n",
       "  </tbody>\n",
       "</table>\n",
       "</div>"
      ],
      "text/plain": [
       "           purpose_category  amount_debt_delay\n",
       "1  операции с недвижимостью                782\n",
       "0    операции с автомобилем                403\n",
       "2     получение образования                370\n",
       "3        проведение свадьбы                186"
      ]
     },
     "execution_count": 83,
     "metadata": {},
     "output_type": "execute_result"
    }
   ],
   "source": [
    "# отсортируем получившийся результат по столбцу с количеством просрочек\n",
    "table_purpose.sort_values(by='amount_debt_delay', ascending=False)"
   ]
  },
  {
   "cell_type": "markdown",
   "id": "a717ba2c",
   "metadata": {},
   "source": [
    "Присоединим столбец с данными об общем числе клиентов и посчитаем процентное соотношение просрочек в каждой группе к общему числу клиентов."
   ]
  },
  {
   "cell_type": "code",
   "execution_count": 84,
   "id": "31ae00ad",
   "metadata": {},
   "outputs": [],
   "source": [
    "table_purpose_full = df.groupby('purpose_category', as_index=False) \\\n",
    "    .agg({'gender' : 'count'}) \\\n",
    "    .rename(columns={'gender' : 'all_client_purpose'})"
   ]
  },
  {
   "cell_type": "code",
   "execution_count": 85,
   "id": "7d5514e0",
   "metadata": {},
   "outputs": [],
   "source": [
    "# присоединим таблицу с количеством клиентов по соответствующей группе дохода\n",
    "table_purpose = table_purpose.merge(table_purpose_full, how='inner', on='purpose_category')"
   ]
  },
  {
   "cell_type": "code",
   "execution_count": 86,
   "id": "861b1d16",
   "metadata": {},
   "outputs": [],
   "source": [
    "# добавим столбец с процентным соотношением числа клиентов с просрочками \n",
    "# к общему числу клиентов по соответствующей группе дохода\n",
    "table_purpose['procent_debt'] = (table_purpose['amount_debt_delay'] / table_purpose['all_client_purpose'] * 100).round(2)"
   ]
  },
  {
   "cell_type": "code",
   "execution_count": 87,
   "id": "ed06149d",
   "metadata": {},
   "outputs": [
    {
     "data": {
      "text/html": [
       "<div>\n",
       "<style scoped>\n",
       "    .dataframe tbody tr th:only-of-type {\n",
       "        vertical-align: middle;\n",
       "    }\n",
       "\n",
       "    .dataframe tbody tr th {\n",
       "        vertical-align: top;\n",
       "    }\n",
       "\n",
       "    .dataframe thead th {\n",
       "        text-align: right;\n",
       "    }\n",
       "</style>\n",
       "<table border=\"1\" class=\"dataframe\">\n",
       "  <thead>\n",
       "    <tr style=\"text-align: right;\">\n",
       "      <th></th>\n",
       "      <th>purpose_category</th>\n",
       "      <th>amount_debt_delay</th>\n",
       "      <th>all_client_purpose</th>\n",
       "      <th>procent_debt</th>\n",
       "    </tr>\n",
       "  </thead>\n",
       "  <tbody>\n",
       "    <tr>\n",
       "      <td>0</td>\n",
       "      <td>операции с автомобилем</td>\n",
       "      <td>403</td>\n",
       "      <td>4308</td>\n",
       "      <td>9.35</td>\n",
       "    </tr>\n",
       "    <tr>\n",
       "      <td>2</td>\n",
       "      <td>получение образования</td>\n",
       "      <td>370</td>\n",
       "      <td>4014</td>\n",
       "      <td>9.22</td>\n",
       "    </tr>\n",
       "    <tr>\n",
       "      <td>3</td>\n",
       "      <td>проведение свадьбы</td>\n",
       "      <td>186</td>\n",
       "      <td>2335</td>\n",
       "      <td>7.97</td>\n",
       "    </tr>\n",
       "    <tr>\n",
       "      <td>1</td>\n",
       "      <td>операции с недвижимостью</td>\n",
       "      <td>782</td>\n",
       "      <td>10813</td>\n",
       "      <td>7.23</td>\n",
       "    </tr>\n",
       "  </tbody>\n",
       "</table>\n",
       "</div>"
      ],
      "text/plain": [
       "           purpose_category  amount_debt_delay  all_client_purpose  \\\n",
       "0    операции с автомобилем                403                4308   \n",
       "2     получение образования                370                4014   \n",
       "3        проведение свадьбы                186                2335   \n",
       "1  операции с недвижимостью                782               10813   \n",
       "\n",
       "   procent_debt  \n",
       "0          9.35  \n",
       "2          9.22  \n",
       "3          7.97  \n",
       "1          7.23  "
      ]
     },
     "execution_count": 87,
     "metadata": {},
     "output_type": "execute_result"
    }
   ],
   "source": [
    "# сделаем сортировку по процентному соотношению и выведем на экран\n",
    "table_purpose.sort_values(by='procent_debt', ascending=False)"
   ]
  },
  {
   "cell_type": "markdown",
   "id": "280cf2be",
   "metadata": {},
   "source": [
    "#### Вывод по вопросу 4:"
   ]
  },
  {
   "cell_type": "markdown",
   "id": "6a36cfe0",
   "metadata": {},
   "source": [
    "В абсолютных цифрах разница между просрочкой в зависимости от цели кредита имелась, но сильно выделяла категорию клиентов с операциями с недвижимостью по сравнению с остальными. \n",
    "\n",
    "При переводе соответствующих значений в проценты по сравнению с общим количеством клиентов в соответствующей группе, выяснилось, что клиенты, которые берут кредит для проведения операций с недвижимостью реже по сравнению с остальными категориями допускают просрочку.\n",
    "\n",
    "Чаще всего просрочку допускают клиенты, которые берут кредит на операции с автомобилем и получение образования."
   ]
  },
  {
   "cell_type": "markdown",
   "id": "e4b304c5",
   "metadata": {},
   "source": [
    "## Общий вывод:"
   ]
  },
  {
   "cell_type": "markdown",
   "id": "9803b69e",
   "metadata": {},
   "source": [
    "Мы проверили 4 гипотезы, проведя соответствующее исследование, в ходе которого установили, что исходя из предоставленных данных, показатели отсутствия просрочки в среднем лучше у лиц обладающих следующими признаками:\n",
    "- состоящими или ранее состоявшими в брачных отношениях;\n",
    "- не имеющими на иждивении детей;\n",
    "- имеющими относительно низкие доходы (от 30 001 до 50 000) или доходы выше среднего (от 200 001 до 1 000 000);\n",
    "- целью получения кредита у которых является проведение операций с недвижимостью (покупка/ремонт/строительство и т.п.).\n",
    "\n",
    "Указанные сведения можно принять во внимание при корректировке скорринговой модели принятия решения о выдаче кредита."
   ]
  }
 ],
 "metadata": {
  "ExecuteTimeLog": [
   {
    "duration": 563,
    "start_time": "2022-02-10T07:23:07.174Z"
   },
   {
    "duration": 49,
    "start_time": "2022-02-10T07:24:39.863Z"
   },
   {
    "duration": 18,
    "start_time": "2022-02-10T07:24:47.908Z"
   },
   {
    "duration": 8,
    "start_time": "2022-02-10T07:25:49.576Z"
   },
   {
    "duration": 4,
    "start_time": "2022-02-10T07:25:50.949Z"
   },
   {
    "duration": 673,
    "start_time": "2022-02-10T07:25:51.994Z"
   },
   {
    "duration": 7,
    "start_time": "2022-02-10T07:26:11.880Z"
   },
   {
    "duration": 23723,
    "start_time": "2022-02-10T07:26:20.118Z"
   },
   {
    "duration": 7,
    "start_time": "2022-02-10T07:26:43.842Z"
   },
   {
    "duration": 4,
    "start_time": "2022-02-10T07:29:08.432Z"
   },
   {
    "duration": 23275,
    "start_time": "2022-02-10T07:29:22.115Z"
   },
   {
    "duration": 3,
    "start_time": "2022-02-10T07:48:37.766Z"
   },
   {
    "duration": 637,
    "start_time": "2022-02-10T07:59:59.681Z"
   },
   {
    "duration": 74,
    "start_time": "2022-02-10T08:01:14.748Z"
   },
   {
    "duration": 71,
    "start_time": "2022-02-10T08:08:33.121Z"
   },
   {
    "duration": 8,
    "start_time": "2022-02-10T08:09:13.208Z"
   },
   {
    "duration": 4,
    "start_time": "2022-02-10T08:09:17.727Z"
   },
   {
    "duration": 48,
    "start_time": "2022-02-10T08:09:17.733Z"
   },
   {
    "duration": 13,
    "start_time": "2022-02-10T08:09:17.784Z"
   },
   {
    "duration": 19,
    "start_time": "2022-02-10T08:09:17.799Z"
   },
   {
    "duration": 33,
    "start_time": "2022-02-10T08:09:17.820Z"
   },
   {
    "duration": 9,
    "start_time": "2022-02-10T08:09:17.855Z"
   },
   {
    "duration": 10,
    "start_time": "2022-02-10T08:09:17.866Z"
   },
   {
    "duration": 6,
    "start_time": "2022-02-10T08:09:18.444Z"
   },
   {
    "duration": 40,
    "start_time": "2022-02-10T08:09:57.974Z"
   },
   {
    "duration": 11,
    "start_time": "2022-02-10T08:10:04.438Z"
   },
   {
    "duration": 7,
    "start_time": "2022-02-10T08:12:14.904Z"
   },
   {
    "duration": 15,
    "start_time": "2022-02-10T08:12:37.485Z"
   },
   {
    "duration": 4,
    "start_time": "2022-02-10T08:13:07.285Z"
   },
   {
    "duration": 47,
    "start_time": "2022-02-10T08:13:07.291Z"
   },
   {
    "duration": 13,
    "start_time": "2022-02-10T08:13:07.340Z"
   },
   {
    "duration": 12,
    "start_time": "2022-02-10T08:13:07.355Z"
   },
   {
    "duration": 30,
    "start_time": "2022-02-10T08:13:07.369Z"
   },
   {
    "duration": 26,
    "start_time": "2022-02-10T08:13:07.401Z"
   },
   {
    "duration": 11,
    "start_time": "2022-02-10T08:13:07.429Z"
   },
   {
    "duration": 12,
    "start_time": "2022-02-10T08:13:07.442Z"
   },
   {
    "duration": 8,
    "start_time": "2022-02-10T08:13:07.456Z"
   },
   {
    "duration": 70,
    "start_time": "2022-02-10T08:13:07.466Z"
   },
   {
    "duration": 9,
    "start_time": "2022-02-10T08:13:07.538Z"
   },
   {
    "duration": 31,
    "start_time": "2022-02-10T08:13:07.549Z"
   },
   {
    "duration": 6,
    "start_time": "2022-02-10T08:13:07.582Z"
   },
   {
    "duration": 38,
    "start_time": "2022-02-10T08:13:07.589Z"
   },
   {
    "duration": 5,
    "start_time": "2022-02-10T08:13:07.629Z"
   },
   {
    "duration": 24,
    "start_time": "2022-02-10T08:13:19.078Z"
   },
   {
    "duration": 22,
    "start_time": "2022-02-10T08:14:07.440Z"
   },
   {
    "duration": 3,
    "start_time": "2022-02-10T08:14:11.923Z"
   },
   {
    "duration": 9,
    "start_time": "2022-02-10T08:14:13.004Z"
   },
   {
    "duration": 4,
    "start_time": "2022-02-10T08:14:50.116Z"
   },
   {
    "duration": 313,
    "start_time": "2022-02-10T08:33:18.368Z"
   },
   {
    "duration": 12,
    "start_time": "2022-02-10T08:33:20.925Z"
   },
   {
    "duration": 4,
    "start_time": "2022-02-10T08:33:21.658Z"
   },
   {
    "duration": 4,
    "start_time": "2022-02-10T08:33:26.473Z"
   },
   {
    "duration": 4,
    "start_time": "2022-02-10T08:33:49.518Z"
   },
   {
    "duration": 4,
    "start_time": "2022-02-10T08:33:54.298Z"
   },
   {
    "duration": 34,
    "start_time": "2022-02-10T08:34:09.324Z"
   },
   {
    "duration": 10,
    "start_time": "2022-02-10T08:34:20.416Z"
   },
   {
    "duration": 4,
    "start_time": "2022-02-10T08:34:26.077Z"
   },
   {
    "duration": 64,
    "start_time": "2022-02-10T08:34:26.083Z"
   },
   {
    "duration": 14,
    "start_time": "2022-02-10T08:34:26.149Z"
   },
   {
    "duration": 29,
    "start_time": "2022-02-10T08:34:26.165Z"
   },
   {
    "duration": 42,
    "start_time": "2022-02-10T08:34:26.195Z"
   },
   {
    "duration": 9,
    "start_time": "2022-02-10T08:34:26.239Z"
   },
   {
    "duration": 23,
    "start_time": "2022-02-10T08:34:26.251Z"
   },
   {
    "duration": 15,
    "start_time": "2022-02-10T08:34:26.276Z"
   },
   {
    "duration": 18,
    "start_time": "2022-02-10T08:34:26.292Z"
   },
   {
    "duration": 53,
    "start_time": "2022-02-10T08:34:26.311Z"
   },
   {
    "duration": 9,
    "start_time": "2022-02-10T08:34:26.366Z"
   },
   {
    "duration": 42,
    "start_time": "2022-02-10T08:34:26.377Z"
   },
   {
    "duration": 5,
    "start_time": "2022-02-10T08:34:26.420Z"
   },
   {
    "duration": 23,
    "start_time": "2022-02-10T08:34:26.427Z"
   },
   {
    "duration": 6,
    "start_time": "2022-02-10T08:34:26.451Z"
   },
   {
    "duration": 31,
    "start_time": "2022-02-10T08:34:26.459Z"
   },
   {
    "duration": 4,
    "start_time": "2022-02-10T08:34:26.492Z"
   },
   {
    "duration": 23,
    "start_time": "2022-02-10T08:34:26.497Z"
   },
   {
    "duration": 7,
    "start_time": "2022-02-10T08:34:26.522Z"
   },
   {
    "duration": 5,
    "start_time": "2022-02-10T08:34:26.530Z"
   },
   {
    "duration": 5,
    "start_time": "2022-02-10T08:34:26.536Z"
   },
   {
    "duration": 6,
    "start_time": "2022-02-10T08:34:26.543Z"
   },
   {
    "duration": 10,
    "start_time": "2022-02-10T08:34:26.550Z"
   },
   {
    "duration": 60,
    "start_time": "2022-02-10T08:34:26.562Z"
   },
   {
    "duration": 10,
    "start_time": "2022-02-10T08:34:31.342Z"
   },
   {
    "duration": 1552,
    "start_time": "2022-02-10T08:35:58.618Z"
   },
   {
    "duration": 5,
    "start_time": "2022-02-10T08:36:41.659Z"
   },
   {
    "duration": 7,
    "start_time": "2022-02-10T08:37:01.394Z"
   },
   {
    "duration": 5,
    "start_time": "2022-02-10T08:37:12.137Z"
   },
   {
    "duration": 4,
    "start_time": "2022-02-10T08:40:15.280Z"
   },
   {
    "duration": 58,
    "start_time": "2022-02-10T08:40:15.286Z"
   },
   {
    "duration": 19,
    "start_time": "2022-02-10T08:40:15.347Z"
   },
   {
    "duration": 17,
    "start_time": "2022-02-10T08:40:15.369Z"
   },
   {
    "duration": 62,
    "start_time": "2022-02-10T08:40:15.388Z"
   },
   {
    "duration": 10,
    "start_time": "2022-02-10T08:40:15.452Z"
   },
   {
    "duration": 25,
    "start_time": "2022-02-10T08:40:15.465Z"
   },
   {
    "duration": 8,
    "start_time": "2022-02-10T08:40:15.493Z"
   },
   {
    "duration": 21,
    "start_time": "2022-02-10T08:40:15.503Z"
   },
   {
    "duration": 42,
    "start_time": "2022-02-10T08:40:15.526Z"
   },
   {
    "duration": 10,
    "start_time": "2022-02-10T08:40:15.570Z"
   },
   {
    "duration": 60,
    "start_time": "2022-02-10T08:40:15.582Z"
   },
   {
    "duration": 5,
    "start_time": "2022-02-10T08:40:15.644Z"
   },
   {
    "duration": 17,
    "start_time": "2022-02-10T08:40:15.651Z"
   },
   {
    "duration": 6,
    "start_time": "2022-02-10T08:40:15.670Z"
   },
   {
    "duration": 48,
    "start_time": "2022-02-10T08:40:15.677Z"
   },
   {
    "duration": 3,
    "start_time": "2022-02-10T08:40:15.727Z"
   },
   {
    "duration": 15,
    "start_time": "2022-02-10T08:40:15.732Z"
   },
   {
    "duration": 7,
    "start_time": "2022-02-10T08:40:15.750Z"
   },
   {
    "duration": 5,
    "start_time": "2022-02-10T08:40:15.759Z"
   },
   {
    "duration": 14,
    "start_time": "2022-02-10T08:40:15.766Z"
   },
   {
    "duration": 19,
    "start_time": "2022-02-10T08:40:15.782Z"
   },
   {
    "duration": 61,
    "start_time": "2022-02-10T08:40:15.803Z"
   },
   {
    "duration": 43,
    "start_time": "2022-02-10T08:40:15.866Z"
   },
   {
    "duration": 8,
    "start_time": "2022-02-10T08:40:15.911Z"
   },
   {
    "duration": 13,
    "start_time": "2022-02-10T08:40:15.921Z"
   },
   {
    "duration": 16,
    "start_time": "2022-02-10T08:40:15.935Z"
   },
   {
    "duration": 17,
    "start_time": "2022-02-10T08:40:15.953Z"
   },
   {
    "duration": 35,
    "start_time": "2022-02-10T08:40:15.971Z"
   },
   {
    "duration": 37,
    "start_time": "2022-02-10T08:40:16.008Z"
   },
   {
    "duration": 23,
    "start_time": "2022-02-10T08:40:16.048Z"
   },
   {
    "duration": 15,
    "start_time": "2022-02-10T08:40:16.276Z"
   },
   {
    "duration": 33,
    "start_time": "2022-02-10T08:40:16.293Z"
   },
   {
    "duration": 8,
    "start_time": "2022-02-10T08:40:16.683Z"
   },
   {
    "duration": 75,
    "start_time": "2022-02-10T08:40:56.862Z"
   },
   {
    "duration": 4,
    "start_time": "2022-02-10T08:42:13.891Z"
   },
   {
    "duration": 63,
    "start_time": "2022-02-10T08:42:13.897Z"
   },
   {
    "duration": 13,
    "start_time": "2022-02-10T08:42:13.963Z"
   },
   {
    "duration": 33,
    "start_time": "2022-02-10T08:42:13.978Z"
   },
   {
    "duration": 45,
    "start_time": "2022-02-10T08:42:14.014Z"
   },
   {
    "duration": 12,
    "start_time": "2022-02-10T08:42:14.061Z"
   },
   {
    "duration": 17,
    "start_time": "2022-02-10T08:42:14.075Z"
   },
   {
    "duration": 5,
    "start_time": "2022-02-10T08:42:14.095Z"
   },
   {
    "duration": 22,
    "start_time": "2022-02-10T08:42:14.101Z"
   },
   {
    "duration": 40,
    "start_time": "2022-02-10T08:42:14.124Z"
   },
   {
    "duration": 11,
    "start_time": "2022-02-10T08:42:14.166Z"
   },
   {
    "duration": 49,
    "start_time": "2022-02-10T08:42:14.178Z"
   },
   {
    "duration": 6,
    "start_time": "2022-02-10T08:42:14.228Z"
   },
   {
    "duration": 19,
    "start_time": "2022-02-10T08:42:14.236Z"
   },
   {
    "duration": 6,
    "start_time": "2022-02-10T08:42:14.257Z"
   },
   {
    "duration": 33,
    "start_time": "2022-02-10T08:42:14.265Z"
   },
   {
    "duration": 4,
    "start_time": "2022-02-10T08:42:14.318Z"
   },
   {
    "duration": 13,
    "start_time": "2022-02-10T08:42:14.323Z"
   },
   {
    "duration": 7,
    "start_time": "2022-02-10T08:42:14.340Z"
   },
   {
    "duration": 3,
    "start_time": "2022-02-10T08:42:14.350Z"
   },
   {
    "duration": 11,
    "start_time": "2022-02-10T08:42:14.355Z"
   },
   {
    "duration": 7,
    "start_time": "2022-02-10T08:42:14.367Z"
   },
   {
    "duration": 8,
    "start_time": "2022-02-10T08:42:14.376Z"
   },
   {
    "duration": 61,
    "start_time": "2022-02-10T08:42:14.386Z"
   },
   {
    "duration": 10,
    "start_time": "2022-02-10T08:42:14.449Z"
   },
   {
    "duration": 12,
    "start_time": "2022-02-10T08:42:14.460Z"
   },
   {
    "duration": 20,
    "start_time": "2022-02-10T08:42:14.473Z"
   },
   {
    "duration": 5,
    "start_time": "2022-02-10T08:42:14.495Z"
   },
   {
    "duration": 36,
    "start_time": "2022-02-10T08:42:14.502Z"
   },
   {
    "duration": 29,
    "start_time": "2022-02-10T08:42:14.540Z"
   },
   {
    "duration": 11,
    "start_time": "2022-02-10T08:42:14.571Z"
   },
   {
    "duration": 32,
    "start_time": "2022-02-10T08:42:14.584Z"
   },
   {
    "duration": 32,
    "start_time": "2022-02-10T08:42:14.617Z"
   },
   {
    "duration": 16,
    "start_time": "2022-02-10T08:42:14.651Z"
   },
   {
    "duration": 46,
    "start_time": "2022-02-10T08:42:14.670Z"
   },
   {
    "duration": 7,
    "start_time": "2022-02-10T08:42:14.717Z"
   },
   {
    "duration": 32,
    "start_time": "2022-02-10T08:42:14.727Z"
   },
   {
    "duration": 33,
    "start_time": "2022-02-10T08:42:14.761Z"
   },
   {
    "duration": 27,
    "start_time": "2022-02-10T08:42:14.796Z"
   },
   {
    "duration": 13,
    "start_time": "2022-02-10T08:42:14.825Z"
   },
   {
    "duration": 19,
    "start_time": "2022-02-10T08:42:14.840Z"
   },
   {
    "duration": 4,
    "start_time": "2022-02-10T08:48:55.912Z"
   },
   {
    "duration": 10,
    "start_time": "2022-02-10T08:48:57.091Z"
   },
   {
    "duration": 7,
    "start_time": "2022-02-10T08:48:57.718Z"
   },
   {
    "duration": 5,
    "start_time": "2022-02-10T08:48:58.440Z"
   },
   {
    "duration": 9,
    "start_time": "2022-02-10T08:48:59.271Z"
   },
   {
    "duration": 7,
    "start_time": "2022-02-10T08:48:59.976Z"
   },
   {
    "duration": 14,
    "start_time": "2022-02-10T08:49:03.093Z"
   },
   {
    "duration": 3,
    "start_time": "2022-02-10T08:49:32.051Z"
   },
   {
    "duration": 3,
    "start_time": "2022-02-10T08:49:32.817Z"
   },
   {
    "duration": 26355,
    "start_time": "2022-02-10T08:49:33.824Z"
   },
   {
    "duration": 9,
    "start_time": "2022-02-10T08:50:00.183Z"
   },
   {
    "duration": 3053,
    "start_time": "2022-02-10T08:50:11.843Z"
   },
   {
    "duration": 24,
    "start_time": "2022-02-10T08:50:14.899Z"
   },
   {
    "duration": 222,
    "start_time": "2022-02-10T08:50:55.029Z"
   },
   {
    "duration": 2629,
    "start_time": "2022-02-10T08:50:56.319Z"
   },
   {
    "duration": 4,
    "start_time": "2022-02-10T08:50:58.950Z"
   },
   {
    "duration": 21,
    "start_time": "2022-02-10T08:50:58.956Z"
   },
   {
    "duration": 3303,
    "start_time": "2022-02-10T08:50:58.979Z"
   },
   {
    "duration": 8,
    "start_time": "2022-02-10T08:51:02.284Z"
   },
   {
    "duration": 1930,
    "start_time": "2022-02-10T08:57:49.971Z"
   },
   {
    "duration": 4,
    "start_time": "2022-02-10T08:57:51.903Z"
   },
   {
    "duration": 8,
    "start_time": "2022-02-10T08:59:49.749Z"
   },
   {
    "duration": 4,
    "start_time": "2022-02-10T09:00:08.901Z"
   },
   {
    "duration": 1139,
    "start_time": "2022-02-10T09:00:10.190Z"
   },
   {
    "duration": 946,
    "start_time": "2022-02-10T09:00:10.386Z"
   },
   {
    "duration": 4,
    "start_time": "2022-02-10T09:00:22.142Z"
   },
   {
    "duration": 3081,
    "start_time": "2022-02-10T09:00:23.097Z"
   },
   {
    "duration": 8,
    "start_time": "2022-02-10T09:00:26.180Z"
   },
   {
    "duration": 2,
    "start_time": "2022-02-10T09:03:21.481Z"
   },
   {
    "duration": 2,
    "start_time": "2022-02-10T09:04:01.410Z"
   },
   {
    "duration": 3,
    "start_time": "2022-02-10T09:04:06.519Z"
   },
   {
    "duration": 2,
    "start_time": "2022-02-10T09:04:06.903Z"
   },
   {
    "duration": 3,
    "start_time": "2022-02-10T09:04:07.173Z"
   },
   {
    "duration": 3,
    "start_time": "2022-02-10T09:04:07.430Z"
   },
   {
    "duration": 2,
    "start_time": "2022-02-10T09:04:07.814Z"
   },
   {
    "duration": 4,
    "start_time": "2022-02-10T09:04:24.478Z"
   },
   {
    "duration": 45,
    "start_time": "2022-02-10T09:04:24.497Z"
   },
   {
    "duration": 12,
    "start_time": "2022-02-10T09:04:24.544Z"
   },
   {
    "duration": 17,
    "start_time": "2022-02-10T09:04:24.559Z"
   },
   {
    "duration": 52,
    "start_time": "2022-02-10T09:04:24.578Z"
   },
   {
    "duration": 9,
    "start_time": "2022-02-10T09:04:24.631Z"
   },
   {
    "duration": 11,
    "start_time": "2022-02-10T09:04:24.642Z"
   },
   {
    "duration": 8,
    "start_time": "2022-02-10T09:04:24.655Z"
   },
   {
    "duration": 14,
    "start_time": "2022-02-10T09:04:24.664Z"
   },
   {
    "duration": 72,
    "start_time": "2022-02-10T09:04:24.681Z"
   },
   {
    "duration": 9,
    "start_time": "2022-02-10T09:04:24.755Z"
   },
   {
    "duration": 35,
    "start_time": "2022-02-10T09:04:24.766Z"
   },
   {
    "duration": 19,
    "start_time": "2022-02-10T09:04:24.803Z"
   },
   {
    "duration": 13,
    "start_time": "2022-02-10T09:04:24.824Z"
   },
   {
    "duration": 6,
    "start_time": "2022-02-10T09:04:24.839Z"
   },
   {
    "duration": 33,
    "start_time": "2022-02-10T09:04:24.846Z"
   },
   {
    "duration": 4,
    "start_time": "2022-02-10T09:04:24.880Z"
   },
   {
    "duration": 39,
    "start_time": "2022-02-10T09:04:24.885Z"
   },
   {
    "duration": 13,
    "start_time": "2022-02-10T09:04:24.925Z"
   },
   {
    "duration": 10,
    "start_time": "2022-02-10T09:04:24.939Z"
   },
   {
    "duration": 7,
    "start_time": "2022-02-10T09:04:24.951Z"
   },
   {
    "duration": 9,
    "start_time": "2022-02-10T09:04:24.959Z"
   },
   {
    "duration": 10,
    "start_time": "2022-02-10T09:04:24.970Z"
   },
   {
    "duration": 42,
    "start_time": "2022-02-10T09:04:24.981Z"
   },
   {
    "duration": 9,
    "start_time": "2022-02-10T09:04:25.025Z"
   },
   {
    "duration": 10,
    "start_time": "2022-02-10T09:04:25.036Z"
   },
   {
    "duration": 11,
    "start_time": "2022-02-10T09:04:25.048Z"
   },
   {
    "duration": 10,
    "start_time": "2022-02-10T09:04:25.064Z"
   },
   {
    "duration": 23,
    "start_time": "2022-02-10T09:04:25.076Z"
   },
   {
    "duration": 33,
    "start_time": "2022-02-10T09:04:25.101Z"
   },
   {
    "duration": 8,
    "start_time": "2022-02-10T09:04:25.135Z"
   },
   {
    "duration": 14,
    "start_time": "2022-02-10T09:04:25.144Z"
   },
   {
    "duration": 12,
    "start_time": "2022-02-10T09:04:25.160Z"
   },
   {
    "duration": 10,
    "start_time": "2022-02-10T09:04:25.174Z"
   },
   {
    "duration": 45,
    "start_time": "2022-02-10T09:04:25.186Z"
   },
   {
    "duration": 7,
    "start_time": "2022-02-10T09:04:25.233Z"
   },
   {
    "duration": 9,
    "start_time": "2022-02-10T09:04:25.242Z"
   },
   {
    "duration": 17,
    "start_time": "2022-02-10T09:04:25.253Z"
   },
   {
    "duration": 19,
    "start_time": "2022-02-10T09:04:25.272Z"
   },
   {
    "duration": 29,
    "start_time": "2022-02-10T09:04:25.293Z"
   },
   {
    "duration": 19,
    "start_time": "2022-02-10T09:04:25.324Z"
   },
   {
    "duration": 8,
    "start_time": "2022-02-10T09:04:25.345Z"
   },
   {
    "duration": 12,
    "start_time": "2022-02-10T09:04:25.355Z"
   },
   {
    "duration": 7,
    "start_time": "2022-02-10T09:04:25.369Z"
   },
   {
    "duration": 13,
    "start_time": "2022-02-10T09:04:25.378Z"
   },
   {
    "duration": 25,
    "start_time": "2022-02-10T09:04:25.393Z"
   },
   {
    "duration": 7,
    "start_time": "2022-02-10T09:04:25.420Z"
   },
   {
    "duration": 18,
    "start_time": "2022-02-10T09:04:25.429Z"
   },
   {
    "duration": 42,
    "start_time": "2022-02-10T09:04:25.449Z"
   },
   {
    "duration": 2677,
    "start_time": "2022-02-10T09:04:25.493Z"
   },
   {
    "duration": 5,
    "start_time": "2022-02-10T09:04:28.172Z"
   },
   {
    "duration": 4,
    "start_time": "2022-02-10T09:04:28.179Z"
   },
   {
    "duration": 3046,
    "start_time": "2022-02-10T09:04:28.185Z"
   },
   {
    "duration": 8,
    "start_time": "2022-02-10T09:04:31.234Z"
   },
   {
    "duration": 2864,
    "start_time": "2022-02-10T09:06:23.286Z"
   },
   {
    "duration": 8,
    "start_time": "2022-02-10T09:06:41.610Z"
   },
   {
    "duration": 40,
    "start_time": "2022-02-10T09:14:06.867Z"
   },
   {
    "duration": 87,
    "start_time": "2022-02-10T10:12:20.963Z"
   },
   {
    "duration": 250,
    "start_time": "2022-02-10T10:12:25.036Z"
   },
   {
    "duration": 3,
    "start_time": "2022-02-10T10:13:26.232Z"
   },
   {
    "duration": 3,
    "start_time": "2022-02-10T10:13:58.251Z"
   },
   {
    "duration": 3,
    "start_time": "2022-02-10T10:13:59.277Z"
   },
   {
    "duration": 245,
    "start_time": "2022-02-10T10:13:59.907Z"
   },
   {
    "duration": 239,
    "start_time": "2022-02-10T10:14:04.501Z"
   },
   {
    "duration": 4,
    "start_time": "2022-02-10T10:16:02.387Z"
   },
   {
    "duration": 322,
    "start_time": "2022-02-10T10:16:04.232Z"
   },
   {
    "duration": 3,
    "start_time": "2022-02-10T10:17:20.893Z"
   },
   {
    "duration": 10,
    "start_time": "2022-02-10T10:17:22.094Z"
   },
   {
    "duration": 17,
    "start_time": "2022-02-10T10:17:29.919Z"
   },
   {
    "duration": 8,
    "start_time": "2022-02-10T10:19:04.923Z"
   },
   {
    "duration": 15,
    "start_time": "2022-02-10T10:19:59.669Z"
   },
   {
    "duration": 14,
    "start_time": "2022-02-10T10:20:10.203Z"
   },
   {
    "duration": 237,
    "start_time": "2022-02-10T10:20:28.695Z"
   },
   {
    "duration": 16,
    "start_time": "2022-02-10T10:20:34.834Z"
   },
   {
    "duration": 16,
    "start_time": "2022-02-10T10:21:00.941Z"
   },
   {
    "duration": 14,
    "start_time": "2022-02-10T10:21:15.889Z"
   },
   {
    "duration": 8,
    "start_time": "2022-02-10T10:22:52.121Z"
   },
   {
    "duration": 16,
    "start_time": "2022-02-10T10:23:01.720Z"
   },
   {
    "duration": 4,
    "start_time": "2022-02-10T10:23:18.025Z"
   },
   {
    "duration": 45,
    "start_time": "2022-02-10T10:23:18.034Z"
   },
   {
    "duration": 14,
    "start_time": "2022-02-10T10:23:18.081Z"
   },
   {
    "duration": 26,
    "start_time": "2022-02-10T10:23:18.097Z"
   },
   {
    "duration": 46,
    "start_time": "2022-02-10T10:23:18.125Z"
   },
   {
    "duration": 11,
    "start_time": "2022-02-10T10:23:18.173Z"
   },
   {
    "duration": 14,
    "start_time": "2022-02-10T10:23:18.187Z"
   },
   {
    "duration": 19,
    "start_time": "2022-02-10T10:23:18.204Z"
   },
   {
    "duration": 20,
    "start_time": "2022-02-10T10:23:18.224Z"
   },
   {
    "duration": 57,
    "start_time": "2022-02-10T10:23:18.246Z"
   },
   {
    "duration": 9,
    "start_time": "2022-02-10T10:23:18.305Z"
   },
   {
    "duration": 55,
    "start_time": "2022-02-10T10:23:18.315Z"
   },
   {
    "duration": 5,
    "start_time": "2022-02-10T10:23:18.372Z"
   },
   {
    "duration": 26,
    "start_time": "2022-02-10T10:23:18.378Z"
   },
   {
    "duration": 14,
    "start_time": "2022-02-10T10:23:18.407Z"
   },
   {
    "duration": 24,
    "start_time": "2022-02-10T10:23:18.423Z"
   },
   {
    "duration": 4,
    "start_time": "2022-02-10T10:23:18.449Z"
   },
   {
    "duration": 16,
    "start_time": "2022-02-10T10:23:18.454Z"
   },
   {
    "duration": 28,
    "start_time": "2022-02-10T10:23:18.472Z"
   },
   {
    "duration": 14,
    "start_time": "2022-02-10T10:23:18.502Z"
   },
   {
    "duration": 26,
    "start_time": "2022-02-10T10:23:18.519Z"
   },
   {
    "duration": 20,
    "start_time": "2022-02-10T10:23:18.547Z"
   },
   {
    "duration": 18,
    "start_time": "2022-02-10T10:23:18.569Z"
   },
   {
    "duration": 33,
    "start_time": "2022-02-10T10:23:18.589Z"
   },
   {
    "duration": 10,
    "start_time": "2022-02-10T10:23:18.623Z"
   },
   {
    "duration": 18,
    "start_time": "2022-02-10T10:23:18.635Z"
   },
   {
    "duration": 19,
    "start_time": "2022-02-10T10:23:18.655Z"
   },
   {
    "duration": 23,
    "start_time": "2022-02-10T10:23:18.676Z"
   },
   {
    "duration": 22,
    "start_time": "2022-02-10T10:23:18.700Z"
   },
   {
    "duration": 15,
    "start_time": "2022-02-10T10:23:18.724Z"
   },
   {
    "duration": 18,
    "start_time": "2022-02-10T10:23:18.741Z"
   },
   {
    "duration": 28,
    "start_time": "2022-02-10T10:23:18.761Z"
   },
   {
    "duration": 15,
    "start_time": "2022-02-10T10:23:18.791Z"
   },
   {
    "duration": 19,
    "start_time": "2022-02-10T10:23:18.808Z"
   },
   {
    "duration": 30,
    "start_time": "2022-02-10T10:23:18.829Z"
   },
   {
    "duration": 10,
    "start_time": "2022-02-10T10:23:18.862Z"
   },
   {
    "duration": 27,
    "start_time": "2022-02-10T10:23:18.875Z"
   },
   {
    "duration": 16,
    "start_time": "2022-02-10T10:23:18.904Z"
   },
   {
    "duration": 24,
    "start_time": "2022-02-10T10:23:18.921Z"
   },
   {
    "duration": 16,
    "start_time": "2022-02-10T10:23:18.947Z"
   },
   {
    "duration": 29,
    "start_time": "2022-02-10T10:23:18.965Z"
   },
   {
    "duration": 9,
    "start_time": "2022-02-10T10:23:18.996Z"
   },
   {
    "duration": 14,
    "start_time": "2022-02-10T10:23:19.007Z"
   },
   {
    "duration": 10,
    "start_time": "2022-02-10T10:23:19.023Z"
   },
   {
    "duration": 15,
    "start_time": "2022-02-10T10:23:19.035Z"
   },
   {
    "duration": 33,
    "start_time": "2022-02-10T10:23:19.051Z"
   },
   {
    "duration": 8,
    "start_time": "2022-02-10T10:23:19.085Z"
   },
   {
    "duration": 17,
    "start_time": "2022-02-10T10:23:19.094Z"
   },
   {
    "duration": 5,
    "start_time": "2022-02-10T10:23:19.113Z"
   },
   {
    "duration": 81,
    "start_time": "2022-02-10T10:23:19.119Z"
   },
   {
    "duration": -3258,
    "start_time": "2022-02-10T10:23:22.460Z"
   },
   {
    "duration": 3,
    "start_time": "2022-02-10T10:23:38.416Z"
   },
   {
    "duration": 9,
    "start_time": "2022-02-10T10:23:39.845Z"
   },
   {
    "duration": 13,
    "start_time": "2022-02-10T10:23:40.847Z"
   },
   {
    "duration": 15,
    "start_time": "2022-02-10T10:23:49.246Z"
   },
   {
    "duration": 6,
    "start_time": "2022-02-10T10:24:06.193Z"
   },
   {
    "duration": 12,
    "start_time": "2022-02-10T10:24:30.967Z"
   },
   {
    "duration": 3,
    "start_time": "2022-02-10T10:24:39.563Z"
   },
   {
    "duration": 5,
    "start_time": "2022-02-10T10:24:41.642Z"
   },
   {
    "duration": 6,
    "start_time": "2022-02-10T10:24:42.283Z"
   },
   {
    "duration": 13,
    "start_time": "2022-02-10T10:24:42.967Z"
   },
   {
    "duration": 4,
    "start_time": "2022-02-10T10:27:37.249Z"
   },
   {
    "duration": 698,
    "start_time": "2022-02-10T10:27:37.745Z"
   },
   {
    "duration": 5,
    "start_time": "2022-02-10T10:27:38.446Z"
   },
   {
    "duration": 4,
    "start_time": "2022-02-10T10:27:38.887Z"
   },
   {
    "duration": 6,
    "start_time": "2022-02-10T10:27:39.492Z"
   },
   {
    "duration": 7,
    "start_time": "2022-02-10T10:27:40.115Z"
   },
   {
    "duration": 7,
    "start_time": "2022-02-10T10:27:57.032Z"
   },
   {
    "duration": 7,
    "start_time": "2022-02-10T10:28:00.336Z"
   },
   {
    "duration": 5,
    "start_time": "2022-02-10T10:28:19.273Z"
   },
   {
    "duration": 63,
    "start_time": "2022-02-10T10:28:19.283Z"
   },
   {
    "duration": 20,
    "start_time": "2022-02-10T10:28:19.349Z"
   },
   {
    "duration": 15,
    "start_time": "2022-02-10T10:28:19.372Z"
   },
   {
    "duration": 89,
    "start_time": "2022-02-10T10:28:19.390Z"
   },
   {
    "duration": 12,
    "start_time": "2022-02-10T10:28:19.481Z"
   },
   {
    "duration": 14,
    "start_time": "2022-02-10T10:28:19.496Z"
   },
   {
    "duration": 7,
    "start_time": "2022-02-10T10:28:19.519Z"
   },
   {
    "duration": 13,
    "start_time": "2022-02-10T10:28:19.528Z"
   },
   {
    "duration": 47,
    "start_time": "2022-02-10T10:28:19.543Z"
   },
   {
    "duration": 13,
    "start_time": "2022-02-10T10:28:19.618Z"
   },
   {
    "duration": 34,
    "start_time": "2022-02-10T10:28:19.633Z"
   },
   {
    "duration": 6,
    "start_time": "2022-02-10T10:28:19.669Z"
   },
   {
    "duration": 50,
    "start_time": "2022-02-10T10:28:19.678Z"
   },
   {
    "duration": 5,
    "start_time": "2022-02-10T10:28:19.730Z"
   },
   {
    "duration": 25,
    "start_time": "2022-02-10T10:28:19.737Z"
   },
   {
    "duration": 3,
    "start_time": "2022-02-10T10:28:19.764Z"
   },
   {
    "duration": 55,
    "start_time": "2022-02-10T10:28:19.769Z"
   },
   {
    "duration": 5,
    "start_time": "2022-02-10T10:28:19.826Z"
   },
   {
    "duration": 8,
    "start_time": "2022-02-10T10:28:19.832Z"
   },
   {
    "duration": 16,
    "start_time": "2022-02-10T10:28:19.841Z"
   },
   {
    "duration": 5,
    "start_time": "2022-02-10T10:28:19.859Z"
   },
   {
    "duration": 10,
    "start_time": "2022-02-10T10:28:19.865Z"
   },
   {
    "duration": 64,
    "start_time": "2022-02-10T10:28:19.877Z"
   },
   {
    "duration": 10,
    "start_time": "2022-02-10T10:28:19.945Z"
   },
   {
    "duration": 6,
    "start_time": "2022-02-10T10:28:19.958Z"
   },
   {
    "duration": 15,
    "start_time": "2022-02-10T10:28:19.965Z"
   },
   {
    "duration": 35,
    "start_time": "2022-02-10T10:28:19.983Z"
   },
   {
    "duration": 16,
    "start_time": "2022-02-10T10:28:20.021Z"
   },
   {
    "duration": 20,
    "start_time": "2022-02-10T10:28:20.039Z"
   },
   {
    "duration": 11,
    "start_time": "2022-02-10T10:28:20.061Z"
   },
   {
    "duration": 48,
    "start_time": "2022-02-10T10:28:20.073Z"
   },
   {
    "duration": 18,
    "start_time": "2022-02-10T10:28:20.124Z"
   },
   {
    "duration": 20,
    "start_time": "2022-02-10T10:28:20.144Z"
   },
   {
    "duration": 34,
    "start_time": "2022-02-10T10:28:20.166Z"
   },
   {
    "duration": 16,
    "start_time": "2022-02-10T10:28:20.202Z"
   },
   {
    "duration": 11,
    "start_time": "2022-02-10T10:28:20.220Z"
   },
   {
    "duration": 35,
    "start_time": "2022-02-10T10:28:20.233Z"
   },
   {
    "duration": 34,
    "start_time": "2022-02-10T10:28:20.270Z"
   },
   {
    "duration": 7,
    "start_time": "2022-02-10T10:28:20.307Z"
   },
   {
    "duration": 14,
    "start_time": "2022-02-10T10:28:20.316Z"
   },
   {
    "duration": 9,
    "start_time": "2022-02-10T10:28:20.332Z"
   },
   {
    "duration": 25,
    "start_time": "2022-02-10T10:28:20.343Z"
   },
   {
    "duration": 20,
    "start_time": "2022-02-10T10:28:20.370Z"
   },
   {
    "duration": 14,
    "start_time": "2022-02-10T10:28:20.391Z"
   },
   {
    "duration": 9,
    "start_time": "2022-02-10T10:28:20.409Z"
   },
   {
    "duration": 13,
    "start_time": "2022-02-10T10:28:20.420Z"
   },
   {
    "duration": 12,
    "start_time": "2022-02-10T10:28:20.434Z"
   },
   {
    "duration": 21,
    "start_time": "2022-02-10T10:28:20.447Z"
   },
   {
    "duration": 21,
    "start_time": "2022-02-10T10:28:20.470Z"
   },
   {
    "duration": 13,
    "start_time": "2022-02-10T10:28:20.492Z"
   },
   {
    "duration": 28,
    "start_time": "2022-02-10T10:28:20.507Z"
   },
   {
    "duration": 20,
    "start_time": "2022-02-10T10:28:20.537Z"
   },
   {
    "duration": 34,
    "start_time": "2022-02-10T10:28:20.559Z"
   },
   {
    "duration": 2660,
    "start_time": "2022-02-10T10:28:20.595Z"
   },
   {
    "duration": 5,
    "start_time": "2022-02-10T10:28:23.257Z"
   },
   {
    "duration": 33,
    "start_time": "2022-02-10T10:28:23.264Z"
   },
   {
    "duration": 3443,
    "start_time": "2022-02-10T10:28:23.299Z"
   },
   {
    "duration": 3249,
    "start_time": "2022-02-10T10:28:30.785Z"
   },
   {
    "duration": 8,
    "start_time": "2022-02-10T10:28:34.036Z"
   },
   {
    "duration": 5,
    "start_time": "2022-02-10T10:33:56.301Z"
   },
   {
    "duration": 235,
    "start_time": "2022-02-10T10:34:46.454Z"
   },
   {
    "duration": 319,
    "start_time": "2022-02-10T10:35:02.032Z"
   },
   {
    "duration": 287,
    "start_time": "2022-02-10T10:35:18.513Z"
   },
   {
    "duration": 232,
    "start_time": "2022-02-10T10:35:27.336Z"
   },
   {
    "duration": 322,
    "start_time": "2022-02-10T10:35:30.989Z"
   },
   {
    "duration": 218,
    "start_time": "2022-02-10T10:35:35.683Z"
   },
   {
    "duration": 291,
    "start_time": "2022-02-10T10:35:43.745Z"
   },
   {
    "duration": 250,
    "start_time": "2022-02-10T10:35:57.656Z"
   },
   {
    "duration": 3,
    "start_time": "2022-02-10T10:37:13.844Z"
   },
   {
    "duration": 10,
    "start_time": "2022-02-10T10:37:16.437Z"
   },
   {
    "duration": 14,
    "start_time": "2022-02-10T10:37:17.044Z"
   },
   {
    "duration": 4,
    "start_time": "2022-02-10T10:37:27.471Z"
   },
   {
    "duration": 85,
    "start_time": "2022-02-10T10:37:27.479Z"
   },
   {
    "duration": 19,
    "start_time": "2022-02-10T10:37:27.567Z"
   },
   {
    "duration": 50,
    "start_time": "2022-02-10T10:37:27.588Z"
   },
   {
    "duration": 54,
    "start_time": "2022-02-10T10:37:27.640Z"
   },
   {
    "duration": 12,
    "start_time": "2022-02-10T10:37:27.696Z"
   },
   {
    "duration": 33,
    "start_time": "2022-02-10T10:37:27.710Z"
   },
   {
    "duration": 16,
    "start_time": "2022-02-10T10:37:27.746Z"
   },
   {
    "duration": 15,
    "start_time": "2022-02-10T10:37:27.765Z"
   },
   {
    "duration": 64,
    "start_time": "2022-02-10T10:37:27.783Z"
   },
   {
    "duration": 12,
    "start_time": "2022-02-10T10:37:27.849Z"
   },
   {
    "duration": 43,
    "start_time": "2022-02-10T10:37:27.863Z"
   },
   {
    "duration": 8,
    "start_time": "2022-02-10T10:37:27.920Z"
   },
   {
    "duration": 23,
    "start_time": "2022-02-10T10:37:27.931Z"
   },
   {
    "duration": 11,
    "start_time": "2022-02-10T10:37:27.956Z"
   },
   {
    "duration": 57,
    "start_time": "2022-02-10T10:37:27.968Z"
   },
   {
    "duration": 3,
    "start_time": "2022-02-10T10:37:28.027Z"
   },
   {
    "duration": 18,
    "start_time": "2022-02-10T10:37:28.032Z"
   },
   {
    "duration": 32,
    "start_time": "2022-02-10T10:37:28.051Z"
   },
   {
    "duration": 19,
    "start_time": "2022-02-10T10:37:28.085Z"
   },
   {
    "duration": 14,
    "start_time": "2022-02-10T10:37:28.106Z"
   },
   {
    "duration": 35,
    "start_time": "2022-02-10T10:37:28.122Z"
   },
   {
    "duration": 23,
    "start_time": "2022-02-10T10:37:28.159Z"
   },
   {
    "duration": 71,
    "start_time": "2022-02-10T10:37:28.187Z"
   },
   {
    "duration": 15,
    "start_time": "2022-02-10T10:37:28.261Z"
   },
   {
    "duration": 28,
    "start_time": "2022-02-10T10:37:28.278Z"
   },
   {
    "duration": 43,
    "start_time": "2022-02-10T10:37:28.308Z"
   },
   {
    "duration": 45,
    "start_time": "2022-02-10T10:37:28.353Z"
   },
   {
    "duration": 52,
    "start_time": "2022-02-10T10:37:28.400Z"
   },
   {
    "duration": 32,
    "start_time": "2022-02-10T10:37:28.454Z"
   },
   {
    "duration": 20,
    "start_time": "2022-02-10T10:37:28.489Z"
   },
   {
    "duration": 44,
    "start_time": "2022-02-10T10:37:28.512Z"
   },
   {
    "duration": 32,
    "start_time": "2022-02-10T10:37:28.559Z"
   },
   {
    "duration": 39,
    "start_time": "2022-02-10T10:37:28.592Z"
   },
   {
    "duration": 43,
    "start_time": "2022-02-10T10:37:28.633Z"
   },
   {
    "duration": 11,
    "start_time": "2022-02-10T10:37:28.678Z"
   },
   {
    "duration": 26,
    "start_time": "2022-02-10T10:37:28.691Z"
   },
   {
    "duration": 34,
    "start_time": "2022-02-10T10:37:28.719Z"
   },
   {
    "duration": 25,
    "start_time": "2022-02-10T10:37:28.755Z"
   },
   {
    "duration": 25,
    "start_time": "2022-02-10T10:37:28.782Z"
   },
   {
    "duration": 39,
    "start_time": "2022-02-10T10:37:28.808Z"
   },
   {
    "duration": 19,
    "start_time": "2022-02-10T10:37:28.849Z"
   },
   {
    "duration": 33,
    "start_time": "2022-02-10T10:37:28.870Z"
   },
   {
    "duration": 22,
    "start_time": "2022-02-10T10:37:28.905Z"
   },
   {
    "duration": 41,
    "start_time": "2022-02-10T10:37:28.929Z"
   },
   {
    "duration": 28,
    "start_time": "2022-02-10T10:37:28.972Z"
   },
   {
    "duration": 41,
    "start_time": "2022-02-10T10:37:29.002Z"
   },
   {
    "duration": 26,
    "start_time": "2022-02-10T10:37:29.045Z"
   },
   {
    "duration": 38,
    "start_time": "2022-02-10T10:37:29.073Z"
   },
   {
    "duration": 29,
    "start_time": "2022-02-10T10:37:29.113Z"
   },
   {
    "duration": 29,
    "start_time": "2022-02-10T10:37:29.144Z"
   },
   {
    "duration": 3,
    "start_time": "2022-02-10T10:37:38.239Z"
   },
   {
    "duration": 10,
    "start_time": "2022-02-10T10:37:38.803Z"
   },
   {
    "duration": 15,
    "start_time": "2022-02-10T10:37:39.409Z"
   },
   {
    "duration": 50,
    "start_time": "2022-02-10T10:37:48.886Z"
   },
   {
    "duration": 2757,
    "start_time": "2022-02-10T10:37:49.716Z"
   },
   {
    "duration": 5,
    "start_time": "2022-02-10T10:37:52.476Z"
   },
   {
    "duration": 18,
    "start_time": "2022-02-10T10:37:52.483Z"
   },
   {
    "duration": 3427,
    "start_time": "2022-02-10T10:37:52.503Z"
   },
   {
    "duration": 8,
    "start_time": "2022-02-10T10:37:55.933Z"
   },
   {
    "duration": 4,
    "start_time": "2022-02-10T10:38:23.931Z"
   },
   {
    "duration": 3102,
    "start_time": "2022-02-10T10:38:25.190Z"
   },
   {
    "duration": 8,
    "start_time": "2022-02-10T10:38:29.960Z"
   },
   {
    "duration": 14,
    "start_time": "2022-02-10T10:46:16.757Z"
   },
   {
    "duration": 4,
    "start_time": "2022-02-10T10:48:22.680Z"
   },
   {
    "duration": 49,
    "start_time": "2022-02-10T10:48:22.692Z"
   },
   {
    "duration": 18,
    "start_time": "2022-02-10T10:48:22.744Z"
   },
   {
    "duration": 19,
    "start_time": "2022-02-10T10:48:22.765Z"
   },
   {
    "duration": 63,
    "start_time": "2022-02-10T10:48:22.786Z"
   },
   {
    "duration": 12,
    "start_time": "2022-02-10T10:48:22.851Z"
   },
   {
    "duration": 12,
    "start_time": "2022-02-10T10:48:22.865Z"
   },
   {
    "duration": 40,
    "start_time": "2022-02-10T10:48:22.880Z"
   },
   {
    "duration": 11,
    "start_time": "2022-02-10T10:48:22.922Z"
   },
   {
    "duration": 43,
    "start_time": "2022-02-10T10:48:22.937Z"
   },
   {
    "duration": 46,
    "start_time": "2022-02-10T10:48:22.982Z"
   },
   {
    "duration": 34,
    "start_time": "2022-02-10T10:48:23.030Z"
   },
   {
    "duration": 6,
    "start_time": "2022-02-10T10:48:23.066Z"
   },
   {
    "duration": 25,
    "start_time": "2022-02-10T10:48:23.074Z"
   },
   {
    "duration": 7,
    "start_time": "2022-02-10T10:48:23.119Z"
   },
   {
    "duration": 28,
    "start_time": "2022-02-10T10:48:23.127Z"
   },
   {
    "duration": 3,
    "start_time": "2022-02-10T10:48:23.157Z"
   },
   {
    "duration": 21,
    "start_time": "2022-02-10T10:48:23.162Z"
   },
   {
    "duration": 8,
    "start_time": "2022-02-10T10:48:23.184Z"
   },
   {
    "duration": 24,
    "start_time": "2022-02-10T10:48:23.194Z"
   },
   {
    "duration": 5,
    "start_time": "2022-02-10T10:48:23.220Z"
   },
   {
    "duration": 6,
    "start_time": "2022-02-10T10:48:23.227Z"
   },
   {
    "duration": 9,
    "start_time": "2022-02-10T10:48:23.235Z"
   },
   {
    "duration": 34,
    "start_time": "2022-02-10T10:48:23.246Z"
   },
   {
    "duration": 39,
    "start_time": "2022-02-10T10:48:23.282Z"
   },
   {
    "duration": 5,
    "start_time": "2022-02-10T10:48:23.323Z"
   },
   {
    "duration": 12,
    "start_time": "2022-02-10T10:48:23.330Z"
   },
   {
    "duration": 4,
    "start_time": "2022-02-10T10:48:23.346Z"
   },
   {
    "duration": 18,
    "start_time": "2022-02-10T10:48:23.352Z"
   },
   {
    "duration": 47,
    "start_time": "2022-02-10T10:48:23.371Z"
   },
   {
    "duration": 9,
    "start_time": "2022-02-10T10:48:23.420Z"
   },
   {
    "duration": 16,
    "start_time": "2022-02-10T10:48:23.430Z"
   },
   {
    "duration": 17,
    "start_time": "2022-02-10T10:48:23.448Z"
   },
   {
    "duration": 10,
    "start_time": "2022-02-10T10:48:23.466Z"
   },
   {
    "duration": 26,
    "start_time": "2022-02-10T10:48:23.478Z"
   },
   {
    "duration": 16,
    "start_time": "2022-02-10T10:48:23.505Z"
   },
   {
    "duration": 12,
    "start_time": "2022-02-10T10:48:23.523Z"
   },
   {
    "duration": 17,
    "start_time": "2022-02-10T10:48:23.537Z"
   },
   {
    "duration": 22,
    "start_time": "2022-02-10T10:48:23.556Z"
   },
   {
    "duration": 10,
    "start_time": "2022-02-10T10:48:23.580Z"
   },
   {
    "duration": 33,
    "start_time": "2022-02-10T10:48:23.592Z"
   },
   {
    "duration": 7,
    "start_time": "2022-02-10T10:48:23.627Z"
   },
   {
    "duration": 17,
    "start_time": "2022-02-10T10:48:23.636Z"
   },
   {
    "duration": 8,
    "start_time": "2022-02-10T10:48:23.656Z"
   },
   {
    "duration": 10,
    "start_time": "2022-02-10T10:48:23.667Z"
   },
   {
    "duration": 18,
    "start_time": "2022-02-10T10:48:23.679Z"
   },
   {
    "duration": 26,
    "start_time": "2022-02-10T10:48:23.699Z"
   },
   {
    "duration": 9,
    "start_time": "2022-02-10T10:48:23.728Z"
   },
   {
    "duration": 15,
    "start_time": "2022-02-10T10:48:23.739Z"
   },
   {
    "duration": 8,
    "start_time": "2022-02-10T10:48:23.755Z"
   },
   {
    "duration": 5,
    "start_time": "2022-02-10T10:48:23.765Z"
   },
   {
    "duration": 16,
    "start_time": "2022-02-10T10:48:23.771Z"
   },
   {
    "duration": 39,
    "start_time": "2022-02-10T10:48:23.788Z"
   },
   {
    "duration": 52,
    "start_time": "2022-02-10T10:48:23.829Z"
   },
   {
    "duration": 2768,
    "start_time": "2022-02-10T10:48:23.882Z"
   },
   {
    "duration": 5,
    "start_time": "2022-02-10T10:48:26.652Z"
   },
   {
    "duration": 12,
    "start_time": "2022-02-10T10:48:26.658Z"
   },
   {
    "duration": 3362,
    "start_time": "2022-02-10T10:48:26.671Z"
   },
   {
    "duration": 8,
    "start_time": "2022-02-10T10:48:30.035Z"
   },
   {
    "duration": 15,
    "start_time": "2022-02-10T10:48:33.462Z"
   },
   {
    "duration": 21,
    "start_time": "2022-02-10T10:49:03.022Z"
   },
   {
    "duration": 10,
    "start_time": "2022-02-10T11:01:04.806Z"
   },
   {
    "duration": 5,
    "start_time": "2022-02-10T11:01:10.088Z"
   },
   {
    "duration": 237,
    "start_time": "2022-02-10T11:03:04.008Z"
   },
   {
    "duration": 81,
    "start_time": "2022-02-10T11:03:49.210Z"
   },
   {
    "duration": 84,
    "start_time": "2022-02-10T11:03:53.241Z"
   },
   {
    "duration": 74,
    "start_time": "2022-02-10T11:04:00.140Z"
   },
   {
    "duration": 5,
    "start_time": "2022-02-10T11:04:05.772Z"
   },
   {
    "duration": 8,
    "start_time": "2022-02-10T11:05:10.992Z"
   },
   {
    "duration": 7,
    "start_time": "2022-02-10T11:05:12.905Z"
   },
   {
    "duration": 11,
    "start_time": "2022-02-10T11:05:30.630Z"
   },
   {
    "duration": 7,
    "start_time": "2022-02-10T11:05:31.572Z"
   },
   {
    "duration": 9,
    "start_time": "2022-02-10T11:05:55.050Z"
   },
   {
    "duration": 6,
    "start_time": "2022-02-10T11:05:56.294Z"
   },
   {
    "duration": 10,
    "start_time": "2022-02-10T11:06:13.286Z"
   },
   {
    "duration": 7,
    "start_time": "2022-02-10T11:06:13.749Z"
   },
   {
    "duration": 16,
    "start_time": "2022-02-10T11:09:32.306Z"
   },
   {
    "duration": 72,
    "start_time": "2022-02-10T11:11:17.495Z"
   },
   {
    "duration": 460,
    "start_time": "2022-02-10T11:11:22.166Z"
   },
   {
    "duration": 17,
    "start_time": "2022-02-10T11:11:59.951Z"
   },
   {
    "duration": 300,
    "start_time": "2022-02-10T11:12:38.039Z"
   },
   {
    "duration": 11,
    "start_time": "2022-02-10T11:15:21.370Z"
   },
   {
    "duration": 7,
    "start_time": "2022-02-10T11:15:23.003Z"
   },
   {
    "duration": 254,
    "start_time": "2022-02-10T11:16:06.182Z"
   },
   {
    "duration": 258,
    "start_time": "2022-02-10T11:16:38.715Z"
   },
   {
    "duration": 6355,
    "start_time": "2022-02-10T11:16:46.751Z"
   },
   {
    "duration": 313,
    "start_time": "2022-02-10T11:16:55.278Z"
   },
   {
    "duration": 459,
    "start_time": "2022-02-10T11:19:14.036Z"
   },
   {
    "duration": 221,
    "start_time": "2022-02-10T11:19:27.768Z"
   },
   {
    "duration": 11,
    "start_time": "2022-02-10T11:19:32.434Z"
   },
   {
    "duration": 7,
    "start_time": "2022-02-10T11:19:33.125Z"
   },
   {
    "duration": 502,
    "start_time": "2022-02-10T11:19:33.922Z"
   },
   {
    "duration": 347,
    "start_time": "2022-02-10T11:19:44.160Z"
   },
   {
    "duration": 255,
    "start_time": "2022-02-10T11:20:31.899Z"
   },
   {
    "duration": 15,
    "start_time": "2022-02-10T11:25:20.039Z"
   },
   {
    "duration": 12,
    "start_time": "2022-02-10T11:26:01.580Z"
   },
   {
    "duration": 8,
    "start_time": "2022-02-10T11:26:18.701Z"
   },
   {
    "duration": 11,
    "start_time": "2022-02-10T11:26:19.515Z"
   },
   {
    "duration": 270,
    "start_time": "2022-02-10T11:26:23.298Z"
   },
   {
    "duration": 12,
    "start_time": "2022-02-10T11:26:39.655Z"
   },
   {
    "duration": 11,
    "start_time": "2022-02-10T11:26:44.186Z"
   },
   {
    "duration": 13,
    "start_time": "2022-02-10T11:27:38.420Z"
   },
   {
    "duration": 7,
    "start_time": "2022-02-10T11:28:49.276Z"
   },
   {
    "duration": 10,
    "start_time": "2022-02-10T11:28:57.122Z"
   },
   {
    "duration": 79,
    "start_time": "2022-02-10T11:34:31.575Z"
   },
   {
    "duration": 5974,
    "start_time": "2022-02-10T11:34:41.233Z"
   },
   {
    "duration": 233,
    "start_time": "2022-02-10T11:34:47.536Z"
   },
   {
    "duration": 6,
    "start_time": "2022-02-10T11:35:00.788Z"
   },
   {
    "duration": 72,
    "start_time": "2022-02-10T11:35:00.799Z"
   },
   {
    "duration": 15,
    "start_time": "2022-02-10T11:35:00.874Z"
   },
   {
    "duration": 12,
    "start_time": "2022-02-10T11:35:00.918Z"
   },
   {
    "duration": 43,
    "start_time": "2022-02-10T11:35:00.932Z"
   },
   {
    "duration": 11,
    "start_time": "2022-02-10T11:35:00.978Z"
   },
   {
    "duration": 13,
    "start_time": "2022-02-10T11:35:01.021Z"
   },
   {
    "duration": 12,
    "start_time": "2022-02-10T11:35:01.037Z"
   },
   {
    "duration": 26,
    "start_time": "2022-02-10T11:35:01.052Z"
   },
   {
    "duration": 62,
    "start_time": "2022-02-10T11:35:01.080Z"
   },
   {
    "duration": 11,
    "start_time": "2022-02-10T11:35:01.143Z"
   },
   {
    "duration": 49,
    "start_time": "2022-02-10T11:35:01.155Z"
   },
   {
    "duration": 22,
    "start_time": "2022-02-10T11:35:01.206Z"
   },
   {
    "duration": 45,
    "start_time": "2022-02-10T11:35:01.230Z"
   },
   {
    "duration": 8,
    "start_time": "2022-02-10T11:35:01.278Z"
   },
   {
    "duration": 67,
    "start_time": "2022-02-10T11:35:01.288Z"
   },
   {
    "duration": 20,
    "start_time": "2022-02-10T11:35:01.358Z"
   },
   {
    "duration": 24,
    "start_time": "2022-02-10T11:35:01.380Z"
   },
   {
    "duration": 21,
    "start_time": "2022-02-10T11:35:01.409Z"
   },
   {
    "duration": 26,
    "start_time": "2022-02-10T11:35:01.433Z"
   },
   {
    "duration": 63,
    "start_time": "2022-02-10T11:35:01.462Z"
   },
   {
    "duration": 24,
    "start_time": "2022-02-10T11:35:01.528Z"
   },
   {
    "duration": 36,
    "start_time": "2022-02-10T11:35:01.555Z"
   },
   {
    "duration": 67,
    "start_time": "2022-02-10T11:35:01.594Z"
   },
   {
    "duration": 14,
    "start_time": "2022-02-10T11:35:01.665Z"
   },
   {
    "duration": 20,
    "start_time": "2022-02-10T11:35:01.681Z"
   },
   {
    "duration": 63,
    "start_time": "2022-02-10T11:35:01.703Z"
   },
   {
    "duration": 25,
    "start_time": "2022-02-10T11:35:01.769Z"
   },
   {
    "duration": 41,
    "start_time": "2022-02-10T11:35:01.796Z"
   },
   {
    "duration": 33,
    "start_time": "2022-02-10T11:35:01.839Z"
   },
   {
    "duration": 23,
    "start_time": "2022-02-10T11:35:01.874Z"
   },
   {
    "duration": 47,
    "start_time": "2022-02-10T11:35:01.899Z"
   },
   {
    "duration": 57,
    "start_time": "2022-02-10T11:35:01.949Z"
   },
   {
    "duration": 26,
    "start_time": "2022-02-10T11:35:02.008Z"
   },
   {
    "duration": 40,
    "start_time": "2022-02-10T11:35:08.866Z"
   },
   {
    "duration": 10,
    "start_time": "2022-02-10T11:35:11.516Z"
   },
   {
    "duration": 19,
    "start_time": "2022-02-10T11:36:26.626Z"
   },
   {
    "duration": 88,
    "start_time": "2022-02-10T11:36:26.648Z"
   },
   {
    "duration": 14,
    "start_time": "2022-02-10T11:36:27.048Z"
   },
   {
    "duration": 15,
    "start_time": "2022-02-10T11:36:27.064Z"
   },
   {
    "duration": 40,
    "start_time": "2022-02-10T11:36:27.082Z"
   },
   {
    "duration": 11,
    "start_time": "2022-02-10T11:36:27.124Z"
   },
   {
    "duration": 14,
    "start_time": "2022-02-10T11:36:27.136Z"
   },
   {
    "duration": 12,
    "start_time": "2022-02-10T11:36:27.152Z"
   },
   {
    "duration": 12,
    "start_time": "2022-02-10T11:36:27.165Z"
   },
   {
    "duration": 60,
    "start_time": "2022-02-10T11:36:27.179Z"
   },
   {
    "duration": 10,
    "start_time": "2022-02-10T11:36:27.241Z"
   },
   {
    "duration": 41,
    "start_time": "2022-02-10T11:36:27.253Z"
   },
   {
    "duration": 5,
    "start_time": "2022-02-10T11:36:27.296Z"
   },
   {
    "duration": 28,
    "start_time": "2022-02-10T11:36:27.303Z"
   },
   {
    "duration": 6,
    "start_time": "2022-02-10T11:36:27.332Z"
   },
   {
    "duration": 43,
    "start_time": "2022-02-10T11:36:27.340Z"
   },
   {
    "duration": 4,
    "start_time": "2022-02-10T11:36:27.385Z"
   },
   {
    "duration": 15,
    "start_time": "2022-02-10T11:36:27.390Z"
   },
   {
    "duration": 12,
    "start_time": "2022-02-10T11:36:27.407Z"
   },
   {
    "duration": 4,
    "start_time": "2022-02-10T11:36:27.420Z"
   },
   {
    "duration": 12,
    "start_time": "2022-02-10T11:36:27.425Z"
   },
   {
    "duration": 8,
    "start_time": "2022-02-10T11:36:27.439Z"
   },
   {
    "duration": 9,
    "start_time": "2022-02-10T11:36:27.448Z"
   },
   {
    "duration": 35,
    "start_time": "2022-02-10T11:36:27.459Z"
   },
   {
    "duration": 28,
    "start_time": "2022-02-10T11:36:27.495Z"
   },
   {
    "duration": 9,
    "start_time": "2022-02-10T11:36:27.524Z"
   },
   {
    "duration": 8,
    "start_time": "2022-02-10T11:36:27.534Z"
   },
   {
    "duration": 9,
    "start_time": "2022-02-10T11:36:27.544Z"
   },
   {
    "duration": 16,
    "start_time": "2022-02-10T11:36:27.558Z"
   },
   {
    "duration": 46,
    "start_time": "2022-02-10T11:36:27.577Z"
   },
   {
    "duration": 8,
    "start_time": "2022-02-10T11:36:27.625Z"
   },
   {
    "duration": 16,
    "start_time": "2022-02-10T11:36:27.635Z"
   },
   {
    "duration": 15,
    "start_time": "2022-02-10T11:36:27.653Z"
   },
   {
    "duration": 11,
    "start_time": "2022-02-10T11:36:27.670Z"
   },
   {
    "duration": 35,
    "start_time": "2022-02-10T11:36:27.683Z"
   },
   {
    "duration": 7,
    "start_time": "2022-02-10T11:36:27.720Z"
   },
   {
    "duration": 11,
    "start_time": "2022-02-10T11:36:27.729Z"
   },
   {
    "duration": 24,
    "start_time": "2022-02-10T11:36:27.742Z"
   },
   {
    "duration": 27,
    "start_time": "2022-02-10T11:36:27.767Z"
   },
   {
    "duration": 7,
    "start_time": "2022-02-10T11:36:27.796Z"
   },
   {
    "duration": 17,
    "start_time": "2022-02-10T11:36:27.804Z"
   },
   {
    "duration": 16,
    "start_time": "2022-02-10T11:36:27.823Z"
   },
   {
    "duration": 30,
    "start_time": "2022-02-10T11:36:27.840Z"
   },
   {
    "duration": 19,
    "start_time": "2022-02-10T11:36:27.872Z"
   },
   {
    "duration": 8,
    "start_time": "2022-02-10T11:36:27.893Z"
   },
   {
    "duration": 28,
    "start_time": "2022-02-10T11:36:27.902Z"
   },
   {
    "duration": 14,
    "start_time": "2022-02-10T11:36:27.932Z"
   },
   {
    "duration": 11,
    "start_time": "2022-02-10T11:36:27.948Z"
   },
   {
    "duration": 32,
    "start_time": "2022-02-10T11:36:27.961Z"
   },
   {
    "duration": 11,
    "start_time": "2022-02-10T11:36:27.996Z"
   },
   {
    "duration": 6,
    "start_time": "2022-02-10T11:36:28.009Z"
   },
   {
    "duration": 23,
    "start_time": "2022-02-10T11:36:28.017Z"
   },
   {
    "duration": 20,
    "start_time": "2022-02-10T11:36:28.042Z"
   },
   {
    "duration": 60,
    "start_time": "2022-02-10T11:36:28.064Z"
   },
   {
    "duration": 2644,
    "start_time": "2022-02-10T11:36:28.125Z"
   },
   {
    "duration": 5,
    "start_time": "2022-02-10T11:36:30.771Z"
   },
   {
    "duration": 39,
    "start_time": "2022-02-10T11:36:30.778Z"
   },
   {
    "duration": 2455,
    "start_time": "2022-02-10T11:36:30.819Z"
   },
   {
    "duration": 8,
    "start_time": "2022-02-10T11:36:33.276Z"
   },
   {
    "duration": 33,
    "start_time": "2022-02-10T11:36:33.286Z"
   },
   {
    "duration": 27,
    "start_time": "2022-02-10T11:36:33.321Z"
   },
   {
    "duration": 8,
    "start_time": "2022-02-10T11:37:20.286Z"
   },
   {
    "duration": 304,
    "start_time": "2022-02-10T11:37:21.116Z"
   },
   {
    "duration": 14,
    "start_time": "2022-02-10T11:37:24.599Z"
   },
   {
    "duration": 12,
    "start_time": "2022-02-10T11:37:38.771Z"
   },
   {
    "duration": 7,
    "start_time": "2022-02-10T11:37:39.385Z"
   },
   {
    "duration": 11,
    "start_time": "2022-02-10T11:37:39.859Z"
   },
   {
    "duration": 83,
    "start_time": "2022-02-10T11:41:22.613Z"
   },
   {
    "duration": 12,
    "start_time": "2022-02-10T11:41:26.356Z"
   },
   {
    "duration": 8,
    "start_time": "2022-02-10T11:41:27.847Z"
   },
   {
    "duration": 293,
    "start_time": "2022-02-10T11:41:35.159Z"
   },
   {
    "duration": 428,
    "start_time": "2022-02-10T11:41:58.473Z"
   },
   {
    "duration": 306,
    "start_time": "2022-02-10T11:43:07.290Z"
   },
   {
    "duration": 16,
    "start_time": "2022-02-10T11:47:45.434Z"
   },
   {
    "duration": 7,
    "start_time": "2022-02-10T11:47:45.932Z"
   },
   {
    "duration": 9,
    "start_time": "2022-02-10T11:47:46.494Z"
   },
   {
    "duration": 7,
    "start_time": "2022-02-10T11:48:22.697Z"
   },
   {
    "duration": 9,
    "start_time": "2022-02-10T11:48:25.361Z"
   },
   {
    "duration": 15,
    "start_time": "2022-02-10T11:48:33.140Z"
   },
   {
    "duration": 9,
    "start_time": "2022-02-10T11:48:33.840Z"
   },
   {
    "duration": 11,
    "start_time": "2022-02-10T11:48:34.073Z"
   },
   {
    "duration": 14,
    "start_time": "2022-02-10T11:50:35.815Z"
   },
   {
    "duration": 7,
    "start_time": "2022-02-10T11:50:43.658Z"
   },
   {
    "duration": 15,
    "start_time": "2022-02-10T11:51:03.882Z"
   },
   {
    "duration": 6,
    "start_time": "2022-02-10T11:51:48.657Z"
   },
   {
    "duration": 68,
    "start_time": "2022-02-10T11:51:48.665Z"
   },
   {
    "duration": 17,
    "start_time": "2022-02-10T11:51:48.735Z"
   },
   {
    "duration": 15,
    "start_time": "2022-02-10T11:51:48.754Z"
   },
   {
    "duration": 82,
    "start_time": "2022-02-10T11:51:48.771Z"
   },
   {
    "duration": 11,
    "start_time": "2022-02-10T11:51:48.856Z"
   },
   {
    "duration": 15,
    "start_time": "2022-02-10T11:51:48.869Z"
   },
   {
    "duration": 8,
    "start_time": "2022-02-10T11:51:48.886Z"
   },
   {
    "duration": 33,
    "start_time": "2022-02-10T11:51:48.896Z"
   },
   {
    "duration": 75,
    "start_time": "2022-02-10T11:51:48.932Z"
   },
   {
    "duration": 11,
    "start_time": "2022-02-10T11:51:49.009Z"
   },
   {
    "duration": 52,
    "start_time": "2022-02-10T11:51:49.023Z"
   },
   {
    "duration": 6,
    "start_time": "2022-02-10T11:51:49.077Z"
   },
   {
    "duration": 17,
    "start_time": "2022-02-10T11:51:49.085Z"
   },
   {
    "duration": 6,
    "start_time": "2022-02-10T11:51:49.104Z"
   },
   {
    "duration": 36,
    "start_time": "2022-02-10T11:51:49.122Z"
   },
   {
    "duration": 4,
    "start_time": "2022-02-10T11:51:49.160Z"
   },
   {
    "duration": 29,
    "start_time": "2022-02-10T11:51:49.166Z"
   },
   {
    "duration": 43,
    "start_time": "2022-02-10T11:51:49.199Z"
   },
   {
    "duration": 8,
    "start_time": "2022-02-10T11:51:49.245Z"
   },
   {
    "duration": 17,
    "start_time": "2022-02-10T11:51:49.255Z"
   },
   {
    "duration": 14,
    "start_time": "2022-02-10T11:51:49.274Z"
   },
   {
    "duration": 24,
    "start_time": "2022-02-10T11:51:49.291Z"
   },
   {
    "duration": 53,
    "start_time": "2022-02-10T11:51:49.317Z"
   },
   {
    "duration": 13,
    "start_time": "2022-02-10T11:51:49.372Z"
   },
   {
    "duration": 10,
    "start_time": "2022-02-10T11:51:49.388Z"
   },
   {
    "duration": 27,
    "start_time": "2022-02-10T11:51:49.400Z"
   },
   {
    "duration": 45,
    "start_time": "2022-02-10T11:51:49.430Z"
   },
   {
    "duration": 24,
    "start_time": "2022-02-10T11:51:49.478Z"
   },
   {
    "duration": 27,
    "start_time": "2022-02-10T11:51:49.504Z"
   },
   {
    "duration": 10,
    "start_time": "2022-02-10T11:51:49.533Z"
   },
   {
    "duration": 28,
    "start_time": "2022-02-10T11:51:49.545Z"
   },
   {
    "duration": 16,
    "start_time": "2022-02-10T11:51:49.576Z"
   },
   {
    "duration": 27,
    "start_time": "2022-02-10T11:51:49.594Z"
   },
   {
    "duration": 51,
    "start_time": "2022-02-10T11:51:49.625Z"
   },
   {
    "duration": 8,
    "start_time": "2022-02-10T11:51:49.680Z"
   },
   {
    "duration": 12,
    "start_time": "2022-02-10T11:51:59.824Z"
   },
   {
    "duration": 9,
    "start_time": "2022-02-10T11:52:00.538Z"
   },
   {
    "duration": 12,
    "start_time": "2022-02-10T11:52:13.783Z"
   },
   {
    "duration": 8,
    "start_time": "2022-02-10T11:52:32.113Z"
   },
   {
    "duration": 32,
    "start_time": "2022-02-10T11:52:37.920Z"
   },
   {
    "duration": 9,
    "start_time": "2022-02-10T11:52:39.458Z"
   },
   {
    "duration": 11,
    "start_time": "2022-02-10T11:53:08.958Z"
   },
   {
    "duration": 8,
    "start_time": "2022-02-10T11:53:09.833Z"
   },
   {
    "duration": 9,
    "start_time": "2022-02-10T11:53:13.779Z"
   },
   {
    "duration": 10,
    "start_time": "2022-02-10T11:53:31.797Z"
   },
   {
    "duration": 6,
    "start_time": "2022-02-10T11:55:27.775Z"
   },
   {
    "duration": 64,
    "start_time": "2022-02-10T11:55:27.783Z"
   },
   {
    "duration": 19,
    "start_time": "2022-02-10T11:55:27.850Z"
   },
   {
    "duration": 32,
    "start_time": "2022-02-10T11:55:27.872Z"
   },
   {
    "duration": 45,
    "start_time": "2022-02-10T11:55:27.907Z"
   },
   {
    "duration": 11,
    "start_time": "2022-02-10T11:55:27.954Z"
   },
   {
    "duration": 20,
    "start_time": "2022-02-10T11:55:27.967Z"
   },
   {
    "duration": 16,
    "start_time": "2022-02-10T11:55:27.989Z"
   },
   {
    "duration": 20,
    "start_time": "2022-02-10T11:55:28.008Z"
   },
   {
    "duration": 60,
    "start_time": "2022-02-10T11:55:28.030Z"
   },
   {
    "duration": 13,
    "start_time": "2022-02-10T11:55:28.092Z"
   },
   {
    "duration": 51,
    "start_time": "2022-02-10T11:55:28.107Z"
   },
   {
    "duration": 7,
    "start_time": "2022-02-10T11:55:28.160Z"
   },
   {
    "duration": 26,
    "start_time": "2022-02-10T11:55:28.169Z"
   },
   {
    "duration": 7,
    "start_time": "2022-02-10T11:55:28.197Z"
   },
   {
    "duration": 41,
    "start_time": "2022-02-10T11:55:28.207Z"
   },
   {
    "duration": 4,
    "start_time": "2022-02-10T11:55:28.250Z"
   },
   {
    "duration": 13,
    "start_time": "2022-02-10T11:55:28.256Z"
   },
   {
    "duration": 18,
    "start_time": "2022-02-10T11:55:28.270Z"
   },
   {
    "duration": 5,
    "start_time": "2022-02-10T11:55:28.290Z"
   },
   {
    "duration": 16,
    "start_time": "2022-02-10T11:55:28.296Z"
   },
   {
    "duration": 12,
    "start_time": "2022-02-10T11:55:28.314Z"
   },
   {
    "duration": 17,
    "start_time": "2022-02-10T11:55:28.329Z"
   },
   {
    "duration": 43,
    "start_time": "2022-02-10T11:55:28.348Z"
   },
   {
    "duration": 15,
    "start_time": "2022-02-10T11:55:28.393Z"
   },
   {
    "duration": 6,
    "start_time": "2022-02-10T11:55:28.410Z"
   },
   {
    "duration": 24,
    "start_time": "2022-02-10T11:55:28.421Z"
   },
   {
    "duration": 5,
    "start_time": "2022-02-10T11:55:28.448Z"
   },
   {
    "duration": 19,
    "start_time": "2022-02-10T11:55:28.455Z"
   },
   {
    "duration": 18,
    "start_time": "2022-02-10T11:55:28.476Z"
   },
   {
    "duration": 8,
    "start_time": "2022-02-10T11:55:28.496Z"
   },
   {
    "duration": 22,
    "start_time": "2022-02-10T11:55:28.506Z"
   },
   {
    "duration": 26,
    "start_time": "2022-02-10T11:55:28.531Z"
   },
   {
    "duration": 11,
    "start_time": "2022-02-10T11:55:28.559Z"
   },
   {
    "duration": 25,
    "start_time": "2022-02-10T11:55:35.381Z"
   },
   {
    "duration": 9,
    "start_time": "2022-02-10T11:55:35.955Z"
   },
   {
    "duration": 7,
    "start_time": "2022-02-10T11:55:39.841Z"
   },
   {
    "duration": 4,
    "start_time": "2022-02-10T11:56:13.802Z"
   },
   {
    "duration": 65,
    "start_time": "2022-02-10T11:56:13.808Z"
   },
   {
    "duration": 20,
    "start_time": "2022-02-10T11:56:13.876Z"
   },
   {
    "duration": 37,
    "start_time": "2022-02-10T11:56:13.898Z"
   },
   {
    "duration": 34,
    "start_time": "2022-02-10T11:56:13.940Z"
   },
   {
    "duration": 12,
    "start_time": "2022-02-10T11:56:13.976Z"
   },
   {
    "duration": 41,
    "start_time": "2022-02-10T11:56:13.991Z"
   },
   {
    "duration": 11,
    "start_time": "2022-02-10T11:56:14.035Z"
   },
   {
    "duration": 14,
    "start_time": "2022-02-10T11:56:14.049Z"
   },
   {
    "duration": 57,
    "start_time": "2022-02-10T11:56:14.065Z"
   },
   {
    "duration": 14,
    "start_time": "2022-02-10T11:56:14.126Z"
   },
   {
    "duration": 30,
    "start_time": "2022-02-10T11:56:14.141Z"
   },
   {
    "duration": 5,
    "start_time": "2022-02-10T11:56:14.173Z"
   },
   {
    "duration": 17,
    "start_time": "2022-02-10T11:56:14.179Z"
   },
   {
    "duration": 27,
    "start_time": "2022-02-10T11:56:14.198Z"
   },
   {
    "duration": 26,
    "start_time": "2022-02-10T11:56:14.227Z"
   },
   {
    "duration": 5,
    "start_time": "2022-02-10T11:56:14.255Z"
   },
   {
    "duration": 13,
    "start_time": "2022-02-10T11:56:14.262Z"
   },
   {
    "duration": 16,
    "start_time": "2022-02-10T11:56:14.279Z"
   },
   {
    "duration": 21,
    "start_time": "2022-02-10T11:56:14.297Z"
   },
   {
    "duration": 6,
    "start_time": "2022-02-10T11:56:14.320Z"
   },
   {
    "duration": 14,
    "start_time": "2022-02-10T11:56:14.328Z"
   },
   {
    "duration": 9,
    "start_time": "2022-02-10T11:56:14.344Z"
   },
   {
    "duration": 47,
    "start_time": "2022-02-10T11:56:14.356Z"
   },
   {
    "duration": 17,
    "start_time": "2022-02-10T11:56:14.420Z"
   },
   {
    "duration": 14,
    "start_time": "2022-02-10T11:56:14.439Z"
   },
   {
    "duration": 12,
    "start_time": "2022-02-10T11:56:14.455Z"
   },
   {
    "duration": 19,
    "start_time": "2022-02-10T11:56:14.469Z"
   },
   {
    "duration": 25,
    "start_time": "2022-02-10T11:56:14.490Z"
   },
   {
    "duration": 25,
    "start_time": "2022-02-10T11:56:14.518Z"
   },
   {
    "duration": 12,
    "start_time": "2022-02-10T11:56:14.545Z"
   },
   {
    "duration": 17,
    "start_time": "2022-02-10T11:56:14.559Z"
   },
   {
    "duration": 13,
    "start_time": "2022-02-10T11:56:14.578Z"
   },
   {
    "duration": 35,
    "start_time": "2022-02-10T11:56:14.592Z"
   },
   {
    "duration": 9,
    "start_time": "2022-02-10T11:56:20.226Z"
   },
   {
    "duration": 8,
    "start_time": "2022-02-10T11:56:20.970Z"
   },
   {
    "duration": 5,
    "start_time": "2022-02-10T11:58:43.727Z"
   },
   {
    "duration": 50,
    "start_time": "2022-02-10T11:58:43.734Z"
   },
   {
    "duration": 13,
    "start_time": "2022-02-10T11:58:43.786Z"
   },
   {
    "duration": 21,
    "start_time": "2022-02-10T11:58:43.801Z"
   },
   {
    "duration": 33,
    "start_time": "2022-02-10T11:58:43.824Z"
   },
   {
    "duration": 11,
    "start_time": "2022-02-10T11:58:43.858Z"
   },
   {
    "duration": 45,
    "start_time": "2022-02-10T11:58:43.873Z"
   },
   {
    "duration": 6,
    "start_time": "2022-02-10T11:58:43.921Z"
   },
   {
    "duration": 10,
    "start_time": "2022-02-10T11:58:43.930Z"
   },
   {
    "duration": 43,
    "start_time": "2022-02-10T11:58:43.943Z"
   },
   {
    "duration": 36,
    "start_time": "2022-02-10T11:58:43.988Z"
   },
   {
    "duration": 43,
    "start_time": "2022-02-10T11:58:44.026Z"
   },
   {
    "duration": 5,
    "start_time": "2022-02-10T11:58:44.071Z"
   },
   {
    "duration": 7,
    "start_time": "2022-02-10T11:58:47.343Z"
   },
   {
    "duration": 6,
    "start_time": "2022-02-10T11:58:47.923Z"
   },
   {
    "duration": 10,
    "start_time": "2022-02-10T11:59:45.427Z"
   },
   {
    "duration": 9,
    "start_time": "2022-02-10T11:59:46.266Z"
   },
   {
    "duration": 8,
    "start_time": "2022-02-10T11:59:47.844Z"
   },
   {
    "duration": 8,
    "start_time": "2022-02-10T12:00:03.654Z"
   },
   {
    "duration": 9,
    "start_time": "2022-02-10T12:00:17.819Z"
   },
   {
    "duration": 13,
    "start_time": "2022-02-10T12:00:18.820Z"
   },
   {
    "duration": 8,
    "start_time": "2022-02-10T12:00:19.417Z"
   },
   {
    "duration": 10,
    "start_time": "2022-02-10T12:00:38.645Z"
   },
   {
    "duration": 8,
    "start_time": "2022-02-10T12:00:39.451Z"
   },
   {
    "duration": 4,
    "start_time": "2022-02-10T12:00:44.413Z"
   },
   {
    "duration": 45,
    "start_time": "2022-02-10T12:00:44.419Z"
   },
   {
    "duration": 13,
    "start_time": "2022-02-10T12:00:44.467Z"
   },
   {
    "duration": 36,
    "start_time": "2022-02-10T12:00:44.482Z"
   },
   {
    "duration": 32,
    "start_time": "2022-02-10T12:00:44.520Z"
   },
   {
    "duration": 9,
    "start_time": "2022-02-10T12:00:44.554Z"
   },
   {
    "duration": 19,
    "start_time": "2022-02-10T12:00:44.565Z"
   },
   {
    "duration": 35,
    "start_time": "2022-02-10T12:00:44.586Z"
   },
   {
    "duration": 7,
    "start_time": "2022-02-10T12:00:44.623Z"
   },
   {
    "duration": 44,
    "start_time": "2022-02-10T12:00:44.632Z"
   },
   {
    "duration": 12,
    "start_time": "2022-02-10T12:00:44.679Z"
   },
   {
    "duration": 54,
    "start_time": "2022-02-10T12:00:44.694Z"
   },
   {
    "duration": 5,
    "start_time": "2022-02-10T12:00:44.750Z"
   },
   {
    "duration": 13,
    "start_time": "2022-02-10T12:00:44.756Z"
   },
   {
    "duration": 11,
    "start_time": "2022-02-10T12:00:44.771Z"
   },
   {
    "duration": 42,
    "start_time": "2022-02-10T12:00:44.784Z"
   },
   {
    "duration": 3,
    "start_time": "2022-02-10T12:00:44.828Z"
   },
   {
    "duration": 15,
    "start_time": "2022-02-10T12:00:44.833Z"
   },
   {
    "duration": 19,
    "start_time": "2022-02-10T12:00:44.851Z"
   },
   {
    "duration": 8,
    "start_time": "2022-02-10T12:00:44.872Z"
   },
   {
    "duration": 10,
    "start_time": "2022-02-10T12:00:44.882Z"
   },
   {
    "duration": 8,
    "start_time": "2022-02-10T12:00:44.893Z"
   },
   {
    "duration": 18,
    "start_time": "2022-02-10T12:00:44.903Z"
   },
   {
    "duration": 37,
    "start_time": "2022-02-10T12:00:44.923Z"
   },
   {
    "duration": 13,
    "start_time": "2022-02-10T12:00:44.963Z"
   },
   {
    "duration": 8,
    "start_time": "2022-02-10T12:00:44.978Z"
   },
   {
    "duration": 12,
    "start_time": "2022-02-10T12:00:44.987Z"
   },
   {
    "duration": 22,
    "start_time": "2022-02-10T12:00:45.001Z"
   },
   {
    "duration": 50,
    "start_time": "2022-02-10T12:00:45.025Z"
   },
   {
    "duration": 19,
    "start_time": "2022-02-10T12:00:45.078Z"
   },
   {
    "duration": 10,
    "start_time": "2022-02-10T12:00:45.099Z"
   },
   {
    "duration": 24,
    "start_time": "2022-02-10T12:00:45.111Z"
   },
   {
    "duration": 16,
    "start_time": "2022-02-10T12:00:45.136Z"
   },
   {
    "duration": 15,
    "start_time": "2022-02-10T12:00:45.154Z"
   },
   {
    "duration": 15,
    "start_time": "2022-02-10T12:00:45.172Z"
   },
   {
    "duration": 19,
    "start_time": "2022-02-10T12:00:45.190Z"
   },
   {
    "duration": 10,
    "start_time": "2022-02-10T12:00:49.705Z"
   },
   {
    "duration": 7,
    "start_time": "2022-02-10T12:00:52.527Z"
   },
   {
    "duration": 7,
    "start_time": "2022-02-10T12:01:14.888Z"
   },
   {
    "duration": 12,
    "start_time": "2022-02-10T12:01:18.077Z"
   },
   {
    "duration": 7,
    "start_time": "2022-02-10T12:01:18.664Z"
   },
   {
    "duration": 4,
    "start_time": "2022-02-10T12:01:58.061Z"
   },
   {
    "duration": 56,
    "start_time": "2022-02-10T12:01:58.068Z"
   },
   {
    "duration": 13,
    "start_time": "2022-02-10T12:01:58.127Z"
   },
   {
    "duration": 14,
    "start_time": "2022-02-10T12:01:58.143Z"
   },
   {
    "duration": 63,
    "start_time": "2022-02-10T12:01:58.159Z"
   },
   {
    "duration": 9,
    "start_time": "2022-02-10T12:01:58.224Z"
   },
   {
    "duration": 10,
    "start_time": "2022-02-10T12:01:58.236Z"
   },
   {
    "duration": 6,
    "start_time": "2022-02-10T12:01:58.248Z"
   },
   {
    "duration": 8,
    "start_time": "2022-02-10T12:01:58.255Z"
   },
   {
    "duration": 84,
    "start_time": "2022-02-10T12:01:58.265Z"
   },
   {
    "duration": 9,
    "start_time": "2022-02-10T12:01:58.351Z"
   },
   {
    "duration": 34,
    "start_time": "2022-02-10T12:01:58.362Z"
   },
   {
    "duration": 25,
    "start_time": "2022-02-10T12:01:58.397Z"
   },
   {
    "duration": 7,
    "start_time": "2022-02-10T12:01:58.424Z"
   },
   {
    "duration": 6,
    "start_time": "2022-02-10T12:01:58.433Z"
   },
   {
    "duration": 31,
    "start_time": "2022-02-10T12:01:58.441Z"
   },
   {
    "duration": 3,
    "start_time": "2022-02-10T12:01:58.474Z"
   },
   {
    "duration": 40,
    "start_time": "2022-02-10T12:01:58.479Z"
   },
   {
    "duration": 5,
    "start_time": "2022-02-10T12:01:58.523Z"
   },
   {
    "duration": 8,
    "start_time": "2022-02-10T12:01:58.530Z"
   },
   {
    "duration": 5,
    "start_time": "2022-02-10T12:01:58.540Z"
   },
   {
    "duration": 5,
    "start_time": "2022-02-10T12:01:58.546Z"
   },
   {
    "duration": 7,
    "start_time": "2022-02-10T12:01:58.553Z"
   },
   {
    "duration": 30,
    "start_time": "2022-02-10T12:01:58.562Z"
   },
   {
    "duration": 10,
    "start_time": "2022-02-10T12:01:58.618Z"
   },
   {
    "duration": 5,
    "start_time": "2022-02-10T12:01:58.630Z"
   },
   {
    "duration": 9,
    "start_time": "2022-02-10T12:01:58.636Z"
   },
   {
    "duration": 6,
    "start_time": "2022-02-10T12:01:58.646Z"
   },
   {
    "duration": 17,
    "start_time": "2022-02-10T12:01:58.654Z"
   },
   {
    "duration": 45,
    "start_time": "2022-02-10T12:01:58.673Z"
   },
   {
    "duration": 7,
    "start_time": "2022-02-10T12:01:58.720Z"
   },
   {
    "duration": 14,
    "start_time": "2022-02-10T12:01:58.729Z"
   },
   {
    "duration": 10,
    "start_time": "2022-02-10T12:01:58.745Z"
   },
   {
    "duration": 11,
    "start_time": "2022-02-10T12:01:58.757Z"
   },
   {
    "duration": 10,
    "start_time": "2022-02-10T12:01:58.769Z"
   },
   {
    "duration": 10,
    "start_time": "2022-02-10T12:01:58.780Z"
   },
   {
    "duration": 32,
    "start_time": "2022-02-10T12:01:58.792Z"
   },
   {
    "duration": 15,
    "start_time": "2022-02-10T12:01:58.825Z"
   },
   {
    "duration": 19,
    "start_time": "2022-02-10T12:01:58.842Z"
   },
   {
    "duration": 8,
    "start_time": "2022-02-10T12:01:58.863Z"
   },
   {
    "duration": 14,
    "start_time": "2022-02-10T12:01:58.873Z"
   },
   {
    "duration": 7,
    "start_time": "2022-02-10T12:01:58.889Z"
   },
   {
    "duration": 10,
    "start_time": "2022-02-10T12:01:58.897Z"
   },
   {
    "duration": 14,
    "start_time": "2022-02-10T12:01:58.909Z"
   },
   {
    "duration": 8,
    "start_time": "2022-02-10T12:01:58.924Z"
   },
   {
    "duration": 10,
    "start_time": "2022-02-10T12:01:58.933Z"
   },
   {
    "duration": 7,
    "start_time": "2022-02-10T12:01:58.945Z"
   },
   {
    "duration": 11,
    "start_time": "2022-02-10T12:01:58.954Z"
   },
   {
    "duration": 16,
    "start_time": "2022-02-10T12:01:58.967Z"
   },
   {
    "duration": 5,
    "start_time": "2022-02-10T12:01:58.985Z"
   },
   {
    "duration": 7,
    "start_time": "2022-02-10T12:01:58.992Z"
   },
   {
    "duration": 22,
    "start_time": "2022-02-10T12:01:59.001Z"
   },
   {
    "duration": 12,
    "start_time": "2022-02-10T12:01:59.025Z"
   },
   {
    "duration": 49,
    "start_time": "2022-02-10T12:01:59.039Z"
   },
   {
    "duration": 2636,
    "start_time": "2022-02-10T12:01:59.093Z"
   },
   {
    "duration": 5,
    "start_time": "2022-02-10T12:02:01.731Z"
   },
   {
    "duration": 13,
    "start_time": "2022-02-10T12:02:01.738Z"
   },
   {
    "duration": 3077,
    "start_time": "2022-02-10T12:02:01.753Z"
   },
   {
    "duration": 3032,
    "start_time": "2022-02-10T12:02:07.654Z"
   },
   {
    "duration": 9,
    "start_time": "2022-02-10T12:02:10.688Z"
   },
   {
    "duration": 9,
    "start_time": "2022-02-10T12:02:32.404Z"
   },
   {
    "duration": 7,
    "start_time": "2022-02-10T12:02:33.061Z"
   },
   {
    "duration": 274,
    "start_time": "2022-02-10T12:02:33.844Z"
   },
   {
    "duration": 5,
    "start_time": "2022-02-10T12:13:39.263Z"
   },
   {
    "duration": 6,
    "start_time": "2022-02-10T12:13:41.555Z"
   },
   {
    "duration": 9,
    "start_time": "2022-02-10T12:13:48.100Z"
   },
   {
    "duration": 6,
    "start_time": "2022-02-10T12:13:48.548Z"
   },
   {
    "duration": 87,
    "start_time": "2022-02-10T12:15:38.959Z"
   },
   {
    "duration": 6,
    "start_time": "2022-02-10T12:15:39.319Z"
   },
   {
    "duration": 118,
    "start_time": "2022-02-10T12:15:43.218Z"
   },
   {
    "duration": 7,
    "start_time": "2022-02-10T12:15:44.123Z"
   },
   {
    "duration": 9,
    "start_time": "2022-02-10T12:15:57.355Z"
   },
   {
    "duration": 7,
    "start_time": "2022-02-10T12:15:58.356Z"
   },
   {
    "duration": 11,
    "start_time": "2022-02-10T12:16:51.526Z"
   },
   {
    "duration": 11,
    "start_time": "2022-02-10T12:17:01.928Z"
   },
   {
    "duration": 344,
    "start_time": "2022-02-10T12:17:09.936Z"
   },
   {
    "duration": 9,
    "start_time": "2022-02-10T12:17:14.873Z"
   },
   {
    "duration": 6,
    "start_time": "2022-02-10T12:18:16.015Z"
   },
   {
    "duration": 12,
    "start_time": "2022-02-10T12:19:26.298Z"
   },
   {
    "duration": 7,
    "start_time": "2022-02-10T12:19:44.658Z"
   },
   {
    "duration": 8,
    "start_time": "2022-02-10T12:19:45.155Z"
   },
   {
    "duration": 8,
    "start_time": "2022-02-10T12:19:45.567Z"
   },
   {
    "duration": 6,
    "start_time": "2022-02-10T12:19:45.979Z"
   },
   {
    "duration": 7,
    "start_time": "2022-02-10T12:19:46.494Z"
   },
   {
    "duration": 11,
    "start_time": "2022-02-10T12:19:47.103Z"
   },
   {
    "duration": 5,
    "start_time": "2022-02-10T12:19:47.724Z"
   },
   {
    "duration": 10,
    "start_time": "2022-02-10T12:20:00.689Z"
   },
   {
    "duration": 6141,
    "start_time": "2022-02-10T12:21:12.466Z"
   },
   {
    "duration": 5457,
    "start_time": "2022-02-10T12:21:25.611Z"
   },
   {
    "duration": 5,
    "start_time": "2022-02-10T12:21:32.590Z"
   },
   {
    "duration": 47,
    "start_time": "2022-02-10T12:21:32.598Z"
   },
   {
    "duration": 13,
    "start_time": "2022-02-10T12:21:32.647Z"
   },
   {
    "duration": 14,
    "start_time": "2022-02-10T12:21:32.662Z"
   },
   {
    "duration": 58,
    "start_time": "2022-02-10T12:21:32.678Z"
   },
   {
    "duration": 9,
    "start_time": "2022-02-10T12:21:32.738Z"
   },
   {
    "duration": 11,
    "start_time": "2022-02-10T12:21:32.748Z"
   },
   {
    "duration": 6,
    "start_time": "2022-02-10T12:21:32.760Z"
   },
   {
    "duration": 16,
    "start_time": "2022-02-10T12:21:32.768Z"
   },
   {
    "duration": 70,
    "start_time": "2022-02-10T12:21:32.787Z"
   },
   {
    "duration": 10,
    "start_time": "2022-02-10T12:21:32.860Z"
   },
   {
    "duration": 53,
    "start_time": "2022-02-10T12:21:32.872Z"
   },
   {
    "duration": 6,
    "start_time": "2022-02-10T12:21:32.927Z"
   },
   {
    "duration": 14,
    "start_time": "2022-02-10T12:21:32.935Z"
   },
   {
    "duration": 6,
    "start_time": "2022-02-10T12:21:32.951Z"
   },
   {
    "duration": 24,
    "start_time": "2022-02-10T12:21:32.959Z"
   },
   {
    "duration": 3,
    "start_time": "2022-02-10T12:21:32.985Z"
   },
   {
    "duration": 36,
    "start_time": "2022-02-10T12:21:32.990Z"
   },
   {
    "duration": 18,
    "start_time": "2022-02-10T12:21:33.029Z"
   },
   {
    "duration": 5,
    "start_time": "2022-02-10T12:21:33.050Z"
   },
   {
    "duration": 8,
    "start_time": "2022-02-10T12:21:33.056Z"
   },
   {
    "duration": 7,
    "start_time": "2022-02-10T12:21:33.066Z"
   },
   {
    "duration": 13,
    "start_time": "2022-02-10T12:21:33.074Z"
   },
   {
    "duration": 46,
    "start_time": "2022-02-10T12:21:33.089Z"
   },
   {
    "duration": 9,
    "start_time": "2022-02-10T12:21:33.137Z"
   },
   {
    "duration": 10,
    "start_time": "2022-02-10T12:21:33.148Z"
   },
   {
    "duration": 15,
    "start_time": "2022-02-10T12:21:33.159Z"
   },
   {
    "duration": 6,
    "start_time": "2022-02-10T12:21:33.177Z"
   },
   {
    "duration": 37,
    "start_time": "2022-02-10T12:21:33.184Z"
   },
   {
    "duration": 17,
    "start_time": "2022-02-10T12:21:33.223Z"
   },
   {
    "duration": 8,
    "start_time": "2022-02-10T12:21:33.242Z"
   },
   {
    "duration": 14,
    "start_time": "2022-02-10T12:21:33.252Z"
   },
   {
    "duration": 26,
    "start_time": "2022-02-10T12:21:33.268Z"
   },
   {
    "duration": 18,
    "start_time": "2022-02-10T12:21:33.296Z"
   },
   {
    "duration": 8,
    "start_time": "2022-02-10T12:21:36.912Z"
   },
   {
    "duration": 7,
    "start_time": "2022-02-10T12:21:48.802Z"
   },
   {
    "duration": 7,
    "start_time": "2022-02-10T12:22:16.383Z"
   },
   {
    "duration": 7,
    "start_time": "2022-02-10T12:22:19.710Z"
   },
   {
    "duration": 8,
    "start_time": "2022-02-10T12:22:20.428Z"
   },
   {
    "duration": 9,
    "start_time": "2022-02-10T12:22:43.892Z"
   },
   {
    "duration": 5,
    "start_time": "2022-02-10T12:23:33.947Z"
   },
   {
    "duration": 52,
    "start_time": "2022-02-10T12:23:33.954Z"
   },
   {
    "duration": 15,
    "start_time": "2022-02-10T12:23:34.009Z"
   },
   {
    "duration": 20,
    "start_time": "2022-02-10T12:23:34.027Z"
   },
   {
    "duration": 39,
    "start_time": "2022-02-10T12:23:34.050Z"
   },
   {
    "duration": 33,
    "start_time": "2022-02-10T12:23:34.091Z"
   },
   {
    "duration": 12,
    "start_time": "2022-02-10T12:23:34.126Z"
   },
   {
    "duration": 6,
    "start_time": "2022-02-10T12:23:34.140Z"
   },
   {
    "duration": 12,
    "start_time": "2022-02-10T12:23:34.148Z"
   },
   {
    "duration": 75,
    "start_time": "2022-02-10T12:23:34.162Z"
   },
   {
    "duration": 9,
    "start_time": "2022-02-10T12:23:34.239Z"
   },
   {
    "duration": 31,
    "start_time": "2022-02-10T12:23:34.250Z"
   },
   {
    "duration": 6,
    "start_time": "2022-02-10T12:23:34.283Z"
   },
   {
    "duration": 31,
    "start_time": "2022-02-10T12:23:34.291Z"
   },
   {
    "duration": 8,
    "start_time": "2022-02-10T12:23:34.324Z"
   },
   {
    "duration": 23,
    "start_time": "2022-02-10T12:23:34.334Z"
   },
   {
    "duration": 3,
    "start_time": "2022-02-10T12:23:34.359Z"
   },
   {
    "duration": 15,
    "start_time": "2022-02-10T12:23:34.363Z"
   },
   {
    "duration": 12,
    "start_time": "2022-02-10T12:23:34.382Z"
   },
   {
    "duration": 4,
    "start_time": "2022-02-10T12:23:34.418Z"
   },
   {
    "duration": 10,
    "start_time": "2022-02-10T12:23:34.424Z"
   },
   {
    "duration": 6,
    "start_time": "2022-02-10T12:23:34.436Z"
   },
   {
    "duration": 10,
    "start_time": "2022-02-10T12:23:34.444Z"
   },
   {
    "duration": 49,
    "start_time": "2022-02-10T12:23:34.456Z"
   },
   {
    "duration": 11,
    "start_time": "2022-02-10T12:23:34.518Z"
   },
   {
    "duration": 12,
    "start_time": "2022-02-10T12:23:34.530Z"
   },
   {
    "duration": 9,
    "start_time": "2022-02-10T12:23:34.543Z"
   },
   {
    "duration": 9,
    "start_time": "2022-02-10T12:23:34.554Z"
   },
   {
    "duration": 22,
    "start_time": "2022-02-10T12:23:34.564Z"
   },
   {
    "duration": 35,
    "start_time": "2022-02-10T12:23:34.588Z"
   },
   {
    "duration": 8,
    "start_time": "2022-02-10T12:23:34.625Z"
   },
   {
    "duration": 17,
    "start_time": "2022-02-10T12:23:34.635Z"
   },
   {
    "duration": 16,
    "start_time": "2022-02-10T12:23:34.654Z"
   },
   {
    "duration": 12,
    "start_time": "2022-02-10T12:23:34.672Z"
   },
   {
    "duration": 12,
    "start_time": "2022-02-10T12:23:34.686Z"
   },
   {
    "duration": 22,
    "start_time": "2022-02-10T12:23:34.700Z"
   },
   {
    "duration": 7,
    "start_time": "2022-02-10T12:23:34.724Z"
   },
   {
    "duration": 11,
    "start_time": "2022-02-10T12:23:34.733Z"
   },
   {
    "duration": 8,
    "start_time": "2022-02-10T12:23:34.746Z"
   },
   {
    "duration": 15,
    "start_time": "2022-02-10T12:23:34.756Z"
   },
   {
    "duration": 8,
    "start_time": "2022-02-10T12:23:34.773Z"
   },
   {
    "duration": 37,
    "start_time": "2022-02-10T12:23:34.783Z"
   },
   {
    "duration": 4,
    "start_time": "2022-02-10T12:23:38.928Z"
   },
   {
    "duration": 12,
    "start_time": "2022-02-10T12:23:39.719Z"
   },
   {
    "duration": 9,
    "start_time": "2022-02-10T12:23:40.332Z"
   },
   {
    "duration": 4,
    "start_time": "2022-02-10T12:23:41.337Z"
   },
   {
    "duration": 7,
    "start_time": "2022-02-10T12:23:43.375Z"
   },
   {
    "duration": 7,
    "start_time": "2022-02-10T12:23:44.041Z"
   },
   {
    "duration": 5,
    "start_time": "2022-02-10T12:26:09.942Z"
   },
   {
    "duration": 52,
    "start_time": "2022-02-10T12:26:09.948Z"
   },
   {
    "duration": 14,
    "start_time": "2022-02-10T12:26:10.002Z"
   },
   {
    "duration": 18,
    "start_time": "2022-02-10T12:26:10.019Z"
   },
   {
    "duration": 37,
    "start_time": "2022-02-10T12:26:10.038Z"
   },
   {
    "duration": 10,
    "start_time": "2022-02-10T12:26:10.078Z"
   },
   {
    "duration": 37,
    "start_time": "2022-02-10T12:26:10.090Z"
   },
   {
    "duration": 7,
    "start_time": "2022-02-10T12:26:10.129Z"
   },
   {
    "duration": 9,
    "start_time": "2022-02-10T12:26:10.138Z"
   },
   {
    "duration": 78,
    "start_time": "2022-02-10T12:26:10.149Z"
   },
   {
    "duration": 12,
    "start_time": "2022-02-10T12:26:10.228Z"
   },
   {
    "duration": 32,
    "start_time": "2022-02-10T12:26:10.242Z"
   },
   {
    "duration": 7,
    "start_time": "2022-02-10T12:26:10.276Z"
   },
   {
    "duration": 33,
    "start_time": "2022-02-10T12:26:10.285Z"
   },
   {
    "duration": 8,
    "start_time": "2022-02-10T12:26:10.321Z"
   },
   {
    "duration": 32,
    "start_time": "2022-02-10T12:26:10.332Z"
   },
   {
    "duration": 9,
    "start_time": "2022-02-10T12:26:10.367Z"
   },
   {
    "duration": 25,
    "start_time": "2022-02-10T12:26:10.378Z"
   },
   {
    "duration": 14,
    "start_time": "2022-02-10T12:26:10.407Z"
   },
   {
    "duration": 20,
    "start_time": "2022-02-10T12:26:10.424Z"
   },
   {
    "duration": 13,
    "start_time": "2022-02-10T12:26:10.446Z"
   },
   {
    "duration": 45,
    "start_time": "2022-02-10T12:26:10.461Z"
   },
   {
    "duration": 25,
    "start_time": "2022-02-10T12:26:10.508Z"
   },
   {
    "duration": 51,
    "start_time": "2022-02-10T12:26:10.535Z"
   },
   {
    "duration": 10,
    "start_time": "2022-02-10T12:26:10.588Z"
   },
   {
    "duration": 11,
    "start_time": "2022-02-10T12:26:10.600Z"
   },
   {
    "duration": 25,
    "start_time": "2022-02-10T12:26:10.613Z"
   },
   {
    "duration": 17,
    "start_time": "2022-02-10T12:26:10.640Z"
   },
   {
    "duration": 30,
    "start_time": "2022-02-10T12:26:10.659Z"
   },
   {
    "duration": 16,
    "start_time": "2022-02-10T12:26:10.692Z"
   },
   {
    "duration": 10,
    "start_time": "2022-02-10T12:26:10.710Z"
   },
   {
    "duration": 35,
    "start_time": "2022-02-10T12:26:10.722Z"
   },
   {
    "duration": 38,
    "start_time": "2022-02-10T12:26:10.759Z"
   },
   {
    "duration": 21,
    "start_time": "2022-02-10T12:26:10.799Z"
   },
   {
    "duration": 15,
    "start_time": "2022-02-10T12:26:10.821Z"
   },
   {
    "duration": 24,
    "start_time": "2022-02-10T12:26:10.838Z"
   },
   {
    "duration": 27,
    "start_time": "2022-02-10T12:26:10.864Z"
   },
   {
    "duration": 10,
    "start_time": "2022-02-10T12:26:10.894Z"
   },
   {
    "duration": 32,
    "start_time": "2022-02-10T12:26:10.906Z"
   },
   {
    "duration": 15,
    "start_time": "2022-02-10T12:26:10.940Z"
   },
   {
    "duration": 4,
    "start_time": "2022-02-10T12:26:34.983Z"
   },
   {
    "duration": 58,
    "start_time": "2022-02-10T12:26:34.989Z"
   },
   {
    "duration": 15,
    "start_time": "2022-02-10T12:26:35.050Z"
   },
   {
    "duration": 23,
    "start_time": "2022-02-10T12:26:35.068Z"
   },
   {
    "duration": 57,
    "start_time": "2022-02-10T12:26:35.094Z"
   },
   {
    "duration": 12,
    "start_time": "2022-02-10T12:26:35.154Z"
   },
   {
    "duration": 50,
    "start_time": "2022-02-10T12:26:35.170Z"
   },
   {
    "duration": 6,
    "start_time": "2022-02-10T12:26:35.223Z"
   },
   {
    "duration": 10,
    "start_time": "2022-02-10T12:26:35.230Z"
   },
   {
    "duration": 43,
    "start_time": "2022-02-10T12:26:35.242Z"
   },
   {
    "duration": 36,
    "start_time": "2022-02-10T12:26:35.288Z"
   },
   {
    "duration": 33,
    "start_time": "2022-02-10T12:26:35.326Z"
   },
   {
    "duration": 7,
    "start_time": "2022-02-10T12:26:35.361Z"
   },
   {
    "duration": 15,
    "start_time": "2022-02-10T12:26:35.370Z"
   },
   {
    "duration": 33,
    "start_time": "2022-02-10T12:26:35.386Z"
   },
   {
    "duration": 23,
    "start_time": "2022-02-10T12:26:35.421Z"
   },
   {
    "duration": 3,
    "start_time": "2022-02-10T12:26:35.447Z"
   },
   {
    "duration": 20,
    "start_time": "2022-02-10T12:26:35.452Z"
   },
   {
    "duration": 11,
    "start_time": "2022-02-10T12:26:35.476Z"
   },
   {
    "duration": 16,
    "start_time": "2022-02-10T12:26:35.489Z"
   },
   {
    "duration": 13,
    "start_time": "2022-02-10T12:26:35.507Z"
   },
   {
    "duration": 7,
    "start_time": "2022-02-10T12:26:35.522Z"
   },
   {
    "duration": 11,
    "start_time": "2022-02-10T12:26:35.531Z"
   },
   {
    "duration": 32,
    "start_time": "2022-02-10T12:26:35.543Z"
   },
   {
    "duration": 10,
    "start_time": "2022-02-10T12:26:35.577Z"
   },
   {
    "duration": 34,
    "start_time": "2022-02-10T12:26:35.589Z"
   },
   {
    "duration": 15,
    "start_time": "2022-02-10T12:26:35.624Z"
   },
   {
    "duration": 15,
    "start_time": "2022-02-10T12:26:35.641Z"
   },
   {
    "duration": 24,
    "start_time": "2022-02-10T12:26:35.659Z"
   },
   {
    "duration": 18,
    "start_time": "2022-02-10T12:26:35.685Z"
   },
   {
    "duration": 19,
    "start_time": "2022-02-10T12:26:35.705Z"
   },
   {
    "duration": 30,
    "start_time": "2022-02-10T12:26:35.725Z"
   },
   {
    "duration": 29,
    "start_time": "2022-02-10T12:26:35.757Z"
   },
   {
    "duration": 18,
    "start_time": "2022-02-10T12:26:35.788Z"
   },
   {
    "duration": 12,
    "start_time": "2022-02-10T12:26:35.808Z"
   },
   {
    "duration": 30,
    "start_time": "2022-02-10T12:26:35.822Z"
   },
   {
    "duration": 17,
    "start_time": "2022-02-10T12:26:35.854Z"
   },
   {
    "duration": 27,
    "start_time": "2022-02-10T12:26:35.873Z"
   },
   {
    "duration": 18,
    "start_time": "2022-02-10T12:26:35.901Z"
   },
   {
    "duration": 7,
    "start_time": "2022-02-10T12:26:35.921Z"
   },
   {
    "duration": 35,
    "start_time": "2022-02-10T12:26:35.929Z"
   },
   {
    "duration": 14,
    "start_time": "2022-02-10T12:26:35.966Z"
   },
   {
    "duration": 19,
    "start_time": "2022-02-10T12:26:35.981Z"
   },
   {
    "duration": 17,
    "start_time": "2022-02-10T12:26:36.001Z"
   },
   {
    "duration": 13,
    "start_time": "2022-02-10T12:26:36.020Z"
   },
   {
    "duration": 19,
    "start_time": "2022-02-10T12:26:36.035Z"
   },
   {
    "duration": 5,
    "start_time": "2022-02-10T12:26:40.018Z"
   },
   {
    "duration": 10,
    "start_time": "2022-02-10T12:26:40.574Z"
   },
   {
    "duration": 6,
    "start_time": "2022-02-10T12:26:47.434Z"
   },
   {
    "duration": 11,
    "start_time": "2022-02-10T12:26:47.951Z"
   },
   {
    "duration": 6,
    "start_time": "2022-02-10T12:27:20.496Z"
   },
   {
    "duration": 45,
    "start_time": "2022-02-10T12:27:20.504Z"
   },
   {
    "duration": 14,
    "start_time": "2022-02-10T12:27:20.552Z"
   },
   {
    "duration": 15,
    "start_time": "2022-02-10T12:27:20.569Z"
   },
   {
    "duration": 64,
    "start_time": "2022-02-10T12:27:20.586Z"
   },
   {
    "duration": 10,
    "start_time": "2022-02-10T12:27:20.651Z"
   },
   {
    "duration": 13,
    "start_time": "2022-02-10T12:27:20.664Z"
   },
   {
    "duration": 40,
    "start_time": "2022-02-10T12:27:20.680Z"
   },
   {
    "duration": 11,
    "start_time": "2022-02-10T12:27:20.722Z"
   },
   {
    "duration": 83,
    "start_time": "2022-02-10T12:27:20.735Z"
   },
   {
    "duration": 11,
    "start_time": "2022-02-10T12:27:20.820Z"
   },
   {
    "duration": 39,
    "start_time": "2022-02-10T12:27:20.833Z"
   },
   {
    "duration": 6,
    "start_time": "2022-02-10T12:27:20.874Z"
   },
   {
    "duration": 15,
    "start_time": "2022-02-10T12:27:20.882Z"
   },
   {
    "duration": 26,
    "start_time": "2022-02-10T12:27:20.899Z"
   },
   {
    "duration": 29,
    "start_time": "2022-02-10T12:27:20.926Z"
   },
   {
    "duration": 4,
    "start_time": "2022-02-10T12:27:20.956Z"
   },
   {
    "duration": 15,
    "start_time": "2022-02-10T12:27:20.962Z"
   },
   {
    "duration": 9,
    "start_time": "2022-02-10T12:27:20.982Z"
   },
   {
    "duration": 28,
    "start_time": "2022-02-10T12:27:20.993Z"
   },
   {
    "duration": 9,
    "start_time": "2022-02-10T12:27:21.023Z"
   },
   {
    "duration": 18,
    "start_time": "2022-02-10T12:27:21.034Z"
   },
   {
    "duration": 8,
    "start_time": "2022-02-10T12:27:21.054Z"
   },
   {
    "duration": 33,
    "start_time": "2022-02-10T12:27:21.064Z"
   },
   {
    "duration": 10,
    "start_time": "2022-02-10T12:27:21.119Z"
   },
   {
    "duration": 20,
    "start_time": "2022-02-10T12:27:21.131Z"
   },
   {
    "duration": 10,
    "start_time": "2022-02-10T12:27:21.153Z"
   },
   {
    "duration": 9,
    "start_time": "2022-02-10T12:27:21.165Z"
   },
   {
    "duration": 40,
    "start_time": "2022-02-10T12:27:21.176Z"
   },
   {
    "duration": 18,
    "start_time": "2022-02-10T12:27:21.218Z"
   },
   {
    "duration": 12,
    "start_time": "2022-02-10T12:27:21.238Z"
   },
   {
    "duration": 19,
    "start_time": "2022-02-10T12:27:21.252Z"
   },
   {
    "duration": 22,
    "start_time": "2022-02-10T12:27:21.273Z"
   },
   {
    "duration": 15,
    "start_time": "2022-02-10T12:27:21.297Z"
   },
   {
    "duration": 22,
    "start_time": "2022-02-10T12:27:21.314Z"
   },
   {
    "duration": 12,
    "start_time": "2022-02-10T12:27:21.337Z"
   },
   {
    "duration": 9,
    "start_time": "2022-02-10T12:27:21.351Z"
   },
   {
    "duration": 9,
    "start_time": "2022-02-10T12:27:21.362Z"
   },
   {
    "duration": 17,
    "start_time": "2022-02-10T12:27:21.373Z"
   },
   {
    "duration": 7,
    "start_time": "2022-02-10T12:27:21.392Z"
   },
   {
    "duration": 19,
    "start_time": "2022-02-10T12:27:21.400Z"
   },
   {
    "duration": 6,
    "start_time": "2022-02-10T12:27:21.421Z"
   },
   {
    "duration": 15,
    "start_time": "2022-02-10T12:27:21.428Z"
   },
   {
    "duration": 11,
    "start_time": "2022-02-10T12:27:21.445Z"
   },
   {
    "duration": 10,
    "start_time": "2022-02-10T12:27:21.457Z"
   },
   {
    "duration": 10,
    "start_time": "2022-02-10T12:27:21.468Z"
   },
   {
    "duration": 40,
    "start_time": "2022-02-10T12:27:21.480Z"
   },
   {
    "duration": 6,
    "start_time": "2022-02-10T12:27:21.522Z"
   },
   {
    "duration": 26,
    "start_time": "2022-02-10T12:27:21.530Z"
   },
   {
    "duration": 6,
    "start_time": "2022-02-10T12:27:21.558Z"
   },
   {
    "duration": 10,
    "start_time": "2022-02-10T12:27:21.566Z"
   },
   {
    "duration": 23,
    "start_time": "2022-02-10T12:27:21.578Z"
   },
   {
    "duration": 19,
    "start_time": "2022-02-10T12:27:21.604Z"
   },
   {
    "duration": 55,
    "start_time": "2022-02-10T12:27:21.626Z"
   },
   {
    "duration": 2793,
    "start_time": "2022-02-10T12:27:21.687Z"
   },
   {
    "duration": 6,
    "start_time": "2022-02-10T12:27:24.482Z"
   },
   {
    "duration": 4,
    "start_time": "2022-02-10T12:27:24.490Z"
   },
   {
    "duration": 3246,
    "start_time": "2022-02-10T12:27:24.496Z"
   },
   {
    "duration": 7,
    "start_time": "2022-02-10T12:27:27.744Z"
   },
   {
    "duration": 11,
    "start_time": "2022-02-10T12:27:27.752Z"
   },
   {
    "duration": 7,
    "start_time": "2022-02-10T12:27:27.765Z"
   },
   {
    "duration": 293,
    "start_time": "2022-02-10T12:27:27.774Z"
   },
   {
    "duration": 7,
    "start_time": "2022-02-10T12:27:28.825Z"
   },
   {
    "duration": 8,
    "start_time": "2022-02-10T12:27:29.443Z"
   },
   {
    "duration": 7,
    "start_time": "2022-02-10T12:27:29.820Z"
   },
   {
    "duration": 6,
    "start_time": "2022-02-10T12:27:33.100Z"
   },
   {
    "duration": 8,
    "start_time": "2022-02-10T12:27:33.788Z"
   },
   {
    "duration": 11,
    "start_time": "2022-02-10T12:27:38.088Z"
   },
   {
    "duration": 11,
    "start_time": "2022-02-10T12:27:46.004Z"
   },
   {
    "duration": 5,
    "start_time": "2022-02-10T12:35:15.067Z"
   },
   {
    "duration": 66,
    "start_time": "2022-02-10T12:35:15.074Z"
   },
   {
    "duration": 16,
    "start_time": "2022-02-10T12:35:15.143Z"
   },
   {
    "duration": 23,
    "start_time": "2022-02-10T12:35:15.161Z"
   },
   {
    "duration": 66,
    "start_time": "2022-02-10T12:35:15.186Z"
   },
   {
    "duration": 11,
    "start_time": "2022-02-10T12:35:15.254Z"
   },
   {
    "duration": 14,
    "start_time": "2022-02-10T12:35:15.268Z"
   },
   {
    "duration": 43,
    "start_time": "2022-02-10T12:35:15.284Z"
   },
   {
    "duration": 17,
    "start_time": "2022-02-10T12:35:15.329Z"
   },
   {
    "duration": 72,
    "start_time": "2022-02-10T12:35:15.348Z"
   },
   {
    "duration": 11,
    "start_time": "2022-02-10T12:35:15.422Z"
   },
   {
    "duration": 47,
    "start_time": "2022-02-10T12:35:15.435Z"
   },
   {
    "duration": 36,
    "start_time": "2022-02-10T12:35:15.484Z"
   },
   {
    "duration": 35,
    "start_time": "2022-02-10T12:35:15.522Z"
   },
   {
    "duration": 37,
    "start_time": "2022-02-10T12:35:15.562Z"
   },
   {
    "duration": 44,
    "start_time": "2022-02-10T12:35:15.601Z"
   },
   {
    "duration": 5,
    "start_time": "2022-02-10T12:35:15.647Z"
   },
   {
    "duration": 14,
    "start_time": "2022-02-10T12:35:15.654Z"
   },
   {
    "duration": 19,
    "start_time": "2022-02-10T12:35:15.673Z"
   },
   {
    "duration": 13,
    "start_time": "2022-02-10T12:35:15.695Z"
   },
   {
    "duration": 30,
    "start_time": "2022-02-10T12:35:15.710Z"
   },
   {
    "duration": 9,
    "start_time": "2022-02-10T12:35:15.742Z"
   },
   {
    "duration": 15,
    "start_time": "2022-02-10T12:35:15.752Z"
   },
   {
    "duration": 38,
    "start_time": "2022-02-10T12:35:15.769Z"
   },
   {
    "duration": 10,
    "start_time": "2022-02-10T12:35:15.809Z"
   },
   {
    "duration": 7,
    "start_time": "2022-02-10T12:35:15.821Z"
   },
   {
    "duration": 14,
    "start_time": "2022-02-10T12:35:15.830Z"
   },
   {
    "duration": 7,
    "start_time": "2022-02-10T12:35:15.846Z"
   },
   {
    "duration": 20,
    "start_time": "2022-02-10T12:35:15.855Z"
   },
   {
    "duration": 18,
    "start_time": "2022-02-10T12:35:15.877Z"
   },
   {
    "duration": 29,
    "start_time": "2022-02-10T12:35:15.897Z"
   },
   {
    "duration": 17,
    "start_time": "2022-02-10T12:35:15.928Z"
   },
   {
    "duration": 12,
    "start_time": "2022-02-10T12:35:15.947Z"
   },
   {
    "duration": 9,
    "start_time": "2022-02-10T12:35:15.961Z"
   },
   {
    "duration": 7,
    "start_time": "2022-02-10T12:35:15.972Z"
   },
   {
    "duration": 9,
    "start_time": "2022-02-10T12:35:15.980Z"
   },
   {
    "duration": 10,
    "start_time": "2022-02-10T12:35:16.019Z"
   },
   {
    "duration": 10,
    "start_time": "2022-02-10T12:35:16.031Z"
   },
   {
    "duration": 20,
    "start_time": "2022-02-10T12:35:16.043Z"
   },
   {
    "duration": 14,
    "start_time": "2022-02-10T12:35:16.065Z"
   },
   {
    "duration": 22,
    "start_time": "2022-02-10T12:35:16.081Z"
   },
   {
    "duration": 16,
    "start_time": "2022-02-10T12:35:16.105Z"
   },
   {
    "duration": 21,
    "start_time": "2022-02-10T12:35:16.123Z"
   },
   {
    "duration": 7,
    "start_time": "2022-02-10T12:35:16.146Z"
   },
   {
    "duration": 14,
    "start_time": "2022-02-10T12:35:16.155Z"
   },
   {
    "duration": 12,
    "start_time": "2022-02-10T12:35:16.171Z"
   },
   {
    "duration": 7,
    "start_time": "2022-02-10T12:35:16.185Z"
   },
   {
    "duration": 8,
    "start_time": "2022-02-10T12:35:16.194Z"
   },
   {
    "duration": 24,
    "start_time": "2022-02-10T12:35:16.203Z"
   },
   {
    "duration": 5,
    "start_time": "2022-02-10T12:35:16.229Z"
   },
   {
    "duration": 6,
    "start_time": "2022-02-10T12:35:16.236Z"
   },
   {
    "duration": 18,
    "start_time": "2022-02-10T12:35:16.243Z"
   },
   {
    "duration": 24,
    "start_time": "2022-02-10T12:35:16.263Z"
   },
   {
    "duration": 56,
    "start_time": "2022-02-10T12:35:16.289Z"
   },
   {
    "duration": 2739,
    "start_time": "2022-02-10T12:35:16.350Z"
   },
   {
    "duration": 7,
    "start_time": "2022-02-10T12:35:19.092Z"
   },
   {
    "duration": 5,
    "start_time": "2022-02-10T12:35:19.101Z"
   },
   {
    "duration": 3285,
    "start_time": "2022-02-10T12:35:19.119Z"
   },
   {
    "duration": 18,
    "start_time": "2022-02-10T12:35:22.407Z"
   },
   {
    "duration": 17,
    "start_time": "2022-02-10T12:35:22.427Z"
   },
   {
    "duration": 6,
    "start_time": "2022-02-10T12:35:22.446Z"
   },
   {
    "duration": 405,
    "start_time": "2022-02-10T12:35:22.453Z"
   },
   {
    "duration": 7,
    "start_time": "2022-02-10T12:35:22.859Z"
   },
   {
    "duration": 7,
    "start_time": "2022-02-10T12:35:22.868Z"
   },
   {
    "duration": 12,
    "start_time": "2022-02-10T12:35:22.877Z"
   },
   {
    "duration": 13,
    "start_time": "2022-02-10T12:35:22.890Z"
   },
   {
    "duration": 15,
    "start_time": "2022-02-10T12:35:22.904Z"
   },
   {
    "duration": 12,
    "start_time": "2022-02-10T12:35:22.921Z"
   },
   {
    "duration": 308,
    "start_time": "2022-02-10T12:38:21.464Z"
   },
   {
    "duration": 272,
    "start_time": "2022-02-10T12:38:55.569Z"
   },
   {
    "duration": 334,
    "start_time": "2022-02-10T12:40:02.253Z"
   },
   {
    "duration": 4,
    "start_time": "2022-02-10T12:40:06.686Z"
   },
   {
    "duration": 7,
    "start_time": "2022-02-10T12:40:17.579Z"
   },
   {
    "duration": 9,
    "start_time": "2022-02-10T12:40:18.529Z"
   },
   {
    "duration": 7,
    "start_time": "2022-02-10T12:40:19.049Z"
   },
   {
    "duration": 7,
    "start_time": "2022-02-10T12:40:19.808Z"
   },
   {
    "duration": 8,
    "start_time": "2022-02-10T12:40:20.548Z"
   },
   {
    "duration": 15,
    "start_time": "2022-02-10T12:40:22.913Z"
   },
   {
    "duration": 5,
    "start_time": "2022-02-10T12:40:27.126Z"
   },
   {
    "duration": 10,
    "start_time": "2022-02-10T12:40:27.726Z"
   },
   {
    "duration": 1084,
    "start_time": "2022-02-11T04:42:15.786Z"
   },
   {
    "duration": 45,
    "start_time": "2022-02-11T04:42:16.872Z"
   },
   {
    "duration": 17,
    "start_time": "2022-02-11T04:42:16.919Z"
   },
   {
    "duration": 12,
    "start_time": "2022-02-11T04:42:16.938Z"
   },
   {
    "duration": 33,
    "start_time": "2022-02-11T04:42:16.952Z"
   },
   {
    "duration": 11,
    "start_time": "2022-02-11T04:42:17.011Z"
   },
   {
    "duration": 11,
    "start_time": "2022-02-11T04:42:17.024Z"
   },
   {
    "duration": 5,
    "start_time": "2022-02-11T04:42:17.037Z"
   },
   {
    "duration": 9,
    "start_time": "2022-02-11T04:42:17.044Z"
   },
   {
    "duration": 68,
    "start_time": "2022-02-11T04:42:17.054Z"
   },
   {
    "duration": 9,
    "start_time": "2022-02-11T04:42:17.123Z"
   },
   {
    "duration": 32,
    "start_time": "2022-02-11T04:42:17.134Z"
   },
   {
    "duration": 5,
    "start_time": "2022-02-11T04:42:17.167Z"
   },
   {
    "duration": 12,
    "start_time": "2022-02-11T04:42:17.173Z"
   },
   {
    "duration": 26,
    "start_time": "2022-02-11T04:42:17.187Z"
   },
   {
    "duration": 22,
    "start_time": "2022-02-11T04:42:17.214Z"
   },
   {
    "duration": 2,
    "start_time": "2022-02-11T04:42:17.238Z"
   },
   {
    "duration": 10,
    "start_time": "2022-02-11T04:42:17.242Z"
   },
   {
    "duration": 6,
    "start_time": "2022-02-11T04:42:17.254Z"
   },
   {
    "duration": 3,
    "start_time": "2022-02-11T04:42:17.262Z"
   },
   {
    "duration": 7,
    "start_time": "2022-02-11T04:42:17.267Z"
   },
   {
    "duration": 5,
    "start_time": "2022-02-11T04:42:17.275Z"
   },
   {
    "duration": 6,
    "start_time": "2022-02-11T04:42:17.315Z"
   },
   {
    "duration": 31,
    "start_time": "2022-02-11T04:42:17.323Z"
   },
   {
    "duration": 8,
    "start_time": "2022-02-11T04:42:17.356Z"
   },
   {
    "duration": 4,
    "start_time": "2022-02-11T04:42:17.366Z"
   },
   {
    "duration": 17,
    "start_time": "2022-02-11T04:42:17.372Z"
   },
   {
    "duration": 25,
    "start_time": "2022-02-11T04:42:17.391Z"
   },
   {
    "duration": 18,
    "start_time": "2022-02-11T04:42:17.417Z"
   },
   {
    "duration": 17,
    "start_time": "2022-02-11T04:42:17.437Z"
   },
   {
    "duration": 7,
    "start_time": "2022-02-11T04:42:17.455Z"
   },
   {
    "duration": 14,
    "start_time": "2022-02-11T04:42:17.463Z"
   },
   {
    "duration": 34,
    "start_time": "2022-02-11T04:42:17.479Z"
   },
   {
    "duration": 7,
    "start_time": "2022-02-11T04:42:17.515Z"
   },
   {
    "duration": 9,
    "start_time": "2022-02-11T04:42:17.524Z"
   },
   {
    "duration": 10,
    "start_time": "2022-02-11T04:42:17.534Z"
   },
   {
    "duration": 9,
    "start_time": "2022-02-11T04:42:17.546Z"
   },
   {
    "duration": 8,
    "start_time": "2022-02-11T04:42:17.556Z"
   },
   {
    "duration": 13,
    "start_time": "2022-02-11T04:42:17.566Z"
   },
   {
    "duration": 7,
    "start_time": "2022-02-11T04:42:17.581Z"
   },
   {
    "duration": 7,
    "start_time": "2022-02-11T04:42:17.613Z"
   },
   {
    "duration": 6,
    "start_time": "2022-02-11T04:42:17.622Z"
   },
   {
    "duration": 13,
    "start_time": "2022-02-11T04:42:17.630Z"
   },
   {
    "duration": 6,
    "start_time": "2022-02-11T04:42:17.645Z"
   },
   {
    "duration": 5,
    "start_time": "2022-02-11T04:42:17.653Z"
   },
   {
    "duration": 8,
    "start_time": "2022-02-11T04:42:17.660Z"
   },
   {
    "duration": 6,
    "start_time": "2022-02-11T04:42:17.669Z"
   },
   {
    "duration": 36,
    "start_time": "2022-02-11T04:42:17.676Z"
   },
   {
    "duration": 9,
    "start_time": "2022-02-11T04:42:17.714Z"
   },
   {
    "duration": 5,
    "start_time": "2022-02-11T04:42:17.725Z"
   },
   {
    "duration": 5,
    "start_time": "2022-02-11T04:42:17.731Z"
   },
   {
    "duration": 7,
    "start_time": "2022-02-11T04:42:17.738Z"
   },
   {
    "duration": 10,
    "start_time": "2022-02-11T04:42:17.747Z"
   },
   {
    "duration": 6,
    "start_time": "2022-02-11T04:42:17.759Z"
   },
   {
    "duration": 2420,
    "start_time": "2022-02-11T04:42:17.767Z"
   },
   {
    "duration": 5,
    "start_time": "2022-02-11T04:42:20.189Z"
   },
   {
    "duration": 15,
    "start_time": "2022-02-11T04:42:20.196Z"
   },
   {
    "duration": 2599,
    "start_time": "2022-02-11T04:42:20.213Z"
   },
   {
    "duration": 7,
    "start_time": "2022-02-11T04:42:22.814Z"
   },
   {
    "duration": 13,
    "start_time": "2022-02-11T04:42:22.822Z"
   },
   {
    "duration": 6,
    "start_time": "2022-02-11T04:42:22.836Z"
   },
   {
    "duration": 299,
    "start_time": "2022-02-11T04:42:22.843Z"
   },
   {
    "duration": 6,
    "start_time": "2022-02-11T04:42:23.144Z"
   },
   {
    "duration": 10,
    "start_time": "2022-02-11T04:42:23.152Z"
   },
   {
    "duration": 6,
    "start_time": "2022-02-11T04:42:23.164Z"
   },
   {
    "duration": 9,
    "start_time": "2022-02-11T04:42:23.172Z"
   },
   {
    "duration": 10,
    "start_time": "2022-02-11T04:42:23.182Z"
   },
   {
    "duration": 12,
    "start_time": "2022-02-11T04:42:23.212Z"
   },
   {
    "duration": 7,
    "start_time": "2022-02-11T04:42:23.226Z"
   },
   {
    "duration": 3,
    "start_time": "2022-02-11T04:42:46.746Z"
   },
   {
    "duration": 9,
    "start_time": "2022-02-11T04:42:47.341Z"
   },
   {
    "duration": 2,
    "start_time": "2022-02-11T04:43:43.937Z"
   },
   {
    "duration": 17,
    "start_time": "2022-02-11T04:49:49.723Z"
   },
   {
    "duration": 15,
    "start_time": "2022-02-11T04:49:55.021Z"
   },
   {
    "duration": 72,
    "start_time": "2022-02-11T04:50:30.257Z"
   },
   {
    "duration": 15,
    "start_time": "2022-02-11T04:50:30.989Z"
   },
   {
    "duration": 10,
    "start_time": "2022-02-11T04:50:36.467Z"
   },
   {
    "duration": 6,
    "start_time": "2022-02-11T04:50:37.335Z"
   },
   {
    "duration": 11,
    "start_time": "2022-02-11T04:51:48.768Z"
   },
   {
    "duration": 6,
    "start_time": "2022-02-11T04:51:49.514Z"
   },
   {
    "duration": 319,
    "start_time": "2022-02-11T04:52:06.117Z"
   },
   {
    "duration": 230,
    "start_time": "2022-02-11T04:52:18.687Z"
   },
   {
    "duration": 10,
    "start_time": "2022-02-11T04:52:23.900Z"
   },
   {
    "duration": 4,
    "start_time": "2022-02-11T04:52:25.795Z"
   },
   {
    "duration": 9,
    "start_time": "2022-02-11T04:52:29.352Z"
   },
   {
    "duration": 4,
    "start_time": "2022-02-11T04:52:30.199Z"
   },
   {
    "duration": 9,
    "start_time": "2022-02-11T04:52:36.634Z"
   },
   {
    "duration": 5,
    "start_time": "2022-02-11T04:52:37.385Z"
   },
   {
    "duration": 227,
    "start_time": "2022-02-11T04:52:59.707Z"
   },
   {
    "duration": 10,
    "start_time": "2022-02-11T04:53:42.267Z"
   },
   {
    "duration": 5,
    "start_time": "2022-02-11T04:53:43.232Z"
   },
   {
    "duration": 12,
    "start_time": "2022-02-11T04:55:11.291Z"
   },
   {
    "duration": 6,
    "start_time": "2022-02-11T04:55:19.678Z"
   },
   {
    "duration": 275,
    "start_time": "2022-02-11T04:55:21.169Z"
   },
   {
    "duration": 11,
    "start_time": "2022-02-11T04:55:46.796Z"
   },
   {
    "duration": 6,
    "start_time": "2022-02-11T04:55:48.056Z"
   },
   {
    "duration": 265,
    "start_time": "2022-02-11T04:55:48.985Z"
   },
   {
    "duration": 7,
    "start_time": "2022-02-11T11:12:24.330Z"
   },
   {
    "duration": 5,
    "start_time": "2022-02-11T11:22:48.641Z"
   },
   {
    "duration": 43,
    "start_time": "2022-02-11T11:22:48.647Z"
   },
   {
    "duration": 13,
    "start_time": "2022-02-11T11:22:48.693Z"
   },
   {
    "duration": 12,
    "start_time": "2022-02-11T11:22:48.708Z"
   },
   {
    "duration": 33,
    "start_time": "2022-02-11T11:22:48.721Z"
   },
   {
    "duration": 8,
    "start_time": "2022-02-11T11:22:48.756Z"
   },
   {
    "duration": 9,
    "start_time": "2022-02-11T11:22:48.766Z"
   },
   {
    "duration": 37,
    "start_time": "2022-02-11T11:22:48.777Z"
   },
   {
    "duration": 7,
    "start_time": "2022-02-11T11:22:48.817Z"
   },
   {
    "duration": 39,
    "start_time": "2022-02-11T11:22:48.827Z"
   },
   {
    "duration": 9,
    "start_time": "2022-02-11T11:22:48.867Z"
   },
   {
    "duration": 32,
    "start_time": "2022-02-11T11:22:48.913Z"
   },
   {
    "duration": 6,
    "start_time": "2022-02-11T11:22:48.947Z"
   },
   {
    "duration": 7,
    "start_time": "2022-02-11T11:22:48.955Z"
   },
   {
    "duration": 6,
    "start_time": "2022-02-11T11:22:48.964Z"
   },
   {
    "duration": 54,
    "start_time": "2022-02-11T11:22:48.972Z"
   },
   {
    "duration": 3,
    "start_time": "2022-02-11T11:22:49.028Z"
   },
   {
    "duration": 11,
    "start_time": "2022-02-11T11:22:49.033Z"
   },
   {
    "duration": 5,
    "start_time": "2022-02-11T11:22:49.046Z"
   },
   {
    "duration": 3,
    "start_time": "2022-02-11T11:22:49.052Z"
   },
   {
    "duration": 4,
    "start_time": "2022-02-11T11:22:49.057Z"
   },
   {
    "duration": 4,
    "start_time": "2022-02-11T11:22:49.063Z"
   },
   {
    "duration": 47,
    "start_time": "2022-02-11T11:22:49.068Z"
   },
   {
    "duration": 33,
    "start_time": "2022-02-11T11:22:49.116Z"
   },
   {
    "duration": 9,
    "start_time": "2022-02-11T11:22:49.152Z"
   },
   {
    "duration": 5,
    "start_time": "2022-02-11T11:22:49.162Z"
   },
   {
    "duration": 6,
    "start_time": "2022-02-11T11:22:49.171Z"
   },
   {
    "duration": 36,
    "start_time": "2022-02-11T11:22:49.179Z"
   },
   {
    "duration": 16,
    "start_time": "2022-02-11T11:22:49.217Z"
   },
   {
    "duration": 15,
    "start_time": "2022-02-11T11:22:49.234Z"
   },
   {
    "duration": 7,
    "start_time": "2022-02-11T11:22:49.251Z"
   },
   {
    "duration": 11,
    "start_time": "2022-02-11T11:22:49.259Z"
   },
   {
    "duration": 12,
    "start_time": "2022-02-11T11:22:49.272Z"
   },
   {
    "duration": 8,
    "start_time": "2022-02-11T11:22:49.312Z"
   },
   {
    "duration": 9,
    "start_time": "2022-02-11T11:22:49.321Z"
   },
   {
    "duration": 8,
    "start_time": "2022-02-11T11:22:49.331Z"
   },
   {
    "duration": 7,
    "start_time": "2022-02-11T11:22:49.341Z"
   },
   {
    "duration": 6,
    "start_time": "2022-02-11T11:22:49.350Z"
   },
   {
    "duration": 11,
    "start_time": "2022-02-11T11:22:49.358Z"
   },
   {
    "duration": 7,
    "start_time": "2022-02-11T11:22:49.371Z"
   },
   {
    "duration": 35,
    "start_time": "2022-02-11T11:22:49.380Z"
   },
   {
    "duration": 3,
    "start_time": "2022-02-11T11:22:49.417Z"
   },
   {
    "duration": 8,
    "start_time": "2022-02-11T11:22:49.422Z"
   },
   {
    "duration": 6,
    "start_time": "2022-02-11T11:22:49.432Z"
   },
   {
    "duration": 4,
    "start_time": "2022-02-11T11:22:49.440Z"
   },
   {
    "duration": 8,
    "start_time": "2022-02-11T11:22:49.445Z"
   },
   {
    "duration": 6,
    "start_time": "2022-02-11T11:22:49.454Z"
   },
   {
    "duration": 5,
    "start_time": "2022-02-11T11:22:49.461Z"
   },
   {
    "duration": 52,
    "start_time": "2022-02-11T11:22:49.468Z"
   },
   {
    "duration": 3,
    "start_time": "2022-02-11T11:22:49.522Z"
   },
   {
    "duration": 6,
    "start_time": "2022-02-11T11:22:49.526Z"
   },
   {
    "duration": 7,
    "start_time": "2022-02-11T11:22:49.533Z"
   },
   {
    "duration": 10,
    "start_time": "2022-02-11T11:22:49.541Z"
   },
   {
    "duration": 65,
    "start_time": "2022-02-11T11:22:49.553Z"
   },
   {
    "duration": 2648,
    "start_time": "2022-02-11T11:22:49.619Z"
   },
   {
    "duration": 4,
    "start_time": "2022-02-11T11:22:52.269Z"
   },
   {
    "duration": 4,
    "start_time": "2022-02-11T11:22:52.275Z"
   },
   {
    "duration": 2820,
    "start_time": "2022-02-11T11:22:52.281Z"
   },
   {
    "duration": 15,
    "start_time": "2022-02-11T11:22:55.103Z"
   },
   {
    "duration": 14,
    "start_time": "2022-02-11T11:22:55.119Z"
   },
   {
    "duration": 5,
    "start_time": "2022-02-11T11:22:55.134Z"
   },
   {
    "duration": 8,
    "start_time": "2022-02-11T11:22:55.141Z"
   },
   {
    "duration": 5,
    "start_time": "2022-02-11T11:22:55.150Z"
   },
   {
    "duration": 5,
    "start_time": "2022-02-11T11:22:55.157Z"
   },
   {
    "duration": 11,
    "start_time": "2022-02-11T11:22:55.164Z"
   },
   {
    "duration": 11,
    "start_time": "2022-02-11T11:22:55.216Z"
   },
   {
    "duration": 6,
    "start_time": "2022-02-11T11:22:55.229Z"
   },
   {
    "duration": 9,
    "start_time": "2022-02-11T11:22:55.237Z"
   },
   {
    "duration": 10,
    "start_time": "2022-02-11T11:22:55.247Z"
   },
   {
    "duration": 8,
    "start_time": "2022-02-11T11:22:55.258Z"
   },
   {
    "duration": 5,
    "start_time": "2022-02-11T11:22:55.268Z"
   },
   {
    "duration": 42,
    "start_time": "2022-02-11T11:22:55.275Z"
   },
   {
    "duration": 9,
    "start_time": "2022-02-11T11:22:55.318Z"
   },
   {
    "duration": 19,
    "start_time": "2022-02-11T11:22:55.328Z"
   },
   {
    "duration": 13,
    "start_time": "2022-02-11T11:22:55.348Z"
   },
   {
    "duration": 7,
    "start_time": "2022-02-11T11:22:55.363Z"
   },
   {
    "duration": 7,
    "start_time": "2022-02-11T11:22:55.372Z"
   },
   {
    "duration": 7,
    "start_time": "2022-02-11T11:22:55.381Z"
   },
   {
    "duration": 24,
    "start_time": "2022-02-11T11:22:55.390Z"
   },
   {
    "duration": 5,
    "start_time": "2022-02-11T11:22:55.416Z"
   },
   {
    "duration": 10,
    "start_time": "2022-02-11T11:22:55.423Z"
   },
   {
    "duration": 12,
    "start_time": "2022-02-11T11:22:55.435Z"
   },
   {
    "duration": 6,
    "start_time": "2022-02-11T11:22:55.449Z"
   },
   {
    "duration": 8,
    "start_time": "2022-02-11T11:22:55.457Z"
   },
   {
    "duration": 5,
    "start_time": "2022-02-11T11:22:55.466Z"
   },
   {
    "duration": 42,
    "start_time": "2022-02-11T11:22:55.472Z"
   },
   {
    "duration": 13,
    "start_time": "2022-02-11T11:22:55.516Z"
   },
   {
    "duration": 3,
    "start_time": "2022-02-11T11:23:29.665Z"
   },
   {
    "duration": 8,
    "start_time": "2022-02-11T11:26:46.383Z"
   },
   {
    "duration": 33,
    "start_time": "2022-02-11T11:26:46.935Z"
   },
   {
    "duration": 857,
    "start_time": "2022-02-17T12:06:39.775Z"
   },
   {
    "duration": 65,
    "start_time": "2022-02-17T12:06:40.635Z"
   },
   {
    "duration": 40,
    "start_time": "2022-02-17T12:06:40.703Z"
   },
   {
    "duration": 17,
    "start_time": "2022-02-17T12:06:40.746Z"
   },
   {
    "duration": 100,
    "start_time": "2022-02-17T12:06:40.765Z"
   },
   {
    "duration": 19,
    "start_time": "2022-02-17T12:06:40.868Z"
   },
   {
    "duration": 40,
    "start_time": "2022-02-17T12:06:40.889Z"
   },
   {
    "duration": 9,
    "start_time": "2022-02-17T12:06:40.932Z"
   },
   {
    "duration": 13,
    "start_time": "2022-02-17T12:06:40.947Z"
   },
   {
    "duration": 99,
    "start_time": "2022-02-17T12:06:40.965Z"
   },
   {
    "duration": 15,
    "start_time": "2022-02-17T12:06:41.067Z"
   },
   {
    "duration": 45,
    "start_time": "2022-02-17T12:06:41.085Z"
   },
   {
    "duration": 50,
    "start_time": "2022-02-17T12:06:41.134Z"
   },
   {
    "duration": 40,
    "start_time": "2022-02-17T12:06:41.186Z"
   },
   {
    "duration": 10,
    "start_time": "2022-02-17T12:06:41.229Z"
   },
   {
    "duration": 21,
    "start_time": "2022-02-17T12:06:41.241Z"
   },
   {
    "duration": 42,
    "start_time": "2022-02-17T12:06:41.265Z"
   },
   {
    "duration": 18,
    "start_time": "2022-02-17T12:06:41.310Z"
   },
   {
    "duration": 15,
    "start_time": "2022-02-17T12:06:41.330Z"
   },
   {
    "duration": 8,
    "start_time": "2022-02-17T12:06:41.348Z"
   },
   {
    "duration": 6,
    "start_time": "2022-02-17T12:06:41.359Z"
   },
   {
    "duration": 12,
    "start_time": "2022-02-17T12:06:41.367Z"
   },
   {
    "duration": 47,
    "start_time": "2022-02-17T12:06:41.381Z"
   },
   {
    "duration": 15,
    "start_time": "2022-02-17T12:06:41.431Z"
   },
   {
    "duration": 48,
    "start_time": "2022-02-17T12:06:41.449Z"
   },
   {
    "duration": 33,
    "start_time": "2022-02-17T12:06:41.500Z"
   },
   {
    "duration": 8,
    "start_time": "2022-02-17T12:06:41.540Z"
   },
   {
    "duration": 13,
    "start_time": "2022-02-17T12:06:41.553Z"
   },
   {
    "duration": 15,
    "start_time": "2022-02-17T12:06:41.569Z"
   },
   {
    "duration": 75,
    "start_time": "2022-02-17T12:06:41.587Z"
   },
   {
    "duration": 30,
    "start_time": "2022-02-17T12:06:41.664Z"
   },
   {
    "duration": 30,
    "start_time": "2022-02-17T12:06:41.697Z"
   },
   {
    "duration": 22,
    "start_time": "2022-02-17T12:06:41.729Z"
   },
   {
    "duration": 15,
    "start_time": "2022-02-17T12:06:41.754Z"
   },
   {
    "duration": 12,
    "start_time": "2022-02-17T12:06:41.772Z"
   },
   {
    "duration": 43,
    "start_time": "2022-02-17T12:06:41.787Z"
   },
   {
    "duration": 11,
    "start_time": "2022-02-17T12:06:41.832Z"
   },
   {
    "duration": 17,
    "start_time": "2022-02-17T12:06:41.846Z"
   },
   {
    "duration": 16,
    "start_time": "2022-02-17T12:06:41.865Z"
   },
   {
    "duration": 47,
    "start_time": "2022-02-17T12:06:41.884Z"
   },
   {
    "duration": 10,
    "start_time": "2022-02-17T12:06:41.934Z"
   },
   {
    "duration": 16,
    "start_time": "2022-02-17T12:06:41.948Z"
   },
   {
    "duration": 13,
    "start_time": "2022-02-17T12:06:41.967Z"
   },
   {
    "duration": 45,
    "start_time": "2022-02-17T12:06:41.984Z"
   },
   {
    "duration": 12,
    "start_time": "2022-02-17T12:06:42.033Z"
   },
   {
    "duration": 7,
    "start_time": "2022-02-17T12:06:42.051Z"
   },
   {
    "duration": 14,
    "start_time": "2022-02-17T12:06:42.061Z"
   },
   {
    "duration": 14,
    "start_time": "2022-02-17T12:06:42.078Z"
   },
   {
    "duration": 40,
    "start_time": "2022-02-17T12:06:42.094Z"
   },
   {
    "duration": 22,
    "start_time": "2022-02-17T12:06:42.137Z"
   },
   {
    "duration": 9,
    "start_time": "2022-02-17T12:06:42.161Z"
   },
   {
    "duration": 9,
    "start_time": "2022-02-17T12:06:42.172Z"
   },
   {
    "duration": 44,
    "start_time": "2022-02-17T12:06:42.184Z"
   },
   {
    "duration": 17,
    "start_time": "2022-02-17T12:06:42.230Z"
   },
   {
    "duration": 8,
    "start_time": "2022-02-17T12:06:42.250Z"
   },
   {
    "duration": 4064,
    "start_time": "2022-02-17T12:06:42.260Z"
   },
   {
    "duration": 7,
    "start_time": "2022-02-17T12:06:46.327Z"
   },
   {
    "duration": 8,
    "start_time": "2022-02-17T12:06:46.337Z"
   },
   {
    "duration": 4743,
    "start_time": "2022-02-17T12:06:46.347Z"
   },
   {
    "duration": 32,
    "start_time": "2022-02-17T12:06:51.093Z"
   },
   {
    "duration": 21,
    "start_time": "2022-02-17T12:06:51.128Z"
   },
   {
    "duration": 11,
    "start_time": "2022-02-17T12:06:51.153Z"
   },
   {
    "duration": 16,
    "start_time": "2022-02-17T12:06:51.167Z"
   },
   {
    "duration": 40,
    "start_time": "2022-02-17T12:06:51.186Z"
   },
   {
    "duration": 7,
    "start_time": "2022-02-17T12:06:51.228Z"
   },
   {
    "duration": 20,
    "start_time": "2022-02-17T12:06:51.238Z"
   },
   {
    "duration": 17,
    "start_time": "2022-02-17T12:06:51.260Z"
   },
   {
    "duration": 8,
    "start_time": "2022-02-17T12:06:51.280Z"
   },
   {
    "duration": 9,
    "start_time": "2022-02-17T12:06:51.328Z"
   },
   {
    "duration": 21,
    "start_time": "2022-02-17T12:06:51.339Z"
   },
   {
    "duration": 13,
    "start_time": "2022-02-17T12:06:51.362Z"
   },
   {
    "duration": 8,
    "start_time": "2022-02-17T12:06:51.378Z"
   },
   {
    "duration": 43,
    "start_time": "2022-02-17T12:06:51.388Z"
   },
   {
    "duration": 13,
    "start_time": "2022-02-17T12:06:51.434Z"
   },
   {
    "duration": 25,
    "start_time": "2022-02-17T12:06:51.450Z"
   },
   {
    "duration": 21,
    "start_time": "2022-02-17T12:06:51.477Z"
   },
   {
    "duration": 27,
    "start_time": "2022-02-17T12:06:51.501Z"
   },
   {
    "duration": 11,
    "start_time": "2022-02-17T12:06:51.531Z"
   },
   {
    "duration": 17,
    "start_time": "2022-02-17T12:06:51.545Z"
   },
   {
    "duration": 14,
    "start_time": "2022-02-17T12:06:51.565Z"
   },
   {
    "duration": 6,
    "start_time": "2022-02-17T12:06:51.588Z"
   },
   {
    "duration": 15,
    "start_time": "2022-02-17T12:06:51.626Z"
   },
   {
    "duration": 23,
    "start_time": "2022-02-17T12:06:51.644Z"
   },
   {
    "duration": 15,
    "start_time": "2022-02-17T12:06:51.670Z"
   },
   {
    "duration": 52,
    "start_time": "2022-02-17T12:06:51.688Z"
   },
   {
    "duration": 9,
    "start_time": "2022-02-17T12:06:51.742Z"
   },
   {
    "duration": 9,
    "start_time": "2022-02-17T12:06:51.753Z"
   },
   {
    "duration": 18,
    "start_time": "2022-02-17T12:06:51.765Z"
   },
   {
    "duration": 10,
    "start_time": "2022-02-17T12:08:48.703Z"
   },
   {
    "duration": 214,
    "start_time": "2022-02-17T17:05:02.876Z"
   },
   {
    "duration": 166,
    "start_time": "2022-02-17T17:08:38.333Z"
   },
   {
    "duration": 121,
    "start_time": "2022-02-17T17:09:28.014Z"
   },
   {
    "duration": 534,
    "start_time": "2022-02-17T17:09:40.696Z"
   },
   {
    "duration": 46,
    "start_time": "2022-02-17T17:09:43.302Z"
   },
   {
    "duration": 19,
    "start_time": "2022-02-17T17:09:44.094Z"
   },
   {
    "duration": 11,
    "start_time": "2022-02-17T17:09:45.175Z"
   },
   {
    "duration": 31,
    "start_time": "2022-02-17T17:09:46.084Z"
   },
   {
    "duration": 10,
    "start_time": "2022-02-17T17:09:49.554Z"
   },
   {
    "duration": 9,
    "start_time": "2022-02-17T17:09:51.712Z"
   },
   {
    "duration": 5,
    "start_time": "2022-02-17T17:09:55.796Z"
   },
   {
    "duration": 9,
    "start_time": "2022-02-17T17:09:57.903Z"
   },
   {
    "duration": 39,
    "start_time": "2022-02-17T17:10:01.257Z"
   },
   {
    "duration": 9,
    "start_time": "2022-02-17T17:10:01.899Z"
   },
   {
    "duration": 29,
    "start_time": "2022-02-17T17:10:06.656Z"
   },
   {
    "duration": 167,
    "start_time": "2022-02-17T17:12:34.327Z"
   },
   {
    "duration": 25,
    "start_time": "2022-02-17T17:12:50.030Z"
   },
   {
    "duration": 150,
    "start_time": "2022-02-17T17:13:21.899Z"
   },
   {
    "duration": 2,
    "start_time": "2022-02-17T17:13:40.919Z"
   },
   {
    "duration": 51,
    "start_time": "2022-02-17T17:13:40.925Z"
   },
   {
    "duration": 12,
    "start_time": "2022-02-17T17:13:40.978Z"
   },
   {
    "duration": 15,
    "start_time": "2022-02-17T17:13:40.991Z"
   },
   {
    "duration": 47,
    "start_time": "2022-02-17T17:13:41.009Z"
   },
   {
    "duration": 9,
    "start_time": "2022-02-17T17:13:41.058Z"
   },
   {
    "duration": 10,
    "start_time": "2022-02-17T17:13:41.069Z"
   },
   {
    "duration": 6,
    "start_time": "2022-02-17T17:13:41.080Z"
   },
   {
    "duration": 43,
    "start_time": "2022-02-17T17:13:41.088Z"
   },
   {
    "duration": 41,
    "start_time": "2022-02-17T17:13:41.133Z"
   },
   {
    "duration": 9,
    "start_time": "2022-02-17T17:13:41.176Z"
   },
   {
    "duration": 53,
    "start_time": "2022-02-17T17:13:41.186Z"
   },
   {
    "duration": 5,
    "start_time": "2022-02-17T17:13:41.241Z"
   },
   {
    "duration": 7,
    "start_time": "2022-02-17T17:13:41.247Z"
   },
   {
    "duration": 10,
    "start_time": "2022-02-17T17:13:41.256Z"
   },
   {
    "duration": 22,
    "start_time": "2022-02-17T17:13:41.267Z"
   },
   {
    "duration": 3,
    "start_time": "2022-02-17T17:13:41.290Z"
   },
   {
    "duration": 8,
    "start_time": "2022-02-17T17:13:41.331Z"
   },
   {
    "duration": 9,
    "start_time": "2022-02-17T17:13:41.341Z"
   },
   {
    "duration": 3,
    "start_time": "2022-02-17T17:13:41.352Z"
   },
   {
    "duration": 7,
    "start_time": "2022-02-17T17:13:41.356Z"
   },
   {
    "duration": 3,
    "start_time": "2022-02-17T17:13:41.364Z"
   },
   {
    "duration": 7,
    "start_time": "2022-02-17T17:13:41.369Z"
   },
   {
    "duration": 62,
    "start_time": "2022-02-17T17:13:41.380Z"
   },
   {
    "duration": 8,
    "start_time": "2022-02-17T17:13:41.445Z"
   },
   {
    "duration": 9,
    "start_time": "2022-02-17T17:13:41.455Z"
   },
   {
    "duration": 10,
    "start_time": "2022-02-17T17:13:41.465Z"
   },
   {
    "duration": 4,
    "start_time": "2022-02-17T17:13:41.477Z"
   },
   {
    "duration": 15,
    "start_time": "2022-02-17T17:13:41.482Z"
   },
   {
    "duration": 47,
    "start_time": "2022-02-17T17:13:41.498Z"
   },
   {
    "duration": 7,
    "start_time": "2022-02-17T17:13:41.546Z"
   },
   {
    "duration": 12,
    "start_time": "2022-02-17T17:13:41.554Z"
   },
   {
    "duration": 9,
    "start_time": "2022-02-17T17:13:41.567Z"
   },
   {
    "duration": 8,
    "start_time": "2022-02-17T17:13:41.577Z"
   },
   {
    "duration": 6,
    "start_time": "2022-02-17T17:13:41.587Z"
   },
   {
    "duration": 38,
    "start_time": "2022-02-17T17:13:41.595Z"
   },
   {
    "duration": 6,
    "start_time": "2022-02-17T17:13:41.635Z"
   },
   {
    "duration": 6,
    "start_time": "2022-02-17T17:13:41.643Z"
   },
   {
    "duration": 12,
    "start_time": "2022-02-17T17:13:41.651Z"
   },
   {
    "duration": 7,
    "start_time": "2022-02-17T17:13:41.664Z"
   },
   {
    "duration": 8,
    "start_time": "2022-02-17T17:13:41.672Z"
   },
   {
    "duration": 5,
    "start_time": "2022-02-17T17:13:41.681Z"
   },
   {
    "duration": 9,
    "start_time": "2022-02-17T17:13:41.688Z"
   },
   {
    "duration": 36,
    "start_time": "2022-02-17T17:13:41.698Z"
   },
   {
    "duration": 4,
    "start_time": "2022-02-17T17:13:41.735Z"
   },
   {
    "duration": 10,
    "start_time": "2022-02-17T17:13:41.741Z"
   },
   {
    "duration": 6,
    "start_time": "2022-02-17T17:13:41.753Z"
   },
   {
    "duration": 8,
    "start_time": "2022-02-17T17:13:41.760Z"
   },
   {
    "duration": 14,
    "start_time": "2022-02-17T17:13:41.769Z"
   },
   {
    "duration": 3,
    "start_time": "2022-02-17T17:13:41.784Z"
   },
   {
    "duration": 4,
    "start_time": "2022-02-17T17:13:41.789Z"
   },
   {
    "duration": 8,
    "start_time": "2022-02-17T17:13:41.794Z"
   },
   {
    "duration": 11,
    "start_time": "2022-02-17T17:13:41.831Z"
   },
   {
    "duration": 9,
    "start_time": "2022-02-17T17:13:41.843Z"
   },
   {
    "duration": 495,
    "start_time": "2022-02-17T17:13:53.894Z"
   },
   {
    "duration": 53,
    "start_time": "2022-02-17T17:13:54.391Z"
   },
   {
    "duration": 22,
    "start_time": "2022-02-17T17:13:54.446Z"
   },
   {
    "duration": 12,
    "start_time": "2022-02-17T17:13:54.471Z"
   },
   {
    "duration": 65,
    "start_time": "2022-02-17T17:13:54.485Z"
   },
   {
    "duration": 8,
    "start_time": "2022-02-17T17:13:54.552Z"
   },
   {
    "duration": 9,
    "start_time": "2022-02-17T17:13:54.562Z"
   },
   {
    "duration": 5,
    "start_time": "2022-02-17T17:13:54.573Z"
   },
   {
    "duration": 7,
    "start_time": "2022-02-17T17:13:54.580Z"
   },
   {
    "duration": 72,
    "start_time": "2022-02-17T17:13:54.588Z"
   },
   {
    "duration": 8,
    "start_time": "2022-02-17T17:13:54.662Z"
   },
   {
    "duration": 31,
    "start_time": "2022-02-17T17:13:54.672Z"
   },
   {
    "duration": 28,
    "start_time": "2022-02-17T17:13:54.705Z"
   },
   {
    "duration": 11,
    "start_time": "2022-02-17T17:13:54.734Z"
   },
   {
    "duration": 6,
    "start_time": "2022-02-17T17:13:54.746Z"
   },
   {
    "duration": 23,
    "start_time": "2022-02-17T17:13:54.753Z"
   },
   {
    "duration": 3,
    "start_time": "2022-02-17T17:13:54.778Z"
   },
   {
    "duration": 12,
    "start_time": "2022-02-17T17:13:54.782Z"
   },
   {
    "duration": 6,
    "start_time": "2022-02-17T17:13:54.796Z"
   },
   {
    "duration": 28,
    "start_time": "2022-02-17T17:13:54.803Z"
   },
   {
    "duration": 6,
    "start_time": "2022-02-17T17:13:54.833Z"
   },
   {
    "duration": 5,
    "start_time": "2022-02-17T17:13:54.841Z"
   },
   {
    "duration": 5,
    "start_time": "2022-02-17T17:13:54.851Z"
   },
   {
    "duration": 30,
    "start_time": "2022-02-17T17:13:54.860Z"
   },
   {
    "duration": 43,
    "start_time": "2022-02-17T17:13:54.892Z"
   },
   {
    "duration": 5,
    "start_time": "2022-02-17T17:13:54.937Z"
   },
   {
    "duration": 9,
    "start_time": "2022-02-17T17:13:54.943Z"
   },
   {
    "duration": 6,
    "start_time": "2022-02-17T17:13:54.953Z"
   },
   {
    "duration": 17,
    "start_time": "2022-02-17T17:13:54.960Z"
   },
   {
    "duration": 52,
    "start_time": "2022-02-17T17:13:54.978Z"
   },
   {
    "duration": 8,
    "start_time": "2022-02-17T17:13:55.032Z"
   },
   {
    "duration": 14,
    "start_time": "2022-02-17T17:13:55.042Z"
   },
   {
    "duration": 14,
    "start_time": "2022-02-17T17:13:55.057Z"
   },
   {
    "duration": 12,
    "start_time": "2022-02-17T17:13:55.072Z"
   },
   {
    "duration": 8,
    "start_time": "2022-02-17T17:13:55.085Z"
   },
   {
    "duration": 7,
    "start_time": "2022-02-17T17:13:55.095Z"
   },
   {
    "duration": 27,
    "start_time": "2022-02-17T17:13:55.104Z"
   },
   {
    "duration": 8,
    "start_time": "2022-02-17T17:13:55.132Z"
   },
   {
    "duration": 13,
    "start_time": "2022-02-17T17:13:55.141Z"
   },
   {
    "duration": 6,
    "start_time": "2022-02-17T17:13:55.156Z"
   },
   {
    "duration": 10,
    "start_time": "2022-02-17T17:13:55.163Z"
   },
   {
    "duration": 5,
    "start_time": "2022-02-17T17:13:55.175Z"
   },
   {
    "duration": 17,
    "start_time": "2022-02-17T17:13:55.181Z"
   },
   {
    "duration": 8,
    "start_time": "2022-02-17T17:13:55.200Z"
   },
   {
    "duration": 4,
    "start_time": "2022-02-17T17:13:55.230Z"
   },
   {
    "duration": 10,
    "start_time": "2022-02-17T17:13:55.236Z"
   },
   {
    "duration": 7,
    "start_time": "2022-02-17T17:13:55.248Z"
   },
   {
    "duration": 6,
    "start_time": "2022-02-17T17:13:55.257Z"
   },
   {
    "duration": 13,
    "start_time": "2022-02-17T17:13:55.265Z"
   },
   {
    "duration": 7,
    "start_time": "2022-02-17T17:13:55.279Z"
   },
   {
    "duration": 5,
    "start_time": "2022-02-17T17:13:55.288Z"
   },
   {
    "duration": 8,
    "start_time": "2022-02-17T17:13:55.294Z"
   },
   {
    "duration": 33,
    "start_time": "2022-02-17T17:13:55.303Z"
   },
   {
    "duration": 5,
    "start_time": "2022-02-17T17:13:55.338Z"
   },
   {
    "duration": 2307,
    "start_time": "2022-02-17T17:13:55.344Z"
   },
   {
    "duration": 5,
    "start_time": "2022-02-17T17:13:57.653Z"
   },
   {
    "duration": 8,
    "start_time": "2022-02-17T17:13:57.660Z"
   },
   {
    "duration": 2934,
    "start_time": "2022-02-17T17:13:57.670Z"
   },
   {
    "duration": 7,
    "start_time": "2022-02-17T17:14:00.606Z"
   },
   {
    "duration": 12,
    "start_time": "2022-02-17T17:14:00.630Z"
   },
   {
    "duration": 10,
    "start_time": "2022-02-17T17:14:00.644Z"
   },
   {
    "duration": 17,
    "start_time": "2022-02-17T17:14:00.655Z"
   },
   {
    "duration": 9,
    "start_time": "2022-02-17T17:14:00.674Z"
   },
   {
    "duration": 28,
    "start_time": "2022-02-17T17:14:00.684Z"
   },
   {
    "duration": 37,
    "start_time": "2022-02-17T17:14:00.713Z"
   },
   {
    "duration": 20,
    "start_time": "2022-02-17T17:14:00.752Z"
   },
   {
    "duration": 9,
    "start_time": "2022-02-17T17:14:00.774Z"
   },
   {
    "duration": 14,
    "start_time": "2022-02-17T17:14:00.788Z"
   },
   {
    "duration": 31,
    "start_time": "2022-02-17T17:14:00.804Z"
   },
   {
    "duration": 27,
    "start_time": "2022-02-17T17:14:00.837Z"
   },
   {
    "duration": 16,
    "start_time": "2022-02-17T17:14:00.865Z"
   },
   {
    "duration": 13,
    "start_time": "2022-02-17T17:14:00.882Z"
   },
   {
    "duration": 17,
    "start_time": "2022-02-17T17:14:00.897Z"
   },
   {
    "duration": 24,
    "start_time": "2022-02-17T17:14:00.915Z"
   },
   {
    "duration": 13,
    "start_time": "2022-02-17T17:14:00.941Z"
   },
   {
    "duration": 11,
    "start_time": "2022-02-17T17:14:00.956Z"
   },
   {
    "duration": 14,
    "start_time": "2022-02-17T17:14:00.969Z"
   },
   {
    "duration": 12,
    "start_time": "2022-02-17T17:14:00.985Z"
   },
   {
    "duration": 28,
    "start_time": "2022-02-17T17:14:00.999Z"
   },
   {
    "duration": 14,
    "start_time": "2022-02-17T17:14:01.028Z"
   },
   {
    "duration": 19,
    "start_time": "2022-02-17T17:14:01.044Z"
   },
   {
    "duration": 21,
    "start_time": "2022-02-17T17:14:01.065Z"
   },
   {
    "duration": 19,
    "start_time": "2022-02-17T17:14:01.087Z"
   },
   {
    "duration": 14,
    "start_time": "2022-02-17T17:14:01.108Z"
   },
   {
    "duration": 5,
    "start_time": "2022-02-17T17:14:01.123Z"
   },
   {
    "duration": 7,
    "start_time": "2022-02-17T17:14:01.130Z"
   },
   {
    "duration": 15,
    "start_time": "2022-02-17T17:14:01.138Z"
   },
   {
    "duration": 207,
    "start_time": "2022-02-17T17:15:34.043Z"
   },
   {
    "duration": 22,
    "start_time": "2022-02-17T17:15:46.554Z"
   },
   {
    "duration": 132,
    "start_time": "2022-02-17T17:15:56.554Z"
   },
   {
    "duration": 183,
    "start_time": "2022-02-17T17:16:04.924Z"
   },
   {
    "duration": 3,
    "start_time": "2022-02-17T17:16:09.456Z"
   },
   {
    "duration": 7,
    "start_time": "2022-02-17T17:16:16.493Z"
   },
   {
    "duration": 516,
    "start_time": "2022-02-17T17:20:32.889Z"
   },
   {
    "duration": 55,
    "start_time": "2022-02-17T17:20:33.407Z"
   },
   {
    "duration": 20,
    "start_time": "2022-02-17T17:20:33.465Z"
   },
   {
    "duration": 12,
    "start_time": "2022-02-17T17:20:33.487Z"
   },
   {
    "duration": 30,
    "start_time": "2022-02-17T17:20:33.530Z"
   },
   {
    "duration": 11,
    "start_time": "2022-02-17T17:20:33.562Z"
   },
   {
    "duration": 10,
    "start_time": "2022-02-17T17:20:33.575Z"
   },
   {
    "duration": 5,
    "start_time": "2022-02-17T17:20:33.587Z"
   },
   {
    "duration": 39,
    "start_time": "2022-02-17T17:20:33.596Z"
   },
   {
    "duration": 40,
    "start_time": "2022-02-17T17:20:33.638Z"
   },
   {
    "duration": 9,
    "start_time": "2022-02-17T17:20:33.679Z"
   },
   {
    "duration": 56,
    "start_time": "2022-02-17T17:20:33.689Z"
   },
   {
    "duration": 5,
    "start_time": "2022-02-17T17:20:33.747Z"
   },
   {
    "duration": 9,
    "start_time": "2022-02-17T17:20:33.754Z"
   },
   {
    "duration": 5,
    "start_time": "2022-02-17T17:20:33.764Z"
   },
   {
    "duration": 22,
    "start_time": "2022-02-17T17:20:33.771Z"
   },
   {
    "duration": 3,
    "start_time": "2022-02-17T17:20:33.795Z"
   },
   {
    "duration": 36,
    "start_time": "2022-02-17T17:20:33.799Z"
   },
   {
    "duration": 5,
    "start_time": "2022-02-17T17:20:33.837Z"
   },
   {
    "duration": 7,
    "start_time": "2022-02-17T17:20:33.843Z"
   },
   {
    "duration": 8,
    "start_time": "2022-02-17T17:20:33.851Z"
   },
   {
    "duration": 4,
    "start_time": "2022-02-17T17:20:33.860Z"
   },
   {
    "duration": 9,
    "start_time": "2022-02-17T17:20:33.867Z"
   },
   {
    "duration": 29,
    "start_time": "2022-02-17T17:20:33.877Z"
   },
   {
    "duration": 9,
    "start_time": "2022-02-17T17:20:33.930Z"
   },
   {
    "duration": 5,
    "start_time": "2022-02-17T17:20:33.941Z"
   },
   {
    "duration": 7,
    "start_time": "2022-02-17T17:20:33.949Z"
   },
   {
    "duration": 4,
    "start_time": "2022-02-17T17:20:33.958Z"
   },
   {
    "duration": 17,
    "start_time": "2022-02-17T17:20:33.964Z"
   },
   {
    "duration": 58,
    "start_time": "2022-02-17T17:20:33.983Z"
   },
   {
    "duration": 8,
    "start_time": "2022-02-17T17:20:34.043Z"
   },
   {
    "duration": 13,
    "start_time": "2022-02-17T17:20:34.052Z"
   },
   {
    "duration": 14,
    "start_time": "2022-02-17T17:20:34.066Z"
   },
   {
    "duration": 9,
    "start_time": "2022-02-17T17:20:34.082Z"
   },
   {
    "duration": 8,
    "start_time": "2022-02-17T17:20:34.093Z"
   },
   {
    "duration": 33,
    "start_time": "2022-02-17T17:20:34.102Z"
   },
   {
    "duration": 8,
    "start_time": "2022-02-17T17:20:34.137Z"
   },
   {
    "duration": 12,
    "start_time": "2022-02-17T17:20:34.147Z"
   },
   {
    "duration": 16,
    "start_time": "2022-02-17T17:20:34.161Z"
   },
   {
    "duration": 8,
    "start_time": "2022-02-17T17:20:34.179Z"
   },
   {
    "duration": 12,
    "start_time": "2022-02-17T17:20:34.189Z"
   },
   {
    "duration": 28,
    "start_time": "2022-02-17T17:20:34.204Z"
   },
   {
    "duration": 10,
    "start_time": "2022-02-17T17:20:34.234Z"
   },
   {
    "duration": 9,
    "start_time": "2022-02-17T17:20:34.245Z"
   },
   {
    "duration": 4,
    "start_time": "2022-02-17T17:20:34.256Z"
   },
   {
    "duration": 8,
    "start_time": "2022-02-17T17:20:34.262Z"
   },
   {
    "duration": 16,
    "start_time": "2022-02-17T17:20:34.272Z"
   },
   {
    "duration": 11,
    "start_time": "2022-02-17T17:20:34.289Z"
   },
   {
    "duration": 31,
    "start_time": "2022-02-17T17:20:34.302Z"
   },
   {
    "duration": 6,
    "start_time": "2022-02-17T17:20:34.335Z"
   },
   {
    "duration": 6,
    "start_time": "2022-02-17T17:20:34.342Z"
   },
   {
    "duration": 19,
    "start_time": "2022-02-17T17:20:34.350Z"
   },
   {
    "duration": 15,
    "start_time": "2022-02-17T17:20:34.371Z"
   },
   {
    "duration": 5,
    "start_time": "2022-02-17T17:20:34.388Z"
   },
   {
    "duration": 2383,
    "start_time": "2022-02-17T17:20:34.395Z"
   },
   {
    "duration": 5,
    "start_time": "2022-02-17T17:20:36.780Z"
   },
   {
    "duration": 9,
    "start_time": "2022-02-17T17:20:36.786Z"
   },
   {
    "duration": 3091,
    "start_time": "2022-02-17T17:20:36.797Z"
   },
   {
    "duration": 10,
    "start_time": "2022-02-17T17:20:39.890Z"
   },
   {
    "duration": 35,
    "start_time": "2022-02-17T17:20:39.902Z"
   },
   {
    "duration": 7,
    "start_time": "2022-02-17T17:20:39.939Z"
   },
   {
    "duration": 9,
    "start_time": "2022-02-17T17:20:39.948Z"
   },
   {
    "duration": 5,
    "start_time": "2022-02-17T17:20:39.958Z"
   },
   {
    "duration": 9,
    "start_time": "2022-02-17T17:20:39.965Z"
   },
   {
    "duration": 15,
    "start_time": "2022-02-17T17:20:39.976Z"
   },
   {
    "duration": 15,
    "start_time": "2022-02-17T17:20:39.993Z"
   },
   {
    "duration": 24,
    "start_time": "2022-02-17T17:20:40.010Z"
   },
   {
    "duration": 12,
    "start_time": "2022-02-17T17:20:40.036Z"
   },
   {
    "duration": 17,
    "start_time": "2022-02-17T17:20:40.049Z"
   },
   {
    "duration": 12,
    "start_time": "2022-02-17T17:20:40.067Z"
   },
   {
    "duration": 9,
    "start_time": "2022-02-17T17:20:40.080Z"
   },
   {
    "duration": 9,
    "start_time": "2022-02-17T17:20:40.091Z"
   },
   {
    "duration": 7,
    "start_time": "2022-02-17T17:20:40.102Z"
   },
   {
    "duration": 21,
    "start_time": "2022-02-17T17:20:40.110Z"
   },
   {
    "duration": 12,
    "start_time": "2022-02-17T17:20:40.133Z"
   },
   {
    "duration": 9,
    "start_time": "2022-02-17T17:20:40.147Z"
   },
   {
    "duration": 11,
    "start_time": "2022-02-17T17:20:40.158Z"
   },
   {
    "duration": 8,
    "start_time": "2022-02-17T17:20:40.170Z"
   },
   {
    "duration": 10,
    "start_time": "2022-02-17T17:20:40.179Z"
   },
   {
    "duration": 10,
    "start_time": "2022-02-17T17:20:40.191Z"
   },
   {
    "duration": 9,
    "start_time": "2022-02-17T17:20:40.231Z"
   },
   {
    "duration": 13,
    "start_time": "2022-02-17T17:20:40.242Z"
   },
   {
    "duration": 7,
    "start_time": "2022-02-17T17:20:40.257Z"
   },
   {
    "duration": 12,
    "start_time": "2022-02-17T17:20:40.266Z"
   },
   {
    "duration": 6,
    "start_time": "2022-02-17T17:20:40.279Z"
   },
   {
    "duration": 5,
    "start_time": "2022-02-17T17:20:40.287Z"
   },
   {
    "duration": 37,
    "start_time": "2022-02-17T17:20:40.294Z"
   },
   {
    "duration": 763,
    "start_time": "2022-02-18T16:10:20.824Z"
   },
   {
    "duration": 58,
    "start_time": "2022-02-18T16:10:21.590Z"
   },
   {
    "duration": 43,
    "start_time": "2022-02-18T16:10:21.651Z"
   },
   {
    "duration": 16,
    "start_time": "2022-02-18T16:10:21.697Z"
   },
   {
    "duration": 58,
    "start_time": "2022-02-18T16:10:21.716Z"
   },
   {
    "duration": 15,
    "start_time": "2022-02-18T16:10:21.793Z"
   },
   {
    "duration": 18,
    "start_time": "2022-02-18T16:10:21.812Z"
   },
   {
    "duration": 9,
    "start_time": "2022-02-18T16:10:21.836Z"
   },
   {
    "duration": 47,
    "start_time": "2022-02-18T16:10:21.848Z"
   },
   {
    "duration": 59,
    "start_time": "2022-02-18T16:10:21.897Z"
   },
   {
    "duration": 12,
    "start_time": "2022-02-18T16:10:21.958Z"
   },
   {
    "duration": 58,
    "start_time": "2022-02-18T16:10:21.993Z"
   },
   {
    "duration": 9,
    "start_time": "2022-02-18T16:10:22.054Z"
   },
   {
    "duration": 36,
    "start_time": "2022-02-18T16:10:22.066Z"
   },
   {
    "duration": 19,
    "start_time": "2022-02-18T16:10:22.104Z"
   },
   {
    "duration": 42,
    "start_time": "2022-02-18T16:10:22.125Z"
   },
   {
    "duration": 5,
    "start_time": "2022-02-18T16:10:22.193Z"
   },
   {
    "duration": 26,
    "start_time": "2022-02-18T16:10:22.201Z"
   },
   {
    "duration": 24,
    "start_time": "2022-02-18T16:10:22.229Z"
   },
   {
    "duration": 25,
    "start_time": "2022-02-18T16:10:22.256Z"
   },
   {
    "duration": 30,
    "start_time": "2022-02-18T16:10:22.283Z"
   },
   {
    "duration": 6,
    "start_time": "2022-02-18T16:10:22.316Z"
   },
   {
    "duration": 15,
    "start_time": "2022-02-18T16:10:22.330Z"
   },
   {
    "duration": 48,
    "start_time": "2022-02-18T16:10:22.349Z"
   },
   {
    "duration": 12,
    "start_time": "2022-02-18T16:10:22.400Z"
   },
   {
    "duration": 8,
    "start_time": "2022-02-18T16:10:22.414Z"
   },
   {
    "duration": 13,
    "start_time": "2022-02-18T16:10:22.425Z"
   },
   {
    "duration": 23,
    "start_time": "2022-02-18T16:10:22.441Z"
   },
   {
    "duration": 43,
    "start_time": "2022-02-18T16:10:22.466Z"
   },
   {
    "duration": 34,
    "start_time": "2022-02-18T16:10:22.512Z"
   },
   {
    "duration": 10,
    "start_time": "2022-02-18T16:10:22.548Z"
   },
   {
    "duration": 46,
    "start_time": "2022-02-18T16:10:22.561Z"
   },
   {
    "duration": 12,
    "start_time": "2022-02-18T16:10:22.610Z"
   },
   {
    "duration": 9,
    "start_time": "2022-02-18T16:10:22.625Z"
   },
   {
    "duration": 12,
    "start_time": "2022-02-18T16:10:22.637Z"
   },
   {
    "duration": 48,
    "start_time": "2022-02-18T16:10:22.652Z"
   },
   {
    "duration": 13,
    "start_time": "2022-02-18T16:10:22.702Z"
   },
   {
    "duration": 9,
    "start_time": "2022-02-18T16:10:22.717Z"
   },
   {
    "duration": 22,
    "start_time": "2022-02-18T16:10:22.728Z"
   },
   {
    "duration": 44,
    "start_time": "2022-02-18T16:10:22.752Z"
   },
   {
    "duration": 14,
    "start_time": "2022-02-18T16:10:22.798Z"
   },
   {
    "duration": 7,
    "start_time": "2022-02-18T16:10:22.814Z"
   },
   {
    "duration": 12,
    "start_time": "2022-02-18T16:10:22.823Z"
   },
   {
    "duration": 10,
    "start_time": "2022-02-18T16:10:22.838Z"
   },
   {
    "duration": 44,
    "start_time": "2022-02-18T16:10:22.850Z"
   },
   {
    "duration": 14,
    "start_time": "2022-02-18T16:10:22.897Z"
   },
   {
    "duration": 11,
    "start_time": "2022-02-18T16:10:22.914Z"
   },
   {
    "duration": 9,
    "start_time": "2022-02-18T16:10:22.928Z"
   },
   {
    "duration": 25,
    "start_time": "2022-02-18T16:10:22.939Z"
   },
   {
    "duration": 32,
    "start_time": "2022-02-18T16:10:22.967Z"
   },
   {
    "duration": 5,
    "start_time": "2022-02-18T16:10:23.001Z"
   },
   {
    "duration": 18,
    "start_time": "2022-02-18T16:10:23.009Z"
   },
   {
    "duration": 17,
    "start_time": "2022-02-18T16:10:23.029Z"
   },
   {
    "duration": 8,
    "start_time": "2022-02-18T16:10:23.049Z"
   },
   {
    "duration": 4177,
    "start_time": "2022-02-18T16:10:23.093Z"
   },
   {
    "duration": 6,
    "start_time": "2022-02-18T16:10:27.274Z"
   },
   {
    "duration": 13,
    "start_time": "2022-02-18T16:10:27.283Z"
   },
   {
    "duration": 4681,
    "start_time": "2022-02-18T16:10:27.299Z"
   },
   {
    "duration": 18,
    "start_time": "2022-02-18T16:10:31.982Z"
   },
   {
    "duration": 39,
    "start_time": "2022-02-18T16:10:32.002Z"
   },
   {
    "duration": 35,
    "start_time": "2022-02-18T16:10:32.044Z"
   },
   {
    "duration": 41,
    "start_time": "2022-02-18T16:10:32.082Z"
   },
   {
    "duration": 11,
    "start_time": "2022-02-18T16:10:32.125Z"
   },
   {
    "duration": 40,
    "start_time": "2022-02-18T16:10:32.139Z"
   },
   {
    "duration": 46,
    "start_time": "2022-02-18T16:10:32.182Z"
   },
   {
    "duration": 26,
    "start_time": "2022-02-18T16:10:32.231Z"
   },
   {
    "duration": 24,
    "start_time": "2022-02-18T16:10:32.260Z"
   },
   {
    "duration": 7,
    "start_time": "2022-02-18T16:10:32.292Z"
   },
   {
    "duration": 16,
    "start_time": "2022-02-18T16:10:32.302Z"
   },
   {
    "duration": 18,
    "start_time": "2022-02-18T16:10:32.321Z"
   },
   {
    "duration": 36,
    "start_time": "2022-02-18T16:10:32.342Z"
   },
   {
    "duration": 44,
    "start_time": "2022-02-18T16:10:32.381Z"
   },
   {
    "duration": 40,
    "start_time": "2022-02-18T16:10:32.427Z"
   },
   {
    "duration": 23,
    "start_time": "2022-02-18T16:10:32.469Z"
   },
   {
    "duration": 20,
    "start_time": "2022-02-18T16:10:32.495Z"
   },
   {
    "duration": 12,
    "start_time": "2022-02-18T16:10:32.518Z"
   },
   {
    "duration": 12,
    "start_time": "2022-02-18T16:10:32.533Z"
   },
   {
    "duration": 45,
    "start_time": "2022-02-18T16:10:32.548Z"
   },
   {
    "duration": 14,
    "start_time": "2022-02-18T16:10:32.596Z"
   },
   {
    "duration": 9,
    "start_time": "2022-02-18T16:10:32.613Z"
   },
   {
    "duration": 22,
    "start_time": "2022-02-18T16:10:32.624Z"
   },
   {
    "duration": 19,
    "start_time": "2022-02-18T16:10:32.648Z"
   },
   {
    "duration": 28,
    "start_time": "2022-02-18T16:10:32.669Z"
   },
   {
    "duration": 14,
    "start_time": "2022-02-18T16:10:32.699Z"
   },
   {
    "duration": 6,
    "start_time": "2022-02-18T16:10:32.716Z"
   },
   {
    "duration": 11,
    "start_time": "2022-02-18T16:10:32.725Z"
   },
   {
    "duration": 15,
    "start_time": "2022-02-18T16:10:32.738Z"
   },
   {
    "duration": 74,
    "start_time": "2022-02-18T16:10:57.914Z"
   },
   {
    "duration": 34,
    "start_time": "2022-02-18T16:11:04.641Z"
   },
   {
    "duration": 34,
    "start_time": "2022-02-18T16:11:17.578Z"
   },
   {
    "duration": 34,
    "start_time": "2022-02-18T16:11:22.752Z"
   },
   {
    "duration": 33,
    "start_time": "2022-02-18T16:11:31.242Z"
   },
   {
    "duration": 35,
    "start_time": "2022-02-18T16:14:53.393Z"
   },
   {
    "duration": 35,
    "start_time": "2022-02-18T16:14:56.262Z"
   },
   {
    "duration": 38,
    "start_time": "2022-02-18T16:14:58.509Z"
   },
   {
    "duration": 344,
    "start_time": "2022-02-18T16:23:36.972Z"
   },
   {
    "duration": 293,
    "start_time": "2022-02-18T16:23:50.359Z"
   },
   {
    "duration": 8,
    "start_time": "2022-02-18T16:23:56.551Z"
   },
   {
    "duration": 244,
    "start_time": "2022-02-18T16:23:58.230Z"
   },
   {
    "duration": 104,
    "start_time": "2022-02-18T16:26:42.952Z"
   },
   {
    "duration": 42066,
    "start_time": "2022-02-18T16:26:45.502Z"
   },
   {
    "duration": 9,
    "start_time": "2022-02-18T16:27:40.982Z"
   },
   {
    "duration": 39344,
    "start_time": "2022-02-18T16:27:51.098Z"
   },
   {
    "duration": 8,
    "start_time": "2022-02-18T16:28:32.591Z"
   },
   {
    "duration": 5,
    "start_time": "2022-02-18T16:29:51.055Z"
   },
   {
    "duration": 26,
    "start_time": "2022-02-18T16:29:59.448Z"
   },
   {
    "duration": 7,
    "start_time": "2022-02-18T16:30:06.896Z"
   },
   {
    "duration": 27163,
    "start_time": "2022-02-18T16:31:28.463Z"
   },
   {
    "duration": 26638,
    "start_time": "2022-02-18T16:31:57.410Z"
   },
   {
    "duration": 9,
    "start_time": "2022-02-18T16:32:24.051Z"
   }
  ],
  "kernelspec": {
   "display_name": "Python 3 (ipykernel)",
   "language": "python",
   "name": "python3"
  },
  "language_info": {
   "codemirror_mode": {
    "name": "ipython",
    "version": 3
   },
   "file_extension": ".py",
   "mimetype": "text/x-python",
   "name": "python",
   "nbconvert_exporter": "python",
   "pygments_lexer": "ipython3",
   "version": "3.9.13"
  },
  "toc": {
   "base_numbering": "1.",
   "nav_menu": {},
   "number_sections": true,
   "sideBar": true,
   "skip_h1_title": true,
   "title_cell": "Содержание",
   "title_sidebar": "Contents",
   "toc_cell": true,
   "toc_position": {},
   "toc_section_display": true,
   "toc_window_display": false
  }
 },
 "nbformat": 4,
 "nbformat_minor": 5
}
