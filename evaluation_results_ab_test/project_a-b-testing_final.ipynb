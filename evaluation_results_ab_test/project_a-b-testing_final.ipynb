{
 "cells": [
  {
   "cell_type": "markdown",
   "metadata": {
    "toc": true
   },
   "source": [
    "<h1>Содержание<span class=\"tocSkip\"></span></h1>\n",
    "<div class=\"toc\"><ul class=\"toc-item\"><li><span><a href=\"#Описание-проекта\" data-toc-modified-id=\"Описание-проекта-1\"><span class=\"toc-item-num\">1&nbsp;&nbsp;</span>Описание проекта</a></span></li><li><span><a href=\"#Изучение-и-предварительная-подготовка-данных-в-анализу\" data-toc-modified-id=\"Изучение-и-предварительная-подготовка-данных-в-анализу-2\"><span class=\"toc-item-num\">2&nbsp;&nbsp;</span>Изучение и предварительная подготовка данных в анализу</a></span><ul class=\"toc-item\"><li><span><a href=\"#Таблица-ab_project_marketing_events\" data-toc-modified-id=\"Таблица-ab_project_marketing_events-2.1\"><span class=\"toc-item-num\">2.1&nbsp;&nbsp;</span>Таблица ab_project_marketing_events</a></span></li><li><span><a href=\"#Таблица-ab_new_users\" data-toc-modified-id=\"Таблица-ab_new_users-2.2\"><span class=\"toc-item-num\">2.2&nbsp;&nbsp;</span>Таблица ab_new_users</a></span></li><li><span><a href=\"#Таблица-ab_events\" data-toc-modified-id=\"Таблица-ab_events-2.3\"><span class=\"toc-item-num\">2.3&nbsp;&nbsp;</span>Таблица ab_events</a></span></li><li><span><a href=\"#Таблица-ab_participants\" data-toc-modified-id=\"Таблица-ab_participants-2.4\"><span class=\"toc-item-num\">2.4&nbsp;&nbsp;</span>Таблица ab_participants</a></span></li></ul></li><li><span><a href=\"#Оценка-корректности-проведения-теста\" data-toc-modified-id=\"Оценка-корректности-проведения-теста-3\"><span class=\"toc-item-num\">3&nbsp;&nbsp;</span>Оценка корректности проведения теста</a></span><ul class=\"toc-item\"><li><span><a href=\"#Пересечение-тестовой-аудитории-с-конкурирующим-тестом\" data-toc-modified-id=\"Пересечение-тестовой-аудитории-с-конкурирующим-тестом-3.1\"><span class=\"toc-item-num\">3.1&nbsp;&nbsp;</span>Пересечение тестовой аудитории с конкурирующим тестом</a></span></li><li><span><a href=\"#Равномерность-распределения-событий-по-тестовым-группам\" data-toc-modified-id=\"Равномерность-распределения-событий-по-тестовым-группам-3.2\"><span class=\"toc-item-num\">3.2&nbsp;&nbsp;</span>Равномерность распределения событий по тестовым группам</a></span></li><li><span><a href=\"#Оценка-времени-проведения-теста-(в-т.ч.-совпадение-с-маркетинговыми-и-другими-активностями)\" data-toc-modified-id=\"Оценка-времени-проведения-теста-(в-т.ч.-совпадение-с-маркетинговыми-и-другими-активностями)-3.3\"><span class=\"toc-item-num\">3.3&nbsp;&nbsp;</span>Оценка времени проведения теста (в т.ч. совпадение с маркетинговыми и другими активностями)</a></span></li><li><span><a href=\"#Вывод\" data-toc-modified-id=\"Вывод-3.4\"><span class=\"toc-item-num\">3.4&nbsp;&nbsp;</span>Вывод</a></span></li></ul></li><li><span><a href=\"#Исследовательский-анализ-данных\" data-toc-modified-id=\"Исследовательский-анализ-данных-4\"><span class=\"toc-item-num\">4&nbsp;&nbsp;</span>Исследовательский анализ данных</a></span><ul class=\"toc-item\"><li><span><a href=\"#Распределение-событий-на-пользователя\" data-toc-modified-id=\"Распределение-событий-на-пользователя-4.1\"><span class=\"toc-item-num\">4.1&nbsp;&nbsp;</span>Распределение событий на пользователя</a></span></li><li><span><a href=\"#Распределение-событий-по-дням\" data-toc-modified-id=\"Распределение-событий-по-дням-4.2\"><span class=\"toc-item-num\">4.2&nbsp;&nbsp;</span>Распределение событий по дням</a></span></li><li><span><a href=\"#Изменение-конверсии-в-воронке-событий-на-разных-этапах\" data-toc-modified-id=\"Изменение-конверсии-в-воронке-событий-на-разных-этапах-4.3\"><span class=\"toc-item-num\">4.3&nbsp;&nbsp;</span>Изменение конверсии в воронке событий на разных этапах</a></span></li></ul></li><li><span><a href=\"#Анализ-результатов-A/B-теста\" data-toc-modified-id=\"Анализ-результатов-A/B-теста-5\"><span class=\"toc-item-num\">5&nbsp;&nbsp;</span>Анализ результатов A/B-теста</a></span></li><li><span><a href=\"#Общий-вывод\" data-toc-modified-id=\"Общий-вывод-6\"><span class=\"toc-item-num\">6&nbsp;&nbsp;</span>Общий вывод</a></span></li></ul></div>"
   ]
  },
  {
   "cell_type": "markdown",
   "metadata": {},
   "source": [
    "## Описание проекта\n",
    "\n",
    "В вашем распоряжении имеется датасет с действиями пользователей, техническое задание и несколько вспомогательных датасетов.\n",
    "\n",
    "**Цели исследования:**\n",
    "\n",
    "1. оценить корректность проведения теста:\n",
    "- проверить пересечение тестовой аудитории с конкурирующим тестом,\n",
    "- совпадение теста и маркетинговых событий, другие проблемы временных границ теста.\n",
    "2. проанализировать результаты A/B-теста."
   ]
  },
  {
   "cell_type": "markdown",
   "metadata": {},
   "source": [
    "**Техническое задание:**\n",
    "\n",
    "Название теста: `recommender_system_test`.\n",
    "\n",
    "Группы: А — контрольная, B — новая платёжная воронка. \n",
    "\n",
    "Дата запуска: 2020-12-07.   \n",
    "\n",
    "Дата остановки набора новых пользователей: 2020-12-21. \n",
    "\n",
    "Дата остановки теста: 2021-01-04.        \n",
    "\n",
    "Аудитория: 15% новых пользователей из региона EU.  \n",
    "\n",
    "Назначение теста: тестирование изменений, связанных с внедрением улучшенной рекомендательной системы.   \n",
    "\n",
    "Ожидаемое количество участников теста: 6000. \n",
    "\n",
    "Ожидаемый эффект: за 14 дней с момента регистрации пользователи покажут улучшение каждой метрики не менее, чем на 10%:      \n",
    "- конверсии в просмотр карточек товаров (`product_page`),\n",
    "- просмотры корзины (`product_cart`),\n",
    "- покупки (`purchase`).    "
   ]
  },
  {
   "cell_type": "markdown",
   "metadata": {},
   "source": [
    "## Изучение и предварительная подготовка данных в анализу"
   ]
  },
  {
   "cell_type": "code",
   "execution_count": 1,
   "metadata": {},
   "outputs": [
    {
     "name": "stdout",
     "output_type": "stream",
     "text": [
      "Requirement already satisfied: sidetable in c:\\users\\krosskayen\\anaconda3\\envs\\da_practicum_env\\lib\\site-packages (0.9.0)\n",
      "Requirement already satisfied: pandas>=1.0 in c:\\users\\krosskayen\\anaconda3\\envs\\da_practicum_env\\lib\\site-packages (from sidetable) (1.4.4)\n",
      "Requirement already satisfied: python-dateutil>=2.8.1 in c:\\users\\krosskayen\\anaconda3\\envs\\da_practicum_env\\lib\\site-packages (from pandas>=1.0->sidetable) (2.8.2)\n",
      "Requirement already satisfied: numpy>=1.18.5 in c:\\users\\krosskayen\\anaconda3\\envs\\da_practicum_env\\lib\\site-packages (from pandas>=1.0->sidetable) (1.22.1)\n",
      "Requirement already satisfied: pytz>=2020.1 in c:\\users\\krosskayen\\anaconda3\\envs\\da_practicum_env\\lib\\site-packages (from pandas>=1.0->sidetable) (2022.1)\n",
      "Requirement already satisfied: six>=1.5 in c:\\users\\krosskayen\\anaconda3\\envs\\da_practicum_env\\lib\\site-packages (from python-dateutil>=2.8.1->pandas>=1.0->sidetable) (1.16.0)\n"
     ]
    }
   ],
   "source": [
    "# установка библиотеки sidetable\n",
    "!pip install sidetable -U"
   ]
  },
  {
   "cell_type": "code",
   "execution_count": 2,
   "metadata": {},
   "outputs": [],
   "source": [
    "# импортирование необходимых библиотек\n",
    "import pandas as pd\n",
    "from pandas.plotting import register_matplotlib_converters\n",
    "import datetime as dt\n",
    "import math as mth\n",
    "import numpy as np\n",
    "import sidetable as stb\n",
    "\n",
    "import scipy.stats as stats\n",
    "from statsmodels.stats.proportion import proportions_ztest\n",
    "from statsmodels.stats.multitest import multipletests\n",
    "\n",
    "import seaborn as sns\n",
    "import matplotlib.pyplot as plt\n",
    "from matplotlib import rcParams\n",
    "sns.set_style(\"whitegrid\")\n",
    "%config InlineBackend.figure_format='retina'\n",
    "%matplotlib inline\n",
    "\n",
    "import plotly.graph_objects as go\n",
    "from plotly.subplots import make_subplots \n",
    "\n",
    "import warnings\n",
    "warnings.filterwarnings(action='ignore')\n",
    "\n",
    "# укажем автоматическое округление формата float до 3 цифр после запятой\n",
    "pd.set_option('display.float_format', lambda x: '%.3f' % x)\n",
    "\n",
    "# укажем стандартные размеры графиков в дюймах\n",
    "rcParams['figure.figsize'] = 13.6, 6.8\n",
    "\n",
    "# снимем ограничение на количество отображаемых столбцов\n",
    "pd.set_option('display.max_columns', None)\n",
    "\n",
    "# увеличим ограничение на количество отображаемых символов в таблице\n",
    "pd.options.display.max_colwidth = 150"
   ]
  },
  {
   "cell_type": "markdown",
   "metadata": {},
   "source": [
    "Загрузим предоставленные данные о посетителях, заказах и гипотезах, сохраним их в соответствующие переменные."
   ]
  },
  {
   "cell_type": "code",
   "execution_count": 3,
   "metadata": {},
   "outputs": [],
   "source": [
    "try:\n",
    "    ab_marketing_events = pd.read_csv('ab_project_marketing_events.csv')\n",
    "    ab_new_users = pd.read_csv('final_ab_new_users.csv')\n",
    "    ab_events = pd.read_csv('final_ab_events.csv')\n",
    "    ab_participants = pd.read_csv('final_ab_participants.csv')\n",
    "except:\n",
    "    ab_marketing_events = pd.read_csv('/datasets/ab_project_marketing_events.csv')\n",
    "    ab_new_users = pd.read_csv('/datasets/final_ab_new_users.csv')\n",
    "    ab_events = pd.read_csv('/datasets/final_ab_events.csv')\n",
    "    ab_participants = pd.read_csv('/datasets/final_ab_participants.csv')"
   ]
  },
  {
   "cell_type": "markdown",
   "metadata": {},
   "source": [
    "Создадим функцию, которая:\n",
    "1) преобразует названия столбцов на более корректные, уберет лишние пробелы и приведет их к нижнему регистру;  \n",
    "2) выведет типы файлов, которые содержатся в предоставленных таблицах;  \n",
    "3) выведет информацию о наличии явных дубликатов.  \n",
    "\n",
    "Применим функцию к каждой из таблиц и после чего исследуем каждую таблицу с данными подробнее."
   ]
  },
  {
   "cell_type": "code",
   "execution_count": 4,
   "metadata": {},
   "outputs": [],
   "source": [
    "def simple_info(df):\n",
    "    df.columns = df.columns.str.replace(' ', '_').str.lower()\n",
    "    if df.shape[0] > 15:\n",
    "        first_ten = display(df[:10])\n",
    "    else:\n",
    "        display(df)\n",
    "    display(df.describe(include='all').fillna('').T)\n",
    "    df.info()\n",
    "    print()\n",
    "    print(f'В предоставленных данных имеется {df.duplicated().sum()} дубликатов, \\\n",
    "что составляет {round(df.duplicated().sum() / df.shape[0] * 100, 2)}% от всех данных')    "
   ]
  },
  {
   "cell_type": "markdown",
   "metadata": {},
   "source": [
    "### Таблица ab_project_marketing_events"
   ]
  },
  {
   "cell_type": "markdown",
   "metadata": {},
   "source": [
    "Описание данных в таблице `ab_project_marketing_events` (календарь маркетинговых событий на 2020 год):\n",
    "- `name` — название маркетингового события;\n",
    "- `regions` — регионы, в которых будет проводиться рекламная кампания;\n",
    "- `start_dt` — дата начала кампании;\n",
    "- `finish_dt` — дата завершения кампании."
   ]
  },
  {
   "cell_type": "code",
   "execution_count": 5,
   "metadata": {},
   "outputs": [
    {
     "data": {
      "text/html": [
       "<div>\n",
       "<style scoped>\n",
       "    .dataframe tbody tr th:only-of-type {\n",
       "        vertical-align: middle;\n",
       "    }\n",
       "\n",
       "    .dataframe tbody tr th {\n",
       "        vertical-align: top;\n",
       "    }\n",
       "\n",
       "    .dataframe thead th {\n",
       "        text-align: right;\n",
       "    }\n",
       "</style>\n",
       "<table border=\"1\" class=\"dataframe\">\n",
       "  <thead>\n",
       "    <tr style=\"text-align: right;\">\n",
       "      <th></th>\n",
       "      <th>name</th>\n",
       "      <th>regions</th>\n",
       "      <th>start_dt</th>\n",
       "      <th>finish_dt</th>\n",
       "    </tr>\n",
       "  </thead>\n",
       "  <tbody>\n",
       "    <tr>\n",
       "      <th>0</th>\n",
       "      <td>Christmas&amp;New Year Promo</td>\n",
       "      <td>EU, N.America</td>\n",
       "      <td>2020-12-25</td>\n",
       "      <td>2021-01-03</td>\n",
       "    </tr>\n",
       "    <tr>\n",
       "      <th>1</th>\n",
       "      <td>St. Valentine's Day Giveaway</td>\n",
       "      <td>EU, CIS, APAC, N.America</td>\n",
       "      <td>2020-02-14</td>\n",
       "      <td>2020-02-16</td>\n",
       "    </tr>\n",
       "    <tr>\n",
       "      <th>2</th>\n",
       "      <td>St. Patric's Day Promo</td>\n",
       "      <td>EU, N.America</td>\n",
       "      <td>2020-03-17</td>\n",
       "      <td>2020-03-19</td>\n",
       "    </tr>\n",
       "    <tr>\n",
       "      <th>3</th>\n",
       "      <td>Easter Promo</td>\n",
       "      <td>EU, CIS, APAC, N.America</td>\n",
       "      <td>2020-04-12</td>\n",
       "      <td>2020-04-19</td>\n",
       "    </tr>\n",
       "    <tr>\n",
       "      <th>4</th>\n",
       "      <td>4th of July Promo</td>\n",
       "      <td>N.America</td>\n",
       "      <td>2020-07-04</td>\n",
       "      <td>2020-07-11</td>\n",
       "    </tr>\n",
       "    <tr>\n",
       "      <th>5</th>\n",
       "      <td>Black Friday Ads Campaign</td>\n",
       "      <td>EU, CIS, APAC, N.America</td>\n",
       "      <td>2020-11-26</td>\n",
       "      <td>2020-12-01</td>\n",
       "    </tr>\n",
       "    <tr>\n",
       "      <th>6</th>\n",
       "      <td>Chinese New Year Promo</td>\n",
       "      <td>APAC</td>\n",
       "      <td>2020-01-25</td>\n",
       "      <td>2020-02-07</td>\n",
       "    </tr>\n",
       "    <tr>\n",
       "      <th>7</th>\n",
       "      <td>Labor day (May 1st) Ads Campaign</td>\n",
       "      <td>EU, CIS, APAC</td>\n",
       "      <td>2020-05-01</td>\n",
       "      <td>2020-05-03</td>\n",
       "    </tr>\n",
       "    <tr>\n",
       "      <th>8</th>\n",
       "      <td>International Women's Day Promo</td>\n",
       "      <td>EU, CIS, APAC</td>\n",
       "      <td>2020-03-08</td>\n",
       "      <td>2020-03-10</td>\n",
       "    </tr>\n",
       "    <tr>\n",
       "      <th>9</th>\n",
       "      <td>Victory Day CIS (May 9th) Event</td>\n",
       "      <td>CIS</td>\n",
       "      <td>2020-05-09</td>\n",
       "      <td>2020-05-11</td>\n",
       "    </tr>\n",
       "    <tr>\n",
       "      <th>10</th>\n",
       "      <td>CIS New Year Gift Lottery</td>\n",
       "      <td>CIS</td>\n",
       "      <td>2020-12-30</td>\n",
       "      <td>2021-01-07</td>\n",
       "    </tr>\n",
       "    <tr>\n",
       "      <th>11</th>\n",
       "      <td>Dragon Boat Festival Giveaway</td>\n",
       "      <td>APAC</td>\n",
       "      <td>2020-06-25</td>\n",
       "      <td>2020-07-01</td>\n",
       "    </tr>\n",
       "    <tr>\n",
       "      <th>12</th>\n",
       "      <td>Single's Day Gift Promo</td>\n",
       "      <td>APAC</td>\n",
       "      <td>2020-11-11</td>\n",
       "      <td>2020-11-12</td>\n",
       "    </tr>\n",
       "    <tr>\n",
       "      <th>13</th>\n",
       "      <td>Chinese Moon Festival</td>\n",
       "      <td>APAC</td>\n",
       "      <td>2020-10-01</td>\n",
       "      <td>2020-10-07</td>\n",
       "    </tr>\n",
       "  </tbody>\n",
       "</table>\n",
       "</div>"
      ],
      "text/plain": [
       "                                name                   regions    start_dt  \\\n",
       "0           Christmas&New Year Promo             EU, N.America  2020-12-25   \n",
       "1       St. Valentine's Day Giveaway  EU, CIS, APAC, N.America  2020-02-14   \n",
       "2             St. Patric's Day Promo             EU, N.America  2020-03-17   \n",
       "3                       Easter Promo  EU, CIS, APAC, N.America  2020-04-12   \n",
       "4                  4th of July Promo                 N.America  2020-07-04   \n",
       "5          Black Friday Ads Campaign  EU, CIS, APAC, N.America  2020-11-26   \n",
       "6             Chinese New Year Promo                      APAC  2020-01-25   \n",
       "7   Labor day (May 1st) Ads Campaign             EU, CIS, APAC  2020-05-01   \n",
       "8    International Women's Day Promo             EU, CIS, APAC  2020-03-08   \n",
       "9    Victory Day CIS (May 9th) Event                       CIS  2020-05-09   \n",
       "10         CIS New Year Gift Lottery                       CIS  2020-12-30   \n",
       "11     Dragon Boat Festival Giveaway                      APAC  2020-06-25   \n",
       "12           Single's Day Gift Promo                      APAC  2020-11-11   \n",
       "13             Chinese Moon Festival                      APAC  2020-10-01   \n",
       "\n",
       "     finish_dt  \n",
       "0   2021-01-03  \n",
       "1   2020-02-16  \n",
       "2   2020-03-19  \n",
       "3   2020-04-19  \n",
       "4   2020-07-11  \n",
       "5   2020-12-01  \n",
       "6   2020-02-07  \n",
       "7   2020-05-03  \n",
       "8   2020-03-10  \n",
       "9   2020-05-11  \n",
       "10  2021-01-07  \n",
       "11  2020-07-01  \n",
       "12  2020-11-12  \n",
       "13  2020-10-07  "
      ]
     },
     "metadata": {},
     "output_type": "display_data"
    },
    {
     "data": {
      "text/html": [
       "<div>\n",
       "<style scoped>\n",
       "    .dataframe tbody tr th:only-of-type {\n",
       "        vertical-align: middle;\n",
       "    }\n",
       "\n",
       "    .dataframe tbody tr th {\n",
       "        vertical-align: top;\n",
       "    }\n",
       "\n",
       "    .dataframe thead th {\n",
       "        text-align: right;\n",
       "    }\n",
       "</style>\n",
       "<table border=\"1\" class=\"dataframe\">\n",
       "  <thead>\n",
       "    <tr style=\"text-align: right;\">\n",
       "      <th></th>\n",
       "      <th>count</th>\n",
       "      <th>unique</th>\n",
       "      <th>top</th>\n",
       "      <th>freq</th>\n",
       "    </tr>\n",
       "  </thead>\n",
       "  <tbody>\n",
       "    <tr>\n",
       "      <th>name</th>\n",
       "      <td>14</td>\n",
       "      <td>14</td>\n",
       "      <td>Christmas&amp;New Year Promo</td>\n",
       "      <td>1</td>\n",
       "    </tr>\n",
       "    <tr>\n",
       "      <th>regions</th>\n",
       "      <td>14</td>\n",
       "      <td>6</td>\n",
       "      <td>APAC</td>\n",
       "      <td>4</td>\n",
       "    </tr>\n",
       "    <tr>\n",
       "      <th>start_dt</th>\n",
       "      <td>14</td>\n",
       "      <td>14</td>\n",
       "      <td>2020-12-25</td>\n",
       "      <td>1</td>\n",
       "    </tr>\n",
       "    <tr>\n",
       "      <th>finish_dt</th>\n",
       "      <td>14</td>\n",
       "      <td>14</td>\n",
       "      <td>2021-01-03</td>\n",
       "      <td>1</td>\n",
       "    </tr>\n",
       "  </tbody>\n",
       "</table>\n",
       "</div>"
      ],
      "text/plain": [
       "          count unique                       top freq\n",
       "name         14     14  Christmas&New Year Promo    1\n",
       "regions      14      6                      APAC    4\n",
       "start_dt     14     14                2020-12-25    1\n",
       "finish_dt    14     14                2021-01-03    1"
      ]
     },
     "metadata": {},
     "output_type": "display_data"
    },
    {
     "name": "stdout",
     "output_type": "stream",
     "text": [
      "<class 'pandas.core.frame.DataFrame'>\n",
      "RangeIndex: 14 entries, 0 to 13\n",
      "Data columns (total 4 columns):\n",
      " #   Column     Non-Null Count  Dtype \n",
      "---  ------     --------------  ----- \n",
      " 0   name       14 non-null     object\n",
      " 1   regions    14 non-null     object\n",
      " 2   start_dt   14 non-null     object\n",
      " 3   finish_dt  14 non-null     object\n",
      "dtypes: object(4)\n",
      "memory usage: 576.0+ bytes\n",
      "\n",
      "В предоставленных данных имеется 0 дубликатов, что составляет 0.0% от всех данных\n"
     ]
    }
   ],
   "source": [
    "# применим функцию для получения общей информации\n",
    "simple_info(ab_marketing_events)"
   ]
  },
  {
   "cell_type": "markdown",
   "metadata": {},
   "source": [
    "В таблице `ab_marketing_events` имеются данные о 14 маркетинговых событиях, которые планируется провести в 6 разных регионах в 2020 году. Пропущенные значения и дубликаты отсутствуют. Столбцы с датами начала и завершения компании: `start_dt` и `finish_dt` имеют некорректный тип данных. Исправим некорректные типы данных, удостоверимся в отсутствии ошибок и проверим корректность проведенных преобразований.\n",
    "\n",
    "Как мы видим ряд маркетинговых событий проводятся в регионе EU в те же даты, в которые согласно техническому заданию проводится `recommender_system_test`, стоит обратить на это внимание при дальнейшем исследовании."
   ]
  },
  {
   "cell_type": "code",
   "execution_count": 6,
   "metadata": {},
   "outputs": [
    {
     "data": {
      "text/plain": [
       "name                 object\n",
       "regions              object\n",
       "start_dt     datetime64[ns]\n",
       "finish_dt    datetime64[ns]\n",
       "dtype: object"
      ]
     },
     "metadata": {},
     "output_type": "display_data"
    },
    {
     "data": {
      "text/html": [
       "<div>\n",
       "<style scoped>\n",
       "    .dataframe tbody tr th:only-of-type {\n",
       "        vertical-align: middle;\n",
       "    }\n",
       "\n",
       "    .dataframe tbody tr th {\n",
       "        vertical-align: top;\n",
       "    }\n",
       "\n",
       "    .dataframe thead th {\n",
       "        text-align: right;\n",
       "    }\n",
       "</style>\n",
       "<table border=\"1\" class=\"dataframe\">\n",
       "  <thead>\n",
       "    <tr style=\"text-align: right;\">\n",
       "      <th></th>\n",
       "      <th>name</th>\n",
       "      <th>regions</th>\n",
       "      <th>start_dt</th>\n",
       "      <th>finish_dt</th>\n",
       "    </tr>\n",
       "  </thead>\n",
       "  <tbody>\n",
       "    <tr>\n",
       "      <th>0</th>\n",
       "      <td>Christmas&amp;New Year Promo</td>\n",
       "      <td>EU, N.America</td>\n",
       "      <td>2020-12-25</td>\n",
       "      <td>2021-01-03</td>\n",
       "    </tr>\n",
       "  </tbody>\n",
       "</table>\n",
       "</div>"
      ],
      "text/plain": [
       "                       name        regions   start_dt  finish_dt\n",
       "0  Christmas&New Year Promo  EU, N.America 2020-12-25 2021-01-03"
      ]
     },
     "metadata": {},
     "output_type": "display_data"
    }
   ],
   "source": [
    "# преобразование столбцов данных с датами \n",
    "try:\n",
    "    ab_marketing_events['start_dt'] =  pd.to_datetime(ab_marketing_events['start_dt'], format='%Y-%m-%d')\n",
    "    ab_marketing_events['finish_dt'] =  pd.to_datetime(ab_marketing_events['finish_dt'], format='%Y-%m-%d')  \n",
    "except:\n",
    "    print('Error_change_type')\n",
    "display(ab_marketing_events.dtypes, ab_marketing_events.head(1))"
   ]
  },
  {
   "cell_type": "markdown",
   "metadata": {},
   "source": [
    "### Таблица ab_new_users"
   ]
  },
  {
   "cell_type": "code",
   "execution_count": 7,
   "metadata": {},
   "outputs": [
    {
     "data": {
      "text/html": [
       "<div>\n",
       "<style scoped>\n",
       "    .dataframe tbody tr th:only-of-type {\n",
       "        vertical-align: middle;\n",
       "    }\n",
       "\n",
       "    .dataframe tbody tr th {\n",
       "        vertical-align: top;\n",
       "    }\n",
       "\n",
       "    .dataframe thead th {\n",
       "        text-align: right;\n",
       "    }\n",
       "</style>\n",
       "<table border=\"1\" class=\"dataframe\">\n",
       "  <thead>\n",
       "    <tr style=\"text-align: right;\">\n",
       "      <th></th>\n",
       "      <th>user_id</th>\n",
       "      <th>first_date</th>\n",
       "      <th>region</th>\n",
       "      <th>device</th>\n",
       "    </tr>\n",
       "  </thead>\n",
       "  <tbody>\n",
       "    <tr>\n",
       "      <th>0</th>\n",
       "      <td>D72A72121175D8BE</td>\n",
       "      <td>2020-12-07</td>\n",
       "      <td>EU</td>\n",
       "      <td>PC</td>\n",
       "    </tr>\n",
       "    <tr>\n",
       "      <th>1</th>\n",
       "      <td>F1C668619DFE6E65</td>\n",
       "      <td>2020-12-07</td>\n",
       "      <td>N.America</td>\n",
       "      <td>Android</td>\n",
       "    </tr>\n",
       "    <tr>\n",
       "      <th>2</th>\n",
       "      <td>2E1BF1D4C37EA01F</td>\n",
       "      <td>2020-12-07</td>\n",
       "      <td>EU</td>\n",
       "      <td>PC</td>\n",
       "    </tr>\n",
       "    <tr>\n",
       "      <th>3</th>\n",
       "      <td>50734A22C0C63768</td>\n",
       "      <td>2020-12-07</td>\n",
       "      <td>EU</td>\n",
       "      <td>iPhone</td>\n",
       "    </tr>\n",
       "    <tr>\n",
       "      <th>4</th>\n",
       "      <td>E1BDDCE0DAFA2679</td>\n",
       "      <td>2020-12-07</td>\n",
       "      <td>N.America</td>\n",
       "      <td>iPhone</td>\n",
       "    </tr>\n",
       "    <tr>\n",
       "      <th>5</th>\n",
       "      <td>137119F5A9E69421</td>\n",
       "      <td>2020-12-07</td>\n",
       "      <td>N.America</td>\n",
       "      <td>iPhone</td>\n",
       "    </tr>\n",
       "    <tr>\n",
       "      <th>6</th>\n",
       "      <td>62F0C741CC42D0CC</td>\n",
       "      <td>2020-12-07</td>\n",
       "      <td>APAC</td>\n",
       "      <td>iPhone</td>\n",
       "    </tr>\n",
       "    <tr>\n",
       "      <th>7</th>\n",
       "      <td>8942E64218C9A1ED</td>\n",
       "      <td>2020-12-07</td>\n",
       "      <td>EU</td>\n",
       "      <td>PC</td>\n",
       "    </tr>\n",
       "    <tr>\n",
       "      <th>8</th>\n",
       "      <td>499AFACF904BBAE3</td>\n",
       "      <td>2020-12-07</td>\n",
       "      <td>N.America</td>\n",
       "      <td>iPhone</td>\n",
       "    </tr>\n",
       "    <tr>\n",
       "      <th>9</th>\n",
       "      <td>FFCEA1179C253104</td>\n",
       "      <td>2020-12-07</td>\n",
       "      <td>EU</td>\n",
       "      <td>Android</td>\n",
       "    </tr>\n",
       "  </tbody>\n",
       "</table>\n",
       "</div>"
      ],
      "text/plain": [
       "            user_id  first_date     region   device\n",
       "0  D72A72121175D8BE  2020-12-07         EU       PC\n",
       "1  F1C668619DFE6E65  2020-12-07  N.America  Android\n",
       "2  2E1BF1D4C37EA01F  2020-12-07         EU       PC\n",
       "3  50734A22C0C63768  2020-12-07         EU   iPhone\n",
       "4  E1BDDCE0DAFA2679  2020-12-07  N.America   iPhone\n",
       "5  137119F5A9E69421  2020-12-07  N.America   iPhone\n",
       "6  62F0C741CC42D0CC  2020-12-07       APAC   iPhone\n",
       "7  8942E64218C9A1ED  2020-12-07         EU       PC\n",
       "8  499AFACF904BBAE3  2020-12-07  N.America   iPhone\n",
       "9  FFCEA1179C253104  2020-12-07         EU  Android"
      ]
     },
     "metadata": {},
     "output_type": "display_data"
    },
    {
     "data": {
      "text/html": [
       "<div>\n",
       "<style scoped>\n",
       "    .dataframe tbody tr th:only-of-type {\n",
       "        vertical-align: middle;\n",
       "    }\n",
       "\n",
       "    .dataframe tbody tr th {\n",
       "        vertical-align: top;\n",
       "    }\n",
       "\n",
       "    .dataframe thead th {\n",
       "        text-align: right;\n",
       "    }\n",
       "</style>\n",
       "<table border=\"1\" class=\"dataframe\">\n",
       "  <thead>\n",
       "    <tr style=\"text-align: right;\">\n",
       "      <th></th>\n",
       "      <th>count</th>\n",
       "      <th>unique</th>\n",
       "      <th>top</th>\n",
       "      <th>freq</th>\n",
       "    </tr>\n",
       "  </thead>\n",
       "  <tbody>\n",
       "    <tr>\n",
       "      <th>user_id</th>\n",
       "      <td>61733</td>\n",
       "      <td>61733</td>\n",
       "      <td>D72A72121175D8BE</td>\n",
       "      <td>1</td>\n",
       "    </tr>\n",
       "    <tr>\n",
       "      <th>first_date</th>\n",
       "      <td>61733</td>\n",
       "      <td>17</td>\n",
       "      <td>2020-12-21</td>\n",
       "      <td>6290</td>\n",
       "    </tr>\n",
       "    <tr>\n",
       "      <th>region</th>\n",
       "      <td>61733</td>\n",
       "      <td>4</td>\n",
       "      <td>EU</td>\n",
       "      <td>46270</td>\n",
       "    </tr>\n",
       "    <tr>\n",
       "      <th>device</th>\n",
       "      <td>61733</td>\n",
       "      <td>4</td>\n",
       "      <td>Android</td>\n",
       "      <td>27520</td>\n",
       "    </tr>\n",
       "  </tbody>\n",
       "</table>\n",
       "</div>"
      ],
      "text/plain": [
       "            count unique               top   freq\n",
       "user_id     61733  61733  D72A72121175D8BE      1\n",
       "first_date  61733     17        2020-12-21   6290\n",
       "region      61733      4                EU  46270\n",
       "device      61733      4           Android  27520"
      ]
     },
     "metadata": {},
     "output_type": "display_data"
    },
    {
     "name": "stdout",
     "output_type": "stream",
     "text": [
      "<class 'pandas.core.frame.DataFrame'>\n",
      "RangeIndex: 61733 entries, 0 to 61732\n",
      "Data columns (total 4 columns):\n",
      " #   Column      Non-Null Count  Dtype \n",
      "---  ------      --------------  ----- \n",
      " 0   user_id     61733 non-null  object\n",
      " 1   first_date  61733 non-null  object\n",
      " 2   region      61733 non-null  object\n",
      " 3   device      61733 non-null  object\n",
      "dtypes: object(4)\n",
      "memory usage: 1.9+ MB\n",
      "\n",
      "В предоставленных данных имеется 0 дубликатов, что составляет 0.0% от всех данных\n"
     ]
    }
   ],
   "source": [
    "# применим функцию для получения общей информации\n",
    "simple_info(ab_new_users)"
   ]
  },
  {
   "cell_type": "markdown",
   "metadata": {},
   "source": [
    "В таблице `ab_new_users` имеются данные об 61733 уникальных пользователях из 4 регионов, которые регистрировались с 4 различных типов устройств. Посмотрим какие уникальные значения имеются в столбцах `region` и `device`."
   ]
  },
  {
   "cell_type": "code",
   "execution_count": 8,
   "metadata": {},
   "outputs": [
    {
     "data": {
      "text/html": [
       "<style type=\"text/css\">\n",
       "</style>\n",
       "<table id=\"T_0e83c\">\n",
       "  <thead>\n",
       "    <tr>\n",
       "      <th class=\"blank level0\" >&nbsp;</th>\n",
       "      <th id=\"T_0e83c_level0_col0\" class=\"col_heading level0 col0\" >region</th>\n",
       "      <th id=\"T_0e83c_level0_col1\" class=\"col_heading level0 col1\" >count</th>\n",
       "      <th id=\"T_0e83c_level0_col2\" class=\"col_heading level0 col2\" >percent</th>\n",
       "      <th id=\"T_0e83c_level0_col3\" class=\"col_heading level0 col3\" >cumulative_count</th>\n",
       "      <th id=\"T_0e83c_level0_col4\" class=\"col_heading level0 col4\" >cumulative_percent</th>\n",
       "    </tr>\n",
       "  </thead>\n",
       "  <tbody>\n",
       "    <tr>\n",
       "      <th id=\"T_0e83c_level0_row0\" class=\"row_heading level0 row0\" >0</th>\n",
       "      <td id=\"T_0e83c_row0_col0\" class=\"data row0 col0\" >EU</td>\n",
       "      <td id=\"T_0e83c_row0_col1\" class=\"data row0 col1\" >46,270</td>\n",
       "      <td id=\"T_0e83c_row0_col2\" class=\"data row0 col2\" >74.95%</td>\n",
       "      <td id=\"T_0e83c_row0_col3\" class=\"data row0 col3\" >46,270</td>\n",
       "      <td id=\"T_0e83c_row0_col4\" class=\"data row0 col4\" >74.95%</td>\n",
       "    </tr>\n",
       "    <tr>\n",
       "      <th id=\"T_0e83c_level0_row1\" class=\"row_heading level0 row1\" >1</th>\n",
       "      <td id=\"T_0e83c_row1_col0\" class=\"data row1 col0\" >N.America</td>\n",
       "      <td id=\"T_0e83c_row1_col1\" class=\"data row1 col1\" >9,155</td>\n",
       "      <td id=\"T_0e83c_row1_col2\" class=\"data row1 col2\" >14.83%</td>\n",
       "      <td id=\"T_0e83c_row1_col3\" class=\"data row1 col3\" >55,425</td>\n",
       "      <td id=\"T_0e83c_row1_col4\" class=\"data row1 col4\" >89.78%</td>\n",
       "    </tr>\n",
       "    <tr>\n",
       "      <th id=\"T_0e83c_level0_row2\" class=\"row_heading level0 row2\" >2</th>\n",
       "      <td id=\"T_0e83c_row2_col0\" class=\"data row2 col0\" >CIS</td>\n",
       "      <td id=\"T_0e83c_row2_col1\" class=\"data row2 col1\" >3,155</td>\n",
       "      <td id=\"T_0e83c_row2_col2\" class=\"data row2 col2\" >5.11%</td>\n",
       "      <td id=\"T_0e83c_row2_col3\" class=\"data row2 col3\" >58,580</td>\n",
       "      <td id=\"T_0e83c_row2_col4\" class=\"data row2 col4\" >94.89%</td>\n",
       "    </tr>\n",
       "    <tr>\n",
       "      <th id=\"T_0e83c_level0_row3\" class=\"row_heading level0 row3\" >3</th>\n",
       "      <td id=\"T_0e83c_row3_col0\" class=\"data row3 col0\" >APAC</td>\n",
       "      <td id=\"T_0e83c_row3_col1\" class=\"data row3 col1\" >3,153</td>\n",
       "      <td id=\"T_0e83c_row3_col2\" class=\"data row3 col2\" >5.11%</td>\n",
       "      <td id=\"T_0e83c_row3_col3\" class=\"data row3 col3\" >61,733</td>\n",
       "      <td id=\"T_0e83c_row3_col4\" class=\"data row3 col4\" >100.00%</td>\n",
       "    </tr>\n",
       "  </tbody>\n",
       "</table>\n"
      ],
      "text/plain": [
       "<pandas.io.formats.style.Styler at 0x1c6b64ded60>"
      ]
     },
     "execution_count": 8,
     "metadata": {},
     "output_type": "execute_result"
    }
   ],
   "source": [
    "ab_new_users.stb.freq(['region'], style=True)"
   ]
  },
  {
   "cell_type": "markdown",
   "metadata": {},
   "source": [
    "Большинство новых пользователей, зарегистрировавшихся в период с 07 декабря 2021 года по 21 декабря 2021 года из Европы и Северной Америки, пользователей из СНГ и Азиатско-Тихоокеанского региона значительно меньше."
   ]
  },
  {
   "cell_type": "code",
   "execution_count": 9,
   "metadata": {},
   "outputs": [
    {
     "data": {
      "text/html": [
       "<style type=\"text/css\">\n",
       "</style>\n",
       "<table id=\"T_473de\">\n",
       "  <thead>\n",
       "    <tr>\n",
       "      <th class=\"blank level0\" >&nbsp;</th>\n",
       "      <th id=\"T_473de_level0_col0\" class=\"col_heading level0 col0\" >device</th>\n",
       "      <th id=\"T_473de_level0_col1\" class=\"col_heading level0 col1\" >count</th>\n",
       "      <th id=\"T_473de_level0_col2\" class=\"col_heading level0 col2\" >percent</th>\n",
       "      <th id=\"T_473de_level0_col3\" class=\"col_heading level0 col3\" >cumulative_count</th>\n",
       "      <th id=\"T_473de_level0_col4\" class=\"col_heading level0 col4\" >cumulative_percent</th>\n",
       "    </tr>\n",
       "  </thead>\n",
       "  <tbody>\n",
       "    <tr>\n",
       "      <th id=\"T_473de_level0_row0\" class=\"row_heading level0 row0\" >0</th>\n",
       "      <td id=\"T_473de_row0_col0\" class=\"data row0 col0\" >Android</td>\n",
       "      <td id=\"T_473de_row0_col1\" class=\"data row0 col1\" >27,520</td>\n",
       "      <td id=\"T_473de_row0_col2\" class=\"data row0 col2\" >44.58%</td>\n",
       "      <td id=\"T_473de_row0_col3\" class=\"data row0 col3\" >27,520</td>\n",
       "      <td id=\"T_473de_row0_col4\" class=\"data row0 col4\" >44.58%</td>\n",
       "    </tr>\n",
       "    <tr>\n",
       "      <th id=\"T_473de_level0_row1\" class=\"row_heading level0 row1\" >1</th>\n",
       "      <td id=\"T_473de_row1_col0\" class=\"data row1 col0\" >PC</td>\n",
       "      <td id=\"T_473de_row1_col1\" class=\"data row1 col1\" >15,599</td>\n",
       "      <td id=\"T_473de_row1_col2\" class=\"data row1 col2\" >25.27%</td>\n",
       "      <td id=\"T_473de_row1_col3\" class=\"data row1 col3\" >43,119</td>\n",
       "      <td id=\"T_473de_row1_col4\" class=\"data row1 col4\" >69.85%</td>\n",
       "    </tr>\n",
       "    <tr>\n",
       "      <th id=\"T_473de_level0_row2\" class=\"row_heading level0 row2\" >2</th>\n",
       "      <td id=\"T_473de_row2_col0\" class=\"data row2 col0\" >iPhone</td>\n",
       "      <td id=\"T_473de_row2_col1\" class=\"data row2 col1\" >12,530</td>\n",
       "      <td id=\"T_473de_row2_col2\" class=\"data row2 col2\" >20.30%</td>\n",
       "      <td id=\"T_473de_row2_col3\" class=\"data row2 col3\" >55,649</td>\n",
       "      <td id=\"T_473de_row2_col4\" class=\"data row2 col4\" >90.14%</td>\n",
       "    </tr>\n",
       "    <tr>\n",
       "      <th id=\"T_473de_level0_row3\" class=\"row_heading level0 row3\" >3</th>\n",
       "      <td id=\"T_473de_row3_col0\" class=\"data row3 col0\" >Mac</td>\n",
       "      <td id=\"T_473de_row3_col1\" class=\"data row3 col1\" >6,084</td>\n",
       "      <td id=\"T_473de_row3_col2\" class=\"data row3 col2\" >9.86%</td>\n",
       "      <td id=\"T_473de_row3_col3\" class=\"data row3 col3\" >61,733</td>\n",
       "      <td id=\"T_473de_row3_col4\" class=\"data row3 col4\" >100.00%</td>\n",
       "    </tr>\n",
       "  </tbody>\n",
       "</table>\n"
      ],
      "text/plain": [
       "<pandas.io.formats.style.Styler at 0x1c6b65dc9a0>"
      ]
     },
     "execution_count": 9,
     "metadata": {},
     "output_type": "execute_result"
    }
   ],
   "source": [
    "ab_new_users.stb.freq(['device'], style=True)"
   ]
  },
  {
   "cell_type": "markdown",
   "metadata": {},
   "source": [
    "Превалирующая часть новых пользователей, зарегистрировавшихся в период с 07 декабря 2021 года по 21 декабря 2021 года заходили с устройств Android, примерно на одинаковом уровне пользователи с PC и iPhone, и заметно меньше с Mac."
   ]
  },
  {
   "cell_type": "markdown",
   "metadata": {},
   "source": [
    "Пропущенные значения и дубликаты в таблице `ab_new_users` отсутствуют. Столбец с датой регистрации: `first_date` имеет некорректный тип данных. Исправим некорректный тип данных, удостоверимся в отсутствии ошибок и проверим корректность проведенных преобразований."
   ]
  },
  {
   "cell_type": "code",
   "execution_count": 10,
   "metadata": {},
   "outputs": [
    {
     "data": {
      "text/plain": [
       "user_id               object\n",
       "first_date    datetime64[ns]\n",
       "region                object\n",
       "device                object\n",
       "dtype: object"
      ]
     },
     "metadata": {},
     "output_type": "display_data"
    },
    {
     "data": {
      "text/html": [
       "<div>\n",
       "<style scoped>\n",
       "    .dataframe tbody tr th:only-of-type {\n",
       "        vertical-align: middle;\n",
       "    }\n",
       "\n",
       "    .dataframe tbody tr th {\n",
       "        vertical-align: top;\n",
       "    }\n",
       "\n",
       "    .dataframe thead th {\n",
       "        text-align: right;\n",
       "    }\n",
       "</style>\n",
       "<table border=\"1\" class=\"dataframe\">\n",
       "  <thead>\n",
       "    <tr style=\"text-align: right;\">\n",
       "      <th></th>\n",
       "      <th>user_id</th>\n",
       "      <th>first_date</th>\n",
       "      <th>region</th>\n",
       "      <th>device</th>\n",
       "    </tr>\n",
       "  </thead>\n",
       "  <tbody>\n",
       "    <tr>\n",
       "      <th>0</th>\n",
       "      <td>D72A72121175D8BE</td>\n",
       "      <td>2020-12-07</td>\n",
       "      <td>EU</td>\n",
       "      <td>PC</td>\n",
       "    </tr>\n",
       "  </tbody>\n",
       "</table>\n",
       "</div>"
      ],
      "text/plain": [
       "            user_id first_date region device\n",
       "0  D72A72121175D8BE 2020-12-07     EU     PC"
      ]
     },
     "metadata": {},
     "output_type": "display_data"
    }
   ],
   "source": [
    "# преобразование столбцов данных с датами \n",
    "try:\n",
    "    ab_new_users['first_date'] =  pd.to_datetime(ab_new_users['first_date'], format='%Y-%m-%d')\n",
    "except:\n",
    "    print('Error_change_type')\n",
    "display(ab_new_users.dtypes, ab_new_users.head(1))"
   ]
  },
  {
   "cell_type": "markdown",
   "metadata": {},
   "source": [
    "### Таблица ab_events"
   ]
  },
  {
   "cell_type": "markdown",
   "metadata": {},
   "source": [
    "Описание данных в таблице `ab_events` (действия новых пользователей в период с 07 декабря 2020 года по 04 января 2021 года):\n",
    "- `user_id` — идентификатор пользователя;\n",
    "- `event_dt` — дата и время покупки;\n",
    "- `event_name` — тип события;\n",
    "- `details` — дополнительные данные о событии. Например, для покупок (purchase) в этом поле хранится стоимость покупки в долларах."
   ]
  },
  {
   "cell_type": "code",
   "execution_count": 11,
   "metadata": {},
   "outputs": [
    {
     "data": {
      "text/html": [
       "<div>\n",
       "<style scoped>\n",
       "    .dataframe tbody tr th:only-of-type {\n",
       "        vertical-align: middle;\n",
       "    }\n",
       "\n",
       "    .dataframe tbody tr th {\n",
       "        vertical-align: top;\n",
       "    }\n",
       "\n",
       "    .dataframe thead th {\n",
       "        text-align: right;\n",
       "    }\n",
       "</style>\n",
       "<table border=\"1\" class=\"dataframe\">\n",
       "  <thead>\n",
       "    <tr style=\"text-align: right;\">\n",
       "      <th></th>\n",
       "      <th>user_id</th>\n",
       "      <th>event_dt</th>\n",
       "      <th>event_name</th>\n",
       "      <th>details</th>\n",
       "    </tr>\n",
       "  </thead>\n",
       "  <tbody>\n",
       "    <tr>\n",
       "      <th>0</th>\n",
       "      <td>E1BDDCE0DAFA2679</td>\n",
       "      <td>2020-12-07 20:22:03</td>\n",
       "      <td>purchase</td>\n",
       "      <td>99.990</td>\n",
       "    </tr>\n",
       "    <tr>\n",
       "      <th>1</th>\n",
       "      <td>7B6452F081F49504</td>\n",
       "      <td>2020-12-07 09:22:53</td>\n",
       "      <td>purchase</td>\n",
       "      <td>9.990</td>\n",
       "    </tr>\n",
       "    <tr>\n",
       "      <th>2</th>\n",
       "      <td>9CD9F34546DF254C</td>\n",
       "      <td>2020-12-07 12:59:29</td>\n",
       "      <td>purchase</td>\n",
       "      <td>4.990</td>\n",
       "    </tr>\n",
       "    <tr>\n",
       "      <th>3</th>\n",
       "      <td>96F27A054B191457</td>\n",
       "      <td>2020-12-07 04:02:40</td>\n",
       "      <td>purchase</td>\n",
       "      <td>4.990</td>\n",
       "    </tr>\n",
       "    <tr>\n",
       "      <th>4</th>\n",
       "      <td>1FD7660FDF94CA1F</td>\n",
       "      <td>2020-12-07 10:15:09</td>\n",
       "      <td>purchase</td>\n",
       "      <td>4.990</td>\n",
       "    </tr>\n",
       "    <tr>\n",
       "      <th>5</th>\n",
       "      <td>831887FE7F2D6CBA</td>\n",
       "      <td>2020-12-07 06:50:29</td>\n",
       "      <td>purchase</td>\n",
       "      <td>4.990</td>\n",
       "    </tr>\n",
       "    <tr>\n",
       "      <th>6</th>\n",
       "      <td>6B2F726BFD5F8220</td>\n",
       "      <td>2020-12-07 11:27:42</td>\n",
       "      <td>purchase</td>\n",
       "      <td>4.990</td>\n",
       "    </tr>\n",
       "    <tr>\n",
       "      <th>7</th>\n",
       "      <td>BEB37715AACF53B0</td>\n",
       "      <td>2020-12-07 04:26:15</td>\n",
       "      <td>purchase</td>\n",
       "      <td>4.990</td>\n",
       "    </tr>\n",
       "    <tr>\n",
       "      <th>8</th>\n",
       "      <td>B5FA27F582227197</td>\n",
       "      <td>2020-12-07 01:46:37</td>\n",
       "      <td>purchase</td>\n",
       "      <td>4.990</td>\n",
       "    </tr>\n",
       "    <tr>\n",
       "      <th>9</th>\n",
       "      <td>A92195E3CFB83DBD</td>\n",
       "      <td>2020-12-07 00:32:07</td>\n",
       "      <td>purchase</td>\n",
       "      <td>4.990</td>\n",
       "    </tr>\n",
       "  </tbody>\n",
       "</table>\n",
       "</div>"
      ],
      "text/plain": [
       "            user_id             event_dt event_name  details\n",
       "0  E1BDDCE0DAFA2679  2020-12-07 20:22:03   purchase   99.990\n",
       "1  7B6452F081F49504  2020-12-07 09:22:53   purchase    9.990\n",
       "2  9CD9F34546DF254C  2020-12-07 12:59:29   purchase    4.990\n",
       "3  96F27A054B191457  2020-12-07 04:02:40   purchase    4.990\n",
       "4  1FD7660FDF94CA1F  2020-12-07 10:15:09   purchase    4.990\n",
       "5  831887FE7F2D6CBA  2020-12-07 06:50:29   purchase    4.990\n",
       "6  6B2F726BFD5F8220  2020-12-07 11:27:42   purchase    4.990\n",
       "7  BEB37715AACF53B0  2020-12-07 04:26:15   purchase    4.990\n",
       "8  B5FA27F582227197  2020-12-07 01:46:37   purchase    4.990\n",
       "9  A92195E3CFB83DBD  2020-12-07 00:32:07   purchase    4.990"
      ]
     },
     "metadata": {},
     "output_type": "display_data"
    },
    {
     "data": {
      "text/html": [
       "<div>\n",
       "<style scoped>\n",
       "    .dataframe tbody tr th:only-of-type {\n",
       "        vertical-align: middle;\n",
       "    }\n",
       "\n",
       "    .dataframe tbody tr th {\n",
       "        vertical-align: top;\n",
       "    }\n",
       "\n",
       "    .dataframe thead th {\n",
       "        text-align: right;\n",
       "    }\n",
       "</style>\n",
       "<table border=\"1\" class=\"dataframe\">\n",
       "  <thead>\n",
       "    <tr style=\"text-align: right;\">\n",
       "      <th></th>\n",
       "      <th>count</th>\n",
       "      <th>unique</th>\n",
       "      <th>top</th>\n",
       "      <th>freq</th>\n",
       "      <th>mean</th>\n",
       "      <th>std</th>\n",
       "      <th>min</th>\n",
       "      <th>25%</th>\n",
       "      <th>50%</th>\n",
       "      <th>75%</th>\n",
       "      <th>max</th>\n",
       "    </tr>\n",
       "  </thead>\n",
       "  <tbody>\n",
       "    <tr>\n",
       "      <th>user_id</th>\n",
       "      <td>440317</td>\n",
       "      <td>58703</td>\n",
       "      <td>A3917F81482141F2</td>\n",
       "      <td>36</td>\n",
       "      <td></td>\n",
       "      <td></td>\n",
       "      <td></td>\n",
       "      <td></td>\n",
       "      <td></td>\n",
       "      <td></td>\n",
       "      <td></td>\n",
       "    </tr>\n",
       "    <tr>\n",
       "      <th>event_dt</th>\n",
       "      <td>440317</td>\n",
       "      <td>267268</td>\n",
       "      <td>2020-12-23 02:37:24</td>\n",
       "      <td>10</td>\n",
       "      <td></td>\n",
       "      <td></td>\n",
       "      <td></td>\n",
       "      <td></td>\n",
       "      <td></td>\n",
       "      <td></td>\n",
       "      <td></td>\n",
       "    </tr>\n",
       "    <tr>\n",
       "      <th>event_name</th>\n",
       "      <td>440317</td>\n",
       "      <td>4</td>\n",
       "      <td>login</td>\n",
       "      <td>189552</td>\n",
       "      <td></td>\n",
       "      <td></td>\n",
       "      <td></td>\n",
       "      <td></td>\n",
       "      <td></td>\n",
       "      <td></td>\n",
       "      <td></td>\n",
       "    </tr>\n",
       "    <tr>\n",
       "      <th>details</th>\n",
       "      <td>62740.000</td>\n",
       "      <td></td>\n",
       "      <td></td>\n",
       "      <td></td>\n",
       "      <td>23.878</td>\n",
       "      <td>72.180</td>\n",
       "      <td>4.990</td>\n",
       "      <td>4.990</td>\n",
       "      <td>4.990</td>\n",
       "      <td>9.990</td>\n",
       "      <td>499.990</td>\n",
       "    </tr>\n",
       "  </tbody>\n",
       "</table>\n",
       "</div>"
      ],
      "text/plain": [
       "               count  unique                  top    freq   mean    std   min  \\\n",
       "user_id       440317   58703     A3917F81482141F2      36                       \n",
       "event_dt      440317  267268  2020-12-23 02:37:24      10                       \n",
       "event_name    440317       4                login  189552                       \n",
       "details    62740.000                                      23.878 72.180 4.990   \n",
       "\n",
       "             25%   50%   75%     max  \n",
       "user_id                               \n",
       "event_dt                              \n",
       "event_name                            \n",
       "details    4.990 4.990 9.990 499.990  "
      ]
     },
     "metadata": {},
     "output_type": "display_data"
    },
    {
     "name": "stdout",
     "output_type": "stream",
     "text": [
      "<class 'pandas.core.frame.DataFrame'>\n",
      "RangeIndex: 440317 entries, 0 to 440316\n",
      "Data columns (total 4 columns):\n",
      " #   Column      Non-Null Count   Dtype  \n",
      "---  ------      --------------   -----  \n",
      " 0   user_id     440317 non-null  object \n",
      " 1   event_dt    440317 non-null  object \n",
      " 2   event_name  440317 non-null  object \n",
      " 3   details     62740 non-null   float64\n",
      "dtypes: float64(1), object(3)\n",
      "memory usage: 13.4+ MB\n",
      "\n",
      "В предоставленных данных имеется 0 дубликатов, что составляет 0.0% от всех данных\n"
     ]
    }
   ],
   "source": [
    "# применим функцию для получения общей информации\n",
    "simple_info(ab_events)"
   ]
  },
  {
   "cell_type": "markdown",
   "metadata": {},
   "source": [
    "В таблице `ab_events` имеются данные о действиях 58703 уникальных пользователей, также имеются данные о 4 различных типах событий.\n",
    "\n",
    "В предоставленной таблице явные дубликаты отсутствуют, пропущенные значения имеются в столбце `details`. \n",
    "Судя по описанию к данным, в этом столбце может хранится информация о стоимости покупки в долларах для событий `purchase`. Вероятнее всего не все события в данной таблице являются покупкой товара. Проверим так ли это, заодно проверим данных о каких событиях имеются в таблице."
   ]
  },
  {
   "cell_type": "code",
   "execution_count": 12,
   "metadata": {},
   "outputs": [
    {
     "data": {
      "text/html": [
       "<style type=\"text/css\">\n",
       "</style>\n",
       "<table id=\"T_2107d\">\n",
       "  <thead>\n",
       "    <tr>\n",
       "      <th class=\"blank level0\" >&nbsp;</th>\n",
       "      <th id=\"T_2107d_level0_col0\" class=\"col_heading level0 col0\" >event_name</th>\n",
       "      <th id=\"T_2107d_level0_col1\" class=\"col_heading level0 col1\" >count</th>\n",
       "      <th id=\"T_2107d_level0_col2\" class=\"col_heading level0 col2\" >percent</th>\n",
       "      <th id=\"T_2107d_level0_col3\" class=\"col_heading level0 col3\" >cumulative_count</th>\n",
       "      <th id=\"T_2107d_level0_col4\" class=\"col_heading level0 col4\" >cumulative_percent</th>\n",
       "    </tr>\n",
       "  </thead>\n",
       "  <tbody>\n",
       "    <tr>\n",
       "      <th id=\"T_2107d_level0_row0\" class=\"row_heading level0 row0\" >0</th>\n",
       "      <td id=\"T_2107d_row0_col0\" class=\"data row0 col0\" >login</td>\n",
       "      <td id=\"T_2107d_row0_col1\" class=\"data row0 col1\" >189,552</td>\n",
       "      <td id=\"T_2107d_row0_col2\" class=\"data row0 col2\" >43.05%</td>\n",
       "      <td id=\"T_2107d_row0_col3\" class=\"data row0 col3\" >189,552</td>\n",
       "      <td id=\"T_2107d_row0_col4\" class=\"data row0 col4\" >43.05%</td>\n",
       "    </tr>\n",
       "    <tr>\n",
       "      <th id=\"T_2107d_level0_row1\" class=\"row_heading level0 row1\" >1</th>\n",
       "      <td id=\"T_2107d_row1_col0\" class=\"data row1 col0\" >product_page</td>\n",
       "      <td id=\"T_2107d_row1_col1\" class=\"data row1 col1\" >125,563</td>\n",
       "      <td id=\"T_2107d_row1_col2\" class=\"data row1 col2\" >28.52%</td>\n",
       "      <td id=\"T_2107d_row1_col3\" class=\"data row1 col3\" >315,115</td>\n",
       "      <td id=\"T_2107d_row1_col4\" class=\"data row1 col4\" >71.57%</td>\n",
       "    </tr>\n",
       "    <tr>\n",
       "      <th id=\"T_2107d_level0_row2\" class=\"row_heading level0 row2\" >2</th>\n",
       "      <td id=\"T_2107d_row2_col0\" class=\"data row2 col0\" >purchase</td>\n",
       "      <td id=\"T_2107d_row2_col1\" class=\"data row2 col1\" >62,740</td>\n",
       "      <td id=\"T_2107d_row2_col2\" class=\"data row2 col2\" >14.25%</td>\n",
       "      <td id=\"T_2107d_row2_col3\" class=\"data row2 col3\" >377,855</td>\n",
       "      <td id=\"T_2107d_row2_col4\" class=\"data row2 col4\" >85.81%</td>\n",
       "    </tr>\n",
       "    <tr>\n",
       "      <th id=\"T_2107d_level0_row3\" class=\"row_heading level0 row3\" >3</th>\n",
       "      <td id=\"T_2107d_row3_col0\" class=\"data row3 col0\" >product_cart</td>\n",
       "      <td id=\"T_2107d_row3_col1\" class=\"data row3 col1\" >62,462</td>\n",
       "      <td id=\"T_2107d_row3_col2\" class=\"data row3 col2\" >14.19%</td>\n",
       "      <td id=\"T_2107d_row3_col3\" class=\"data row3 col3\" >440,317</td>\n",
       "      <td id=\"T_2107d_row3_col4\" class=\"data row3 col4\" >100.00%</td>\n",
       "    </tr>\n",
       "  </tbody>\n",
       "</table>\n"
      ],
      "text/plain": [
       "<pandas.io.formats.style.Styler at 0x1c6b65df3d0>"
      ]
     },
     "execution_count": 12,
     "metadata": {},
     "output_type": "execute_result"
    }
   ],
   "source": [
    "ab_events.stb.freq(['event_name'], style=True)"
   ]
  },
  {
   "cell_type": "code",
   "execution_count": 13,
   "metadata": {
    "scrolled": false
   },
   "outputs": [
    {
     "data": {
      "text/html": [
       "<style type=\"text/css\">\n",
       "</style>\n",
       "<table id=\"T_deb83\">\n",
       "  <thead>\n",
       "    <tr>\n",
       "      <th class=\"blank level0\" >&nbsp;</th>\n",
       "      <th id=\"T_deb83_level0_col0\" class=\"col_heading level0 col0\" >missing</th>\n",
       "      <th id=\"T_deb83_level0_col1\" class=\"col_heading level0 col1\" >total</th>\n",
       "      <th id=\"T_deb83_level0_col2\" class=\"col_heading level0 col2\" >percent</th>\n",
       "    </tr>\n",
       "  </thead>\n",
       "  <tbody>\n",
       "    <tr>\n",
       "      <th id=\"T_deb83_level0_row0\" class=\"row_heading level0 row0\" >details</th>\n",
       "      <td id=\"T_deb83_row0_col0\" class=\"data row0 col0\" >377,577</td>\n",
       "      <td id=\"T_deb83_row0_col1\" class=\"data row0 col1\" >440,317</td>\n",
       "      <td id=\"T_deb83_row0_col2\" class=\"data row0 col2\" >85.75%</td>\n",
       "    </tr>\n",
       "    <tr>\n",
       "      <th id=\"T_deb83_level0_row1\" class=\"row_heading level0 row1\" >user_id</th>\n",
       "      <td id=\"T_deb83_row1_col0\" class=\"data row1 col0\" >0</td>\n",
       "      <td id=\"T_deb83_row1_col1\" class=\"data row1 col1\" >440,317</td>\n",
       "      <td id=\"T_deb83_row1_col2\" class=\"data row1 col2\" >0.00%</td>\n",
       "    </tr>\n",
       "    <tr>\n",
       "      <th id=\"T_deb83_level0_row2\" class=\"row_heading level0 row2\" >event_dt</th>\n",
       "      <td id=\"T_deb83_row2_col0\" class=\"data row2 col0\" >0</td>\n",
       "      <td id=\"T_deb83_row2_col1\" class=\"data row2 col1\" >440,317</td>\n",
       "      <td id=\"T_deb83_row2_col2\" class=\"data row2 col2\" >0.00%</td>\n",
       "    </tr>\n",
       "    <tr>\n",
       "      <th id=\"T_deb83_level0_row3\" class=\"row_heading level0 row3\" >event_name</th>\n",
       "      <td id=\"T_deb83_row3_col0\" class=\"data row3 col0\" >0</td>\n",
       "      <td id=\"T_deb83_row3_col1\" class=\"data row3 col1\" >440,317</td>\n",
       "      <td id=\"T_deb83_row3_col2\" class=\"data row3 col2\" >0.00%</td>\n",
       "    </tr>\n",
       "  </tbody>\n",
       "</table>\n"
      ],
      "text/plain": [
       "<pandas.io.formats.style.Styler at 0x1c6b65df100>"
      ]
     },
     "execution_count": 13,
     "metadata": {},
     "output_type": "execute_result"
    }
   ],
   "source": [
    "ab_events.stb.missing(style=True)"
   ]
  },
  {
   "cell_type": "markdown",
   "metadata": {},
   "source": [
    "Действительно, только 14.25% событий в таблице являются покупками (`purchase`), при этом пропущенные значения имеются только в столбце `details` в событиях, не связанных с покупкой. В связи с чем отсутствие информации в столбце `details` таблицы `ab_events` не требует заполнения какими-то значениями, поскольку врятли может повлиять на результаты исследования.\n",
    "\n",
    "Столбец с датой и временем события - `event_dt` имеет некорректный тип данных. Исправим некорректный тип данных, удостоверимся в отсутствии ошибок и проверим корректность проведенных преобразований."
   ]
  },
  {
   "cell_type": "code",
   "execution_count": 14,
   "metadata": {},
   "outputs": [
    {
     "data": {
      "text/plain": [
       "user_id               object\n",
       "event_dt      datetime64[ns]\n",
       "event_name            object\n",
       "details              float64\n",
       "dtype: object"
      ]
     },
     "metadata": {},
     "output_type": "display_data"
    },
    {
     "data": {
      "text/html": [
       "<div>\n",
       "<style scoped>\n",
       "    .dataframe tbody tr th:only-of-type {\n",
       "        vertical-align: middle;\n",
       "    }\n",
       "\n",
       "    .dataframe tbody tr th {\n",
       "        vertical-align: top;\n",
       "    }\n",
       "\n",
       "    .dataframe thead th {\n",
       "        text-align: right;\n",
       "    }\n",
       "</style>\n",
       "<table border=\"1\" class=\"dataframe\">\n",
       "  <thead>\n",
       "    <tr style=\"text-align: right;\">\n",
       "      <th></th>\n",
       "      <th>user_id</th>\n",
       "      <th>event_dt</th>\n",
       "      <th>event_name</th>\n",
       "      <th>details</th>\n",
       "    </tr>\n",
       "  </thead>\n",
       "  <tbody>\n",
       "    <tr>\n",
       "      <th>0</th>\n",
       "      <td>E1BDDCE0DAFA2679</td>\n",
       "      <td>2020-12-07 20:22:03</td>\n",
       "      <td>purchase</td>\n",
       "      <td>99.990</td>\n",
       "    </tr>\n",
       "  </tbody>\n",
       "</table>\n",
       "</div>"
      ],
      "text/plain": [
       "            user_id            event_dt event_name  details\n",
       "0  E1BDDCE0DAFA2679 2020-12-07 20:22:03   purchase   99.990"
      ]
     },
     "metadata": {},
     "output_type": "display_data"
    }
   ],
   "source": [
    "# преобразование столбца данных с датой и временем\n",
    "try:\n",
    "    ab_events['event_dt'] =  pd.to_datetime(ab_events['event_dt'], format='%Y-%m-%d %H:%M:%S')\n",
    "except:\n",
    "    print('Error_change_type')\n",
    "display( ab_events.dtypes, ab_events.head(1))"
   ]
  },
  {
   "cell_type": "markdown",
   "metadata": {},
   "source": [
    "### Таблица ab_participants"
   ]
  },
  {
   "cell_type": "markdown",
   "metadata": {},
   "source": [
    "Описание данных в таблице `ab_participants` (таблица участников тестов):\n",
    "- `user_id` — идентификатор пользователя;\n",
    "- `ab_test` — название теста;\n",
    "- `group` — группа пользователя."
   ]
  },
  {
   "cell_type": "code",
   "execution_count": 15,
   "metadata": {},
   "outputs": [
    {
     "data": {
      "text/html": [
       "<div>\n",
       "<style scoped>\n",
       "    .dataframe tbody tr th:only-of-type {\n",
       "        vertical-align: middle;\n",
       "    }\n",
       "\n",
       "    .dataframe tbody tr th {\n",
       "        vertical-align: top;\n",
       "    }\n",
       "\n",
       "    .dataframe thead th {\n",
       "        text-align: right;\n",
       "    }\n",
       "</style>\n",
       "<table border=\"1\" class=\"dataframe\">\n",
       "  <thead>\n",
       "    <tr style=\"text-align: right;\">\n",
       "      <th></th>\n",
       "      <th>user_id</th>\n",
       "      <th>group</th>\n",
       "      <th>ab_test</th>\n",
       "    </tr>\n",
       "  </thead>\n",
       "  <tbody>\n",
       "    <tr>\n",
       "      <th>0</th>\n",
       "      <td>D1ABA3E2887B6A73</td>\n",
       "      <td>A</td>\n",
       "      <td>recommender_system_test</td>\n",
       "    </tr>\n",
       "    <tr>\n",
       "      <th>1</th>\n",
       "      <td>A7A3664BD6242119</td>\n",
       "      <td>A</td>\n",
       "      <td>recommender_system_test</td>\n",
       "    </tr>\n",
       "    <tr>\n",
       "      <th>2</th>\n",
       "      <td>DABC14FDDFADD29E</td>\n",
       "      <td>A</td>\n",
       "      <td>recommender_system_test</td>\n",
       "    </tr>\n",
       "    <tr>\n",
       "      <th>3</th>\n",
       "      <td>04988C5DF189632E</td>\n",
       "      <td>A</td>\n",
       "      <td>recommender_system_test</td>\n",
       "    </tr>\n",
       "    <tr>\n",
       "      <th>4</th>\n",
       "      <td>482F14783456D21B</td>\n",
       "      <td>B</td>\n",
       "      <td>recommender_system_test</td>\n",
       "    </tr>\n",
       "    <tr>\n",
       "      <th>5</th>\n",
       "      <td>4FF2998A348C484F</td>\n",
       "      <td>A</td>\n",
       "      <td>recommender_system_test</td>\n",
       "    </tr>\n",
       "    <tr>\n",
       "      <th>6</th>\n",
       "      <td>7473E0943673C09E</td>\n",
       "      <td>A</td>\n",
       "      <td>recommender_system_test</td>\n",
       "    </tr>\n",
       "    <tr>\n",
       "      <th>7</th>\n",
       "      <td>C46FE336D240A054</td>\n",
       "      <td>A</td>\n",
       "      <td>recommender_system_test</td>\n",
       "    </tr>\n",
       "    <tr>\n",
       "      <th>8</th>\n",
       "      <td>92CB588012C10D3D</td>\n",
       "      <td>A</td>\n",
       "      <td>recommender_system_test</td>\n",
       "    </tr>\n",
       "    <tr>\n",
       "      <th>9</th>\n",
       "      <td>057AB296296C7FC0</td>\n",
       "      <td>B</td>\n",
       "      <td>recommender_system_test</td>\n",
       "    </tr>\n",
       "  </tbody>\n",
       "</table>\n",
       "</div>"
      ],
      "text/plain": [
       "            user_id group                  ab_test\n",
       "0  D1ABA3E2887B6A73     A  recommender_system_test\n",
       "1  A7A3664BD6242119     A  recommender_system_test\n",
       "2  DABC14FDDFADD29E     A  recommender_system_test\n",
       "3  04988C5DF189632E     A  recommender_system_test\n",
       "4  482F14783456D21B     B  recommender_system_test\n",
       "5  4FF2998A348C484F     A  recommender_system_test\n",
       "6  7473E0943673C09E     A  recommender_system_test\n",
       "7  C46FE336D240A054     A  recommender_system_test\n",
       "8  92CB588012C10D3D     A  recommender_system_test\n",
       "9  057AB296296C7FC0     B  recommender_system_test"
      ]
     },
     "metadata": {},
     "output_type": "display_data"
    },
    {
     "data": {
      "text/html": [
       "<div>\n",
       "<style scoped>\n",
       "    .dataframe tbody tr th:only-of-type {\n",
       "        vertical-align: middle;\n",
       "    }\n",
       "\n",
       "    .dataframe tbody tr th {\n",
       "        vertical-align: top;\n",
       "    }\n",
       "\n",
       "    .dataframe thead th {\n",
       "        text-align: right;\n",
       "    }\n",
       "</style>\n",
       "<table border=\"1\" class=\"dataframe\">\n",
       "  <thead>\n",
       "    <tr style=\"text-align: right;\">\n",
       "      <th></th>\n",
       "      <th>count</th>\n",
       "      <th>unique</th>\n",
       "      <th>top</th>\n",
       "      <th>freq</th>\n",
       "    </tr>\n",
       "  </thead>\n",
       "  <tbody>\n",
       "    <tr>\n",
       "      <th>user_id</th>\n",
       "      <td>18268</td>\n",
       "      <td>16666</td>\n",
       "      <td>0FDFDA0B2DEC2D91</td>\n",
       "      <td>2</td>\n",
       "    </tr>\n",
       "    <tr>\n",
       "      <th>group</th>\n",
       "      <td>18268</td>\n",
       "      <td>2</td>\n",
       "      <td>A</td>\n",
       "      <td>9655</td>\n",
       "    </tr>\n",
       "    <tr>\n",
       "      <th>ab_test</th>\n",
       "      <td>18268</td>\n",
       "      <td>2</td>\n",
       "      <td>interface_eu_test</td>\n",
       "      <td>11567</td>\n",
       "    </tr>\n",
       "  </tbody>\n",
       "</table>\n",
       "</div>"
      ],
      "text/plain": [
       "         count unique                top   freq\n",
       "user_id  18268  16666   0FDFDA0B2DEC2D91      2\n",
       "group    18268      2                  A   9655\n",
       "ab_test  18268      2  interface_eu_test  11567"
      ]
     },
     "metadata": {},
     "output_type": "display_data"
    },
    {
     "name": "stdout",
     "output_type": "stream",
     "text": [
      "<class 'pandas.core.frame.DataFrame'>\n",
      "RangeIndex: 18268 entries, 0 to 18267\n",
      "Data columns (total 3 columns):\n",
      " #   Column   Non-Null Count  Dtype \n",
      "---  ------   --------------  ----- \n",
      " 0   user_id  18268 non-null  object\n",
      " 1   group    18268 non-null  object\n",
      " 2   ab_test  18268 non-null  object\n",
      "dtypes: object(3)\n",
      "memory usage: 428.3+ KB\n",
      "\n",
      "В предоставленных данных имеется 0 дубликатов, что составляет 0.0% от всех данных\n"
     ]
    }
   ],
   "source": [
    "# применим функцию для получения общей информации\n",
    "simple_info(ab_participants)"
   ]
  },
  {
   "cell_type": "markdown",
   "metadata": {},
   "source": [
    "В таблице `ab_participants` имеются данные о 2 различных группах пользователей и 2 тестах, а также о действиях 18268 пользователей (участниках теста), при этом только 16666 из пользователей являются уникальными, что может свидетельствовать о пересечении пользователей в различных группах. Посмотрим какие уникальные значения имеются в столбцах `group` и `ab_test`."
   ]
  },
  {
   "cell_type": "code",
   "execution_count": 16,
   "metadata": {},
   "outputs": [
    {
     "data": {
      "text/html": [
       "<style type=\"text/css\">\n",
       "</style>\n",
       "<table id=\"T_02b03\">\n",
       "  <thead>\n",
       "    <tr>\n",
       "      <th class=\"blank level0\" >&nbsp;</th>\n",
       "      <th id=\"T_02b03_level0_col0\" class=\"col_heading level0 col0\" >group</th>\n",
       "      <th id=\"T_02b03_level0_col1\" class=\"col_heading level0 col1\" >count</th>\n",
       "      <th id=\"T_02b03_level0_col2\" class=\"col_heading level0 col2\" >percent</th>\n",
       "      <th id=\"T_02b03_level0_col3\" class=\"col_heading level0 col3\" >cumulative_count</th>\n",
       "      <th id=\"T_02b03_level0_col4\" class=\"col_heading level0 col4\" >cumulative_percent</th>\n",
       "    </tr>\n",
       "  </thead>\n",
       "  <tbody>\n",
       "    <tr>\n",
       "      <th id=\"T_02b03_level0_row0\" class=\"row_heading level0 row0\" >0</th>\n",
       "      <td id=\"T_02b03_row0_col0\" class=\"data row0 col0\" >A</td>\n",
       "      <td id=\"T_02b03_row0_col1\" class=\"data row0 col1\" >9,655</td>\n",
       "      <td id=\"T_02b03_row0_col2\" class=\"data row0 col2\" >52.85%</td>\n",
       "      <td id=\"T_02b03_row0_col3\" class=\"data row0 col3\" >9,655</td>\n",
       "      <td id=\"T_02b03_row0_col4\" class=\"data row0 col4\" >52.85%</td>\n",
       "    </tr>\n",
       "    <tr>\n",
       "      <th id=\"T_02b03_level0_row1\" class=\"row_heading level0 row1\" >1</th>\n",
       "      <td id=\"T_02b03_row1_col0\" class=\"data row1 col0\" >B</td>\n",
       "      <td id=\"T_02b03_row1_col1\" class=\"data row1 col1\" >8,613</td>\n",
       "      <td id=\"T_02b03_row1_col2\" class=\"data row1 col2\" >47.15%</td>\n",
       "      <td id=\"T_02b03_row1_col3\" class=\"data row1 col3\" >18,268</td>\n",
       "      <td id=\"T_02b03_row1_col4\" class=\"data row1 col4\" >100.00%</td>\n",
       "    </tr>\n",
       "  </tbody>\n",
       "</table>\n"
      ],
      "text/plain": [
       "<pandas.io.formats.style.Styler at 0x1c6b65cbc40>"
      ]
     },
     "execution_count": 16,
     "metadata": {},
     "output_type": "execute_result"
    }
   ],
   "source": [
    "ab_participants.stb.freq(['group'], style=True)"
   ]
  },
  {
   "cell_type": "code",
   "execution_count": 17,
   "metadata": {},
   "outputs": [
    {
     "data": {
      "text/html": [
       "<style type=\"text/css\">\n",
       "</style>\n",
       "<table id=\"T_66363\">\n",
       "  <thead>\n",
       "    <tr>\n",
       "      <th class=\"blank level0\" >&nbsp;</th>\n",
       "      <th id=\"T_66363_level0_col0\" class=\"col_heading level0 col0\" >ab_test</th>\n",
       "      <th id=\"T_66363_level0_col1\" class=\"col_heading level0 col1\" >count</th>\n",
       "      <th id=\"T_66363_level0_col2\" class=\"col_heading level0 col2\" >percent</th>\n",
       "      <th id=\"T_66363_level0_col3\" class=\"col_heading level0 col3\" >cumulative_count</th>\n",
       "      <th id=\"T_66363_level0_col4\" class=\"col_heading level0 col4\" >cumulative_percent</th>\n",
       "    </tr>\n",
       "  </thead>\n",
       "  <tbody>\n",
       "    <tr>\n",
       "      <th id=\"T_66363_level0_row0\" class=\"row_heading level0 row0\" >0</th>\n",
       "      <td id=\"T_66363_row0_col0\" class=\"data row0 col0\" >interface_eu_test</td>\n",
       "      <td id=\"T_66363_row0_col1\" class=\"data row0 col1\" >11,567</td>\n",
       "      <td id=\"T_66363_row0_col2\" class=\"data row0 col2\" >63.32%</td>\n",
       "      <td id=\"T_66363_row0_col3\" class=\"data row0 col3\" >11,567</td>\n",
       "      <td id=\"T_66363_row0_col4\" class=\"data row0 col4\" >63.32%</td>\n",
       "    </tr>\n",
       "    <tr>\n",
       "      <th id=\"T_66363_level0_row1\" class=\"row_heading level0 row1\" >1</th>\n",
       "      <td id=\"T_66363_row1_col0\" class=\"data row1 col0\" >recommender_system_test</td>\n",
       "      <td id=\"T_66363_row1_col1\" class=\"data row1 col1\" >6,701</td>\n",
       "      <td id=\"T_66363_row1_col2\" class=\"data row1 col2\" >36.68%</td>\n",
       "      <td id=\"T_66363_row1_col3\" class=\"data row1 col3\" >18,268</td>\n",
       "      <td id=\"T_66363_row1_col4\" class=\"data row1 col4\" >100.00%</td>\n",
       "    </tr>\n",
       "  </tbody>\n",
       "</table>\n"
      ],
      "text/plain": [
       "<pandas.io.formats.style.Styler at 0x1c6b65e9580>"
      ]
     },
     "execution_count": 17,
     "metadata": {},
     "output_type": "execute_result"
    }
   ],
   "source": [
    "ab_participants.stb.freq(['ab_test'], style=True)"
   ]
  },
  {
   "cell_type": "markdown",
   "metadata": {},
   "source": [
    "В таблице `ab_participants` имеются данные о двух группах A и B, которые относятся к двум тестам `interface_eu_test` и `recommender_system_test`, выясним в ходе дальнейшего исследования как пользователи каждой из контрольных групп распределены между тестовыми группами, а также имеются ли пересечения пользователей контрольных групп внутри исследуемого нами теста `recommender_system_test`.\n",
    "\n",
    "Явные дубликаты и пропущенные значения отсутствуют, типы данных в столбцах корректны и не требуют преобразования."
   ]
  },
  {
   "cell_type": "markdown",
   "metadata": {},
   "source": [
    "## Оценка корректности проведения теста"
   ]
  },
  {
   "cell_type": "markdown",
   "metadata": {},
   "source": [
    "### Пересечение тестовой аудитории с конкурирующим тестом"
   ]
  },
  {
   "cell_type": "markdown",
   "metadata": {},
   "source": [
    "В задании указано, что оцениваемый тест - `recommender_system_test`, при этом в ходе предварительного исследования мы установили, что в таблице `ab_participants` имеются данные еще об одном тесте - `interface_eu_test`, который проводился параллельно. Кроме того, как мы установили ранее в таблице `ab_participants` имеются данные о действиях 18268 пользователей (участниках теста), при этом только 16666 из них являются уникальными, что может свидетельствовать об участии некоторых пользователей в обоих тестах. \n",
    "\n",
    "Посмотрим как распределились пользователи в рамках этих тестов и имеются ли пользователи, которые участвовали в обоих тестах."
   ]
  },
  {
   "cell_type": "code",
   "execution_count": 18,
   "metadata": {
    "scrolled": true
   },
   "outputs": [
    {
     "name": "stdout",
     "output_type": "stream",
     "text": [
      "В таблице ab_participants имеется 1602 пользователей, которые участвовали в обоих тестах.\n",
      "Это составляет 23.91% от общего числа пользователей в тесте \"recommender_system_test\".\n"
     ]
    }
   ],
   "source": [
    "mask = ab_participants.loc[ab_participants['ab_test'] == 'recommender_system_test', 'user_id'] \\\n",
    "       .isin(ab_participants.loc[ab_participants['ab_test'] == 'interface_eu_test', 'user_id'])\n",
    "\n",
    "unique_users_rec = ab_participants.query('ab_test == \"recommender_system_test\"')['user_id'].nunique()\n",
    "\n",
    "print(f'В таблице ab_participants имеется {mask.sum()} пользователей, которые участвовали в обоих тестах.')\n",
    "print(f'Это составляет {round(mask.sum() / unique_users_rec * 100, 2)}% от общего числа пользователей в тесте \"recommender_system_test\".')"
   ]
  },
  {
   "cell_type": "markdown",
   "metadata": {},
   "source": [
    "У нас нет данных о том, когда проводился `interface_eu_test` и с какой целью, а также совпадают ли оба этих параметра с оцениваемым тестом - `recommender_system_test`. Но поскольку исключение около 24% пользователей может значительно повлиять на результаты теста, полагаю возможным оставить пересекающихся пользователей двух тестовых групп для проверки корректности проведения теста `recommender_system_test`."
   ]
  },
  {
   "cell_type": "markdown",
   "metadata": {},
   "source": [
    "Посмотрим имеются ли пользователи, которые случайно попали в каждую из групп теста `recommender_system_test`."
   ]
  },
  {
   "cell_type": "code",
   "execution_count": 19,
   "metadata": {
    "scrolled": true
   },
   "outputs": [
    {
     "name": "stdout",
     "output_type": "stream",
     "text": [
      "В таблице \"ab_participants\" имеется 0 пользователей, которые одновременно участвовали в обоих группах теста \"recommender_system_test\".\n",
      "Это составляет 0.0% от общего числа пользователей теста \"recommender_system_test\".\n"
     ]
    }
   ],
   "source": [
    "mask2 = ab_participants.query('ab_test == \"recommender_system_test\" & group == \"A\"')['user_id'] \\\n",
    "       .isin(ab_participants.query('ab_test == \"recommender_system_test\" & group == \"B\"')['user_id'] )\n",
    "\n",
    "print(f'В таблице \"ab_participants\" имеется {mask2.sum()} пользователей, которые одновременно участвовали \\\n",
    "в обоих группах теста \"recommender_system_test\".')\n",
    "print(f'Это составляет {round(mask2.sum() / unique_users_rec * 100, 2)}% от общего числа пользователей теста \\\n",
    "\"recommender_system_test\".')"
   ]
  },
  {
   "cell_type": "markdown",
   "metadata": {},
   "source": [
    "### Равномерность распределения событий по тестовым группам"
   ]
  },
  {
   "cell_type": "markdown",
   "metadata": {},
   "source": [
    "Объединим таблицу с данными об участниках теста `ab_participants` и таблицу `ab_new_users` с данными о новых пользователях, зарегистрировавшихся в период с 7 по 21 декабря 2020 года."
   ]
  },
  {
   "cell_type": "code",
   "execution_count": 20,
   "metadata": {},
   "outputs": [
    {
     "data": {
      "text/html": [
       "<div>\n",
       "<style scoped>\n",
       "    .dataframe tbody tr th:only-of-type {\n",
       "        vertical-align: middle;\n",
       "    }\n",
       "\n",
       "    .dataframe tbody tr th {\n",
       "        vertical-align: top;\n",
       "    }\n",
       "\n",
       "    .dataframe thead th {\n",
       "        text-align: right;\n",
       "    }\n",
       "</style>\n",
       "<table border=\"1\" class=\"dataframe\">\n",
       "  <thead>\n",
       "    <tr style=\"text-align: right;\">\n",
       "      <th></th>\n",
       "      <th>user_id</th>\n",
       "      <th>group</th>\n",
       "      <th>ab_test</th>\n",
       "      <th>first_date</th>\n",
       "      <th>region</th>\n",
       "      <th>device</th>\n",
       "    </tr>\n",
       "  </thead>\n",
       "  <tbody>\n",
       "    <tr>\n",
       "      <th>0</th>\n",
       "      <td>D1ABA3E2887B6A73</td>\n",
       "      <td>A</td>\n",
       "      <td>recommender_system_test</td>\n",
       "      <td>2020-12-07</td>\n",
       "      <td>EU</td>\n",
       "      <td>PC</td>\n",
       "    </tr>\n",
       "    <tr>\n",
       "      <th>1</th>\n",
       "      <td>A7A3664BD6242119</td>\n",
       "      <td>A</td>\n",
       "      <td>recommender_system_test</td>\n",
       "      <td>2020-12-20</td>\n",
       "      <td>EU</td>\n",
       "      <td>iPhone</td>\n",
       "    </tr>\n",
       "    <tr>\n",
       "      <th>2</th>\n",
       "      <td>DABC14FDDFADD29E</td>\n",
       "      <td>A</td>\n",
       "      <td>recommender_system_test</td>\n",
       "      <td>2020-12-08</td>\n",
       "      <td>EU</td>\n",
       "      <td>Mac</td>\n",
       "    </tr>\n",
       "    <tr>\n",
       "      <th>3</th>\n",
       "      <td>04988C5DF189632E</td>\n",
       "      <td>A</td>\n",
       "      <td>recommender_system_test</td>\n",
       "      <td>2020-12-14</td>\n",
       "      <td>EU</td>\n",
       "      <td>iPhone</td>\n",
       "    </tr>\n",
       "    <tr>\n",
       "      <th>4</th>\n",
       "      <td>482F14783456D21B</td>\n",
       "      <td>B</td>\n",
       "      <td>recommender_system_test</td>\n",
       "      <td>2020-12-14</td>\n",
       "      <td>EU</td>\n",
       "      <td>PC</td>\n",
       "    </tr>\n",
       "    <tr>\n",
       "      <th>5</th>\n",
       "      <td>4FF2998A348C484F</td>\n",
       "      <td>A</td>\n",
       "      <td>recommender_system_test</td>\n",
       "      <td>2020-12-20</td>\n",
       "      <td>EU</td>\n",
       "      <td>Mac</td>\n",
       "    </tr>\n",
       "    <tr>\n",
       "      <th>6</th>\n",
       "      <td>7473E0943673C09E</td>\n",
       "      <td>A</td>\n",
       "      <td>recommender_system_test</td>\n",
       "      <td>2020-12-16</td>\n",
       "      <td>EU</td>\n",
       "      <td>iPhone</td>\n",
       "    </tr>\n",
       "    <tr>\n",
       "      <th>7</th>\n",
       "      <td>C46FE336D240A054</td>\n",
       "      <td>A</td>\n",
       "      <td>recommender_system_test</td>\n",
       "      <td>2020-12-17</td>\n",
       "      <td>EU</td>\n",
       "      <td>iPhone</td>\n",
       "    </tr>\n",
       "    <tr>\n",
       "      <th>8</th>\n",
       "      <td>92CB588012C10D3D</td>\n",
       "      <td>A</td>\n",
       "      <td>recommender_system_test</td>\n",
       "      <td>2020-12-09</td>\n",
       "      <td>EU</td>\n",
       "      <td>PC</td>\n",
       "    </tr>\n",
       "    <tr>\n",
       "      <th>9</th>\n",
       "      <td>057AB296296C7FC0</td>\n",
       "      <td>B</td>\n",
       "      <td>recommender_system_test</td>\n",
       "      <td>2020-12-17</td>\n",
       "      <td>EU</td>\n",
       "      <td>iPhone</td>\n",
       "    </tr>\n",
       "  </tbody>\n",
       "</table>\n",
       "</div>"
      ],
      "text/plain": [
       "            user_id group                  ab_test first_date region  device\n",
       "0  D1ABA3E2887B6A73     A  recommender_system_test 2020-12-07     EU      PC\n",
       "1  A7A3664BD6242119     A  recommender_system_test 2020-12-20     EU  iPhone\n",
       "2  DABC14FDDFADD29E     A  recommender_system_test 2020-12-08     EU     Mac\n",
       "3  04988C5DF189632E     A  recommender_system_test 2020-12-14     EU  iPhone\n",
       "4  482F14783456D21B     B  recommender_system_test 2020-12-14     EU      PC\n",
       "5  4FF2998A348C484F     A  recommender_system_test 2020-12-20     EU     Mac\n",
       "6  7473E0943673C09E     A  recommender_system_test 2020-12-16     EU  iPhone\n",
       "7  C46FE336D240A054     A  recommender_system_test 2020-12-17     EU  iPhone\n",
       "8  92CB588012C10D3D     A  recommender_system_test 2020-12-09     EU      PC\n",
       "9  057AB296296C7FC0     B  recommender_system_test 2020-12-17     EU  iPhone"
      ]
     },
     "metadata": {},
     "output_type": "display_data"
    },
    {
     "data": {
      "text/html": [
       "<div>\n",
       "<style scoped>\n",
       "    .dataframe tbody tr th:only-of-type {\n",
       "        vertical-align: middle;\n",
       "    }\n",
       "\n",
       "    .dataframe tbody tr th {\n",
       "        vertical-align: top;\n",
       "    }\n",
       "\n",
       "    .dataframe thead th {\n",
       "        text-align: right;\n",
       "    }\n",
       "</style>\n",
       "<table border=\"1\" class=\"dataframe\">\n",
       "  <thead>\n",
       "    <tr style=\"text-align: right;\">\n",
       "      <th></th>\n",
       "      <th>count</th>\n",
       "      <th>unique</th>\n",
       "      <th>top</th>\n",
       "      <th>freq</th>\n",
       "      <th>first</th>\n",
       "      <th>last</th>\n",
       "    </tr>\n",
       "  </thead>\n",
       "  <tbody>\n",
       "    <tr>\n",
       "      <th>user_id</th>\n",
       "      <td>6701</td>\n",
       "      <td>6701</td>\n",
       "      <td>D1ABA3E2887B6A73</td>\n",
       "      <td>1</td>\n",
       "      <td></td>\n",
       "      <td></td>\n",
       "    </tr>\n",
       "    <tr>\n",
       "      <th>group</th>\n",
       "      <td>6701</td>\n",
       "      <td>2</td>\n",
       "      <td>A</td>\n",
       "      <td>3824</td>\n",
       "      <td></td>\n",
       "      <td></td>\n",
       "    </tr>\n",
       "    <tr>\n",
       "      <th>ab_test</th>\n",
       "      <td>6701</td>\n",
       "      <td>1</td>\n",
       "      <td>recommender_system_test</td>\n",
       "      <td>6701</td>\n",
       "      <td></td>\n",
       "      <td></td>\n",
       "    </tr>\n",
       "    <tr>\n",
       "      <th>first_date</th>\n",
       "      <td>6701</td>\n",
       "      <td>15</td>\n",
       "      <td>2020-12-21 00:00:00</td>\n",
       "      <td>723</td>\n",
       "      <td>2020-12-07 00:00:00</td>\n",
       "      <td>2020-12-21 00:00:00</td>\n",
       "    </tr>\n",
       "    <tr>\n",
       "      <th>region</th>\n",
       "      <td>6701</td>\n",
       "      <td>4</td>\n",
       "      <td>EU</td>\n",
       "      <td>6351</td>\n",
       "      <td></td>\n",
       "      <td></td>\n",
       "    </tr>\n",
       "    <tr>\n",
       "      <th>device</th>\n",
       "      <td>6701</td>\n",
       "      <td>4</td>\n",
       "      <td>Android</td>\n",
       "      <td>2983</td>\n",
       "      <td></td>\n",
       "      <td></td>\n",
       "    </tr>\n",
       "  </tbody>\n",
       "</table>\n",
       "</div>"
      ],
      "text/plain": [
       "           count unique                      top  freq                first  \\\n",
       "user_id     6701   6701         D1ABA3E2887B6A73     1                        \n",
       "group       6701      2                        A  3824                        \n",
       "ab_test     6701      1  recommender_system_test  6701                        \n",
       "first_date  6701     15      2020-12-21 00:00:00   723  2020-12-07 00:00:00   \n",
       "region      6701      4                       EU  6351                        \n",
       "device      6701      4                  Android  2983                        \n",
       "\n",
       "                           last  \n",
       "user_id                          \n",
       "group                            \n",
       "ab_test                          \n",
       "first_date  2020-12-21 00:00:00  \n",
       "region                           \n",
       "device                           "
      ]
     },
     "metadata": {},
     "output_type": "display_data"
    },
    {
     "name": "stdout",
     "output_type": "stream",
     "text": [
      "<class 'pandas.core.frame.DataFrame'>\n",
      "Int64Index: 6701 entries, 0 to 6700\n",
      "Data columns (total 6 columns):\n",
      " #   Column      Non-Null Count  Dtype         \n",
      "---  ------      --------------  -----         \n",
      " 0   user_id     6701 non-null   object        \n",
      " 1   group       6701 non-null   object        \n",
      " 2   ab_test     6701 non-null   object        \n",
      " 3   first_date  6701 non-null   datetime64[ns]\n",
      " 4   region      6701 non-null   object        \n",
      " 5   device      6701 non-null   object        \n",
      "dtypes: datetime64[ns](1), object(5)\n",
      "memory usage: 366.5+ KB\n",
      "\n",
      "В предоставленных данных имеется 0 дубликатов, что составляет 0.0% от всех данных\n"
     ]
    }
   ],
   "source": [
    "# оставим только тех пользователей, которые участвовали только в recommender_system_test\n",
    "participants = ab_participants.query('ab_test == \"recommender_system_test\"').reset_index(drop=True)\n",
    "total_participants = participants.merge(ab_new_users, how='left', on='user_id')\n",
    "total_participants = total_participants.dropna(subset=['group'])\n",
    "\n",
    "# посмотрим общую информацию о получившейся таблице\n",
    "simple_info(total_participants)"
   ]
  },
  {
   "cell_type": "markdown",
   "metadata": {},
   "source": [
    "Получившаяся таблица `total_participants` содержит сведения о 6701 уникальном пользователе - участнике теста `recommender_system_test` за период с 07 по 21 декабря 2020 года. Пропущенные значения и полные дубликаты отсутствуют. Ожидаемое количество участников теста, указанное в техническом задании - 6000, достигнуто."
   ]
  },
  {
   "cell_type": "code",
   "execution_count": 21,
   "metadata": {},
   "outputs": [
    {
     "data": {
      "text/html": [
       "<style type=\"text/css\">\n",
       "</style>\n",
       "<table id=\"T_ef2ae\">\n",
       "  <thead>\n",
       "    <tr>\n",
       "      <th class=\"blank level0\" >&nbsp;</th>\n",
       "      <th id=\"T_ef2ae_level0_col0\" class=\"col_heading level0 col0\" >group</th>\n",
       "      <th id=\"T_ef2ae_level0_col1\" class=\"col_heading level0 col1\" >count</th>\n",
       "      <th id=\"T_ef2ae_level0_col2\" class=\"col_heading level0 col2\" >percent</th>\n",
       "      <th id=\"T_ef2ae_level0_col3\" class=\"col_heading level0 col3\" >cumulative_count</th>\n",
       "      <th id=\"T_ef2ae_level0_col4\" class=\"col_heading level0 col4\" >cumulative_percent</th>\n",
       "    </tr>\n",
       "  </thead>\n",
       "  <tbody>\n",
       "    <tr>\n",
       "      <th id=\"T_ef2ae_level0_row0\" class=\"row_heading level0 row0\" >0</th>\n",
       "      <td id=\"T_ef2ae_row0_col0\" class=\"data row0 col0\" >A</td>\n",
       "      <td id=\"T_ef2ae_row0_col1\" class=\"data row0 col1\" >3,824</td>\n",
       "      <td id=\"T_ef2ae_row0_col2\" class=\"data row0 col2\" >57.07%</td>\n",
       "      <td id=\"T_ef2ae_row0_col3\" class=\"data row0 col3\" >3,824</td>\n",
       "      <td id=\"T_ef2ae_row0_col4\" class=\"data row0 col4\" >57.07%</td>\n",
       "    </tr>\n",
       "    <tr>\n",
       "      <th id=\"T_ef2ae_level0_row1\" class=\"row_heading level0 row1\" >1</th>\n",
       "      <td id=\"T_ef2ae_row1_col0\" class=\"data row1 col0\" >B</td>\n",
       "      <td id=\"T_ef2ae_row1_col1\" class=\"data row1 col1\" >2,877</td>\n",
       "      <td id=\"T_ef2ae_row1_col2\" class=\"data row1 col2\" >42.93%</td>\n",
       "      <td id=\"T_ef2ae_row1_col3\" class=\"data row1 col3\" >6,701</td>\n",
       "      <td id=\"T_ef2ae_row1_col4\" class=\"data row1 col4\" >100.00%</td>\n",
       "    </tr>\n",
       "  </tbody>\n",
       "</table>\n"
      ],
      "text/plain": [
       "<pandas.io.formats.style.Styler at 0x1c6b65efee0>"
      ]
     },
     "execution_count": 21,
     "metadata": {},
     "output_type": "execute_result"
    }
   ],
   "source": [
    "total_participants.stb.freq(['group'], style=True)"
   ]
  },
  {
   "cell_type": "markdown",
   "metadata": {},
   "source": [
    "Количество пользователей в контрольной (`А`) и сравниваемой (`B`) группах распределено не равномерно, что может привести к возникновению статистических ошибок при проведении АБ-теста. Посмотрим как распределены пользователи по регионам и какое количество пользователей из Европы (EU)."
   ]
  },
  {
   "cell_type": "code",
   "execution_count": 22,
   "metadata": {},
   "outputs": [
    {
     "data": {
      "image/png": "[encoded data removed]",
      "text/plain": [
       "<Figure size 979.2x489.6 with 1 Axes>"
      ]
     },
     "metadata": {
      "image/png": {
       "height": 430,
       "width": 818
      },
      "needs_background": "light"
     },
     "output_type": "display_data"
    }
   ],
   "source": [
    "dot_1 = sns.barplot(x=total_participants.region.value_counts().index, \n",
    "                    y=total_participants.region.value_counts(), \n",
    "                    data=total_participants, palette='deep')\n",
    "\n",
    "dot_1.set_title('Распределение пользователей по регионам',\n",
    "                fontdict= {'fontsize': 14, 'fontweight':'bold'})\n",
    "dot_1.set_xlabel(' ')\n",
    "dot_1.set_ylabel('Количество пользователей', fontsize = 13)\n",
    "dot_1.set_ylim(0, 7000)\n",
    "\n",
    "# добавим числовые значения каждого столбца сверху столбца\n",
    "for p in dot_1.patches:\n",
    "    dot_1.annotate(\"%.0f\" % p.get_height(), (p.get_x() + p.get_width() / 2., p.get_height()), \\\n",
    "                   ha='center', va='center', fontsize=10, color='black', xytext=(0, 5), textcoords='offset points')\n",
    "\n",
    "plt.show()"
   ]
  },
  {
   "cell_type": "markdown",
   "metadata": {},
   "source": [
    "Далее посмотрим как распределены пользователи из разных регионов в тестовой и контрольной группах"
   ]
  },
  {
   "cell_type": "code",
   "execution_count": 23,
   "metadata": {},
   "outputs": [
    {
     "data": {
      "text/html": [
       "<div>\n",
       "<style scoped>\n",
       "    .dataframe tbody tr th:only-of-type {\n",
       "        vertical-align: middle;\n",
       "    }\n",
       "\n",
       "    .dataframe tbody tr th {\n",
       "        vertical-align: top;\n",
       "    }\n",
       "\n",
       "    .dataframe thead th {\n",
       "        text-align: right;\n",
       "    }\n",
       "</style>\n",
       "<table border=\"1\" class=\"dataframe\">\n",
       "  <thead>\n",
       "    <tr style=\"text-align: right;\">\n",
       "      <th></th>\n",
       "      <th>group</th>\n",
       "      <th>region</th>\n",
       "      <th>total_users</th>\n",
       "    </tr>\n",
       "  </thead>\n",
       "  <tbody>\n",
       "    <tr>\n",
       "      <th>0</th>\n",
       "      <td>A</td>\n",
       "      <td>APAC</td>\n",
       "      <td>37</td>\n",
       "    </tr>\n",
       "    <tr>\n",
       "      <th>1</th>\n",
       "      <td>A</td>\n",
       "      <td>CIS</td>\n",
       "      <td>25</td>\n",
       "    </tr>\n",
       "    <tr>\n",
       "      <th>2</th>\n",
       "      <td>A</td>\n",
       "      <td>EU</td>\n",
       "      <td>3634</td>\n",
       "    </tr>\n",
       "    <tr>\n",
       "      <th>3</th>\n",
       "      <td>A</td>\n",
       "      <td>N.America</td>\n",
       "      <td>128</td>\n",
       "    </tr>\n",
       "    <tr>\n",
       "      <th>4</th>\n",
       "      <td>B</td>\n",
       "      <td>APAC</td>\n",
       "      <td>35</td>\n",
       "    </tr>\n",
       "    <tr>\n",
       "      <th>5</th>\n",
       "      <td>B</td>\n",
       "      <td>CIS</td>\n",
       "      <td>30</td>\n",
       "    </tr>\n",
       "    <tr>\n",
       "      <th>6</th>\n",
       "      <td>B</td>\n",
       "      <td>EU</td>\n",
       "      <td>2717</td>\n",
       "    </tr>\n",
       "    <tr>\n",
       "      <th>7</th>\n",
       "      <td>B</td>\n",
       "      <td>N.America</td>\n",
       "      <td>95</td>\n",
       "    </tr>\n",
       "  </tbody>\n",
       "</table>\n",
       "</div>"
      ],
      "text/plain": [
       "  group     region  total_users\n",
       "0     A       APAC           37\n",
       "1     A        CIS           25\n",
       "2     A         EU         3634\n",
       "3     A  N.America          128\n",
       "4     B       APAC           35\n",
       "5     B        CIS           30\n",
       "6     B         EU         2717\n",
       "7     B  N.America           95"
      ]
     },
     "execution_count": 23,
     "metadata": {},
     "output_type": "execute_result"
    }
   ],
   "source": [
    "users_per_regions = total_participants.groupby(['group', 'region']).agg({'user_id': 'nunique'}).reset_index()\n",
    "users_per_regions = users_per_regions.rename(columns={'user_id' : 'total_users'})\n",
    "users_per_regions"
   ]
  },
  {
   "cell_type": "markdown",
   "metadata": {},
   "source": [
    "Как мы видим большинство пользователей в таблице из европейского региона (EU). Вычислим какую долю новые пользователи из EU,  занимают от общего числа пользователей из этого региона, которые зарегистрировались до 21 декабря 2020 года включительно."
   ]
  },
  {
   "cell_type": "code",
   "execution_count": 24,
   "metadata": {},
   "outputs": [
    {
     "name": "stdout",
     "output_type": "stream",
     "text": [
      "Всего пользователей в тесте recommender_system_test - 6351\n",
      "Всего новых пользователей из EU в исследуемый период - 42340\n",
      "Доля новых пользователей из региона EU в тесте составляет: 15.0 %\n"
     ]
    }
   ],
   "source": [
    "users_eu = total_participants.query('region == \"EU\"')['user_id'].nunique()\n",
    "print('Всего пользователей в тесте recommender_system_test - {:.0f}'.format(users_eu))\n",
    "\n",
    "users_eu_test = ab_new_users.query('region == \"EU\" & first_date <= \"2020-12-21\" & region == \"EU\"')['user_id'].nunique()\n",
    "print('Всего новых пользователей из EU в исследуемый период - {:.0f}'.format(users_eu_test))\n",
    "\n",
    "print('Доля новых пользователей из региона EU в тесте составляет:', round((users_eu / users_eu_test * 100), 2),'%') "
   ]
  },
  {
   "cell_type": "markdown",
   "metadata": {},
   "source": [
    "Таким образом, количество пользователей в тесте - 6351 превышает ожидаемое число участников теста - 6000, показатели аудитории в 15% новых пользователей из европейского региона (EU), указанные в техническом задании, также достигнуты.\n",
    "\n",
    "Посмотрим равномерность распределения тестовых групп в зависимости от других параметров."
   ]
  },
  {
   "cell_type": "code",
   "execution_count": 25,
   "metadata": {},
   "outputs": [
    {
     "data": {
      "text/html": [
       "<div>\n",
       "<style scoped>\n",
       "    .dataframe tbody tr th:only-of-type {\n",
       "        vertical-align: middle;\n",
       "    }\n",
       "\n",
       "    .dataframe tbody tr th {\n",
       "        vertical-align: top;\n",
       "    }\n",
       "\n",
       "    .dataframe thead th {\n",
       "        text-align: right;\n",
       "    }\n",
       "</style>\n",
       "<table border=\"1\" class=\"dataframe\">\n",
       "  <thead>\n",
       "    <tr style=\"text-align: right;\">\n",
       "      <th></th>\n",
       "      <th>group</th>\n",
       "      <th>device</th>\n",
       "      <th>total_users</th>\n",
       "    </tr>\n",
       "  </thead>\n",
       "  <tbody>\n",
       "    <tr>\n",
       "      <th>0</th>\n",
       "      <td>A</td>\n",
       "      <td>Android</td>\n",
       "      <td>1672</td>\n",
       "    </tr>\n",
       "    <tr>\n",
       "      <th>1</th>\n",
       "      <td>A</td>\n",
       "      <td>Mac</td>\n",
       "      <td>373</td>\n",
       "    </tr>\n",
       "    <tr>\n",
       "      <th>2</th>\n",
       "      <td>A</td>\n",
       "      <td>PC</td>\n",
       "      <td>1011</td>\n",
       "    </tr>\n",
       "    <tr>\n",
       "      <th>3</th>\n",
       "      <td>A</td>\n",
       "      <td>iPhone</td>\n",
       "      <td>768</td>\n",
       "    </tr>\n",
       "    <tr>\n",
       "      <th>4</th>\n",
       "      <td>B</td>\n",
       "      <td>Android</td>\n",
       "      <td>1311</td>\n",
       "    </tr>\n",
       "    <tr>\n",
       "      <th>5</th>\n",
       "      <td>B</td>\n",
       "      <td>Mac</td>\n",
       "      <td>260</td>\n",
       "    </tr>\n",
       "    <tr>\n",
       "      <th>6</th>\n",
       "      <td>B</td>\n",
       "      <td>PC</td>\n",
       "      <td>696</td>\n",
       "    </tr>\n",
       "    <tr>\n",
       "      <th>7</th>\n",
       "      <td>B</td>\n",
       "      <td>iPhone</td>\n",
       "      <td>610</td>\n",
       "    </tr>\n",
       "  </tbody>\n",
       "</table>\n",
       "</div>"
      ],
      "text/plain": [
       "  group   device  total_users\n",
       "0     A  Android         1672\n",
       "1     A      Mac          373\n",
       "2     A       PC         1011\n",
       "3     A   iPhone          768\n",
       "4     B  Android         1311\n",
       "5     B      Mac          260\n",
       "6     B       PC          696\n",
       "7     B   iPhone          610"
      ]
     },
     "execution_count": 25,
     "metadata": {},
     "output_type": "execute_result"
    }
   ],
   "source": [
    "users_per_devices = total_participants.groupby(['group', 'device']).agg({'user_id': 'nunique'}).reset_index()\n",
    "users_per_devices = users_per_devices.rename(columns={'user_id' : 'total_users'})\n",
    "users_per_devices"
   ]
  },
  {
   "cell_type": "code",
   "execution_count": 26,
   "metadata": {},
   "outputs": [
    {
     "data": {
      "image/png": "[encoded data removed]",
      "text/plain": [
       "<Figure size 1008x576 with 2 Axes>"
      ]
     },
     "metadata": {
      "image/png": {
       "height": 536,
       "width": 838
      },
      "needs_background": "light"
     },
     "output_type": "display_data"
    }
   ],
   "source": [
    "fig, axes = plt.subplots(1, 2, figsize=(14, 8), sharey=True)\n",
    "fig.suptitle('Распределение пользователей', fontweight='bold', size=20)\n",
    "\n",
    "dot_3_1 = sns.barplot(ax=axes[0], x='region', y='total_users', hue='group',\n",
    "            data=users_per_regions,\n",
    "            palette='deep')\n",
    "axes[0].set(title='По странам', xlabel='Страна', ylabel='Количество пользователей')\n",
    "\n",
    "# добавим числовые значения каждого столбца сверху столбца\n",
    "for p in dot_3_1.patches:\n",
    "    dot_3_1.annotate(\"%.0f\" % p.get_height(), (p.get_x() + p.get_width() / 2., p.get_height()), \\\n",
    "                   ha='center', va='center', fontsize=10, color='black', xytext=(0, 5), textcoords='offset points')\n",
    "    \n",
    "dot_3_2 = sns.barplot(ax=axes[1], x='device', y='total_users', hue='group',\n",
    "            data=users_per_devices,\n",
    "            palette='deep')\n",
    "axes[1].set(title='По устройствам', xlabel='Устройство', ylabel='')\n",
    "\n",
    "# добавим числовые значения каждого столбца сверху столбца\n",
    "for p in dot_3_2.patches:\n",
    "    dot_3_2.annotate(\"%.0f\" % p.get_height(), (p.get_x() + p.get_width() / 2., p.get_height()), \\\n",
    "                   ha='center', va='center', fontsize=10, color='black', xytext=(0, 5), textcoords='offset points')\n",
    "    \n",
    "plt.show()"
   ]
  },
  {
   "cell_type": "markdown",
   "metadata": {},
   "source": [
    "В связи с большой разнице в количестве пользователей между группами, в контрольной (`А`) и экспериментальной (`В`) группах пользователи из разных регионов (особенно в EU) и разных устройств также распределены неравномерно."
   ]
  },
  {
   "cell_type": "markdown",
   "metadata": {},
   "source": [
    "### Оценка времени проведения теста (в т.ч. совпадение с маркетинговыми и другими активностями)"
   ]
  },
  {
   "cell_type": "markdown",
   "metadata": {},
   "source": [
    "Для начала к ранее полученной таблице `total_participants` присоединим таблицу `ab_events` с событиями, которые генерировали новые пользователи."
   ]
  },
  {
   "cell_type": "code",
   "execution_count": 27,
   "metadata": {},
   "outputs": [
    {
     "data": {
      "text/html": [
       "<div>\n",
       "<style scoped>\n",
       "    .dataframe tbody tr th:only-of-type {\n",
       "        vertical-align: middle;\n",
       "    }\n",
       "\n",
       "    .dataframe tbody tr th {\n",
       "        vertical-align: top;\n",
       "    }\n",
       "\n",
       "    .dataframe thead th {\n",
       "        text-align: right;\n",
       "    }\n",
       "</style>\n",
       "<table border=\"1\" class=\"dataframe\">\n",
       "  <thead>\n",
       "    <tr style=\"text-align: right;\">\n",
       "      <th></th>\n",
       "      <th>user_id</th>\n",
       "      <th>group</th>\n",
       "      <th>ab_test</th>\n",
       "      <th>first_date</th>\n",
       "      <th>region</th>\n",
       "      <th>device</th>\n",
       "      <th>event_dt</th>\n",
       "      <th>event_name</th>\n",
       "      <th>details</th>\n",
       "    </tr>\n",
       "  </thead>\n",
       "  <tbody>\n",
       "    <tr>\n",
       "      <th>0</th>\n",
       "      <td>D1ABA3E2887B6A73</td>\n",
       "      <td>A</td>\n",
       "      <td>recommender_system_test</td>\n",
       "      <td>2020-12-07</td>\n",
       "      <td>EU</td>\n",
       "      <td>PC</td>\n",
       "      <td>2020-12-07 14:43:27</td>\n",
       "      <td>purchase</td>\n",
       "      <td>99.990</td>\n",
       "    </tr>\n",
       "    <tr>\n",
       "      <th>1</th>\n",
       "      <td>D1ABA3E2887B6A73</td>\n",
       "      <td>A</td>\n",
       "      <td>recommender_system_test</td>\n",
       "      <td>2020-12-07</td>\n",
       "      <td>EU</td>\n",
       "      <td>PC</td>\n",
       "      <td>2020-12-25 00:04:56</td>\n",
       "      <td>purchase</td>\n",
       "      <td>4.990</td>\n",
       "    </tr>\n",
       "    <tr>\n",
       "      <th>2</th>\n",
       "      <td>D1ABA3E2887B6A73</td>\n",
       "      <td>A</td>\n",
       "      <td>recommender_system_test</td>\n",
       "      <td>2020-12-07</td>\n",
       "      <td>EU</td>\n",
       "      <td>PC</td>\n",
       "      <td>2020-12-07 14:43:29</td>\n",
       "      <td>product_cart</td>\n",
       "      <td>NaN</td>\n",
       "    </tr>\n",
       "    <tr>\n",
       "      <th>3</th>\n",
       "      <td>D1ABA3E2887B6A73</td>\n",
       "      <td>A</td>\n",
       "      <td>recommender_system_test</td>\n",
       "      <td>2020-12-07</td>\n",
       "      <td>EU</td>\n",
       "      <td>PC</td>\n",
       "      <td>2020-12-25 00:04:57</td>\n",
       "      <td>product_cart</td>\n",
       "      <td>NaN</td>\n",
       "    </tr>\n",
       "    <tr>\n",
       "      <th>4</th>\n",
       "      <td>D1ABA3E2887B6A73</td>\n",
       "      <td>A</td>\n",
       "      <td>recommender_system_test</td>\n",
       "      <td>2020-12-07</td>\n",
       "      <td>EU</td>\n",
       "      <td>PC</td>\n",
       "      <td>2020-12-07 14:43:27</td>\n",
       "      <td>product_page</td>\n",
       "      <td>NaN</td>\n",
       "    </tr>\n",
       "    <tr>\n",
       "      <th>5</th>\n",
       "      <td>D1ABA3E2887B6A73</td>\n",
       "      <td>A</td>\n",
       "      <td>recommender_system_test</td>\n",
       "      <td>2020-12-07</td>\n",
       "      <td>EU</td>\n",
       "      <td>PC</td>\n",
       "      <td>2020-12-25 00:04:57</td>\n",
       "      <td>product_page</td>\n",
       "      <td>NaN</td>\n",
       "    </tr>\n",
       "    <tr>\n",
       "      <th>6</th>\n",
       "      <td>D1ABA3E2887B6A73</td>\n",
       "      <td>A</td>\n",
       "      <td>recommender_system_test</td>\n",
       "      <td>2020-12-07</td>\n",
       "      <td>EU</td>\n",
       "      <td>PC</td>\n",
       "      <td>2020-12-07 14:43:27</td>\n",
       "      <td>login</td>\n",
       "      <td>NaN</td>\n",
       "    </tr>\n",
       "    <tr>\n",
       "      <th>7</th>\n",
       "      <td>D1ABA3E2887B6A73</td>\n",
       "      <td>A</td>\n",
       "      <td>recommender_system_test</td>\n",
       "      <td>2020-12-07</td>\n",
       "      <td>EU</td>\n",
       "      <td>PC</td>\n",
       "      <td>2020-12-25 00:04:56</td>\n",
       "      <td>login</td>\n",
       "      <td>NaN</td>\n",
       "    </tr>\n",
       "    <tr>\n",
       "      <th>8</th>\n",
       "      <td>A7A3664BD6242119</td>\n",
       "      <td>A</td>\n",
       "      <td>recommender_system_test</td>\n",
       "      <td>2020-12-20</td>\n",
       "      <td>EU</td>\n",
       "      <td>iPhone</td>\n",
       "      <td>2020-12-20 15:46:06</td>\n",
       "      <td>product_page</td>\n",
       "      <td>NaN</td>\n",
       "    </tr>\n",
       "    <tr>\n",
       "      <th>9</th>\n",
       "      <td>A7A3664BD6242119</td>\n",
       "      <td>A</td>\n",
       "      <td>recommender_system_test</td>\n",
       "      <td>2020-12-20</td>\n",
       "      <td>EU</td>\n",
       "      <td>iPhone</td>\n",
       "      <td>2020-12-21 00:40:59</td>\n",
       "      <td>product_page</td>\n",
       "      <td>NaN</td>\n",
       "    </tr>\n",
       "  </tbody>\n",
       "</table>\n",
       "</div>"
      ],
      "text/plain": [
       "            user_id group                  ab_test first_date region  device  \\\n",
       "0  D1ABA3E2887B6A73     A  recommender_system_test 2020-12-07     EU      PC   \n",
       "1  D1ABA3E2887B6A73     A  recommender_system_test 2020-12-07     EU      PC   \n",
       "2  D1ABA3E2887B6A73     A  recommender_system_test 2020-12-07     EU      PC   \n",
       "3  D1ABA3E2887B6A73     A  recommender_system_test 2020-12-07     EU      PC   \n",
       "4  D1ABA3E2887B6A73     A  recommender_system_test 2020-12-07     EU      PC   \n",
       "5  D1ABA3E2887B6A73     A  recommender_system_test 2020-12-07     EU      PC   \n",
       "6  D1ABA3E2887B6A73     A  recommender_system_test 2020-12-07     EU      PC   \n",
       "7  D1ABA3E2887B6A73     A  recommender_system_test 2020-12-07     EU      PC   \n",
       "8  A7A3664BD6242119     A  recommender_system_test 2020-12-20     EU  iPhone   \n",
       "9  A7A3664BD6242119     A  recommender_system_test 2020-12-20     EU  iPhone   \n",
       "\n",
       "             event_dt    event_name  details  \n",
       "0 2020-12-07 14:43:27      purchase   99.990  \n",
       "1 2020-12-25 00:04:56      purchase    4.990  \n",
       "2 2020-12-07 14:43:29  product_cart      NaN  \n",
       "3 2020-12-25 00:04:57  product_cart      NaN  \n",
       "4 2020-12-07 14:43:27  product_page      NaN  \n",
       "5 2020-12-25 00:04:57  product_page      NaN  \n",
       "6 2020-12-07 14:43:27         login      NaN  \n",
       "7 2020-12-25 00:04:56         login      NaN  \n",
       "8 2020-12-20 15:46:06  product_page      NaN  \n",
       "9 2020-12-21 00:40:59  product_page      NaN  "
      ]
     },
     "metadata": {},
     "output_type": "display_data"
    },
    {
     "data": {
      "text/html": [
       "<div>\n",
       "<style scoped>\n",
       "    .dataframe tbody tr th:only-of-type {\n",
       "        vertical-align: middle;\n",
       "    }\n",
       "\n",
       "    .dataframe tbody tr th {\n",
       "        vertical-align: top;\n",
       "    }\n",
       "\n",
       "    .dataframe thead th {\n",
       "        text-align: right;\n",
       "    }\n",
       "</style>\n",
       "<table border=\"1\" class=\"dataframe\">\n",
       "  <thead>\n",
       "    <tr style=\"text-align: right;\">\n",
       "      <th></th>\n",
       "      <th>count</th>\n",
       "      <th>unique</th>\n",
       "      <th>top</th>\n",
       "      <th>freq</th>\n",
       "      <th>first</th>\n",
       "      <th>last</th>\n",
       "      <th>mean</th>\n",
       "      <th>std</th>\n",
       "      <th>min</th>\n",
       "      <th>25%</th>\n",
       "      <th>50%</th>\n",
       "      <th>75%</th>\n",
       "      <th>max</th>\n",
       "    </tr>\n",
       "  </thead>\n",
       "  <tbody>\n",
       "    <tr>\n",
       "      <th>user_id</th>\n",
       "      <td>27724</td>\n",
       "      <td>6701</td>\n",
       "      <td>1198061F6AF34B7B</td>\n",
       "      <td>28</td>\n",
       "      <td></td>\n",
       "      <td></td>\n",
       "      <td></td>\n",
       "      <td></td>\n",
       "      <td></td>\n",
       "      <td></td>\n",
       "      <td></td>\n",
       "      <td></td>\n",
       "      <td></td>\n",
       "    </tr>\n",
       "    <tr>\n",
       "      <th>group</th>\n",
       "      <td>27724</td>\n",
       "      <td>2</td>\n",
       "      <td>A</td>\n",
       "      <td>20381</td>\n",
       "      <td></td>\n",
       "      <td></td>\n",
       "      <td></td>\n",
       "      <td></td>\n",
       "      <td></td>\n",
       "      <td></td>\n",
       "      <td></td>\n",
       "      <td></td>\n",
       "      <td></td>\n",
       "    </tr>\n",
       "    <tr>\n",
       "      <th>ab_test</th>\n",
       "      <td>27724</td>\n",
       "      <td>1</td>\n",
       "      <td>recommender_system_test</td>\n",
       "      <td>27724</td>\n",
       "      <td></td>\n",
       "      <td></td>\n",
       "      <td></td>\n",
       "      <td></td>\n",
       "      <td></td>\n",
       "      <td></td>\n",
       "      <td></td>\n",
       "      <td></td>\n",
       "      <td></td>\n",
       "    </tr>\n",
       "    <tr>\n",
       "      <th>first_date</th>\n",
       "      <td>27724</td>\n",
       "      <td>15</td>\n",
       "      <td>2020-12-14 00:00:00</td>\n",
       "      <td>3680</td>\n",
       "      <td>2020-12-07 00:00:00</td>\n",
       "      <td>2020-12-21 00:00:00</td>\n",
       "      <td></td>\n",
       "      <td></td>\n",
       "      <td></td>\n",
       "      <td></td>\n",
       "      <td></td>\n",
       "      <td></td>\n",
       "      <td></td>\n",
       "    </tr>\n",
       "    <tr>\n",
       "      <th>region</th>\n",
       "      <td>27724</td>\n",
       "      <td>4</td>\n",
       "      <td>EU</td>\n",
       "      <td>26290</td>\n",
       "      <td></td>\n",
       "      <td></td>\n",
       "      <td></td>\n",
       "      <td></td>\n",
       "      <td></td>\n",
       "      <td></td>\n",
       "      <td></td>\n",
       "      <td></td>\n",
       "      <td></td>\n",
       "    </tr>\n",
       "    <tr>\n",
       "      <th>device</th>\n",
       "      <td>27724</td>\n",
       "      <td>4</td>\n",
       "      <td>Android</td>\n",
       "      <td>12143</td>\n",
       "      <td></td>\n",
       "      <td></td>\n",
       "      <td></td>\n",
       "      <td></td>\n",
       "      <td></td>\n",
       "      <td></td>\n",
       "      <td></td>\n",
       "      <td></td>\n",
       "      <td></td>\n",
       "    </tr>\n",
       "    <tr>\n",
       "      <th>event_dt</th>\n",
       "      <td>24698</td>\n",
       "      <td>16523</td>\n",
       "      <td>2020-12-09 19:01:05</td>\n",
       "      <td>6</td>\n",
       "      <td>2020-12-07 00:05:57</td>\n",
       "      <td>2020-12-30 12:42:57</td>\n",
       "      <td></td>\n",
       "      <td></td>\n",
       "      <td></td>\n",
       "      <td></td>\n",
       "      <td></td>\n",
       "      <td></td>\n",
       "      <td></td>\n",
       "    </tr>\n",
       "    <tr>\n",
       "      <th>event_name</th>\n",
       "      <td>24698</td>\n",
       "      <td>4</td>\n",
       "      <td>login</td>\n",
       "      <td>11190</td>\n",
       "      <td></td>\n",
       "      <td></td>\n",
       "      <td></td>\n",
       "      <td></td>\n",
       "      <td></td>\n",
       "      <td></td>\n",
       "      <td></td>\n",
       "      <td></td>\n",
       "      <td></td>\n",
       "    </tr>\n",
       "    <tr>\n",
       "      <th>details</th>\n",
       "      <td>3331.000</td>\n",
       "      <td></td>\n",
       "      <td></td>\n",
       "      <td></td>\n",
       "      <td></td>\n",
       "      <td></td>\n",
       "      <td>23.213</td>\n",
       "      <td>70.849</td>\n",
       "      <td>4.990</td>\n",
       "      <td>4.990</td>\n",
       "      <td>4.990</td>\n",
       "      <td>9.990</td>\n",
       "      <td>499.990</td>\n",
       "    </tr>\n",
       "  </tbody>\n",
       "</table>\n",
       "</div>"
      ],
      "text/plain": [
       "              count unique                      top   freq  \\\n",
       "user_id       27724   6701         1198061F6AF34B7B     28   \n",
       "group         27724      2                        A  20381   \n",
       "ab_test       27724      1  recommender_system_test  27724   \n",
       "first_date    27724     15      2020-12-14 00:00:00   3680   \n",
       "region        27724      4                       EU  26290   \n",
       "device        27724      4                  Android  12143   \n",
       "event_dt      24698  16523      2020-12-09 19:01:05      6   \n",
       "event_name    24698      4                    login  11190   \n",
       "details    3331.000                                          \n",
       "\n",
       "                          first                 last   mean    std   min  \\\n",
       "user_id                                                                    \n",
       "group                                                                      \n",
       "ab_test                                                                    \n",
       "first_date  2020-12-07 00:00:00  2020-12-21 00:00:00                       \n",
       "region                                                                     \n",
       "device                                                                     \n",
       "event_dt    2020-12-07 00:05:57  2020-12-30 12:42:57                       \n",
       "event_name                                                                 \n",
       "details                                              23.213 70.849 4.990   \n",
       "\n",
       "             25%   50%   75%     max  \n",
       "user_id                               \n",
       "group                                 \n",
       "ab_test                               \n",
       "first_date                            \n",
       "region                                \n",
       "device                                \n",
       "event_dt                              \n",
       "event_name                            \n",
       "details    4.990 4.990 9.990 499.990  "
      ]
     },
     "metadata": {},
     "output_type": "display_data"
    },
    {
     "name": "stdout",
     "output_type": "stream",
     "text": [
      "<class 'pandas.core.frame.DataFrame'>\n",
      "Int64Index: 27724 entries, 0 to 27723\n",
      "Data columns (total 9 columns):\n",
      " #   Column      Non-Null Count  Dtype         \n",
      "---  ------      --------------  -----         \n",
      " 0   user_id     27724 non-null  object        \n",
      " 1   group       27724 non-null  object        \n",
      " 2   ab_test     27724 non-null  object        \n",
      " 3   first_date  27724 non-null  datetime64[ns]\n",
      " 4   region      27724 non-null  object        \n",
      " 5   device      27724 non-null  object        \n",
      " 6   event_dt    24698 non-null  datetime64[ns]\n",
      " 7   event_name  24698 non-null  object        \n",
      " 8   details     3331 non-null   float64       \n",
      "dtypes: datetime64[ns](2), float64(1), object(6)\n",
      "memory usage: 2.1+ MB\n",
      "\n",
      "В предоставленных данных имеется 0 дубликатов, что составляет 0.0% от всех данных\n"
     ]
    }
   ],
   "source": [
    "temp_data = total_participants.merge(ab_events, on='user_id', how='left')\n",
    "\n",
    "# посмотрим общую информацию о получившейся таблице\n",
    "simple_info(temp_data)"
   ]
  },
  {
   "cell_type": "markdown",
   "metadata": {},
   "source": [
    "По условиям технического задания дата запуска теста - 07 декабря 2020 года, остановка теста должна произойти 04 января 2021 года. Однако, предоставленные данные содержат информацию о событиях, которые произошли только в период с 07 декабря 2020 года (00:16:00) по 30 декабря 2020 года (12:42:57). Таким образом, у нас отсутствует часть данных о событиях, генерируемых пользователями в период с полудня 30 декабря 2020 года по 04 января 2021 года, что может негативно сказаться на результатах АБ-тестов.\n",
    "\n",
    "Потенциальными причинами отсутствия данных за указанный период могут быть следующие: \n",
    "- техническая ошибка при логировании событий;\n",
    "- неработоспособность приложения/сайта на котором происходили события;\n",
    "- досрочная остановка АБ-теста по тем или иным причинам."
   ]
  },
  {
   "cell_type": "markdown",
   "metadata": {},
   "source": [
    "Выполним проверку совпадения дат проведения АБ-теста и маркетинговых событий, указанных в таблице `ab_marketing_events`, для чего отфильтруем маркетинговые события запланированные в период проведения теста, т.е. с 07 декабря 2020 года по 4 января 2021 года в регионе EU."
   ]
  },
  {
   "cell_type": "code",
   "execution_count": 28,
   "metadata": {
    "scrolled": true
   },
   "outputs": [
    {
     "data": {
      "text/html": [
       "<div>\n",
       "<style scoped>\n",
       "    .dataframe tbody tr th:only-of-type {\n",
       "        vertical-align: middle;\n",
       "    }\n",
       "\n",
       "    .dataframe tbody tr th {\n",
       "        vertical-align: top;\n",
       "    }\n",
       "\n",
       "    .dataframe thead th {\n",
       "        text-align: right;\n",
       "    }\n",
       "</style>\n",
       "<table border=\"1\" class=\"dataframe\">\n",
       "  <thead>\n",
       "    <tr style=\"text-align: right;\">\n",
       "      <th></th>\n",
       "      <th>name</th>\n",
       "      <th>regions</th>\n",
       "      <th>start_dt</th>\n",
       "      <th>finish_dt</th>\n",
       "    </tr>\n",
       "  </thead>\n",
       "  <tbody>\n",
       "    <tr>\n",
       "      <th>0</th>\n",
       "      <td>Christmas&amp;New Year Promo</td>\n",
       "      <td>EU, N.America</td>\n",
       "      <td>2020-12-25</td>\n",
       "      <td>2021-01-03</td>\n",
       "    </tr>\n",
       "  </tbody>\n",
       "</table>\n",
       "</div>"
      ],
      "text/plain": [
       "                       name        regions   start_dt  finish_dt\n",
       "0  Christmas&New Year Promo  EU, N.America 2020-12-25 2021-01-03"
      ]
     },
     "execution_count": 28,
     "metadata": {},
     "output_type": "execute_result"
    }
   ],
   "source": [
    "ab_marketing_events.loc[\n",
    "    (ab_marketing_events['regions'].str.find('EU') >= 0) &\n",
    "    (ab_marketing_events['start_dt'] >= \"2020-12-07\")\n",
    "]"
   ]
  },
  {
   "cell_type": "markdown",
   "metadata": {},
   "source": [
    "По информации из таблицы `ab_marketing_events` проведение АБ-теста совпадает со следующими маркетинговыми событиями: \n",
    "- в Европе (EU) запланирована промо-акция приуроченная к Рождеству и Новому году.\n",
    "\n",
    "Проведение АБ-теста в период всплеска активности аудитории, а именно: в период до и во время праздников нежелательно, поскольку маркетинговые события проводимые в данный период (в т.ч. сопутствующие им скидки) могут значительно менять покупательское поведение и исказить получившиеся в результате теста результаты, которые не будут соответствовать обычному поведению пользователей вне указанных периодов."
   ]
  },
  {
   "cell_type": "markdown",
   "metadata": {},
   "source": [
    "### Вывод"
   ]
  },
  {
   "cell_type": "markdown",
   "metadata": {},
   "source": [
    "Оценка корректности проведения теста изменений, связанных с внедрением улучшенной рекомендательной системы показала:\n",
    "\n",
    "- непропорциональное разделение пользователей, зарегистрировавшихся в период с 7 декабря по 21 декабря на контрольную группу `А` и группу сравнения `B`;\n",
    "- отсутствие данных о пользовательской активности за период с полудня 30 декабря 2020 года по 4 января 2021 года;\n",
    "- пересечение времени проведения теста с маркетинговыми событиями - промо-акцией, приуроченной к Рождеству и Новому году для пользователей из Европейского региона и региона Северной Америки;\n",
    "- распределение по устройствам, с которых пользователи осуществляли регистрацию, в контрольной группе `А` и группе сравнения `В` не равномерно;\n",
    "- значительная часть пользователей (почти 24%) пересекается с другим тестом. Нет информации, чтобы понять насколько это корректно - стоит обсудить это с менеджерами, которые запускали одновременное проведение тестов, чтобы понять, как в дальнейшем следует поступать с пользователями, попавшими одновременно в обе группы.\n",
    "\n",
    "Выявленные факты способны оказать значительное влияние на результаты A/B-теста, что делает их интерпретацию затрудительной и подвергает сомнению достоверность."
   ]
  },
  {
   "cell_type": "markdown",
   "metadata": {},
   "source": [
    "## Исследовательский анализ данных"
   ]
  },
  {
   "cell_type": "markdown",
   "metadata": {},
   "source": [
    "### Распределение событий на пользователя"
   ]
  },
  {
   "cell_type": "code",
   "execution_count": 29,
   "metadata": {},
   "outputs": [
    {
     "name": "stdout",
     "output_type": "stream",
     "text": [
      "Количество событий в предоставленных данных: \u001b[1m27724\u001b[0m\n",
      "Количество уникальных пользователей, участвующих в АБ-тесте: \u001b[1m6701\u001b[0m\n",
      "Среднее количество событий на одного пользователя в предоставленных логах: \u001b[1m4\u001b[0m\n"
     ]
    }
   ],
   "source": [
    "print(f'Количество событий в предоставленных данных: \\033[1m{len(temp_data.event_name)}\\033[0m')\n",
    "print(f'Количество уникальных пользователей, участвующих в АБ-тесте: \\033[1m{temp_data.user_id.nunique()}\\033[0m')\n",
    "print(f'Среднее количество событий на одного пользователя в предоставленных логах: \\\n",
    "\\033[1m{round(len(temp_data.event_name) / temp_data.user_id.nunique())}\\033[0m')"
   ]
  },
  {
   "cell_type": "markdown",
   "metadata": {},
   "source": [
    "Подсчитаем количество событий по пользователям, затем визуализируем получившийся результат."
   ]
  },
  {
   "cell_type": "code",
   "execution_count": 30,
   "metadata": {},
   "outputs": [
    {
     "data": {
      "text/html": [
       "<div>\n",
       "<style scoped>\n",
       "    .dataframe tbody tr th:only-of-type {\n",
       "        vertical-align: middle;\n",
       "    }\n",
       "\n",
       "    .dataframe tbody tr th {\n",
       "        vertical-align: top;\n",
       "    }\n",
       "\n",
       "    .dataframe thead th {\n",
       "        text-align: right;\n",
       "    }\n",
       "</style>\n",
       "<table border=\"1\" class=\"dataframe\">\n",
       "  <thead>\n",
       "    <tr style=\"text-align: right;\">\n",
       "      <th></th>\n",
       "      <th>group</th>\n",
       "      <th>user_id</th>\n",
       "      <th>total_events</th>\n",
       "    </tr>\n",
       "  </thead>\n",
       "  <tbody>\n",
       "    <tr>\n",
       "      <th>4009</th>\n",
       "      <td>B</td>\n",
       "      <td>1198061F6AF34B7B</td>\n",
       "      <td>28</td>\n",
       "    </tr>\n",
       "    <tr>\n",
       "      <th>4005</th>\n",
       "      <td>B</td>\n",
       "      <td>115EBC1CA027854A</td>\n",
       "      <td>27</td>\n",
       "    </tr>\n",
       "    <tr>\n",
       "      <th>432</th>\n",
       "      <td>A</td>\n",
       "      <td>1BFEE479308EFF44</td>\n",
       "      <td>24</td>\n",
       "    </tr>\n",
       "    <tr>\n",
       "      <th>3126</th>\n",
       "      <td>A</td>\n",
       "      <td>CED71698585A2E46</td>\n",
       "      <td>24</td>\n",
       "    </tr>\n",
       "    <tr>\n",
       "      <th>5329</th>\n",
       "      <td>B</td>\n",
       "      <td>89545C7F903DBA34</td>\n",
       "      <td>21</td>\n",
       "    </tr>\n",
       "    <tr>\n",
       "      <th>...</th>\n",
       "      <td>...</td>\n",
       "      <td>...</td>\n",
       "      <td>...</td>\n",
       "    </tr>\n",
       "    <tr>\n",
       "      <th>4196</th>\n",
       "      <td>B</td>\n",
       "      <td>230E0BB726CE0C90</td>\n",
       "      <td>0</td>\n",
       "    </tr>\n",
       "    <tr>\n",
       "      <th>4198</th>\n",
       "      <td>B</td>\n",
       "      <td>2328CA791BADC741</td>\n",
       "      <td>0</td>\n",
       "    </tr>\n",
       "    <tr>\n",
       "      <th>4199</th>\n",
       "      <td>B</td>\n",
       "      <td>233852E6444A2101</td>\n",
       "      <td>0</td>\n",
       "    </tr>\n",
       "    <tr>\n",
       "      <th>4200</th>\n",
       "      <td>B</td>\n",
       "      <td>233B88037586C928</td>\n",
       "      <td>0</td>\n",
       "    </tr>\n",
       "    <tr>\n",
       "      <th>0</th>\n",
       "      <td>A</td>\n",
       "      <td>000ABE35EE11412F</td>\n",
       "      <td>0</td>\n",
       "    </tr>\n",
       "  </tbody>\n",
       "</table>\n",
       "<p>6701 rows × 3 columns</p>\n",
       "</div>"
      ],
      "text/plain": [
       "     group           user_id  total_events\n",
       "4009     B  1198061F6AF34B7B            28\n",
       "4005     B  115EBC1CA027854A            27\n",
       "432      A  1BFEE479308EFF44            24\n",
       "3126     A  CED71698585A2E46            24\n",
       "5329     B  89545C7F903DBA34            21\n",
       "...    ...               ...           ...\n",
       "4196     B  230E0BB726CE0C90             0\n",
       "4198     B  2328CA791BADC741             0\n",
       "4199     B  233852E6444A2101             0\n",
       "4200     B  233B88037586C928             0\n",
       "0        A  000ABE35EE11412F             0\n",
       "\n",
       "[6701 rows x 3 columns]"
      ]
     },
     "execution_count": 30,
     "metadata": {},
     "output_type": "execute_result"
    }
   ],
   "source": [
    "events_by_users_1 = temp_data.groupby(['group','user_id'], as_index=False).agg({'event_name': 'count'})\n",
    "events_by_users_1.columns = ['group', 'user_id', 'total_events']\n",
    "events_by_users_1.sort_values(by='total_events', ascending=False)"
   ]
  },
  {
   "cell_type": "code",
   "execution_count": 31,
   "metadata": {},
   "outputs": [
    {
     "data": {
      "image/png": "[encoded data removed]",
      "text/plain": [
       "<Figure size 1008x504 with 2 Axes>"
      ]
     },
     "metadata": {
      "image/png": {
       "height": 475,
       "width": 841
      },
      "needs_background": "light"
     },
     "output_type": "display_data"
    }
   ],
   "source": [
    "fig, axes = plt.subplots(1, 2, figsize=(14, 7), sharey=True)\n",
    "fig.suptitle('Распределение количества событий по пользователям', fontweight='bold', size=20)\n",
    "\n",
    "sns.histplot(ax=axes[0], x='total_events', data=events_by_users_1.query('group == \"A\"'), bins=range(0, 25))\n",
    "axes[0].set(title='Группа А', xlabel='Количество событий', ylabel='Количество пользователей')\n",
    "\n",
    "sns.histplot(ax=axes[1], x='total_events', data=events_by_users_1.query('group == \"B\"'), bins=range(0, 25))\n",
    "axes[1].set(title='Группа B', xlabel='Количество событий', ylabel='Количество пользователей')\n",
    "\n",
    "plt.show()"
   ]
  },
  {
   "cell_type": "markdown",
   "metadata": {},
   "source": [
    "Судя по информации из сформированной таблицы и графика, значительная часть пользователей как в группе `А`, так и в группе `B` не генерировала вообще никаких событий. Посмотрим какую часть эти пользователи занимают."
   ]
  },
  {
   "cell_type": "code",
   "execution_count": 32,
   "metadata": {},
   "outputs": [
    {
     "name": "stdout",
     "output_type": "stream",
     "text": [
      "В группе A имеется 1077 пользователей, у которых вообще не было событий, что составляет 28.16% от всех пользователей группы\n",
      "В группе A имеется 1949 пользователей, у которых вообще не было событий, что составляет 67.74% от всех пользователей группы\n"
     ]
    }
   ],
   "source": [
    "# выделим пользователей обеих группах, у которых нет никаких событий\n",
    "no_events_users = events_by_users_1.query('total_events == 0')['user_id'].to_list()\n",
    "\n",
    "# посмотрим какое количество пользователей не имеют событий в каждой из групп\n",
    "not_events = temp_data[temp_data['user_id'].isin(no_events_users)].reset_index(drop=True)\n",
    "\n",
    "not_events_a = not_events.query('group == \"A\"')['user_id'].nunique()\n",
    "users_a = events_by_users_1.query('group == \"A\"')['user_id'].nunique()\n",
    "\n",
    "not_events_b = not_events.query('group == \"B\"')['user_id'].nunique()\n",
    "users_b = events_by_users_1.query('group == \"B\"')['user_id'].nunique()\n",
    "\n",
    "print(f'В группе A имеется {not_events_a} пользователей, у которых вообще не было событий, \\\n",
    "что составляет {round(not_events_a / users_a * 100, 2)}% от всех пользователей группы')  \n",
    "\n",
    "print(f'В группе A имеется {not_events_b} пользователей, у которых вообще не было событий, \\\n",
    "что составляет {round(not_events_b / users_b * 100, 2)}% от всех пользователей группы')"
   ]
  },
  {
   "cell_type": "markdown",
   "metadata": {},
   "source": [
    "С учетом условий проведения AB-теста в части конверсии в разных событиях, при отсутствии событий у пользователя, они бесполезны для исследования, в связи с чем полагаю возможным их исключить."
   ]
  },
  {
   "cell_type": "code",
   "execution_count": 33,
   "metadata": {
    "scrolled": false
   },
   "outputs": [
    {
     "data": {
      "text/html": [
       "<div>\n",
       "<style scoped>\n",
       "    .dataframe tbody tr th:only-of-type {\n",
       "        vertical-align: middle;\n",
       "    }\n",
       "\n",
       "    .dataframe tbody tr th {\n",
       "        vertical-align: top;\n",
       "    }\n",
       "\n",
       "    .dataframe thead th {\n",
       "        text-align: right;\n",
       "    }\n",
       "</style>\n",
       "<table border=\"1\" class=\"dataframe\">\n",
       "  <thead>\n",
       "    <tr style=\"text-align: right;\">\n",
       "      <th></th>\n",
       "      <th>user_id</th>\n",
       "      <th>group</th>\n",
       "      <th>ab_test</th>\n",
       "      <th>first_date</th>\n",
       "      <th>region</th>\n",
       "      <th>device</th>\n",
       "      <th>event_dt</th>\n",
       "      <th>event_name</th>\n",
       "      <th>details</th>\n",
       "    </tr>\n",
       "  </thead>\n",
       "  <tbody>\n",
       "    <tr>\n",
       "      <th>0</th>\n",
       "      <td>D1ABA3E2887B6A73</td>\n",
       "      <td>A</td>\n",
       "      <td>recommender_system_test</td>\n",
       "      <td>2020-12-07</td>\n",
       "      <td>EU</td>\n",
       "      <td>PC</td>\n",
       "      <td>2020-12-07 14:43:27</td>\n",
       "      <td>purchase</td>\n",
       "      <td>99.990</td>\n",
       "    </tr>\n",
       "    <tr>\n",
       "      <th>1</th>\n",
       "      <td>D1ABA3E2887B6A73</td>\n",
       "      <td>A</td>\n",
       "      <td>recommender_system_test</td>\n",
       "      <td>2020-12-07</td>\n",
       "      <td>EU</td>\n",
       "      <td>PC</td>\n",
       "      <td>2020-12-25 00:04:56</td>\n",
       "      <td>purchase</td>\n",
       "      <td>4.990</td>\n",
       "    </tr>\n",
       "    <tr>\n",
       "      <th>2</th>\n",
       "      <td>D1ABA3E2887B6A73</td>\n",
       "      <td>A</td>\n",
       "      <td>recommender_system_test</td>\n",
       "      <td>2020-12-07</td>\n",
       "      <td>EU</td>\n",
       "      <td>PC</td>\n",
       "      <td>2020-12-07 14:43:29</td>\n",
       "      <td>product_cart</td>\n",
       "      <td>NaN</td>\n",
       "    </tr>\n",
       "    <tr>\n",
       "      <th>3</th>\n",
       "      <td>D1ABA3E2887B6A73</td>\n",
       "      <td>A</td>\n",
       "      <td>recommender_system_test</td>\n",
       "      <td>2020-12-07</td>\n",
       "      <td>EU</td>\n",
       "      <td>PC</td>\n",
       "      <td>2020-12-25 00:04:57</td>\n",
       "      <td>product_cart</td>\n",
       "      <td>NaN</td>\n",
       "    </tr>\n",
       "    <tr>\n",
       "      <th>4</th>\n",
       "      <td>D1ABA3E2887B6A73</td>\n",
       "      <td>A</td>\n",
       "      <td>recommender_system_test</td>\n",
       "      <td>2020-12-07</td>\n",
       "      <td>EU</td>\n",
       "      <td>PC</td>\n",
       "      <td>2020-12-07 14:43:27</td>\n",
       "      <td>product_page</td>\n",
       "      <td>NaN</td>\n",
       "    </tr>\n",
       "    <tr>\n",
       "      <th>...</th>\n",
       "      <td>...</td>\n",
       "      <td>...</td>\n",
       "      <td>...</td>\n",
       "      <td>...</td>\n",
       "      <td>...</td>\n",
       "      <td>...</td>\n",
       "      <td>...</td>\n",
       "      <td>...</td>\n",
       "      <td>...</td>\n",
       "    </tr>\n",
       "    <tr>\n",
       "      <th>24693</th>\n",
       "      <td>6715343AFBA285AE</td>\n",
       "      <td>B</td>\n",
       "      <td>recommender_system_test</td>\n",
       "      <td>2020-12-07</td>\n",
       "      <td>CIS</td>\n",
       "      <td>Android</td>\n",
       "      <td>2020-12-07 10:12:15</td>\n",
       "      <td>login</td>\n",
       "      <td>NaN</td>\n",
       "    </tr>\n",
       "    <tr>\n",
       "      <th>24694</th>\n",
       "      <td>6715343AFBA285AE</td>\n",
       "      <td>B</td>\n",
       "      <td>recommender_system_test</td>\n",
       "      <td>2020-12-07</td>\n",
       "      <td>CIS</td>\n",
       "      <td>Android</td>\n",
       "      <td>2020-12-08 22:51:16</td>\n",
       "      <td>login</td>\n",
       "      <td>NaN</td>\n",
       "    </tr>\n",
       "    <tr>\n",
       "      <th>24695</th>\n",
       "      <td>6715343AFBA285AE</td>\n",
       "      <td>B</td>\n",
       "      <td>recommender_system_test</td>\n",
       "      <td>2020-12-07</td>\n",
       "      <td>CIS</td>\n",
       "      <td>Android</td>\n",
       "      <td>2020-12-09 02:28:03</td>\n",
       "      <td>login</td>\n",
       "      <td>NaN</td>\n",
       "    </tr>\n",
       "    <tr>\n",
       "      <th>24696</th>\n",
       "      <td>6715343AFBA285AE</td>\n",
       "      <td>B</td>\n",
       "      <td>recommender_system_test</td>\n",
       "      <td>2020-12-07</td>\n",
       "      <td>CIS</td>\n",
       "      <td>Android</td>\n",
       "      <td>2020-12-10 22:55:14</td>\n",
       "      <td>login</td>\n",
       "      <td>NaN</td>\n",
       "    </tr>\n",
       "    <tr>\n",
       "      <th>24697</th>\n",
       "      <td>6715343AFBA285AE</td>\n",
       "      <td>B</td>\n",
       "      <td>recommender_system_test</td>\n",
       "      <td>2020-12-07</td>\n",
       "      <td>CIS</td>\n",
       "      <td>Android</td>\n",
       "      <td>2020-12-14 12:40:41</td>\n",
       "      <td>login</td>\n",
       "      <td>NaN</td>\n",
       "    </tr>\n",
       "  </tbody>\n",
       "</table>\n",
       "<p>24698 rows × 9 columns</p>\n",
       "</div>"
      ],
      "text/plain": [
       "                user_id group                  ab_test first_date region  \\\n",
       "0      D1ABA3E2887B6A73     A  recommender_system_test 2020-12-07     EU   \n",
       "1      D1ABA3E2887B6A73     A  recommender_system_test 2020-12-07     EU   \n",
       "2      D1ABA3E2887B6A73     A  recommender_system_test 2020-12-07     EU   \n",
       "3      D1ABA3E2887B6A73     A  recommender_system_test 2020-12-07     EU   \n",
       "4      D1ABA3E2887B6A73     A  recommender_system_test 2020-12-07     EU   \n",
       "...                 ...   ...                      ...        ...    ...   \n",
       "24693  6715343AFBA285AE     B  recommender_system_test 2020-12-07    CIS   \n",
       "24694  6715343AFBA285AE     B  recommender_system_test 2020-12-07    CIS   \n",
       "24695  6715343AFBA285AE     B  recommender_system_test 2020-12-07    CIS   \n",
       "24696  6715343AFBA285AE     B  recommender_system_test 2020-12-07    CIS   \n",
       "24697  6715343AFBA285AE     B  recommender_system_test 2020-12-07    CIS   \n",
       "\n",
       "        device            event_dt    event_name  details  \n",
       "0           PC 2020-12-07 14:43:27      purchase   99.990  \n",
       "1           PC 2020-12-25 00:04:56      purchase    4.990  \n",
       "2           PC 2020-12-07 14:43:29  product_cart      NaN  \n",
       "3           PC 2020-12-25 00:04:57  product_cart      NaN  \n",
       "4           PC 2020-12-07 14:43:27  product_page      NaN  \n",
       "...        ...                 ...           ...      ...  \n",
       "24693  Android 2020-12-07 10:12:15         login      NaN  \n",
       "24694  Android 2020-12-08 22:51:16         login      NaN  \n",
       "24695  Android 2020-12-09 02:28:03         login      NaN  \n",
       "24696  Android 2020-12-10 22:55:14         login      NaN  \n",
       "24697  Android 2020-12-14 12:40:41         login      NaN  \n",
       "\n",
       "[24698 rows x 9 columns]"
      ]
     },
     "execution_count": 33,
     "metadata": {},
     "output_type": "execute_result"
    }
   ],
   "source": [
    "# создадим новый датафрейм только с пользователями, у которых есть хотя бы 1 событие\n",
    "data = temp_data[~temp_data['user_id'].isin(no_events_users)].reset_index(drop=True)\n",
    "\n",
    "# посмотрим получившийся результат\n",
    "data"
   ]
  },
  {
   "cell_type": "markdown",
   "metadata": {},
   "source": [
    "По условиям технического задания ожидаемый эффект в AB-тесте происходит за 14 дней с даты регистрации. Создадим отдельный столбец, в котором поместим информацию о количестве дней, которые прошли с даты каждого из событий, отобранных нами пользователей. "
   ]
  },
  {
   "cell_type": "code",
   "execution_count": 34,
   "metadata": {},
   "outputs": [
    {
     "data": {
      "text/html": [
       "<div>\n",
       "<style scoped>\n",
       "    .dataframe tbody tr th:only-of-type {\n",
       "        vertical-align: middle;\n",
       "    }\n",
       "\n",
       "    .dataframe tbody tr th {\n",
       "        vertical-align: top;\n",
       "    }\n",
       "\n",
       "    .dataframe thead th {\n",
       "        text-align: right;\n",
       "    }\n",
       "</style>\n",
       "<table border=\"1\" class=\"dataframe\">\n",
       "  <thead>\n",
       "    <tr style=\"text-align: right;\">\n",
       "      <th></th>\n",
       "      <th>user_id</th>\n",
       "      <th>group</th>\n",
       "      <th>ab_test</th>\n",
       "      <th>first_date</th>\n",
       "      <th>region</th>\n",
       "      <th>device</th>\n",
       "      <th>event_dt</th>\n",
       "      <th>event_name</th>\n",
       "      <th>details</th>\n",
       "      <th>days_after_reg</th>\n",
       "    </tr>\n",
       "  </thead>\n",
       "  <tbody>\n",
       "    <tr>\n",
       "      <th>3896</th>\n",
       "      <td>75845C83258FBF73</td>\n",
       "      <td>B</td>\n",
       "      <td>recommender_system_test</td>\n",
       "      <td>2020-12-07</td>\n",
       "      <td>EU</td>\n",
       "      <td>Android</td>\n",
       "      <td>2020-12-30 06:42:52</td>\n",
       "      <td>login</td>\n",
       "      <td>NaN</td>\n",
       "      <td>23</td>\n",
       "    </tr>\n",
       "    <tr>\n",
       "      <th>22715</th>\n",
       "      <td>DD4352CDCF8C3D57</td>\n",
       "      <td>B</td>\n",
       "      <td>recommender_system_test</td>\n",
       "      <td>2020-12-07</td>\n",
       "      <td>EU</td>\n",
       "      <td>Android</td>\n",
       "      <td>2020-12-30 12:42:57</td>\n",
       "      <td>product_page</td>\n",
       "      <td>NaN</td>\n",
       "      <td>23</td>\n",
       "    </tr>\n",
       "    <tr>\n",
       "      <th>3892</th>\n",
       "      <td>75845C83258FBF73</td>\n",
       "      <td>B</td>\n",
       "      <td>recommender_system_test</td>\n",
       "      <td>2020-12-07</td>\n",
       "      <td>EU</td>\n",
       "      <td>Android</td>\n",
       "      <td>2020-12-30 06:42:52</td>\n",
       "      <td>product_cart</td>\n",
       "      <td>NaN</td>\n",
       "      <td>23</td>\n",
       "    </tr>\n",
       "    <tr>\n",
       "      <th>22721</th>\n",
       "      <td>DD4352CDCF8C3D57</td>\n",
       "      <td>B</td>\n",
       "      <td>recommender_system_test</td>\n",
       "      <td>2020-12-07</td>\n",
       "      <td>EU</td>\n",
       "      <td>Android</td>\n",
       "      <td>2020-12-30 12:42:56</td>\n",
       "      <td>login</td>\n",
       "      <td>NaN</td>\n",
       "      <td>23</td>\n",
       "    </tr>\n",
       "    <tr>\n",
       "      <th>10973</th>\n",
       "      <td>8FF91E21E27A330D</td>\n",
       "      <td>B</td>\n",
       "      <td>recommender_system_test</td>\n",
       "      <td>2020-12-07</td>\n",
       "      <td>EU</td>\n",
       "      <td>Mac</td>\n",
       "      <td>2020-12-29 08:33:36</td>\n",
       "      <td>purchase</td>\n",
       "      <td>4.990</td>\n",
       "      <td>22</td>\n",
       "    </tr>\n",
       "    <tr>\n",
       "      <th>...</th>\n",
       "      <td>...</td>\n",
       "      <td>...</td>\n",
       "      <td>...</td>\n",
       "      <td>...</td>\n",
       "      <td>...</td>\n",
       "      <td>...</td>\n",
       "      <td>...</td>\n",
       "      <td>...</td>\n",
       "      <td>...</td>\n",
       "      <td>...</td>\n",
       "    </tr>\n",
       "    <tr>\n",
       "      <th>16200</th>\n",
       "      <td>47A0EAE52F635E59</td>\n",
       "      <td>A</td>\n",
       "      <td>recommender_system_test</td>\n",
       "      <td>2020-12-21</td>\n",
       "      <td>EU</td>\n",
       "      <td>Android</td>\n",
       "      <td>2020-12-21 04:48:56</td>\n",
       "      <td>login</td>\n",
       "      <td>NaN</td>\n",
       "      <td>0</td>\n",
       "    </tr>\n",
       "    <tr>\n",
       "      <th>16202</th>\n",
       "      <td>2A114ED4FE2F5FED</td>\n",
       "      <td>B</td>\n",
       "      <td>recommender_system_test</td>\n",
       "      <td>2020-12-12</td>\n",
       "      <td>EU</td>\n",
       "      <td>Android</td>\n",
       "      <td>2020-12-12 22:22:17</td>\n",
       "      <td>login</td>\n",
       "      <td>NaN</td>\n",
       "      <td>0</td>\n",
       "    </tr>\n",
       "    <tr>\n",
       "      <th>16205</th>\n",
       "      <td>219092AB21AE880C</td>\n",
       "      <td>A</td>\n",
       "      <td>recommender_system_test</td>\n",
       "      <td>2020-12-08</td>\n",
       "      <td>EU</td>\n",
       "      <td>Android</td>\n",
       "      <td>2020-12-08 08:42:40</td>\n",
       "      <td>purchase</td>\n",
       "      <td>99.990</td>\n",
       "      <td>0</td>\n",
       "    </tr>\n",
       "    <tr>\n",
       "      <th>5413</th>\n",
       "      <td>788C61EDBDD38346</td>\n",
       "      <td>A</td>\n",
       "      <td>recommender_system_test</td>\n",
       "      <td>2020-12-17</td>\n",
       "      <td>EU</td>\n",
       "      <td>iPhone</td>\n",
       "      <td>2020-12-17 20:13:19</td>\n",
       "      <td>purchase</td>\n",
       "      <td>4.990</td>\n",
       "      <td>0</td>\n",
       "    </tr>\n",
       "    <tr>\n",
       "      <th>0</th>\n",
       "      <td>D1ABA3E2887B6A73</td>\n",
       "      <td>A</td>\n",
       "      <td>recommender_system_test</td>\n",
       "      <td>2020-12-07</td>\n",
       "      <td>EU</td>\n",
       "      <td>PC</td>\n",
       "      <td>2020-12-07 14:43:27</td>\n",
       "      <td>purchase</td>\n",
       "      <td>99.990</td>\n",
       "      <td>0</td>\n",
       "    </tr>\n",
       "  </tbody>\n",
       "</table>\n",
       "<p>24698 rows × 10 columns</p>\n",
       "</div>"
      ],
      "text/plain": [
       "                user_id group                  ab_test first_date region  \\\n",
       "3896   75845C83258FBF73     B  recommender_system_test 2020-12-07     EU   \n",
       "22715  DD4352CDCF8C3D57     B  recommender_system_test 2020-12-07     EU   \n",
       "3892   75845C83258FBF73     B  recommender_system_test 2020-12-07     EU   \n",
       "22721  DD4352CDCF8C3D57     B  recommender_system_test 2020-12-07     EU   \n",
       "10973  8FF91E21E27A330D     B  recommender_system_test 2020-12-07     EU   \n",
       "...                 ...   ...                      ...        ...    ...   \n",
       "16200  47A0EAE52F635E59     A  recommender_system_test 2020-12-21     EU   \n",
       "16202  2A114ED4FE2F5FED     B  recommender_system_test 2020-12-12     EU   \n",
       "16205  219092AB21AE880C     A  recommender_system_test 2020-12-08     EU   \n",
       "5413   788C61EDBDD38346     A  recommender_system_test 2020-12-17     EU   \n",
       "0      D1ABA3E2887B6A73     A  recommender_system_test 2020-12-07     EU   \n",
       "\n",
       "        device            event_dt    event_name  details  days_after_reg  \n",
       "3896   Android 2020-12-30 06:42:52         login      NaN              23  \n",
       "22715  Android 2020-12-30 12:42:57  product_page      NaN              23  \n",
       "3892   Android 2020-12-30 06:42:52  product_cart      NaN              23  \n",
       "22721  Android 2020-12-30 12:42:56         login      NaN              23  \n",
       "10973      Mac 2020-12-29 08:33:36      purchase    4.990              22  \n",
       "...        ...                 ...           ...      ...             ...  \n",
       "16200  Android 2020-12-21 04:48:56         login      NaN               0  \n",
       "16202  Android 2020-12-12 22:22:17         login      NaN               0  \n",
       "16205  Android 2020-12-08 08:42:40      purchase   99.990               0  \n",
       "5413    iPhone 2020-12-17 20:13:19      purchase    4.990               0  \n",
       "0           PC 2020-12-07 14:43:27      purchase   99.990               0  \n",
       "\n",
       "[24698 rows x 10 columns]"
      ]
     },
     "execution_count": 34,
     "metadata": {},
     "output_type": "execute_result"
    }
   ],
   "source": [
    "data['days_after_reg'] = (data['event_dt'] - data['first_date']).dt.days\n",
    "data.sort_values(by='days_after_reg', ascending=False)"
   ]
  },
  {
   "cell_type": "markdown",
   "metadata": {},
   "source": [
    "Проверим сколько событий сгенерированы пользователя за пределами установленных в техническом задании 14 дней с даты регистрации."
   ]
  },
  {
   "cell_type": "code",
   "execution_count": 35,
   "metadata": {
    "scrolled": false
   },
   "outputs": [
    {
     "data": {
      "text/html": [
       "<div>\n",
       "<style scoped>\n",
       "    .dataframe tbody tr th:only-of-type {\n",
       "        vertical-align: middle;\n",
       "    }\n",
       "\n",
       "    .dataframe tbody tr th {\n",
       "        vertical-align: top;\n",
       "    }\n",
       "\n",
       "    .dataframe thead th {\n",
       "        text-align: right;\n",
       "    }\n",
       "</style>\n",
       "<table border=\"1\" class=\"dataframe\">\n",
       "  <thead>\n",
       "    <tr style=\"text-align: right;\">\n",
       "      <th></th>\n",
       "      <th>user_id</th>\n",
       "      <th>group</th>\n",
       "      <th>ab_test</th>\n",
       "      <th>first_date</th>\n",
       "      <th>region</th>\n",
       "      <th>device</th>\n",
       "      <th>event_dt</th>\n",
       "      <th>event_name</th>\n",
       "      <th>details</th>\n",
       "      <th>days_after_reg</th>\n",
       "    </tr>\n",
       "  </thead>\n",
       "  <tbody>\n",
       "    <tr>\n",
       "      <th>22715</th>\n",
       "      <td>DD4352CDCF8C3D57</td>\n",
       "      <td>B</td>\n",
       "      <td>recommender_system_test</td>\n",
       "      <td>2020-12-07</td>\n",
       "      <td>EU</td>\n",
       "      <td>Android</td>\n",
       "      <td>2020-12-30 12:42:57</td>\n",
       "      <td>product_page</td>\n",
       "      <td>NaN</td>\n",
       "      <td>23</td>\n",
       "    </tr>\n",
       "    <tr>\n",
       "      <th>22721</th>\n",
       "      <td>DD4352CDCF8C3D57</td>\n",
       "      <td>B</td>\n",
       "      <td>recommender_system_test</td>\n",
       "      <td>2020-12-07</td>\n",
       "      <td>EU</td>\n",
       "      <td>Android</td>\n",
       "      <td>2020-12-30 12:42:56</td>\n",
       "      <td>login</td>\n",
       "      <td>NaN</td>\n",
       "      <td>23</td>\n",
       "    </tr>\n",
       "    <tr>\n",
       "      <th>3896</th>\n",
       "      <td>75845C83258FBF73</td>\n",
       "      <td>B</td>\n",
       "      <td>recommender_system_test</td>\n",
       "      <td>2020-12-07</td>\n",
       "      <td>EU</td>\n",
       "      <td>Android</td>\n",
       "      <td>2020-12-30 06:42:52</td>\n",
       "      <td>login</td>\n",
       "      <td>NaN</td>\n",
       "      <td>23</td>\n",
       "    </tr>\n",
       "    <tr>\n",
       "      <th>3892</th>\n",
       "      <td>75845C83258FBF73</td>\n",
       "      <td>B</td>\n",
       "      <td>recommender_system_test</td>\n",
       "      <td>2020-12-07</td>\n",
       "      <td>EU</td>\n",
       "      <td>Android</td>\n",
       "      <td>2020-12-30 06:42:52</td>\n",
       "      <td>product_cart</td>\n",
       "      <td>NaN</td>\n",
       "      <td>23</td>\n",
       "    </tr>\n",
       "    <tr>\n",
       "      <th>902</th>\n",
       "      <td>C3C56A2DFF10BC79</td>\n",
       "      <td>B</td>\n",
       "      <td>recommender_system_test</td>\n",
       "      <td>2020-12-07</td>\n",
       "      <td>EU</td>\n",
       "      <td>iPhone</td>\n",
       "      <td>2020-12-29 05:56:46</td>\n",
       "      <td>login</td>\n",
       "      <td>NaN</td>\n",
       "      <td>22</td>\n",
       "    </tr>\n",
       "    <tr>\n",
       "      <th>10976</th>\n",
       "      <td>8FF91E21E27A330D</td>\n",
       "      <td>B</td>\n",
       "      <td>recommender_system_test</td>\n",
       "      <td>2020-12-07</td>\n",
       "      <td>EU</td>\n",
       "      <td>Mac</td>\n",
       "      <td>2020-12-29 08:33:38</td>\n",
       "      <td>product_cart</td>\n",
       "      <td>NaN</td>\n",
       "      <td>22</td>\n",
       "    </tr>\n",
       "    <tr>\n",
       "      <th>10979</th>\n",
       "      <td>8FF91E21E27A330D</td>\n",
       "      <td>B</td>\n",
       "      <td>recommender_system_test</td>\n",
       "      <td>2020-12-07</td>\n",
       "      <td>EU</td>\n",
       "      <td>Mac</td>\n",
       "      <td>2020-12-29 08:33:36</td>\n",
       "      <td>product_page</td>\n",
       "      <td>NaN</td>\n",
       "      <td>22</td>\n",
       "    </tr>\n",
       "    <tr>\n",
       "      <th>17747</th>\n",
       "      <td>BAAEE6D68FB90D22</td>\n",
       "      <td>A</td>\n",
       "      <td>recommender_system_test</td>\n",
       "      <td>2020-12-07</td>\n",
       "      <td>EU</td>\n",
       "      <td>iPhone</td>\n",
       "      <td>2020-12-29 10:14:15</td>\n",
       "      <td>product_page</td>\n",
       "      <td>NaN</td>\n",
       "      <td>22</td>\n",
       "    </tr>\n",
       "    <tr>\n",
       "      <th>23023</th>\n",
       "      <td>A3FE6D821476E810</td>\n",
       "      <td>A</td>\n",
       "      <td>recommender_system_test</td>\n",
       "      <td>2020-12-07</td>\n",
       "      <td>EU</td>\n",
       "      <td>Android</td>\n",
       "      <td>2020-12-29 05:25:02</td>\n",
       "      <td>login</td>\n",
       "      <td>NaN</td>\n",
       "      <td>22</td>\n",
       "    </tr>\n",
       "    <tr>\n",
       "      <th>10982</th>\n",
       "      <td>8FF91E21E27A330D</td>\n",
       "      <td>B</td>\n",
       "      <td>recommender_system_test</td>\n",
       "      <td>2020-12-07</td>\n",
       "      <td>EU</td>\n",
       "      <td>Mac</td>\n",
       "      <td>2020-12-29 08:33:36</td>\n",
       "      <td>login</td>\n",
       "      <td>NaN</td>\n",
       "      <td>22</td>\n",
       "    </tr>\n",
       "  </tbody>\n",
       "</table>\n",
       "</div>"
      ],
      "text/plain": [
       "                user_id group                  ab_test first_date region  \\\n",
       "22715  DD4352CDCF8C3D57     B  recommender_system_test 2020-12-07     EU   \n",
       "22721  DD4352CDCF8C3D57     B  recommender_system_test 2020-12-07     EU   \n",
       "3896   75845C83258FBF73     B  recommender_system_test 2020-12-07     EU   \n",
       "3892   75845C83258FBF73     B  recommender_system_test 2020-12-07     EU   \n",
       "902    C3C56A2DFF10BC79     B  recommender_system_test 2020-12-07     EU   \n",
       "10976  8FF91E21E27A330D     B  recommender_system_test 2020-12-07     EU   \n",
       "10979  8FF91E21E27A330D     B  recommender_system_test 2020-12-07     EU   \n",
       "17747  BAAEE6D68FB90D22     A  recommender_system_test 2020-12-07     EU   \n",
       "23023  A3FE6D821476E810     A  recommender_system_test 2020-12-07     EU   \n",
       "10982  8FF91E21E27A330D     B  recommender_system_test 2020-12-07     EU   \n",
       "\n",
       "        device            event_dt    event_name  details  days_after_reg  \n",
       "22715  Android 2020-12-30 12:42:57  product_page      NaN              23  \n",
       "22721  Android 2020-12-30 12:42:56         login      NaN              23  \n",
       "3896   Android 2020-12-30 06:42:52         login      NaN              23  \n",
       "3892   Android 2020-12-30 06:42:52  product_cart      NaN              23  \n",
       "902     iPhone 2020-12-29 05:56:46         login      NaN              22  \n",
       "10976      Mac 2020-12-29 08:33:38  product_cart      NaN              22  \n",
       "10979      Mac 2020-12-29 08:33:36  product_page      NaN              22  \n",
       "17747   iPhone 2020-12-29 10:14:15  product_page      NaN              22  \n",
       "23023  Android 2020-12-29 05:25:02         login      NaN              22  \n",
       "10982      Mac 2020-12-29 08:33:36         login      NaN              22  "
      ]
     },
     "metadata": {},
     "output_type": "display_data"
    },
    {
     "data": {
      "text/html": [
       "<div>\n",
       "<style scoped>\n",
       "    .dataframe tbody tr th:only-of-type {\n",
       "        vertical-align: middle;\n",
       "    }\n",
       "\n",
       "    .dataframe tbody tr th {\n",
       "        vertical-align: top;\n",
       "    }\n",
       "\n",
       "    .dataframe thead th {\n",
       "        text-align: right;\n",
       "    }\n",
       "</style>\n",
       "<table border=\"1\" class=\"dataframe\">\n",
       "  <thead>\n",
       "    <tr style=\"text-align: right;\">\n",
       "      <th></th>\n",
       "      <th>count</th>\n",
       "      <th>unique</th>\n",
       "      <th>top</th>\n",
       "      <th>freq</th>\n",
       "      <th>first</th>\n",
       "      <th>last</th>\n",
       "      <th>mean</th>\n",
       "      <th>std</th>\n",
       "      <th>min</th>\n",
       "      <th>25%</th>\n",
       "      <th>50%</th>\n",
       "      <th>75%</th>\n",
       "      <th>max</th>\n",
       "    </tr>\n",
       "  </thead>\n",
       "  <tbody>\n",
       "    <tr>\n",
       "      <th>user_id</th>\n",
       "      <td>628</td>\n",
       "      <td>270</td>\n",
       "      <td>A8C69B602A3D4A32</td>\n",
       "      <td>8</td>\n",
       "      <td></td>\n",
       "      <td></td>\n",
       "      <td></td>\n",
       "      <td></td>\n",
       "      <td></td>\n",
       "      <td></td>\n",
       "      <td></td>\n",
       "      <td></td>\n",
       "      <td></td>\n",
       "    </tr>\n",
       "    <tr>\n",
       "      <th>group</th>\n",
       "      <td>628</td>\n",
       "      <td>2</td>\n",
       "      <td>A</td>\n",
       "      <td>357</td>\n",
       "      <td></td>\n",
       "      <td></td>\n",
       "      <td></td>\n",
       "      <td></td>\n",
       "      <td></td>\n",
       "      <td></td>\n",
       "      <td></td>\n",
       "      <td></td>\n",
       "      <td></td>\n",
       "    </tr>\n",
       "    <tr>\n",
       "      <th>ab_test</th>\n",
       "      <td>628</td>\n",
       "      <td>1</td>\n",
       "      <td>recommender_system_test</td>\n",
       "      <td>628</td>\n",
       "      <td></td>\n",
       "      <td></td>\n",
       "      <td></td>\n",
       "      <td></td>\n",
       "      <td></td>\n",
       "      <td></td>\n",
       "      <td></td>\n",
       "      <td></td>\n",
       "      <td></td>\n",
       "    </tr>\n",
       "    <tr>\n",
       "      <th>first_date</th>\n",
       "      <td>628</td>\n",
       "      <td>8</td>\n",
       "      <td>2020-12-07 00:00:00</td>\n",
       "      <td>280</td>\n",
       "      <td>2020-12-07 00:00:00</td>\n",
       "      <td>2020-12-14 00:00:00</td>\n",
       "      <td></td>\n",
       "      <td></td>\n",
       "      <td></td>\n",
       "      <td></td>\n",
       "      <td></td>\n",
       "      <td></td>\n",
       "      <td></td>\n",
       "    </tr>\n",
       "    <tr>\n",
       "      <th>region</th>\n",
       "      <td>628</td>\n",
       "      <td>4</td>\n",
       "      <td>EU</td>\n",
       "      <td>592</td>\n",
       "      <td></td>\n",
       "      <td></td>\n",
       "      <td></td>\n",
       "      <td></td>\n",
       "      <td></td>\n",
       "      <td></td>\n",
       "      <td></td>\n",
       "      <td></td>\n",
       "      <td></td>\n",
       "    </tr>\n",
       "    <tr>\n",
       "      <th>device</th>\n",
       "      <td>628</td>\n",
       "      <td>4</td>\n",
       "      <td>Android</td>\n",
       "      <td>282</td>\n",
       "      <td></td>\n",
       "      <td></td>\n",
       "      <td></td>\n",
       "      <td></td>\n",
       "      <td></td>\n",
       "      <td></td>\n",
       "      <td></td>\n",
       "      <td></td>\n",
       "      <td></td>\n",
       "    </tr>\n",
       "    <tr>\n",
       "      <th>event_dt</th>\n",
       "      <td>628</td>\n",
       "      <td>425</td>\n",
       "      <td>2020-12-27 06:29:03</td>\n",
       "      <td>4</td>\n",
       "      <td>2020-12-22 01:38:31</td>\n",
       "      <td>2020-12-30 12:42:57</td>\n",
       "      <td></td>\n",
       "      <td></td>\n",
       "      <td></td>\n",
       "      <td></td>\n",
       "      <td></td>\n",
       "      <td></td>\n",
       "      <td></td>\n",
       "    </tr>\n",
       "    <tr>\n",
       "      <th>event_name</th>\n",
       "      <td>628</td>\n",
       "      <td>4</td>\n",
       "      <td>login</td>\n",
       "      <td>297</td>\n",
       "      <td></td>\n",
       "      <td></td>\n",
       "      <td></td>\n",
       "      <td></td>\n",
       "      <td></td>\n",
       "      <td></td>\n",
       "      <td></td>\n",
       "      <td></td>\n",
       "      <td></td>\n",
       "    </tr>\n",
       "    <tr>\n",
       "      <th>details</th>\n",
       "      <td>78.000</td>\n",
       "      <td></td>\n",
       "      <td></td>\n",
       "      <td></td>\n",
       "      <td></td>\n",
       "      <td></td>\n",
       "      <td>22.746</td>\n",
       "      <td>62.609</td>\n",
       "      <td>4.990</td>\n",
       "      <td>4.990</td>\n",
       "      <td>4.990</td>\n",
       "      <td>4.990</td>\n",
       "      <td>499.990</td>\n",
       "    </tr>\n",
       "    <tr>\n",
       "      <th>days_after_reg</th>\n",
       "      <td>628.000</td>\n",
       "      <td></td>\n",
       "      <td></td>\n",
       "      <td></td>\n",
       "      <td></td>\n",
       "      <td></td>\n",
       "      <td>17.449</td>\n",
       "      <td>2.202</td>\n",
       "      <td>15.000</td>\n",
       "      <td>15.000</td>\n",
       "      <td>17.000</td>\n",
       "      <td>19.000</td>\n",
       "      <td>23.000</td>\n",
       "    </tr>\n",
       "  </tbody>\n",
       "</table>\n",
       "</div>"
      ],
      "text/plain": [
       "                 count unique                      top freq  \\\n",
       "user_id            628    270         A8C69B602A3D4A32    8   \n",
       "group              628      2                        A  357   \n",
       "ab_test            628      1  recommender_system_test  628   \n",
       "first_date         628      8      2020-12-07 00:00:00  280   \n",
       "region             628      4                       EU  592   \n",
       "device             628      4                  Android  282   \n",
       "event_dt           628    425      2020-12-27 06:29:03    4   \n",
       "event_name         628      4                    login  297   \n",
       "details         78.000                                        \n",
       "days_after_reg 628.000                                        \n",
       "\n",
       "                              first                 last   mean    std    min  \\\n",
       "user_id                                                                         \n",
       "group                                                                           \n",
       "ab_test                                                                         \n",
       "first_date      2020-12-07 00:00:00  2020-12-14 00:00:00                        \n",
       "region                                                                          \n",
       "device                                                                          \n",
       "event_dt        2020-12-22 01:38:31  2020-12-30 12:42:57                        \n",
       "event_name                                                                      \n",
       "details                                                  22.746 62.609  4.990   \n",
       "days_after_reg                                           17.449  2.202 15.000   \n",
       "\n",
       "                  25%    50%    75%     max  \n",
       "user_id                                      \n",
       "group                                        \n",
       "ab_test                                      \n",
       "first_date                                   \n",
       "region                                       \n",
       "device                                       \n",
       "event_dt                                     \n",
       "event_name                                   \n",
       "details         4.990  4.990  4.990 499.990  \n",
       "days_after_reg 15.000 17.000 19.000  23.000  "
      ]
     },
     "metadata": {},
     "output_type": "display_data"
    },
    {
     "name": "stdout",
     "output_type": "stream",
     "text": [
      "<class 'pandas.core.frame.DataFrame'>\n",
      "Int64Index: 628 entries, 22715 to 16764\n",
      "Data columns (total 10 columns):\n",
      " #   Column          Non-Null Count  Dtype         \n",
      "---  ------          --------------  -----         \n",
      " 0   user_id         628 non-null    object        \n",
      " 1   group           628 non-null    object        \n",
      " 2   ab_test         628 non-null    object        \n",
      " 3   first_date      628 non-null    datetime64[ns]\n",
      " 4   region          628 non-null    object        \n",
      " 5   device          628 non-null    object        \n",
      " 6   event_dt        628 non-null    datetime64[ns]\n",
      " 7   event_name      628 non-null    object        \n",
      " 8   details         78 non-null     float64       \n",
      " 9   days_after_reg  628 non-null    int64         \n",
      "dtypes: datetime64[ns](2), float64(1), int64(1), object(6)\n",
      "memory usage: 54.0+ KB\n",
      "\n",
      "В предоставленных данных имеется 0 дубликатов, что составляет 0.0% от всех данных\n"
     ]
    }
   ],
   "source": [
    "data_incorrect_dt = data.query('days_after_reg > 14').sort_values(by='days_after_reg', ascending=False)\n",
    "simple_info(data_incorrect_dt)"
   ]
  },
  {
   "cell_type": "markdown",
   "metadata": {},
   "source": [
    "Мы получили информацию о 628 событиях, которые были сгенерированы 270 пользователями за пределами 14 дневного срока (от 15 до 23 дней), отведенного для ожидаемого эффекта согласно условиям технического задания. Для корректности выводов и соблюдения ТЗ полагаю необходимым эти события также исключить."
   ]
  },
  {
   "cell_type": "code",
   "execution_count": 36,
   "metadata": {},
   "outputs": [],
   "source": [
    "data = data.query('days_after_reg <= 14').reset_index(drop=True)"
   ]
  },
  {
   "cell_type": "code",
   "execution_count": 37,
   "metadata": {},
   "outputs": [
    {
     "data": {
      "text/html": [
       "<div>\n",
       "<style scoped>\n",
       "    .dataframe tbody tr th:only-of-type {\n",
       "        vertical-align: middle;\n",
       "    }\n",
       "\n",
       "    .dataframe tbody tr th {\n",
       "        vertical-align: top;\n",
       "    }\n",
       "\n",
       "    .dataframe thead th {\n",
       "        text-align: right;\n",
       "    }\n",
       "</style>\n",
       "<table border=\"1\" class=\"dataframe\">\n",
       "  <thead>\n",
       "    <tr style=\"text-align: right;\">\n",
       "      <th></th>\n",
       "      <th>user_id</th>\n",
       "      <th>group</th>\n",
       "      <th>ab_test</th>\n",
       "      <th>first_date</th>\n",
       "      <th>region</th>\n",
       "      <th>device</th>\n",
       "      <th>event_dt</th>\n",
       "      <th>event_name</th>\n",
       "      <th>details</th>\n",
       "      <th>days_after_reg</th>\n",
       "    </tr>\n",
       "  </thead>\n",
       "  <tbody>\n",
       "    <tr>\n",
       "      <th>0</th>\n",
       "      <td>D1ABA3E2887B6A73</td>\n",
       "      <td>A</td>\n",
       "      <td>recommender_system_test</td>\n",
       "      <td>2020-12-07</td>\n",
       "      <td>EU</td>\n",
       "      <td>PC</td>\n",
       "      <td>2020-12-07 14:43:27</td>\n",
       "      <td>purchase</td>\n",
       "      <td>99.990</td>\n",
       "      <td>0</td>\n",
       "    </tr>\n",
       "    <tr>\n",
       "      <th>1</th>\n",
       "      <td>D1ABA3E2887B6A73</td>\n",
       "      <td>A</td>\n",
       "      <td>recommender_system_test</td>\n",
       "      <td>2020-12-07</td>\n",
       "      <td>EU</td>\n",
       "      <td>PC</td>\n",
       "      <td>2020-12-07 14:43:29</td>\n",
       "      <td>product_cart</td>\n",
       "      <td>NaN</td>\n",
       "      <td>0</td>\n",
       "    </tr>\n",
       "    <tr>\n",
       "      <th>2</th>\n",
       "      <td>D1ABA3E2887B6A73</td>\n",
       "      <td>A</td>\n",
       "      <td>recommender_system_test</td>\n",
       "      <td>2020-12-07</td>\n",
       "      <td>EU</td>\n",
       "      <td>PC</td>\n",
       "      <td>2020-12-07 14:43:27</td>\n",
       "      <td>product_page</td>\n",
       "      <td>NaN</td>\n",
       "      <td>0</td>\n",
       "    </tr>\n",
       "    <tr>\n",
       "      <th>3</th>\n",
       "      <td>D1ABA3E2887B6A73</td>\n",
       "      <td>A</td>\n",
       "      <td>recommender_system_test</td>\n",
       "      <td>2020-12-07</td>\n",
       "      <td>EU</td>\n",
       "      <td>PC</td>\n",
       "      <td>2020-12-07 14:43:27</td>\n",
       "      <td>login</td>\n",
       "      <td>NaN</td>\n",
       "      <td>0</td>\n",
       "    </tr>\n",
       "    <tr>\n",
       "      <th>4</th>\n",
       "      <td>A7A3664BD6242119</td>\n",
       "      <td>A</td>\n",
       "      <td>recommender_system_test</td>\n",
       "      <td>2020-12-20</td>\n",
       "      <td>EU</td>\n",
       "      <td>iPhone</td>\n",
       "      <td>2020-12-20 15:46:06</td>\n",
       "      <td>product_page</td>\n",
       "      <td>NaN</td>\n",
       "      <td>0</td>\n",
       "    </tr>\n",
       "    <tr>\n",
       "      <th>5</th>\n",
       "      <td>A7A3664BD6242119</td>\n",
       "      <td>A</td>\n",
       "      <td>recommender_system_test</td>\n",
       "      <td>2020-12-20</td>\n",
       "      <td>EU</td>\n",
       "      <td>iPhone</td>\n",
       "      <td>2020-12-21 00:40:59</td>\n",
       "      <td>product_page</td>\n",
       "      <td>NaN</td>\n",
       "      <td>1</td>\n",
       "    </tr>\n",
       "    <tr>\n",
       "      <th>6</th>\n",
       "      <td>A7A3664BD6242119</td>\n",
       "      <td>A</td>\n",
       "      <td>recommender_system_test</td>\n",
       "      <td>2020-12-20</td>\n",
       "      <td>EU</td>\n",
       "      <td>iPhone</td>\n",
       "      <td>2020-12-25 05:19:45</td>\n",
       "      <td>product_page</td>\n",
       "      <td>NaN</td>\n",
       "      <td>5</td>\n",
       "    </tr>\n",
       "    <tr>\n",
       "      <th>7</th>\n",
       "      <td>A7A3664BD6242119</td>\n",
       "      <td>A</td>\n",
       "      <td>recommender_system_test</td>\n",
       "      <td>2020-12-20</td>\n",
       "      <td>EU</td>\n",
       "      <td>iPhone</td>\n",
       "      <td>2020-12-20 15:46:02</td>\n",
       "      <td>login</td>\n",
       "      <td>NaN</td>\n",
       "      <td>0</td>\n",
       "    </tr>\n",
       "    <tr>\n",
       "      <th>8</th>\n",
       "      <td>A7A3664BD6242119</td>\n",
       "      <td>A</td>\n",
       "      <td>recommender_system_test</td>\n",
       "      <td>2020-12-20</td>\n",
       "      <td>EU</td>\n",
       "      <td>iPhone</td>\n",
       "      <td>2020-12-21 00:40:58</td>\n",
       "      <td>login</td>\n",
       "      <td>NaN</td>\n",
       "      <td>1</td>\n",
       "    </tr>\n",
       "    <tr>\n",
       "      <th>9</th>\n",
       "      <td>A7A3664BD6242119</td>\n",
       "      <td>A</td>\n",
       "      <td>recommender_system_test</td>\n",
       "      <td>2020-12-20</td>\n",
       "      <td>EU</td>\n",
       "      <td>iPhone</td>\n",
       "      <td>2020-12-25 05:19:45</td>\n",
       "      <td>login</td>\n",
       "      <td>NaN</td>\n",
       "      <td>5</td>\n",
       "    </tr>\n",
       "  </tbody>\n",
       "</table>\n",
       "</div>"
      ],
      "text/plain": [
       "            user_id group                  ab_test first_date region  device  \\\n",
       "0  D1ABA3E2887B6A73     A  recommender_system_test 2020-12-07     EU      PC   \n",
       "1  D1ABA3E2887B6A73     A  recommender_system_test 2020-12-07     EU      PC   \n",
       "2  D1ABA3E2887B6A73     A  recommender_system_test 2020-12-07     EU      PC   \n",
       "3  D1ABA3E2887B6A73     A  recommender_system_test 2020-12-07     EU      PC   \n",
       "4  A7A3664BD6242119     A  recommender_system_test 2020-12-20     EU  iPhone   \n",
       "5  A7A3664BD6242119     A  recommender_system_test 2020-12-20     EU  iPhone   \n",
       "6  A7A3664BD6242119     A  recommender_system_test 2020-12-20     EU  iPhone   \n",
       "7  A7A3664BD6242119     A  recommender_system_test 2020-12-20     EU  iPhone   \n",
       "8  A7A3664BD6242119     A  recommender_system_test 2020-12-20     EU  iPhone   \n",
       "9  A7A3664BD6242119     A  recommender_system_test 2020-12-20     EU  iPhone   \n",
       "\n",
       "             event_dt    event_name  details  days_after_reg  \n",
       "0 2020-12-07 14:43:27      purchase   99.990               0  \n",
       "1 2020-12-07 14:43:29  product_cart      NaN               0  \n",
       "2 2020-12-07 14:43:27  product_page      NaN               0  \n",
       "3 2020-12-07 14:43:27         login      NaN               0  \n",
       "4 2020-12-20 15:46:06  product_page      NaN               0  \n",
       "5 2020-12-21 00:40:59  product_page      NaN               1  \n",
       "6 2020-12-25 05:19:45  product_page      NaN               5  \n",
       "7 2020-12-20 15:46:02         login      NaN               0  \n",
       "8 2020-12-21 00:40:58         login      NaN               1  \n",
       "9 2020-12-25 05:19:45         login      NaN               5  "
      ]
     },
     "metadata": {},
     "output_type": "display_data"
    },
    {
     "data": {
      "text/html": [
       "<div>\n",
       "<style scoped>\n",
       "    .dataframe tbody tr th:only-of-type {\n",
       "        vertical-align: middle;\n",
       "    }\n",
       "\n",
       "    .dataframe tbody tr th {\n",
       "        vertical-align: top;\n",
       "    }\n",
       "\n",
       "    .dataframe thead th {\n",
       "        text-align: right;\n",
       "    }\n",
       "</style>\n",
       "<table border=\"1\" class=\"dataframe\">\n",
       "  <thead>\n",
       "    <tr style=\"text-align: right;\">\n",
       "      <th></th>\n",
       "      <th>count</th>\n",
       "      <th>unique</th>\n",
       "      <th>top</th>\n",
       "      <th>freq</th>\n",
       "      <th>first</th>\n",
       "      <th>last</th>\n",
       "      <th>mean</th>\n",
       "      <th>std</th>\n",
       "      <th>min</th>\n",
       "      <th>25%</th>\n",
       "      <th>50%</th>\n",
       "      <th>75%</th>\n",
       "      <th>max</th>\n",
       "    </tr>\n",
       "  </thead>\n",
       "  <tbody>\n",
       "    <tr>\n",
       "      <th>user_id</th>\n",
       "      <td>24070</td>\n",
       "      <td>3675</td>\n",
       "      <td>CED71698585A2E46</td>\n",
       "      <td>24</td>\n",
       "      <td></td>\n",
       "      <td></td>\n",
       "      <td></td>\n",
       "      <td></td>\n",
       "      <td></td>\n",
       "      <td></td>\n",
       "      <td></td>\n",
       "      <td></td>\n",
       "      <td></td>\n",
       "    </tr>\n",
       "    <tr>\n",
       "      <th>group</th>\n",
       "      <td>24070</td>\n",
       "      <td>2</td>\n",
       "      <td>A</td>\n",
       "      <td>18947</td>\n",
       "      <td></td>\n",
       "      <td></td>\n",
       "      <td></td>\n",
       "      <td></td>\n",
       "      <td></td>\n",
       "      <td></td>\n",
       "      <td></td>\n",
       "      <td></td>\n",
       "      <td></td>\n",
       "    </tr>\n",
       "    <tr>\n",
       "      <th>ab_test</th>\n",
       "      <td>24070</td>\n",
       "      <td>1</td>\n",
       "      <td>recommender_system_test</td>\n",
       "      <td>24070</td>\n",
       "      <td></td>\n",
       "      <td></td>\n",
       "      <td></td>\n",
       "      <td></td>\n",
       "      <td></td>\n",
       "      <td></td>\n",
       "      <td></td>\n",
       "      <td></td>\n",
       "      <td></td>\n",
       "    </tr>\n",
       "    <tr>\n",
       "      <th>first_date</th>\n",
       "      <td>24070</td>\n",
       "      <td>15</td>\n",
       "      <td>2020-12-14 00:00:00</td>\n",
       "      <td>3407</td>\n",
       "      <td>2020-12-07 00:00:00</td>\n",
       "      <td>2020-12-21 00:00:00</td>\n",
       "      <td></td>\n",
       "      <td></td>\n",
       "      <td></td>\n",
       "      <td></td>\n",
       "      <td></td>\n",
       "      <td></td>\n",
       "      <td></td>\n",
       "    </tr>\n",
       "    <tr>\n",
       "      <th>region</th>\n",
       "      <td>24070</td>\n",
       "      <td>4</td>\n",
       "      <td>EU</td>\n",
       "      <td>22828</td>\n",
       "      <td></td>\n",
       "      <td></td>\n",
       "      <td></td>\n",
       "      <td></td>\n",
       "      <td></td>\n",
       "      <td></td>\n",
       "      <td></td>\n",
       "      <td></td>\n",
       "      <td></td>\n",
       "    </tr>\n",
       "    <tr>\n",
       "      <th>device</th>\n",
       "      <td>24070</td>\n",
       "      <td>4</td>\n",
       "      <td>Android</td>\n",
       "      <td>10503</td>\n",
       "      <td></td>\n",
       "      <td></td>\n",
       "      <td></td>\n",
       "      <td></td>\n",
       "      <td></td>\n",
       "      <td></td>\n",
       "      <td></td>\n",
       "      <td></td>\n",
       "      <td></td>\n",
       "    </tr>\n",
       "    <tr>\n",
       "      <th>event_dt</th>\n",
       "      <td>24070</td>\n",
       "      <td>16101</td>\n",
       "      <td>2020-12-09 19:01:05</td>\n",
       "      <td>6</td>\n",
       "      <td>2020-12-07 00:05:57</td>\n",
       "      <td>2020-12-29 23:38:29</td>\n",
       "      <td></td>\n",
       "      <td></td>\n",
       "      <td></td>\n",
       "      <td></td>\n",
       "      <td></td>\n",
       "      <td></td>\n",
       "      <td></td>\n",
       "    </tr>\n",
       "    <tr>\n",
       "      <th>event_name</th>\n",
       "      <td>24070</td>\n",
       "      <td>4</td>\n",
       "      <td>login</td>\n",
       "      <td>10893</td>\n",
       "      <td></td>\n",
       "      <td></td>\n",
       "      <td></td>\n",
       "      <td></td>\n",
       "      <td></td>\n",
       "      <td></td>\n",
       "      <td></td>\n",
       "      <td></td>\n",
       "      <td></td>\n",
       "    </tr>\n",
       "    <tr>\n",
       "      <th>details</th>\n",
       "      <td>3253.000</td>\n",
       "      <td></td>\n",
       "      <td></td>\n",
       "      <td></td>\n",
       "      <td></td>\n",
       "      <td></td>\n",
       "      <td>23.224</td>\n",
       "      <td>71.043</td>\n",
       "      <td>4.990</td>\n",
       "      <td>4.990</td>\n",
       "      <td>4.990</td>\n",
       "      <td>9.990</td>\n",
       "      <td>499.990</td>\n",
       "    </tr>\n",
       "    <tr>\n",
       "      <th>days_after_reg</th>\n",
       "      <td>24070.000</td>\n",
       "      <td></td>\n",
       "      <td></td>\n",
       "      <td></td>\n",
       "      <td></td>\n",
       "      <td></td>\n",
       "      <td>2.934</td>\n",
       "      <td>3.471</td>\n",
       "      <td>0.000</td>\n",
       "      <td>0.000</td>\n",
       "      <td>2.000</td>\n",
       "      <td>5.000</td>\n",
       "      <td>14.000</td>\n",
       "    </tr>\n",
       "  </tbody>\n",
       "</table>\n",
       "</div>"
      ],
      "text/plain": [
       "                   count unique                      top   freq  \\\n",
       "user_id            24070   3675         CED71698585A2E46     24   \n",
       "group              24070      2                        A  18947   \n",
       "ab_test            24070      1  recommender_system_test  24070   \n",
       "first_date         24070     15      2020-12-14 00:00:00   3407   \n",
       "region             24070      4                       EU  22828   \n",
       "device             24070      4                  Android  10503   \n",
       "event_dt           24070  16101      2020-12-09 19:01:05      6   \n",
       "event_name         24070      4                    login  10893   \n",
       "details         3253.000                                          \n",
       "days_after_reg 24070.000                                          \n",
       "\n",
       "                              first                 last   mean    std   min  \\\n",
       "user_id                                                                        \n",
       "group                                                                          \n",
       "ab_test                                                                        \n",
       "first_date      2020-12-07 00:00:00  2020-12-21 00:00:00                       \n",
       "region                                                                         \n",
       "device                                                                         \n",
       "event_dt        2020-12-07 00:05:57  2020-12-29 23:38:29                       \n",
       "event_name                                                                     \n",
       "details                                                  23.224 71.043 4.990   \n",
       "days_after_reg                                            2.934  3.471 0.000   \n",
       "\n",
       "                 25%   50%   75%     max  \n",
       "user_id                                   \n",
       "group                                     \n",
       "ab_test                                   \n",
       "first_date                                \n",
       "region                                    \n",
       "device                                    \n",
       "event_dt                                  \n",
       "event_name                                \n",
       "details        4.990 4.990 9.990 499.990  \n",
       "days_after_reg 0.000 2.000 5.000  14.000  "
      ]
     },
     "metadata": {},
     "output_type": "display_data"
    },
    {
     "name": "stdout",
     "output_type": "stream",
     "text": [
      "<class 'pandas.core.frame.DataFrame'>\n",
      "RangeIndex: 24070 entries, 0 to 24069\n",
      "Data columns (total 10 columns):\n",
      " #   Column          Non-Null Count  Dtype         \n",
      "---  ------          --------------  -----         \n",
      " 0   user_id         24070 non-null  object        \n",
      " 1   group           24070 non-null  object        \n",
      " 2   ab_test         24070 non-null  object        \n",
      " 3   first_date      24070 non-null  datetime64[ns]\n",
      " 4   region          24070 non-null  object        \n",
      " 5   device          24070 non-null  object        \n",
      " 6   event_dt        24070 non-null  datetime64[ns]\n",
      " 7   event_name      24070 non-null  object        \n",
      " 8   details         3253 non-null   float64       \n",
      " 9   days_after_reg  24070 non-null  int64         \n",
      "dtypes: datetime64[ns](2), float64(1), int64(1), object(6)\n",
      "memory usage: 1.8+ MB\n",
      "\n",
      "В предоставленных данных имеется 0 дубликатов, что составляет 0.0% от всех данных\n"
     ]
    }
   ],
   "source": [
    "# проверим информацию о получившемся датафрейме\n",
    "simple_info(data)"
   ]
  },
  {
   "cell_type": "markdown",
   "metadata": {},
   "source": [
    "Посмотрим как распределены события по пользователям в каждой из групп после удаления пользователей у которых не было событий, и у которых были события были за пределами 14 дней с даты регистрации."
   ]
  },
  {
   "cell_type": "code",
   "execution_count": 38,
   "metadata": {
    "scrolled": true
   },
   "outputs": [
    {
     "data": {
      "text/html": [
       "<div>\n",
       "<style scoped>\n",
       "    .dataframe tbody tr th:only-of-type {\n",
       "        vertical-align: middle;\n",
       "    }\n",
       "\n",
       "    .dataframe tbody tr th {\n",
       "        vertical-align: top;\n",
       "    }\n",
       "\n",
       "    .dataframe thead th {\n",
       "        text-align: right;\n",
       "    }\n",
       "</style>\n",
       "<table border=\"1\" class=\"dataframe\">\n",
       "  <thead>\n",
       "    <tr style=\"text-align: right;\">\n",
       "      <th></th>\n",
       "      <th>count</th>\n",
       "      <th>mean</th>\n",
       "      <th>std</th>\n",
       "      <th>min</th>\n",
       "      <th>25%</th>\n",
       "      <th>50%</th>\n",
       "      <th>75%</th>\n",
       "      <th>max</th>\n",
       "    </tr>\n",
       "  </thead>\n",
       "  <tbody>\n",
       "    <tr>\n",
       "      <th>event_name</th>\n",
       "      <td>2747.000</td>\n",
       "      <td>6.897</td>\n",
       "      <td>3.840</td>\n",
       "      <td>1.000</td>\n",
       "      <td>4.000</td>\n",
       "      <td>6.000</td>\n",
       "      <td>9.000</td>\n",
       "      <td>24.000</td>\n",
       "    </tr>\n",
       "  </tbody>\n",
       "</table>\n",
       "</div>"
      ],
      "text/plain": [
       "              count  mean   std   min   25%   50%   75%    max\n",
       "event_name 2747.000 6.897 3.840 1.000 4.000 6.000 9.000 24.000"
      ]
     },
     "execution_count": 38,
     "metadata": {},
     "output_type": "execute_result"
    }
   ],
   "source": [
    "events_by_users_A = data.query('group == \"A\"').groupby(['user_id'], as_index=False).agg({'event_name': 'count'})\n",
    "events_by_users_A.describe().T"
   ]
  },
  {
   "cell_type": "code",
   "execution_count": 39,
   "metadata": {},
   "outputs": [
    {
     "data": {
      "text/html": [
       "<div>\n",
       "<style scoped>\n",
       "    .dataframe tbody tr th:only-of-type {\n",
       "        vertical-align: middle;\n",
       "    }\n",
       "\n",
       "    .dataframe tbody tr th {\n",
       "        vertical-align: top;\n",
       "    }\n",
       "\n",
       "    .dataframe thead th {\n",
       "        text-align: right;\n",
       "    }\n",
       "</style>\n",
       "<table border=\"1\" class=\"dataframe\">\n",
       "  <thead>\n",
       "    <tr style=\"text-align: right;\">\n",
       "      <th></th>\n",
       "      <th>count</th>\n",
       "      <th>mean</th>\n",
       "      <th>std</th>\n",
       "      <th>min</th>\n",
       "      <th>25%</th>\n",
       "      <th>50%</th>\n",
       "      <th>75%</th>\n",
       "      <th>max</th>\n",
       "    </tr>\n",
       "  </thead>\n",
       "  <tbody>\n",
       "    <tr>\n",
       "      <th>event_name</th>\n",
       "      <td>928.000</td>\n",
       "      <td>5.520</td>\n",
       "      <td>3.303</td>\n",
       "      <td>1.000</td>\n",
       "      <td>3.000</td>\n",
       "      <td>4.000</td>\n",
       "      <td>8.000</td>\n",
       "      <td>24.000</td>\n",
       "    </tr>\n",
       "  </tbody>\n",
       "</table>\n",
       "</div>"
      ],
      "text/plain": [
       "             count  mean   std   min   25%   50%   75%    max\n",
       "event_name 928.000 5.520 3.303 1.000 3.000 4.000 8.000 24.000"
      ]
     },
     "execution_count": 39,
     "metadata": {},
     "output_type": "execute_result"
    }
   ],
   "source": [
    "events_by_users_B = data.query('group == \"B\"').groupby(['user_id'], as_index=False).agg({'event_name': 'count'})\n",
    "events_by_users_B.describe().T"
   ]
  },
  {
   "cell_type": "markdown",
   "metadata": {},
   "source": [
    "Количество пользователей в каждой из тестовых групп заметно уменьшилось, количество событий на каждого пользователя:\n",
    "- в группе `А` среднее значение - 7, медианное значение - 6;\n",
    "- в группе `B` среднее значение - 5, медианное значение - 4.\n",
    "\n",
    "Таким образом, количество событий на каждого пользователя в группах `А` и `B` распределено не равномерно: в группе `А` пользователи в среднем совершали на 2 события больше, чем в группе `В`. В обеих группах присутствует незначительное число пользователей с большим количеством событий."
   ]
  },
  {
   "cell_type": "markdown",
   "metadata": {},
   "source": [
    "### Распределение событий по дням"
   ]
  },
  {
   "cell_type": "markdown",
   "metadata": {},
   "source": [
    "Посмотрим как распределены события в каждой из групп по датам проведения АБ-теста."
   ]
  },
  {
   "cell_type": "code",
   "execution_count": 40,
   "metadata": {
    "scrolled": false
   },
   "outputs": [
    {
     "data": {
      "image/png": "[encoded data removed]",
      "text/plain": [
       "<Figure size 979.2x489.6 with 1 Axes>"
      ]
     },
     "metadata": {
      "image/png": {
       "height": 448,
       "width": 816
      },
      "needs_background": "light"
     },
     "output_type": "display_data"
    }
   ],
   "source": [
    "# создадим список дат для обозначения линии x\n",
    "date_from = pd.to_datetime(data.event_dt).dt.date.min()\n",
    "date_to = pd.to_datetime(data.event_dt).dt.date.max()\n",
    "date_range = pd.date_range(date_from, date_to, freq=\"D\")\n",
    "\n",
    "dot_2 = (sns.histplot(x='event_dt', data=data, hue='group', bins=23, kde=True)\n",
    "           .set(ylim=(0, 2100),\n",
    "           title='Распределение общего числа событий по дате',\n",
    "           xlabel='', ylabel='Число событий'))\n",
    "\n",
    "plt.xticks(date_range, rotation=45)\n",
    "plt.show()"
   ]
  },
  {
   "cell_type": "markdown",
   "metadata": {},
   "source": [
    "На графиках представлены данные о событиях только за период с 07 декабря по 29 декабря 2020. Видимо тест закончили раньше, потому что в ТЗ дата окончания указана 04 января 2021 года.\n",
    "\n",
    "В группе `A` имеются всплески активности пользователей 21 декабря 2020 (т.е. в выходные дни перед Рождеством и Новым годом). При этом чем ближе к праздникам, тем активность (т.е. количество генерируемых событий) заметно снижается. Кроме того, в группе А мы видим резкий рост 14 декабря, возможно, в данный день произошел сбой, который повлияет результаты анализа.\n",
    "\n",
    "События в группе `В` имеют более равномерное распределение по датам, по сравнению с группой `A`, но относительные всплески наблюдаются в начале теста - 16 декабря и 21 декабря 2020. \n",
    "\n",
    "Поскольку группы пользователей были сформированы не равномерно, из распределения событий мы видим значительное различие в количестве событий между группами в каждой из дат проведения теста."
   ]
  },
  {
   "cell_type": "markdown",
   "metadata": {},
   "source": [
    "### Изменение конверсии в воронке событий на разных этапах"
   ]
  },
  {
   "cell_type": "markdown",
   "metadata": {},
   "source": [
    "Рассчитаем общее количество действий пользователей каждой из групп теста, затем посмотрим какое количество событий они сгенерировали."
   ]
  },
  {
   "cell_type": "code",
   "execution_count": 41,
   "metadata": {},
   "outputs": [
    {
     "data": {
      "text/html": [
       "<div>\n",
       "<style scoped>\n",
       "    .dataframe tbody tr th:only-of-type {\n",
       "        vertical-align: middle;\n",
       "    }\n",
       "\n",
       "    .dataframe tbody tr th {\n",
       "        vertical-align: top;\n",
       "    }\n",
       "\n",
       "    .dataframe thead th {\n",
       "        text-align: right;\n",
       "    }\n",
       "</style>\n",
       "<table border=\"1\" class=\"dataframe\">\n",
       "  <thead>\n",
       "    <tr style=\"text-align: right;\">\n",
       "      <th>group</th>\n",
       "      <th>A</th>\n",
       "      <th>B</th>\n",
       "      <th>total</th>\n",
       "    </tr>\n",
       "    <tr>\n",
       "      <th>event_name</th>\n",
       "      <th></th>\n",
       "      <th></th>\n",
       "      <th></th>\n",
       "    </tr>\n",
       "  </thead>\n",
       "  <tbody>\n",
       "    <tr>\n",
       "      <th>login</th>\n",
       "      <td>8400</td>\n",
       "      <td>2493</td>\n",
       "      <td>10893</td>\n",
       "    </tr>\n",
       "    <tr>\n",
       "      <th>product_page</th>\n",
       "      <td>5415</td>\n",
       "      <td>1331</td>\n",
       "      <td>6746</td>\n",
       "    </tr>\n",
       "    <tr>\n",
       "      <th>product_cart</th>\n",
       "      <td>2519</td>\n",
       "      <td>659</td>\n",
       "      <td>3178</td>\n",
       "    </tr>\n",
       "    <tr>\n",
       "      <th>purchase</th>\n",
       "      <td>2613</td>\n",
       "      <td>640</td>\n",
       "      <td>3253</td>\n",
       "    </tr>\n",
       "  </tbody>\n",
       "</table>\n",
       "</div>"
      ],
      "text/plain": [
       "group            A     B  total\n",
       "event_name                     \n",
       "login         8400  2493  10893\n",
       "product_page  5415  1331   6746\n",
       "product_cart  2519   659   3178\n",
       "purchase      2613   640   3253"
      ]
     },
     "execution_count": 41,
     "metadata": {},
     "output_type": "execute_result"
    }
   ],
   "source": [
    "events_conversion = (data.pivot_table(index='event_name', columns='group', values='user_id', aggfunc='count'))\n",
    "events_conversion = events_conversion.reindex(['login', 'product_page', 'product_cart', 'purchase'])\n",
    "events_conversion['total'] = events_conversion.sum(axis=1)\n",
    "\n",
    "events_conversion"
   ]
  },
  {
   "cell_type": "code",
   "execution_count": 42,
   "metadata": {
    "scrolled": false
   },
   "outputs": [
    {
     "data": {
      "text/html": [
       "        <script type=\"text/javascript\">\n",
       "        window.PlotlyConfig = {MathJaxConfig: 'local'};\n",
       "        if (window.MathJax) {MathJax.Hub.Config({SVG: {font: \"STIX-Web\"}});}\n",
       "        if (typeof require !== 'undefined') {\n",
       "        require.undef(\"plotly\");\n",
       "        requirejs.config({\n",
       "            paths: {\n",
       "                'plotly': ['https://cdn.plot.ly/plotly-2.6.3.min']\n",
       "            }\n",
       "        });\n",
       "        require(['plotly'], function(Plotly) {\n",
       "            window._Plotly = Plotly;\n",
       "        });\n",
       "        }\n",
       "        </script>\n",
       "        "
      ]
     },
     "metadata": {},
     "output_type": "display_data"
    },
    {
     "data": {
      "text/html": [
       "<div>                            <div id=\"71a1b78e-3403-420f-8fa9-dc6f79a61752\" class=\"plotly-graph-div\" style=\"height:600px; width:1000px;\"></div>            <script type=\"text/javascript\">                require([\"plotly\"], function(Plotly) {                    window.PLOTLYENV=window.PLOTLYENV || {};                                    if (document.getElementById(\"71a1b78e-3403-420f-8fa9-dc6f79a61752\")) {                    Plotly.newPlot(                        \"71a1b78e-3403-420f-8fa9-dc6f79a61752\",                        [{\"marker\":{\"color\":\"#1c1847\"},\"textinfo\":\"value+percent initial+percent previous\",\"x\":[8400,5415,2519,2613],\"y\":[\"login\",\"product_page\",\"product_cart\",\"purchase\"],\"type\":\"funnel\",\"xaxis\":\"x\",\"yaxis\":\"y\"},{\"marker\":{\"color\":\"silver\"},\"textinfo\":\"value+percent initial+percent previous\",\"x\":[2493,1331,659,640],\"y\":[\"login\",\"product_page\",\"product_cart\",\"purchase\"],\"type\":\"funnel\",\"xaxis\":\"x2\",\"yaxis\":\"y2\"}],                        {\"template\":{\"data\":{\"bar\":[{\"error_x\":{\"color\":\"#2a3f5f\"},\"error_y\":{\"color\":\"#2a3f5f\"},\"marker\":{\"line\":{\"color\":\"#E5ECF6\",\"width\":0.5},\"pattern\":{\"fillmode\":\"overlay\",\"size\":10,\"solidity\":0.2}},\"type\":\"bar\"}],\"barpolar\":[{\"marker\":{\"line\":{\"color\":\"#E5ECF6\",\"width\":0.5},\"pattern\":{\"fillmode\":\"overlay\",\"size\":10,\"solidity\":0.2}},\"type\":\"barpolar\"}],\"carpet\":[{\"aaxis\":{\"endlinecolor\":\"#2a3f5f\",\"gridcolor\":\"white\",\"linecolor\":\"white\",\"minorgridcolor\":\"white\",\"startlinecolor\":\"#2a3f5f\"},\"baxis\":{\"endlinecolor\":\"#2a3f5f\",\"gridcolor\":\"white\",\"linecolor\":\"white\",\"minorgridcolor\":\"white\",\"startlinecolor\":\"#2a3f5f\"},\"type\":\"carpet\"}],\"choropleth\":[{\"colorbar\":{\"outlinewidth\":0,\"ticks\":\"\"},\"type\":\"choropleth\"}],\"contour\":[{\"colorbar\":{\"outlinewidth\":0,\"ticks\":\"\"},\"colorscale\":[[0.0,\"#0d0887\"],[0.1111111111111111,\"#46039f\"],[0.2222222222222222,\"#7201a8\"],[0.3333333333333333,\"#9c179e\"],[0.4444444444444444,\"#bd3786\"],[0.5555555555555556,\"#d8576b\"],[0.6666666666666666,\"#ed7953\"],[0.7777777777777778,\"#fb9f3a\"],[0.8888888888888888,\"#fdca26\"],[1.0,\"#f0f921\"]],\"type\":\"contour\"}],\"contourcarpet\":[{\"colorbar\":{\"outlinewidth\":0,\"ticks\":\"\"},\"type\":\"contourcarpet\"}],\"heatmap\":[{\"colorbar\":{\"outlinewidth\":0,\"ticks\":\"\"},\"colorscale\":[[0.0,\"#0d0887\"],[0.1111111111111111,\"#46039f\"],[0.2222222222222222,\"#7201a8\"],[0.3333333333333333,\"#9c179e\"],[0.4444444444444444,\"#bd3786\"],[0.5555555555555556,\"#d8576b\"],[0.6666666666666666,\"#ed7953\"],[0.7777777777777778,\"#fb9f3a\"],[0.8888888888888888,\"#fdca26\"],[1.0,\"#f0f921\"]],\"type\":\"heatmap\"}],\"heatmapgl\":[{\"colorbar\":{\"outlinewidth\":0,\"ticks\":\"\"},\"colorscale\":[[0.0,\"#0d0887\"],[0.1111111111111111,\"#46039f\"],[0.2222222222222222,\"#7201a8\"],[0.3333333333333333,\"#9c179e\"],[0.4444444444444444,\"#bd3786\"],[0.5555555555555556,\"#d8576b\"],[0.6666666666666666,\"#ed7953\"],[0.7777777777777778,\"#fb9f3a\"],[0.8888888888888888,\"#fdca26\"],[1.0,\"#f0f921\"]],\"type\":\"heatmapgl\"}],\"histogram\":[{\"marker\":{\"pattern\":{\"fillmode\":\"overlay\",\"size\":10,\"solidity\":0.2}},\"type\":\"histogram\"}],\"histogram2d\":[{\"colorbar\":{\"outlinewidth\":0,\"ticks\":\"\"},\"colorscale\":[[0.0,\"#0d0887\"],[0.1111111111111111,\"#46039f\"],[0.2222222222222222,\"#7201a8\"],[0.3333333333333333,\"#9c179e\"],[0.4444444444444444,\"#bd3786\"],[0.5555555555555556,\"#d8576b\"],[0.6666666666666666,\"#ed7953\"],[0.7777777777777778,\"#fb9f3a\"],[0.8888888888888888,\"#fdca26\"],[1.0,\"#f0f921\"]],\"type\":\"histogram2d\"}],\"histogram2dcontour\":[{\"colorbar\":{\"outlinewidth\":0,\"ticks\":\"\"},\"colorscale\":[[0.0,\"#0d0887\"],[0.1111111111111111,\"#46039f\"],[0.2222222222222222,\"#7201a8\"],[0.3333333333333333,\"#9c179e\"],[0.4444444444444444,\"#bd3786\"],[0.5555555555555556,\"#d8576b\"],[0.6666666666666666,\"#ed7953\"],[0.7777777777777778,\"#fb9f3a\"],[0.8888888888888888,\"#fdca26\"],[1.0,\"#f0f921\"]],\"type\":\"histogram2dcontour\"}],\"mesh3d\":[{\"colorbar\":{\"outlinewidth\":0,\"ticks\":\"\"},\"type\":\"mesh3d\"}],\"parcoords\":[{\"line\":{\"colorbar\":{\"outlinewidth\":0,\"ticks\":\"\"}},\"type\":\"parcoords\"}],\"pie\":[{\"automargin\":true,\"type\":\"pie\"}],\"scatter\":[{\"marker\":{\"colorbar\":{\"outlinewidth\":0,\"ticks\":\"\"}},\"type\":\"scatter\"}],\"scatter3d\":[{\"line\":{\"colorbar\":{\"outlinewidth\":0,\"ticks\":\"\"}},\"marker\":{\"colorbar\":{\"outlinewidth\":0,\"ticks\":\"\"}},\"type\":\"scatter3d\"}],\"scattercarpet\":[{\"marker\":{\"colorbar\":{\"outlinewidth\":0,\"ticks\":\"\"}},\"type\":\"scattercarpet\"}],\"scattergeo\":[{\"marker\":{\"colorbar\":{\"outlinewidth\":0,\"ticks\":\"\"}},\"type\":\"scattergeo\"}],\"scattergl\":[{\"marker\":{\"colorbar\":{\"outlinewidth\":0,\"ticks\":\"\"}},\"type\":\"scattergl\"}],\"scattermapbox\":[{\"marker\":{\"colorbar\":{\"outlinewidth\":0,\"ticks\":\"\"}},\"type\":\"scattermapbox\"}],\"scatterpolar\":[{\"marker\":{\"colorbar\":{\"outlinewidth\":0,\"ticks\":\"\"}},\"type\":\"scatterpolar\"}],\"scatterpolargl\":[{\"marker\":{\"colorbar\":{\"outlinewidth\":0,\"ticks\":\"\"}},\"type\":\"scatterpolargl\"}],\"scatterternary\":[{\"marker\":{\"colorbar\":{\"outlinewidth\":0,\"ticks\":\"\"}},\"type\":\"scatterternary\"}],\"surface\":[{\"colorbar\":{\"outlinewidth\":0,\"ticks\":\"\"},\"colorscale\":[[0.0,\"#0d0887\"],[0.1111111111111111,\"#46039f\"],[0.2222222222222222,\"#7201a8\"],[0.3333333333333333,\"#9c179e\"],[0.4444444444444444,\"#bd3786\"],[0.5555555555555556,\"#d8576b\"],[0.6666666666666666,\"#ed7953\"],[0.7777777777777778,\"#fb9f3a\"],[0.8888888888888888,\"#fdca26\"],[1.0,\"#f0f921\"]],\"type\":\"surface\"}],\"table\":[{\"cells\":{\"fill\":{\"color\":\"#EBF0F8\"},\"line\":{\"color\":\"white\"}},\"header\":{\"fill\":{\"color\":\"#C8D4E3\"},\"line\":{\"color\":\"white\"}},\"type\":\"table\"}]},\"layout\":{\"annotationdefaults\":{\"arrowcolor\":\"#2a3f5f\",\"arrowhead\":0,\"arrowwidth\":1},\"autotypenumbers\":\"strict\",\"coloraxis\":{\"colorbar\":{\"outlinewidth\":0,\"ticks\":\"\"}},\"colorscale\":{\"diverging\":[[0,\"#8e0152\"],[0.1,\"#c51b7d\"],[0.2,\"#de77ae\"],[0.3,\"#f1b6da\"],[0.4,\"#fde0ef\"],[0.5,\"#f7f7f7\"],[0.6,\"#e6f5d0\"],[0.7,\"#b8e186\"],[0.8,\"#7fbc41\"],[0.9,\"#4d9221\"],[1,\"#276419\"]],\"sequential\":[[0.0,\"#0d0887\"],[0.1111111111111111,\"#46039f\"],[0.2222222222222222,\"#7201a8\"],[0.3333333333333333,\"#9c179e\"],[0.4444444444444444,\"#bd3786\"],[0.5555555555555556,\"#d8576b\"],[0.6666666666666666,\"#ed7953\"],[0.7777777777777778,\"#fb9f3a\"],[0.8888888888888888,\"#fdca26\"],[1.0,\"#f0f921\"]],\"sequentialminus\":[[0.0,\"#0d0887\"],[0.1111111111111111,\"#46039f\"],[0.2222222222222222,\"#7201a8\"],[0.3333333333333333,\"#9c179e\"],[0.4444444444444444,\"#bd3786\"],[0.5555555555555556,\"#d8576b\"],[0.6666666666666666,\"#ed7953\"],[0.7777777777777778,\"#fb9f3a\"],[0.8888888888888888,\"#fdca26\"],[1.0,\"#f0f921\"]]},\"colorway\":[\"#636efa\",\"#EF553B\",\"#00cc96\",\"#ab63fa\",\"#FFA15A\",\"#19d3f3\",\"#FF6692\",\"#B6E880\",\"#FF97FF\",\"#FECB52\"],\"font\":{\"color\":\"#2a3f5f\"},\"geo\":{\"bgcolor\":\"white\",\"lakecolor\":\"white\",\"landcolor\":\"#E5ECF6\",\"showlakes\":true,\"showland\":true,\"subunitcolor\":\"white\"},\"hoverlabel\":{\"align\":\"left\"},\"hovermode\":\"closest\",\"mapbox\":{\"style\":\"light\"},\"paper_bgcolor\":\"white\",\"plot_bgcolor\":\"#E5ECF6\",\"polar\":{\"angularaxis\":{\"gridcolor\":\"white\",\"linecolor\":\"white\",\"ticks\":\"\"},\"bgcolor\":\"#E5ECF6\",\"radialaxis\":{\"gridcolor\":\"white\",\"linecolor\":\"white\",\"ticks\":\"\"}},\"scene\":{\"xaxis\":{\"backgroundcolor\":\"#E5ECF6\",\"gridcolor\":\"white\",\"gridwidth\":2,\"linecolor\":\"white\",\"showbackground\":true,\"ticks\":\"\",\"zerolinecolor\":\"white\"},\"yaxis\":{\"backgroundcolor\":\"#E5ECF6\",\"gridcolor\":\"white\",\"gridwidth\":2,\"linecolor\":\"white\",\"showbackground\":true,\"ticks\":\"\",\"zerolinecolor\":\"white\"},\"zaxis\":{\"backgroundcolor\":\"#E5ECF6\",\"gridcolor\":\"white\",\"gridwidth\":2,\"linecolor\":\"white\",\"showbackground\":true,\"ticks\":\"\",\"zerolinecolor\":\"white\"}},\"shapedefaults\":{\"line\":{\"color\":\"#2a3f5f\"}},\"ternary\":{\"aaxis\":{\"gridcolor\":\"white\",\"linecolor\":\"white\",\"ticks\":\"\"},\"baxis\":{\"gridcolor\":\"white\",\"linecolor\":\"white\",\"ticks\":\"\"},\"bgcolor\":\"#E5ECF6\",\"caxis\":{\"gridcolor\":\"white\",\"linecolor\":\"white\",\"ticks\":\"\"}},\"title\":{\"x\":0.05},\"xaxis\":{\"automargin\":true,\"gridcolor\":\"white\",\"linecolor\":\"white\",\"ticks\":\"\",\"title\":{\"standoff\":15},\"zerolinecolor\":\"white\",\"zerolinewidth\":2},\"yaxis\":{\"automargin\":true,\"gridcolor\":\"white\",\"linecolor\":\"white\",\"ticks\":\"\",\"title\":{\"standoff\":15},\"zerolinecolor\":\"white\",\"zerolinewidth\":2}}},\"xaxis\":{\"anchor\":\"y\",\"domain\":[0.0,0.45]},\"yaxis\":{\"anchor\":\"x\",\"domain\":[0.0,1.0]},\"xaxis2\":{\"anchor\":\"y2\",\"domain\":[0.55,1.0]},\"yaxis2\":{\"anchor\":\"x2\",\"domain\":[0.0,1.0]},\"annotations\":[{\"font\":{\"color\":\"teal\",\"size\":18},\"showarrow\":false,\"text\":\"Events conversion (Group A)\",\"x\":0.225,\"xanchor\":\"center\",\"xref\":\"paper\",\"y\":1.0,\"yanchor\":\"bottom\",\"yref\":\"paper\"},{\"font\":{\"color\":\"teal\",\"size\":18},\"showarrow\":false,\"text\":\"Events conversion (Group B)\",\"x\":0.775,\"xanchor\":\"center\",\"xref\":\"paper\",\"y\":1.0,\"yanchor\":\"bottom\",\"yref\":\"paper\"}],\"showlegend\":false,\"height\":600,\"width\":1000},                        {\"responsive\": true}                    ).then(function(){\n",
       "                            \n",
       "var gd = document.getElementById('71a1b78e-3403-420f-8fa9-dc6f79a61752');\n",
       "var x = new MutationObserver(function (mutations, observer) {{\n",
       "        var display = window.getComputedStyle(gd).display;\n",
       "        if (!display || display === 'none') {{\n",
       "            console.log([gd, 'removed!']);\n",
       "            Plotly.purge(gd);\n",
       "            observer.disconnect();\n",
       "        }}\n",
       "}});\n",
       "\n",
       "// Listen for the removal of the full notebook cells\n",
       "var notebookContainer = gd.closest('#notebook-container');\n",
       "if (notebookContainer) {{\n",
       "    x.observe(notebookContainer, {childList: true});\n",
       "}}\n",
       "\n",
       "// Listen for the clearing of the current output cell\n",
       "var outputEl = gd.closest('.output');\n",
       "if (outputEl) {{\n",
       "    x.observe(outputEl, {childList: true});\n",
       "}}\n",
       "\n",
       "                        })                };                });            </script>        </div>"
      ]
     },
     "metadata": {},
     "output_type": "display_data"
    }
   ],
   "source": [
    "import plotly.express as px\n",
    "import plotly.io as pio\n",
    "pio.renderers.default = \"notebook_connected\"\n",
    "\n",
    "fig_2 = make_subplots(rows=1, cols=2, subplot_titles=(\"Events conversion (Group A)\",\n",
    "                                                    \"Events conversion (Group B)\"))\n",
    "fig_2.add_trace(\n",
    "    go.Funnel(\n",
    "        x=events_conversion.iloc[:, 0],\n",
    "        y = ['login', 'product_page', 'product_cart', 'purchase'],\n",
    "    textinfo = \"value+percent initial+percent previous\", marker = {\"color\": \"#1c1847\"}),\n",
    "row=1, col=1)\n",
    "\n",
    "fig_2.add_trace(\n",
    "    go.Funnel(\n",
    "    x = events_conversion.iloc[:, 1],\n",
    "    y = ['login', 'product_page', 'product_cart', 'purchase'],\n",
    "    textinfo = \"value+percent initial+percent previous\", marker = {\"color\": \"silver\"}),\n",
    "row=1, col=2)\n",
    "\n",
    "fig_2.update_layout(showlegend=False, height=600, width=1000)\n",
    "\n",
    "for i in fig_2['layout']['annotations']:\n",
    "    i['font'] = dict(size=18,color='teal')\n",
    "\n",
    "fig_2.show(\"notebook_connected\")"
   ]
  },
  {
   "cell_type": "markdown",
   "metadata": {},
   "source": [
    "Посмотрим на конверсию пользователей на каждом этапе воронки событий для каждой из групп."
   ]
  },
  {
   "cell_type": "code",
   "execution_count": 43,
   "metadata": {
    "scrolled": true
   },
   "outputs": [],
   "source": [
    "user_conversion = (data.pivot_table(index='event_name', columns='group', values='user_id', aggfunc='nunique'))\n",
    "user_conversion = user_conversion.reindex(['login', 'product_page', 'product_cart', 'purchase'])\n",
    "user_conversion['total'] = user_conversion.sum(axis=1)\n",
    "user_conversion['conv_step_A'] = (100 * user_conversion['A'] / user_conversion['A'].shift()).fillna(0)\n",
    "user_conversion['conv_step_B'] = (100 * user_conversion['B'] / user_conversion['B'].shift()).fillna(0)\n",
    "user_conversion['relative_conv'] = 100 * (user_conversion['conv_step_B'] / user_conversion['conv_step_A'] - 1).fillna(0)"
   ]
  },
  {
   "cell_type": "code",
   "execution_count": 44,
   "metadata": {
    "scrolled": false
   },
   "outputs": [
    {
     "data": {
      "text/html": [
       "        <script type=\"text/javascript\">\n",
       "        window.PlotlyConfig = {MathJaxConfig: 'local'};\n",
       "        if (window.MathJax) {MathJax.Hub.Config({SVG: {font: \"STIX-Web\"}});}\n",
       "        if (typeof require !== 'undefined') {\n",
       "        require.undef(\"plotly\");\n",
       "        requirejs.config({\n",
       "            paths: {\n",
       "                'plotly': ['https://cdn.plot.ly/plotly-2.6.3.min']\n",
       "            }\n",
       "        });\n",
       "        require(['plotly'], function(Plotly) {\n",
       "            window._Plotly = Plotly;\n",
       "        });\n",
       "        }\n",
       "        </script>\n",
       "        "
      ]
     },
     "metadata": {},
     "output_type": "display_data"
    },
    {
     "data": {
      "text/html": [
       "<div>                            <div id=\"ec085abb-60d1-492b-ad08-6f9311d0209d\" class=\"plotly-graph-div\" style=\"height:600px; width:1000px;\"></div>            <script type=\"text/javascript\">                require([\"plotly\"], function(Plotly) {                    window.PLOTLYENV=window.PLOTLYENV || {};                                    if (document.getElementById(\"ec085abb-60d1-492b-ad08-6f9311d0209d\")) {                    Plotly.newPlot(                        \"ec085abb-60d1-492b-ad08-6f9311d0209d\",                        [{\"marker\":{\"color\":\"#1c1847\"},\"textinfo\":\"value+percent initial+percent previous\",\"x\":[2747,1780,824,872],\"y\":[\"login\",\"product_page\",\"product_cart\",\"purchase\"],\"type\":\"funnel\",\"xaxis\":\"x\",\"yaxis\":\"y\"},{\"marker\":{\"color\":\"silver\"},\"textinfo\":\"value+percent initial+percent previous\",\"x\":[927,523,255,256],\"y\":[\"login\",\"product_page\",\"product_cart\",\"purchase\"],\"type\":\"funnel\",\"xaxis\":\"x2\",\"yaxis\":\"y2\"}],                        {\"template\":{\"data\":{\"bar\":[{\"error_x\":{\"color\":\"#2a3f5f\"},\"error_y\":{\"color\":\"#2a3f5f\"},\"marker\":{\"line\":{\"color\":\"#E5ECF6\",\"width\":0.5},\"pattern\":{\"fillmode\":\"overlay\",\"size\":10,\"solidity\":0.2}},\"type\":\"bar\"}],\"barpolar\":[{\"marker\":{\"line\":{\"color\":\"#E5ECF6\",\"width\":0.5},\"pattern\":{\"fillmode\":\"overlay\",\"size\":10,\"solidity\":0.2}},\"type\":\"barpolar\"}],\"carpet\":[{\"aaxis\":{\"endlinecolor\":\"#2a3f5f\",\"gridcolor\":\"white\",\"linecolor\":\"white\",\"minorgridcolor\":\"white\",\"startlinecolor\":\"#2a3f5f\"},\"baxis\":{\"endlinecolor\":\"#2a3f5f\",\"gridcolor\":\"white\",\"linecolor\":\"white\",\"minorgridcolor\":\"white\",\"startlinecolor\":\"#2a3f5f\"},\"type\":\"carpet\"}],\"choropleth\":[{\"colorbar\":{\"outlinewidth\":0,\"ticks\":\"\"},\"type\":\"choropleth\"}],\"contour\":[{\"colorbar\":{\"outlinewidth\":0,\"ticks\":\"\"},\"colorscale\":[[0.0,\"#0d0887\"],[0.1111111111111111,\"#46039f\"],[0.2222222222222222,\"#7201a8\"],[0.3333333333333333,\"#9c179e\"],[0.4444444444444444,\"#bd3786\"],[0.5555555555555556,\"#d8576b\"],[0.6666666666666666,\"#ed7953\"],[0.7777777777777778,\"#fb9f3a\"],[0.8888888888888888,\"#fdca26\"],[1.0,\"#f0f921\"]],\"type\":\"contour\"}],\"contourcarpet\":[{\"colorbar\":{\"outlinewidth\":0,\"ticks\":\"\"},\"type\":\"contourcarpet\"}],\"heatmap\":[{\"colorbar\":{\"outlinewidth\":0,\"ticks\":\"\"},\"colorscale\":[[0.0,\"#0d0887\"],[0.1111111111111111,\"#46039f\"],[0.2222222222222222,\"#7201a8\"],[0.3333333333333333,\"#9c179e\"],[0.4444444444444444,\"#bd3786\"],[0.5555555555555556,\"#d8576b\"],[0.6666666666666666,\"#ed7953\"],[0.7777777777777778,\"#fb9f3a\"],[0.8888888888888888,\"#fdca26\"],[1.0,\"#f0f921\"]],\"type\":\"heatmap\"}],\"heatmapgl\":[{\"colorbar\":{\"outlinewidth\":0,\"ticks\":\"\"},\"colorscale\":[[0.0,\"#0d0887\"],[0.1111111111111111,\"#46039f\"],[0.2222222222222222,\"#7201a8\"],[0.3333333333333333,\"#9c179e\"],[0.4444444444444444,\"#bd3786\"],[0.5555555555555556,\"#d8576b\"],[0.6666666666666666,\"#ed7953\"],[0.7777777777777778,\"#fb9f3a\"],[0.8888888888888888,\"#fdca26\"],[1.0,\"#f0f921\"]],\"type\":\"heatmapgl\"}],\"histogram\":[{\"marker\":{\"pattern\":{\"fillmode\":\"overlay\",\"size\":10,\"solidity\":0.2}},\"type\":\"histogram\"}],\"histogram2d\":[{\"colorbar\":{\"outlinewidth\":0,\"ticks\":\"\"},\"colorscale\":[[0.0,\"#0d0887\"],[0.1111111111111111,\"#46039f\"],[0.2222222222222222,\"#7201a8\"],[0.3333333333333333,\"#9c179e\"],[0.4444444444444444,\"#bd3786\"],[0.5555555555555556,\"#d8576b\"],[0.6666666666666666,\"#ed7953\"],[0.7777777777777778,\"#fb9f3a\"],[0.8888888888888888,\"#fdca26\"],[1.0,\"#f0f921\"]],\"type\":\"histogram2d\"}],\"histogram2dcontour\":[{\"colorbar\":{\"outlinewidth\":0,\"ticks\":\"\"},\"colorscale\":[[0.0,\"#0d0887\"],[0.1111111111111111,\"#46039f\"],[0.2222222222222222,\"#7201a8\"],[0.3333333333333333,\"#9c179e\"],[0.4444444444444444,\"#bd3786\"],[0.5555555555555556,\"#d8576b\"],[0.6666666666666666,\"#ed7953\"],[0.7777777777777778,\"#fb9f3a\"],[0.8888888888888888,\"#fdca26\"],[1.0,\"#f0f921\"]],\"type\":\"histogram2dcontour\"}],\"mesh3d\":[{\"colorbar\":{\"outlinewidth\":0,\"ticks\":\"\"},\"type\":\"mesh3d\"}],\"parcoords\":[{\"line\":{\"colorbar\":{\"outlinewidth\":0,\"ticks\":\"\"}},\"type\":\"parcoords\"}],\"pie\":[{\"automargin\":true,\"type\":\"pie\"}],\"scatter\":[{\"marker\":{\"colorbar\":{\"outlinewidth\":0,\"ticks\":\"\"}},\"type\":\"scatter\"}],\"scatter3d\":[{\"line\":{\"colorbar\":{\"outlinewidth\":0,\"ticks\":\"\"}},\"marker\":{\"colorbar\":{\"outlinewidth\":0,\"ticks\":\"\"}},\"type\":\"scatter3d\"}],\"scattercarpet\":[{\"marker\":{\"colorbar\":{\"outlinewidth\":0,\"ticks\":\"\"}},\"type\":\"scattercarpet\"}],\"scattergeo\":[{\"marker\":{\"colorbar\":{\"outlinewidth\":0,\"ticks\":\"\"}},\"type\":\"scattergeo\"}],\"scattergl\":[{\"marker\":{\"colorbar\":{\"outlinewidth\":0,\"ticks\":\"\"}},\"type\":\"scattergl\"}],\"scattermapbox\":[{\"marker\":{\"colorbar\":{\"outlinewidth\":0,\"ticks\":\"\"}},\"type\":\"scattermapbox\"}],\"scatterpolar\":[{\"marker\":{\"colorbar\":{\"outlinewidth\":0,\"ticks\":\"\"}},\"type\":\"scatterpolar\"}],\"scatterpolargl\":[{\"marker\":{\"colorbar\":{\"outlinewidth\":0,\"ticks\":\"\"}},\"type\":\"scatterpolargl\"}],\"scatterternary\":[{\"marker\":{\"colorbar\":{\"outlinewidth\":0,\"ticks\":\"\"}},\"type\":\"scatterternary\"}],\"surface\":[{\"colorbar\":{\"outlinewidth\":0,\"ticks\":\"\"},\"colorscale\":[[0.0,\"#0d0887\"],[0.1111111111111111,\"#46039f\"],[0.2222222222222222,\"#7201a8\"],[0.3333333333333333,\"#9c179e\"],[0.4444444444444444,\"#bd3786\"],[0.5555555555555556,\"#d8576b\"],[0.6666666666666666,\"#ed7953\"],[0.7777777777777778,\"#fb9f3a\"],[0.8888888888888888,\"#fdca26\"],[1.0,\"#f0f921\"]],\"type\":\"surface\"}],\"table\":[{\"cells\":{\"fill\":{\"color\":\"#EBF0F8\"},\"line\":{\"color\":\"white\"}},\"header\":{\"fill\":{\"color\":\"#C8D4E3\"},\"line\":{\"color\":\"white\"}},\"type\":\"table\"}]},\"layout\":{\"annotationdefaults\":{\"arrowcolor\":\"#2a3f5f\",\"arrowhead\":0,\"arrowwidth\":1},\"autotypenumbers\":\"strict\",\"coloraxis\":{\"colorbar\":{\"outlinewidth\":0,\"ticks\":\"\"}},\"colorscale\":{\"diverging\":[[0,\"#8e0152\"],[0.1,\"#c51b7d\"],[0.2,\"#de77ae\"],[0.3,\"#f1b6da\"],[0.4,\"#fde0ef\"],[0.5,\"#f7f7f7\"],[0.6,\"#e6f5d0\"],[0.7,\"#b8e186\"],[0.8,\"#7fbc41\"],[0.9,\"#4d9221\"],[1,\"#276419\"]],\"sequential\":[[0.0,\"#0d0887\"],[0.1111111111111111,\"#46039f\"],[0.2222222222222222,\"#7201a8\"],[0.3333333333333333,\"#9c179e\"],[0.4444444444444444,\"#bd3786\"],[0.5555555555555556,\"#d8576b\"],[0.6666666666666666,\"#ed7953\"],[0.7777777777777778,\"#fb9f3a\"],[0.8888888888888888,\"#fdca26\"],[1.0,\"#f0f921\"]],\"sequentialminus\":[[0.0,\"#0d0887\"],[0.1111111111111111,\"#46039f\"],[0.2222222222222222,\"#7201a8\"],[0.3333333333333333,\"#9c179e\"],[0.4444444444444444,\"#bd3786\"],[0.5555555555555556,\"#d8576b\"],[0.6666666666666666,\"#ed7953\"],[0.7777777777777778,\"#fb9f3a\"],[0.8888888888888888,\"#fdca26\"],[1.0,\"#f0f921\"]]},\"colorway\":[\"#636efa\",\"#EF553B\",\"#00cc96\",\"#ab63fa\",\"#FFA15A\",\"#19d3f3\",\"#FF6692\",\"#B6E880\",\"#FF97FF\",\"#FECB52\"],\"font\":{\"color\":\"#2a3f5f\"},\"geo\":{\"bgcolor\":\"white\",\"lakecolor\":\"white\",\"landcolor\":\"#E5ECF6\",\"showlakes\":true,\"showland\":true,\"subunitcolor\":\"white\"},\"hoverlabel\":{\"align\":\"left\"},\"hovermode\":\"closest\",\"mapbox\":{\"style\":\"light\"},\"paper_bgcolor\":\"white\",\"plot_bgcolor\":\"#E5ECF6\",\"polar\":{\"angularaxis\":{\"gridcolor\":\"white\",\"linecolor\":\"white\",\"ticks\":\"\"},\"bgcolor\":\"#E5ECF6\",\"radialaxis\":{\"gridcolor\":\"white\",\"linecolor\":\"white\",\"ticks\":\"\"}},\"scene\":{\"xaxis\":{\"backgroundcolor\":\"#E5ECF6\",\"gridcolor\":\"white\",\"gridwidth\":2,\"linecolor\":\"white\",\"showbackground\":true,\"ticks\":\"\",\"zerolinecolor\":\"white\"},\"yaxis\":{\"backgroundcolor\":\"#E5ECF6\",\"gridcolor\":\"white\",\"gridwidth\":2,\"linecolor\":\"white\",\"showbackground\":true,\"ticks\":\"\",\"zerolinecolor\":\"white\"},\"zaxis\":{\"backgroundcolor\":\"#E5ECF6\",\"gridcolor\":\"white\",\"gridwidth\":2,\"linecolor\":\"white\",\"showbackground\":true,\"ticks\":\"\",\"zerolinecolor\":\"white\"}},\"shapedefaults\":{\"line\":{\"color\":\"#2a3f5f\"}},\"ternary\":{\"aaxis\":{\"gridcolor\":\"white\",\"linecolor\":\"white\",\"ticks\":\"\"},\"baxis\":{\"gridcolor\":\"white\",\"linecolor\":\"white\",\"ticks\":\"\"},\"bgcolor\":\"#E5ECF6\",\"caxis\":{\"gridcolor\":\"white\",\"linecolor\":\"white\",\"ticks\":\"\"}},\"title\":{\"x\":0.05},\"xaxis\":{\"automargin\":true,\"gridcolor\":\"white\",\"linecolor\":\"white\",\"ticks\":\"\",\"title\":{\"standoff\":15},\"zerolinecolor\":\"white\",\"zerolinewidth\":2},\"yaxis\":{\"automargin\":true,\"gridcolor\":\"white\",\"linecolor\":\"white\",\"ticks\":\"\",\"title\":{\"standoff\":15},\"zerolinecolor\":\"white\",\"zerolinewidth\":2}}},\"xaxis\":{\"anchor\":\"y\",\"domain\":[0.0,0.45]},\"yaxis\":{\"anchor\":\"x\",\"domain\":[0.0,1.0]},\"xaxis2\":{\"anchor\":\"y2\",\"domain\":[0.55,1.0]},\"yaxis2\":{\"anchor\":\"x2\",\"domain\":[0.0,1.0]},\"annotations\":[{\"font\":{\"color\":\"teal\",\"size\":18},\"showarrow\":false,\"text\":\"Users conversion by events (Group A)\",\"x\":0.225,\"xanchor\":\"center\",\"xref\":\"paper\",\"y\":1.0,\"yanchor\":\"bottom\",\"yref\":\"paper\"},{\"font\":{\"color\":\"teal\",\"size\":18},\"showarrow\":false,\"text\":\"Users conversion by events (Group B)\",\"x\":0.775,\"xanchor\":\"center\",\"xref\":\"paper\",\"y\":1.0,\"yanchor\":\"bottom\",\"yref\":\"paper\"}],\"showlegend\":false,\"height\":600,\"width\":1000},                        {\"responsive\": true}                    ).then(function(){\n",
       "                            \n",
       "var gd = document.getElementById('ec085abb-60d1-492b-ad08-6f9311d0209d');\n",
       "var x = new MutationObserver(function (mutations, observer) {{\n",
       "        var display = window.getComputedStyle(gd).display;\n",
       "        if (!display || display === 'none') {{\n",
       "            console.log([gd, 'removed!']);\n",
       "            Plotly.purge(gd);\n",
       "            observer.disconnect();\n",
       "        }}\n",
       "}});\n",
       "\n",
       "// Listen for the removal of the full notebook cells\n",
       "var notebookContainer = gd.closest('#notebook-container');\n",
       "if (notebookContainer) {{\n",
       "    x.observe(notebookContainer, {childList: true});\n",
       "}}\n",
       "\n",
       "// Listen for the clearing of the current output cell\n",
       "var outputEl = gd.closest('.output');\n",
       "if (outputEl) {{\n",
       "    x.observe(outputEl, {childList: true});\n",
       "}}\n",
       "\n",
       "                        })                };                });            </script>        </div>"
      ]
     },
     "metadata": {},
     "output_type": "display_data"
    }
   ],
   "source": [
    "fig_1 = make_subplots(rows=1, cols=2, subplot_titles=(\"Users conversion by events (Group A)\",\n",
    "                                                    \"Users conversion by events (Group B)\"))\n",
    "fig_1.add_trace(\n",
    "    go.Funnel(\n",
    "        x=user_conversion.iloc[:, 0],\n",
    "        y = ['login', 'product_page', 'product_cart', 'purchase'],\n",
    "    textinfo = \"value+percent initial+percent previous\", marker = {\"color\": \"#1c1847\"}),\n",
    "row=1, col=1)\n",
    "\n",
    "fig_1.add_trace(\n",
    "    go.Funnel(\n",
    "    x = user_conversion.iloc[:, 1],\n",
    "    y = ['login', 'product_page', 'product_cart', 'purchase'],\n",
    "    textinfo = \"value+percent initial+percent previous\", marker = {\"color\": \"silver\"}),\n",
    "row=1, col=2)\n",
    "\n",
    "fig_1.update_layout(showlegend=False, height=600, width=1000)\n",
    "\n",
    "for i in fig_1['layout']['annotations']:\n",
    "    i['font'] = dict(size=18,color='teal')\n",
    "    \n",
    "fig_1.show(\"notebook_connected\")"
   ]
  },
  {
   "cell_type": "markdown",
   "metadata": {},
   "source": [
    "В предоставленных данных имеются следующие события:\n",
    "\n",
    "1) `login` - главная страница после авторизации;     \n",
    "2) `product_page`- просмотр карточек товаров;      \n",
    "3) `product_cart`- просмотр корзины;       \n",
    "4) `purchase`- покупка.       \n",
    "\n",
    "Судя по обоим графикам, а также конверсии пользователей и событий, вероятнее всего событие `product_cart` не является обязательным для приобретения товара. \n",
    "\n",
    "Наибольшее количество пользователей теряется при переходе с экрана просмотра товара на этапе добавления в корзину/успешного завершения оплаты (только 46.3% пользователей в группе `А` и 48.8% из группы `B` переходит на экран добавления товара в корзину). Однако эта информация нам ни о чем не говорит, поскольку непонятно какой базовый пользовательский путь предусмотрен для покупки товаров и можно ли после авторизации сразу добавить себе товар в корзину (например, из списка рекомендуемых/акционных и т.п.).\n",
    "\n",
    "**Что нужно еще учесть при проведении теста:**\n",
    "- уделить внимание разделению пользователей на контрольную и экспериментальную группу в относительно равных пропорциях;\n",
    "- желательно при проведении теста исключить пересечение пользователей с другими А/B-тестами либо уточнить как они влияют на результат проведения теста;\n",
    "- желательно не проводить тест в период промоакций и распродаж."
   ]
  },
  {
   "cell_type": "markdown",
   "metadata": {},
   "source": [
    "## Анализ результатов A/B-теста"
   ]
  },
  {
   "cell_type": "markdown",
   "metadata": {},
   "source": [
    "Определим существует ли статистически значимая разница между пользователями совершившими действие к общему числу пользователей контрольной группы `А` и тестовой группы `В`.\n",
    "\n",
    "**Введем основную и альтернативные гипотезы для проверки разности групп:**\n",
    "\n",
    "**H0:** Статистически значимые различия между количеством пользователей, совершивших событие, в контрольной группе `А` и тестовой группе `В` отсутствуют.      \n",
    "**H1:** Статистически значимые различия между количеством пользователей, совершивших событие, в контрольной группе `А` и тестовой группе `В` имеются.      \n",
    "\n",
    "Создадим функцию, которая позволит нам провести тестирование каждого из событий в исследуемых группах. Для проверки гипотез оптимальным будет использование Z-теста, который позволяет определить, различаются ли два средних значения генеральной совокупности. Установим уровень статистической значимости (`alpha`) равным 0.05."
   ]
  },
  {
   "cell_type": "code",
   "execution_count": 45,
   "metadata": {},
   "outputs": [],
   "source": [
    "def st_test(test0, test1, total0, total1):  \n",
    "    \n",
    "    # задаем уровень статистической значимости\n",
    "    alpha = 0.05 \n",
    "    \n",
    "    # считаем пропорцию успехов в первой группе:\n",
    "    p1 = test0 / total0 \n",
    "    \n",
    "    # считаем пропорцию успехов во второй группе:\n",
    "    p2 = test1 / total1 \n",
    "    \n",
    "    # считаем пропорция успехов в комбинированном датасете:\n",
    "    p_combined = (test0 + test1) / (total0 + total1) \n",
    "    \n",
    "    # считаем разницу пропорций в датасетах\n",
    "    difference = p1 - p2 \n",
    "    \n",
    "    # считаем статистику в стандартных отклонениях стандартного нормального распределения\n",
    "    z_value = difference / mth.sqrt(p_combined * (1 - p_combined) * (1/total0 + 1/total1))\n",
    "    \n",
    "    # задаем стандартное нормальное распределение (среднее 0, ста.отклонение 1)\n",
    "    distr = stats.norm(0, 1) \n",
    "    \n",
    "    p_value = (1 - distr.cdf(abs(z_value))) * 2\n",
    "    \n",
    "    return p_value"
   ]
  },
  {
   "cell_type": "markdown",
   "metadata": {},
   "source": [
    "Поскольку ранее мы исключили пользователей, у которых вообще не было событий (включая `login`), то количество пользователей, которые авторизовались совпадает с общим количеством пользователей в каждой из групп. Переименуем этот столбец для дальнейшего использования в тесте."
   ]
  },
  {
   "cell_type": "code",
   "execution_count": 46,
   "metadata": {
    "scrolled": true
   },
   "outputs": [
    {
     "data": {
      "text/html": [
       "<div>\n",
       "<style scoped>\n",
       "    .dataframe tbody tr th:only-of-type {\n",
       "        vertical-align: middle;\n",
       "    }\n",
       "\n",
       "    .dataframe tbody tr th {\n",
       "        vertical-align: top;\n",
       "    }\n",
       "\n",
       "    .dataframe thead th {\n",
       "        text-align: right;\n",
       "    }\n",
       "</style>\n",
       "<table border=\"1\" class=\"dataframe\">\n",
       "  <thead>\n",
       "    <tr style=\"text-align: right;\">\n",
       "      <th>event_name</th>\n",
       "      <th>total_users</th>\n",
       "      <th>product_page</th>\n",
       "      <th>product_cart</th>\n",
       "      <th>purchase</th>\n",
       "    </tr>\n",
       "    <tr>\n",
       "      <th>group</th>\n",
       "      <th></th>\n",
       "      <th></th>\n",
       "      <th></th>\n",
       "      <th></th>\n",
       "    </tr>\n",
       "  </thead>\n",
       "  <tbody>\n",
       "    <tr>\n",
       "      <th>A</th>\n",
       "      <td>2747</td>\n",
       "      <td>1780</td>\n",
       "      <td>824</td>\n",
       "      <td>872</td>\n",
       "    </tr>\n",
       "    <tr>\n",
       "      <th>B</th>\n",
       "      <td>927</td>\n",
       "      <td>523</td>\n",
       "      <td>255</td>\n",
       "      <td>256</td>\n",
       "    </tr>\n",
       "  </tbody>\n",
       "</table>\n",
       "</div>"
      ],
      "text/plain": [
       "event_name  total_users  product_page  product_cart  purchase\n",
       "group                                                        \n",
       "A                  2747          1780           824       872\n",
       "B                   927           523           255       256"
      ]
     },
     "execution_count": 46,
     "metadata": {},
     "output_type": "execute_result"
    }
   ],
   "source": [
    "user_conversion_t = user_conversion.iloc[:, :2].T\n",
    "user_conversion_t = user_conversion_t.rename(columns={'login': 'total_users'})\n",
    "user_conversion_t"
   ]
  },
  {
   "cell_type": "code",
   "execution_count": 47,
   "metadata": {},
   "outputs": [
    {
     "data": {
      "text/html": [
       "<div>\n",
       "<style scoped>\n",
       "    .dataframe tbody tr th:only-of-type {\n",
       "        vertical-align: middle;\n",
       "    }\n",
       "\n",
       "    .dataframe tbody tr th {\n",
       "        vertical-align: top;\n",
       "    }\n",
       "\n",
       "    .dataframe thead th {\n",
       "        text-align: right;\n",
       "    }\n",
       "</style>\n",
       "<table border=\"1\" class=\"dataframe\">\n",
       "  <thead>\n",
       "    <tr style=\"text-align: right;\">\n",
       "      <th></th>\n",
       "      <th>group_A</th>\n",
       "      <th>group_B</th>\n",
       "      <th>event_name</th>\n",
       "      <th>alpha</th>\n",
       "      <th>p_value</th>\n",
       "      <th>result</th>\n",
       "    </tr>\n",
       "  </thead>\n",
       "  <tbody>\n",
       "    <tr>\n",
       "      <th>0</th>\n",
       "      <td>A</td>\n",
       "      <td>B</td>\n",
       "      <td>product_page</td>\n",
       "      <td>0.050</td>\n",
       "      <td>0.000</td>\n",
       "      <td>Отвергаем нулевую гипотезу: между группами имеется статзначимая разница</td>\n",
       "    </tr>\n",
       "    <tr>\n",
       "      <th>1</th>\n",
       "      <td>A</td>\n",
       "      <td>B</td>\n",
       "      <td>product_cart</td>\n",
       "      <td>0.050</td>\n",
       "      <td>0.150</td>\n",
       "      <td>Не получилось отвергнуть нулевую гипотезу: статзначимое различие между группами отсутствует</td>\n",
       "    </tr>\n",
       "    <tr>\n",
       "      <th>2</th>\n",
       "      <td>A</td>\n",
       "      <td>B</td>\n",
       "      <td>purchase</td>\n",
       "      <td>0.050</td>\n",
       "      <td>0.018</td>\n",
       "      <td>Отвергаем нулевую гипотезу: между группами имеется статзначимая разница</td>\n",
       "    </tr>\n",
       "  </tbody>\n",
       "</table>\n",
       "</div>"
      ],
      "text/plain": [
       "  group_A group_B    event_name  alpha  p_value  \\\n",
       "0       A       B  product_page  0.050    0.000   \n",
       "1       A       B  product_cart  0.050    0.150   \n",
       "2       A       B      purchase  0.050    0.018   \n",
       "\n",
       "                                                                                        result  \n",
       "0                      Отвергаем нулевую гипотезу: между группами имеется статзначимая разница  \n",
       "1  Не получилось отвергнуть нулевую гипотезу: статзначимое различие между группами отсутствует  \n",
       "2                      Отвергаем нулевую гипотезу: между группами имеется статзначимая разница  "
      ]
     },
     "execution_count": 47,
     "metadata": {},
     "output_type": "execute_result"
    }
   ],
   "source": [
    "# создаем датафрейм с вышеуказанными колонками\n",
    "AB_test = pd.DataFrame(columns=['group_A', 'group_B', 'event_name', 'alpha', 'p_value', 'result'])\n",
    "\n",
    "# варианты проверки гипотез в рамках теста\n",
    "result_options = [\"Отвергаем нулевую гипотезу: между группами имеется статзначимая разница\",\n",
    "                  \"Не получилось отвергнуть нулевую гипотезу: статзначимое различие между группами отсутствует\"]\n",
    "\n",
    "# переменные для проведения АB-теста\n",
    "group_1 = 'A'\n",
    "group_2 = 'B'\n",
    "\n",
    "# задаем значение текущей строки, с которой начинается тест\n",
    "current_row = user_conversion_t.loc[group_1]\n",
    "\n",
    "# создаем цикл, который проходит по каждому столбцу, начиная с первого,\n",
    "# т.к. нулевой - это столбец с общим количеством пользователей\n",
    "for event_num in range(1, 4):\n",
    "    current_event = user_conversion_t.columns[event_num]\n",
    "    \n",
    "    # проводим тест\n",
    "    p_value_result = st_test(current_row[current_event], user_conversion_t[current_event][group_2],\n",
    "                             current_row['total_users'], user_conversion_t['total_users'][group_2])\n",
    "    \n",
    "    # добавляем строку с полными показателями теста\n",
    "    add_row = {'group_A': group_1,\n",
    "               'group_B': group_2, \n",
    "               'event_name': user_conversion_t.columns[event_num], # наименование события\n",
    "               'alpha': 0.05, # заданный уровень значимости \n",
    "               'p_value': round(p_value_result, 5), # полученный результат тестирования \n",
    "               'result': result_options[p_value_result >= 0.05]}\n",
    "    AB_test = AB_test.append([add_row])\n",
    "\n",
    "AB_test.index = range(len(AB_test))\n",
    "AB_test"
   ]
  },
  {
   "cell_type": "markdown",
   "metadata": {},
   "source": [
    "Поскольку мы проводим несколько сравнений на одних и тех же данных, то это фактически является множественным тестом. Чтобы снизить вероятность ложнопозитивного результата при множественном тестировании гипотез, применяются разные методы корректировки уровня значимости: метод Бонферрони, метод Холма, метод Шидака, метод Холма-Шидака и т.п."
   ]
  },
  {
   "cell_type": "markdown",
   "metadata": {},
   "source": [
    "Воспользуемся методом Холма-Шидака из пакета [statsmodels.stats.multitest.multipletests][1] для корректировки результатов тестирования.\n",
    "\n",
    "[1]: https://www.statsmodels.org/stable/generated/statsmodels.stats.multitest.multipletests.html"
   ]
  },
  {
   "cell_type": "code",
   "execution_count": 48,
   "metadata": {},
   "outputs": [
    {
     "data": {
      "text/html": [
       "<div>\n",
       "<style scoped>\n",
       "    .dataframe tbody tr th:only-of-type {\n",
       "        vertical-align: middle;\n",
       "    }\n",
       "\n",
       "    .dataframe tbody tr th {\n",
       "        vertical-align: top;\n",
       "    }\n",
       "\n",
       "    .dataframe thead th {\n",
       "        text-align: right;\n",
       "    }\n",
       "</style>\n",
       "<table border=\"1\" class=\"dataframe\">\n",
       "  <thead>\n",
       "    <tr style=\"text-align: right;\">\n",
       "      <th></th>\n",
       "      <th>group_A</th>\n",
       "      <th>group_B</th>\n",
       "      <th>event_name</th>\n",
       "      <th>alpha</th>\n",
       "      <th>p_value</th>\n",
       "      <th>result</th>\n",
       "      <th>p_value_holm&amp;sidak</th>\n",
       "      <th>final_results</th>\n",
       "    </tr>\n",
       "  </thead>\n",
       "  <tbody>\n",
       "    <tr>\n",
       "      <th>0</th>\n",
       "      <td>A</td>\n",
       "      <td>B</td>\n",
       "      <td>product_page</td>\n",
       "      <td>0.050</td>\n",
       "      <td>0.000</td>\n",
       "      <td>Отвергаем нулевую гипотезу: между группами имеется статзначимая разница</td>\n",
       "      <td>0.000</td>\n",
       "      <td>Отвергаем нулевую гипотезу: между группами есть статзначимая разница</td>\n",
       "    </tr>\n",
       "    <tr>\n",
       "      <th>1</th>\n",
       "      <td>A</td>\n",
       "      <td>B</td>\n",
       "      <td>product_cart</td>\n",
       "      <td>0.050</td>\n",
       "      <td>0.150</td>\n",
       "      <td>Не получилось отвергнуть нулевую гипотезу: статзначимое различие между группами отсутствует</td>\n",
       "      <td>0.150</td>\n",
       "      <td>Не получилось отвергнуть нулевую гипотезу, вывод о различии групп сделать нельзя</td>\n",
       "    </tr>\n",
       "    <tr>\n",
       "      <th>2</th>\n",
       "      <td>A</td>\n",
       "      <td>B</td>\n",
       "      <td>purchase</td>\n",
       "      <td>0.050</td>\n",
       "      <td>0.018</td>\n",
       "      <td>Отвергаем нулевую гипотезу: между группами имеется статзначимая разница</td>\n",
       "      <td>0.020</td>\n",
       "      <td>Отвергаем нулевую гипотезу: между группами есть статзначимая разница</td>\n",
       "    </tr>\n",
       "  </tbody>\n",
       "</table>\n",
       "</div>"
      ],
      "text/plain": [
       "  group_A group_B    event_name  alpha  p_value  \\\n",
       "0       A       B  product_page  0.050    0.000   \n",
       "1       A       B  product_cart  0.050    0.150   \n",
       "2       A       B      purchase  0.050    0.018   \n",
       "\n",
       "                                                                                        result  \\\n",
       "0                      Отвергаем нулевую гипотезу: между группами имеется статзначимая разница   \n",
       "1  Не получилось отвергнуть нулевую гипотезу: статзначимое различие между группами отсутствует   \n",
       "2                      Отвергаем нулевую гипотезу: между группами имеется статзначимая разница   \n",
       "\n",
       "   p_value_holm&sidak  \\\n",
       "0               0.000   \n",
       "1               0.150   \n",
       "2               0.020   \n",
       "\n",
       "                                                                      final_results  \n",
       "0              Отвергаем нулевую гипотезу: между группами есть статзначимая разница  \n",
       "1  Не получилось отвергнуть нулевую гипотезу, вывод о различии групп сделать нельзя  \n",
       "2              Отвергаем нулевую гипотезу: между группами есть статзначимая разница  "
      ]
     },
     "execution_count": 48,
     "metadata": {},
     "output_type": "execute_result"
    }
   ],
   "source": [
    "# варианты проверки гипотез в рамках теста\n",
    "result_options = [\"Отвергаем нулевую гипотезу: между группами есть статзначимая разница\",\n",
    "                  \"Не получилось отвергнуть нулевую гипотезу, вывод о различии групп сделать нельзя\"]\n",
    "\n",
    "pvalues_corrected = [] # p-value, cкорректированные методом Холма-Шидака\n",
    "final_results = [] # итоговые результаты проверки гипотезы после корректировки\n",
    "\n",
    "# создадим цикл, который из пройдется по всем значениям p-value\n",
    "\n",
    "for i in range(0, len(AB_test)):\n",
    "    \n",
    "    # добавим в переменную значения по всем показателям p-value для всех событий \n",
    "    pvalues_list = AB_test.loc[i, 'p_value'].tolist()\n",
    "    \n",
    "    # применим статистический метод Холма-Шидака для списка значений p-value всех событий \n",
    "    results_test, pvals_corrected, alphacSidak, alphacBonf = multipletests(pvalues_list, method='holm-sidak')\n",
    "    \n",
    "    # результатом теста являются два массива значений: \n",
    "    \n",
    "    # первый массив значений сравним с переменной result_option, \n",
    "    # если массив значение будет являться True - отвергаем нулевую гипотезу, \n",
    "    # если False - не получилось отвергнуть нулевую гипотезу\n",
    "    \n",
    "    final_results.extend([result_options[0] if x else result_options[1] for x in results_test])\n",
    "    \n",
    "    # второй массив значений будет являться списком скорректированных значений p-value по каждому событию\n",
    "    pvalues_corrected.extend([round(x, 2) for x in pvals_corrected])\n",
    "    \n",
    "# добавим получившийся список результатов в качестве столбца имеющейся таблицы\n",
    "AB_test['p_value_holm&sidak'] = pvalues_corrected\n",
    "AB_test['final_results'] = final_results\n",
    "\n",
    "# выведем получившийся результат\n",
    "AB_test"
   ]
  },
  {
   "cell_type": "code",
   "execution_count": 49,
   "metadata": {},
   "outputs": [
    {
     "data": {
      "text/html": [
       "<style type=\"text/css\">\n",
       "</style>\n",
       "<table id=\"T_0d35b\">\n",
       "  <thead>\n",
       "    <tr>\n",
       "      <th class=\"index_name level0\" >group</th>\n",
       "      <th id=\"T_0d35b_level0_col0\" class=\"col_heading level0 col0\" >A</th>\n",
       "      <th id=\"T_0d35b_level0_col1\" class=\"col_heading level0 col1\" >B</th>\n",
       "      <th id=\"T_0d35b_level0_col2\" class=\"col_heading level0 col2\" >total</th>\n",
       "      <th id=\"T_0d35b_level0_col3\" class=\"col_heading level0 col3\" >conv_step_A</th>\n",
       "      <th id=\"T_0d35b_level0_col4\" class=\"col_heading level0 col4\" >conv_step_B</th>\n",
       "      <th id=\"T_0d35b_level0_col5\" class=\"col_heading level0 col5\" >relative_conv</th>\n",
       "    </tr>\n",
       "    <tr>\n",
       "      <th class=\"index_name level0\" >event_name</th>\n",
       "      <th class=\"blank col0\" >&nbsp;</th>\n",
       "      <th class=\"blank col1\" >&nbsp;</th>\n",
       "      <th class=\"blank col2\" >&nbsp;</th>\n",
       "      <th class=\"blank col3\" >&nbsp;</th>\n",
       "      <th class=\"blank col4\" >&nbsp;</th>\n",
       "      <th class=\"blank col5\" >&nbsp;</th>\n",
       "    </tr>\n",
       "  </thead>\n",
       "  <tbody>\n",
       "    <tr>\n",
       "      <th id=\"T_0d35b_level0_row0\" class=\"row_heading level0 row0\" >login</th>\n",
       "      <td id=\"T_0d35b_row0_col0\" class=\"data row0 col0\" >2747</td>\n",
       "      <td id=\"T_0d35b_row0_col1\" class=\"data row0 col1\" >927</td>\n",
       "      <td id=\"T_0d35b_row0_col2\" class=\"data row0 col2\" >3674</td>\n",
       "      <td id=\"T_0d35b_row0_col3\" class=\"data row0 col3\" >0.00%</td>\n",
       "      <td id=\"T_0d35b_row0_col4\" class=\"data row0 col4\" >0.00%</td>\n",
       "      <td id=\"T_0d35b_row0_col5\" class=\"data row0 col5\" >0.00%</td>\n",
       "    </tr>\n",
       "    <tr>\n",
       "      <th id=\"T_0d35b_level0_row1\" class=\"row_heading level0 row1\" >product_page</th>\n",
       "      <td id=\"T_0d35b_row1_col0\" class=\"data row1 col0\" >1780</td>\n",
       "      <td id=\"T_0d35b_row1_col1\" class=\"data row1 col1\" >523</td>\n",
       "      <td id=\"T_0d35b_row1_col2\" class=\"data row1 col2\" >2303</td>\n",
       "      <td id=\"T_0d35b_row1_col3\" class=\"data row1 col3\" >64.80%</td>\n",
       "      <td id=\"T_0d35b_row1_col4\" class=\"data row1 col4\" >56.42%</td>\n",
       "      <td id=\"T_0d35b_row1_col5\" class=\"data row1 col5\" >-12.93%</td>\n",
       "    </tr>\n",
       "    <tr>\n",
       "      <th id=\"T_0d35b_level0_row2\" class=\"row_heading level0 row2\" >product_cart</th>\n",
       "      <td id=\"T_0d35b_row2_col0\" class=\"data row2 col0\" >824</td>\n",
       "      <td id=\"T_0d35b_row2_col1\" class=\"data row2 col1\" >255</td>\n",
       "      <td id=\"T_0d35b_row2_col2\" class=\"data row2 col2\" >1079</td>\n",
       "      <td id=\"T_0d35b_row2_col3\" class=\"data row2 col3\" >46.29%</td>\n",
       "      <td id=\"T_0d35b_row2_col4\" class=\"data row2 col4\" >48.76%</td>\n",
       "      <td id=\"T_0d35b_row2_col5\" class=\"data row2 col5\" >5.32%</td>\n",
       "    </tr>\n",
       "    <tr>\n",
       "      <th id=\"T_0d35b_level0_row3\" class=\"row_heading level0 row3\" >purchase</th>\n",
       "      <td id=\"T_0d35b_row3_col0\" class=\"data row3 col0\" >872</td>\n",
       "      <td id=\"T_0d35b_row3_col1\" class=\"data row3 col1\" >256</td>\n",
       "      <td id=\"T_0d35b_row3_col2\" class=\"data row3 col2\" >1128</td>\n",
       "      <td id=\"T_0d35b_row3_col3\" class=\"data row3 col3\" >105.83%</td>\n",
       "      <td id=\"T_0d35b_row3_col4\" class=\"data row3 col4\" >100.39%</td>\n",
       "      <td id=\"T_0d35b_row3_col5\" class=\"data row3 col5\" >-5.13%</td>\n",
       "    </tr>\n",
       "  </tbody>\n",
       "</table>\n"
      ],
      "text/plain": [
       "<pandas.io.formats.style.Styler at 0x1c6ba274b50>"
      ]
     },
     "execution_count": 49,
     "metadata": {},
     "output_type": "execute_result"
    }
   ],
   "source": [
    "user_conversion.style.format({'conv_step_A': '{:.2f}%', 'conv_step_B': '{:.2f}%', 'relative_conv': '{:.2f}%'})"
   ]
  },
  {
   "cell_type": "markdown",
   "metadata": {},
   "source": [
    "Проведенные тесты показали, что статистически значимая разница в количестве пользователей между контрольной (`A`) и экспериментальной (`B`) группами имеется для событий `product_page`и `purchase`, а для события `product_cart` статистически значимая разница в количестве пользователей отсутствует.\n",
    "\n",
    "Из технического задания следует, что ожидаемый эффект от внедрения улучшенной рекомендательной системы - увеличение каждой метрики (`product_page`, `product_cart`, `purchase`) не менее чем на 10%, однако:\n",
    "- для события `product_page` конверсия в группе `B` по сравнению с конверсией группы `A` ухудшилась на 12.93%;\n",
    "- для события `product_cart` конверсия в группе `B` по сравнению с конверсией группы `A` улучшилась на 5.32%;\n",
    "- для события `purchase` конверсия в группе `B` по сравнению с конверсией группы `A` ухудшилась на 5.13%.\n",
    "\n",
    "Таким образом, **ожидаемое улучшение показателей** в результате введения новой рекомендательной системы для каждого из событий, не достигнуто."
   ]
  },
  {
   "cell_type": "markdown",
   "metadata": {},
   "source": [
    "## Общий вывод"
   ]
  },
  {
   "cell_type": "markdown",
   "metadata": {},
   "source": [
    "Было проведено исследование, целью которого являлась оценка результатов A/B-теста, проводимого в связи с внедрением улучшенной рекомендательной системы.\n",
    "\n",
    "В ходе исследовательского анализа установлено, что в воронке событий, осуществляемых пользователями, имеется 4 разных вида событий:\n",
    "1) `login` - главная страница после авторизации;     \n",
    "2) `product_page`- просмотр карточки товара;      \n",
    "3) `product_cart`- просмотр корзины;       \n",
    "4) `purchase`- покупка.       \n",
    "\n",
    "Вероятнее всего событие `product_cart` не является обязательным для приобретения товара. Наибольшее количество пользователей отпадает при переходе с экрана просмотра товара на этапе добавления в корзину/успешного завершения оплаты (только 46.3% пользователей в группе `А` и 48.8% из группы `B` переходит на экран добавления товара в корзину).\n",
    "\n",
    "В среднем на одного пользателя группы `B` приходится гораздо меньше событий, чем у группы `A`. На пользователя группы `A` в среднем приходится 7 событий (медианное значение - 6), а на группу `B` – 6 событий (медианное значение - 5). \n",
    "\n",
    "На этапе оценки корректности проведения теста было выявлено:\n",
    "- неравномерное разделение пользователей, зарегистрировавшихся в период с 07 декабря по 21 декабря 2020 г. на контрольную группу `А` и экспериментальную группу `B`; \n",
    "- 1602 пользователя теста (23,91% от общего числа) одновременно участвовали и в другом тесте, в связи с чем непонятно оказало ли это на результат проведения нашего теста или нет;\n",
    "- были достигнуты целевые значения объема выборки в 6000 пользователей и 15% новых пользователей из региона EU.               \n",
    "Однако при этом в группе `A` имелось 1077 пользователей, у которых вообще не было событий (28.16% от всех пользователей группы), в группе `B` таких пользователей - 1949 (67.74% от всех пользователей группы). Есть вероятность, что произошла ошибка учета активности пользователей (логирования их действий), либо возникла проблема в процессе выгрузки данных. Это могло значительно повлиять на результаты проведения теста, стоит попросить проверить инженеров на предмет корректности логирования/выгрузки данных.\n",
    "- часть от запланированного количества данных - за период с 30 декабря 2020 года по 4 января 2021 года отсутствует, вероятно это могло быть связано либо с некорректностью выгрузки, либо досрочным прерыванием теста;\n",
    "- события в рамках теста имеют пересечение с рождественскими маркетинговыми активностями, что сказалось на увеличении активности пользователей перед Рождеством и уменьшении активности к Новому году.\n",
    "\n",
    "Проведенный z-test для пропорций показал, что статистически значимая разница в количестве пользователей между контрольной (`A`) и экспериментальной (`B`) группами имеется для событий `product_page` (ухудшение на 12.93%) и `purchase` (ухудшение на 5.13%), а для события `product_cart`(улучшение на 5.32%) статистически значимая разница в количестве пользователей отсутствует.\n",
    "\n",
    "Таким образом, ожидаемое улучшение показателей в результате введения новой рекомендательной системы для каждого из событий, не достигнуто.\n",
    "\n",
    "Выявленные на этапе корректности проведения ошибки при проведении теста могли оказать существенное влияние на результаты A/B-теста, в связи с чем говорить о корректности интерпретирования его результатов нельзя. При этом на данном этапе не стоит принимать решение о внедрении или не внедрении новой системы рекомендаций для всех пользователей.\n",
    "\n",
    "Как мы выяснили ранее, среди группы `B` 67,74% пользователей вообще не логинятся, потенциально это могло быть связано с тестируемыми нововведениями или техническими ошибками (неработоспособностью приложения/сайта на котором происходили события), что и повлияло на такое различие в количестве пользователей, генерирующих события в каждой из групп. Необходимо перепроверить имели ли место какие-то проблемы технического характера в ходе проведения теста либо тест был завершен досрочно и превалирующая часть пользователей группы `B` не успела совершить никакие события из чего бы следовало, что стоило продлить тест дольше, пока количество пользователей, совершивших события в каждой из групп, не будет иметь столько сильно различаться, как в предоставленных данных.\n",
    "\n",
    "Кроме того, стоит узнать у менеджеров о проводимом параллельно тесте, а именно: влияет ли его проведение на пользователей, которые одновременно попали в два разных теста.\n",
    "\n",
    "После выяснения указанных сведений, а также проверки технических проблем, необходимо скорректировать настройки A/B теста и запустить его повторно, желательно не в период проведения праздников/маркетинговых активностей (если таковые не являлись оцениваемым критерием, например, в сравнении с данными о тех же маркетинговых событиях предыдущего года)."
   ]
  }
 ],
 "metadata": {
  "ExecuteTimeLog": [
   {
    "duration": 119666,
    "start_time": "2022-04-25T03:31:33.202Z"
   },
   {
    "duration": 1213,
    "start_time": "2022-04-25T03:33:32.871Z"
   },
   {
    "duration": 755,
    "start_time": "2022-04-25T03:33:34.086Z"
   },
   {
    "duration": 4,
    "start_time": "2022-04-25T03:33:34.844Z"
   },
   {
    "duration": 111,
    "start_time": "2022-04-25T03:33:34.850Z"
   },
   {
    "duration": 278,
    "start_time": "2022-04-25T03:33:34.963Z"
   },
   {
    "duration": 192,
    "start_time": "2022-04-25T03:33:35.242Z"
   },
   {
    "duration": 6,
    "start_time": "2022-04-25T03:33:35.436Z"
   },
   {
    "duration": 15,
    "start_time": "2022-04-25T03:33:35.444Z"
   },
   {
    "duration": 16,
    "start_time": "2022-04-25T03:33:35.462Z"
   },
   {
    "duration": 10,
    "start_time": "2022-04-25T03:33:35.480Z"
   },
   {
    "duration": 11,
    "start_time": "2022-04-25T03:33:35.491Z"
   },
   {
    "duration": 12,
    "start_time": "2022-04-25T03:33:35.504Z"
   },
   {
    "duration": 20,
    "start_time": "2022-04-25T03:33:35.517Z"
   },
   {
    "duration": 12,
    "start_time": "2022-04-25T03:33:35.538Z"
   },
   {
    "duration": 499,
    "start_time": "2022-04-25T03:33:35.551Z"
   },
   {
    "duration": 128,
    "start_time": "2022-04-25T03:33:36.051Z"
   },
   {
    "duration": 3,
    "start_time": "2022-04-25T03:33:36.181Z"
   },
   {
    "duration": 66,
    "start_time": "2022-04-25T03:33:36.186Z"
   },
   {
    "duration": 15,
    "start_time": "2022-04-25T03:33:36.253Z"
   },
   {
    "duration": 40,
    "start_time": "2022-04-25T03:33:36.269Z"
   },
   {
    "duration": 33,
    "start_time": "2022-04-25T03:33:36.311Z"
   },
   {
    "duration": 40,
    "start_time": "2022-04-25T03:33:36.346Z"
   },
   {
    "duration": 16,
    "start_time": "2022-04-25T03:33:36.388Z"
   },
   {
    "duration": 665,
    "start_time": "2022-04-25T03:33:36.406Z"
   },
   {
    "duration": 641,
    "start_time": "2022-04-25T03:33:37.073Z"
   },
   {
    "duration": 34,
    "start_time": "2022-04-25T03:33:37.717Z"
   },
   {
    "duration": 349,
    "start_time": "2022-04-25T03:33:37.756Z"
   },
   {
    "duration": 52,
    "start_time": "2022-04-25T03:33:38.107Z"
   },
   {
    "duration": 720,
    "start_time": "2022-04-25T03:33:38.161Z"
   },
   {
    "duration": 4,
    "start_time": "2022-04-25T03:33:38.883Z"
   },
   {
    "duration": 45,
    "start_time": "2022-04-25T03:33:38.889Z"
   },
   {
    "duration": 2,
    "start_time": "2022-04-25T03:33:38.936Z"
   },
   {
    "duration": 304,
    "start_time": "2022-04-25T03:33:38.940Z"
   },
   {
    "duration": 1881,
    "start_time": "2022-04-25T03:33:39.246Z"
   },
   {
    "duration": 3128,
    "start_time": "2022-04-25T03:33:41.128Z"
   },
   {
    "duration": 1480,
    "start_time": "2022-04-25T03:33:44.258Z"
   },
   {
    "duration": 2475,
    "start_time": "2022-04-25T03:33:45.740Z"
   },
   {
    "duration": 2869,
    "start_time": "2022-04-25T03:33:48.217Z"
   },
   {
    "duration": 1122,
    "start_time": "2022-04-25T03:33:51.088Z"
   },
   {
    "duration": 2074,
    "start_time": "2022-04-25T03:33:52.211Z"
   },
   {
    "duration": 2702,
    "start_time": "2022-04-25T03:33:54.287Z"
   },
   {
    "duration": 1134,
    "start_time": "2022-04-25T03:33:56.991Z"
   },
   {
    "duration": 2042,
    "start_time": "2022-04-25T03:33:58.127Z"
   },
   {
    "duration": 3521,
    "start_time": "2022-04-25T03:43:57.452Z"
   },
   {
    "duration": 1480,
    "start_time": "2022-04-25T03:44:00.975Z"
   },
   {
    "duration": 717,
    "start_time": "2022-04-25T03:44:02.457Z"
   },
   {
    "duration": 5,
    "start_time": "2022-04-25T03:44:03.176Z"
   },
   {
    "duration": 125,
    "start_time": "2022-04-25T03:44:03.183Z"
   },
   {
    "duration": 294,
    "start_time": "2022-04-25T03:44:03.310Z"
   },
   {
    "duration": 193,
    "start_time": "2022-04-25T03:44:03.606Z"
   },
   {
    "duration": 7,
    "start_time": "2022-04-25T03:44:03.801Z"
   },
   {
    "duration": 12,
    "start_time": "2022-04-25T03:44:03.810Z"
   },
   {
    "duration": 8,
    "start_time": "2022-04-25T03:44:03.825Z"
   },
   {
    "duration": 9,
    "start_time": "2022-04-25T03:44:03.835Z"
   },
   {
    "duration": 10,
    "start_time": "2022-04-25T03:44:03.846Z"
   },
   {
    "duration": 35,
    "start_time": "2022-04-25T03:44:03.858Z"
   },
   {
    "duration": 10,
    "start_time": "2022-04-25T03:44:03.895Z"
   },
   {
    "duration": 12,
    "start_time": "2022-04-25T03:44:03.907Z"
   },
   {
    "duration": 530,
    "start_time": "2022-04-25T03:44:03.921Z"
   },
   {
    "duration": 140,
    "start_time": "2022-04-25T03:44:04.453Z"
   },
   {
    "duration": 3,
    "start_time": "2022-04-25T03:44:04.595Z"
   },
   {
    "duration": 62,
    "start_time": "2022-04-25T03:44:04.600Z"
   },
   {
    "duration": 29,
    "start_time": "2022-04-25T03:44:04.664Z"
   },
   {
    "duration": 42,
    "start_time": "2022-04-25T03:44:04.695Z"
   },
   {
    "duration": 16,
    "start_time": "2022-04-25T03:44:04.739Z"
   },
   {
    "duration": 68,
    "start_time": "2022-04-25T03:44:04.757Z"
   },
   {
    "duration": 16,
    "start_time": "2022-04-25T03:44:04.827Z"
   },
   {
    "duration": 700,
    "start_time": "2022-04-25T03:44:04.845Z"
   },
   {
    "duration": 25,
    "start_time": "2022-04-25T03:44:05.547Z"
   },
   {
    "duration": 361,
    "start_time": "2022-04-25T03:44:05.574Z"
   },
   {
    "duration": 57,
    "start_time": "2022-04-25T03:44:05.939Z"
   },
   {
    "duration": 675,
    "start_time": "2022-04-25T03:44:05.998Z"
   },
   {
    "duration": 3,
    "start_time": "2022-04-25T03:44:06.675Z"
   },
   {
    "duration": 28,
    "start_time": "2022-04-25T03:44:06.692Z"
   },
   {
    "duration": 3,
    "start_time": "2022-04-25T03:44:06.721Z"
   },
   {
    "duration": 321,
    "start_time": "2022-04-25T03:44:06.726Z"
   },
   {
    "duration": 1995,
    "start_time": "2022-04-25T03:44:07.049Z"
   },
   {
    "duration": 3082,
    "start_time": "2022-04-25T03:44:09.045Z"
   },
   {
    "duration": 1492,
    "start_time": "2022-04-25T03:44:12.129Z"
   },
   {
    "duration": 2398,
    "start_time": "2022-04-25T03:44:13.623Z"
   },
   {
    "duration": 2613,
    "start_time": "2022-04-25T03:44:16.023Z"
   },
   {
    "duration": 1081,
    "start_time": "2022-04-25T03:44:18.637Z"
   },
   {
    "duration": 1954,
    "start_time": "2022-04-25T03:44:19.720Z"
   },
   {
    "duration": 2529,
    "start_time": "2022-04-25T03:44:21.675Z"
   },
   {
    "duration": 1113,
    "start_time": "2022-04-25T03:44:24.205Z"
   },
   {
    "duration": 1936,
    "start_time": "2022-04-25T03:44:25.320Z"
   },
   {
    "duration": 22,
    "start_time": "2022-04-25T03:47:17.197Z"
   },
   {
    "duration": 32,
    "start_time": "2022-04-25T03:47:57.933Z"
   },
   {
    "duration": 11,
    "start_time": "2022-04-25T03:48:16.691Z"
   },
   {
    "duration": 21,
    "start_time": "2022-04-25T03:48:31.031Z"
   },
   {
    "duration": 16,
    "start_time": "2022-04-25T03:52:37.860Z"
   },
   {
    "duration": 27,
    "start_time": "2022-04-25T03:52:48.870Z"
   },
   {
    "duration": 2395,
    "start_time": "2022-04-25T03:53:04.941Z"
   },
   {
    "duration": 1181,
    "start_time": "2022-04-25T03:53:07.338Z"
   },
   {
    "duration": 698,
    "start_time": "2022-04-25T03:53:08.520Z"
   },
   {
    "duration": 5,
    "start_time": "2022-04-25T03:53:09.220Z"
   },
   {
    "duration": 106,
    "start_time": "2022-04-25T03:53:09.227Z"
   },
   {
    "duration": 282,
    "start_time": "2022-04-25T03:53:09.335Z"
   },
   {
    "duration": 183,
    "start_time": "2022-04-25T03:53:09.619Z"
   },
   {
    "duration": 8,
    "start_time": "2022-04-25T03:53:09.803Z"
   },
   {
    "duration": 8,
    "start_time": "2022-04-25T03:53:09.812Z"
   },
   {
    "duration": 8,
    "start_time": "2022-04-25T03:53:09.822Z"
   },
   {
    "duration": 9,
    "start_time": "2022-04-25T03:53:09.832Z"
   },
   {
    "duration": 10,
    "start_time": "2022-04-25T03:53:09.842Z"
   },
   {
    "duration": 10,
    "start_time": "2022-04-25T03:53:09.854Z"
   },
   {
    "duration": 6,
    "start_time": "2022-04-25T03:53:09.892Z"
   },
   {
    "duration": 11,
    "start_time": "2022-04-25T03:53:09.900Z"
   },
   {
    "duration": 500,
    "start_time": "2022-04-25T03:53:09.913Z"
   },
   {
    "duration": 139,
    "start_time": "2022-04-25T03:53:10.415Z"
   },
   {
    "duration": 3,
    "start_time": "2022-04-25T03:53:10.556Z"
   },
   {
    "duration": 67,
    "start_time": "2022-04-25T03:53:10.561Z"
   },
   {
    "duration": 14,
    "start_time": "2022-04-25T03:53:10.629Z"
   },
   {
    "duration": 53,
    "start_time": "2022-04-25T03:53:10.644Z"
   },
   {
    "duration": 14,
    "start_time": "2022-04-25T03:53:10.699Z"
   },
   {
    "duration": 42,
    "start_time": "2022-04-25T03:53:10.715Z"
   },
   {
    "duration": 34,
    "start_time": "2022-04-25T03:53:10.758Z"
   },
   {
    "duration": 647,
    "start_time": "2022-04-25T03:53:10.794Z"
   },
   {
    "duration": 17,
    "start_time": "2022-04-25T03:53:11.443Z"
   },
   {
    "duration": 23,
    "start_time": "2022-04-25T03:53:11.462Z"
   },
   {
    "duration": 331,
    "start_time": "2022-04-25T03:53:11.487Z"
   },
   {
    "duration": 44,
    "start_time": "2022-04-25T03:53:11.819Z"
   },
   {
    "duration": 659,
    "start_time": "2022-04-25T03:53:11.865Z"
   },
   {
    "duration": 5,
    "start_time": "2022-04-25T03:53:12.525Z"
   },
   {
    "duration": 29,
    "start_time": "2022-04-25T03:53:12.531Z"
   },
   {
    "duration": 3,
    "start_time": "2022-04-25T03:53:12.561Z"
   },
   {
    "duration": 314,
    "start_time": "2022-04-25T03:53:12.592Z"
   },
   {
    "duration": 1838,
    "start_time": "2022-04-25T03:53:12.908Z"
   },
   {
    "duration": 3009,
    "start_time": "2022-04-25T03:53:14.748Z"
   },
   {
    "duration": 1427,
    "start_time": "2022-04-25T03:53:17.759Z"
   },
   {
    "duration": 2394,
    "start_time": "2022-04-25T03:53:19.187Z"
   },
   {
    "duration": 2502,
    "start_time": "2022-04-25T03:53:21.583Z"
   },
   {
    "duration": 1070,
    "start_time": "2022-04-25T03:53:24.093Z"
   },
   {
    "duration": 1944,
    "start_time": "2022-04-25T03:53:25.167Z"
   },
   {
    "duration": 2568,
    "start_time": "2022-04-25T03:53:27.113Z"
   },
   {
    "duration": 1110,
    "start_time": "2022-04-25T03:53:29.682Z"
   },
   {
    "duration": 1924,
    "start_time": "2022-04-25T03:53:30.794Z"
   },
   {
    "duration": 30,
    "start_time": "2022-04-25T03:55:22.770Z"
   },
   {
    "duration": 19,
    "start_time": "2022-04-25T03:55:26.118Z"
   },
   {
    "duration": 321,
    "start_time": "2022-04-25T03:55:31.353Z"
   },
   {
    "duration": 33,
    "start_time": "2022-04-25T03:55:33.931Z"
   },
   {
    "duration": 535,
    "start_time": "2022-04-25T03:55:34.546Z"
   },
   {
    "duration": 2238,
    "start_time": "2022-04-25T03:56:20.744Z"
   },
   {
    "duration": 1166,
    "start_time": "2022-04-25T03:56:22.985Z"
   },
   {
    "duration": 677,
    "start_time": "2022-04-25T03:56:24.153Z"
   },
   {
    "duration": 6,
    "start_time": "2022-04-25T03:56:24.832Z"
   },
   {
    "duration": 106,
    "start_time": "2022-04-25T03:56:24.839Z"
   },
   {
    "duration": 283,
    "start_time": "2022-04-25T03:56:24.947Z"
   },
   {
    "duration": 180,
    "start_time": "2022-04-25T03:56:25.231Z"
   },
   {
    "duration": 7,
    "start_time": "2022-04-25T03:56:25.412Z"
   },
   {
    "duration": 7,
    "start_time": "2022-04-25T03:56:25.420Z"
   },
   {
    "duration": 10,
    "start_time": "2022-04-25T03:56:25.430Z"
   },
   {
    "duration": 6,
    "start_time": "2022-04-25T03:56:25.441Z"
   },
   {
    "duration": 9,
    "start_time": "2022-04-25T03:56:25.449Z"
   },
   {
    "duration": 35,
    "start_time": "2022-04-25T03:56:25.460Z"
   },
   {
    "duration": 7,
    "start_time": "2022-04-25T03:56:25.496Z"
   },
   {
    "duration": 12,
    "start_time": "2022-04-25T03:56:25.504Z"
   },
   {
    "duration": 490,
    "start_time": "2022-04-25T03:56:25.518Z"
   },
   {
    "duration": 134,
    "start_time": "2022-04-25T03:56:26.009Z"
   },
   {
    "duration": 4,
    "start_time": "2022-04-25T03:56:26.145Z"
   },
   {
    "duration": 68,
    "start_time": "2022-04-25T03:56:26.151Z"
   },
   {
    "duration": 14,
    "start_time": "2022-04-25T03:56:26.221Z"
   },
   {
    "duration": 58,
    "start_time": "2022-04-25T03:56:26.238Z"
   },
   {
    "duration": 17,
    "start_time": "2022-04-25T03:56:26.298Z"
   },
   {
    "duration": 42,
    "start_time": "2022-04-25T03:56:26.318Z"
   },
   {
    "duration": 39,
    "start_time": "2022-04-25T03:56:26.361Z"
   },
   {
    "duration": 639,
    "start_time": "2022-04-25T03:56:26.402Z"
   },
   {
    "duration": 29,
    "start_time": "2022-04-25T03:56:27.043Z"
   },
   {
    "duration": 24,
    "start_time": "2022-04-25T03:56:27.073Z"
   },
   {
    "duration": 326,
    "start_time": "2022-04-25T03:56:27.100Z"
   },
   {
    "duration": 33,
    "start_time": "2022-04-25T03:56:27.428Z"
   },
   {
    "duration": 638,
    "start_time": "2022-04-25T03:56:27.463Z"
   },
   {
    "duration": 4,
    "start_time": "2022-04-25T03:56:28.103Z"
   },
   {
    "duration": 24,
    "start_time": "2022-04-25T03:56:28.108Z"
   },
   {
    "duration": 3,
    "start_time": "2022-04-25T03:56:28.134Z"
   },
   {
    "duration": 231,
    "start_time": "2022-04-25T03:56:28.139Z"
   },
   {
    "duration": 1825,
    "start_time": "2022-04-25T03:56:28.372Z"
   },
   {
    "duration": 2948,
    "start_time": "2022-04-25T03:56:30.199Z"
   },
   {
    "duration": 1440,
    "start_time": "2022-04-25T03:56:33.149Z"
   },
   {
    "duration": 2168,
    "start_time": "2022-04-25T03:56:34.593Z"
   },
   {
    "duration": 2469,
    "start_time": "2022-04-25T03:56:36.763Z"
   },
   {
    "duration": 1026,
    "start_time": "2022-04-25T03:56:39.234Z"
   },
   {
    "duration": 1964,
    "start_time": "2022-04-25T03:56:40.262Z"
   },
   {
    "duration": 2645,
    "start_time": "2022-04-25T03:56:42.228Z"
   },
   {
    "duration": 1066,
    "start_time": "2022-04-25T03:56:44.874Z"
   },
   {
    "duration": 1808,
    "start_time": "2022-04-25T03:56:45.942Z"
   },
   {
    "duration": 715,
    "start_time": "2022-04-25T03:57:53.265Z"
   },
   {
    "duration": 841,
    "start_time": "2022-04-25T03:58:15.822Z"
   },
   {
    "duration": 131,
    "start_time": "2022-04-25T04:17:49.576Z"
   },
   {
    "duration": 4,
    "start_time": "2022-04-25T04:18:02.343Z"
   },
   {
    "duration": 210,
    "start_time": "2022-04-25T04:18:04.133Z"
   },
   {
    "duration": 4,
    "start_time": "2022-04-25T04:18:04.564Z"
   },
   {
    "duration": 121,
    "start_time": "2022-04-25T04:18:22.118Z"
   },
   {
    "duration": 98,
    "start_time": "2022-04-25T04:18:43.773Z"
   },
   {
    "duration": 44,
    "start_time": "2022-04-25T04:18:54.564Z"
   },
   {
    "duration": 83,
    "start_time": "2022-04-25T04:19:07.838Z"
   },
   {
    "duration": 113,
    "start_time": "2022-04-25T04:19:38.957Z"
   },
   {
    "duration": 84,
    "start_time": "2022-04-25T04:19:45.154Z"
   },
   {
    "duration": 113,
    "start_time": "2022-04-25T04:20:05.517Z"
   },
   {
    "duration": 4540,
    "start_time": "2022-04-25T14:43:53.309Z"
   },
   {
    "duration": 1900,
    "start_time": "2022-04-25T14:43:57.852Z"
   },
   {
    "duration": 885,
    "start_time": "2022-04-25T14:43:59.755Z"
   },
   {
    "duration": 7,
    "start_time": "2022-04-25T14:44:00.642Z"
   },
   {
    "duration": 166,
    "start_time": "2022-04-25T14:44:00.652Z"
   },
   {
    "duration": 449,
    "start_time": "2022-04-25T14:44:00.820Z"
   },
   {
    "duration": 279,
    "start_time": "2022-04-25T14:44:01.271Z"
   },
   {
    "duration": 10,
    "start_time": "2022-04-25T14:44:01.553Z"
   },
   {
    "duration": 19,
    "start_time": "2022-04-25T14:44:01.585Z"
   },
   {
    "duration": 91,
    "start_time": "2022-04-25T14:44:01.607Z"
   },
   {
    "duration": 37,
    "start_time": "2022-04-25T14:44:01.700Z"
   },
   {
    "duration": 24,
    "start_time": "2022-04-25T14:44:01.740Z"
   },
   {
    "duration": 15,
    "start_time": "2022-04-25T14:44:01.766Z"
   },
   {
    "duration": 38,
    "start_time": "2022-04-25T14:44:01.786Z"
   },
   {
    "duration": 30,
    "start_time": "2022-04-25T14:44:01.826Z"
   },
   {
    "duration": 845,
    "start_time": "2022-04-25T14:44:01.858Z"
   },
   {
    "duration": 197,
    "start_time": "2022-04-25T14:44:02.706Z"
   },
   {
    "duration": 97,
    "start_time": "2022-04-25T14:44:02.905Z"
   },
   {
    "duration": 21,
    "start_time": "2022-04-25T14:44:03.005Z"
   },
   {
    "duration": 83,
    "start_time": "2022-04-25T14:44:03.028Z"
   },
   {
    "duration": 22,
    "start_time": "2022-04-25T14:44:03.114Z"
   },
   {
    "duration": 92,
    "start_time": "2022-04-25T14:44:03.138Z"
   },
   {
    "duration": 22,
    "start_time": "2022-04-25T14:44:03.232Z"
   },
   {
    "duration": 1211,
    "start_time": "2022-04-25T14:44:03.256Z"
   },
   {
    "duration": 55,
    "start_time": "2022-04-25T14:44:04.470Z"
   },
   {
    "duration": 29,
    "start_time": "2022-04-25T14:44:04.528Z"
   },
   {
    "duration": 747,
    "start_time": "2022-04-25T14:44:04.559Z"
   },
   {
    "duration": 50,
    "start_time": "2022-04-25T14:44:05.308Z"
   },
   {
    "duration": 1794,
    "start_time": "2022-04-25T14:44:05.361Z"
   },
   {
    "duration": 7,
    "start_time": "2022-04-25T14:44:07.157Z"
   },
   {
    "duration": 49,
    "start_time": "2022-04-25T14:44:07.166Z"
   },
   {
    "duration": 3,
    "start_time": "2022-04-25T14:44:07.217Z"
   },
   {
    "duration": 428,
    "start_time": "2022-04-25T14:44:07.223Z"
   },
   {
    "duration": 3380,
    "start_time": "2022-04-25T14:44:07.654Z"
   },
   {
    "duration": 5076,
    "start_time": "2022-04-25T14:44:11.036Z"
   },
   {
    "duration": 2126,
    "start_time": "2022-04-25T14:44:16.114Z"
   },
   {
    "duration": 3786,
    "start_time": "2022-04-25T14:44:18.242Z"
   },
   {
    "duration": 4208,
    "start_time": "2022-04-25T14:44:22.030Z"
   },
   {
    "duration": 1942,
    "start_time": "2022-04-25T14:44:26.240Z"
   },
   {
    "duration": 3140,
    "start_time": "2022-04-25T14:44:28.187Z"
   },
   {
    "duration": 4270,
    "start_time": "2022-04-25T14:44:31.333Z"
   },
   {
    "duration": 1737,
    "start_time": "2022-04-25T14:44:35.606Z"
   },
   {
    "duration": 3258,
    "start_time": "2022-04-25T14:44:37.346Z"
   },
   {
    "duration": 142,
    "start_time": "2022-04-25T14:52:06.269Z"
   },
   {
    "duration": 242,
    "start_time": "2022-04-25T14:52:09.941Z"
   },
   {
    "duration": 123,
    "start_time": "2022-04-25T14:52:55.622Z"
   },
   {
    "duration": 130,
    "start_time": "2022-04-25T14:53:13.876Z"
   },
   {
    "duration": 22,
    "start_time": "2022-04-25T14:55:30.431Z"
   },
   {
    "duration": 1731,
    "start_time": "2022-04-25T14:56:40.641Z"
   },
   {
    "duration": 19,
    "start_time": "2022-04-25T14:59:08.551Z"
   },
   {
    "duration": 28,
    "start_time": "2022-04-25T14:59:17.868Z"
   },
   {
    "duration": 135,
    "start_time": "2022-04-25T14:59:35.861Z"
   },
   {
    "duration": 25,
    "start_time": "2022-04-25T15:00:10.005Z"
   },
   {
    "duration": 41,
    "start_time": "2022-04-25T15:00:40.906Z"
   },
   {
    "duration": 46,
    "start_time": "2022-04-25T15:00:53.220Z"
   },
   {
    "duration": 704,
    "start_time": "2022-04-25T15:00:55.623Z"
   },
   {
    "duration": 44,
    "start_time": "2022-04-25T15:01:07.304Z"
   },
   {
    "duration": 24,
    "start_time": "2022-04-25T15:01:08.219Z"
   },
   {
    "duration": 146,
    "start_time": "2022-04-25T15:04:20.995Z"
   },
   {
    "duration": 121,
    "start_time": "2022-04-25T15:04:32.355Z"
   },
   {
    "duration": 79,
    "start_time": "2022-04-25T15:04:50.874Z"
   },
   {
    "duration": 2861,
    "start_time": "2022-04-25T15:07:57.534Z"
   },
   {
    "duration": 1812,
    "start_time": "2022-04-25T15:08:09.852Z"
   },
   {
    "duration": 1106,
    "start_time": "2022-04-25T15:08:21.706Z"
   },
   {
    "duration": 19,
    "start_time": "2022-04-25T15:09:30.843Z"
   },
   {
    "duration": 176,
    "start_time": "2022-04-25T15:10:51.435Z"
   },
   {
    "duration": 133,
    "start_time": "2022-04-25T15:11:00.559Z"
   },
   {
    "duration": 27,
    "start_time": "2022-04-25T15:11:07.995Z"
   },
   {
    "duration": 1122,
    "start_time": "2022-04-25T15:11:27.790Z"
   },
   {
    "duration": 24,
    "start_time": "2022-04-25T15:11:41.595Z"
   },
   {
    "duration": 28,
    "start_time": "2022-04-25T15:11:59.783Z"
   },
   {
    "duration": 13,
    "start_time": "2022-04-25T15:12:12.632Z"
   },
   {
    "duration": 24,
    "start_time": "2022-04-25T15:12:16.574Z"
   },
   {
    "duration": 12,
    "start_time": "2022-04-25T15:12:20.901Z"
   },
   {
    "duration": 7,
    "start_time": "2022-04-25T15:12:22.708Z"
   },
   {
    "duration": 742,
    "start_time": "2022-04-25T15:13:01.874Z"
   },
   {
    "duration": 851,
    "start_time": "2022-04-25T15:13:15.053Z"
   },
   {
    "duration": 2207,
    "start_time": "2022-04-25T15:13:41.130Z"
   },
   {
    "duration": 928,
    "start_time": "2022-04-25T15:14:16.753Z"
   },
   {
    "duration": 1060,
    "start_time": "2022-04-25T15:14:31.858Z"
   },
   {
    "duration": 902,
    "start_time": "2022-04-25T15:14:40.679Z"
   },
   {
    "duration": 209,
    "start_time": "2022-04-25T15:18:23.634Z"
   },
   {
    "duration": 135,
    "start_time": "2022-04-25T15:22:40.102Z"
   },
   {
    "duration": 121,
    "start_time": "2022-04-25T15:22:48.620Z"
   },
   {
    "duration": 13,
    "start_time": "2022-04-25T15:24:50.618Z"
   },
   {
    "duration": 20,
    "start_time": "2022-04-25T15:24:56.960Z"
   },
   {
    "duration": 1401,
    "start_time": "2022-04-25T15:25:05.283Z"
   },
   {
    "duration": 3791,
    "start_time": "2022-04-25T15:25:24.519Z"
   },
   {
    "duration": 24,
    "start_time": "2022-04-25T15:25:28.314Z"
   },
   {
    "duration": 6583,
    "start_time": "2022-04-25T15:25:28.341Z"
   },
   {
    "duration": 7,
    "start_time": "2022-04-25T15:25:34.926Z"
   },
   {
    "duration": 219,
    "start_time": "2022-04-25T15:25:34.936Z"
   },
   {
    "duration": 400,
    "start_time": "2022-04-25T15:25:35.157Z"
   },
   {
    "duration": 292,
    "start_time": "2022-04-25T15:25:35.559Z"
   },
   {
    "duration": 10,
    "start_time": "2022-04-25T15:25:35.854Z"
   },
   {
    "duration": 12,
    "start_time": "2022-04-25T15:25:35.882Z"
   },
   {
    "duration": 13,
    "start_time": "2022-04-25T15:25:35.896Z"
   },
   {
    "duration": 12,
    "start_time": "2022-04-25T15:25:35.911Z"
   },
   {
    "duration": 15,
    "start_time": "2022-04-25T15:25:35.925Z"
   },
   {
    "duration": 52,
    "start_time": "2022-04-25T15:25:35.942Z"
   },
   {
    "duration": 12,
    "start_time": "2022-04-25T15:25:35.998Z"
   },
   {
    "duration": 17,
    "start_time": "2022-04-25T15:25:36.012Z"
   },
   {
    "duration": 770,
    "start_time": "2022-04-25T15:25:36.031Z"
   },
   {
    "duration": 211,
    "start_time": "2022-04-25T15:25:36.803Z"
   },
   {
    "duration": 88,
    "start_time": "2022-04-25T15:25:37.016Z"
   },
   {
    "duration": 22,
    "start_time": "2022-04-25T15:25:37.106Z"
   },
   {
    "duration": 91,
    "start_time": "2022-04-25T15:25:37.130Z"
   },
   {
    "duration": 20,
    "start_time": "2022-04-25T15:25:37.223Z"
   },
   {
    "duration": 81,
    "start_time": "2022-04-25T15:25:37.245Z"
   },
   {
    "duration": 23,
    "start_time": "2022-04-25T15:25:37.329Z"
   },
   {
    "duration": 1205,
    "start_time": "2022-04-25T15:25:37.354Z"
   },
   {
    "duration": 63,
    "start_time": "2022-04-25T15:25:38.562Z"
   },
   {
    "duration": 28,
    "start_time": "2022-04-25T15:25:38.627Z"
   },
   {
    "duration": 670,
    "start_time": "2022-04-25T15:25:38.657Z"
   },
   {
    "duration": 64,
    "start_time": "2022-04-25T15:25:39.329Z"
   },
   {
    "duration": 33,
    "start_time": "2022-04-25T15:30:03.508Z"
   },
   {
    "duration": 156,
    "start_time": "2022-04-25T15:30:30.092Z"
   },
   {
    "duration": 33,
    "start_time": "2022-04-25T15:30:36.868Z"
   },
   {
    "duration": 25,
    "start_time": "2022-04-25T15:31:09.808Z"
   },
   {
    "duration": 24,
    "start_time": "2022-04-25T15:31:21.662Z"
   },
   {
    "duration": 5,
    "start_time": "2022-04-25T15:32:09.727Z"
   },
   {
    "duration": 6,
    "start_time": "2022-04-25T15:32:38.561Z"
   },
   {
    "duration": 40,
    "start_time": "2022-04-25T15:33:02.932Z"
   },
   {
    "duration": 21,
    "start_time": "2022-04-25T15:33:23.306Z"
   },
   {
    "duration": 3701,
    "start_time": "2022-04-25T15:33:38.063Z"
   },
   {
    "duration": 48,
    "start_time": "2022-04-25T15:33:41.769Z"
   },
   {
    "duration": 934,
    "start_time": "2022-04-25T15:33:41.821Z"
   },
   {
    "duration": 8,
    "start_time": "2022-04-25T15:33:42.760Z"
   },
   {
    "duration": 166,
    "start_time": "2022-04-25T15:33:42.771Z"
   },
   {
    "duration": 454,
    "start_time": "2022-04-25T15:33:42.939Z"
   },
   {
    "duration": 285,
    "start_time": "2022-04-25T15:33:43.397Z"
   },
   {
    "duration": 20,
    "start_time": "2022-04-25T15:33:43.686Z"
   },
   {
    "duration": 29,
    "start_time": "2022-04-25T15:33:43.708Z"
   },
   {
    "duration": 34,
    "start_time": "2022-04-25T15:33:43.741Z"
   },
   {
    "duration": 48,
    "start_time": "2022-04-25T15:33:43.777Z"
   },
   {
    "duration": 21,
    "start_time": "2022-04-25T15:33:43.828Z"
   },
   {
    "duration": 21,
    "start_time": "2022-04-25T15:33:43.853Z"
   },
   {
    "duration": 47,
    "start_time": "2022-04-25T15:33:43.877Z"
   },
   {
    "duration": 18,
    "start_time": "2022-04-25T15:33:43.927Z"
   },
   {
    "duration": 916,
    "start_time": "2022-04-25T15:33:43.947Z"
   },
   {
    "duration": 216,
    "start_time": "2022-04-25T15:33:44.866Z"
   },
   {
    "duration": 89,
    "start_time": "2022-04-25T15:33:45.088Z"
   },
   {
    "duration": 23,
    "start_time": "2022-04-25T15:33:45.182Z"
   },
   {
    "duration": 93,
    "start_time": "2022-04-25T15:33:45.208Z"
   },
   {
    "duration": 27,
    "start_time": "2022-04-25T15:33:45.304Z"
   },
   {
    "duration": 89,
    "start_time": "2022-04-25T15:33:45.333Z"
   },
   {
    "duration": 31,
    "start_time": "2022-04-25T15:33:45.424Z"
   },
   {
    "duration": 1317,
    "start_time": "2022-04-25T15:33:45.458Z"
   },
   {
    "duration": 55,
    "start_time": "2022-04-25T15:34:22.938Z"
   },
   {
    "duration": 3973,
    "start_time": "2022-04-25T15:34:42.231Z"
   },
   {
    "duration": 34,
    "start_time": "2022-04-25T15:34:46.208Z"
   },
   {
    "duration": 1020,
    "start_time": "2022-04-25T15:34:46.244Z"
   },
   {
    "duration": 7,
    "start_time": "2022-04-25T15:34:47.267Z"
   },
   {
    "duration": 177,
    "start_time": "2022-04-25T15:34:47.277Z"
   },
   {
    "duration": 459,
    "start_time": "2022-04-25T15:34:47.456Z"
   },
   {
    "duration": 279,
    "start_time": "2022-04-25T15:34:47.917Z"
   },
   {
    "duration": 22,
    "start_time": "2022-04-25T15:34:48.199Z"
   },
   {
    "duration": 15,
    "start_time": "2022-04-25T15:34:48.224Z"
   },
   {
    "duration": 13,
    "start_time": "2022-04-25T15:34:48.243Z"
   },
   {
    "duration": 65,
    "start_time": "2022-04-25T15:34:48.258Z"
   },
   {
    "duration": 16,
    "start_time": "2022-04-25T15:34:48.326Z"
   },
   {
    "duration": 14,
    "start_time": "2022-04-25T15:34:48.344Z"
   },
   {
    "duration": 11,
    "start_time": "2022-04-25T15:34:48.360Z"
   },
   {
    "duration": 39,
    "start_time": "2022-04-25T15:34:48.373Z"
   },
   {
    "duration": 904,
    "start_time": "2022-04-25T15:34:48.417Z"
   },
   {
    "duration": 231,
    "start_time": "2022-04-25T15:34:49.325Z"
   },
   {
    "duration": 92,
    "start_time": "2022-04-25T15:34:49.558Z"
   },
   {
    "duration": 36,
    "start_time": "2022-04-25T15:34:49.652Z"
   },
   {
    "duration": 98,
    "start_time": "2022-04-25T15:34:49.691Z"
   },
   {
    "duration": 34,
    "start_time": "2022-04-25T15:34:49.794Z"
   },
   {
    "duration": 92,
    "start_time": "2022-04-25T15:34:49.830Z"
   },
   {
    "duration": 22,
    "start_time": "2022-04-25T15:34:49.925Z"
   },
   {
    "duration": 1298,
    "start_time": "2022-04-25T15:34:49.950Z"
   },
   {
    "duration": 25,
    "start_time": "2022-04-25T15:35:19.028Z"
   },
   {
    "duration": 45,
    "start_time": "2022-04-25T15:35:34.821Z"
   },
   {
    "duration": 5113,
    "start_time": "2022-04-25T15:36:00.224Z"
   },
   {
    "duration": 49,
    "start_time": "2022-04-25T15:36:05.341Z"
   },
   {
    "duration": 1256,
    "start_time": "2022-04-25T15:36:05.393Z"
   },
   {
    "duration": 7,
    "start_time": "2022-04-25T15:36:06.652Z"
   },
   {
    "duration": 207,
    "start_time": "2022-04-25T15:36:06.662Z"
   },
   {
    "duration": 463,
    "start_time": "2022-04-25T15:36:06.871Z"
   },
   {
    "duration": 296,
    "start_time": "2022-04-25T15:36:07.336Z"
   },
   {
    "duration": 10,
    "start_time": "2022-04-25T15:36:07.634Z"
   },
   {
    "duration": 12,
    "start_time": "2022-04-25T15:36:07.647Z"
   },
   {
    "duration": 13,
    "start_time": "2022-04-25T15:36:07.661Z"
   },
   {
    "duration": 18,
    "start_time": "2022-04-25T15:36:07.682Z"
   },
   {
    "duration": 30,
    "start_time": "2022-04-25T15:36:07.703Z"
   },
   {
    "duration": 13,
    "start_time": "2022-04-25T15:36:07.736Z"
   },
   {
    "duration": 10,
    "start_time": "2022-04-25T15:36:07.754Z"
   },
   {
    "duration": 20,
    "start_time": "2022-04-25T15:36:07.766Z"
   },
   {
    "duration": 926,
    "start_time": "2022-04-25T15:36:07.788Z"
   },
   {
    "duration": 225,
    "start_time": "2022-04-25T15:36:08.718Z"
   },
   {
    "duration": 84,
    "start_time": "2022-04-25T15:36:08.945Z"
   },
   {
    "duration": 23,
    "start_time": "2022-04-25T15:36:09.032Z"
   },
   {
    "duration": 164,
    "start_time": "2022-04-25T15:36:09.058Z"
   },
   {
    "duration": 96,
    "start_time": "2022-04-25T15:36:09.228Z"
   },
   {
    "duration": 107,
    "start_time": "2022-04-25T15:36:09.327Z"
   },
   {
    "duration": 24,
    "start_time": "2022-04-25T15:36:09.438Z"
   },
   {
    "duration": 1403,
    "start_time": "2022-04-25T15:36:09.464Z"
   },
   {
    "duration": 67,
    "start_time": "2022-04-25T15:36:10.869Z"
   },
   {
    "duration": 47,
    "start_time": "2022-04-25T15:36:10.939Z"
   },
   {
    "duration": 700,
    "start_time": "2022-04-25T15:36:10.989Z"
   },
   {
    "duration": 76,
    "start_time": "2022-04-25T15:36:11.692Z"
   },
   {
    "duration": 1081,
    "start_time": "2022-04-25T15:36:11.770Z"
   },
   {
    "duration": 1183,
    "start_time": "2022-04-25T15:36:12.854Z"
   },
   {
    "duration": 7,
    "start_time": "2022-04-25T15:36:14.039Z"
   },
   {
    "duration": 65,
    "start_time": "2022-04-25T15:36:14.048Z"
   },
   {
    "duration": 16,
    "start_time": "2022-04-25T15:36:14.118Z"
   },
   {
    "duration": 415,
    "start_time": "2022-04-25T15:36:14.137Z"
   },
   {
    "duration": 3546,
    "start_time": "2022-04-25T15:36:14.554Z"
   },
   {
    "duration": 5526,
    "start_time": "2022-04-25T15:36:18.106Z"
   },
   {
    "duration": 2223,
    "start_time": "2022-04-25T15:36:23.635Z"
   },
   {
    "duration": 4173,
    "start_time": "2022-04-25T15:36:25.860Z"
   },
   {
    "duration": 4972,
    "start_time": "2022-04-25T15:36:30.035Z"
   },
   {
    "duration": 2047,
    "start_time": "2022-04-25T15:36:35.011Z"
   },
   {
    "duration": 3488,
    "start_time": "2022-04-25T15:36:37.064Z"
   },
   {
    "duration": 4651,
    "start_time": "2022-04-25T15:36:40.555Z"
   },
   {
    "duration": 2278,
    "start_time": "2022-04-25T15:36:45.210Z"
   },
   {
    "duration": 3473,
    "start_time": "2022-04-25T15:36:47.491Z"
   },
   {
    "duration": 43,
    "start_time": "2022-04-25T15:36:50.968Z"
   },
   {
    "duration": 3992,
    "start_time": "2022-04-25T15:36:55.759Z"
   },
   {
    "duration": 25,
    "start_time": "2022-04-25T15:36:59.754Z"
   },
   {
    "duration": 1046,
    "start_time": "2022-04-25T15:36:59.784Z"
   },
   {
    "duration": 8,
    "start_time": "2022-04-25T15:37:00.834Z"
   },
   {
    "duration": 196,
    "start_time": "2022-04-25T15:37:00.845Z"
   },
   {
    "duration": 506,
    "start_time": "2022-04-25T15:37:01.043Z"
   },
   {
    "duration": 309,
    "start_time": "2022-04-25T15:37:01.552Z"
   },
   {
    "duration": 177,
    "start_time": "2022-04-25T15:37:01.864Z"
   },
   {
    "duration": 24,
    "start_time": "2022-04-25T15:37:02.044Z"
   },
   {
    "duration": 62,
    "start_time": "2022-04-25T15:37:02.073Z"
   },
   {
    "duration": 20,
    "start_time": "2022-04-25T15:37:02.137Z"
   },
   {
    "duration": 18,
    "start_time": "2022-04-25T15:37:02.160Z"
   },
   {
    "duration": 58,
    "start_time": "2022-04-25T15:37:02.183Z"
   },
   {
    "duration": 30,
    "start_time": "2022-04-25T15:37:02.243Z"
   },
   {
    "duration": 52,
    "start_time": "2022-04-25T15:37:02.276Z"
   },
   {
    "duration": 860,
    "start_time": "2022-04-25T15:37:02.331Z"
   },
   {
    "duration": 235,
    "start_time": "2022-04-25T15:37:03.194Z"
   },
   {
    "duration": 109,
    "start_time": "2022-04-25T15:37:03.432Z"
   },
   {
    "duration": 20,
    "start_time": "2022-04-25T15:37:03.543Z"
   },
   {
    "duration": 83,
    "start_time": "2022-04-25T15:37:03.565Z"
   },
   {
    "duration": 20,
    "start_time": "2022-04-25T15:37:03.651Z"
   },
   {
    "duration": 79,
    "start_time": "2022-04-25T15:37:03.681Z"
   },
   {
    "duration": 34,
    "start_time": "2022-04-25T15:37:03.762Z"
   },
   {
    "duration": 1272,
    "start_time": "2022-04-25T15:37:03.798Z"
   },
   {
    "duration": 40,
    "start_time": "2022-04-25T15:37:05.073Z"
   },
   {
    "duration": 44,
    "start_time": "2022-04-25T15:37:05.115Z"
   },
   {
    "duration": 717,
    "start_time": "2022-04-25T15:37:05.161Z"
   },
   {
    "duration": 75,
    "start_time": "2022-04-25T15:37:05.895Z"
   },
   {
    "duration": 986,
    "start_time": "2022-04-25T15:37:05.972Z"
   },
   {
    "duration": 1234,
    "start_time": "2022-04-25T15:37:06.961Z"
   },
   {
    "duration": 7,
    "start_time": "2022-04-25T15:37:08.198Z"
   },
   {
    "duration": 74,
    "start_time": "2022-04-25T15:37:08.208Z"
   },
   {
    "duration": 8,
    "start_time": "2022-04-25T15:37:08.285Z"
   },
   {
    "duration": 572,
    "start_time": "2022-04-25T15:37:08.297Z"
   },
   {
    "duration": 3428,
    "start_time": "2022-04-25T15:37:08.871Z"
   },
   {
    "duration": 3931,
    "start_time": "2022-04-25T15:37:47.010Z"
   },
   {
    "duration": 27,
    "start_time": "2022-04-25T15:37:50.944Z"
   },
   {
    "duration": 1074,
    "start_time": "2022-04-25T15:37:50.973Z"
   },
   {
    "duration": 8,
    "start_time": "2022-04-25T15:37:52.049Z"
   },
   {
    "duration": 185,
    "start_time": "2022-04-25T15:37:52.059Z"
   },
   {
    "duration": 579,
    "start_time": "2022-04-25T15:37:52.246Z"
   },
   {
    "duration": 394,
    "start_time": "2022-04-25T15:37:52.828Z"
   },
   {
    "duration": 10,
    "start_time": "2022-04-25T15:37:53.225Z"
   },
   {
    "duration": 13,
    "start_time": "2022-04-25T15:37:53.238Z"
   },
   {
    "duration": 31,
    "start_time": "2022-04-25T15:37:53.253Z"
   },
   {
    "duration": 16,
    "start_time": "2022-04-25T15:37:53.286Z"
   },
   {
    "duration": 29,
    "start_time": "2022-04-25T15:37:53.305Z"
   },
   {
    "duration": 14,
    "start_time": "2022-04-25T15:37:53.337Z"
   },
   {
    "duration": 9,
    "start_time": "2022-04-25T15:37:53.353Z"
   },
   {
    "duration": 50,
    "start_time": "2022-04-25T15:37:53.365Z"
   },
   {
    "duration": 857,
    "start_time": "2022-04-25T15:37:53.418Z"
   },
   {
    "duration": 231,
    "start_time": "2022-04-25T15:37:54.282Z"
   },
   {
    "duration": 94,
    "start_time": "2022-04-25T15:37:54.517Z"
   },
   {
    "duration": 25,
    "start_time": "2022-04-25T15:37:54.614Z"
   },
   {
    "duration": 94,
    "start_time": "2022-04-25T15:37:54.641Z"
   },
   {
    "duration": 22,
    "start_time": "2022-04-25T15:37:54.737Z"
   },
   {
    "duration": 93,
    "start_time": "2022-04-25T15:37:54.761Z"
   },
   {
    "duration": 31,
    "start_time": "2022-04-25T15:37:54.856Z"
   },
   {
    "duration": 1421,
    "start_time": "2022-04-25T15:37:54.895Z"
   },
   {
    "duration": 48,
    "start_time": "2022-04-25T15:37:56.319Z"
   },
   {
    "duration": 50,
    "start_time": "2022-04-25T15:37:56.370Z"
   },
   {
    "duration": 719,
    "start_time": "2022-04-25T15:37:56.425Z"
   },
   {
    "duration": 75,
    "start_time": "2022-04-25T15:37:57.147Z"
   },
   {
    "duration": 982,
    "start_time": "2022-04-25T15:37:57.225Z"
   },
   {
    "duration": 1190,
    "start_time": "2022-04-25T15:37:58.210Z"
   },
   {
    "duration": 14,
    "start_time": "2022-04-25T15:37:59.402Z"
   },
   {
    "duration": 74,
    "start_time": "2022-04-25T15:37:59.419Z"
   },
   {
    "duration": 6,
    "start_time": "2022-04-25T15:37:59.496Z"
   },
   {
    "duration": 420,
    "start_time": "2022-04-25T15:37:59.507Z"
   },
   {
    "duration": 3373,
    "start_time": "2022-04-25T15:37:59.929Z"
   },
   {
    "duration": 5368,
    "start_time": "2022-04-25T15:38:03.305Z"
   },
   {
    "duration": 2571,
    "start_time": "2022-04-25T15:38:08.675Z"
   },
   {
    "duration": 4058,
    "start_time": "2022-04-25T15:38:11.248Z"
   },
   {
    "duration": 4955,
    "start_time": "2022-04-25T15:38:15.309Z"
   },
   {
    "duration": 2258,
    "start_time": "2022-04-25T15:38:20.266Z"
   },
   {
    "duration": 3548,
    "start_time": "2022-04-25T15:38:22.526Z"
   },
   {
    "duration": 5771,
    "start_time": "2022-04-25T15:38:26.076Z"
   },
   {
    "duration": 2051,
    "start_time": "2022-04-25T15:38:31.854Z"
   },
   {
    "duration": 3311,
    "start_time": "2022-04-25T15:38:33.913Z"
   },
   {
    "duration": 5,
    "start_time": "2022-04-25T15:38:43.959Z"
   },
   {
    "duration": 156,
    "start_time": "2022-04-25T15:38:47.622Z"
   },
   {
    "duration": 33,
    "start_time": "2022-04-25T15:38:51.812Z"
   },
   {
    "duration": 3672,
    "start_time": "2022-04-25T16:07:04.874Z"
   },
   {
    "duration": 1677,
    "start_time": "2022-04-25T16:07:08.550Z"
   },
   {
    "duration": 1050,
    "start_time": "2022-04-25T16:07:10.230Z"
   },
   {
    "duration": 9,
    "start_time": "2022-04-25T16:07:11.287Z"
   },
   {
    "duration": 217,
    "start_time": "2022-04-25T16:07:11.301Z"
   },
   {
    "duration": 460,
    "start_time": "2022-04-25T16:07:11.520Z"
   },
   {
    "duration": 285,
    "start_time": "2022-04-25T16:07:11.987Z"
   },
   {
    "duration": 19,
    "start_time": "2022-04-25T16:07:12.283Z"
   },
   {
    "duration": 35,
    "start_time": "2022-04-25T16:07:12.305Z"
   },
   {
    "duration": 28,
    "start_time": "2022-04-25T16:07:12.344Z"
   },
   {
    "duration": 28,
    "start_time": "2022-04-25T16:07:12.375Z"
   },
   {
    "duration": 27,
    "start_time": "2022-04-25T16:07:12.406Z"
   },
   {
    "duration": 20,
    "start_time": "2022-04-25T16:07:12.436Z"
   },
   {
    "duration": 11,
    "start_time": "2022-04-25T16:07:12.463Z"
   },
   {
    "duration": 44,
    "start_time": "2022-04-25T16:07:12.476Z"
   },
   {
    "duration": 901,
    "start_time": "2022-04-25T16:07:12.523Z"
   },
   {
    "duration": 221,
    "start_time": "2022-04-25T16:07:13.426Z"
   },
   {
    "duration": 100,
    "start_time": "2022-04-25T16:07:13.649Z"
   },
   {
    "duration": 33,
    "start_time": "2022-04-25T16:07:13.751Z"
   },
   {
    "duration": 70,
    "start_time": "2022-04-25T16:07:13.789Z"
   },
   {
    "duration": 143,
    "start_time": "2022-04-25T16:07:13.862Z"
   },
   {
    "duration": 78,
    "start_time": "2022-04-25T16:07:14.008Z"
   },
   {
    "duration": 34,
    "start_time": "2022-04-25T16:07:14.089Z"
   },
   {
    "duration": 1272,
    "start_time": "2022-04-25T16:07:14.127Z"
   },
   {
    "duration": 46,
    "start_time": "2022-04-25T16:07:15.401Z"
   },
   {
    "duration": 34,
    "start_time": "2022-04-25T16:07:15.450Z"
   },
   {
    "duration": 650,
    "start_time": "2022-04-25T16:07:15.487Z"
   },
   {
    "duration": 69,
    "start_time": "2022-04-25T16:07:16.140Z"
   },
   {
    "duration": 1055,
    "start_time": "2022-04-25T16:07:16.212Z"
   },
   {
    "duration": 1195,
    "start_time": "2022-04-25T16:07:17.270Z"
   },
   {
    "duration": 6,
    "start_time": "2022-04-25T16:07:18.467Z"
   },
   {
    "duration": 38,
    "start_time": "2022-04-25T16:07:18.484Z"
   },
   {
    "duration": 3,
    "start_time": "2022-04-25T16:07:18.524Z"
   },
   {
    "duration": 380,
    "start_time": "2022-04-25T16:07:18.529Z"
   },
   {
    "duration": 3222,
    "start_time": "2022-04-25T16:07:18.911Z"
   },
   {
    "duration": 5060,
    "start_time": "2022-04-25T16:07:22.135Z"
   },
   {
    "duration": 2306,
    "start_time": "2022-04-25T16:07:27.198Z"
   },
   {
    "duration": 4030,
    "start_time": "2022-04-25T16:07:29.507Z"
   },
   {
    "duration": 4416,
    "start_time": "2022-04-25T16:07:33.539Z"
   },
   {
    "duration": 1872,
    "start_time": "2022-04-25T16:07:37.957Z"
   },
   {
    "duration": 3309,
    "start_time": "2022-04-25T16:07:39.837Z"
   },
   {
    "duration": 4726,
    "start_time": "2022-04-25T16:07:43.148Z"
   },
   {
    "duration": 1755,
    "start_time": "2022-04-25T16:07:47.882Z"
   },
   {
    "duration": 3219,
    "start_time": "2022-04-25T16:07:49.640Z"
   },
   {
    "duration": 4017,
    "start_time": "2022-04-25T16:51:46.140Z"
   },
   {
    "duration": 1715,
    "start_time": "2022-04-25T16:51:50.160Z"
   },
   {
    "duration": 1000,
    "start_time": "2022-04-25T16:51:51.877Z"
   },
   {
    "duration": 21,
    "start_time": "2022-04-25T16:51:52.880Z"
   },
   {
    "duration": 189,
    "start_time": "2022-04-25T16:51:52.904Z"
   },
   {
    "duration": 467,
    "start_time": "2022-04-25T16:51:53.096Z"
   },
   {
    "duration": 318,
    "start_time": "2022-04-25T16:51:53.566Z"
   },
   {
    "duration": 15,
    "start_time": "2022-04-25T16:51:53.887Z"
   },
   {
    "duration": 25,
    "start_time": "2022-04-25T16:51:53.905Z"
   },
   {
    "duration": 12,
    "start_time": "2022-04-25T16:51:53.934Z"
   },
   {
    "duration": 8,
    "start_time": "2022-04-25T16:51:53.948Z"
   },
   {
    "duration": 55,
    "start_time": "2022-04-25T16:51:53.959Z"
   },
   {
    "duration": 17,
    "start_time": "2022-04-25T16:51:54.018Z"
   },
   {
    "duration": 9,
    "start_time": "2022-04-25T16:51:54.038Z"
   },
   {
    "duration": 16,
    "start_time": "2022-04-25T16:51:54.049Z"
   },
   {
    "duration": 920,
    "start_time": "2022-04-25T16:51:54.067Z"
   },
   {
    "duration": 237,
    "start_time": "2022-04-25T16:51:54.990Z"
   },
   {
    "duration": 105,
    "start_time": "2022-04-25T16:51:55.230Z"
   },
   {
    "duration": 21,
    "start_time": "2022-04-25T16:51:55.337Z"
   },
   {
    "duration": 97,
    "start_time": "2022-04-25T16:51:55.360Z"
   },
   {
    "duration": 101,
    "start_time": "2022-04-25T16:51:55.459Z"
   },
   {
    "duration": 84,
    "start_time": "2022-04-25T16:51:55.562Z"
   },
   {
    "duration": 40,
    "start_time": "2022-04-25T16:51:55.649Z"
   },
   {
    "duration": 1363,
    "start_time": "2022-04-25T16:51:55.692Z"
   },
   {
    "duration": 65,
    "start_time": "2022-04-25T16:51:57.057Z"
   },
   {
    "duration": 27,
    "start_time": "2022-04-25T16:51:57.124Z"
   },
   {
    "duration": 697,
    "start_time": "2022-04-25T16:51:57.153Z"
   },
   {
    "duration": 63,
    "start_time": "2022-04-25T16:51:57.856Z"
   },
   {
    "duration": 1218,
    "start_time": "2022-04-25T16:51:57.923Z"
   },
   {
    "duration": 1299,
    "start_time": "2022-04-25T16:51:59.144Z"
   },
   {
    "duration": 5,
    "start_time": "2022-04-25T16:52:00.446Z"
   },
   {
    "duration": 67,
    "start_time": "2022-04-25T16:52:00.453Z"
   },
   {
    "duration": 8,
    "start_time": "2022-04-25T16:52:00.524Z"
   },
   {
    "duration": 398,
    "start_time": "2022-04-25T16:52:00.534Z"
   },
   {
    "duration": 3482,
    "start_time": "2022-04-25T16:52:00.934Z"
   },
   {
    "duration": 5507,
    "start_time": "2022-04-25T16:52:04.422Z"
   },
   {
    "duration": 2404,
    "start_time": "2022-04-25T16:52:09.932Z"
   },
   {
    "duration": 4133,
    "start_time": "2022-04-25T16:52:12.338Z"
   },
   {
    "duration": 4895,
    "start_time": "2022-04-25T16:52:16.473Z"
   },
   {
    "duration": 2166,
    "start_time": "2022-04-25T16:52:21.371Z"
   },
   {
    "duration": 3714,
    "start_time": "2022-04-25T16:52:23.540Z"
   },
   {
    "duration": 4699,
    "start_time": "2022-04-25T16:52:27.256Z"
   },
   {
    "duration": 1995,
    "start_time": "2022-04-25T16:52:31.957Z"
   },
   {
    "duration": 3787,
    "start_time": "2022-04-25T16:52:33.955Z"
   },
   {
    "duration": 6,
    "start_time": "2022-04-25T16:57:46.103Z"
   },
   {
    "duration": 663,
    "start_time": "2022-04-25T16:58:06.748Z"
   },
   {
    "duration": 4,
    "start_time": "2022-04-25T16:58:40.016Z"
   },
   {
    "duration": 13,
    "start_time": "2022-04-25T16:58:41.963Z"
   },
   {
    "duration": 4,
    "start_time": "2022-04-25T16:59:18.762Z"
   },
   {
    "duration": 664,
    "start_time": "2022-04-25T16:59:21.064Z"
   },
   {
    "duration": 136,
    "start_time": "2022-04-25T16:59:40.670Z"
   },
   {
    "duration": 555,
    "start_time": "2022-04-25T17:00:09.619Z"
   },
   {
    "duration": 4,
    "start_time": "2022-04-25T17:01:11.308Z"
   },
   {
    "duration": 338,
    "start_time": "2022-04-25T17:01:13.534Z"
   },
   {
    "duration": 166,
    "start_time": "2022-04-25T17:01:42.698Z"
   },
   {
    "duration": 17,
    "start_time": "2022-04-25T17:02:21.881Z"
   },
   {
    "duration": 4,
    "start_time": "2022-04-25T17:02:22.948Z"
   },
   {
    "duration": 444,
    "start_time": "2022-04-25T17:02:23.724Z"
   },
   {
    "duration": 4,
    "start_time": "2022-04-25T17:02:50.370Z"
   },
   {
    "duration": 160,
    "start_time": "2022-04-25T17:02:52.398Z"
   },
   {
    "duration": 4985,
    "start_time": "2022-04-25T18:08:37.007Z"
   },
   {
    "duration": 1586,
    "start_time": "2022-04-25T18:08:41.996Z"
   },
   {
    "duration": 1558,
    "start_time": "2022-04-25T18:08:43.584Z"
   },
   {
    "duration": 7,
    "start_time": "2022-04-25T18:08:45.145Z"
   },
   {
    "duration": 8,
    "start_time": "2022-04-25T18:08:45.155Z"
   },
   {
    "duration": 252,
    "start_time": "2022-04-25T18:08:45.166Z"
   },
   {
    "duration": 457,
    "start_time": "2022-04-25T18:08:45.420Z"
   },
   {
    "duration": 266,
    "start_time": "2022-04-25T18:08:45.882Z"
   },
   {
    "duration": 14,
    "start_time": "2022-04-25T18:08:46.151Z"
   },
   {
    "duration": 27,
    "start_time": "2022-04-25T18:08:46.188Z"
   },
   {
    "duration": 19,
    "start_time": "2022-04-25T18:08:46.218Z"
   },
   {
    "duration": 13,
    "start_time": "2022-04-25T18:08:46.240Z"
   },
   {
    "duration": 31,
    "start_time": "2022-04-25T18:08:46.256Z"
   },
   {
    "duration": 22,
    "start_time": "2022-04-25T18:08:46.290Z"
   },
   {
    "duration": 20,
    "start_time": "2022-04-25T18:08:46.314Z"
   },
   {
    "duration": 16,
    "start_time": "2022-04-25T18:08:46.337Z"
   },
   {
    "duration": 886,
    "start_time": "2022-04-25T18:08:46.355Z"
   },
   {
    "duration": 204,
    "start_time": "2022-04-25T18:08:47.243Z"
   },
   {
    "duration": 102,
    "start_time": "2022-04-25T18:08:47.450Z"
   },
   {
    "duration": 34,
    "start_time": "2022-04-25T18:08:47.554Z"
   },
   {
    "duration": 70,
    "start_time": "2022-04-25T18:08:47.594Z"
   },
   {
    "duration": 92,
    "start_time": "2022-04-25T18:08:47.667Z"
   },
   {
    "duration": 83,
    "start_time": "2022-04-25T18:08:47.762Z"
   },
   {
    "duration": 38,
    "start_time": "2022-04-25T18:08:47.849Z"
   },
   {
    "duration": 1756,
    "start_time": "2022-04-25T18:08:47.891Z"
   },
   {
    "duration": 48,
    "start_time": "2022-04-25T18:08:49.650Z"
   },
   {
    "duration": 28,
    "start_time": "2022-04-25T18:08:49.700Z"
   },
   {
    "duration": 671,
    "start_time": "2022-04-25T18:08:49.734Z"
   },
   {
    "duration": 52,
    "start_time": "2022-04-25T18:08:50.408Z"
   },
   {
    "duration": 1063,
    "start_time": "2022-04-25T18:08:50.462Z"
   },
   {
    "duration": 1197,
    "start_time": "2022-04-25T18:08:51.527Z"
   },
   {
    "duration": 7,
    "start_time": "2022-04-25T18:08:52.727Z"
   },
   {
    "duration": 69,
    "start_time": "2022-04-25T18:08:52.737Z"
   },
   {
    "duration": 6,
    "start_time": "2022-04-25T18:08:52.809Z"
   },
   {
    "duration": 374,
    "start_time": "2022-04-25T18:08:52.820Z"
   },
   {
    "duration": 3136,
    "start_time": "2022-04-25T18:08:53.197Z"
   },
   {
    "duration": 7098,
    "start_time": "2022-04-25T18:08:56.335Z"
   },
   {
    "duration": 2265,
    "start_time": "2022-04-25T18:09:03.436Z"
   },
   {
    "duration": 5017,
    "start_time": "2022-04-25T18:09:05.703Z"
   },
   {
    "duration": 4473,
    "start_time": "2022-04-25T18:09:10.723Z"
   },
   {
    "duration": 2019,
    "start_time": "2022-04-25T18:09:15.199Z"
   },
   {
    "duration": 3296,
    "start_time": "2022-04-25T18:09:17.220Z"
   },
   {
    "duration": 4330,
    "start_time": "2022-04-25T18:09:20.519Z"
   },
   {
    "duration": 1787,
    "start_time": "2022-04-25T18:09:24.851Z"
   },
   {
    "duration": 3195,
    "start_time": "2022-04-25T18:09:26.640Z"
   },
   {
    "duration": 1265,
    "start_time": "2022-05-08T08:38:38.625Z"
   },
   {
    "duration": 111,
    "start_time": "2022-05-08T08:38:39.892Z"
   },
   {
    "duration": 3,
    "start_time": "2022-05-08T08:38:40.005Z"
   },
   {
    "duration": 82,
    "start_time": "2022-05-08T08:38:40.011Z"
   },
   {
    "duration": 19,
    "start_time": "2022-05-08T08:38:40.094Z"
   },
   {
    "duration": 10,
    "start_time": "2022-05-08T08:38:40.115Z"
   },
   {
    "duration": 29,
    "start_time": "2022-05-08T08:38:40.126Z"
   },
   {
    "duration": 15,
    "start_time": "2022-05-08T08:38:40.158Z"
   },
   {
    "duration": 9,
    "start_time": "2022-05-08T08:38:40.175Z"
   },
   {
    "duration": 5,
    "start_time": "2022-05-08T08:38:40.187Z"
   },
   {
    "duration": 6,
    "start_time": "2022-05-08T08:38:40.194Z"
   },
   {
    "duration": 12,
    "start_time": "2022-05-08T08:38:40.201Z"
   },
   {
    "duration": 15,
    "start_time": "2022-05-08T08:38:40.214Z"
   },
   {
    "duration": 188,
    "start_time": "2022-05-08T08:38:40.231Z"
   },
   {
    "duration": 145,
    "start_time": "2022-05-08T08:38:40.420Z"
   },
   {
    "duration": 13,
    "start_time": "2022-05-08T08:38:40.567Z"
   },
   {
    "duration": 7,
    "start_time": "2022-05-08T08:38:40.582Z"
   },
   {
    "duration": 536,
    "start_time": "2022-05-08T08:38:40.590Z"
   },
   {
    "duration": 431,
    "start_time": "2022-05-08T08:38:41.129Z"
   },
   {
    "duration": 14,
    "start_time": "2022-05-08T08:38:41.562Z"
   },
   {
    "duration": 528,
    "start_time": "2022-05-08T08:38:41.577Z"
   },
   {
    "duration": 11,
    "start_time": "2022-05-08T08:38:42.107Z"
   },
   {
    "duration": 24,
    "start_time": "2022-05-08T08:38:42.119Z"
   },
   {
    "duration": 414,
    "start_time": "2022-05-08T08:38:42.145Z"
   },
   {
    "duration": 20,
    "start_time": "2022-05-08T08:38:42.561Z"
   },
   {
    "duration": 502,
    "start_time": "2022-05-08T08:38:42.583Z"
   },
   {
    "duration": 7,
    "start_time": "2022-05-08T08:38:43.087Z"
   },
   {
    "duration": 38,
    "start_time": "2022-05-08T08:38:43.098Z"
   },
   {
    "duration": 331,
    "start_time": "2022-05-08T08:38:43.138Z"
   },
   {
    "duration": 313,
    "start_time": "2022-05-08T08:38:43.471Z"
   },
   {
    "duration": 6,
    "start_time": "2022-05-08T08:38:43.786Z"
   },
   {
    "duration": 422,
    "start_time": "2022-05-08T08:38:43.794Z"
   },
   {
    "duration": 5,
    "start_time": "2022-05-08T08:38:44.218Z"
   },
   {
    "duration": 57,
    "start_time": "2022-05-08T08:38:44.225Z"
   },
   {
    "duration": 86,
    "start_time": "2022-05-08T08:38:44.284Z"
   },
   {
    "duration": 105,
    "start_time": "2022-05-08T08:38:44.372Z"
   },
   {
    "duration": 7,
    "start_time": "2022-05-08T08:38:44.479Z"
   },
   {
    "duration": 11,
    "start_time": "2022-05-08T08:38:44.488Z"
   },
   {
    "duration": 38,
    "start_time": "2022-05-08T08:38:44.500Z"
   },
   {
    "duration": 4,
    "start_time": "2022-05-08T08:38:44.540Z"
   },
   {
    "duration": 28,
    "start_time": "2022-05-08T08:38:44.545Z"
   },
   {
    "duration": 40,
    "start_time": "2022-05-08T08:38:44.575Z"
   },
   {
    "duration": 14,
    "start_time": "2022-05-08T08:38:44.617Z"
   },
   {
    "duration": 18,
    "start_time": "2022-05-08T08:38:44.633Z"
   },
   {
    "duration": 40,
    "start_time": "2022-05-08T08:38:44.653Z"
   },
   {
    "duration": 23,
    "start_time": "2022-05-08T08:38:44.694Z"
   },
   {
    "duration": 32,
    "start_time": "2022-05-08T08:38:44.719Z"
   },
   {
    "duration": 16,
    "start_time": "2022-05-08T08:38:44.753Z"
   },
   {
    "duration": 23,
    "start_time": "2022-05-08T08:38:44.770Z"
   },
   {
    "duration": 2806,
    "start_time": "2022-07-27T09:27:41.400Z"
   },
   {
    "duration": 1167,
    "start_time": "2022-07-27T09:27:44.209Z"
   },
   {
    "duration": 664,
    "start_time": "2022-07-27T09:27:45.378Z"
   },
   {
    "duration": 6,
    "start_time": "2022-07-27T09:27:46.044Z"
   },
   {
    "duration": 53,
    "start_time": "2022-07-27T09:27:46.052Z"
   },
   {
    "duration": 19,
    "start_time": "2022-07-27T09:27:46.107Z"
   },
   {
    "duration": 150,
    "start_time": "2022-07-27T09:27:46.128Z"
   },
   {
    "duration": 62,
    "start_time": "2022-07-27T09:27:46.280Z"
   },
   {
    "duration": 16,
    "start_time": "2022-07-27T09:27:46.343Z"
   },
   {
    "duration": 21,
    "start_time": "2022-07-27T09:27:46.362Z"
   },
   {
    "duration": 1139,
    "start_time": "2022-07-27T09:27:46.384Z"
   },
   {
    "duration": 44,
    "start_time": "2022-07-27T09:27:47.525Z"
   },
   {
    "duration": 110,
    "start_time": "2022-07-27T09:27:47.570Z"
   },
   {
    "duration": 98,
    "start_time": "2022-07-27T09:27:47.682Z"
   },
   {
    "duration": 62,
    "start_time": "2022-07-27T09:27:47.782Z"
   },
   {
    "duration": 12,
    "start_time": "2022-07-27T09:27:47.846Z"
   },
   {
    "duration": 12,
    "start_time": "2022-07-27T09:27:47.860Z"
   },
   {
    "duration": 15,
    "start_time": "2022-07-27T09:27:47.873Z"
   },
   {
    "duration": 41,
    "start_time": "2022-07-27T09:27:47.889Z"
   },
   {
    "duration": 92,
    "start_time": "2022-07-27T09:27:47.931Z"
   },
   {
    "duration": 13,
    "start_time": "2022-07-27T09:27:48.025Z"
   },
   {
    "duration": 332,
    "start_time": "2022-07-27T09:27:48.039Z"
   },
   {
    "duration": 16,
    "start_time": "2022-07-27T09:27:48.373Z"
   },
   {
    "duration": 41,
    "start_time": "2022-07-27T09:27:48.390Z"
   },
   {
    "duration": 15,
    "start_time": "2022-07-27T09:27:48.434Z"
   },
   {
    "duration": 625,
    "start_time": "2022-07-27T09:27:48.451Z"
   },
   {
    "duration": 259,
    "start_time": "2022-07-27T09:27:49.079Z"
   },
   {
    "duration": 11,
    "start_time": "2022-07-27T09:27:49.341Z"
   },
   {
    "duration": 12,
    "start_time": "2022-07-27T09:27:49.354Z"
   },
   {
    "duration": 28,
    "start_time": "2022-07-27T09:27:49.368Z"
   },
   {
    "duration": 591,
    "start_time": "2022-07-27T09:27:49.422Z"
   },
   {
    "duration": 37,
    "start_time": "2022-07-27T09:27:50.015Z"
   },
   {
    "duration": 35,
    "start_time": "2022-07-27T09:27:50.054Z"
   },
   {
    "duration": 54,
    "start_time": "2022-07-27T09:27:50.091Z"
   },
   {
    "duration": 90,
    "start_time": "2022-07-27T09:27:50.147Z"
   },
   {
    "duration": 8,
    "start_time": "2022-07-27T09:27:50.238Z"
   },
   {
    "duration": 114,
    "start_time": "2022-07-27T09:27:50.247Z"
   },
   {
    "duration": 23,
    "start_time": "2022-07-27T09:27:50.363Z"
   },
   {
    "duration": 42,
    "start_time": "2022-07-27T09:27:50.388Z"
   },
   {
    "duration": 1117,
    "start_time": "2022-07-27T09:27:50.431Z"
   },
   {
    "duration": 22,
    "start_time": "2022-07-27T09:27:51.550Z"
   },
   {
    "duration": 307,
    "start_time": "2022-07-27T09:27:51.573Z"
   },
   {
    "duration": 56,
    "start_time": "2022-07-27T09:27:51.882Z"
   },
   {
    "duration": 93,
    "start_time": "2022-07-27T09:27:51.940Z"
   },
   {
    "duration": 7,
    "start_time": "2022-07-27T09:27:52.035Z"
   },
   {
    "duration": 15,
    "start_time": "2022-07-27T09:27:52.044Z"
   },
   {
    "duration": 78,
    "start_time": "2022-07-27T09:27:52.061Z"
   },
   {
    "duration": 18,
    "start_time": "2022-07-27T09:27:52.141Z"
   },
   {
    "duration": 19,
    "start_time": "2022-07-27T09:27:52.160Z"
   },
   {
    "duration": 3403,
    "start_time": "2022-07-27T14:47:44.987Z"
   },
   {
    "duration": 1485,
    "start_time": "2022-07-27T14:47:48.392Z"
   },
   {
    "duration": 1010,
    "start_time": "2022-07-27T14:47:49.879Z"
   },
   {
    "duration": 6,
    "start_time": "2022-07-27T14:47:50.891Z"
   },
   {
    "duration": 50,
    "start_time": "2022-07-27T14:47:50.898Z"
   },
   {
    "duration": 17,
    "start_time": "2022-07-27T14:47:50.951Z"
   },
   {
    "duration": 171,
    "start_time": "2022-07-27T14:47:50.970Z"
   },
   {
    "duration": 84,
    "start_time": "2022-07-27T14:47:51.143Z"
   },
   {
    "duration": 24,
    "start_time": "2022-07-27T14:47:51.229Z"
   },
   {
    "duration": 25,
    "start_time": "2022-07-27T14:47:51.257Z"
   },
   {
    "duration": 1103,
    "start_time": "2022-07-27T14:47:51.284Z"
   },
   {
    "duration": 50,
    "start_time": "2022-07-27T14:47:52.389Z"
   },
   {
    "duration": 122,
    "start_time": "2022-07-27T14:47:52.441Z"
   },
   {
    "duration": 101,
    "start_time": "2022-07-27T14:47:52.565Z"
   },
   {
    "duration": 85,
    "start_time": "2022-07-27T14:47:52.668Z"
   },
   {
    "duration": 15,
    "start_time": "2022-07-27T14:47:52.755Z"
   },
   {
    "duration": 19,
    "start_time": "2022-07-27T14:47:52.772Z"
   },
   {
    "duration": 16,
    "start_time": "2022-07-27T14:47:52.794Z"
   },
   {
    "duration": 15,
    "start_time": "2022-07-27T14:47:52.833Z"
   },
   {
    "duration": 114,
    "start_time": "2022-07-27T14:47:52.850Z"
   },
   {
    "duration": 11,
    "start_time": "2022-07-27T14:47:52.965Z"
   },
   {
    "duration": 335,
    "start_time": "2022-07-27T14:47:52.977Z"
   },
   {
    "duration": 24,
    "start_time": "2022-07-27T14:47:53.314Z"
   },
   {
    "duration": 28,
    "start_time": "2022-07-27T14:47:53.339Z"
   },
   {
    "duration": 13,
    "start_time": "2022-07-27T14:47:53.369Z"
   },
   {
    "duration": 610,
    "start_time": "2022-07-27T14:47:53.384Z"
   },
   {
    "duration": 206,
    "start_time": "2022-07-27T14:47:53.996Z"
   },
   {
    "duration": 10,
    "start_time": "2022-07-27T14:47:54.206Z"
   },
   {
    "duration": 38,
    "start_time": "2022-07-27T14:47:54.218Z"
   },
   {
    "duration": 33,
    "start_time": "2022-07-27T14:47:54.259Z"
   },
   {
    "duration": 527,
    "start_time": "2022-07-27T14:47:54.294Z"
   },
   {
    "duration": 33,
    "start_time": "2022-07-27T14:47:54.823Z"
   },
   {
    "duration": 35,
    "start_time": "2022-07-27T14:47:54.857Z"
   },
   {
    "duration": 98,
    "start_time": "2022-07-27T14:47:54.893Z"
   },
   {
    "duration": 75,
    "start_time": "2022-07-27T14:47:54.993Z"
   },
   {
    "duration": 7,
    "start_time": "2022-07-27T14:47:55.070Z"
   },
   {
    "duration": 126,
    "start_time": "2022-07-27T14:47:55.079Z"
   },
   {
    "duration": 39,
    "start_time": "2022-07-27T14:47:55.207Z"
   },
   {
    "duration": 19,
    "start_time": "2022-07-27T14:47:55.248Z"
   },
   {
    "duration": 1058,
    "start_time": "2022-07-27T14:47:55.269Z"
   },
   {
    "duration": 26,
    "start_time": "2022-07-27T14:47:56.333Z"
   },
   {
    "duration": 334,
    "start_time": "2022-07-27T14:47:56.360Z"
   },
   {
    "duration": 56,
    "start_time": "2022-07-27T14:47:56.696Z"
   },
   {
    "duration": 100,
    "start_time": "2022-07-27T14:47:56.755Z"
   },
   {
    "duration": 5,
    "start_time": "2022-07-27T14:47:56.858Z"
   },
   {
    "duration": 18,
    "start_time": "2022-07-27T14:47:56.865Z"
   },
   {
    "duration": 60,
    "start_time": "2022-07-27T14:47:56.885Z"
   },
   {
    "duration": 26,
    "start_time": "2022-07-27T14:47:56.947Z"
   },
   {
    "duration": 11,
    "start_time": "2022-07-27T14:47:56.974Z"
   },
   {
    "duration": 76,
    "start_time": "2022-07-27T15:22:04.323Z"
   }
  ],
  "kernelspec": {
   "display_name": "Python 3 (ipykernel)",
   "language": "python",
   "name": "python3"
  },
  "language_info": {
   "codemirror_mode": {
    "name": "ipython",
    "version": 3
   },
   "file_extension": ".py",
   "mimetype": "text/x-python",
   "name": "python",
   "nbconvert_exporter": "python",
   "pygments_lexer": "ipython3",
   "version": "3.9.13"
  },
  "toc": {
   "base_numbering": 1,
   "nav_menu": {},
   "number_sections": true,
   "sideBar": true,
   "skip_h1_title": true,
   "title_cell": "Содержание",
   "title_sidebar": "Contents",
   "toc_cell": true,
   "toc_position": {
    "height": "calc(100% - 180px)",
    "left": "10px",
    "top": "150px",
    "width": "408.987px"
   },
   "toc_section_display": true,
   "toc_window_display": false
  }
 },
 "nbformat": 4,
 "nbformat_minor": 4
}
